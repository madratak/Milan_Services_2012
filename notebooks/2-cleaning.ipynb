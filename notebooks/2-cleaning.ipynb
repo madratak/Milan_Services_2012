{
 "cells": [
  {
   "cell_type": "markdown",
   "id": "ee61db7c",
   "metadata": {
    "papermill": {
     "duration": 0.017276,
     "end_time": "2025-01-18T15:59:48.555097",
     "exception": false,
     "start_time": "2025-01-18T15:59:48.537821",
     "status": "completed"
    },
    "tags": []
   },
   "source": [
    "# 2. Data Cleaning\n",
    "**Group Project for DATA INFORMATION AND QUALITY (2024-2025) <br>**\n",
    "Analysis of Milan Personal Services - Database 12 <br>\n",
    "Mauro Orazio Drago, Dennis Pierantozzi, Davide Morelli\n",
    "\n",
    "The project focuses on performing *data cleaning* tasks on the dirty dataset to create a final cleaned dataset."
   ]
  },
  {
   "cell_type": "markdown",
   "id": "db930efa",
   "metadata": {
    "papermill": {
     "duration": 0.015443,
     "end_time": "2025-01-18T15:59:48.587001",
     "exception": false,
     "start_time": "2025-01-18T15:59:48.571558",
     "status": "completed"
    },
    "tags": []
   },
   "source": [
    "### Import the repository from GitHub\n",
    "\n",
    "First of all we start by importing the repository that we stored in the github project."
   ]
  },
  {
   "cell_type": "code",
   "execution_count": 1,
   "id": "cf585d52",
   "metadata": {
    "execution": {
     "iopub.execute_input": "2025-01-18T15:59:48.621435Z",
     "iopub.status.busy": "2025-01-18T15:59:48.620942Z",
     "iopub.status.idle": "2025-01-18T15:59:48.821505Z",
     "shell.execute_reply": "2025-01-18T15:59:48.820238Z"
    },
    "papermill": {
     "duration": 0.220336,
     "end_time": "2025-01-18T15:59:48.823982",
     "exception": false,
     "start_time": "2025-01-18T15:59:48.603646",
     "status": "completed"
    },
    "tags": []
   },
   "outputs": [],
   "source": [
    "from kaggle_secrets import UserSecretsClient\n",
    "user_secrets = UserSecretsClient()\n",
    "secret_value_1 = user_secrets.get_secret(\"NEW_GITHUB_TOKEN\")"
   ]
  },
  {
   "cell_type": "code",
   "execution_count": 2,
   "id": "915a62f0",
   "metadata": {
    "execution": {
     "iopub.execute_input": "2025-01-18T15:59:48.858161Z",
     "iopub.status.busy": "2025-01-18T15:59:48.857704Z",
     "iopub.status.idle": "2025-01-18T15:59:50.369289Z",
     "shell.execute_reply": "2025-01-18T15:59:50.367718Z"
    },
    "papermill": {
     "duration": 1.530871,
     "end_time": "2025-01-18T15:59:50.371758",
     "exception": false,
     "start_time": "2025-01-18T15:59:48.840887",
     "status": "completed"
    },
    "tags": []
   },
   "outputs": [
    {
     "name": "stdout",
     "output_type": "stream",
     "text": [
      "Cloning into 'Milan_Services_2012'...\r\n",
      "remote: Enumerating objects: 185, done.\u001b[K\r\n",
      "remote: Counting objects: 100% (2/2), done.\u001b[K\r\n",
      "remote: Compressing objects: 100% (2/2), done.\u001b[K\r\n",
      "remote: Total 185 (delta 0), reused 0 (delta 0), pack-reused 183 (from 1)\u001b[K\r\n",
      "Receiving objects: 100% (185/185), 4.97 MiB | 16.54 MiB/s, done.\r\n",
      "Resolving deltas: 100% (82/82), done.\r\n"
     ]
    }
   ],
   "source": [
    "token = UserSecretsClient().get_secret(\"NEW_GITHUB_TOKEN\")\n",
    "! git clone https://{token}@github.com/madratak/Milan_Services_2012.git"
   ]
  },
  {
   "cell_type": "markdown",
   "id": "a27e4f06",
   "metadata": {
    "papermill": {
     "duration": 0.015757,
     "end_time": "2025-01-18T15:59:50.403505",
     "exception": false,
     "start_time": "2025-01-18T15:59:50.387748",
     "status": "completed"
    },
    "tags": []
   },
   "source": [
    "### Set up the dataset\n",
    "\n",
    "At this point we can proceed by importing the correct libraries and then importing the data itself inside our notebook."
   ]
  },
  {
   "cell_type": "code",
   "execution_count": 3,
   "id": "182d296b",
   "metadata": {
    "execution": {
     "iopub.execute_input": "2025-01-18T15:59:50.439453Z",
     "iopub.status.busy": "2025-01-18T15:59:50.438969Z",
     "iopub.status.idle": "2025-01-18T15:59:59.482093Z",
     "shell.execute_reply": "2025-01-18T15:59:59.480835Z"
    },
    "papermill": {
     "duration": 9.063427,
     "end_time": "2025-01-18T15:59:59.484311",
     "exception": false,
     "start_time": "2025-01-18T15:59:50.420884",
     "status": "completed"
    },
    "tags": []
   },
   "outputs": [
    {
     "name": "stdout",
     "output_type": "stream",
     "text": [
      "Collecting rapidfuzz\r\n",
      "  Downloading rapidfuzz-3.11.0-cp310-cp310-manylinux_2_17_x86_64.manylinux2014_x86_64.whl.metadata (11 kB)\r\n",
      "Downloading rapidfuzz-3.11.0-cp310-cp310-manylinux_2_17_x86_64.manylinux2014_x86_64.whl (3.1 MB)\r\n",
      "\u001b[2K   \u001b[90m━━━━━━━━━━━━━━━━━━━━━━━━━━━━━━━━━━━━━━━━\u001b[0m \u001b[32m3.1/3.1 MB\u001b[0m \u001b[31m36.5 MB/s\u001b[0m eta \u001b[36m0:00:00\u001b[0m\r\n",
      "\u001b[?25hInstalling collected packages: rapidfuzz\r\n",
      "Successfully installed rapidfuzz-3.11.0\r\n"
     ]
    }
   ],
   "source": [
    "# to compute the edit distance\n",
    "!pip install rapidfuzz "
   ]
  },
  {
   "cell_type": "code",
   "execution_count": 4,
   "id": "31227b0f",
   "metadata": {
    "execution": {
     "iopub.execute_input": "2025-01-18T15:59:59.518563Z",
     "iopub.status.busy": "2025-01-18T15:59:59.518139Z",
     "iopub.status.idle": "2025-01-18T16:00:02.442534Z",
     "shell.execute_reply": "2025-01-18T16:00:02.441291Z"
    },
    "papermill": {
     "duration": 2.944361,
     "end_time": "2025-01-18T16:00:02.444946",
     "exception": false,
     "start_time": "2025-01-18T15:59:59.500585",
     "status": "completed"
    },
    "tags": []
   },
   "outputs": [],
   "source": [
    "import pandas as pd\n",
    "import numpy as np\n",
    "from datetime import datetime\n",
    "import os\n",
    "import re\n",
    "from rapidfuzz import fuzz\n",
    "from tqdm import tqdm\n",
    "from sklearn.feature_extraction.text import CountVectorizer\n",
    "from scipy.spatial.distance import jaccard\n",
    "\n",
    "# Set max column width to None to display full content\n",
    "pd.set_option('display.max_colwidth', None)"
   ]
  },
  {
   "cell_type": "code",
   "execution_count": 5,
   "id": "edf4d477",
   "metadata": {
    "execution": {
     "iopub.execute_input": "2025-01-18T16:00:02.482383Z",
     "iopub.status.busy": "2025-01-18T16:00:02.481728Z",
     "iopub.status.idle": "2025-01-18T16:00:02.490798Z",
     "shell.execute_reply": "2025-01-18T16:00:02.489376Z"
    },
    "papermill": {
     "duration": 0.0293,
     "end_time": "2025-01-18T16:00:02.492704",
     "exception": false,
     "start_time": "2025-01-18T16:00:02.463404",
     "status": "completed"
    },
    "tags": []
   },
   "outputs": [
    {
     "name": "stdout",
     "output_type": "stream",
     "text": [
      "/kaggle/working/Milan_Services_2012\n"
     ]
    }
   ],
   "source": [
    "%cd Milan_Services_2012"
   ]
  },
  {
   "cell_type": "code",
   "execution_count": 6,
   "id": "73f95540",
   "metadata": {
    "execution": {
     "iopub.execute_input": "2025-01-18T16:00:02.528431Z",
     "iopub.status.busy": "2025-01-18T16:00:02.527965Z",
     "iopub.status.idle": "2025-01-18T16:00:02.589316Z",
     "shell.execute_reply": "2025-01-18T16:00:02.587736Z"
    },
    "papermill": {
     "duration": 0.081896,
     "end_time": "2025-01-18T16:00:02.591602",
     "exception": false,
     "start_time": "2025-01-18T16:00:02.509706",
     "status": "completed"
    },
    "tags": []
   },
   "outputs": [
    {
     "data": {
      "text/html": [
       "<div>\n",
       "<style scoped>\n",
       "    .dataframe tbody tr th:only-of-type {\n",
       "        vertical-align: middle;\n",
       "    }\n",
       "\n",
       "    .dataframe tbody tr th {\n",
       "        vertical-align: top;\n",
       "    }\n",
       "\n",
       "    .dataframe thead th {\n",
       "        text-align: right;\n",
       "    }\n",
       "</style>\n",
       "<table border=\"1\" class=\"dataframe\">\n",
       "  <thead>\n",
       "    <tr style=\"text-align: right;\">\n",
       "      <th></th>\n",
       "      <th>Tipo esercizio pa</th>\n",
       "      <th>Ubicazione</th>\n",
       "      <th>Tipo via</th>\n",
       "      <th>Via</th>\n",
       "      <th>Civico</th>\n",
       "      <th>Codice via</th>\n",
       "      <th>ZD</th>\n",
       "      <th>Prevalente</th>\n",
       "      <th>Superficie altri usi</th>\n",
       "      <th>Superficie lavorativa</th>\n",
       "    </tr>\n",
       "  </thead>\n",
       "  <tbody>\n",
       "    <tr>\n",
       "      <th>0</th>\n",
       "      <td>NaN</td>\n",
       "      <td>LGO DEI GELSOMINI N. 10 (z.d. 6)</td>\n",
       "      <td>LGO</td>\n",
       "      <td>DEI GELSOMINI</td>\n",
       "      <td>10</td>\n",
       "      <td>5394.0</td>\n",
       "      <td>6</td>\n",
       "      <td>NaN</td>\n",
       "      <td>NaN</td>\n",
       "      <td>55.0</td>\n",
       "    </tr>\n",
       "    <tr>\n",
       "      <th>1</th>\n",
       "      <td>NaN</td>\n",
       "      <td>PZA FIDIA N. 3 (z.d. 9)</td>\n",
       "      <td>PZA</td>\n",
       "      <td>FIDIA</td>\n",
       "      <td>3</td>\n",
       "      <td>1144.0</td>\n",
       "      <td>9</td>\n",
       "      <td>CENTRO MASSAGGI RILASSANTI NON ESTETICI</td>\n",
       "      <td>2.0</td>\n",
       "      <td>28.0</td>\n",
       "    </tr>\n",
       "    <tr>\n",
       "      <th>2</th>\n",
       "      <td>NaN</td>\n",
       "      <td>VIA ADIGE N. 10 (z.d. 5)</td>\n",
       "      <td>VIA</td>\n",
       "      <td>ADIGE</td>\n",
       "      <td>10</td>\n",
       "      <td>4216.0</td>\n",
       "      <td>5</td>\n",
       "      <td>CENTRO BENESSERE</td>\n",
       "      <td>2.0</td>\n",
       "      <td>27.0</td>\n",
       "    </tr>\n",
       "    <tr>\n",
       "      <th>3</th>\n",
       "      <td>NaN</td>\n",
       "      <td>VIA BARACCHINI FLAVIO N. 9 (z.d. 1)</td>\n",
       "      <td>VIA</td>\n",
       "      <td>BARACCHINI FLAVIO</td>\n",
       "      <td>9</td>\n",
       "      <td>356.0</td>\n",
       "      <td>1</td>\n",
       "      <td>TRUCCO SEMIPERMANENTE</td>\n",
       "      <td>NaN</td>\n",
       "      <td>NaN</td>\n",
       "    </tr>\n",
       "    <tr>\n",
       "      <th>4</th>\n",
       "      <td>NaN</td>\n",
       "      <td>VIA BERGAMO N. 12 (z.d. 4)</td>\n",
       "      <td>VIA</td>\n",
       "      <td>BERGAMO</td>\n",
       "      <td>12</td>\n",
       "      <td>3189.0</td>\n",
       "      <td>4</td>\n",
       "      <td>NaN</td>\n",
       "      <td>NaN</td>\n",
       "      <td>50.0</td>\n",
       "    </tr>\n",
       "  </tbody>\n",
       "</table>\n",
       "</div>"
      ],
      "text/plain": [
       "  Tipo esercizio pa                           Ubicazione Tipo via  \\\n",
       "0               NaN     LGO DEI GELSOMINI N. 10 (z.d. 6)      LGO   \n",
       "1               NaN              PZA FIDIA N. 3 (z.d. 9)      PZA   \n",
       "2               NaN             VIA ADIGE N. 10 (z.d. 5)      VIA   \n",
       "3               NaN  VIA BARACCHINI FLAVIO N. 9 (z.d. 1)      VIA   \n",
       "4               NaN           VIA BERGAMO N. 12 (z.d. 4)      VIA   \n",
       "\n",
       "                 Via Civico Codice via ZD  \\\n",
       "0      DEI GELSOMINI     10     5394.0  6   \n",
       "1              FIDIA      3     1144.0  9   \n",
       "2              ADIGE     10     4216.0  5   \n",
       "3  BARACCHINI FLAVIO      9      356.0  1   \n",
       "4            BERGAMO     12     3189.0  4   \n",
       "\n",
       "                                Prevalente  Superficie altri usi  \\\n",
       "0                                      NaN                   NaN   \n",
       "1  CENTRO MASSAGGI RILASSANTI NON ESTETICI                   2.0   \n",
       "2                         CENTRO BENESSERE                   2.0   \n",
       "3                    TRUCCO SEMIPERMANENTE                   NaN   \n",
       "4                                      NaN                   NaN   \n",
       "\n",
       "   Superficie lavorativa  \n",
       "0                   55.0  \n",
       "1                   28.0  \n",
       "2                   27.0  \n",
       "3                    NaN  \n",
       "4                   50.0  "
      ]
     },
     "execution_count": 6,
     "metadata": {},
     "output_type": "execute_result"
    }
   ],
   "source": [
    "SERVICES = pd.read_csv('data/raw/Comune-di-Milano-Servizi-alla-persona-parrucchieri-estetisti.csv',sep=';',encoding='unicode_escape')\n",
    "SERVICES[\"Codice via\"] = SERVICES[\"Codice via\"].fillna(\"\").astype(str)\n",
    "SERVICES.head()"
   ]
  },
  {
   "cell_type": "markdown",
   "id": "0e08873b",
   "metadata": {
    "papermill": {
     "duration": 0.016935,
     "end_time": "2025-01-18T16:00:02.626672",
     "exception": false,
     "start_time": "2025-01-18T16:00:02.609737",
     "status": "completed"
    },
    "tags": []
   },
   "source": [
    "### Import external dataset\n",
    "During the data cleaning stage, external are used to fix irregular values, among these we have"
   ]
  },
  {
   "cell_type": "code",
   "execution_count": 7,
   "id": "e4c4962d",
   "metadata": {
    "execution": {
     "iopub.execute_input": "2025-01-18T16:00:02.663045Z",
     "iopub.status.busy": "2025-01-18T16:00:02.662590Z",
     "iopub.status.idle": "2025-01-18T16:00:03.573731Z",
     "shell.execute_reply": "2025-01-18T16:00:03.572416Z"
    },
    "papermill": {
     "duration": 0.931722,
     "end_time": "2025-01-18T16:00:03.575754",
     "exception": false,
     "start_time": "2025-01-18T16:00:02.644032",
     "status": "completed"
    },
    "tags": []
   },
   "outputs": [],
   "source": [
    "viario = pd.read_csv('data/external/VIARIO_20241104.csv',sep=';',encoding='unicode_escape')\n",
    "viario = viario.astype(str)\n",
    "\n",
    "centroidi = pd.read_csv('data/external/CENTROIDI_20241104.csv',sep=';',encoding='unicode_escape')\n",
    "centroidi = centroidi.astype(str)\n",
    "\n",
    "\n",
    "tipovia = pd.read_csv('data/external/TIPOVIA.csv',sep=';',encoding='unicode_escape')\n",
    "viario_centroidi = viario.merge(centroidi, on='CODICE_VIA', how='left')\n",
    "\n",
    "civici = pd.read_csv('data/external/CiviciCdMI.csv',sep=';',encoding='unicode_escape')\n",
    "civici = civici.astype(str)"
   ]
  },
  {
   "cell_type": "markdown",
   "id": "797ba4cf",
   "metadata": {
    "papermill": {
     "duration": 0.019309,
     "end_time": "2025-01-18T16:00:03.612079",
     "exception": false,
     "start_time": "2025-01-18T16:00:03.592770",
     "status": "completed"
    },
    "tags": []
   },
   "source": [
    "## Wrangling \n",
    "\n",
    "This script focuses on renaming the columns of the `SERVICES` dataset to shorter, more convenient names.  \n",
    "\n",
    "The original DataFrame is modified in place, and a copy of the updated dataset, named `new_SERVICES`, is created for further analysis or processing.  \n",
    "\n",
    "We pass from:\n",
    "\n",
    "| Tipo esercizio pa     | Ubicazione     | Tipo via | Via      | Civico | Codice via | ZD | Prevalente | Superficie altri usi | Superficie lavorativa |\n",
    "|-------|-------|------|-------|-----|-----|---------|----|---------|---------|\n",
    "\n",
    "to:\n",
    "\n",
    "\n",
    "| t_es  | ubic | t_via | via | civ | cod_via | zd | main | sup_alt | sup_lav | \n",
    "|-------|------|-------|-----|-----|---------|----|------|---------|---------|\n"
   ]
  },
  {
   "cell_type": "code",
   "execution_count": 8,
   "id": "f26499ef",
   "metadata": {
    "execution": {
     "iopub.execute_input": "2025-01-18T16:00:03.647220Z",
     "iopub.status.busy": "2025-01-18T16:00:03.646806Z",
     "iopub.status.idle": "2025-01-18T16:00:03.664470Z",
     "shell.execute_reply": "2025-01-18T16:00:03.663267Z"
    },
    "papermill": {
     "duration": 0.037463,
     "end_time": "2025-01-18T16:00:03.666597",
     "exception": false,
     "start_time": "2025-01-18T16:00:03.629134",
     "status": "completed"
    },
    "tags": []
   },
   "outputs": [
    {
     "data": {
      "text/html": [
       "<div>\n",
       "<style scoped>\n",
       "    .dataframe tbody tr th:only-of-type {\n",
       "        vertical-align: middle;\n",
       "    }\n",
       "\n",
       "    .dataframe tbody tr th {\n",
       "        vertical-align: top;\n",
       "    }\n",
       "\n",
       "    .dataframe thead th {\n",
       "        text-align: right;\n",
       "    }\n",
       "</style>\n",
       "<table border=\"1\" class=\"dataframe\">\n",
       "  <thead>\n",
       "    <tr style=\"text-align: right;\">\n",
       "      <th></th>\n",
       "      <th>t_es</th>\n",
       "      <th>ubic</th>\n",
       "      <th>t_via</th>\n",
       "      <th>via</th>\n",
       "      <th>civ</th>\n",
       "      <th>cod_via</th>\n",
       "      <th>zd</th>\n",
       "      <th>main</th>\n",
       "      <th>sup_alt</th>\n",
       "      <th>sup_lav</th>\n",
       "    </tr>\n",
       "  </thead>\n",
       "  <tbody>\n",
       "    <tr>\n",
       "      <th>0</th>\n",
       "      <td>NaN</td>\n",
       "      <td>LGO DEI GELSOMINI N. 10 (z.d. 6)</td>\n",
       "      <td>LGO</td>\n",
       "      <td>DEI GELSOMINI</td>\n",
       "      <td>10</td>\n",
       "      <td>5394.0</td>\n",
       "      <td>6</td>\n",
       "      <td>NaN</td>\n",
       "      <td>NaN</td>\n",
       "      <td>55.0</td>\n",
       "    </tr>\n",
       "    <tr>\n",
       "      <th>1</th>\n",
       "      <td>NaN</td>\n",
       "      <td>PZA FIDIA N. 3 (z.d. 9)</td>\n",
       "      <td>PZA</td>\n",
       "      <td>FIDIA</td>\n",
       "      <td>3</td>\n",
       "      <td>1144.0</td>\n",
       "      <td>9</td>\n",
       "      <td>CENTRO MASSAGGI RILASSANTI NON ESTETICI</td>\n",
       "      <td>2.0</td>\n",
       "      <td>28.0</td>\n",
       "    </tr>\n",
       "    <tr>\n",
       "      <th>2</th>\n",
       "      <td>NaN</td>\n",
       "      <td>VIA ADIGE N. 10 (z.d. 5)</td>\n",
       "      <td>VIA</td>\n",
       "      <td>ADIGE</td>\n",
       "      <td>10</td>\n",
       "      <td>4216.0</td>\n",
       "      <td>5</td>\n",
       "      <td>CENTRO BENESSERE</td>\n",
       "      <td>2.0</td>\n",
       "      <td>27.0</td>\n",
       "    </tr>\n",
       "    <tr>\n",
       "      <th>3</th>\n",
       "      <td>NaN</td>\n",
       "      <td>VIA BARACCHINI FLAVIO N. 9 (z.d. 1)</td>\n",
       "      <td>VIA</td>\n",
       "      <td>BARACCHINI FLAVIO</td>\n",
       "      <td>9</td>\n",
       "      <td>356.0</td>\n",
       "      <td>1</td>\n",
       "      <td>TRUCCO SEMIPERMANENTE</td>\n",
       "      <td>NaN</td>\n",
       "      <td>NaN</td>\n",
       "    </tr>\n",
       "    <tr>\n",
       "      <th>4</th>\n",
       "      <td>NaN</td>\n",
       "      <td>VIA BERGAMO N. 12 (z.d. 4)</td>\n",
       "      <td>VIA</td>\n",
       "      <td>BERGAMO</td>\n",
       "      <td>12</td>\n",
       "      <td>3189.0</td>\n",
       "      <td>4</td>\n",
       "      <td>NaN</td>\n",
       "      <td>NaN</td>\n",
       "      <td>50.0</td>\n",
       "    </tr>\n",
       "  </tbody>\n",
       "</table>\n",
       "</div>"
      ],
      "text/plain": [
       "  t_es                                 ubic t_via                via civ  \\\n",
       "0  NaN     LGO DEI GELSOMINI N. 10 (z.d. 6)   LGO      DEI GELSOMINI  10   \n",
       "1  NaN              PZA FIDIA N. 3 (z.d. 9)   PZA              FIDIA   3   \n",
       "2  NaN             VIA ADIGE N. 10 (z.d. 5)   VIA              ADIGE  10   \n",
       "3  NaN  VIA BARACCHINI FLAVIO N. 9 (z.d. 1)   VIA  BARACCHINI FLAVIO   9   \n",
       "4  NaN           VIA BERGAMO N. 12 (z.d. 4)   VIA            BERGAMO  12   \n",
       "\n",
       "  cod_via zd                                     main  sup_alt  sup_lav  \n",
       "0  5394.0  6                                      NaN      NaN     55.0  \n",
       "1  1144.0  9  CENTRO MASSAGGI RILASSANTI NON ESTETICI      2.0     28.0  \n",
       "2  4216.0  5                         CENTRO BENESSERE      2.0     27.0  \n",
       "3   356.0  1                    TRUCCO SEMIPERMANENTE      NaN      NaN  \n",
       "4  3189.0  4                                      NaN      NaN     50.0  "
      ]
     },
     "execution_count": 8,
     "metadata": {},
     "output_type": "execute_result"
    }
   ],
   "source": [
    "new_SERVICES = SERVICES.copy()\n",
    "\n",
    "new_SERVICES = new_SERVICES.rename(columns={\n",
    "    'Tipo esercizio pa': 't_es',\n",
    "    'Ubicazione': 'ubic',\n",
    "    'Tipo via': 't_via',\n",
    "    'Via': 'via',\n",
    "    'Civico': 'civ',\n",
    "    'Codice via': 'cod_via',\n",
    "    'ZD': 'zd',\n",
    "    'Prevalente': 'main',\n",
    "    'Superficie altri usi': 'sup_alt',\n",
    "    'Superficie lavorativa': 'sup_lav'\n",
    "})\n",
    "\n",
    "new_SERVICES.head()"
   ]
  },
  {
   "cell_type": "markdown",
   "id": "8c64fcc1",
   "metadata": {
    "papermill": {
     "duration": 0.019525,
     "end_time": "2025-01-18T16:00:03.706392",
     "exception": false,
     "start_time": "2025-01-18T16:00:03.686867",
     "status": "completed"
    },
    "tags": []
   },
   "source": [
    "## Transformation\n",
    "### ZD: Removing data representing different information\n",
    "\n",
    "This script processes the `zd` column in the `SERVICES` dataset. The column initially contains a mix of numeric values, missing values (`nan`), and a single non-numeric label `'ACCONCIATORE'`.  \n",
    "\n",
    "**Goal**: to filter out or modify rows where `zd` contains irrelevant or inconsistent information (e.g., `'ACCONCIATORE'`) to ensure that only meaningful numeric data is retained for analysis."
   ]
  },
  {
   "cell_type": "code",
   "execution_count": 9,
   "id": "fc062702",
   "metadata": {
    "execution": {
     "iopub.execute_input": "2025-01-18T16:00:03.748645Z",
     "iopub.status.busy": "2025-01-18T16:00:03.748223Z",
     "iopub.status.idle": "2025-01-18T16:00:03.757426Z",
     "shell.execute_reply": "2025-01-18T16:00:03.756094Z"
    },
    "papermill": {
     "duration": 0.03326,
     "end_time": "2025-01-18T16:00:03.759898",
     "exception": false,
     "start_time": "2025-01-18T16:00:03.726638",
     "status": "completed"
    },
    "tags": []
   },
   "outputs": [
    {
     "data": {
      "text/plain": [
       "array(['6', '9', '5', '1', '4', '2', '8', '3', nan, 'ACCONCIATORE', '7'],\n",
       "      dtype=object)"
      ]
     },
     "execution_count": 9,
     "metadata": {},
     "output_type": "execute_result"
    }
   ],
   "source": [
    "new_SERVICES.zd.unique()"
   ]
  },
  {
   "cell_type": "markdown",
   "id": "08ff16b7",
   "metadata": {
    "papermill": {
     "duration": 0.016291,
     "end_time": "2025-01-18T16:00:03.794069",
     "exception": false,
     "start_time": "2025-01-18T16:00:03.777778",
     "status": "completed"
    },
    "tags": []
   },
   "source": [
    "During the data cleaning process, we identified two consecutive rows in the `SERVICES` dataset that appear to represent the same entity but contain fragmented or overlapping information. Specifically:\n",
    "\n",
    "1. The first row (index 32) contains descriptive information about the entity, such as `'Acconciatore'` in the `t_es` column, but lacks structured data for most other fields.\n",
    "2. The second row (index 33) provides structured data for fields like `via`, `civ`, `cod_via`, and `zd`, but the `t_es` column contains a reference to `'ACCONCIATORE'`."
   ]
  },
  {
   "cell_type": "code",
   "execution_count": 10,
   "id": "e4d44cdb",
   "metadata": {
    "execution": {
     "iopub.execute_input": "2025-01-18T16:00:03.830001Z",
     "iopub.status.busy": "2025-01-18T16:00:03.829404Z",
     "iopub.status.idle": "2025-01-18T16:00:03.844109Z",
     "shell.execute_reply": "2025-01-18T16:00:03.842955Z"
    },
    "papermill": {
     "duration": 0.035194,
     "end_time": "2025-01-18T16:00:03.846043",
     "exception": false,
     "start_time": "2025-01-18T16:00:03.810849",
     "status": "completed"
    },
    "tags": []
   },
   "outputs": [
    {
     "data": {
      "text/html": [
       "<div>\n",
       "<style scoped>\n",
       "    .dataframe tbody tr th:only-of-type {\n",
       "        vertical-align: middle;\n",
       "    }\n",
       "\n",
       "    .dataframe tbody tr th {\n",
       "        vertical-align: top;\n",
       "    }\n",
       "\n",
       "    .dataframe thead th {\n",
       "        text-align: right;\n",
       "    }\n",
       "</style>\n",
       "<table border=\"1\" class=\"dataframe\">\n",
       "  <thead>\n",
       "    <tr style=\"text-align: right;\">\n",
       "      <th></th>\n",
       "      <th>t_es</th>\n",
       "      <th>ubic</th>\n",
       "      <th>t_via</th>\n",
       "      <th>via</th>\n",
       "      <th>civ</th>\n",
       "      <th>cod_via</th>\n",
       "      <th>zd</th>\n",
       "      <th>main</th>\n",
       "      <th>sup_alt</th>\n",
       "      <th>sup_lav</th>\n",
       "    </tr>\n",
       "  </thead>\n",
       "  <tbody>\n",
       "    <tr>\n",
       "      <th>32</th>\n",
       "      <td>Acconciatore</td>\n",
       "      <td>CSO COMO N. 15 interno club f. conti</td>\n",
       "      <td>NaN</td>\n",
       "      <td>NaN</td>\n",
       "      <td>NaN</td>\n",
       "      <td></td>\n",
       "      <td>NaN</td>\n",
       "      <td>NaN</td>\n",
       "      <td>NaN</td>\n",
       "      <td>NaN</td>\n",
       "    </tr>\n",
       "    <tr>\n",
       "      <th>33</th>\n",
       "      <td>(z.d. 9)</td>\n",
       "      <td>CSO</td>\n",
       "      <td>COMO</td>\n",
       "      <td>15</td>\n",
       "      <td>1111</td>\n",
       "      <td>9.0</td>\n",
       "      <td>ACCONCIATORE</td>\n",
       "      <td>NaN</td>\n",
       "      <td>195.0</td>\n",
       "      <td>NaN</td>\n",
       "    </tr>\n",
       "  </tbody>\n",
       "</table>\n",
       "</div>"
      ],
      "text/plain": [
       "            t_es                                  ubic t_via  via   civ  \\\n",
       "32  Acconciatore  CSO COMO N. 15 interno club f. conti   NaN  NaN   NaN   \n",
       "33      (z.d. 9)                                   CSO  COMO   15  1111   \n",
       "\n",
       "   cod_via            zd main  sup_alt  sup_lav  \n",
       "32                   NaN  NaN      NaN      NaN  \n",
       "33     9.0  ACCONCIATORE  NaN    195.0      NaN  "
      ]
     },
     "execution_count": 10,
     "metadata": {},
     "output_type": "execute_result"
    }
   ],
   "source": [
    "new_SERVICES.loc[32:33].head()"
   ]
  },
  {
   "attachments": {},
   "cell_type": "markdown",
   "id": "002fb5ee",
   "metadata": {
    "papermill": {
     "duration": 0.018375,
     "end_time": "2025-01-18T16:00:03.881889",
     "exception": false,
     "start_time": "2025-01-18T16:00:03.863514",
     "status": "completed"
    },
    "tags": []
   },
   "source": [
    "To standardize and improve the dataset:\n",
    "- The two rows were merged into a single entry, combining the fragmented information into a complete record. \n",
    "- This process ensures no information is lost while achieving the desired structure and format for the full dataset.\n",
    "\n",
    "##### Example:\n",
    "Before merging:\n",
    "- Row 32: `'Acconciatore', 'CSO COMO N. 15 interno club f. conti', NaN, NaN, NaN, NaN, NaN, NaN, NaN, NaN`\n",
    "- Row 33: `'(z.d. 9)', 'CSO', 'COMO', '15', '1111', '9.0', 'ACCONCIATORE', NaN, '195.0', NaN`\n",
    "\n",
    "After merging:\n",
    "- New Row: `'Acconciatore', 'CSO COMO', '15', '1111', '9.0', NaN, NaN, '195.0', Nan`"
   ]
  },
  {
   "cell_type": "code",
   "execution_count": 11,
   "id": "d2d2ec8b",
   "metadata": {
    "execution": {
     "iopub.execute_input": "2025-01-18T16:00:03.919355Z",
     "iopub.status.busy": "2025-01-18T16:00:03.918958Z",
     "iopub.status.idle": "2025-01-18T16:00:03.941327Z",
     "shell.execute_reply": "2025-01-18T16:00:03.940160Z"
    },
    "papermill": {
     "duration": 0.04459,
     "end_time": "2025-01-18T16:00:03.943278",
     "exception": false,
     "start_time": "2025-01-18T16:00:03.898688",
     "status": "completed"
    },
    "tags": []
   },
   "outputs": [
    {
     "data": {
      "text/html": [
       "<div>\n",
       "<style scoped>\n",
       "    .dataframe tbody tr th:only-of-type {\n",
       "        vertical-align: middle;\n",
       "    }\n",
       "\n",
       "    .dataframe tbody tr th {\n",
       "        vertical-align: top;\n",
       "    }\n",
       "\n",
       "    .dataframe thead th {\n",
       "        text-align: right;\n",
       "    }\n",
       "</style>\n",
       "<table border=\"1\" class=\"dataframe\">\n",
       "  <thead>\n",
       "    <tr style=\"text-align: right;\">\n",
       "      <th></th>\n",
       "      <th>t_es</th>\n",
       "      <th>ubic</th>\n",
       "      <th>t_via</th>\n",
       "      <th>via</th>\n",
       "      <th>civ</th>\n",
       "      <th>cod_via</th>\n",
       "      <th>zd</th>\n",
       "      <th>main</th>\n",
       "      <th>sup_alt</th>\n",
       "      <th>sup_lav</th>\n",
       "    </tr>\n",
       "  </thead>\n",
       "  <tbody>\n",
       "    <tr>\n",
       "      <th>32</th>\n",
       "      <td>Acconciatore</td>\n",
       "      <td>CSO COMO N. 15 (z.d. 9)</td>\n",
       "      <td>CSO</td>\n",
       "      <td>CSO COMO</td>\n",
       "      <td>15</td>\n",
       "      <td>1111.0</td>\n",
       "      <td>9</td>\n",
       "      <td>ACCONCIATORE</td>\n",
       "      <td>NaN</td>\n",
       "      <td>195.0</td>\n",
       "    </tr>\n",
       "    <tr>\n",
       "      <th>33</th>\n",
       "      <td>Acconciatore</td>\n",
       "      <td>CSO DI PORTA NUOVA N. 46 ; (z.d. 1)</td>\n",
       "      <td>CSO</td>\n",
       "      <td>DI PORTA NUOVA</td>\n",
       "      <td>46</td>\n",
       "      <td>1044.0</td>\n",
       "      <td>1</td>\n",
       "      <td>NaN</td>\n",
       "      <td>NaN</td>\n",
       "      <td>34.0</td>\n",
       "    </tr>\n",
       "  </tbody>\n",
       "</table>\n",
       "</div>"
      ],
      "text/plain": [
       "            t_es                                 ubic t_via             via  \\\n",
       "32  Acconciatore              CSO COMO N. 15 (z.d. 9)   CSO        CSO COMO   \n",
       "33  Acconciatore  CSO DI PORTA NUOVA N. 46 ; (z.d. 1)   CSO  DI PORTA NUOVA   \n",
       "\n",
       "   civ cod_via zd          main  sup_alt  sup_lav  \n",
       "32  15  1111.0  9  ACCONCIATORE      NaN    195.0  \n",
       "33  46  1044.0  1           NaN      NaN     34.0  "
      ]
     },
     "execution_count": 11,
     "metadata": {},
     "output_type": "execute_result"
    }
   ],
   "source": [
    "# New merged row\n",
    "merged_row = {\n",
    "    \"t_es\": \"Acconciatore\",\n",
    "    \"ubic\": \"CSO COMO N. 15 (z.d. 9)\",\n",
    "    \"t_via\": \"CSO\",\n",
    "    \"via\": \"CSO COMO\",\n",
    "    \"civ\": \"15\",\n",
    "    \"cod_via\": 1111.0,\n",
    "    \"zd\": \"9\",\n",
    "    \"main\": \"ACCONCIATORE\",\n",
    "    \"sup_alt\": np.nan,\n",
    "    \"sup_lav\": 195.0,\n",
    "}\n",
    "\n",
    "# Remove row at index 33 and replace row at index 32\n",
    "new_SERVICES = new_SERVICES.drop(index=33, errors='ignore')  # Drop row 33\n",
    "new_SERVICES.loc[32] = merged_row  # Add the merged row at index 32\n",
    "\n",
    "# Ensure correct row order and reset index if necessary\n",
    "new_SERVICES = new_SERVICES.sort_index().reset_index(drop=True)\n",
    "\n",
    "new_SERVICES.loc[32:33].head()"
   ]
  },
  {
   "cell_type": "markdown",
   "id": "3ae2ba69",
   "metadata": {
    "papermill": {
     "duration": 0.017137,
     "end_time": "2025-01-18T16:00:03.977978",
     "exception": false,
     "start_time": "2025-01-18T16:00:03.960841",
     "status": "completed"
    },
    "tags": []
   },
   "source": [
    "Finally, the available values in the column `zd` are:"
   ]
  },
  {
   "cell_type": "code",
   "execution_count": 12,
   "id": "7056804e",
   "metadata": {
    "execution": {
     "iopub.execute_input": "2025-01-18T16:00:04.019794Z",
     "iopub.status.busy": "2025-01-18T16:00:04.019409Z",
     "iopub.status.idle": "2025-01-18T16:00:04.030362Z",
     "shell.execute_reply": "2025-01-18T16:00:04.028594Z"
    },
    "papermill": {
     "duration": 0.036585,
     "end_time": "2025-01-18T16:00:04.033123",
     "exception": false,
     "start_time": "2025-01-18T16:00:03.996538",
     "status": "completed"
    },
    "tags": []
   },
   "outputs": [
    {
     "data": {
      "text/plain": [
       "array(['1', '2', '3', '4', '5', '6', '7', '8', '9'], dtype=object)"
      ]
     },
     "execution_count": 12,
     "metadata": {},
     "output_type": "execute_result"
    }
   ],
   "source": [
    "np.sort(new_SERVICES['zd'].unique())"
   ]
  },
  {
   "cell_type": "markdown",
   "id": "42da2838",
   "metadata": {
    "papermill": {
     "duration": 0.018836,
     "end_time": "2025-01-18T16:00:04.076719",
     "exception": false,
     "start_time": "2025-01-18T16:00:04.057883",
     "status": "completed"
    },
    "tags": []
   },
   "source": [
    "### T_ES: Label reduction\n",
    "\n",
    "The `t_es` column in the dataset contains a variety of labels that represent different categories of services. Many of these labels have similar meanings or represent variations of the same concept, leading to redundancy and potential inconsistencies in analysis.\n",
    "\n",
    "To address this, we will reduce the number of labels by grouping similar ones under a unified label, making the dataset easier to interpret and analyze while preserving the essential distinctions between categories."
   ]
  },
  {
   "cell_type": "code",
   "execution_count": 13,
   "id": "927ec66f",
   "metadata": {
    "execution": {
     "iopub.execute_input": "2025-01-18T16:00:04.115294Z",
     "iopub.status.busy": "2025-01-18T16:00:04.114887Z",
     "iopub.status.idle": "2025-01-18T16:00:04.121795Z",
     "shell.execute_reply": "2025-01-18T16:00:04.120412Z"
    },
    "papermill": {
     "duration": 0.028324,
     "end_time": "2025-01-18T16:00:04.123839",
     "exception": false,
     "start_time": "2025-01-18T16:00:04.095515",
     "status": "completed"
    },
    "tags": []
   },
   "outputs": [
    {
     "name": "stdout",
     "output_type": "stream",
     "text": [
      "The number of different label combination for 't_es' column is 103.\n"
     ]
    }
   ],
   "source": [
    "print(\"The number of different label combination for 't_es' column is {}.\".format(new_SERVICES.t_es.unique().shape[0]))"
   ]
  },
  {
   "cell_type": "code",
   "execution_count": 14,
   "id": "779626d5",
   "metadata": {
    "execution": {
     "iopub.execute_input": "2025-01-18T16:00:04.162520Z",
     "iopub.status.busy": "2025-01-18T16:00:04.162096Z",
     "iopub.status.idle": "2025-01-18T16:00:04.192832Z",
     "shell.execute_reply": "2025-01-18T16:00:04.190869Z"
    },
    "papermill": {
     "duration": 0.053309,
     "end_time": "2025-01-18T16:00:04.195734",
     "exception": false,
     "start_time": "2025-01-18T16:00:04.142425",
     "status": "completed"
    },
    "tags": []
   },
   "outputs": [
    {
     "name": "stdout",
     "output_type": "stream",
     "text": [
      "COUNTS of unique labels\n",
      "\n",
      "ACCONCIATORE                      \t 717\n",
      "Acconciatore                      \t 190\n",
      "BARBIERE                          \t   2\n",
      "Centro abbronzatura               \t   2\n",
      "Centro benessere                  \t  29\n",
      "Centro massaggi                   \t 139\n",
      "Esecuzione di tatuaggi e piercing \t   5\n",
      "Estetista                         \t  31\n",
      "Estetista in profumeria           \t   2\n",
      "Manicure                          \t   3\n",
      "Parrucchiere misto                \t 105\n",
      "Parrucchiere per signora          \t1213\n",
      "Parrucchiere per uomo             \t 518\n",
      "Pedicure estetico                 \t  22\n",
      "TIPO A - REG.2003                 \t 865\n",
      "TIPO A ESTETICA MANUALE           \t 263\n",
      "TIPO A-B-C-D                      \t  88\n",
      "TIPO B CENTRO DI ABBRONZATURA     \t 603\n",
      "TIPO C TRATT.ESTETICI DIMAGRIM    \t 138\n",
      "TIPO D ESTET.APPAR.ELETTROMECC    \t  74\n",
      "Truccatore                        \t   1\n",
      "esecuzione di tatuaggi e piercing \t  19\n"
     ]
    }
   ],
   "source": [
    "# Ensure 't_es' column does not have NaN values and is treated as strings\n",
    "new_SERVICES[\"t_es\"] = new_SERVICES[\"t_es\"].fillna(\"\").astype(str)\n",
    "\n",
    "# Split the 't_es' column by ';' and flatten the resulting lists\n",
    "flattened_labels = [label.strip() for item in new_SERVICES[\"t_es\"] for label in item.split(\";\")]\n",
    "\n",
    "# Get the unique labels and sort them\n",
    "unique_labels = sorted(set(flattened_labels))\n",
    "\n",
    "# Initialize a dictionary to store counts\n",
    "label_counts = {label: 0 for label in unique_labels}\n",
    "\n",
    "# Loop through each row in the \"t_es\" column and count the occurrences of each label\n",
    "for entry in new_SERVICES['t_es'].dropna():  # Drop NaN values to avoid errors\n",
    "    for label in unique_labels:\n",
    "        if label in entry:\n",
    "            label_counts[label] += 1\n",
    "\n",
    "print(\"COUNTS of unique labels\\n\")\n",
    "\n",
    "# Find the maximum width for labels and numbers\n",
    "max_label_length = max(len(label) for label in label_counts if label != \"\")\n",
    "max_number_length = max(len(str(count)) for count in label_counts.values())\n",
    "\n",
    "# Print the counts with aligned output\n",
    "for label, count in label_counts.items():\n",
    "    if label != \"\":\n",
    "        print(f\"{label:<{max_label_length}} \\t{count:>{max_number_length}}\")"
   ]
  },
  {
   "cell_type": "markdown",
   "id": "81e5cfce",
   "metadata": {
    "papermill": {
     "duration": 0.018509,
     "end_time": "2025-01-18T16:00:04.234384",
     "exception": false,
     "start_time": "2025-01-18T16:00:04.215875",
     "status": "completed"
    },
    "tags": []
   },
   "source": [
    "Now we transform and standardize the values in the `t_es` column of the dataset. It consists of two main steps:\n",
    "\n",
    "1. **Composite Labels Handling**: Some rows contain multiple related labels that should be split or expanded into individual categories. For example, labels like `\"TIPO A-B-C-D\"` or `\"Parrucchiere misto\"` are expanded into separate labels to ensure all relevant categories are included.\n",
    "   \n",
    "2. **Label Mapping**: After handling composite labels (e.g., splitting `\"TIPO A-B-C-D\"` into individual components), the code replaces each original label (such as `\"Centro abbronzatura\"`) with the most similar label from a predefined set using the **Jaccard** similarity measure. This step ensures that similar labels are grouped under a single, consistent label based on the highest similarity score.\n",
    "\n",
    "##### Example:\n",
    "\n",
    "Before transformation:\n",
    "- `\"TIPO A-B-C-D; Parrucchiere misto\"`\n",
    "\n",
    "After transformation:\n",
    "- `\"Tipo A - Estetica Manuale; Tipo B - Centro di Abbronzatura; Tipo C - Trattamenti Estetici Dimagrimento; Tipo D - Estetica Apparati Elettromeccanici; Parrucchiere per Uomo; Parrucchiere per Donna\"`\n",
    "\n",
    "This process ensures that the dataset contains consistent and meaningful labels, making the data easier to analyze and reducing redundancy."
   ]
  },
  {
   "cell_type": "code",
   "execution_count": 15,
   "id": "64916240",
   "metadata": {
    "execution": {
     "iopub.execute_input": "2025-01-18T16:00:04.273770Z",
     "iopub.status.busy": "2025-01-18T16:00:04.273329Z",
     "iopub.status.idle": "2025-01-18T16:00:04.430058Z",
     "shell.execute_reply": "2025-01-18T16:00:04.428093Z"
    },
    "papermill": {
     "duration": 0.178932,
     "end_time": "2025-01-18T16:00:04.432010",
     "exception": false,
     "start_time": "2025-01-18T16:00:04.253078",
     "status": "completed"
    },
    "tags": []
   },
   "outputs": [
    {
     "data": {
      "text/html": [
       "<div>\n",
       "<style scoped>\n",
       "    .dataframe tbody tr th:only-of-type {\n",
       "        vertical-align: middle;\n",
       "    }\n",
       "\n",
       "    .dataframe tbody tr th {\n",
       "        vertical-align: top;\n",
       "    }\n",
       "\n",
       "    .dataframe thead th {\n",
       "        text-align: right;\n",
       "    }\n",
       "</style>\n",
       "<table border=\"1\" class=\"dataframe\">\n",
       "  <thead>\n",
       "    <tr style=\"text-align: right;\">\n",
       "      <th></th>\n",
       "      <th>t_es</th>\n",
       "      <th>ubic</th>\n",
       "      <th>t_via</th>\n",
       "      <th>via</th>\n",
       "      <th>civ</th>\n",
       "      <th>cod_via</th>\n",
       "      <th>zd</th>\n",
       "      <th>main</th>\n",
       "      <th>sup_alt</th>\n",
       "      <th>sup_lav</th>\n",
       "    </tr>\n",
       "  </thead>\n",
       "  <tbody>\n",
       "    <tr>\n",
       "      <th>0</th>\n",
       "      <td></td>\n",
       "      <td>LGO DEI GELSOMINI N. 10 (z.d. 6)</td>\n",
       "      <td>LGO</td>\n",
       "      <td>DEI GELSOMINI</td>\n",
       "      <td>10</td>\n",
       "      <td>5394.0</td>\n",
       "      <td>6</td>\n",
       "      <td>NaN</td>\n",
       "      <td>NaN</td>\n",
       "      <td>55.0</td>\n",
       "    </tr>\n",
       "    <tr>\n",
       "      <th>1</th>\n",
       "      <td></td>\n",
       "      <td>PZA FIDIA N. 3 (z.d. 9)</td>\n",
       "      <td>PZA</td>\n",
       "      <td>FIDIA</td>\n",
       "      <td>3</td>\n",
       "      <td>1144.0</td>\n",
       "      <td>9</td>\n",
       "      <td>CENTRO MASSAGGI RILASSANTI NON ESTETICI</td>\n",
       "      <td>2.0</td>\n",
       "      <td>28.0</td>\n",
       "    </tr>\n",
       "    <tr>\n",
       "      <th>2</th>\n",
       "      <td></td>\n",
       "      <td>VIA ADIGE N. 10 (z.d. 5)</td>\n",
       "      <td>VIA</td>\n",
       "      <td>ADIGE</td>\n",
       "      <td>10</td>\n",
       "      <td>4216.0</td>\n",
       "      <td>5</td>\n",
       "      <td>CENTRO BENESSERE</td>\n",
       "      <td>2.0</td>\n",
       "      <td>27.0</td>\n",
       "    </tr>\n",
       "    <tr>\n",
       "      <th>3</th>\n",
       "      <td></td>\n",
       "      <td>VIA BARACCHINI FLAVIO N. 9 (z.d. 1)</td>\n",
       "      <td>VIA</td>\n",
       "      <td>BARACCHINI FLAVIO</td>\n",
       "      <td>9</td>\n",
       "      <td>356.0</td>\n",
       "      <td>1</td>\n",
       "      <td>TRUCCO SEMIPERMANENTE</td>\n",
       "      <td>NaN</td>\n",
       "      <td>NaN</td>\n",
       "    </tr>\n",
       "    <tr>\n",
       "      <th>4</th>\n",
       "      <td></td>\n",
       "      <td>VIA BERGAMO N. 12 (z.d. 4)</td>\n",
       "      <td>VIA</td>\n",
       "      <td>BERGAMO</td>\n",
       "      <td>12</td>\n",
       "      <td>3189.0</td>\n",
       "      <td>4</td>\n",
       "      <td>NaN</td>\n",
       "      <td>NaN</td>\n",
       "      <td>50.0</td>\n",
       "    </tr>\n",
       "  </tbody>\n",
       "</table>\n",
       "</div>"
      ],
      "text/plain": [
       "  t_es                                 ubic t_via                via civ  \\\n",
       "0          LGO DEI GELSOMINI N. 10 (z.d. 6)   LGO      DEI GELSOMINI  10   \n",
       "1                   PZA FIDIA N. 3 (z.d. 9)   PZA              FIDIA   3   \n",
       "2                  VIA ADIGE N. 10 (z.d. 5)   VIA              ADIGE  10   \n",
       "3       VIA BARACCHINI FLAVIO N. 9 (z.d. 1)   VIA  BARACCHINI FLAVIO   9   \n",
       "4                VIA BERGAMO N. 12 (z.d. 4)   VIA            BERGAMO  12   \n",
       "\n",
       "  cod_via zd                                     main  sup_alt  sup_lav  \n",
       "0  5394.0  6                                      NaN      NaN     55.0  \n",
       "1  1144.0  9  CENTRO MASSAGGI RILASSANTI NON ESTETICI      2.0     28.0  \n",
       "2  4216.0  5                         CENTRO BENESSERE      2.0     27.0  \n",
       "3   356.0  1                    TRUCCO SEMIPERMANENTE      NaN      NaN  \n",
       "4  3189.0  4                                      NaN      NaN     50.0  "
      ]
     },
     "execution_count": 15,
     "metadata": {},
     "output_type": "execute_result"
    }
   ],
   "source": [
    "target_category_dict = {\n",
    "    'Acconciatore': ['Acconciatore'],\n",
    "    'Parrucchiere per Uomo': ['Barbiere', 'Parrucchiere per Uomo'],\n",
    "    'Tipo B - Centro di Abbronzatura': ['Tipo B - Centro di Abbronzatura'],\n",
    "    'Centro Benessere': ['Centro benessere'],\n",
    "    'Centro Massaggi': ['Centro massaggi'],\n",
    "    'Esecuzione di Tatuaggi e Piercing': ['Esecuzione di tatuaggi e piercing'],\n",
    "    'Tipo A - Estetica Manuale': ['Estetista in profumeria', 'Manicure', 'Pedicure estetico', 'Tipo A - Estetica Manuale', 'TIPO A - REG.2003'],\n",
    "    'Parrucchiere per Donna': ['Parrucchiere per signora'],\n",
    "    'Truccatore': ['Truccatore'],\n",
    "    'Tipo C - Trattamenti Estetici Dimagrimento': ['Tipo C - Trattamenti Estetici Dimagrimento'],\n",
    "    'Tipo D - Estetica Apparati Elettromeccanici': ['Tipo D - Estetica Apparati Elettromeccanici']\n",
    "}\n",
    "\n",
    "# Function to handle composite labels (if applicable)\n",
    "def handle_composite_labels(value):\n",
    "    # If composite labels exist (e.g., \"TIPO A-B-C-D\", \"Parrucchiere misto\"), expand them\n",
    "    if \"TIPO A-B-C-D\" in value:\n",
    "        value = value.replace(\"TIPO A-B-C-D\", \"; \".join([\n",
    "            \"Tipo A - Estetica Manuale\", \n",
    "            \"Tipo B - Centro di Abbronzatura\",\n",
    "            \"Tipo C - Trattamenti Estetici Dimagrimento\", \n",
    "            \"Tipo D - Estetica Apparati Elettromeccanici\"\n",
    "        ]))\n",
    "    if \"Parrucchiere misto\" in value:\n",
    "        value = value.replace(\"Parrucchiere misto\", \"; \".join([\n",
    "            \"Parrucchiere per Uomo\",\n",
    "            \"Parrucchiere per Donna\"\n",
    "        ]))\n",
    "    return value\n",
    "\n",
    "# Jaccard similarity function\n",
    "def jaccard_similarity(str1, str2):\n",
    "    set1 = set(str1.lower().split())\n",
    "    set2 = set(str2.lower().split())\n",
    "    return len(set1 & set2) / len(set1 | set2)\n",
    "\n",
    "# Define the function to map a label to the best matching category using Jaccard similarity\n",
    "def map_label_to_category_jaccard(label, target_category_dict):\n",
    "    best_match = None\n",
    "    best_score = 0\n",
    "    \n",
    "    for target, variations in target_category_dict.items():\n",
    "        for variation in variations:\n",
    "            score = jaccard_similarity(label, variation)  # Calculate Jaccard similarity\n",
    "            if score > best_score:\n",
    "                best_match = target\n",
    "                best_score = score\n",
    "                \n",
    "    return best_match\n",
    "\n",
    "# Apply the mapping for each label in the \"t_es\" column using Jaccard similarity\n",
    "def safe_apply_mapping(x, target_category_dict):\n",
    "    if isinstance(x, str) and x:  # Check if x is a non-empty string\n",
    "        return \"; \".join(\n",
    "            [map_label_to_category_jaccard(label, target_category_dict) for label in x.split(';')]\n",
    "        )\n",
    "    return \"\"  # If the value is None, NaN, or empty string, return an empty string\n",
    "\n",
    "# Apply the safe function to the \"t_es\" column\n",
    "new_SERVICES[\"t_es\"] = new_SERVICES[\"t_es\"].apply(lambda x: safe_apply_mapping(x, target_category_dict))\n",
    "\n",
    "# Show the updated DataFrame\n",
    "new_SERVICES.head()"
   ]
  },
  {
   "cell_type": "code",
   "execution_count": 16,
   "id": "d022ad0e",
   "metadata": {
    "execution": {
     "iopub.execute_input": "2025-01-18T16:00:04.470359Z",
     "iopub.status.busy": "2025-01-18T16:00:04.469859Z",
     "iopub.status.idle": "2025-01-18T16:00:04.491594Z",
     "shell.execute_reply": "2025-01-18T16:00:04.490324Z"
    },
    "papermill": {
     "duration": 0.043299,
     "end_time": "2025-01-18T16:00:04.493847",
     "exception": false,
     "start_time": "2025-01-18T16:00:04.450548",
     "status": "completed"
    },
    "tags": []
   },
   "outputs": [
    {
     "name": "stdout",
     "output_type": "stream",
     "text": [
      "COUNTS of new unique labels\n",
      "\n",
      "Acconciatore                                \t 907\n",
      "Centro Benessere                            \t  29\n",
      "Centro Massaggi                             \t 139\n",
      "Esecuzione di Tatuaggi e Piercing           \t  24\n",
      "Parrucchiere per Donna                      \t1213\n",
      "Parrucchiere per Uomo                       \t 601\n",
      "Tipo A - Estetica Manuale                   \t1266\n",
      "Tipo B - Centro di Abbronzatura             \t 605\n",
      "Tipo C - Trattamenti Estetici Dimagrimento  \t 138\n",
      "Tipo D - Estetica Apparati Elettromeccanici \t  74\n",
      "Truccatore                                  \t   1\n"
     ]
    }
   ],
   "source": [
    "# Split the 't_es' column by ';' and flatten the resulting lists\n",
    "flattened_labels = [label.strip() for item in new_SERVICES[\"t_es\"] for label in item.split(\";\")]\n",
    "\n",
    "# Get the unique labels and sort them\n",
    "unique_labels = sorted(set(flattened_labels))\n",
    "\n",
    "# Initialize a dictionary to store counts\n",
    "label_counts = {label: 0 for label in unique_labels}\n",
    "\n",
    "# Loop through each row in the \"t_es\" column and count the occurrences of each label\n",
    "for entry in new_SERVICES['t_es']:  # No need to drop NaN values as we've filled them earlier\n",
    "    for label in unique_labels:\n",
    "        if label in entry:\n",
    "            label_counts[label] += 1\n",
    "\n",
    "# Find the maximum width for labels and numbers\n",
    "max_label_length = max(len(label) for label in label_counts if label.strip() != \"\")\n",
    "max_number_length = max(len(str(count)) for count in label_counts.values())\n",
    "\n",
    "print(\"COUNTS of new unique labels\\n\")\n",
    "# Print the counts with aligned output\n",
    "for label, count in label_counts.items():\n",
    "    if label.strip() != \"\":  # Ensure labels are not empty\n",
    "        print(f\"{label:<{max_label_length}} \\t{count:>{max_number_length}}\")"
   ]
  },
  {
   "cell_type": "markdown",
   "id": "6edcb1a7",
   "metadata": {
    "papermill": {
     "duration": 0.019561,
     "end_time": "2025-01-18T16:00:04.533852",
     "exception": false,
     "start_time": "2025-01-18T16:00:04.514291",
     "status": "completed"
    },
    "tags": []
   },
   "source": [
    "### MAIN: Label Reduction\n",
    "\n",
    "In this step, we focus on standardizing the labels in the `main` column. Many of the labels in the column are variations of the same service but are written differently. To ensure consistency across the dataset, we map these different variations to a single, standardized label.\n",
    "\n",
    "For example, variations like `\"CENTRO MASSAGGI\"` and `\"CENTRO MASSAGGI RILASSANTI NON ESTETICI\"` are all mapped to the single label `\"Centro Massaggi\"`. Similarly, terms like `\"ESTETICA A E SOLARIUM\"` are transformed into a combination of labels, such as `\"Tipo A - Estetica Manuale; Tipo B - Centro di Abbronzatura\"`, to better reflect the service offerings.\n",
    "\n",
    "This standardization ensures that similar services are grouped together under a consistent set of labels, reducing redundancy and making the dataset more uniform for further analysis.\n",
    "\n",
    "**Example**:\n",
    "\n",
    "- Before: `\"CENTRO MASSAGGI RILASSANTI NON ESTETICI\"` → After: `\"Centro Massaggi\"`\n",
    "- Before: `\"ESTETICA A E SOLARIUM\"` → After: `\"Tipo A - Estetica Manuale; Tipo B - Centro di Abbronzatura\"`"
   ]
  },
  {
   "cell_type": "code",
   "execution_count": 17,
   "id": "faa8fd4f",
   "metadata": {
    "execution": {
     "iopub.execute_input": "2025-01-18T16:00:04.574668Z",
     "iopub.status.busy": "2025-01-18T16:00:04.574299Z",
     "iopub.status.idle": "2025-01-18T16:00:04.581661Z",
     "shell.execute_reply": "2025-01-18T16:00:04.580052Z"
    },
    "papermill": {
     "duration": 0.030571,
     "end_time": "2025-01-18T16:00:04.583917",
     "exception": false,
     "start_time": "2025-01-18T16:00:04.553346",
     "status": "completed"
    },
    "tags": []
   },
   "outputs": [
    {
     "name": "stdout",
     "output_type": "stream",
     "text": [
      "The number of different label combination  for column 'main' is 64.\n"
     ]
    }
   ],
   "source": [
    "print(\"The number of different label combination  for column 'main' is {}.\".format(new_SERVICES.main.unique().shape[0]))"
   ]
  },
  {
   "cell_type": "markdown",
   "id": "f2524def",
   "metadata": {
    "papermill": {
     "duration": 0.018629,
     "end_time": "2025-01-18T16:00:04.621450",
     "exception": false,
     "start_time": "2025-01-18T16:00:04.602821",
     "status": "completed"
    },
    "tags": []
   },
   "source": [
    "To do what we explained before, we create a `target_category_dict` dictionary where each key represents a main category (like `\"Centro Massaggi\"`), and the corresponding value is a list of related variations (such as `\"Estetista\"`, `\"Manicure\"`).<br>\n",
    "This was developed after several failed attempts to map labels due to a lack of knowledge about variations, with the dictionary providing a reliable method to map labels to categories. <br>\n",
    "The `map_label_to_category` function compares each label in the `main` column with the variations in the dictionary using **Jaccard** similarity, and returns the category with the highest similarity score. \n",
    "\n",
    "\n",
    "This approach standardizes the `main` column by mapping similar labels to consistent categories."
   ]
  },
  {
   "cell_type": "code",
   "execution_count": 18,
   "id": "c34a4400",
   "metadata": {
    "execution": {
     "iopub.execute_input": "2025-01-18T16:00:04.660583Z",
     "iopub.status.busy": "2025-01-18T16:00:04.660150Z",
     "iopub.status.idle": "2025-01-18T16:00:04.681998Z",
     "shell.execute_reply": "2025-01-18T16:00:04.679947Z"
    },
    "papermill": {
     "duration": 0.044399,
     "end_time": "2025-01-18T16:00:04.684839",
     "exception": false,
     "start_time": "2025-01-18T16:00:04.640440",
     "status": "completed"
    },
    "tags": []
   },
   "outputs": [],
   "source": [
    "target_category_dict = {\n",
    "    'Centro Massaggi': ['Non Estetici', 'Centro Massaggi'],\n",
    "    'Esecuzione di Tatuaggi e Piercing': ['Esecuzione di Tatuaggi e Piercing', 'Tatuaggio', 'Piercing'],\n",
    "    'Acconciatore': ['Acconciatore', 'Parrucchiere', 'Aconciatore'],\n",
    "    'Parrucchiere per Donna': ['Donna', 'Uomo', 'Barbiere'],\n",
    "    'Tipo A - Estetica Manuale': ['Tipo a - estetica manuale', 'Estetista', 'Estetica', 'Manicure', 'Pedicure', 'Unghie'],\n",
    "    'Centro Benessere': ['Centro Benessere', 'Olistico', 'Benessero Fisico', 'Non Estetici'],\n",
    "    'Truccatore': ['Trucco', 'Truccatore'],\n",
    "    'Tipo B - Centro di Abbronzatura': ['Tipo B - Centro di Abbronzatura', 'Solarium']\n",
    "}\n",
    "\n",
    "# Function to map a label to the best matching category from the dictionary\n",
    "def map_label_to_category(label, target_category_dict):\n",
    "    if isinstance(label, str):  # Ensure label is a string\n",
    "        best_match = None\n",
    "        best_score = 0\n",
    "\n",
    "        for target, variations in target_category_dict.items():\n",
    "            for variation in variations:\n",
    "                score = jaccard_similarity(label, variation)  # Calculate Jaccard similarity\n",
    "                if score > best_score:\n",
    "                    best_match = target\n",
    "                    best_score = score\n",
    "\n",
    "        return best_match\n",
    "    else:\n",
    "        return None  # Return None for non-string labels (NaN or float)\n",
    "\n",
    "# Apply the mapping to the 'main' column in new_SERVICES\n",
    "new_SERVICES['main'] = new_SERVICES['main'].apply(lambda x: map_label_to_category(x, target_category_dict))"
   ]
  },
  {
   "cell_type": "code",
   "execution_count": 19,
   "id": "cda6e0af",
   "metadata": {
    "execution": {
     "iopub.execute_input": "2025-01-18T16:00:04.734027Z",
     "iopub.status.busy": "2025-01-18T16:00:04.733572Z",
     "iopub.status.idle": "2025-01-18T16:00:04.745324Z",
     "shell.execute_reply": "2025-01-18T16:00:04.743356Z"
    },
    "papermill": {
     "duration": 0.036408,
     "end_time": "2025-01-18T16:00:04.747639",
     "exception": false,
     "start_time": "2025-01-18T16:00:04.711231",
     "status": "completed"
    },
    "tags": []
   },
   "outputs": [
    {
     "name": "stdout",
     "output_type": "stream",
     "text": [
      "COUNTS of new unique labels\n",
      "\n",
      "Centro Massaggi                   \t95\n",
      "Centro Benessere                  \t15\n",
      "Truccatore                        \t 1\n",
      "Tipo A - Estetica Manuale         \t61\n",
      "Esecuzione di Tatuaggi e Piercing \t20\n",
      "Acconciatore                      \t98\n",
      "Tipo B - Centro di Abbronzatura   \t 4\n"
     ]
    }
   ],
   "source": [
    "# Initialize a dictionary to store counts\n",
    "unique_main_labels = new_SERVICES[\"main\"].dropna().unique()\n",
    "\n",
    "label_counts = {label: 0 for label in unique_main_labels}\n",
    "\n",
    "# Loop through each row in the \"main\" column and count the occurrences of each label\n",
    "for entry in new_SERVICES['main'].dropna():  # Drop NaN values to avoid errors\n",
    "    if isinstance(entry, str):  # Ensure the entry is a string\n",
    "        for label in label_counts:\n",
    "            if label in entry:\n",
    "                label_counts[label] += 1\n",
    "\n",
    "# Find the maximum width for labels and numbers\n",
    "max_label_length = max(len(label) for label in label_counts if label != \"\")\n",
    "max_number_length = max(len(str(count)) for count in label_counts.values())\n",
    "\n",
    "print(\"COUNTS of new unique labels\\n\")\n",
    "# Print the counts with aligned output\n",
    "for label, count in label_counts.items():\n",
    "    if label != \"\":\n",
    "        print(f\"{label:<{max_label_length}} \\t{count:>{max_number_length}}\")"
   ]
  },
  {
   "cell_type": "markdown",
   "id": "cca320ff",
   "metadata": {
    "papermill": {
     "duration": 0.021317,
     "end_time": "2025-01-18T16:00:04.790426",
     "exception": false,
     "start_time": "2025-01-18T16:00:04.769109",
     "status": "completed"
    },
    "tags": []
   },
   "source": [
    "Once standardized the column, we decide to move the values from the `main` column to the `t_es` column. \n",
    "\n",
    "The `main` column contains many null values, and the few non-null values it holds are not significantly different from the information already present in the `t_es` column. Therefore, we use the `main` column values to populate the `t_es` column where `t_es` is null, ensuring that we maintain all relevant information in a single column.\n",
    "\n",
    "After this step, the `main` column will be dropped, as its contribution is minimal and redundant."
   ]
  },
  {
   "cell_type": "code",
   "execution_count": 20,
   "id": "ce921f73",
   "metadata": {
    "execution": {
     "iopub.execute_input": "2025-01-18T16:00:04.835020Z",
     "iopub.status.busy": "2025-01-18T16:00:04.834584Z",
     "iopub.status.idle": "2025-01-18T16:00:04.844207Z",
     "shell.execute_reply": "2025-01-18T16:00:04.842492Z"
    },
    "papermill": {
     "duration": 0.032619,
     "end_time": "2025-01-18T16:00:04.846595",
     "exception": false,
     "start_time": "2025-01-18T16:00:04.813976",
     "status": "completed"
    },
    "tags": []
   },
   "outputs": [
    {
     "name": "stdout",
     "output_type": "stream",
     "text": [
      "The initial number of Nan in 't_es' column is 31.\n"
     ]
    }
   ],
   "source": [
    "new_SERVICES['t_es'] = new_SERVICES['t_es'].replace(\"\", float(\"nan\"))\n",
    "print(\"The initial number of Nan in 't_es' column is {}.\".format(sum(new_SERVICES[\"t_es\"].isnull())))"
   ]
  },
  {
   "cell_type": "code",
   "execution_count": 21,
   "id": "f6e5ed11",
   "metadata": {
    "execution": {
     "iopub.execute_input": "2025-01-18T16:00:04.886516Z",
     "iopub.status.busy": "2025-01-18T16:00:04.886133Z",
     "iopub.status.idle": "2025-01-18T16:00:04.948603Z",
     "shell.execute_reply": "2025-01-18T16:00:04.947154Z"
    },
    "papermill": {
     "duration": 0.08491,
     "end_time": "2025-01-18T16:00:04.950982",
     "exception": false,
     "start_time": "2025-01-18T16:00:04.866072",
     "status": "completed"
    },
    "tags": []
   },
   "outputs": [],
   "source": [
    "# Ensure both columns are strings and handle NaN values\n",
    "new_SERVICES['t_es'] = new_SERVICES['t_es'].fillna(\"\").astype(str)\n",
    "\n",
    "def update_t_es(row):\n",
    "    main_values = row['main'].split(\";\") if row['main'] else []\n",
    "    t_es_values = row['t_es'].split(\";\") if row['t_es'] else []\n",
    "    \n",
    "    # Remove extra whitespace around the labels\n",
    "    main_values = [value.strip() for value in main_values]\n",
    "    t_es_values = [value.strip() for value in t_es_values]\n",
    "    \n",
    "    # If t_es is empty, copy main values\n",
    "    if not t_es_values:\n",
    "        return \";\".join(main_values)\n",
    "    \n",
    "    # Add main labels that are not already in t_es\n",
    "    for main_value in main_values:\n",
    "        # Add the condition: If main is \"Acconciatore\" and t_es contains \"Parrucchiere per Uomo\" or \"Parrucchiere per Donna\", don't add\n",
    "        if main_value == \"Acconciatore\" and any(x in t_es_values for x in [\"Parrucchiere per Uomo\", \"Parrucchiere per Donna\"]):\n",
    "            continue\n",
    "        if main_value not in t_es_values:\n",
    "            t_es_values.append(main_value)\n",
    "    \n",
    "    # Return the updated t_es column as a semicolon-separated string\n",
    "    return \";\".join(t_es_values)\n",
    "\n",
    "# Apply the function row-wise\n",
    "new_SERVICES['t_es'] = new_SERVICES.apply(update_t_es, axis=1)"
   ]
  },
  {
   "cell_type": "code",
   "execution_count": 22,
   "id": "14cc7a81",
   "metadata": {
    "execution": {
     "iopub.execute_input": "2025-01-18T16:00:04.991974Z",
     "iopub.status.busy": "2025-01-18T16:00:04.991610Z",
     "iopub.status.idle": "2025-01-18T16:00:05.002775Z",
     "shell.execute_reply": "2025-01-18T16:00:04.999940Z"
    },
    "papermill": {
     "duration": 0.035381,
     "end_time": "2025-01-18T16:00:05.006697",
     "exception": false,
     "start_time": "2025-01-18T16:00:04.971316",
     "status": "completed"
    },
    "tags": []
   },
   "outputs": [
    {
     "name": "stdout",
     "output_type": "stream",
     "text": [
      "The number of Nan in 't_es' column afterwards is 16.\n"
     ]
    }
   ],
   "source": [
    "new_SERVICES['t_es'] = new_SERVICES['t_es'].replace(\"\", float(\"nan\"))\n",
    "print(\"The number of Nan in 't_es' column afterwards is {}.\".format(sum(new_SERVICES[\"t_es\"].isnull())))\n",
    "new_SERVICES['t_es'] = new_SERVICES['t_es'].fillna(\"\").astype(str)"
   ]
  },
  {
   "cell_type": "markdown",
   "id": "ea5ac410",
   "metadata": {
    "papermill": {
     "duration": 0.018406,
     "end_time": "2025-01-18T16:00:05.137795",
     "exception": false,
     "start_time": "2025-01-18T16:00:05.119389",
     "status": "completed"
    },
    "tags": []
   },
   "source": [
    "Since `main` info is incorporated in `t_es` column, we drop it."
   ]
  },
  {
   "cell_type": "code",
   "execution_count": 23,
   "id": "9201b8ac",
   "metadata": {
    "execution": {
     "iopub.execute_input": "2025-01-18T16:00:05.178211Z",
     "iopub.status.busy": "2025-01-18T16:00:05.177561Z",
     "iopub.status.idle": "2025-01-18T16:00:05.196458Z",
     "shell.execute_reply": "2025-01-18T16:00:05.194954Z"
    },
    "papermill": {
     "duration": 0.041983,
     "end_time": "2025-01-18T16:00:05.198495",
     "exception": false,
     "start_time": "2025-01-18T16:00:05.156512",
     "status": "completed"
    },
    "tags": []
   },
   "outputs": [
    {
     "data": {
      "text/html": [
       "<div>\n",
       "<style scoped>\n",
       "    .dataframe tbody tr th:only-of-type {\n",
       "        vertical-align: middle;\n",
       "    }\n",
       "\n",
       "    .dataframe tbody tr th {\n",
       "        vertical-align: top;\n",
       "    }\n",
       "\n",
       "    .dataframe thead th {\n",
       "        text-align: right;\n",
       "    }\n",
       "</style>\n",
       "<table border=\"1\" class=\"dataframe\">\n",
       "  <thead>\n",
       "    <tr style=\"text-align: right;\">\n",
       "      <th></th>\n",
       "      <th>t_es</th>\n",
       "      <th>ubic</th>\n",
       "      <th>t_via</th>\n",
       "      <th>via</th>\n",
       "      <th>civ</th>\n",
       "      <th>cod_via</th>\n",
       "      <th>zd</th>\n",
       "      <th>sup_alt</th>\n",
       "      <th>sup_lav</th>\n",
       "    </tr>\n",
       "  </thead>\n",
       "  <tbody>\n",
       "    <tr>\n",
       "      <th>0</th>\n",
       "      <td></td>\n",
       "      <td>LGO DEI GELSOMINI N. 10 (z.d. 6)</td>\n",
       "      <td>LGO</td>\n",
       "      <td>DEI GELSOMINI</td>\n",
       "      <td>10</td>\n",
       "      <td>5394.0</td>\n",
       "      <td>6</td>\n",
       "      <td>NaN</td>\n",
       "      <td>55.0</td>\n",
       "    </tr>\n",
       "    <tr>\n",
       "      <th>1</th>\n",
       "      <td>Centro Massaggi</td>\n",
       "      <td>PZA FIDIA N. 3 (z.d. 9)</td>\n",
       "      <td>PZA</td>\n",
       "      <td>FIDIA</td>\n",
       "      <td>3</td>\n",
       "      <td>1144.0</td>\n",
       "      <td>9</td>\n",
       "      <td>2.0</td>\n",
       "      <td>28.0</td>\n",
       "    </tr>\n",
       "    <tr>\n",
       "      <th>2</th>\n",
       "      <td>Centro Benessere</td>\n",
       "      <td>VIA ADIGE N. 10 (z.d. 5)</td>\n",
       "      <td>VIA</td>\n",
       "      <td>ADIGE</td>\n",
       "      <td>10</td>\n",
       "      <td>4216.0</td>\n",
       "      <td>5</td>\n",
       "      <td>2.0</td>\n",
       "      <td>27.0</td>\n",
       "    </tr>\n",
       "    <tr>\n",
       "      <th>3</th>\n",
       "      <td>Truccatore</td>\n",
       "      <td>VIA BARACCHINI FLAVIO N. 9 (z.d. 1)</td>\n",
       "      <td>VIA</td>\n",
       "      <td>BARACCHINI FLAVIO</td>\n",
       "      <td>9</td>\n",
       "      <td>356.0</td>\n",
       "      <td>1</td>\n",
       "      <td>NaN</td>\n",
       "      <td>NaN</td>\n",
       "    </tr>\n",
       "    <tr>\n",
       "      <th>4</th>\n",
       "      <td></td>\n",
       "      <td>VIA BERGAMO N. 12 (z.d. 4)</td>\n",
       "      <td>VIA</td>\n",
       "      <td>BERGAMO</td>\n",
       "      <td>12</td>\n",
       "      <td>3189.0</td>\n",
       "      <td>4</td>\n",
       "      <td>NaN</td>\n",
       "      <td>50.0</td>\n",
       "    </tr>\n",
       "  </tbody>\n",
       "</table>\n",
       "</div>"
      ],
      "text/plain": [
       "               t_es                                 ubic t_via  \\\n",
       "0                       LGO DEI GELSOMINI N. 10 (z.d. 6)   LGO   \n",
       "1   Centro Massaggi              PZA FIDIA N. 3 (z.d. 9)   PZA   \n",
       "2  Centro Benessere             VIA ADIGE N. 10 (z.d. 5)   VIA   \n",
       "3        Truccatore  VIA BARACCHINI FLAVIO N. 9 (z.d. 1)   VIA   \n",
       "4                             VIA BERGAMO N. 12 (z.d. 4)   VIA   \n",
       "\n",
       "                 via civ cod_via zd  sup_alt  sup_lav  \n",
       "0      DEI GELSOMINI  10  5394.0  6      NaN     55.0  \n",
       "1              FIDIA   3  1144.0  9      2.0     28.0  \n",
       "2              ADIGE  10  4216.0  5      2.0     27.0  \n",
       "3  BARACCHINI FLAVIO   9   356.0  1      NaN      NaN  \n",
       "4            BERGAMO  12  3189.0  4      NaN     50.0  "
      ]
     },
     "execution_count": 23,
     "metadata": {},
     "output_type": "execute_result"
    }
   ],
   "source": [
    "new_SERVICES = new_SERVICES.drop('main', axis=1)\n",
    "\n",
    "new_SERVICES.head()"
   ]
  },
  {
   "cell_type": "markdown",
   "id": "df81feb6",
   "metadata": {
    "papermill": {
     "duration": 0.017728,
     "end_time": "2025-01-18T16:00:05.235482",
     "exception": false,
     "start_time": "2025-01-18T16:00:05.217754",
     "status": "completed"
    },
    "tags": []
   },
   "source": [
    "### T_VIA: Checking format\n",
    "In this phase, we verify that the `t_via` column contains only valid and properly formatted values.\n",
    "\n",
    "The column contains designations for the type of street or location, which are standardized according to the tipovia dataframe. This dataframe defines valid labels and their corresponding extended and abbreviated descriptions."
   ]
  },
  {
   "cell_type": "code",
   "execution_count": 24,
   "id": "43d3b8ad",
   "metadata": {
    "execution": {
     "iopub.execute_input": "2025-01-18T16:00:05.274577Z",
     "iopub.status.busy": "2025-01-18T16:00:05.274092Z",
     "iopub.status.idle": "2025-01-18T16:00:05.283440Z",
     "shell.execute_reply": "2025-01-18T16:00:05.282149Z"
    },
    "papermill": {
     "duration": 0.031069,
     "end_time": "2025-01-18T16:00:05.285860",
     "exception": false,
     "start_time": "2025-01-18T16:00:05.254791",
     "status": "completed"
    },
    "tags": []
   },
   "outputs": [
    {
     "name": "stdout",
     "output_type": "stream",
     "text": [
      "Invalid t_via values not in tipovia:\n",
      "\n",
      "['VIE']\n"
     ]
    }
   ],
   "source": [
    "# Ensure comparison is case-insensitive by converting both columns to lowercase\n",
    "t_via_unique = new_SERVICES['t_via'].unique()\n",
    "desc_abbreviata = tipovia['DESC_ABBREVIATA'].str.lower().unique()\n",
    "\n",
    "# Find t_via values not in tipovia.DESC_ABBREVIATA\n",
    "invalid_t_via = [via for via in t_via_unique if via.lower() not in desc_abbreviata]\n",
    "\n",
    "# Print the results\n",
    "print(\"Invalid t_via values not in tipovia:\\n\")\n",
    "print(invalid_t_via)\n"
   ]
  },
  {
   "cell_type": "markdown",
   "id": "0b190e67",
   "metadata": {
    "papermill": {
     "duration": 0.0183,
     "end_time": "2025-01-18T16:00:05.323286",
     "exception": false,
     "start_time": "2025-01-18T16:00:05.304986",
     "status": "completed"
    },
    "tags": []
   },
   "source": [
    "Since any potential unformatted or invalid values in the `t_via` column were already addressed during the previous merging and correction phases (e.g., handling rows with `\"Acconciatore\"`), only one inadmissible value remains: `\"VIE\"`. This value is not part of the valid labels defined in the `DESC_ABBREVIATA` column of the **tipovia** dataframe.\n",
    "\n",
    "To resolve this, the `\"VIE\"` value must be corrected or mapped to a valid designation from the **tipovia** dataframe."
   ]
  },
  {
   "cell_type": "code",
   "execution_count": 25,
   "id": "f209be26",
   "metadata": {
    "execution": {
     "iopub.execute_input": "2025-01-18T16:00:05.361231Z",
     "iopub.status.busy": "2025-01-18T16:00:05.360848Z",
     "iopub.status.idle": "2025-01-18T16:00:05.374849Z",
     "shell.execute_reply": "2025-01-18T16:00:05.373604Z"
    },
    "papermill": {
     "duration": 0.035447,
     "end_time": "2025-01-18T16:00:05.376831",
     "exception": false,
     "start_time": "2025-01-18T16:00:05.341384",
     "status": "completed"
    },
    "tags": []
   },
   "outputs": [
    {
     "data": {
      "text/html": [
       "<div>\n",
       "<style scoped>\n",
       "    .dataframe tbody tr th:only-of-type {\n",
       "        vertical-align: middle;\n",
       "    }\n",
       "\n",
       "    .dataframe tbody tr th {\n",
       "        vertical-align: top;\n",
       "    }\n",
       "\n",
       "    .dataframe thead th {\n",
       "        text-align: right;\n",
       "    }\n",
       "</style>\n",
       "<table border=\"1\" class=\"dataframe\">\n",
       "  <thead>\n",
       "    <tr style=\"text-align: right;\">\n",
       "      <th></th>\n",
       "      <th>t_es</th>\n",
       "      <th>ubic</th>\n",
       "      <th>t_via</th>\n",
       "      <th>via</th>\n",
       "      <th>civ</th>\n",
       "      <th>cod_via</th>\n",
       "      <th>zd</th>\n",
       "      <th>sup_alt</th>\n",
       "      <th>sup_lav</th>\n",
       "    </tr>\n",
       "  </thead>\n",
       "  <tbody>\n",
       "    <tr>\n",
       "      <th>721</th>\n",
       "      <td>Acconciatore</td>\n",
       "      <td>VIE DELLA ROBBIA LUCA N. 8 ; (z.d. 8)</td>\n",
       "      <td>VIE</td>\n",
       "      <td>DELLA ROBBIA LUCA</td>\n",
       "      <td>8</td>\n",
       "      <td>6349.0</td>\n",
       "      <td>8</td>\n",
       "      <td>NaN</td>\n",
       "      <td>33.0</td>\n",
       "    </tr>\n",
       "    <tr>\n",
       "      <th>2891</th>\n",
       "      <td>Parrucchiere per Uomo;Tipo A - Estetica Manuale;Tipo B - Centro di Abbronzatura</td>\n",
       "      <td>VIE DELLA ROBBIA LUCA N. 8 ; (z.d. 8)</td>\n",
       "      <td>VIE</td>\n",
       "      <td>DELLA ROBBIA LUCA</td>\n",
       "      <td>8</td>\n",
       "      <td>6349.0</td>\n",
       "      <td>8</td>\n",
       "      <td>NaN</td>\n",
       "      <td>NaN</td>\n",
       "    </tr>\n",
       "  </tbody>\n",
       "</table>\n",
       "</div>"
      ],
      "text/plain": [
       "                                                                                 t_es  \\\n",
       "721                                                                      Acconciatore   \n",
       "2891  Parrucchiere per Uomo;Tipo A - Estetica Manuale;Tipo B - Centro di Abbronzatura   \n",
       "\n",
       "                                       ubic t_via                via civ  \\\n",
       "721   VIE DELLA ROBBIA LUCA N. 8 ; (z.d. 8)   VIE  DELLA ROBBIA LUCA   8   \n",
       "2891  VIE DELLA ROBBIA LUCA N. 8 ; (z.d. 8)   VIE  DELLA ROBBIA LUCA   8   \n",
       "\n",
       "     cod_via zd  sup_alt  sup_lav  \n",
       "721   6349.0  8      NaN     33.0  \n",
       "2891  6349.0  8      NaN      NaN  "
      ]
     },
     "execution_count": 25,
     "metadata": {},
     "output_type": "execute_result"
    }
   ],
   "source": [
    "new_SERVICES[new_SERVICES[\"t_via\"] == \"VIE\"]"
   ]
  },
  {
   "cell_type": "code",
   "execution_count": 26,
   "id": "2441636f",
   "metadata": {
    "execution": {
     "iopub.execute_input": "2025-01-18T16:00:05.415520Z",
     "iopub.status.busy": "2025-01-18T16:00:05.415041Z",
     "iopub.status.idle": "2025-01-18T16:00:05.421814Z",
     "shell.execute_reply": "2025-01-18T16:00:05.420452Z"
    },
    "papermill": {
     "duration": 0.028726,
     "end_time": "2025-01-18T16:00:05.423960",
     "exception": false,
     "start_time": "2025-01-18T16:00:05.395234",
     "status": "completed"
    },
    "tags": []
   },
   "outputs": [],
   "source": [
    "new_SERVICES.loc[new_SERVICES[\"t_via\"] == \"VIE\", \"t_via\"] = \"VIA\""
   ]
  },
  {
   "cell_type": "markdown",
   "id": "49a33e9c",
   "metadata": {
    "papermill": {
     "duration": 0.020204,
     "end_time": "2025-01-18T16:00:05.465037",
     "exception": false,
     "start_time": "2025-01-18T16:00:05.444833",
     "status": "completed"
    },
    "tags": []
   },
   "source": [
    "Once this adjustment is made, we ensure that all `t_via` values match the `DESC_ABBREVIATA` column of **tipovia** and can be directly mapped to their corresponding `DESC_ESTESA` values."
   ]
  },
  {
   "cell_type": "code",
   "execution_count": 27,
   "id": "02099ed2",
   "metadata": {
    "execution": {
     "iopub.execute_input": "2025-01-18T16:00:05.506277Z",
     "iopub.status.busy": "2025-01-18T16:00:05.505896Z",
     "iopub.status.idle": "2025-01-18T16:00:05.524231Z",
     "shell.execute_reply": "2025-01-18T16:00:05.522975Z"
    },
    "papermill": {
     "duration": 0.041176,
     "end_time": "2025-01-18T16:00:05.526296",
     "exception": false,
     "start_time": "2025-01-18T16:00:05.485120",
     "status": "completed"
    },
    "tags": []
   },
   "outputs": [
    {
     "data": {
      "text/html": [
       "<div>\n",
       "<style scoped>\n",
       "    .dataframe tbody tr th:only-of-type {\n",
       "        vertical-align: middle;\n",
       "    }\n",
       "\n",
       "    .dataframe tbody tr th {\n",
       "        vertical-align: top;\n",
       "    }\n",
       "\n",
       "    .dataframe thead th {\n",
       "        text-align: right;\n",
       "    }\n",
       "</style>\n",
       "<table border=\"1\" class=\"dataframe\">\n",
       "  <thead>\n",
       "    <tr style=\"text-align: right;\">\n",
       "      <th></th>\n",
       "      <th>t_es</th>\n",
       "      <th>ubic</th>\n",
       "      <th>t_via</th>\n",
       "      <th>via</th>\n",
       "      <th>civ</th>\n",
       "      <th>cod_via</th>\n",
       "      <th>zd</th>\n",
       "      <th>sup_alt</th>\n",
       "      <th>sup_lav</th>\n",
       "    </tr>\n",
       "  </thead>\n",
       "  <tbody>\n",
       "    <tr>\n",
       "      <th>0</th>\n",
       "      <td></td>\n",
       "      <td>LGO DEI GELSOMINI N. 10 (z.d. 6)</td>\n",
       "      <td>Largo</td>\n",
       "      <td>DEI GELSOMINI</td>\n",
       "      <td>10</td>\n",
       "      <td>5394.0</td>\n",
       "      <td>6</td>\n",
       "      <td>NaN</td>\n",
       "      <td>55.0</td>\n",
       "    </tr>\n",
       "    <tr>\n",
       "      <th>1</th>\n",
       "      <td>Centro Massaggi</td>\n",
       "      <td>PZA FIDIA N. 3 (z.d. 9)</td>\n",
       "      <td>Piazza</td>\n",
       "      <td>FIDIA</td>\n",
       "      <td>3</td>\n",
       "      <td>1144.0</td>\n",
       "      <td>9</td>\n",
       "      <td>2.0</td>\n",
       "      <td>28.0</td>\n",
       "    </tr>\n",
       "    <tr>\n",
       "      <th>2</th>\n",
       "      <td>Centro Benessere</td>\n",
       "      <td>VIA ADIGE N. 10 (z.d. 5)</td>\n",
       "      <td>Via</td>\n",
       "      <td>ADIGE</td>\n",
       "      <td>10</td>\n",
       "      <td>4216.0</td>\n",
       "      <td>5</td>\n",
       "      <td>2.0</td>\n",
       "      <td>27.0</td>\n",
       "    </tr>\n",
       "    <tr>\n",
       "      <th>3</th>\n",
       "      <td>Truccatore</td>\n",
       "      <td>VIA BARACCHINI FLAVIO N. 9 (z.d. 1)</td>\n",
       "      <td>Via</td>\n",
       "      <td>BARACCHINI FLAVIO</td>\n",
       "      <td>9</td>\n",
       "      <td>356.0</td>\n",
       "      <td>1</td>\n",
       "      <td>NaN</td>\n",
       "      <td>NaN</td>\n",
       "    </tr>\n",
       "    <tr>\n",
       "      <th>4</th>\n",
       "      <td></td>\n",
       "      <td>VIA BERGAMO N. 12 (z.d. 4)</td>\n",
       "      <td>Via</td>\n",
       "      <td>BERGAMO</td>\n",
       "      <td>12</td>\n",
       "      <td>3189.0</td>\n",
       "      <td>4</td>\n",
       "      <td>NaN</td>\n",
       "      <td>50.0</td>\n",
       "    </tr>\n",
       "  </tbody>\n",
       "</table>\n",
       "</div>"
      ],
      "text/plain": [
       "               t_es                                 ubic   t_via  \\\n",
       "0                       LGO DEI GELSOMINI N. 10 (z.d. 6)   Largo   \n",
       "1   Centro Massaggi              PZA FIDIA N. 3 (z.d. 9)  Piazza   \n",
       "2  Centro Benessere             VIA ADIGE N. 10 (z.d. 5)     Via   \n",
       "3        Truccatore  VIA BARACCHINI FLAVIO N. 9 (z.d. 1)     Via   \n",
       "4                             VIA BERGAMO N. 12 (z.d. 4)     Via   \n",
       "\n",
       "                 via civ cod_via zd  sup_alt  sup_lav  \n",
       "0      DEI GELSOMINI  10  5394.0  6      NaN     55.0  \n",
       "1              FIDIA   3  1144.0  9      2.0     28.0  \n",
       "2              ADIGE  10  4216.0  5      2.0     27.0  \n",
       "3  BARACCHINI FLAVIO   9   356.0  1      NaN      NaN  \n",
       "4            BERGAMO  12  3189.0  4      NaN     50.0  "
      ]
     },
     "execution_count": 27,
     "metadata": {},
     "output_type": "execute_result"
    }
   ],
   "source": [
    "# Create a mapping dictionary from tipovia\n",
    "t_via_mapping = dict(zip(tipovia[\"DESC_ABBREVIATA\"].str.lower(), tipovia[\"DESC_ESTESA\"]))\n",
    "\n",
    "# Replace the t_via values in new_SERVICES with the corresponding DESC_ESTESA values\n",
    "new_SERVICES[\"t_via\"] = new_SERVICES[\"t_via\"].str.lower().map(t_via_mapping)\n",
    "\n",
    "# Check the result\n",
    "new_SERVICES.head()"
   ]
  },
  {
   "cell_type": "markdown",
   "id": "ea13c863",
   "metadata": {
    "papermill": {
     "duration": 0.019322,
     "end_time": "2025-01-18T16:00:05.565508",
     "exception": false,
     "start_time": "2025-01-18T16:00:05.546186",
     "status": "completed"
    },
    "tags": []
   },
   "source": [
    "### COD_VIA: Checking Format\n",
    "This check ensures that the values in the `cod_via` column, which are stored as floats, are whole numbers (i.e., integers), since the identifiers related to street or location codes should always be integers."
   ]
  },
  {
   "cell_type": "code",
   "execution_count": 28,
   "id": "eaadeb27",
   "metadata": {
    "execution": {
     "iopub.execute_input": "2025-01-18T16:00:05.606527Z",
     "iopub.status.busy": "2025-01-18T16:00:05.606052Z",
     "iopub.status.idle": "2025-01-18T16:00:05.618327Z",
     "shell.execute_reply": "2025-01-18T16:00:05.616853Z"
    },
    "papermill": {
     "duration": 0.034531,
     "end_time": "2025-01-18T16:00:05.620549",
     "exception": false,
     "start_time": "2025-01-18T16:00:05.586018",
     "status": "completed"
    },
    "tags": []
   },
   "outputs": [
    {
     "name": "stdout",
     "output_type": "stream",
     "text": [
      "All values in 'cod_via' are integers (float equivalents of integers).\n"
     ]
    }
   ],
   "source": [
    "# Check if any value in 'cod_via' is not an integer (checking for float values that are whole numbers)\n",
    "non_integer_values = new_SERVICES['cod_via'].apply(lambda x: not x.is_integer() if isinstance(x, float) else False)\n",
    "\n",
    "if non_integer_values.any():\n",
    "    print(\"There are values in 'cod_via' that are not integers.\")\n",
    "else:\n",
    "    print(\"All values in 'cod_via' are integers (float equivalents of integers).\")\n",
    "\n",
    "new_SERVICES.cod_via = new_SERVICES.cod_via.astype(float).astype(int).astype(str)"
   ]
  },
  {
   "cell_type": "markdown",
   "id": "c4c63ef8",
   "metadata": {
    "papermill": {
     "duration": 0.019056,
     "end_time": "2025-01-18T16:00:05.658053",
     "exception": false,
     "start_time": "2025-01-18T16:00:05.638997",
     "status": "completed"
    },
    "tags": []
   },
   "source": [
    "### CIV: Checking Format\n",
    "This code checks the `civ` column to ensure that all values follow the expected format: **1-3 digit, optionally followed by an uppercase letter (e.g., 12A), a slash \"/\" with a single digit (e.g., 93/1), or a slash \"/\" and another series of digits and letters (e.g., 15/101)."
   ]
  },
  {
   "cell_type": "code",
   "execution_count": 29,
   "id": "ea6531dc",
   "metadata": {
    "execution": {
     "iopub.execute_input": "2025-01-18T16:00:05.698051Z",
     "iopub.status.busy": "2025-01-18T16:00:05.697667Z",
     "iopub.status.idle": "2025-01-18T16:00:05.715806Z",
     "shell.execute_reply": "2025-01-18T16:00:05.714443Z"
    },
    "papermill": {
     "duration": 0.040196,
     "end_time": "2025-01-18T16:00:05.717921",
     "exception": false,
     "start_time": "2025-01-18T16:00:05.677725",
     "status": "completed"
    },
    "tags": []
   },
   "outputs": [
    {
     "name": "stdout",
     "output_type": "stream",
     "text": [
      "There are invalid values in 'civ' column.\n",
      "\n",
      "The row with index 143 contains an invalid value: 40945.\n"
     ]
    }
   ],
   "source": [
    "# Define a function to check the format\n",
    "def check_civ_format(value):\n",
    "    # Regex pattern to match 1-3 digits, optionally followed by a `/` and a single digit or an uppercase letter\n",
    "    pattern = r'^\\d{1,3}(?:/\\d{1,3}[A-Z]?)?(?:[A-Z]+)?(?:[A-Z]+P\\d{2})?(?:[A-Z]+N\\d{2})?(?:[A-Z]+C\\d{2})?(?:[A-Z]+G\\d{2})?$'\n",
    "    return bool(re.match(pattern, str(value)))\n",
    "\n",
    "# Apply the check to the 'civ' column and filter invalid values\n",
    "invalid_civ_values = new_SERVICES['civ'][new_SERVICES['civ'].apply(lambda x: not check_civ_format(x) if pd.notnull(x) else False)]\n",
    "\n",
    "if not invalid_civ_values.empty:\n",
    "    print(\"There are invalid values in 'civ' column.\\n\")\n",
    "    \n",
    "if not invalid_civ_values.empty:\n",
    "    for idx, value in invalid_civ_values.items():\n",
    "        print(f\"The row with index {idx} contains an invalid value: {value}.\")\n",
    "else:\n",
    "    print(\"All values in 'civ' follow the correct format.\")"
   ]
  },
  {
   "cell_type": "markdown",
   "id": "d7aac7c0",
   "metadata": {
    "papermill": {
     "duration": 0.025062,
     "end_time": "2025-01-18T16:00:05.763570",
     "exception": false,
     "start_time": "2025-01-18T16:00:05.738508",
     "status": "completed"
    },
    "tags": []
   },
   "source": [
    "We handle invalid values in the `civ` column by replacing them with `NaN`, ensuring that only correctly formatted entries remain for further processing."
   ]
  },
  {
   "cell_type": "code",
   "execution_count": 30,
   "id": "4517c5f1",
   "metadata": {
    "execution": {
     "iopub.execute_input": "2025-01-18T16:00:05.808315Z",
     "iopub.status.busy": "2025-01-18T16:00:05.807904Z",
     "iopub.status.idle": "2025-01-18T16:00:05.821745Z",
     "shell.execute_reply": "2025-01-18T16:00:05.820400Z"
    },
    "papermill": {
     "duration": 0.037249,
     "end_time": "2025-01-18T16:00:05.823659",
     "exception": false,
     "start_time": "2025-01-18T16:00:05.786410",
     "status": "completed"
    },
    "tags": []
   },
   "outputs": [
    {
     "data": {
      "text/html": [
       "<div>\n",
       "<style scoped>\n",
       "    .dataframe tbody tr th:only-of-type {\n",
       "        vertical-align: middle;\n",
       "    }\n",
       "\n",
       "    .dataframe tbody tr th {\n",
       "        vertical-align: top;\n",
       "    }\n",
       "\n",
       "    .dataframe thead th {\n",
       "        text-align: right;\n",
       "    }\n",
       "</style>\n",
       "<table border=\"1\" class=\"dataframe\">\n",
       "  <thead>\n",
       "    <tr style=\"text-align: right;\">\n",
       "      <th></th>\n",
       "      <th>t_es</th>\n",
       "      <th>ubic</th>\n",
       "      <th>t_via</th>\n",
       "      <th>via</th>\n",
       "      <th>civ</th>\n",
       "      <th>cod_via</th>\n",
       "      <th>zd</th>\n",
       "      <th>sup_alt</th>\n",
       "      <th>sup_lav</th>\n",
       "    </tr>\n",
       "  </thead>\n",
       "  <tbody>\n",
       "    <tr>\n",
       "      <th>143</th>\n",
       "      <td>Acconciatore</td>\n",
       "      <td>VIA PAVIA N. 6/2 (z.d. 5)</td>\n",
       "      <td>Via</td>\n",
       "      <td>PAVIA</td>\n",
       "      <td>40945</td>\n",
       "      <td>5262</td>\n",
       "      <td>5</td>\n",
       "      <td>NaN</td>\n",
       "      <td>NaN</td>\n",
       "    </tr>\n",
       "  </tbody>\n",
       "</table>\n",
       "</div>"
      ],
      "text/plain": [
       "             t_es                       ubic t_via    via    civ cod_via zd  \\\n",
       "143  Acconciatore  VIA PAVIA N. 6/2 (z.d. 5)   Via  PAVIA  40945    5262  5   \n",
       "\n",
       "     sup_alt  sup_lav  \n",
       "143      NaN      NaN  "
      ]
     },
     "execution_count": 30,
     "metadata": {},
     "output_type": "execute_result"
    }
   ],
   "source": [
    "new_SERVICES[143:].head(1)"
   ]
  },
  {
   "cell_type": "code",
   "execution_count": 31,
   "id": "d52c9f0d",
   "metadata": {
    "execution": {
     "iopub.execute_input": "2025-01-18T16:00:05.862793Z",
     "iopub.status.busy": "2025-01-18T16:00:05.862436Z",
     "iopub.status.idle": "2025-01-18T16:00:05.881596Z",
     "shell.execute_reply": "2025-01-18T16:00:05.880419Z"
    },
    "papermill": {
     "duration": 0.040962,
     "end_time": "2025-01-18T16:00:05.883469",
     "exception": false,
     "start_time": "2025-01-18T16:00:05.842507",
     "status": "completed"
    },
    "tags": []
   },
   "outputs": [
    {
     "data": {
      "text/html": [
       "<div>\n",
       "<style scoped>\n",
       "    .dataframe tbody tr th:only-of-type {\n",
       "        vertical-align: middle;\n",
       "    }\n",
       "\n",
       "    .dataframe tbody tr th {\n",
       "        vertical-align: top;\n",
       "    }\n",
       "\n",
       "    .dataframe thead th {\n",
       "        text-align: right;\n",
       "    }\n",
       "</style>\n",
       "<table border=\"1\" class=\"dataframe\">\n",
       "  <thead>\n",
       "    <tr style=\"text-align: right;\">\n",
       "      <th></th>\n",
       "      <th>t_es</th>\n",
       "      <th>ubic</th>\n",
       "      <th>t_via</th>\n",
       "      <th>via</th>\n",
       "      <th>civ</th>\n",
       "      <th>cod_via</th>\n",
       "      <th>zd</th>\n",
       "      <th>sup_alt</th>\n",
       "      <th>sup_lav</th>\n",
       "    </tr>\n",
       "  </thead>\n",
       "  <tbody>\n",
       "    <tr>\n",
       "      <th>143</th>\n",
       "      <td>Acconciatore</td>\n",
       "      <td>VIA PAVIA N. 6/2 (z.d. 5)</td>\n",
       "      <td>Via</td>\n",
       "      <td>PAVIA</td>\n",
       "      <td>NaN</td>\n",
       "      <td>5262</td>\n",
       "      <td>5</td>\n",
       "      <td>NaN</td>\n",
       "      <td>NaN</td>\n",
       "    </tr>\n",
       "  </tbody>\n",
       "</table>\n",
       "</div>"
      ],
      "text/plain": [
       "             t_es                       ubic t_via    via  civ cod_via zd  \\\n",
       "143  Acconciatore  VIA PAVIA N. 6/2 (z.d. 5)   Via  PAVIA  NaN    5262  5   \n",
       "\n",
       "     sup_alt  sup_lav  \n",
       "143      NaN      NaN  "
      ]
     },
     "execution_count": 31,
     "metadata": {},
     "output_type": "execute_result"
    }
   ],
   "source": [
    "# Replace invalid 'civ' values with NaN\n",
    "new_SERVICES['civ'] = new_SERVICES['civ'].apply(lambda x: np.nan if not check_civ_format(x) else x)\n",
    "new_SERVICES[143:].head(1)"
   ]
  },
  {
   "cell_type": "code",
   "execution_count": 32,
   "id": "eb3cac8a",
   "metadata": {
    "execution": {
     "iopub.execute_input": "2025-01-18T16:00:05.923240Z",
     "iopub.status.busy": "2025-01-18T16:00:05.922784Z",
     "iopub.status.idle": "2025-01-18T16:00:05.929672Z",
     "shell.execute_reply": "2025-01-18T16:00:05.928284Z"
    },
    "papermill": {
     "duration": 0.029191,
     "end_time": "2025-01-18T16:00:05.931689",
     "exception": false,
     "start_time": "2025-01-18T16:00:05.902498",
     "status": "completed"
    },
    "tags": []
   },
   "outputs": [
    {
     "name": "stdout",
     "output_type": "stream",
     "text": [
      "The number of different values for column 'main' is 234.\n"
     ]
    }
   ],
   "source": [
    "print(\"The number of different values for column 'main' is {}.\".format(new_SERVICES.civ.unique().shape[0]))"
   ]
  },
  {
   "cell_type": "markdown",
   "id": "d444abde",
   "metadata": {
    "papermill": {
     "duration": 0.01862,
     "end_time": "2025-01-18T16:00:05.970077",
     "exception": false,
     "start_time": "2025-01-18T16:00:05.951457",
     "status": "completed"
    },
    "tags": []
   },
   "source": [
    "### VIA: Removal of Redundant Information and Validation\n",
    "\n",
    "When processing records, some entries contain redundant information in the `via` column that matches part of the `t_via` column.\n",
    "To ensure consistency and follow a specific order, we remove the redundant portion.\n",
    "\n",
    "**Example**\n",
    "\n",
    "Given the following data:\n",
    "\n",
    "| t_es          | ubic                      | t_via | via      | civ | cod_via | zd | sup_alt | sup_lav |\n",
    "|---------------|---------------------------|-------|----------|-----|---------|----|---------|---------|\n",
    "| Acconciatore  | CSO COMO N. 15 (z.d. 9)  | CSO   | CSO COMO     | 15  | 1111.0  | 9  | NaN     | 195.0   |\n",
    "\n",
    "\n",
    "The updated record becomes:\n",
    "\n",
    "| t_es          | ubic                      | t_via | via      | civ | cod_via | zd | sup_alt | sup_lav |\n",
    "|---------------|---------------------------|-------|----------|-----|---------|----|---------|---------|\n",
    "| Acconciatore  | CSO COMO N. 15 (z.d. 9)  | CSO   | COMO     | 15  | 1111.0  | 9  | NaN     | 195.0   |\n",
    "\n",
    "\n",
    "In this transformation:\n",
    "- The `via` column value `CSO COMO` had the redundant prefix `CSO` matching the value in the `t_via` column.\n",
    "- The prefix was removed, leaving only the unique portion: `COMO`."
   ]
  },
  {
   "cell_type": "code",
   "execution_count": 33,
   "id": "e050b75a",
   "metadata": {
    "execution": {
     "iopub.execute_input": "2025-01-18T16:00:06.011737Z",
     "iopub.status.busy": "2025-01-18T16:00:06.011289Z",
     "iopub.status.idle": "2025-01-18T16:00:06.079056Z",
     "shell.execute_reply": "2025-01-18T16:00:06.077833Z"
    },
    "papermill": {
     "duration": 0.091726,
     "end_time": "2025-01-18T16:00:06.080885",
     "exception": false,
     "start_time": "2025-01-18T16:00:05.989159",
     "status": "completed"
    },
    "tags": []
   },
   "outputs": [
    {
     "data": {
      "text/html": [
       "<div>\n",
       "<style scoped>\n",
       "    .dataframe tbody tr th:only-of-type {\n",
       "        vertical-align: middle;\n",
       "    }\n",
       "\n",
       "    .dataframe tbody tr th {\n",
       "        vertical-align: top;\n",
       "    }\n",
       "\n",
       "    .dataframe thead th {\n",
       "        text-align: right;\n",
       "    }\n",
       "</style>\n",
       "<table border=\"1\" class=\"dataframe\">\n",
       "  <thead>\n",
       "    <tr style=\"text-align: right;\">\n",
       "      <th></th>\n",
       "      <th>t_es</th>\n",
       "      <th>ubic</th>\n",
       "      <th>t_via</th>\n",
       "      <th>via</th>\n",
       "      <th>civ</th>\n",
       "      <th>cod_via</th>\n",
       "      <th>zd</th>\n",
       "      <th>sup_alt</th>\n",
       "      <th>sup_lav</th>\n",
       "    </tr>\n",
       "  </thead>\n",
       "  <tbody>\n",
       "    <tr>\n",
       "      <th>1140</th>\n",
       "      <td>Parrucchiere per Uomo</td>\n",
       "      <td>CSO COMO N. 11 ; (z.d. 9)</td>\n",
       "      <td>Corso</td>\n",
       "      <td>COMO</td>\n",
       "      <td>11</td>\n",
       "      <td>1111</td>\n",
       "      <td>9</td>\n",
       "      <td>NaN</td>\n",
       "      <td>23.0</td>\n",
       "    </tr>\n",
       "  </tbody>\n",
       "</table>\n",
       "</div>"
      ],
      "text/plain": [
       "                       t_es                       ubic  t_via   via civ  \\\n",
       "1140  Parrucchiere per Uomo  CSO COMO N. 11 ; (z.d. 9)  Corso  COMO  11   \n",
       "\n",
       "     cod_via zd  sup_alt  sup_lav  \n",
       "1140    1111  9      NaN     23.0  "
      ]
     },
     "execution_count": 33,
     "metadata": {},
     "output_type": "execute_result"
    }
   ],
   "source": [
    "new_SERVICES.via = new_SERVICES.via.fillna(\"\").astype(str)\n",
    "new_SERVICES.t_via = new_SERVICES.t_via.fillna(\"\").astype(str) \n",
    "\n",
    "# Function to remove the redundant prefix\n",
    "def clean_via(row):\n",
    "    if row[\"via\"].startswith(row[\"t_via\"] + \" \") and row[\"t_via\"] != \"\":  # Check if via starts with t_via\n",
    "        return row[\"via\"].replace(row[\"t_via\"] + \" \", \"\")  # Remove t_via + space\n",
    "    return row[\"via\"]  # Return original if no match\n",
    "\n",
    "# Apply the function to the 'via' column\n",
    "new_SERVICES[\"via\"] = new_SERVICES.apply(clean_via, axis=1)\n",
    "\n",
    "new_SERVICES[new_SERVICES.via == \"COMO\"].head(1)"
   ]
  },
  {
   "cell_type": "markdown",
   "id": "373d9086",
   "metadata": {
    "papermill": {
     "duration": 0.018851,
     "end_time": "2025-01-18T16:00:06.119175",
     "exception": false,
     "start_time": "2025-01-18T16:00:06.100324",
     "status": "completed"
    },
    "tags": []
   },
   "source": [
    "Now we validate the `via` column in the dataset by comparing it against the descriptive fields (`DESCRITTIVO` and `DENOMINAZIONE`) from the **viario** dataframe.<br> We first normalize the text by converting it to lowercase, removing unnecessary spaces and parentheses, and sorting the words alphabetically. Then, we calculate similarity scores between the `via` column and the two descriptive fields, using the highest score to flag rows for review if they fall below a **75%** similarity threshold. "
   ]
  },
  {
   "cell_type": "code",
   "execution_count": 34,
   "id": "944dc1ea",
   "metadata": {
    "execution": {
     "iopub.execute_input": "2025-01-18T16:00:06.160274Z",
     "iopub.status.busy": "2025-01-18T16:00:06.159894Z",
     "iopub.status.idle": "2025-01-18T16:00:06.283735Z",
     "shell.execute_reply": "2025-01-18T16:00:06.282610Z"
    },
    "papermill": {
     "duration": 0.147061,
     "end_time": "2025-01-18T16:00:06.285463",
     "exception": false,
     "start_time": "2025-01-18T16:00:06.138402",
     "status": "completed"
    },
    "tags": []
   },
   "outputs": [
    {
     "name": "stdout",
     "output_type": "stream",
     "text": [
      "Rows where normalized 'via' and 'DESCRITTIVO'/'DENOMINAZIONE' are not similar enough (below 75% similarity):\n"
     ]
    },
    {
     "data": {
      "text/html": [
       "<div>\n",
       "<style scoped>\n",
       "    .dataframe tbody tr th:only-of-type {\n",
       "        vertical-align: middle;\n",
       "    }\n",
       "\n",
       "    .dataframe tbody tr th {\n",
       "        vertical-align: top;\n",
       "    }\n",
       "\n",
       "    .dataframe thead th {\n",
       "        text-align: right;\n",
       "    }\n",
       "</style>\n",
       "<table border=\"1\" class=\"dataframe\">\n",
       "  <thead>\n",
       "    <tr style=\"text-align: right;\">\n",
       "      <th></th>\n",
       "      <th>cod_via</th>\n",
       "      <th>via</th>\n",
       "      <th>DENOMINAZIONE</th>\n",
       "      <th>DESCRITTIVO</th>\n",
       "      <th>similarity</th>\n",
       "    </tr>\n",
       "  </thead>\n",
       "  <tbody>\n",
       "    <tr>\n",
       "      <th>3087</th>\n",
       "      <td>612</td>\n",
       "      <td>DANTE ALIGHIERI</td>\n",
       "      <td>DANTE</td>\n",
       "      <td>DANTE</td>\n",
       "      <td>50.000000</td>\n",
       "    </tr>\n",
       "    <tr>\n",
       "      <th>2558</th>\n",
       "      <td>1524</td>\n",
       "      <td>GRAZIANO IMPERATORE</td>\n",
       "      <td>GRAZIANO</td>\n",
       "      <td>GRAZIANO</td>\n",
       "      <td>59.259259</td>\n",
       "    </tr>\n",
       "    <tr>\n",
       "      <th>3322</th>\n",
       "      <td>1524</td>\n",
       "      <td>GRAZIANO IMPERATORE</td>\n",
       "      <td>GRAZIANO</td>\n",
       "      <td>GRAZIANO</td>\n",
       "      <td>59.259259</td>\n",
       "    </tr>\n",
       "    <tr>\n",
       "      <th>2308</th>\n",
       "      <td>6380</td>\n",
       "      <td>TIZIANO VECELLIO</td>\n",
       "      <td>TIZIANO</td>\n",
       "      <td>TIZIANO</td>\n",
       "      <td>60.869565</td>\n",
       "    </tr>\n",
       "    <tr>\n",
       "      <th>3453</th>\n",
       "      <td>6380</td>\n",
       "      <td>TIZIANO VECELLIO</td>\n",
       "      <td>TIZIANO</td>\n",
       "      <td>TIZIANO</td>\n",
       "      <td>60.869565</td>\n",
       "    </tr>\n",
       "    <tr>\n",
       "      <th>363</th>\n",
       "      <td>7158</td>\n",
       "      <td>COLONNA MARCO ANTONIO</td>\n",
       "      <td>COLONNA MARCANTONIO</td>\n",
       "      <td>MARCANTONIO COLONNA</td>\n",
       "      <td>65.000000</td>\n",
       "    </tr>\n",
       "    <tr>\n",
       "      <th>2868</th>\n",
       "      <td>7158</td>\n",
       "      <td>COLONNA MARCO ANTONIO</td>\n",
       "      <td>COLONNA MARCANTONIO</td>\n",
       "      <td>MARCANTONIO COLONNA</td>\n",
       "      <td>65.000000</td>\n",
       "    </tr>\n",
       "    <tr>\n",
       "      <th>3612</th>\n",
       "      <td>7158</td>\n",
       "      <td>COLONNA MARCO ANTONIO</td>\n",
       "      <td>COLONNA MARCANTONIO</td>\n",
       "      <td>MARCANTONIO COLONNA</td>\n",
       "      <td>65.000000</td>\n",
       "    </tr>\n",
       "    <tr>\n",
       "      <th>32</th>\n",
       "      <td>1111</td>\n",
       "      <td>CSO COMO</td>\n",
       "      <td>COMO</td>\n",
       "      <td>COMO</td>\n",
       "      <td>66.666667</td>\n",
       "    </tr>\n",
       "    <tr>\n",
       "      <th>1572</th>\n",
       "      <td>4144</td>\n",
       "      <td>DON BOSCO</td>\n",
       "      <td>BOSCO DON GIOVANNI</td>\n",
       "      <td>DON GIOVANNI BOSCO</td>\n",
       "      <td>66.666667</td>\n",
       "    </tr>\n",
       "    <tr>\n",
       "      <th>1573</th>\n",
       "      <td>4144</td>\n",
       "      <td>DON BOSCO</td>\n",
       "      <td>BOSCO DON GIOVANNI</td>\n",
       "      <td>DON GIOVANNI BOSCO</td>\n",
       "      <td>66.666667</td>\n",
       "    </tr>\n",
       "    <tr>\n",
       "      <th>3298</th>\n",
       "      <td>4144</td>\n",
       "      <td>DON BOSCO</td>\n",
       "      <td>BOSCO DON GIOVANNI</td>\n",
       "      <td>DON GIOVANNI BOSCO</td>\n",
       "      <td>66.666667</td>\n",
       "    </tr>\n",
       "    <tr>\n",
       "      <th>3631</th>\n",
       "      <td>4144</td>\n",
       "      <td>DON BOSCO</td>\n",
       "      <td>BOSCO DON GIOVANNI</td>\n",
       "      <td>DON GIOVANNI BOSCO</td>\n",
       "      <td>66.666667</td>\n",
       "    </tr>\n",
       "    <tr>\n",
       "      <th>2223</th>\n",
       "      <td>6551</td>\n",
       "      <td>MURILLO S.B.</td>\n",
       "      <td>MURILLO SEBASTIANO BARTOLOMEO</td>\n",
       "      <td>MURILLO</td>\n",
       "      <td>73.684211</td>\n",
       "    </tr>\n",
       "    <tr>\n",
       "      <th>3490</th>\n",
       "      <td>6551</td>\n",
       "      <td>MURILLO S.B.</td>\n",
       "      <td>MURILLO SEBASTIANO BARTOLOMEO</td>\n",
       "      <td>MURILLO</td>\n",
       "      <td>73.684211</td>\n",
       "    </tr>\n",
       "  </tbody>\n",
       "</table>\n",
       "</div>"
      ],
      "text/plain": [
       "     cod_via                    via                  DENOMINAZIONE  \\\n",
       "3087     612        DANTE ALIGHIERI                          DANTE   \n",
       "2558    1524    GRAZIANO IMPERATORE                       GRAZIANO   \n",
       "3322    1524    GRAZIANO IMPERATORE                       GRAZIANO   \n",
       "2308    6380       TIZIANO VECELLIO                       TIZIANO    \n",
       "3453    6380       TIZIANO VECELLIO                       TIZIANO    \n",
       "363     7158  COLONNA MARCO ANTONIO            COLONNA MARCANTONIO   \n",
       "2868    7158  COLONNA MARCO ANTONIO            COLONNA MARCANTONIO   \n",
       "3612    7158  COLONNA MARCO ANTONIO            COLONNA MARCANTONIO   \n",
       "32      1111               CSO COMO                           COMO   \n",
       "1572    4144              DON BOSCO             BOSCO DON GIOVANNI   \n",
       "1573    4144              DON BOSCO             BOSCO DON GIOVANNI   \n",
       "3298    4144              DON BOSCO             BOSCO DON GIOVANNI   \n",
       "3631    4144              DON BOSCO             BOSCO DON GIOVANNI   \n",
       "2223    6551           MURILLO S.B.  MURILLO SEBASTIANO BARTOLOMEO   \n",
       "3490    6551           MURILLO S.B.  MURILLO SEBASTIANO BARTOLOMEO   \n",
       "\n",
       "              DESCRITTIVO  similarity  \n",
       "3087                DANTE   50.000000  \n",
       "2558             GRAZIANO   59.259259  \n",
       "3322             GRAZIANO   59.259259  \n",
       "2308              TIZIANO   60.869565  \n",
       "3453              TIZIANO   60.869565  \n",
       "363   MARCANTONIO COLONNA   65.000000  \n",
       "2868  MARCANTONIO COLONNA   65.000000  \n",
       "3612  MARCANTONIO COLONNA   65.000000  \n",
       "32                   COMO   66.666667  \n",
       "1572   DON GIOVANNI BOSCO   66.666667  \n",
       "1573   DON GIOVANNI BOSCO   66.666667  \n",
       "3298   DON GIOVANNI BOSCO   66.666667  \n",
       "3631   DON GIOVANNI BOSCO   66.666667  \n",
       "2223              MURILLO   73.684211  \n",
       "3490              MURILLO   73.684211  "
      ]
     },
     "execution_count": 34,
     "metadata": {},
     "output_type": "execute_result"
    }
   ],
   "source": [
    "# Function to normalize the names by removing extra spaces, converting to lowercase, and sorting words\n",
    "def normalize_string(s):\n",
    "\n",
    "    #to remove specific pattern contained in the data\n",
    "    s = re.sub(r\"sant'\\s*\", \"sant'\", s.lower())  # Fix spaces around 'sant'\n",
    "    s = re.sub(r\"dell'\\s*\", \"dell'\", s.lower())  # Fix spaces around 'dell\n",
    "    s = re.sub(r\"[()]\", \"\", s) # Remove the parenthesis\n",
    "    \n",
    "    # Split the string into words\n",
    "    words = s.strip().split()\n",
    "    \n",
    "    # Sort the words alphabetically\n",
    "    words.sort()\n",
    "    \n",
    "    # Join the words back together and convert to lowercase\n",
    "    return \" \".join(words)\n",
    "\n",
    "# Function to compute the edit distance between two strings (after normalization)\n",
    "def calculate_similarity(str1, str2):\n",
    "    return fuzz.ratio(str1, str2)\n",
    "\n",
    "# Merge new_SERVICES with viario on 'cod_via' and 'CODICE_VIA' to bring in 'DESCRITTIVO'\n",
    "merged_df = new_SERVICES.merge(viario[['CODICE_VIA', 'DESCRITTIVO', 'DENOMINAZIONE']], left_on='cod_via', right_on='CODICE_VIA', how='left')\n",
    "\n",
    "# Normalize 'via' and 'DESCRITTIVO' columns\n",
    "merged_df['normalized_via'] = merged_df['via'].apply(normalize_string)\n",
    "merged_df['normalized_descrittivo'] = merged_df['DESCRITTIVO'].apply(normalize_string)\n",
    "merged_df['normalized_denominazione'] = merged_df['DENOMINAZIONE'].apply(normalize_string)\n",
    "\n",
    "# Calculate the similarity between normalized values using edit distance\n",
    "merged_df['similarity'] = merged_df.apply(lambda row: max(calculate_similarity(row['normalized_via'], row['normalized_descrittivo']), calculate_similarity(row['normalized_via'], row['normalized_denominazione'])), axis=1)\n",
    "\n",
    "# Print rows where the similarity is below a certain threshold (e.g., 80)\n",
    "threshold = 75\n",
    "non_matching_rows = merged_df[merged_df['similarity'] < threshold]\n",
    "\n",
    "# Show the rows with low similarity\n",
    "print(f\"Rows where normalized 'via' and 'DESCRITTIVO'/'DENOMINAZIONE' are not similar enough (below {threshold}% similarity):\")\n",
    "non_matching_rows[['cod_via', 'via', 'DENOMINAZIONE', 'DESCRITTIVO', 'similarity']].sort_values(by=\"similarity\", ascending=True)"
   ]
  },
  {
   "cell_type": "markdown",
   "id": "fcd109f9",
   "metadata": {
    "papermill": {
     "duration": 0.019761,
     "end_time": "2025-01-18T16:00:06.325642",
     "exception": false,
     "start_time": "2025-01-18T16:00:06.305881",
     "status": "completed"
    },
    "tags": []
   },
   "source": [
    "Since these values with similarity lower than 75% match the respective addresses semantically, the `via` column can now be standardized to match the format of the `viario.DESCRITTIVO` column."
   ]
  },
  {
   "cell_type": "code",
   "execution_count": 35,
   "id": "bb51b4c5",
   "metadata": {
    "execution": {
     "iopub.execute_input": "2025-01-18T16:00:06.366726Z",
     "iopub.status.busy": "2025-01-18T16:00:06.366330Z",
     "iopub.status.idle": "2025-01-18T16:00:06.387717Z",
     "shell.execute_reply": "2025-01-18T16:00:06.386563Z"
    },
    "papermill": {
     "duration": 0.044049,
     "end_time": "2025-01-18T16:00:06.389719",
     "exception": false,
     "start_time": "2025-01-18T16:00:06.345670",
     "status": "completed"
    },
    "tags": []
   },
   "outputs": [
    {
     "data": {
      "text/html": [
       "<div>\n",
       "<style scoped>\n",
       "    .dataframe tbody tr th:only-of-type {\n",
       "        vertical-align: middle;\n",
       "    }\n",
       "\n",
       "    .dataframe tbody tr th {\n",
       "        vertical-align: top;\n",
       "    }\n",
       "\n",
       "    .dataframe thead th {\n",
       "        text-align: right;\n",
       "    }\n",
       "</style>\n",
       "<table border=\"1\" class=\"dataframe\">\n",
       "  <thead>\n",
       "    <tr style=\"text-align: right;\">\n",
       "      <th></th>\n",
       "      <th>t_es</th>\n",
       "      <th>ubic</th>\n",
       "      <th>t_via</th>\n",
       "      <th>via</th>\n",
       "      <th>civ</th>\n",
       "      <th>cod_via</th>\n",
       "      <th>zd</th>\n",
       "      <th>sup_alt</th>\n",
       "      <th>sup_lav</th>\n",
       "    </tr>\n",
       "  </thead>\n",
       "  <tbody>\n",
       "    <tr>\n",
       "      <th>0</th>\n",
       "      <td></td>\n",
       "      <td>LGO DEI GELSOMINI N. 10 (z.d. 6)</td>\n",
       "      <td>Largo</td>\n",
       "      <td>DEI GELSOMINI</td>\n",
       "      <td>10</td>\n",
       "      <td>5394</td>\n",
       "      <td>6</td>\n",
       "      <td>NaN</td>\n",
       "      <td>55.0</td>\n",
       "    </tr>\n",
       "    <tr>\n",
       "      <th>1</th>\n",
       "      <td>Centro Massaggi</td>\n",
       "      <td>PZA FIDIA N. 3 (z.d. 9)</td>\n",
       "      <td>Piazza</td>\n",
       "      <td>FIDIA</td>\n",
       "      <td>3</td>\n",
       "      <td>1144</td>\n",
       "      <td>9</td>\n",
       "      <td>2.0</td>\n",
       "      <td>28.0</td>\n",
       "    </tr>\n",
       "    <tr>\n",
       "      <th>2</th>\n",
       "      <td>Centro Benessere</td>\n",
       "      <td>VIA ADIGE N. 10 (z.d. 5)</td>\n",
       "      <td>Via</td>\n",
       "      <td>ADIGE</td>\n",
       "      <td>10</td>\n",
       "      <td>4216</td>\n",
       "      <td>5</td>\n",
       "      <td>2.0</td>\n",
       "      <td>27.0</td>\n",
       "    </tr>\n",
       "    <tr>\n",
       "      <th>3</th>\n",
       "      <td>Truccatore</td>\n",
       "      <td>VIA BARACCHINI FLAVIO N. 9 (z.d. 1)</td>\n",
       "      <td>Via</td>\n",
       "      <td>FLAVIO BARACCHINI</td>\n",
       "      <td>9</td>\n",
       "      <td>356</td>\n",
       "      <td>1</td>\n",
       "      <td>NaN</td>\n",
       "      <td>NaN</td>\n",
       "    </tr>\n",
       "    <tr>\n",
       "      <th>4</th>\n",
       "      <td></td>\n",
       "      <td>VIA BERGAMO N. 12 (z.d. 4)</td>\n",
       "      <td>Via</td>\n",
       "      <td>BERGAMO</td>\n",
       "      <td>12</td>\n",
       "      <td>3189</td>\n",
       "      <td>4</td>\n",
       "      <td>NaN</td>\n",
       "      <td>50.0</td>\n",
       "    </tr>\n",
       "  </tbody>\n",
       "</table>\n",
       "</div>"
      ],
      "text/plain": [
       "               t_es                                 ubic   t_via  \\\n",
       "0                       LGO DEI GELSOMINI N. 10 (z.d. 6)   Largo   \n",
       "1   Centro Massaggi              PZA FIDIA N. 3 (z.d. 9)  Piazza   \n",
       "2  Centro Benessere             VIA ADIGE N. 10 (z.d. 5)     Via   \n",
       "3        Truccatore  VIA BARACCHINI FLAVIO N. 9 (z.d. 1)     Via   \n",
       "4                             VIA BERGAMO N. 12 (z.d. 4)     Via   \n",
       "\n",
       "                 via civ cod_via zd  sup_alt  sup_lav  \n",
       "0      DEI GELSOMINI  10    5394  6      NaN     55.0  \n",
       "1              FIDIA   3    1144  9      2.0     28.0  \n",
       "2              ADIGE  10    4216  5      2.0     27.0  \n",
       "3  FLAVIO BARACCHINI   9     356  1      NaN      NaN  \n",
       "4            BERGAMO  12    3189  4      NaN     50.0  "
      ]
     },
     "execution_count": 35,
     "metadata": {},
     "output_type": "execute_result"
    }
   ],
   "source": [
    "# Merge new_SERVICES with viario on the matching cod_via and CODICE_VIA\n",
    "new_SERVICES = new_SERVICES.merge(viario[['CODICE_VIA', 'DESCRITTIVO']], \n",
    "                                  left_on='cod_via', right_on='CODICE_VIA', \n",
    "                                  how='left')\n",
    "\n",
    "# Update the via column with the corresponding DESCRITTIVO value\n",
    "new_SERVICES['via'] = new_SERVICES['DESCRITTIVO']\n",
    "\n",
    "# Drop the extra columns (if needed)\n",
    "new_SERVICES.drop(columns=['CODICE_VIA', 'DESCRITTIVO'], inplace=True)\n",
    "new_SERVICES.head()"
   ]
  },
  {
   "cell_type": "markdown",
   "id": "e4f48101",
   "metadata": {
    "papermill": {
     "duration": 0.019863,
     "end_time": "2025-01-18T16:00:06.429786",
     "exception": false,
     "start_time": "2025-01-18T16:00:06.409923",
     "status": "completed"
    },
    "tags": []
   },
   "source": [
    "### UBIC: Structuring and Format Changing\n",
    "We process the `ubic` field to extract and organize its contents into distinct components: `ubic_t_via` (street type), `ubic_via` (street name), `ubic_civ` (street number), `ubic_zd` (zone description), and `note` (additional information). This step allows us to compare these extracted values with the corresponding columns that share similar semantic meanings (`t_via`, `via`, `civ`, and `zd`). \n",
    "\n",
    "Once the comparison is complete, we remove the `ubic` field and its derived columns to eliminate redundancy. \n",
    "\n",
    "This approach ensures a cleaner and more structured dataset for further analysis.\n",
    "\n",
    "**Example**\n",
    "\n",
    "Given the following data:\n",
    "\n",
    "| t_es  | ubic | t_via | via | civ | cod_via | zd | sup_alt | sup_lav | \n",
    "|-------|------|-------|-----|-----|---------|----|---------|---------|\n",
    "| Tipo A - Estetica Manuale;Tipo C - Trattamenti Estetici Dimagrimento | ALZ NAVIGLIO PAVESE N. 8 int.attivita' di parrucchiere; (z.d. 6) | ALZ | NAVIGLIO PAVESE | 8 | 5161.0 | 6 | NaN | NaN |\n",
    "\n",
    "The updated record becomes:\n",
    "\n",
    "| t_es  | t_via | via | civ | cod_via | zd | sup_alt | sup_lav | ubic_t_via | ubic_via | ubic_civ | ubic_zd | note |\n",
    "|-------|-------|-----|-----|---------|----|---------|---------|------------|----------|----------|--------|------|\n",
    "| Tipo A - Estetica Manuale;Tipo C - Trattamenti Estetici Dimagrimento  | ALZ | NAVIGLIO PAVESE | 8 | 5161.0 | 6 | NaN | NaN | ALZ | NAVIGLIO PAVESE | 8 | 6 | int.attivita' di parrucchiere |\n",
    "\n",
    "**Explanation**:\n",
    "\n",
    "In this transformation:\n",
    "- The `via` column value `NAVIGLIO PAVESE` had the redundant prefix `ALZ` matching the value in the `t_via` column.\n",
    "- The prefix `ALZ` is removed from the `via` column, leaving the unique portion: `NAVIGLIO PAVESE`.\n",
    "- The `ubic` field remains the same in structure but is used to extract the relevant information, including the street name, number, and zone description, which are now placed in separate columns (`ubic_via`, `ubic_civ`, `ubic_zd`), while any additional information (e.g., `int.attivita' di parrucchiere`) is placed in the `note` column."
   ]
  },
  {
   "cell_type": "code",
   "execution_count": 36,
   "id": "a465e032",
   "metadata": {
    "execution": {
     "iopub.execute_input": "2025-01-18T16:00:06.471506Z",
     "iopub.status.busy": "2025-01-18T16:00:06.471101Z",
     "iopub.status.idle": "2025-01-18T16:00:08.090511Z",
     "shell.execute_reply": "2025-01-18T16:00:08.088965Z"
    },
    "papermill": {
     "duration": 1.642452,
     "end_time": "2025-01-18T16:00:08.092670",
     "exception": false,
     "start_time": "2025-01-18T16:00:06.450218",
     "status": "completed"
    },
    "tags": []
   },
   "outputs": [
    {
     "data": {
      "text/html": [
       "<div>\n",
       "<style scoped>\n",
       "    .dataframe tbody tr th:only-of-type {\n",
       "        vertical-align: middle;\n",
       "    }\n",
       "\n",
       "    .dataframe tbody tr th {\n",
       "        vertical-align: top;\n",
       "    }\n",
       "\n",
       "    .dataframe thead th {\n",
       "        text-align: right;\n",
       "    }\n",
       "</style>\n",
       "<table border=\"1\" class=\"dataframe\">\n",
       "  <thead>\n",
       "    <tr style=\"text-align: right;\">\n",
       "      <th></th>\n",
       "      <th>t_es</th>\n",
       "      <th>ubic</th>\n",
       "      <th>t_via</th>\n",
       "      <th>via</th>\n",
       "      <th>civ</th>\n",
       "      <th>cod_via</th>\n",
       "      <th>zd</th>\n",
       "      <th>sup_alt</th>\n",
       "      <th>sup_lav</th>\n",
       "      <th>ubic_t_via</th>\n",
       "      <th>ubic_via</th>\n",
       "      <th>ubic_civ</th>\n",
       "      <th>ubic_zd</th>\n",
       "      <th>note</th>\n",
       "    </tr>\n",
       "  </thead>\n",
       "  <tbody>\n",
       "    <tr>\n",
       "      <th>0</th>\n",
       "      <td></td>\n",
       "      <td>LGO DEI GELSOMINI N. 10 (z.d. 6)</td>\n",
       "      <td>Largo</td>\n",
       "      <td>DEI GELSOMINI</td>\n",
       "      <td>10</td>\n",
       "      <td>5394</td>\n",
       "      <td>6</td>\n",
       "      <td>NaN</td>\n",
       "      <td>55.0</td>\n",
       "      <td>LGO</td>\n",
       "      <td>DEI GELSOMINI</td>\n",
       "      <td>10</td>\n",
       "      <td>6</td>\n",
       "      <td>NaN</td>\n",
       "    </tr>\n",
       "    <tr>\n",
       "      <th>1</th>\n",
       "      <td>Centro Massaggi</td>\n",
       "      <td>PZA FIDIA N. 3 (z.d. 9)</td>\n",
       "      <td>Piazza</td>\n",
       "      <td>FIDIA</td>\n",
       "      <td>3</td>\n",
       "      <td>1144</td>\n",
       "      <td>9</td>\n",
       "      <td>2.0</td>\n",
       "      <td>28.0</td>\n",
       "      <td>PZA</td>\n",
       "      <td>FIDIA</td>\n",
       "      <td>3</td>\n",
       "      <td>9</td>\n",
       "      <td>NaN</td>\n",
       "    </tr>\n",
       "    <tr>\n",
       "      <th>2</th>\n",
       "      <td>Centro Benessere</td>\n",
       "      <td>VIA ADIGE N. 10 (z.d. 5)</td>\n",
       "      <td>Via</td>\n",
       "      <td>ADIGE</td>\n",
       "      <td>10</td>\n",
       "      <td>4216</td>\n",
       "      <td>5</td>\n",
       "      <td>2.0</td>\n",
       "      <td>27.0</td>\n",
       "      <td>VIA</td>\n",
       "      <td>ADIGE</td>\n",
       "      <td>10</td>\n",
       "      <td>5</td>\n",
       "      <td>NaN</td>\n",
       "    </tr>\n",
       "    <tr>\n",
       "      <th>3</th>\n",
       "      <td>Truccatore</td>\n",
       "      <td>VIA BARACCHINI FLAVIO N. 9 (z.d. 1)</td>\n",
       "      <td>Via</td>\n",
       "      <td>FLAVIO BARACCHINI</td>\n",
       "      <td>9</td>\n",
       "      <td>356</td>\n",
       "      <td>1</td>\n",
       "      <td>NaN</td>\n",
       "      <td>NaN</td>\n",
       "      <td>VIA</td>\n",
       "      <td>BARACCHINI FLAVIO</td>\n",
       "      <td>9</td>\n",
       "      <td>1</td>\n",
       "      <td>NaN</td>\n",
       "    </tr>\n",
       "    <tr>\n",
       "      <th>4</th>\n",
       "      <td></td>\n",
       "      <td>VIA BERGAMO N. 12 (z.d. 4)</td>\n",
       "      <td>Via</td>\n",
       "      <td>BERGAMO</td>\n",
       "      <td>12</td>\n",
       "      <td>3189</td>\n",
       "      <td>4</td>\n",
       "      <td>NaN</td>\n",
       "      <td>50.0</td>\n",
       "      <td>VIA</td>\n",
       "      <td>BERGAMO</td>\n",
       "      <td>12</td>\n",
       "      <td>4</td>\n",
       "      <td>NaN</td>\n",
       "    </tr>\n",
       "  </tbody>\n",
       "</table>\n",
       "</div>"
      ],
      "text/plain": [
       "               t_es                                 ubic   t_via  \\\n",
       "0                       LGO DEI GELSOMINI N. 10 (z.d. 6)   Largo   \n",
       "1   Centro Massaggi              PZA FIDIA N. 3 (z.d. 9)  Piazza   \n",
       "2  Centro Benessere             VIA ADIGE N. 10 (z.d. 5)     Via   \n",
       "3        Truccatore  VIA BARACCHINI FLAVIO N. 9 (z.d. 1)     Via   \n",
       "4                             VIA BERGAMO N. 12 (z.d. 4)     Via   \n",
       "\n",
       "                 via civ cod_via zd  sup_alt  sup_lav ubic_t_via  \\\n",
       "0      DEI GELSOMINI  10    5394  6      NaN     55.0        LGO   \n",
       "1              FIDIA   3    1144  9      2.0     28.0        PZA   \n",
       "2              ADIGE  10    4216  5      2.0     27.0        VIA   \n",
       "3  FLAVIO BARACCHINI   9     356  1      NaN      NaN        VIA   \n",
       "4            BERGAMO  12    3189  4      NaN     50.0        VIA   \n",
       "\n",
       "            ubic_via ubic_civ ubic_zd note  \n",
       "0      DEI GELSOMINI       10       6  NaN  \n",
       "1              FIDIA        3       9  NaN  \n",
       "2              ADIGE       10       5  NaN  \n",
       "3  BARACCHINI FLAVIO        9       1  NaN  \n",
       "4            BERGAMO       12       4  NaN  "
      ]
     },
     "execution_count": 36,
     "metadata": {},
     "output_type": "execute_result"
    }
   ],
   "source": [
    "def split_ubicazione(ubicazione):\n",
    "    # Initialize variables\n",
    "    tipo_via = np.nan\n",
    "    via = np.nan\n",
    "    civico = np.nan\n",
    "    zd = np.nan\n",
    "    note = np.nan\n",
    "    \n",
    "    ubicazione = ubicazione.replace(\"Ã¸\", \"A\")   # Handle lone 'Ã'\n",
    "    ubicazione = ubicazione.replace(\" n.\",\" N.\")\n",
    "    \n",
    "    # Split the string into parts\n",
    "    parts = ubicazione.split(\" \")\n",
    "\n",
    "    if parts[0].lower() == \"vie\":\n",
    "        parts[0] = \"via\"\n",
    "    \n",
    "    # Extract \"Tipo Via\" (first word if valid)\n",
    "    if parts[0].lower() in tipovia.DESC_ABBREVIATA.str.lower().unique():\n",
    "        tipo_via = parts[0]\n",
    "        parts = parts[1:]  # Remove 'Tipo Via' from further processing\n",
    "\n",
    "    # Find \"Civico\" (number after \"N.\" or \"num.\")\n",
    "    # pattern = r'^\\d{1,3}(?:/\\d{1,3}[A-Z]?)?(?:[A-Z]+)?(?:[A-Z]+P\\d{2})?(?:[A-Z]+N\\d{2})?(?:[A-Z]+C\\d{2})?(?:[A-Z]+G\\d{2})?$'\n",
    "    pattern = r'\\b(?:N\\.|num\\.)\\s*([\\w/]+)'\n",
    "    match = re.search(pattern, ubicazione, re.IGNORECASE)\n",
    "    if match:\n",
    "        civico = match.group(1).strip(\";\")\n",
    "        parts = re.sub(pattern, '', ubicazione).split()\n",
    "\n",
    "    # Extract \"ZD\" (zone description)\n",
    "    match_zd = re.search(r'\\(z\\.d\\.\\s*(\\d+)\\)', ubicazione, re.IGNORECASE)\n",
    "    if match_zd:\n",
    "        zd = match_zd.group(1)\n",
    "        parts = re.sub(r'\\(z\\.d\\.\\s*\\d+\\)', '', \" \".join(parts)).split()\n",
    "\n",
    "    # To put together strings of the note like '1A' and 'piano' \n",
    "    # Check if there are at least three words to avoid IndexError\n",
    "    if len(parts) > 3:\n",
    "        # Define a regular expression to match \"number + letter\" (e.g., \"1A\")\n",
    "        pattern = r\"^\\d+[A-Za-z]$\"\n",
    "        \n",
    "        # Check if either parts[-2] or parts[-1] matches the pattern\n",
    "        if re.match(pattern, parts[-2]) or re.match(pattern, parts[-1]):\n",
    "            # Concatenate third-to-last and second-to-last parts\n",
    "            parts[-2] = parts[-2] + \" \" + parts[-1]\n",
    "            del parts[-1]  # Remove the last word after merging\n",
    "\n",
    "    # Identify and extract the \"Via\" (remaining uppercase parts)\n",
    "    via_parts = []\n",
    "    note_parts = []\n",
    "    for part in parts:\n",
    "        if part.isupper():  # Uppercase letters are part of \"Via\"\n",
    "            via_parts.append(part)\n",
    "        else:  # Lowercase letters are considered \"Note\"\n",
    "            note_parts.append(part)\n",
    "\n",
    "    # Construct the \"Via\" without the \"Tipo Via\"\n",
    "    via_parts = [part for part in via_parts if part != tipo_via]  # Remove 'tipo_via' from 'via_parts'\n",
    "    via = \" \".join(via_parts).strip()\n",
    "    via =  via.replace(\";\", \"\")\n",
    "    note = \" \".join(note_parts).strip(\";\") if note_parts else np.nan\n",
    "    if note == \"\":\n",
    "        note = np.nan\n",
    "    \n",
    "    # Remove leading zeros unless the value contains alphabetic characters\n",
    "    if civico and civico.isdigit():\n",
    "        civico = str(int(civico))  # Remove leading zeros by converting to an integer\n",
    "    elif civico:  # Preserve alphanumeric strings like '012B'\n",
    "        civico = civico.lstrip(\"0\").upper()  # Strip leading zeros but keep characters intact\n",
    "\n",
    "    return tipo_via, via, civico, zd, note\n",
    "\n",
    "# Apply the function to create new columns\n",
    "new_SERVICES[['ubic_t_via', 'ubic_via', 'ubic_civ', 'ubic_zd', 'note']] = new_SERVICES['ubic'].apply(lambda x: pd.Series(split_ubicazione(x)))\n",
    "new_SERVICES.head()"
   ]
  },
  {
   "cell_type": "code",
   "execution_count": 37,
   "id": "6e9cb82f",
   "metadata": {
    "execution": {
     "iopub.execute_input": "2025-01-18T16:00:08.136387Z",
     "iopub.status.busy": "2025-01-18T16:00:08.135939Z",
     "iopub.status.idle": "2025-01-18T16:00:08.156425Z",
     "shell.execute_reply": "2025-01-18T16:00:08.155097Z"
    },
    "papermill": {
     "duration": 0.044957,
     "end_time": "2025-01-18T16:00:08.158943",
     "exception": false,
     "start_time": "2025-01-18T16:00:08.113986",
     "status": "completed"
    },
    "tags": []
   },
   "outputs": [
    {
     "data": {
      "text/html": [
       "<div>\n",
       "<style scoped>\n",
       "    .dataframe tbody tr th:only-of-type {\n",
       "        vertical-align: middle;\n",
       "    }\n",
       "\n",
       "    .dataframe tbody tr th {\n",
       "        vertical-align: top;\n",
       "    }\n",
       "\n",
       "    .dataframe thead th {\n",
       "        text-align: right;\n",
       "    }\n",
       "</style>\n",
       "<table border=\"1\" class=\"dataframe\">\n",
       "  <thead>\n",
       "    <tr style=\"text-align: right;\">\n",
       "      <th></th>\n",
       "      <th>t_es</th>\n",
       "      <th>t_via</th>\n",
       "      <th>via</th>\n",
       "      <th>civ</th>\n",
       "      <th>cod_via</th>\n",
       "      <th>zd</th>\n",
       "      <th>sup_alt</th>\n",
       "      <th>sup_lav</th>\n",
       "      <th>ubic_t_via</th>\n",
       "      <th>ubic_via</th>\n",
       "      <th>ubic_civ</th>\n",
       "      <th>ubic_zd</th>\n",
       "      <th>note</th>\n",
       "    </tr>\n",
       "  </thead>\n",
       "  <tbody>\n",
       "    <tr>\n",
       "      <th>0</th>\n",
       "      <td></td>\n",
       "      <td>Largo</td>\n",
       "      <td>DEI GELSOMINI</td>\n",
       "      <td>10</td>\n",
       "      <td>5394</td>\n",
       "      <td>6</td>\n",
       "      <td>NaN</td>\n",
       "      <td>55.0</td>\n",
       "      <td>LGO</td>\n",
       "      <td>DEI GELSOMINI</td>\n",
       "      <td>10</td>\n",
       "      <td>6</td>\n",
       "      <td>NaN</td>\n",
       "    </tr>\n",
       "    <tr>\n",
       "      <th>1</th>\n",
       "      <td>Centro Massaggi</td>\n",
       "      <td>Piazza</td>\n",
       "      <td>FIDIA</td>\n",
       "      <td>3</td>\n",
       "      <td>1144</td>\n",
       "      <td>9</td>\n",
       "      <td>2.0</td>\n",
       "      <td>28.0</td>\n",
       "      <td>PZA</td>\n",
       "      <td>FIDIA</td>\n",
       "      <td>3</td>\n",
       "      <td>9</td>\n",
       "      <td>NaN</td>\n",
       "    </tr>\n",
       "    <tr>\n",
       "      <th>2</th>\n",
       "      <td>Centro Benessere</td>\n",
       "      <td>Via</td>\n",
       "      <td>ADIGE</td>\n",
       "      <td>10</td>\n",
       "      <td>4216</td>\n",
       "      <td>5</td>\n",
       "      <td>2.0</td>\n",
       "      <td>27.0</td>\n",
       "      <td>VIA</td>\n",
       "      <td>ADIGE</td>\n",
       "      <td>10</td>\n",
       "      <td>5</td>\n",
       "      <td>NaN</td>\n",
       "    </tr>\n",
       "    <tr>\n",
       "      <th>3</th>\n",
       "      <td>Truccatore</td>\n",
       "      <td>Via</td>\n",
       "      <td>FLAVIO BARACCHINI</td>\n",
       "      <td>9</td>\n",
       "      <td>356</td>\n",
       "      <td>1</td>\n",
       "      <td>NaN</td>\n",
       "      <td>NaN</td>\n",
       "      <td>VIA</td>\n",
       "      <td>BARACCHINI FLAVIO</td>\n",
       "      <td>9</td>\n",
       "      <td>1</td>\n",
       "      <td>NaN</td>\n",
       "    </tr>\n",
       "    <tr>\n",
       "      <th>4</th>\n",
       "      <td></td>\n",
       "      <td>Via</td>\n",
       "      <td>BERGAMO</td>\n",
       "      <td>12</td>\n",
       "      <td>3189</td>\n",
       "      <td>4</td>\n",
       "      <td>NaN</td>\n",
       "      <td>50.0</td>\n",
       "      <td>VIA</td>\n",
       "      <td>BERGAMO</td>\n",
       "      <td>12</td>\n",
       "      <td>4</td>\n",
       "      <td>NaN</td>\n",
       "    </tr>\n",
       "  </tbody>\n",
       "</table>\n",
       "</div>"
      ],
      "text/plain": [
       "               t_es   t_via                via civ cod_via zd  sup_alt  \\\n",
       "0                     Largo      DEI GELSOMINI  10    5394  6      NaN   \n",
       "1   Centro Massaggi  Piazza              FIDIA   3    1144  9      2.0   \n",
       "2  Centro Benessere     Via              ADIGE  10    4216  5      2.0   \n",
       "3        Truccatore     Via  FLAVIO BARACCHINI   9     356  1      NaN   \n",
       "4                       Via            BERGAMO  12    3189  4      NaN   \n",
       "\n",
       "   sup_lav ubic_t_via           ubic_via ubic_civ ubic_zd note  \n",
       "0     55.0        LGO      DEI GELSOMINI       10       6  NaN  \n",
       "1     28.0        PZA              FIDIA        3       9  NaN  \n",
       "2     27.0        VIA              ADIGE       10       5  NaN  \n",
       "3      NaN        VIA  BARACCHINI FLAVIO        9       1  NaN  \n",
       "4     50.0        VIA            BERGAMO       12       4  NaN  "
      ]
     },
     "execution_count": 37,
     "metadata": {},
     "output_type": "execute_result"
    }
   ],
   "source": [
    "new_SERVICES = new_SERVICES.drop(\"ubic\", axis=1)\n",
    "new_SERVICES.head()"
   ]
  },
  {
   "cell_type": "markdown",
   "id": "bf96bf8a",
   "metadata": {
    "papermill": {
     "duration": 0.020119,
     "end_time": "2025-01-18T16:00:08.200866",
     "exception": false,
     "start_time": "2025-01-18T16:00:08.180747",
     "status": "completed"
    },
    "tags": []
   },
   "source": [
    "Now we standardize the `ubic_t_via` column with the values from the **tipovia** dataframe. Since we have already ensured that all values in `ubic_t_via` match the corresponding abbreviations from the `DESC_ABBREVIATA` column in **tipovia**, there is no need for additional corrections or formatting. We directly map the `ubic_t_via` values to their corresponding `DESC_ESTESA` values from **tipovia** as `desc_attesa`."
   ]
  },
  {
   "cell_type": "code",
   "execution_count": 38,
   "id": "7c44ccb0",
   "metadata": {
    "execution": {
     "iopub.execute_input": "2025-01-18T16:00:08.243438Z",
     "iopub.status.busy": "2025-01-18T16:00:08.243021Z",
     "iopub.status.idle": "2025-01-18T16:00:08.263813Z",
     "shell.execute_reply": "2025-01-18T16:00:08.262358Z"
    },
    "papermill": {
     "duration": 0.044264,
     "end_time": "2025-01-18T16:00:08.265920",
     "exception": false,
     "start_time": "2025-01-18T16:00:08.221656",
     "status": "completed"
    },
    "tags": []
   },
   "outputs": [
    {
     "data": {
      "text/html": [
       "<div>\n",
       "<style scoped>\n",
       "    .dataframe tbody tr th:only-of-type {\n",
       "        vertical-align: middle;\n",
       "    }\n",
       "\n",
       "    .dataframe tbody tr th {\n",
       "        vertical-align: top;\n",
       "    }\n",
       "\n",
       "    .dataframe thead th {\n",
       "        text-align: right;\n",
       "    }\n",
       "</style>\n",
       "<table border=\"1\" class=\"dataframe\">\n",
       "  <thead>\n",
       "    <tr style=\"text-align: right;\">\n",
       "      <th></th>\n",
       "      <th>t_es</th>\n",
       "      <th>t_via</th>\n",
       "      <th>via</th>\n",
       "      <th>civ</th>\n",
       "      <th>cod_via</th>\n",
       "      <th>zd</th>\n",
       "      <th>sup_alt</th>\n",
       "      <th>sup_lav</th>\n",
       "      <th>ubic_t_via</th>\n",
       "      <th>ubic_via</th>\n",
       "      <th>ubic_civ</th>\n",
       "      <th>ubic_zd</th>\n",
       "      <th>note</th>\n",
       "    </tr>\n",
       "  </thead>\n",
       "  <tbody>\n",
       "    <tr>\n",
       "      <th>0</th>\n",
       "      <td></td>\n",
       "      <td>Largo</td>\n",
       "      <td>DEI GELSOMINI</td>\n",
       "      <td>10</td>\n",
       "      <td>5394</td>\n",
       "      <td>6</td>\n",
       "      <td>NaN</td>\n",
       "      <td>55.0</td>\n",
       "      <td>Largo</td>\n",
       "      <td>DEI GELSOMINI</td>\n",
       "      <td>10</td>\n",
       "      <td>6</td>\n",
       "      <td>NaN</td>\n",
       "    </tr>\n",
       "    <tr>\n",
       "      <th>1</th>\n",
       "      <td>Centro Massaggi</td>\n",
       "      <td>Piazza</td>\n",
       "      <td>FIDIA</td>\n",
       "      <td>3</td>\n",
       "      <td>1144</td>\n",
       "      <td>9</td>\n",
       "      <td>2.0</td>\n",
       "      <td>28.0</td>\n",
       "      <td>Piazza</td>\n",
       "      <td>FIDIA</td>\n",
       "      <td>3</td>\n",
       "      <td>9</td>\n",
       "      <td>NaN</td>\n",
       "    </tr>\n",
       "    <tr>\n",
       "      <th>2</th>\n",
       "      <td>Centro Benessere</td>\n",
       "      <td>Via</td>\n",
       "      <td>ADIGE</td>\n",
       "      <td>10</td>\n",
       "      <td>4216</td>\n",
       "      <td>5</td>\n",
       "      <td>2.0</td>\n",
       "      <td>27.0</td>\n",
       "      <td>Via</td>\n",
       "      <td>ADIGE</td>\n",
       "      <td>10</td>\n",
       "      <td>5</td>\n",
       "      <td>NaN</td>\n",
       "    </tr>\n",
       "    <tr>\n",
       "      <th>3</th>\n",
       "      <td>Truccatore</td>\n",
       "      <td>Via</td>\n",
       "      <td>FLAVIO BARACCHINI</td>\n",
       "      <td>9</td>\n",
       "      <td>356</td>\n",
       "      <td>1</td>\n",
       "      <td>NaN</td>\n",
       "      <td>NaN</td>\n",
       "      <td>Via</td>\n",
       "      <td>BARACCHINI FLAVIO</td>\n",
       "      <td>9</td>\n",
       "      <td>1</td>\n",
       "      <td>NaN</td>\n",
       "    </tr>\n",
       "    <tr>\n",
       "      <th>4</th>\n",
       "      <td></td>\n",
       "      <td>Via</td>\n",
       "      <td>BERGAMO</td>\n",
       "      <td>12</td>\n",
       "      <td>3189</td>\n",
       "      <td>4</td>\n",
       "      <td>NaN</td>\n",
       "      <td>50.0</td>\n",
       "      <td>Via</td>\n",
       "      <td>BERGAMO</td>\n",
       "      <td>12</td>\n",
       "      <td>4</td>\n",
       "      <td>NaN</td>\n",
       "    </tr>\n",
       "  </tbody>\n",
       "</table>\n",
       "</div>"
      ],
      "text/plain": [
       "               t_es   t_via                via civ cod_via zd  sup_alt  \\\n",
       "0                     Largo      DEI GELSOMINI  10    5394  6      NaN   \n",
       "1   Centro Massaggi  Piazza              FIDIA   3    1144  9      2.0   \n",
       "2  Centro Benessere     Via              ADIGE  10    4216  5      2.0   \n",
       "3        Truccatore     Via  FLAVIO BARACCHINI   9     356  1      NaN   \n",
       "4                       Via            BERGAMO  12    3189  4      NaN   \n",
       "\n",
       "   sup_lav ubic_t_via           ubic_via ubic_civ ubic_zd note  \n",
       "0     55.0      Largo      DEI GELSOMINI       10       6  NaN  \n",
       "1     28.0     Piazza              FIDIA        3       9  NaN  \n",
       "2     27.0        Via              ADIGE       10       5  NaN  \n",
       "3      NaN        Via  BARACCHINI FLAVIO        9       1  NaN  \n",
       "4     50.0        Via            BERGAMO       12       4  NaN  "
      ]
     },
     "execution_count": 38,
     "metadata": {},
     "output_type": "execute_result"
    }
   ],
   "source": [
    "# Create a mapping dictionary from tipovia for ubic_t_via\n",
    "ubic_t_via_mapping = dict(zip(tipovia[\"DESC_ABBREVIATA\"].str.lower(), tipovia[\"DESC_ESTESA\"]))\n",
    "\n",
    "# Replace the ubic_t_via values in new_SERVICES with the corresponding DESC_ESTESA values\n",
    "new_SERVICES[\"ubic_t_via\"] = new_SERVICES[\"ubic_t_via\"].str.lower().map(ubic_t_via_mapping)\n",
    "\n",
    "# Check the result\n",
    "new_SERVICES.head()"
   ]
  },
  {
   "cell_type": "markdown",
   "id": "ec102b84",
   "metadata": {
    "papermill": {
     "duration": 0.021003,
     "end_time": "2025-01-18T16:00:08.308817",
     "exception": false,
     "start_time": "2025-01-18T16:00:08.287814",
     "status": "completed"
    },
    "tags": []
   },
   "source": [
    "Next, we validate the `ubic_via` column in the dataset by comparing it to the descriptive fields (`DESCRITTIVO` and `DENOMINAZIONE`) from the `viario` dataframe, following a similar process as for the `via` column. <br> First, we normalize the text by converting it to lowercase, removing extraneous spaces and parentheses (while preserving their contents), and sorting the words alphabetically to address potential inconsistencies. Then, we calculate similarity scores based on **Edit Distanca** between the `ubic_via` column and both `DESCRITTIVO` and `DENOMINAZIONE`.\n",
    "\n",
    "The highest similarity score is selected for each row, and rows with a similarity score below 75% are flagged for further review."
   ]
  },
  {
   "cell_type": "code",
   "execution_count": 39,
   "id": "72b373ed",
   "metadata": {
    "execution": {
     "iopub.execute_input": "2025-01-18T16:00:08.354125Z",
     "iopub.status.busy": "2025-01-18T16:00:08.353759Z",
     "iopub.status.idle": "2025-01-18T16:00:19.612572Z",
     "shell.execute_reply": "2025-01-18T16:00:19.611031Z"
    },
    "papermill": {
     "duration": 11.284008,
     "end_time": "2025-01-18T16:00:19.615008",
     "exception": false,
     "start_time": "2025-01-18T16:00:08.331000",
     "status": "completed"
    },
    "tags": []
   },
   "outputs": [
    {
     "name": "stderr",
     "output_type": "stream",
     "text": [
      "100%|██████████| 1381/1381 [00:11<00:00, 123.40it/s]"
     ]
    },
    {
     "name": "stdout",
     "output_type": "stream",
     "text": [
      "Rows where normalized 'ubic_via' and 'DESCRITTIVO'/'DENOMINAZIONE' are not similar enough (below 75% Edit Distance similarity):\n"
     ]
    },
    {
     "name": "stderr",
     "output_type": "stream",
     "text": [
      "\n"
     ]
    },
    {
     "data": {
      "text/html": [
       "<div>\n",
       "<style scoped>\n",
       "    .dataframe tbody tr th:only-of-type {\n",
       "        vertical-align: middle;\n",
       "    }\n",
       "\n",
       "    .dataframe tbody tr th {\n",
       "        vertical-align: top;\n",
       "    }\n",
       "\n",
       "    .dataframe thead th {\n",
       "        text-align: right;\n",
       "    }\n",
       "</style>\n",
       "<table border=\"1\" class=\"dataframe\">\n",
       "  <thead>\n",
       "    <tr style=\"text-align: right;\">\n",
       "      <th></th>\n",
       "      <th>measure</th>\n",
       "      <th>similarity</th>\n",
       "      <th>ubic_via</th>\n",
       "      <th>best_denominazione</th>\n",
       "      <th>best_descrittivo</th>\n",
       "      <th>normalized_ubic_via</th>\n",
       "      <th>best_normalized_denominazione</th>\n",
       "      <th>best_normalized_descrittivo</th>\n",
       "    </tr>\n",
       "  </thead>\n",
       "  <tbody>\n",
       "    <tr>\n",
       "      <th>183</th>\n",
       "      <td>EDIT</td>\n",
       "      <td>0.000000</td>\n",
       "      <td></td>\n",
       "      <td>DUOMO (DEL)</td>\n",
       "      <td>DEL DUOMO</td>\n",
       "      <td></td>\n",
       "      <td>del duomo</td>\n",
       "      <td>del duomo</td>\n",
       "    </tr>\n",
       "    <tr>\n",
       "      <th>1172</th>\n",
       "      <td>EDIT</td>\n",
       "      <td>63.157895</td>\n",
       "      <td>GRAZIANO IMPERATORE</td>\n",
       "      <td>VIMERCATI OTTAVIANO</td>\n",
       "      <td>OTTAVIANO VIMERCATI</td>\n",
       "      <td>graziano imperatore</td>\n",
       "      <td>ottaviano vimercati</td>\n",
       "      <td>ottaviano vimercati</td>\n",
       "    </tr>\n",
       "    <tr>\n",
       "      <th>1103</th>\n",
       "      <td>EDIT</td>\n",
       "      <td>64.705882</td>\n",
       "      <td>TIZIANO VECELLIO</td>\n",
       "      <td>AMMIANO MARCELLINO</td>\n",
       "      <td>MARCELLINO AMMIANO</td>\n",
       "      <td>tiziano vecellio</td>\n",
       "      <td>ammiano marcellino</td>\n",
       "      <td>ammiano marcellino</td>\n",
       "    </tr>\n",
       "    <tr>\n",
       "      <th>1265</th>\n",
       "      <td>EDIT</td>\n",
       "      <td>68.750000</td>\n",
       "      <td>DANTE ALIGHIERI</td>\n",
       "      <td>CHIASSERINI DANTE</td>\n",
       "      <td>DANTE CHIASSERINI</td>\n",
       "      <td>alighieri dante</td>\n",
       "      <td>chiasserini dante</td>\n",
       "      <td>chiasserini dante</td>\n",
       "    </tr>\n",
       "    <tr>\n",
       "      <th>292</th>\n",
       "      <td>EDIT</td>\n",
       "      <td>71.428571</td>\n",
       "      <td>COLONNA MARCO ANTONIO</td>\n",
       "      <td>CARLONE CARLO ANTONIO</td>\n",
       "      <td>CARLO ANTONIO CARLONE</td>\n",
       "      <td>antonio colonna marco</td>\n",
       "      <td>antonio carlo carlone</td>\n",
       "      <td>antonio carlo carlone</td>\n",
       "    </tr>\n",
       "    <tr>\n",
       "      <th>...</th>\n",
       "      <td>...</td>\n",
       "      <td>...</td>\n",
       "      <td>...</td>\n",
       "      <td>...</td>\n",
       "      <td>...</td>\n",
       "      <td>...</td>\n",
       "      <td>...</td>\n",
       "      <td>...</td>\n",
       "    </tr>\n",
       "    <tr>\n",
       "      <th>461</th>\n",
       "      <td>EDIT</td>\n",
       "      <td>100.000000</td>\n",
       "      <td>VENINI GIULIO E CORRADO</td>\n",
       "      <td>VENINI GIULIO E CORRADO</td>\n",
       "      <td>GIULIO E CORRADO VENINI</td>\n",
       "      <td>corrado e giulio venini</td>\n",
       "      <td>corrado e giulio venini</td>\n",
       "      <td>corrado e giulio venini</td>\n",
       "    </tr>\n",
       "    <tr>\n",
       "      <th>460</th>\n",
       "      <td>EDIT</td>\n",
       "      <td>100.000000</td>\n",
       "      <td>VEGLIA</td>\n",
       "      <td>VEGLIA</td>\n",
       "      <td>VEGLIA</td>\n",
       "      <td>veglia</td>\n",
       "      <td>veglia</td>\n",
       "      <td>veglia</td>\n",
       "    </tr>\n",
       "    <tr>\n",
       "      <th>459</th>\n",
       "      <td>EDIT</td>\n",
       "      <td>100.000000</td>\n",
       "      <td>VARESE</td>\n",
       "      <td>VARESE</td>\n",
       "      <td>VARESE</td>\n",
       "      <td>varese</td>\n",
       "      <td>varese</td>\n",
       "      <td>varese</td>\n",
       "    </tr>\n",
       "    <tr>\n",
       "      <th>467</th>\n",
       "      <td>EDIT</td>\n",
       "      <td>100.000000</td>\n",
       "      <td>VIMINALE</td>\n",
       "      <td>VIMINALE</td>\n",
       "      <td>VIMINALE</td>\n",
       "      <td>viminale</td>\n",
       "      <td>viminale</td>\n",
       "      <td>viminale</td>\n",
       "    </tr>\n",
       "    <tr>\n",
       "      <th>1380</th>\n",
       "      <td>EDIT</td>\n",
       "      <td>100.000000</td>\n",
       "      <td>NIRONE</td>\n",
       "      <td>NIRONE</td>\n",
       "      <td>NIRONE</td>\n",
       "      <td>nirone</td>\n",
       "      <td>nirone</td>\n",
       "      <td>nirone</td>\n",
       "    </tr>\n",
       "  </tbody>\n",
       "</table>\n",
       "<p>1381 rows × 8 columns</p>\n",
       "</div>"
      ],
      "text/plain": [
       "     measure  similarity                 ubic_via       best_denominazione  \\\n",
       "183     EDIT    0.000000                                       DUOMO (DEL)   \n",
       "1172    EDIT   63.157895      GRAZIANO IMPERATORE      VIMERCATI OTTAVIANO   \n",
       "1103    EDIT   64.705882         TIZIANO VECELLIO       AMMIANO MARCELLINO   \n",
       "1265    EDIT   68.750000          DANTE ALIGHIERI        CHIASSERINI DANTE   \n",
       "292     EDIT   71.428571    COLONNA MARCO ANTONIO    CARLONE CARLO ANTONIO   \n",
       "...      ...         ...                      ...                      ...   \n",
       "461     EDIT  100.000000  VENINI GIULIO E CORRADO  VENINI GIULIO E CORRADO   \n",
       "460     EDIT  100.000000                   VEGLIA                   VEGLIA   \n",
       "459     EDIT  100.000000                   VARESE                   VARESE   \n",
       "467     EDIT  100.000000                 VIMINALE                 VIMINALE   \n",
       "1380    EDIT  100.000000                   NIRONE                   NIRONE   \n",
       "\n",
       "             best_descrittivo      normalized_ubic_via  \\\n",
       "183                 DEL DUOMO                            \n",
       "1172      OTTAVIANO VIMERCATI      graziano imperatore   \n",
       "1103       MARCELLINO AMMIANO         tiziano vecellio   \n",
       "1265        DANTE CHIASSERINI          alighieri dante   \n",
       "292     CARLO ANTONIO CARLONE    antonio colonna marco   \n",
       "...                       ...                      ...   \n",
       "461   GIULIO E CORRADO VENINI  corrado e giulio venini   \n",
       "460                    VEGLIA                   veglia   \n",
       "459                    VARESE                   varese   \n",
       "467                  VIMINALE                 viminale   \n",
       "1380                   NIRONE                   nirone   \n",
       "\n",
       "     best_normalized_denominazione best_normalized_descrittivo  \n",
       "183                      del duomo                   del duomo  \n",
       "1172           ottaviano vimercati         ottaviano vimercati  \n",
       "1103            ammiano marcellino          ammiano marcellino  \n",
       "1265             chiasserini dante           chiasserini dante  \n",
       "292          antonio carlo carlone       antonio carlo carlone  \n",
       "...                            ...                         ...  \n",
       "461        corrado e giulio venini     corrado e giulio venini  \n",
       "460                         veglia                      veglia  \n",
       "459                         varese                      varese  \n",
       "467                       viminale                    viminale  \n",
       "1380                        nirone                      nirone  \n",
       "\n",
       "[1381 rows x 8 columns]"
      ]
     },
     "execution_count": 39,
     "metadata": {},
     "output_type": "execute_result"
    }
   ],
   "source": [
    "# Function to normalize the names\n",
    "def normalize_string(s):\n",
    "    s = re.sub(r\"sant'\\s*\", \"sant'\", s.lower())  # Fix spaces around 'sant'\n",
    "    s = re.sub(r\"dell'\\s*\", \"dell'\", s.lower())  # Fix spaces around 'dell'\n",
    "    s = re.sub(r\"[()]\", \"\", s)  # Remove the parentheses\n",
    "    \n",
    "    # Split the string into words, sort them, and rejoin\n",
    "    words = s.strip().split()\n",
    "    words.sort()\n",
    "    return \" \".join(words)\n",
    "\n",
    "# Pre-normalize the viario DataFrame\n",
    "viario['normalized_descrittivo'] = viario['DESCRITTIVO'].apply(normalize_string)\n",
    "viario['normalized_denominazione'] = viario['DENOMINAZIONE'].apply(normalize_string)\n",
    "\n",
    "# Function to find the best match using pre-normalized viario\n",
    "def find_best_match(ubic_via):\n",
    "\n",
    "    measure = \"EDIT\"\n",
    "    normalized_ubic_via = normalize_string(ubic_via)\n",
    "    \n",
    "    # Compute similarity scores for all rows in viario\n",
    "    viario['similarity_descrittivo'] = viario['normalized_descrittivo'].apply(\n",
    "        lambda x: fuzz.ratio(normalized_ubic_via, x))\n",
    "    viario['similarity_denominazione'] = viario['normalized_denominazione'].apply(\n",
    "        lambda x: fuzz.ratio(normalized_ubic_via, x))\n",
    "    \n",
    "    # Find the best match\n",
    "    viario['similarity'] = viario[['similarity_descrittivo', 'similarity_denominazione']].max(axis=1)\n",
    "    best_match = viario.loc[viario['similarity'].idxmax()]\n",
    "    \n",
    "    return (measure, best_match['similarity'],\n",
    "            ubic_via, best_match['DENOMINAZIONE'],best_match['DESCRITTIVO'],\n",
    "            normalized_ubic_via, best_match['normalized_denominazione'], best_match['normalized_descrittivo'],\n",
    "            )\n",
    "\n",
    "# Process all rows in new_SERVICES\n",
    "results = []\n",
    "\n",
    "for ubic_via in tqdm(new_SERVICES['ubic_via'].unique()):\n",
    "    ubic_via_data = find_best_match(ubic_via)\n",
    "    results.append(ubic_via_data)\n",
    "\n",
    "# Convert results to DataFrame for analysis\n",
    "columns = ['measure','similarity',\n",
    "            'ubic_via', 'best_denominazione', 'best_descrittivo', 'normalized_ubic_via',\n",
    "            'best_normalized_denominazione', 'best_normalized_descrittivo', \n",
    "            ]\n",
    "check_matching_df = pd.DataFrame(results, columns=columns)\n",
    "\n",
    "# Show the rows with low similarity\n",
    "print(f\"Rows where normalized 'ubic_via' and 'DESCRITTIVO'/'DENOMINAZIONE' are not similar enough (below {threshold}% Edit Distance similarity):\")\n",
    "check_matching_df.sort_values(by=\"similarity\", ascending=True)"
   ]
  },
  {
   "cell_type": "markdown",
   "id": "2b5a2bf5",
   "metadata": {
    "papermill": {
     "duration": 0.030204,
     "end_time": "2025-01-18T16:00:19.672625",
     "exception": false,
     "start_time": "2025-01-18T16:00:19.642421",
     "status": "completed"
    },
    "tags": []
   },
   "source": [
    "Some rows fall below the minimum similarity threshold of 75% when evaluated using edit distance. To gain further insight into these records, we reanalyze them using the **Jaccard** similarity measure."
   ]
  },
  {
   "cell_type": "code",
   "execution_count": 40,
   "id": "65499357",
   "metadata": {
    "execution": {
     "iopub.execute_input": "2025-01-18T16:00:19.735899Z",
     "iopub.status.busy": "2025-01-18T16:00:19.735405Z",
     "iopub.status.idle": "2025-01-18T16:00:50.476232Z",
     "shell.execute_reply": "2025-01-18T16:00:50.474881Z"
    },
    "papermill": {
     "duration": 30.792039,
     "end_time": "2025-01-18T16:00:50.497376",
     "exception": false,
     "start_time": "2025-01-18T16:00:19.705337",
     "status": "completed"
    },
    "tags": []
   },
   "outputs": [
    {
     "name": "stderr",
     "output_type": "stream",
     "text": [
      "100%|██████████| 7/7 [00:30<00:00,  4.39s/it]"
     ]
    },
    {
     "name": "stdout",
     "output_type": "stream",
     "text": [
      "Updated non_matching_df with Jaccard similarity:\n"
     ]
    },
    {
     "name": "stderr",
     "output_type": "stream",
     "text": [
      "\n"
     ]
    },
    {
     "data": {
      "text/html": [
       "<div>\n",
       "<style scoped>\n",
       "    .dataframe tbody tr th:only-of-type {\n",
       "        vertical-align: middle;\n",
       "    }\n",
       "\n",
       "    .dataframe tbody tr th {\n",
       "        vertical-align: top;\n",
       "    }\n",
       "\n",
       "    .dataframe thead th {\n",
       "        text-align: right;\n",
       "    }\n",
       "</style>\n",
       "<table border=\"1\" class=\"dataframe\">\n",
       "  <thead>\n",
       "    <tr style=\"text-align: right;\">\n",
       "      <th></th>\n",
       "      <th>measure</th>\n",
       "      <th>similarity</th>\n",
       "      <th>ubic_via</th>\n",
       "      <th>best_denominazione</th>\n",
       "      <th>best_descrittivo</th>\n",
       "      <th>normalized_ubic_via</th>\n",
       "      <th>best_normalized_denominazione</th>\n",
       "      <th>best_normalized_descrittivo</th>\n",
       "    </tr>\n",
       "  </thead>\n",
       "  <tbody>\n",
       "    <tr>\n",
       "      <th>183</th>\n",
       "      <td>JACCARD</td>\n",
       "      <td>0.0</td>\n",
       "      <td></td>\n",
       "      <td>DUOMO (DEL)</td>\n",
       "      <td>DEL DUOMO</td>\n",
       "      <td></td>\n",
       "      <td>del duomo</td>\n",
       "      <td>del duomo</td>\n",
       "    </tr>\n",
       "    <tr>\n",
       "      <th>292</th>\n",
       "      <td>JACCARD</td>\n",
       "      <td>50.0</td>\n",
       "      <td>COLONNA MARCO ANTONIO</td>\n",
       "      <td>BRAGADINO MARCO ANTONIO</td>\n",
       "      <td>MARCO ANTONIO BRAGADINO</td>\n",
       "      <td>antonio colonna marco</td>\n",
       "      <td>antonio bragadino marco</td>\n",
       "      <td>antonio bragadino marco</td>\n",
       "    </tr>\n",
       "    <tr>\n",
       "      <th>1172</th>\n",
       "      <td>JACCARD</td>\n",
       "      <td>50.0</td>\n",
       "      <td>GRAZIANO IMPERATORE</td>\n",
       "      <td>GRAZIANO</td>\n",
       "      <td>GRAZIANO</td>\n",
       "      <td>graziano imperatore</td>\n",
       "      <td>graziano</td>\n",
       "      <td>graziano</td>\n",
       "    </tr>\n",
       "    <tr>\n",
       "      <th>1265</th>\n",
       "      <td>JACCARD</td>\n",
       "      <td>50.0</td>\n",
       "      <td>DANTE ALIGHIERI</td>\n",
       "      <td>DANTE</td>\n",
       "      <td>DANTE</td>\n",
       "      <td>alighieri dante</td>\n",
       "      <td>dante</td>\n",
       "      <td>dante</td>\n",
       "    </tr>\n",
       "    <tr>\n",
       "      <th>1103</th>\n",
       "      <td>JACCARD</td>\n",
       "      <td>50.0</td>\n",
       "      <td>TIZIANO VECELLIO</td>\n",
       "      <td>TIZIANO</td>\n",
       "      <td>TIZIANO</td>\n",
       "      <td>tiziano vecellio</td>\n",
       "      <td>tiziano</td>\n",
       "      <td>tiziano</td>\n",
       "    </tr>\n",
       "    <tr>\n",
       "      <th>...</th>\n",
       "      <td>...</td>\n",
       "      <td>...</td>\n",
       "      <td>...</td>\n",
       "      <td>...</td>\n",
       "      <td>...</td>\n",
       "      <td>...</td>\n",
       "      <td>...</td>\n",
       "      <td>...</td>\n",
       "    </tr>\n",
       "    <tr>\n",
       "      <th>461</th>\n",
       "      <td>EDIT</td>\n",
       "      <td>100.0</td>\n",
       "      <td>VENINI GIULIO E CORRADO</td>\n",
       "      <td>VENINI GIULIO E CORRADO</td>\n",
       "      <td>GIULIO E CORRADO VENINI</td>\n",
       "      <td>corrado e giulio venini</td>\n",
       "      <td>corrado e giulio venini</td>\n",
       "      <td>corrado e giulio venini</td>\n",
       "    </tr>\n",
       "    <tr>\n",
       "      <th>460</th>\n",
       "      <td>EDIT</td>\n",
       "      <td>100.0</td>\n",
       "      <td>VEGLIA</td>\n",
       "      <td>VEGLIA</td>\n",
       "      <td>VEGLIA</td>\n",
       "      <td>veglia</td>\n",
       "      <td>veglia</td>\n",
       "      <td>veglia</td>\n",
       "    </tr>\n",
       "    <tr>\n",
       "      <th>459</th>\n",
       "      <td>EDIT</td>\n",
       "      <td>100.0</td>\n",
       "      <td>VARESE</td>\n",
       "      <td>VARESE</td>\n",
       "      <td>VARESE</td>\n",
       "      <td>varese</td>\n",
       "      <td>varese</td>\n",
       "      <td>varese</td>\n",
       "    </tr>\n",
       "    <tr>\n",
       "      <th>467</th>\n",
       "      <td>EDIT</td>\n",
       "      <td>100.0</td>\n",
       "      <td>VIMINALE</td>\n",
       "      <td>VIMINALE</td>\n",
       "      <td>VIMINALE</td>\n",
       "      <td>viminale</td>\n",
       "      <td>viminale</td>\n",
       "      <td>viminale</td>\n",
       "    </tr>\n",
       "    <tr>\n",
       "      <th>1380</th>\n",
       "      <td>EDIT</td>\n",
       "      <td>100.0</td>\n",
       "      <td>NIRONE</td>\n",
       "      <td>NIRONE</td>\n",
       "      <td>NIRONE</td>\n",
       "      <td>nirone</td>\n",
       "      <td>nirone</td>\n",
       "      <td>nirone</td>\n",
       "    </tr>\n",
       "  </tbody>\n",
       "</table>\n",
       "<p>1381 rows × 8 columns</p>\n",
       "</div>"
      ],
      "text/plain": [
       "      measure  similarity                 ubic_via       best_denominazione  \\\n",
       "183   JACCARD         0.0                                       DUOMO (DEL)   \n",
       "292   JACCARD        50.0    COLONNA MARCO ANTONIO  BRAGADINO MARCO ANTONIO   \n",
       "1172  JACCARD        50.0      GRAZIANO IMPERATORE                 GRAZIANO   \n",
       "1265  JACCARD        50.0          DANTE ALIGHIERI                    DANTE   \n",
       "1103  JACCARD        50.0         TIZIANO VECELLIO                 TIZIANO    \n",
       "...       ...         ...                      ...                      ...   \n",
       "461      EDIT       100.0  VENINI GIULIO E CORRADO  VENINI GIULIO E CORRADO   \n",
       "460      EDIT       100.0                   VEGLIA                   VEGLIA   \n",
       "459      EDIT       100.0                   VARESE                   VARESE   \n",
       "467      EDIT       100.0                 VIMINALE                 VIMINALE   \n",
       "1380     EDIT       100.0                   NIRONE                   NIRONE   \n",
       "\n",
       "             best_descrittivo      normalized_ubic_via  \\\n",
       "183                 DEL DUOMO                            \n",
       "292   MARCO ANTONIO BRAGADINO    antonio colonna marco   \n",
       "1172                 GRAZIANO      graziano imperatore   \n",
       "1265                    DANTE          alighieri dante   \n",
       "1103                  TIZIANO         tiziano vecellio   \n",
       "...                       ...                      ...   \n",
       "461   GIULIO E CORRADO VENINI  corrado e giulio venini   \n",
       "460                    VEGLIA                   veglia   \n",
       "459                    VARESE                   varese   \n",
       "467                  VIMINALE                 viminale   \n",
       "1380                   NIRONE                   nirone   \n",
       "\n",
       "     best_normalized_denominazione best_normalized_descrittivo  \n",
       "183                      del duomo                   del duomo  \n",
       "292        antonio bragadino marco     antonio bragadino marco  \n",
       "1172                      graziano                    graziano  \n",
       "1265                         dante                       dante  \n",
       "1103                       tiziano                     tiziano  \n",
       "...                            ...                         ...  \n",
       "461        corrado e giulio venini     corrado e giulio venini  \n",
       "460                         veglia                      veglia  \n",
       "459                         varese                      varese  \n",
       "467                       viminale                    viminale  \n",
       "1380                        nirone                      nirone  \n",
       "\n",
       "[1381 rows x 8 columns]"
      ]
     },
     "execution_count": 40,
     "metadata": {},
     "output_type": "execute_result"
    }
   ],
   "source": [
    "# Function to compute Jaccard similarity\n",
    "def compute_jaccard(s1, s2):\n",
    "    vectorizer = CountVectorizer().fit_transform([s1, s2])\n",
    "    vectors = vectorizer.toarray()\n",
    "    return 1 - jaccard(vectors[0], vectors[1])\n",
    "\n",
    "# Function to compute Jaccard similarity for all rows in viario and update non_matching_df\n",
    "def compute_jaccard_for_all_rows():\n",
    "    for index, row in tqdm(check_matching_df[check_matching_df.similarity < 77].iterrows(), total=len(check_matching_df[check_matching_df.similarity < 77])):\n",
    "        normalized_ubic_via = row['normalized_ubic_via']\n",
    "        \n",
    "        # Compute Jaccard similarity for 'descrittivo' and 'denominazione' for all rows in viario\n",
    "        viario['jaccard_descrittivo'] = viario['normalized_descrittivo'].apply(\n",
    "            lambda x: compute_jaccard(normalized_ubic_via, x))\n",
    "        viario['jaccard_denominazione'] = viario['normalized_denominazione'].apply(\n",
    "            lambda x: compute_jaccard(normalized_ubic_via, x))\n",
    "        \n",
    "        # Take the maximum Jaccard similarity (between 'descrittivo' and 'denominazione')\n",
    "        viario['jaccard_similarity'] = viario[['jaccard_descrittivo', 'jaccard_denominazione']].max(axis=1)\n",
    "        \n",
    "        # Find the best match based on the highest Jaccard similarity\n",
    "        best_match = viario.loc[viario['jaccard_similarity'].idxmax()]\n",
    "        \n",
    "        # Update the non_matching_df with the best match and Jaccard similarity\n",
    "        check_matching_df.at[index, 'best_normalized_descrittivo'] = best_match['normalized_descrittivo']\n",
    "        check_matching_df.at[index, 'best_normalized_denominazione'] = best_match['normalized_denominazione']\n",
    "        check_matching_df.at[index, 'best_descrittivo'] = best_match['DESCRITTIVO']\n",
    "        check_matching_df.at[index, 'best_denominazione'] = best_match['DENOMINAZIONE']\n",
    "        check_matching_df.at[index, 'measure'] = \"JACCARD\"\n",
    "        check_matching_df.at[index, 'similarity'] = best_match['jaccard_similarity'] * 100\n",
    "\n",
    "# Run Jaccard computation for all rows in viario and update non_matching_df\n",
    "compute_jaccard_for_all_rows()\n",
    "\n",
    "# Show the updated non_matching_df with Jaccard similarity values\n",
    "print(f\"Updated non_matching_df with Jaccard similarity:\")\n",
    "check_matching_df.sort_values(by=\"similarity\")"
   ]
  },
  {
   "cell_type": "markdown",
   "id": "dcadd4ad",
   "metadata": {
    "papermill": {
     "duration": 0.029949,
     "end_time": "2025-01-18T16:00:50.559450",
     "exception": false,
     "start_time": "2025-01-18T16:00:50.529501",
     "status": "completed"
    },
    "tags": []
   },
   "source": [
    "With the exception of two rows, which could not be recognized due to missing values in the `ubic_via` column, most of the rows now exhibit a similarity of 50% or greater, indicating that their addresses match semantically. As a result, the `ubic_via` column can now be standardized to align with the format of the `viario.DESCRITTIVO` column."
   ]
  },
  {
   "cell_type": "code",
   "execution_count": 41,
   "id": "3a998745",
   "metadata": {
    "execution": {
     "iopub.execute_input": "2025-01-18T16:00:50.624482Z",
     "iopub.status.busy": "2025-01-18T16:00:50.624110Z",
     "iopub.status.idle": "2025-01-18T16:00:53.356931Z",
     "shell.execute_reply": "2025-01-18T16:00:53.355310Z"
    },
    "papermill": {
     "duration": 2.768481,
     "end_time": "2025-01-18T16:00:53.359072",
     "exception": false,
     "start_time": "2025-01-18T16:00:50.590591",
     "status": "completed"
    },
    "tags": []
   },
   "outputs": [
    {
     "data": {
      "text/html": [
       "<div>\n",
       "<style scoped>\n",
       "    .dataframe tbody tr th:only-of-type {\n",
       "        vertical-align: middle;\n",
       "    }\n",
       "\n",
       "    .dataframe tbody tr th {\n",
       "        vertical-align: top;\n",
       "    }\n",
       "\n",
       "    .dataframe thead th {\n",
       "        text-align: right;\n",
       "    }\n",
       "</style>\n",
       "<table border=\"1\" class=\"dataframe\">\n",
       "  <thead>\n",
       "    <tr style=\"text-align: right;\">\n",
       "      <th></th>\n",
       "      <th>t_es</th>\n",
       "      <th>t_via</th>\n",
       "      <th>via</th>\n",
       "      <th>civ</th>\n",
       "      <th>cod_via</th>\n",
       "      <th>zd</th>\n",
       "      <th>sup_alt</th>\n",
       "      <th>sup_lav</th>\n",
       "      <th>ubic_t_via</th>\n",
       "      <th>ubic_via</th>\n",
       "      <th>ubic_civ</th>\n",
       "      <th>ubic_zd</th>\n",
       "      <th>note</th>\n",
       "    </tr>\n",
       "  </thead>\n",
       "  <tbody>\n",
       "    <tr>\n",
       "      <th>0</th>\n",
       "      <td></td>\n",
       "      <td>Largo</td>\n",
       "      <td>DEI GELSOMINI</td>\n",
       "      <td>10</td>\n",
       "      <td>5394</td>\n",
       "      <td>6</td>\n",
       "      <td>NaN</td>\n",
       "      <td>55.0</td>\n",
       "      <td>Largo</td>\n",
       "      <td>DEI GELSOMINI</td>\n",
       "      <td>10</td>\n",
       "      <td>6</td>\n",
       "      <td>NaN</td>\n",
       "    </tr>\n",
       "    <tr>\n",
       "      <th>1</th>\n",
       "      <td>Centro Massaggi</td>\n",
       "      <td>Piazza</td>\n",
       "      <td>FIDIA</td>\n",
       "      <td>3</td>\n",
       "      <td>1144</td>\n",
       "      <td>9</td>\n",
       "      <td>2.0</td>\n",
       "      <td>28.0</td>\n",
       "      <td>Piazza</td>\n",
       "      <td>FIDIA</td>\n",
       "      <td>3</td>\n",
       "      <td>9</td>\n",
       "      <td>NaN</td>\n",
       "    </tr>\n",
       "    <tr>\n",
       "      <th>2</th>\n",
       "      <td>Centro Benessere</td>\n",
       "      <td>Via</td>\n",
       "      <td>ADIGE</td>\n",
       "      <td>10</td>\n",
       "      <td>4216</td>\n",
       "      <td>5</td>\n",
       "      <td>2.0</td>\n",
       "      <td>27.0</td>\n",
       "      <td>Via</td>\n",
       "      <td>ADIGE</td>\n",
       "      <td>10</td>\n",
       "      <td>5</td>\n",
       "      <td>NaN</td>\n",
       "    </tr>\n",
       "    <tr>\n",
       "      <th>3</th>\n",
       "      <td>Truccatore</td>\n",
       "      <td>Via</td>\n",
       "      <td>FLAVIO BARACCHINI</td>\n",
       "      <td>9</td>\n",
       "      <td>356</td>\n",
       "      <td>1</td>\n",
       "      <td>NaN</td>\n",
       "      <td>NaN</td>\n",
       "      <td>Via</td>\n",
       "      <td>FLAVIO BARACCHINI</td>\n",
       "      <td>9</td>\n",
       "      <td>1</td>\n",
       "      <td>NaN</td>\n",
       "    </tr>\n",
       "    <tr>\n",
       "      <th>4</th>\n",
       "      <td></td>\n",
       "      <td>Via</td>\n",
       "      <td>BERGAMO</td>\n",
       "      <td>12</td>\n",
       "      <td>3189</td>\n",
       "      <td>4</td>\n",
       "      <td>NaN</td>\n",
       "      <td>50.0</td>\n",
       "      <td>Via</td>\n",
       "      <td>BERGAMO</td>\n",
       "      <td>12</td>\n",
       "      <td>4</td>\n",
       "      <td>NaN</td>\n",
       "    </tr>\n",
       "  </tbody>\n",
       "</table>\n",
       "</div>"
      ],
      "text/plain": [
       "               t_es   t_via                via civ cod_via zd  sup_alt  \\\n",
       "0                     Largo      DEI GELSOMINI  10    5394  6      NaN   \n",
       "1   Centro Massaggi  Piazza              FIDIA   3    1144  9      2.0   \n",
       "2  Centro Benessere     Via              ADIGE  10    4216  5      2.0   \n",
       "3        Truccatore     Via  FLAVIO BARACCHINI   9     356  1      NaN   \n",
       "4                       Via            BERGAMO  12    3189  4      NaN   \n",
       "\n",
       "   sup_lav ubic_t_via           ubic_via ubic_civ ubic_zd note  \n",
       "0     55.0      Largo      DEI GELSOMINI       10       6  NaN  \n",
       "1     28.0     Piazza              FIDIA        3       9  NaN  \n",
       "2     27.0        Via              ADIGE       10       5  NaN  \n",
       "3      NaN        Via  FLAVIO BARACCHINI        9       1  NaN  \n",
       "4     50.0        Via            BERGAMO       12       4  NaN  "
      ]
     },
     "execution_count": 41,
     "metadata": {},
     "output_type": "execute_result"
    }
   ],
   "source": [
    "# Step 1: Merge new_SERVICES with check_matching_df on 'ubic_via'\n",
    "merged_df = new_SERVICES.merge(check_matching_df[['ubic_via', 'best_descrittivo', 'similarity']], \n",
    "                               on='ubic_via', how='left')\n",
    "\n",
    "# Step 2: Filter rows where similarity >= 50\n",
    "filtered_df = merged_df[merged_df['similarity'] >= 50]\n",
    "\n",
    "# Step 3: Update the 'ubic_via' column in new_SERVICES with 'DENOMINAZIONE' from check_matching_df where similarity >= 50\n",
    "for index, row in filtered_df.iterrows():\n",
    "    new_SERVICES.loc[new_SERVICES['ubic_via'] == row['ubic_via'], 'ubic_via'] = row['best_descrittivo']\n",
    "\n",
    "new_SERVICES.head()"
   ]
  },
  {
   "cell_type": "markdown",
   "id": "8fed109f",
   "metadata": {
    "papermill": {
     "duration": 0.02979,
     "end_time": "2025-01-18T16:00:53.418868",
     "exception": false,
     "start_time": "2025-01-18T16:00:53.389078",
     "status": "completed"
    },
    "tags": []
   },
   "source": [
    "## Error Detection and Correction\n",
    "### UBIC-VIA: Solve Mismatches\n",
    "\n",
    "The goal is to resolve mismatches between the `ubic` columns (`ubic_t_via`, `ubic_via`, `ubic_civ`, `ubic_zd`) and the corresponding main columns (`t_via`, `via`, `civ`, `zd`). Mismatches are identified by comparing values in these columns. \n",
    "\n",
    "Once detected, corrections are made by updating the values to ensure consistency, improving the dataset's quality and accuracy for analysis."
   ]
  },
  {
   "cell_type": "code",
   "execution_count": 42,
   "id": "966cca6b",
   "metadata": {
    "execution": {
     "iopub.execute_input": "2025-01-18T16:00:53.478063Z",
     "iopub.status.busy": "2025-01-18T16:00:53.477607Z",
     "iopub.status.idle": "2025-01-18T16:00:53.508762Z",
     "shell.execute_reply": "2025-01-18T16:00:53.507132Z"
    },
    "papermill": {
     "duration": 0.063186,
     "end_time": "2025-01-18T16:00:53.510965",
     "exception": false,
     "start_time": "2025-01-18T16:00:53.447779",
     "status": "completed"
    },
    "tags": []
   },
   "outputs": [
    {
     "name": "stdout",
     "output_type": "stream",
     "text": [
      "Summary of mismatches:\n",
      "\n",
      "Mismatch Type        Number of Mismatches\n",
      "========================================\n",
      "note empty           \t\t396                 \n",
      "t_via not match      \t\t20                  \n",
      "civ not match        \t\t150                 \n",
      "via not match        \t\t76                  \n",
      "zd not match         \t\t17                  \n"
     ]
    }
   ],
   "source": [
    "# Initialize dictionary to store mismatches\n",
    "mismatch_rows = {\n",
    "    \"note empty\": [],\n",
    "    \"t_via not match\": [],\n",
    "    \"civ not match\": [],\n",
    "    \"via not match\": [],\n",
    "    \"zd not match\": [],\n",
    "}\n",
    "\n",
    "# Function to check conditions and log mismatched rows\n",
    "def check_and_log_mismatches(new_SERVICES):\n",
    "    # Create masks for each condition (True if mismatch, False if match)\n",
    "    note_not_empty_condition = ~new_SERVICES['note'].isna()\n",
    "    t_via_not_match_condition = new_SERVICES[\"t_via\"] != new_SERVICES[\"ubic_t_via\"]\n",
    "    civ_not_match_condition = new_SERVICES[\"civ\"] != new_SERVICES[\"ubic_civ\"]\n",
    "    via_not_match_condition = new_SERVICES[\"via\"] != new_SERVICES[\"ubic_via\"]\n",
    "    zd_not_match_condition = new_SERVICES[\"zd\"] != new_SERVICES[\"ubic_zd\"]\n",
    "    \n",
    "    # Apply the conditions to filter rows and store them in the corresponding lists\n",
    "    mismatch_rows[\"note empty\"] = new_SERVICES[note_not_empty_condition].to_dict(orient='records')\n",
    "    mismatch_rows[\"t_via not match\"] = new_SERVICES[t_via_not_match_condition].to_dict(orient='records')\n",
    "    mismatch_rows[\"civ not match\"] = new_SERVICES[civ_not_match_condition].to_dict(orient='records')\n",
    "    mismatch_rows[\"via not match\"] = new_SERVICES[via_not_match_condition].to_dict(orient='records')\n",
    "    mismatch_rows[\"zd not match\"] = new_SERVICES[zd_not_match_condition].to_dict(orient='records')\n",
    "    \n",
    "    return new_SERVICES\n",
    "\n",
    "# Apply the function to check and log mismatches\n",
    "new_SERVICES = check_and_log_mismatches(new_SERVICES)\n",
    "\n",
    "# Print summary of mismatches with aligned output\n",
    "print(\"Summary of mismatches:\\n\")\n",
    "# Print a header row with column names\n",
    "print(f\"{'Mismatch Type':<20} {'Number of Mismatches':<20}\")\n",
    "print(\"=\"*40)  # Separator for clarity\n",
    "\n",
    "# Iterate over mismatch_rows and print each mismatch type and its count\n",
    "for key, value in mismatch_rows.items():\n",
    "    print(f\"{key:<20} \\t\\t{len(value):<20}\")"
   ]
  },
  {
   "cell_type": "markdown",
   "id": "96fbe70d",
   "metadata": {
    "papermill": {
     "duration": 0.029977,
     "end_time": "2025-01-18T16:00:53.571080",
     "exception": false,
     "start_time": "2025-01-18T16:00:53.541103",
     "status": "completed"
    },
    "tags": []
   },
   "source": [
    "Check if the full `ubic` and `via_full` addresses are included in the dataset of **civici**."
   ]
  },
  {
   "cell_type": "code",
   "execution_count": 43,
   "id": "d3e1a51b",
   "metadata": {
    "execution": {
     "iopub.execute_input": "2025-01-18T16:00:53.630905Z",
     "iopub.status.busy": "2025-01-18T16:00:53.630488Z",
     "iopub.status.idle": "2025-01-18T16:02:55.907752Z",
     "shell.execute_reply": "2025-01-18T16:02:55.906076Z"
    },
    "papermill": {
     "duration": 122.308988,
     "end_time": "2025-01-18T16:02:55.909409",
     "exception": false,
     "start_time": "2025-01-18T16:00:53.600421",
     "status": "completed"
    },
    "tags": []
   },
   "outputs": [
    {
     "name": "stderr",
     "output_type": "stream",
     "text": [
      "100%|██████████| 3908/3908 [02:02<00:00, 31.97it/s]\n"
     ]
    },
    {
     "data": {
      "text/html": [
       "<div>\n",
       "<style scoped>\n",
       "    .dataframe tbody tr th:only-of-type {\n",
       "        vertical-align: middle;\n",
       "    }\n",
       "\n",
       "    .dataframe tbody tr th {\n",
       "        vertical-align: top;\n",
       "    }\n",
       "\n",
       "    .dataframe thead th {\n",
       "        text-align: right;\n",
       "    }\n",
       "</style>\n",
       "<table border=\"1\" class=\"dataframe\">\n",
       "  <thead>\n",
       "    <tr style=\"text-align: right;\">\n",
       "      <th></th>\n",
       "      <th>t_es</th>\n",
       "      <th>t_via</th>\n",
       "      <th>via</th>\n",
       "      <th>civ</th>\n",
       "      <th>cod_via</th>\n",
       "      <th>zd</th>\n",
       "      <th>sup_alt</th>\n",
       "      <th>sup_lav</th>\n",
       "      <th>ubic_t_via</th>\n",
       "      <th>ubic_via</th>\n",
       "      <th>ubic_civ</th>\n",
       "      <th>ubic_zd</th>\n",
       "      <th>note</th>\n",
       "      <th>full_via_flag</th>\n",
       "      <th>ubic_flag</th>\n",
       "    </tr>\n",
       "  </thead>\n",
       "  <tbody>\n",
       "    <tr>\n",
       "      <th>0</th>\n",
       "      <td></td>\n",
       "      <td>Largo</td>\n",
       "      <td>DEI GELSOMINI</td>\n",
       "      <td>10</td>\n",
       "      <td>5394</td>\n",
       "      <td>6</td>\n",
       "      <td>NaN</td>\n",
       "      <td>55.0</td>\n",
       "      <td>Largo</td>\n",
       "      <td>DEI GELSOMINI</td>\n",
       "      <td>10</td>\n",
       "      <td>6</td>\n",
       "      <td>NaN</td>\n",
       "      <td>True</td>\n",
       "      <td>True</td>\n",
       "    </tr>\n",
       "    <tr>\n",
       "      <th>1</th>\n",
       "      <td>Centro Massaggi</td>\n",
       "      <td>Piazza</td>\n",
       "      <td>FIDIA</td>\n",
       "      <td>3</td>\n",
       "      <td>1144</td>\n",
       "      <td>9</td>\n",
       "      <td>2.0</td>\n",
       "      <td>28.0</td>\n",
       "      <td>Piazza</td>\n",
       "      <td>FIDIA</td>\n",
       "      <td>3</td>\n",
       "      <td>9</td>\n",
       "      <td>NaN</td>\n",
       "      <td>True</td>\n",
       "      <td>True</td>\n",
       "    </tr>\n",
       "    <tr>\n",
       "      <th>2</th>\n",
       "      <td>Centro Benessere</td>\n",
       "      <td>Via</td>\n",
       "      <td>ADIGE</td>\n",
       "      <td>10</td>\n",
       "      <td>4216</td>\n",
       "      <td>5</td>\n",
       "      <td>2.0</td>\n",
       "      <td>27.0</td>\n",
       "      <td>Via</td>\n",
       "      <td>ADIGE</td>\n",
       "      <td>10</td>\n",
       "      <td>5</td>\n",
       "      <td>NaN</td>\n",
       "      <td>True</td>\n",
       "      <td>True</td>\n",
       "    </tr>\n",
       "    <tr>\n",
       "      <th>3</th>\n",
       "      <td>Truccatore</td>\n",
       "      <td>Via</td>\n",
       "      <td>FLAVIO BARACCHINI</td>\n",
       "      <td>9</td>\n",
       "      <td>356</td>\n",
       "      <td>1</td>\n",
       "      <td>NaN</td>\n",
       "      <td>NaN</td>\n",
       "      <td>Via</td>\n",
       "      <td>FLAVIO BARACCHINI</td>\n",
       "      <td>9</td>\n",
       "      <td>1</td>\n",
       "      <td>NaN</td>\n",
       "      <td>True</td>\n",
       "      <td>True</td>\n",
       "    </tr>\n",
       "    <tr>\n",
       "      <th>4</th>\n",
       "      <td></td>\n",
       "      <td>Via</td>\n",
       "      <td>BERGAMO</td>\n",
       "      <td>12</td>\n",
       "      <td>3189</td>\n",
       "      <td>4</td>\n",
       "      <td>NaN</td>\n",
       "      <td>50.0</td>\n",
       "      <td>Via</td>\n",
       "      <td>BERGAMO</td>\n",
       "      <td>12</td>\n",
       "      <td>4</td>\n",
       "      <td>NaN</td>\n",
       "      <td>True</td>\n",
       "      <td>True</td>\n",
       "    </tr>\n",
       "  </tbody>\n",
       "</table>\n",
       "</div>"
      ],
      "text/plain": [
       "               t_es   t_via                via civ cod_via zd  sup_alt  \\\n",
       "0                     Largo      DEI GELSOMINI  10    5394  6      NaN   \n",
       "1   Centro Massaggi  Piazza              FIDIA   3    1144  9      2.0   \n",
       "2  Centro Benessere     Via              ADIGE  10    4216  5      2.0   \n",
       "3        Truccatore     Via  FLAVIO BARACCHINI   9     356  1      NaN   \n",
       "4                       Via            BERGAMO  12    3189  4      NaN   \n",
       "\n",
       "   sup_lav ubic_t_via           ubic_via ubic_civ ubic_zd note  full_via_flag  \\\n",
       "0     55.0      Largo      DEI GELSOMINI       10       6  NaN           True   \n",
       "1     28.0     Piazza              FIDIA        3       9  NaN           True   \n",
       "2     27.0        Via              ADIGE       10       5  NaN           True   \n",
       "3      NaN        Via  FLAVIO BARACCHINI        9       1  NaN           True   \n",
       "4     50.0        Via            BERGAMO       12       4  NaN           True   \n",
       "\n",
       "   ubic_flag  \n",
       "0       True  \n",
       "1       True  \n",
       "2       True  \n",
       "3       True  \n",
       "4       True  "
      ]
     },
     "execution_count": 43,
     "metadata": {},
     "output_type": "execute_result"
    }
   ],
   "source": [
    "# Define the function to check full_via existence\n",
    "def check_full_via_exists(row, civici_df):\n",
    "    # Check if the necessary columns contain NaN values\n",
    "    if pd.isna(row['ubic_t_via']) or pd.isna(row['ubic_via']) or pd.isna(row['t_via']) or pd.isna(row['via']):\n",
    "        return [False, False]  # Return [False, False] if any critical columns have NaN values\n",
    "\n",
    "    # Combine the address components if valid\n",
    "    full_via_ubic = (row['ubic_t_via'].strip() + \" \" + row['ubic_via'].strip())\n",
    "    full_via_via = (row['t_via'].strip() + \" \" + row['via'].strip())\n",
    "\n",
    "    # Check if full_via_ubic exists in civici.DESCRITTIVO and match NUMEROCOMPLETO and MUNICIPIO\n",
    "    match_ubic = civici_df[(civici_df['DESCRITTIVO'] == full_via_ubic) &\n",
    "                           (civici_df['NUMEROCOMPLETO'] == row['ubic_civ']) &\n",
    "                           (civici_df['MUNICIPIO'] == row['ubic_zd'].strip())]\n",
    "\n",
    "    # Check if full_via_via exists in civici.DESCRITTIVO and match NUMEROCOMPLETO and MUNICIPIO\n",
    "    match_via = civici_df[(civici_df['DESCRITTIVO'] == full_via_via) &\n",
    "                          (civici_df['NUMEROCOMPLETO'] == row['civ']) &\n",
    "                          (civici_df['MUNICIPIO'] == row['zd'].strip())]\n",
    "\n",
    "    # Return flags as a list\n",
    "    return [len(match_via) > 0, len(match_ubic) > 0]\n",
    "\n",
    "# Enable tqdm for pandas\n",
    "tqdm.pandas()\n",
    "\n",
    "# Apply the check function to each row in your dataset\n",
    "new_SERVICES[['full_via_flag', 'ubic_flag']] = new_SERVICES.progress_apply(\n",
    "    lambda row: pd.Series(check_full_via_exists(row, civici)), axis=1\n",
    ")\n",
    "\n",
    "# Show the result\n",
    "new_SERVICES.head()"
   ]
  },
  {
   "cell_type": "markdown",
   "id": "605d4021",
   "metadata": {
    "papermill": {
     "duration": 0.082294,
     "end_time": "2025-01-18T16:02:56.071039",
     "exception": false,
     "start_time": "2025-01-18T16:02:55.988745",
     "status": "completed"
    },
    "tags": []
   },
   "source": []
  },
  {
   "cell_type": "code",
   "execution_count": 44,
   "id": "b566c91f",
   "metadata": {
    "execution": {
     "iopub.execute_input": "2025-01-18T16:02:56.234060Z",
     "iopub.status.busy": "2025-01-18T16:02:56.233681Z",
     "iopub.status.idle": "2025-01-18T16:02:56.247112Z",
     "shell.execute_reply": "2025-01-18T16:02:56.245708Z"
    },
    "papermill": {
     "duration": 0.097696,
     "end_time": "2025-01-18T16:02:56.249211",
     "exception": false,
     "start_time": "2025-01-18T16:02:56.151515",
     "status": "completed"
    },
    "tags": []
   },
   "outputs": [
    {
     "name": "stdout",
     "output_type": "stream",
     "text": [
      "The number of valid adresses from 'ubic' column composition is 3820.\n",
      "\n",
      "The number of valid adresses from 't_via', 'via', 'civ' and 'zd'  composition is 3823.\n"
     ]
    }
   ],
   "source": [
    "valid_addresses = new_SERVICES.loc[new_SERVICES['ubic_flag'] == True]\n",
    "print(\"The number of valid adresses from 'ubic' column composition is {}.\\n\".format(len(valid_addresses)))\n",
    "\n",
    "valid_addresses = new_SERVICES.loc[new_SERVICES['full_via_flag'] == True]\n",
    "print(\"The number of valid adresses from 't_via', 'via', 'civ' and 'zd'  composition is {}.\".format(len(valid_addresses)))"
   ]
  },
  {
   "cell_type": "markdown",
   "id": "3aef0048",
   "metadata": {
    "papermill": {
     "duration": 0.081369,
     "end_time": "2025-01-18T16:02:56.410821",
     "exception": false,
     "start_time": "2025-01-18T16:02:56.329452",
     "status": "completed"
    },
    "tags": []
   },
   "source": [
    "We perform two filtering steps on the dataset to improve the reliability of our analysis. The reasoning behind these steps is as follows:\n",
    "\n",
    "1. **First Filtering: Rows with Both Flags True but Mismatched Values**  \n",
    "   We drop rows where both `ubic_flag` and `full_via_flag` are `True`, but the corresponding values (`via`, `ubic_via`, `zd`, `ubic_zd`, `civ`, `ubic_civ`) do not match.  \n",
    "   - **Reason**: When both flags indicate correctness (`True`), the dataset gives conflicting information because the actual values do not align. In such cases, it is unclear which value is the true representation, leading to ambiguity. To avoid unreliable data, these rows are removed.\n",
    "\n",
    "2. **Second Filtering: Rows with Both Flags False**  \n",
    "   We also drop rows where both `ubic_flag` and `full_via_flag` are `False`.  \n",
    "   - **Reason**: When both flags are `False`, neither source of information can be verified as correct. These rows provide no reliable information and are therefore discarded to maintain the dataset's integrity."
   ]
  },
  {
   "cell_type": "code",
   "execution_count": 45,
   "id": "2f6003a6",
   "metadata": {
    "execution": {
     "iopub.execute_input": "2025-01-18T16:02:56.571888Z",
     "iopub.status.busy": "2025-01-18T16:02:56.571537Z",
     "iopub.status.idle": "2025-01-18T16:02:56.586786Z",
     "shell.execute_reply": "2025-01-18T16:02:56.585436Z"
    },
    "papermill": {
     "duration": 0.098178,
     "end_time": "2025-01-18T16:02:56.588799",
     "exception": false,
     "start_time": "2025-01-18T16:02:56.490621",
     "status": "completed"
    },
    "tags": []
   },
   "outputs": [
    {
     "name": "stdout",
     "output_type": "stream",
     "text": [
      "The 'SERVICES' dataset has now 3845 records.\n"
     ]
    }
   ],
   "source": [
    "conditions_TT = (new_SERVICES.ubic_flag == True) & (new_SERVICES.full_via_flag == True) & \\\n",
    "            ((new_SERVICES.via != new_SERVICES.ubic_via) | (new_SERVICES.zd != new_SERVICES.ubic_zd) | \\\n",
    "            (new_SERVICES.civ != new_SERVICES.ubic_civ))\n",
    "\n",
    "new_SERVICES = new_SERVICES[~conditions_TT]\n",
    "\n",
    "conditions_FF = (new_SERVICES.ubic_flag == False) & (new_SERVICES.full_via_flag == False)\n",
    "\n",
    "new_SERVICES = new_SERVICES[~conditions_FF]\n",
    "print(\"The 'SERVICES' dataset has now {} records.\".format(new_SERVICES.shape[0]))"
   ]
  },
  {
   "cell_type": "markdown",
   "id": "53b9e766",
   "metadata": {
    "papermill": {
     "duration": 0.084764,
     "end_time": "2025-01-18T16:02:56.756552",
     "exception": false,
     "start_time": "2025-01-18T16:02:56.671788",
     "status": "completed"
    },
    "tags": []
   },
   "source": [
    "We perform a series of updates on the dataset to address rows where `full_via_flag` is `False` but `ubic_flag` is `True`. The operations are as follows:\n",
    "\n",
    "1. **Value Transfer and Substitution**  \n",
    "   We transfer the values from `ubic_t_via`, `ubic_via`, and `ubic_civ` to the respective fields `t_via`, `via`, and `civ`. Additionally, we update the `cod_via` by finding a matching record in the `civici` dataset based on the concatenated address (`ubic_t_via` + `ubic_via`) and `ubic_civ`.\n",
    "   - **Reason**: When `ubic_flag` is `True`, it indicates that the `ubic` dataset provides reliable address data. However, the `full_via_flag` being `False` means that the target fields (`t_via`, `via`, `civ`) need to be populated. We ensure consistency by transferring the values and updating `cod_via` from the `civici` dataset.\n",
    "\n",
    "2. **Address Matching with `civici`**  \n",
    "   We check if the concatenated address from `ubic_t_via` and `ubic_via` matches the records in `civici` and update `cod_via` accordingly.\n",
    "   - **Reason**: This ensures the `cod_via` value aligns with the correct address from the `civici` dataset, maintaining data integrity across related fields."
   ]
  },
  {
   "cell_type": "code",
   "execution_count": 46,
   "id": "2b1fc408",
   "metadata": {
    "execution": {
     "iopub.execute_input": "2025-01-18T16:02:56.927742Z",
     "iopub.status.busy": "2025-01-18T16:02:56.927325Z",
     "iopub.status.idle": "2025-01-18T16:02:57.483196Z",
     "shell.execute_reply": "2025-01-18T16:02:57.481998Z"
    },
    "papermill": {
     "duration": 0.643344,
     "end_time": "2025-01-18T16:02:57.485094",
     "exception": false,
     "start_time": "2025-01-18T16:02:56.841750",
     "status": "completed"
    },
    "tags": []
   },
   "outputs": [
    {
     "data": {
      "text/html": [
       "<div>\n",
       "<style scoped>\n",
       "    .dataframe tbody tr th:only-of-type {\n",
       "        vertical-align: middle;\n",
       "    }\n",
       "\n",
       "    .dataframe tbody tr th {\n",
       "        vertical-align: top;\n",
       "    }\n",
       "\n",
       "    .dataframe thead th {\n",
       "        text-align: right;\n",
       "    }\n",
       "</style>\n",
       "<table border=\"1\" class=\"dataframe\">\n",
       "  <thead>\n",
       "    <tr style=\"text-align: right;\">\n",
       "      <th></th>\n",
       "      <th>t_es</th>\n",
       "      <th>t_via</th>\n",
       "      <th>via</th>\n",
       "      <th>civ</th>\n",
       "      <th>cod_via</th>\n",
       "      <th>zd</th>\n",
       "      <th>sup_alt</th>\n",
       "      <th>sup_lav</th>\n",
       "      <th>ubic_t_via</th>\n",
       "      <th>ubic_via</th>\n",
       "      <th>ubic_civ</th>\n",
       "      <th>ubic_zd</th>\n",
       "      <th>note</th>\n",
       "      <th>full_via_flag</th>\n",
       "      <th>ubic_flag</th>\n",
       "    </tr>\n",
       "  </thead>\n",
       "  <tbody>\n",
       "    <tr>\n",
       "      <th>143</th>\n",
       "      <td>Acconciatore</td>\n",
       "      <td>Via</td>\n",
       "      <td>PAVIA</td>\n",
       "      <td>6/2</td>\n",
       "      <td>5262</td>\n",
       "      <td>5</td>\n",
       "      <td>NaN</td>\n",
       "      <td>NaN</td>\n",
       "      <td>Via</td>\n",
       "      <td>PAVIA</td>\n",
       "      <td>6/2</td>\n",
       "      <td>5</td>\n",
       "      <td>NaN</td>\n",
       "      <td>False</td>\n",
       "      <td>True</td>\n",
       "    </tr>\n",
       "    <tr>\n",
       "      <th>285</th>\n",
       "      <td>Acconciatore</td>\n",
       "      <td>Via</td>\n",
       "      <td>APPENNINI</td>\n",
       "      <td>77H</td>\n",
       "      <td>7514</td>\n",
       "      <td>8</td>\n",
       "      <td>NaN</td>\n",
       "      <td>NaN</td>\n",
       "      <td>Via</td>\n",
       "      <td>APPENNINI</td>\n",
       "      <td>77H</td>\n",
       "      <td>8</td>\n",
       "      <td>NaN</td>\n",
       "      <td>False</td>\n",
       "      <td>True</td>\n",
       "    </tr>\n",
       "    <tr>\n",
       "      <th>307</th>\n",
       "      <td>Acconciatore</td>\n",
       "      <td>Via</td>\n",
       "      <td>UGO BETTI</td>\n",
       "      <td>161A</td>\n",
       "      <td>7517</td>\n",
       "      <td>8</td>\n",
       "      <td>6.0</td>\n",
       "      <td>23.0</td>\n",
       "      <td>Via</td>\n",
       "      <td>UGO BETTI</td>\n",
       "      <td>161A</td>\n",
       "      <td>8</td>\n",
       "      <td>NaN</td>\n",
       "      <td>False</td>\n",
       "      <td>True</td>\n",
       "    </tr>\n",
       "    <tr>\n",
       "      <th>316</th>\n",
       "      <td>Acconciatore</td>\n",
       "      <td>Via</td>\n",
       "      <td>PIETRO BOIFAVA</td>\n",
       "      <td>6C</td>\n",
       "      <td>5341</td>\n",
       "      <td>5</td>\n",
       "      <td>7.0</td>\n",
       "      <td>20.0</td>\n",
       "      <td>Via</td>\n",
       "      <td>PIETRO BOIFAVA</td>\n",
       "      <td>6C</td>\n",
       "      <td>5</td>\n",
       "      <td>NaN</td>\n",
       "      <td>False</td>\n",
       "      <td>True</td>\n",
       "    </tr>\n",
       "    <tr>\n",
       "      <th>327</th>\n",
       "      <td>Acconciatore</td>\n",
       "      <td>Via</td>\n",
       "      <td>PIETRO CALVI</td>\n",
       "      <td>3A</td>\n",
       "      <td>3083</td>\n",
       "      <td>4</td>\n",
       "      <td>5.0</td>\n",
       "      <td>193.0</td>\n",
       "      <td>Via</td>\n",
       "      <td>PIETRO CALVI</td>\n",
       "      <td>3A</td>\n",
       "      <td>4</td>\n",
       "      <td>p.t.acconciatore</td>\n",
       "      <td>False</td>\n",
       "      <td>True</td>\n",
       "    </tr>\n",
       "  </tbody>\n",
       "</table>\n",
       "</div>"
      ],
      "text/plain": [
       "             t_es t_via             via   civ cod_via zd  sup_alt  sup_lav  \\\n",
       "143  Acconciatore   Via           PAVIA   6/2    5262  5      NaN      NaN   \n",
       "285  Acconciatore   Via       APPENNINI   77H    7514  8      NaN      NaN   \n",
       "307  Acconciatore   Via       UGO BETTI  161A    7517  8      6.0     23.0   \n",
       "316  Acconciatore   Via  PIETRO BOIFAVA    6C    5341  5      7.0     20.0   \n",
       "327  Acconciatore   Via    PIETRO CALVI    3A    3083  4      5.0    193.0   \n",
       "\n",
       "    ubic_t_via        ubic_via ubic_civ ubic_zd               note  \\\n",
       "143        Via           PAVIA      6/2       5                NaN   \n",
       "285        Via       APPENNINI      77H       8                NaN   \n",
       "307        Via       UGO BETTI     161A       8                NaN   \n",
       "316        Via  PIETRO BOIFAVA       6C       5                NaN   \n",
       "327        Via    PIETRO CALVI       3A       4  p.t.acconciatore    \n",
       "\n",
       "     full_via_flag  ubic_flag  \n",
       "143          False       True  \n",
       "285          False       True  \n",
       "307          False       True  \n",
       "316          False       True  \n",
       "327          False       True  "
      ]
     },
     "execution_count": 46,
     "metadata": {},
     "output_type": "execute_result"
    }
   ],
   "source": [
    "# Identify rows where the condition is True\n",
    "conditions_TF = (new_SERVICES.ubic_flag == True) & (new_SERVICES.full_via_flag == False)\n",
    "\n",
    "# Loop through the rows and handle the transfer and substitution\n",
    "for index, row in new_SERVICES[conditions_TF].iterrows():\n",
    "    # Transfer values from ubic_t_via, ubic_via, ubic_civ to t_via, via, civ\n",
    "    new_SERVICES.at[index, 't_via'] = row['ubic_t_via']\n",
    "    new_SERVICES.at[index, 'via'] = row['ubic_via']\n",
    "    new_SERVICES.at[index, 'civ'] = row['ubic_civ']\n",
    "    \n",
    "    # Ensure proper concatenation of strings before the comparison\n",
    "    full_address = row['ubic_t_via'].strip() + \" \" + row['ubic_via'].strip()\n",
    "\n",
    "    # Find matching cod_via in the civici dataframe\n",
    "    matching_civici = civici[(civici['DESCRITTIVO'] == full_address) &\n",
    "                             (civici['NUMEROCOMPLETO'] == row['ubic_civ'])]\n",
    "    \n",
    "    # Substitute the cod_via if a match is found\n",
    "    if not matching_civici.empty:\n",
    "        new_SERVICES.at[index, 'cod_via'] = matching_civici['CODICE_VIA'].iloc[0]\n",
    "\n",
    "# Check the result after the updates\n",
    "new_SERVICES[conditions_TF].head()"
   ]
  },
  {
   "cell_type": "markdown",
   "id": "bbee9e1c",
   "metadata": {
    "papermill": {
     "duration": 0.081491,
     "end_time": "2025-01-18T16:02:57.647741",
     "exception": false,
     "start_time": "2025-01-18T16:02:57.566250",
     "status": "completed"
    },
    "tags": []
   },
   "source": [
    "We drop all the rows that we don't need anymore: like ubic derivatives and flags."
   ]
  },
  {
   "cell_type": "code",
   "execution_count": 47,
   "id": "ef66a2cd",
   "metadata": {
    "execution": {
     "iopub.execute_input": "2025-01-18T16:02:57.810777Z",
     "iopub.status.busy": "2025-01-18T16:02:57.810327Z",
     "iopub.status.idle": "2025-01-18T16:02:57.827813Z",
     "shell.execute_reply": "2025-01-18T16:02:57.826368Z"
    },
    "papermill": {
     "duration": 0.100686,
     "end_time": "2025-01-18T16:02:57.829790",
     "exception": false,
     "start_time": "2025-01-18T16:02:57.729104",
     "status": "completed"
    },
    "tags": []
   },
   "outputs": [
    {
     "data": {
      "text/html": [
       "<div>\n",
       "<style scoped>\n",
       "    .dataframe tbody tr th:only-of-type {\n",
       "        vertical-align: middle;\n",
       "    }\n",
       "\n",
       "    .dataframe tbody tr th {\n",
       "        vertical-align: top;\n",
       "    }\n",
       "\n",
       "    .dataframe thead th {\n",
       "        text-align: right;\n",
       "    }\n",
       "</style>\n",
       "<table border=\"1\" class=\"dataframe\">\n",
       "  <thead>\n",
       "    <tr style=\"text-align: right;\">\n",
       "      <th></th>\n",
       "      <th>t_es</th>\n",
       "      <th>t_via</th>\n",
       "      <th>via</th>\n",
       "      <th>civ</th>\n",
       "      <th>cod_via</th>\n",
       "      <th>zd</th>\n",
       "      <th>sup_alt</th>\n",
       "      <th>sup_lav</th>\n",
       "      <th>note</th>\n",
       "    </tr>\n",
       "  </thead>\n",
       "  <tbody>\n",
       "    <tr>\n",
       "      <th>0</th>\n",
       "      <td></td>\n",
       "      <td>Largo</td>\n",
       "      <td>DEI GELSOMINI</td>\n",
       "      <td>10</td>\n",
       "      <td>5394</td>\n",
       "      <td>6</td>\n",
       "      <td>NaN</td>\n",
       "      <td>55.0</td>\n",
       "      <td>NaN</td>\n",
       "    </tr>\n",
       "    <tr>\n",
       "      <th>1</th>\n",
       "      <td>Centro Massaggi</td>\n",
       "      <td>Piazza</td>\n",
       "      <td>FIDIA</td>\n",
       "      <td>3</td>\n",
       "      <td>1144</td>\n",
       "      <td>9</td>\n",
       "      <td>2.0</td>\n",
       "      <td>28.0</td>\n",
       "      <td>NaN</td>\n",
       "    </tr>\n",
       "    <tr>\n",
       "      <th>2</th>\n",
       "      <td>Centro Benessere</td>\n",
       "      <td>Via</td>\n",
       "      <td>ADIGE</td>\n",
       "      <td>10</td>\n",
       "      <td>4216</td>\n",
       "      <td>5</td>\n",
       "      <td>2.0</td>\n",
       "      <td>27.0</td>\n",
       "      <td>NaN</td>\n",
       "    </tr>\n",
       "    <tr>\n",
       "      <th>3</th>\n",
       "      <td>Truccatore</td>\n",
       "      <td>Via</td>\n",
       "      <td>FLAVIO BARACCHINI</td>\n",
       "      <td>9</td>\n",
       "      <td>356</td>\n",
       "      <td>1</td>\n",
       "      <td>NaN</td>\n",
       "      <td>NaN</td>\n",
       "      <td>NaN</td>\n",
       "    </tr>\n",
       "    <tr>\n",
       "      <th>4</th>\n",
       "      <td></td>\n",
       "      <td>Via</td>\n",
       "      <td>BERGAMO</td>\n",
       "      <td>12</td>\n",
       "      <td>3189</td>\n",
       "      <td>4</td>\n",
       "      <td>NaN</td>\n",
       "      <td>50.0</td>\n",
       "      <td>NaN</td>\n",
       "    </tr>\n",
       "  </tbody>\n",
       "</table>\n",
       "</div>"
      ],
      "text/plain": [
       "               t_es   t_via                via civ cod_via zd  sup_alt  \\\n",
       "0                     Largo      DEI GELSOMINI  10    5394  6      NaN   \n",
       "1   Centro Massaggi  Piazza              FIDIA   3    1144  9      2.0   \n",
       "2  Centro Benessere     Via              ADIGE  10    4216  5      2.0   \n",
       "3        Truccatore     Via  FLAVIO BARACCHINI   9     356  1      NaN   \n",
       "4                       Via            BERGAMO  12    3189  4      NaN   \n",
       "\n",
       "   sup_lav note  \n",
       "0     55.0  NaN  \n",
       "1     28.0  NaN  \n",
       "2     27.0  NaN  \n",
       "3      NaN  NaN  \n",
       "4     50.0  NaN  "
      ]
     },
     "execution_count": 47,
     "metadata": {},
     "output_type": "execute_result"
    }
   ],
   "source": [
    "new_SERVICES = new_SERVICES.drop([\"ubic_t_via\", \"ubic_via\", \"ubic_civ\", \"ubic_zd\", \"full_via_flag\", \"ubic_flag\"], axis=1)\n",
    "new_SERVICES.head()"
   ]
  },
  {
   "cell_type": "markdown",
   "id": "88032a09",
   "metadata": {
    "papermill": {
     "duration": 0.086202,
     "end_time": "2025-01-18T16:02:58.001928",
     "exception": false,
     "start_time": "2025-01-18T16:02:57.915726",
     "status": "completed"
    },
    "tags": []
   },
   "source": [
    "## Data Deduplication \n",
    "### Detecting and handling non-exact duplicates\n",
    "In this operation, we address potential data corruption in the original dataset, where records associated with the same address might have been split into multiple rows. This splitting likely occurred because the dataset exploded certain records across multiple lines, associating different labels in the `t_es` column with separate rows.\n",
    "\n",
    "The goal of this process is to consolidate these rows into a single entry per address when they share overlapping labels in the `t_es` column.\n",
    "\n",
    "##### Example\n",
    "\n",
    "To illustrate the issue, consider the following rows from the dataset:\n",
    "\n",
    "| Index | t_es                                | via   | street_name    | civ | cod_via | sup_alt | sup_lav | note |\n",
    "|-------|-------------------------------------|-------|----------------|-----|---------|---------|---------|------|\n",
    "| 31    | Acconciatore                       | Corso | BUENOS AIRES   | 23  | 2129    | 3       | NaN     | 68.0 |\n",
    "| 798   | Tipo A - Estetica Manuale;Acconciatore | Corso | BUENOS AIRES   | 23  | 2129    | 3       | NaN     | 45.0 |\n",
    "| 3171  | Tipo A - Estetica Manuale          | Corso | BUENOS AIRES   | 23  | 2129    | 3       | NaN     | 45.0 |\n",
    "\n",
    "which transforms to:\n",
    "\n",
    "| Index | t_es                                | via   | street_name    | civ | cod_via | sup_alt | sup_lav | note |\n",
    "|-------|-------------------------------------|-------|----------------|-----|---------|---------|---------|------|\n",
    "| 0     | Tipo A - Estetica Manuale;Acconciatore | Corso | BUENOS AIRES   | 23  | 2129    | 3       | NaN     | 68.0 |\n",
    "\n",
    "In this example, the rows, which are consolidated the same address, are consolidated into a single row. The `t_es` column combines all unique labels into one string, resulting in `\"Tipo A - Estetica Manuale;Acconciatore\"`. For numeric fields like `sup_alt` and `sup_lav`, the maximum values across the rows are retained.\n",
    "\n",
    "Redundant rows are then removed, leaving only the merged entry."
   ]
  },
  {
   "cell_type": "code",
   "execution_count": 48,
   "id": "a15952b5",
   "metadata": {
    "execution": {
     "iopub.execute_input": "2025-01-18T16:02:58.179231Z",
     "iopub.status.busy": "2025-01-18T16:02:58.178826Z",
     "iopub.status.idle": "2025-01-18T16:03:02.620340Z",
     "shell.execute_reply": "2025-01-18T16:03:02.618801Z"
    },
    "papermill": {
     "duration": 4.529874,
     "end_time": "2025-01-18T16:03:02.622335",
     "exception": false,
     "start_time": "2025-01-18T16:02:58.092461",
     "status": "completed"
    },
    "tags": []
   },
   "outputs": [
    {
     "data": {
      "text/html": [
       "<div>\n",
       "<style scoped>\n",
       "    .dataframe tbody tr th:only-of-type {\n",
       "        vertical-align: middle;\n",
       "    }\n",
       "\n",
       "    .dataframe tbody tr th {\n",
       "        vertical-align: top;\n",
       "    }\n",
       "\n",
       "    .dataframe thead th {\n",
       "        text-align: right;\n",
       "    }\n",
       "</style>\n",
       "<table border=\"1\" class=\"dataframe\">\n",
       "  <thead>\n",
       "    <tr style=\"text-align: right;\">\n",
       "      <th></th>\n",
       "      <th>t_es</th>\n",
       "      <th>t_via</th>\n",
       "      <th>via</th>\n",
       "      <th>civ</th>\n",
       "      <th>cod_via</th>\n",
       "      <th>zd</th>\n",
       "      <th>sup_alt</th>\n",
       "      <th>sup_lav</th>\n",
       "      <th>note</th>\n",
       "    </tr>\n",
       "  </thead>\n",
       "  <tbody>\n",
       "    <tr>\n",
       "      <th>0</th>\n",
       "      <td>Tipo A - Estetica Manuale</td>\n",
       "      <td>Piazza</td>\n",
       "      <td>DEL DUOMO</td>\n",
       "      <td>17</td>\n",
       "      <td>1</td>\n",
       "      <td>1</td>\n",
       "      <td>NaN</td>\n",
       "      <td>74.0</td>\n",
       "      <td>NaN</td>\n",
       "    </tr>\n",
       "    <tr>\n",
       "      <th>1</th>\n",
       "      <td>Tipo A - Estetica Manuale;Tipo B - Centro di Abbronzatura</td>\n",
       "      <td>Corso</td>\n",
       "      <td>GIUSEPPE GARIBALDI</td>\n",
       "      <td>104</td>\n",
       "      <td>1010</td>\n",
       "      <td>1</td>\n",
       "      <td>NaN</td>\n",
       "      <td>NaN</td>\n",
       "      <td>NaN</td>\n",
       "    </tr>\n",
       "    <tr>\n",
       "      <th>2</th>\n",
       "      <td>Tipo A - Estetica Manuale;Parrucchiere per Donna</td>\n",
       "      <td>Corso</td>\n",
       "      <td>GIUSEPPE GARIBALDI</td>\n",
       "      <td>110</td>\n",
       "      <td>1010</td>\n",
       "      <td>1</td>\n",
       "      <td>NaN</td>\n",
       "      <td>88.0</td>\n",
       "      <td>NaN</td>\n",
       "    </tr>\n",
       "    <tr>\n",
       "      <th>3</th>\n",
       "      <td>Acconciatore</td>\n",
       "      <td>Corso</td>\n",
       "      <td>GIUSEPPE GARIBALDI</td>\n",
       "      <td>39</td>\n",
       "      <td>1010</td>\n",
       "      <td>1</td>\n",
       "      <td>NaN</td>\n",
       "      <td>54.0</td>\n",
       "      <td>NaN</td>\n",
       "    </tr>\n",
       "    <tr>\n",
       "      <th>4</th>\n",
       "      <td>Parrucchiere per Donna</td>\n",
       "      <td>Corso</td>\n",
       "      <td>GIUSEPPE GARIBALDI</td>\n",
       "      <td>46</td>\n",
       "      <td>1010</td>\n",
       "      <td>1</td>\n",
       "      <td>NaN</td>\n",
       "      <td>NaN</td>\n",
       "      <td>NaN</td>\n",
       "    </tr>\n",
       "  </tbody>\n",
       "</table>\n",
       "</div>"
      ],
      "text/plain": [
       "                                                        t_es   t_via  \\\n",
       "0                                  Tipo A - Estetica Manuale  Piazza   \n",
       "1  Tipo A - Estetica Manuale;Tipo B - Centro di Abbronzatura   Corso   \n",
       "2           Tipo A - Estetica Manuale;Parrucchiere per Donna   Corso   \n",
       "3                                               Acconciatore   Corso   \n",
       "4                                     Parrucchiere per Donna   Corso   \n",
       "\n",
       "                  via  civ cod_via zd  sup_alt  sup_lav note  \n",
       "0           DEL DUOMO   17       1  1      NaN     74.0  NaN  \n",
       "1  GIUSEPPE GARIBALDI  104    1010  1      NaN      NaN  NaN  \n",
       "2  GIUSEPPE GARIBALDI  110    1010  1      NaN     88.0  NaN  \n",
       "3  GIUSEPPE GARIBALDI   39    1010  1      NaN     54.0  NaN  \n",
       "4  GIUSEPPE GARIBALDI   46    1010  1      NaN      NaN  NaN  "
      ]
     },
     "execution_count": 48,
     "metadata": {},
     "output_type": "execute_result"
    }
   ],
   "source": [
    "# Define categories and their specializations\n",
    "categories_to_merge = {\n",
    "    \"Acconciatore\": [\"Acconciatore\", \"Parrucchiere per Uomo\", \"Parrucchiere per Donna\"], \n",
    "    \"Estetica\": [\"Tipo A - Estetica Manuale\", \"Tipo B - Centro di Abbronzatura\", \n",
    "                 \"Tipo C - Trattamenti Estetici Dimagrimento\", \"Tipo D - Estetica Apparati Elettromeccanici\"]\n",
    "}\n",
    "\n",
    "# Function to check if any label in multi-labeled t_es matches specializations\n",
    "def should_merge(row1, row2):\n",
    "    # Convert t_es values to lists if they are multi-labeled (e.g., \"Acconciatore, Parrucchiere Uomo\")\n",
    "    t_es1_labels = row1[\"t_es\"].split(\";\")\n",
    "    t_es2_labels = row2[\"t_es\"].split(\";\")\n",
    "\n",
    "    if t_es1_labels[0] == \"\" or t_es2_labels[0] == \"\":\n",
    "        return True\n",
    "        \n",
    "    for category, specializations in categories_to_merge.items():\n",
    "        # Check if any label in t_es1 or t_es2 belongs to the current category's specializations\n",
    "        if any(label.strip() in specializations for label in t_es1_labels) and any(label.strip() in specializations for label in t_es2_labels):\n",
    "            return True\n",
    "    return False\n",
    "\n",
    "def merge_rows(group):\n",
    "    merged_rows = []\n",
    "    i = 0  # We will iterate row by row\n",
    "    \n",
    "    while i < len(group):\n",
    "        row1 = group.iloc[i]\n",
    "        merged = False  # Flag to check if the row is merged\n",
    "        \n",
    "        # Check if the current row can be merged with the next one\n",
    "        if i + 1 < len(group):\n",
    "            row2 = group.iloc[i + 1]\n",
    "            \n",
    "            if should_merge(row1, row2):  # Check if we should merge the rows\n",
    "                # Merge the two rows\n",
    "                merged_row = row1.copy()  # Start with the first row\n",
    "                merged_row[\"t_es\"] = \";\".join(set(row1[\"t_es\"].split(\";\") + row2[\"t_es\"].split(\";\")))  # Merge t_es values\n",
    "                if merged_row[\"t_es\"][0] == \";\":\n",
    "                    merged_row[\"t_es\"] = merged_row[\"t_es\"][1:]\n",
    "\n",
    "                # Assuming merged_row[\"t_es\"] is a string, split it into a list\n",
    "                t_es_list = merged_row[\"t_es\"].split(\";\") if isinstance(merged_row[\"t_es\"], str) else merged_row[\"t_es\"]\n",
    "                \n",
    "                # Check if \"Acconciatore\" is in the list and if any other term from the same category exists\n",
    "                if \"Acconciatore\" in t_es_list:\n",
    "                    if any(term in t_es_list for term in categories_to_merge[\"Acconciatore\"] if term != \"Acconciatore\"):\n",
    "                        t_es_list.remove(\"Acconciatore\")  # Remove \"Acconciatore\" from the list if condition is met\n",
    "                \n",
    "                # Join the list back into a string, if necessary\n",
    "                merged_row[\"t_es\"] = \";\".join(t_es_list)\n",
    "\n",
    "                \n",
    "                merged_row[\"sup_alt\"] = max(row1[\"sup_alt\"], row2[\"sup_alt\"])  # Take the max value\n",
    "                merged_row[\"sup_lav\"] = max(row1[\"sup_lav\"], row2[\"sup_lav\"])  # Take the max value\n",
    "                \n",
    "                merged_rows.append(merged_row)\n",
    "                i += 2  # Skip the next row since it's already merged\n",
    "                merged = True\n",
    "        \n",
    "        # If no merge occurred, add the current row to the result\n",
    "        if not merged:\n",
    "            merged_rows.append(row1)\n",
    "            i += 1  # Move to the next row\n",
    "    \n",
    "    return pd.DataFrame(merged_rows) \n",
    "\n",
    "# Apply the merge_rows function to groups with more than 1 row\n",
    "new_SERVICES = new_SERVICES.groupby([\"cod_via\", \"via\", \"civ\"]).apply(lambda group: merge_rows(group)).reset_index(drop=True)\n",
    "new_SERVICES.head()"
   ]
  },
  {
   "cell_type": "markdown",
   "id": "f33a0747",
   "metadata": {
    "papermill": {
     "duration": 0.081411,
     "end_time": "2025-01-18T16:03:02.788179",
     "exception": false,
     "start_time": "2025-01-18T16:03:02.706768",
     "status": "completed"
    },
    "tags": []
   },
   "source": [
    "Furthermore, `\"Acconciatore\"` is treated as a broader category, while `\"Parrucchiere per Uomo\"` and `\"Parrucchiere per Donna\"` are considered specific specializations within that category. <br> When these labels appear together in the same record, we merge them but also remove `\"Acconciatore\"` if any of these specific specializations are present. This is done because we recognize that the specific specializations are more relevant in this context. This helps to refine the dataset by ensuring that the more specific services take precedence over the broader category.\n",
    "\n",
    "Then, we move on by removing duplicate rows based on the columns `t_es`, `cod_via`, `via`, and `civ`, so each record is unique. Rows where `t_es` is empty are also removed to keep only relevant data. Finally, the `note` column is deleted because it is not needed for further analysis, making the dataset simpler and easier to work with."
   ]
  },
  {
   "cell_type": "code",
   "execution_count": 49,
   "id": "2c2f9ba3",
   "metadata": {
    "execution": {
     "iopub.execute_input": "2025-01-18T16:03:02.952352Z",
     "iopub.status.busy": "2025-01-18T16:03:02.951883Z",
     "iopub.status.idle": "2025-01-18T16:03:02.966715Z",
     "shell.execute_reply": "2025-01-18T16:03:02.965005Z"
    },
    "papermill": {
     "duration": 0.099522,
     "end_time": "2025-01-18T16:03:02.969454",
     "exception": false,
     "start_time": "2025-01-18T16:03:02.869932",
     "status": "completed"
    },
    "tags": []
   },
   "outputs": [
    {
     "name": "stdout",
     "output_type": "stream",
     "text": [
      "The 'SERVICES' dataset has now 3523 records.\n"
     ]
    }
   ],
   "source": [
    "new_SERVICES = new_SERVICES.drop_duplicates(subset=[\"t_es\", \"cod_via\", \"via\", \"civ\"])\n",
    "new_SERVICES = new_SERVICES[~(new_SERVICES.t_es == \"\")]\n",
    "new_SERVICES = new_SERVICES.drop(columns=[\"note\"])\n",
    "print(\"The 'SERVICES' dataset has now {} records.\".format(new_SERVICES.shape[0]))"
   ]
  },
  {
   "cell_type": "markdown",
   "id": "2f0fe17e",
   "metadata": {
    "papermill": {
     "duration": 0.08355,
     "end_time": "2025-01-18T16:03:03.146869",
     "exception": false,
     "start_time": "2025-01-18T16:03:03.063319",
     "status": "completed"
    },
    "tags": []
   },
   "source": [
    "## Outlier Detection\n",
    "### SUP_LAV: Detecting and Removing Outliers\n",
    "\n",
    "This step fills missing values in the `sup_lav` column by replacing them with the median value of `sup_lav` for each `t_es` category. We then detect outliers in the `sup_lav` column using the Z-score method, identifying values that are more than 3 standard deviations away from the mean. This helps standardize the data by addressing missing values and flagging extreme entries that could distort analysis."
   ]
  },
  {
   "cell_type": "code",
   "execution_count": 50,
   "id": "f66f3198",
   "metadata": {
    "execution": {
     "iopub.execute_input": "2025-01-18T16:03:03.411208Z",
     "iopub.status.busy": "2025-01-18T16:03:03.410796Z",
     "iopub.status.idle": "2025-01-18T16:03:03.461298Z",
     "shell.execute_reply": "2025-01-18T16:03:03.459601Z"
    },
    "papermill": {
     "duration": 0.140237,
     "end_time": "2025-01-18T16:03:03.463484",
     "exception": false,
     "start_time": "2025-01-18T16:03:03.323247",
     "status": "completed"
    },
    "tags": []
   },
   "outputs": [
    {
     "name": "stdout",
     "output_type": "stream",
     "text": [
      "Outliers detected using Z-score for the 'sup_lav' column are 53\n"
     ]
    }
   ],
   "source": [
    "# Step 1.1: Calculate the median \"sup_lav\" for each \"t_es\"\n",
    "medians = new_SERVICES.groupby('t_es')['sup_lav'].median()\n",
    "\n",
    "# Step 1.2: Fill null values with the median of the corresponding \"t_es\"\n",
    "new_SERVICES['sup_lav'] = new_SERVICES.apply(\n",
    "    lambda row: medians[row['t_es']] if pd.isnull(row['sup_lav']) else row['sup_lav'],\n",
    "    axis=1\n",
    ")\n",
    "\n",
    "# Step 2: Perform outlier detection using the Z-score method\n",
    "mean_superficie = new_SERVICES['sup_lav'].mean()\n",
    "std_superficie = new_SERVICES['sup_lav'].std()\n",
    "\n",
    "# Calculate the Z-score\n",
    "new_SERVICES['z_score'] = (new_SERVICES['sup_lav'] - mean_superficie) / std_superficie\n",
    "\n",
    "# Identify outliers (Z-score > 3 or < -3)\n",
    "outliers = new_SERVICES[(new_SERVICES['z_score'] > 3) | (new_SERVICES['z_score'] < -3)]\n",
    "\n",
    "# Print the number of outliers\n",
    "print(\"Outliers detected using Z-score for the 'sup_lav' column are {}\".format(outliers.shape[0]))"
   ]
  },
  {
   "cell_type": "markdown",
   "id": "36b81d4e",
   "metadata": {
    "papermill": {
     "duration": 0.085193,
     "end_time": "2025-01-18T16:03:03.633049",
     "exception": false,
     "start_time": "2025-01-18T16:03:03.547856",
     "status": "completed"
    },
    "tags": []
   },
   "source": [
    "Then, we remove the outliers identified in the previous step by filtering out rows where the Z-score is greater than 3 or less than -3. After removing the outliers, we drop the `z_score` column as it is no longer needed for further analysis. This ensures the dataset is free from extreme values that could skew results."
   ]
  },
  {
   "cell_type": "code",
   "execution_count": 51,
   "id": "cd049f47",
   "metadata": {
    "execution": {
     "iopub.execute_input": "2025-01-18T16:03:03.802771Z",
     "iopub.status.busy": "2025-01-18T16:03:03.802341Z",
     "iopub.status.idle": "2025-01-18T16:03:03.810946Z",
     "shell.execute_reply": "2025-01-18T16:03:03.809805Z"
    },
    "papermill": {
     "duration": 0.095949,
     "end_time": "2025-01-18T16:03:03.812915",
     "exception": false,
     "start_time": "2025-01-18T16:03:03.716966",
     "status": "completed"
    },
    "tags": []
   },
   "outputs": [],
   "source": [
    "# Step 4: Remove outliers\n",
    "new_SERVICES = new_SERVICES[(new_SERVICES['z_score'] <= 3) & (new_SERVICES['z_score'] >= -3)]\n",
    "\n",
    "# Drop the Z-score column as it's no longer needed\n",
    "new_SERVICES = new_SERVICES.drop(columns=['z_score'])"
   ]
  },
  {
   "cell_type": "markdown",
   "id": "1d83640e",
   "metadata": {
    "papermill": {
     "duration": 0.08287,
     "end_time": "2025-01-18T16:03:03.982406",
     "exception": false,
     "start_time": "2025-01-18T16:03:03.899536",
     "status": "completed"
    },
    "tags": []
   },
   "source": [
    "### SUP_ALT: Detecting and Removing Outliers\n",
    "\n",
    "We apply the same process to the `sup_alt` column: first, we calculate the Z-scores to identify outliers, then filter out rows where the Z-score for `sup_alt` is greater than 3 or less than -3. Finally, we drop the `z_score` column, ensuring that the dataset is cleaned of extreme values in both the `sup_lav` and `sup_alt` columns."
   ]
  },
  {
   "cell_type": "code",
   "execution_count": 52,
   "id": "904266e1",
   "metadata": {
    "execution": {
     "iopub.execute_input": "2025-01-18T16:03:04.161390Z",
     "iopub.status.busy": "2025-01-18T16:03:04.160974Z",
     "iopub.status.idle": "2025-01-18T16:03:04.216276Z",
     "shell.execute_reply": "2025-01-18T16:03:04.214938Z"
    },
    "papermill": {
     "duration": 0.142285,
     "end_time": "2025-01-18T16:03:04.218356",
     "exception": false,
     "start_time": "2025-01-18T16:03:04.076071",
     "status": "completed"
    },
    "tags": []
   },
   "outputs": [
    {
     "name": "stdout",
     "output_type": "stream",
     "text": [
      "Outliers detected using Z-score for the 'sup_' column are 31\n"
     ]
    }
   ],
   "source": [
    "# Step 1.1: Calculate the median \"sup_alt\" for each \"t_es\"\n",
    "medians = new_SERVICES.groupby('t_es')['sup_alt'].median()\n",
    "\n",
    "# Step 1.2: Fill null values with the median of the corresponding \"t_es\"\n",
    "new_SERVICES['sup_alt'] = new_SERVICES.apply(\n",
    "    lambda row: medians[row['t_es']] if pd.isnull(row['sup_alt']) else row['sup_alt'],\n",
    "    axis=1\n",
    ")\n",
    "\n",
    "# Step 2: Perform outlier detection using the Z-score method\n",
    "mean_superficie = new_SERVICES['sup_alt'].mean()\n",
    "std_superficie = new_SERVICES['sup_alt'].std()\n",
    "\n",
    "# Calculate the Z-score\n",
    "new_SERVICES['z_score'] = (new_SERVICES['sup_alt'] - mean_superficie) / std_superficie\n",
    "\n",
    "# Identify outliers (Z-score > 3 or < -3)\n",
    "outliers = new_SERVICES[(new_SERVICES['z_score'] > 3) | (new_SERVICES['z_score'] < -3)]\n",
    "\n",
    "print(\"Outliers detected using Z-score for the 'sup_' column are {}\".format(outliers.shape[0]))\n",
    "\n",
    "# Step 4: Remove outliers\n",
    "new_SERVICES = new_SERVICES[(new_SERVICES['z_score'] <= 3) & (new_SERVICES['z_score'] >= -3)]\n",
    "\n",
    "# Drop the Z-score column as it's no longer needed\n",
    "new_SERVICES = new_SERVICES.drop(columns=['z_score'])"
   ]
  },
  {
   "cell_type": "markdown",
   "id": "b8865f3c",
   "metadata": {
    "papermill": {
     "duration": 0.082238,
     "end_time": "2025-01-18T16:03:04.381478",
     "exception": false,
     "start_time": "2025-01-18T16:03:04.299240",
     "status": "completed"
    },
    "tags": []
   },
   "source": [
    "After applying these steps, including filling missing values with the median and removing outliers, the dataset will no longer contain any `NaN` values. All missing data in the `sup_lav` and `sup_alt` columns will have been addressed, ensuring a complete and clean dataset without any `NaN` entries."
   ]
  },
  {
   "cell_type": "code",
   "execution_count": 53,
   "id": "70edf158",
   "metadata": {
    "execution": {
     "iopub.execute_input": "2025-01-18T16:03:04.543242Z",
     "iopub.status.busy": "2025-01-18T16:03:04.542866Z",
     "iopub.status.idle": "2025-01-18T16:03:04.552343Z",
     "shell.execute_reply": "2025-01-18T16:03:04.551168Z"
    },
    "papermill": {
     "duration": 0.092795,
     "end_time": "2025-01-18T16:03:04.554092",
     "exception": false,
     "start_time": "2025-01-18T16:03:04.461297",
     "status": "completed"
    },
    "tags": []
   },
   "outputs": [
    {
     "data": {
      "text/plain": [
       "t_es       0\n",
       "t_via      0\n",
       "via        0\n",
       "civ        0\n",
       "cod_via    0\n",
       "zd         0\n",
       "sup_alt    0\n",
       "sup_lav    0\n",
       "dtype: int64"
      ]
     },
     "execution_count": 53,
     "metadata": {},
     "output_type": "execute_result"
    }
   ],
   "source": [
    "new_SERVICES.isna().sum()"
   ]
  },
  {
   "cell_type": "code",
   "execution_count": 54,
   "id": "7c6cdeee",
   "metadata": {
    "execution": {
     "iopub.execute_input": "2025-01-18T16:03:04.720320Z",
     "iopub.status.busy": "2025-01-18T16:03:04.719922Z",
     "iopub.status.idle": "2025-01-18T16:03:04.740540Z",
     "shell.execute_reply": "2025-01-18T16:03:04.739405Z"
    },
    "papermill": {
     "duration": 0.105821,
     "end_time": "2025-01-18T16:03:04.742619",
     "exception": false,
     "start_time": "2025-01-18T16:03:04.636798",
     "status": "completed"
    },
    "tags": []
   },
   "outputs": [],
   "source": [
    "new_SERVICES.to_csv(\"cleaned-SERVICES.csv\", index=False)"
   ]
  }
 ],
 "metadata": {
  "kaggle": {
   "accelerator": "none",
   "dataSources": [],
   "dockerImageVersionId": 30822,
   "isGpuEnabled": false,
   "isInternetEnabled": true,
   "language": "python",
   "sourceType": "notebook"
  },
  "kernelspec": {
   "display_name": "Python 3",
   "language": "python",
   "name": "python3"
  },
  "language_info": {
   "codemirror_mode": {
    "name": "ipython",
    "version": 3
   },
   "file_extension": ".py",
   "mimetype": "text/x-python",
   "name": "python",
   "nbconvert_exporter": "python",
   "pygments_lexer": "ipython3",
   "version": "3.10.12"
  },
  "papermill": {
   "default_parameters": {},
   "duration": 200.544868,
   "end_time": "2025-01-18T16:03:05.747560",
   "environment_variables": {},
   "exception": null,
   "input_path": "__notebook__.ipynb",
   "output_path": "__notebook__.ipynb",
   "parameters": {},
   "start_time": "2025-01-18T15:59:45.202692",
   "version": "2.6.0"
  }
 },
 "nbformat": 4,
 "nbformat_minor": 5
}

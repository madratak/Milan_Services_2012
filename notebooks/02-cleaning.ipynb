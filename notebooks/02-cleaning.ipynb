{
 "cells": [
  {
   "cell_type": "markdown",
   "id": "cf6d2d8b",
   "metadata": {
    "papermill": {
     "duration": 0.015107,
     "end_time": "2025-01-17T16:34:52.792074",
     "exception": false,
     "start_time": "2025-01-17T16:34:52.776967",
     "status": "completed"
    },
    "tags": []
   },
   "source": [
    "# Import the repository from GitHub\n",
    "\n",
    "First of all we start by importing the repository that we stored in the github project."
   ]
  },
  {
   "cell_type": "code",
   "execution_count": 1,
   "id": "ae3ead44",
   "metadata": {
    "execution": {
     "iopub.execute_input": "2025-01-17T16:34:52.822181Z",
     "iopub.status.busy": "2025-01-17T16:34:52.821763Z",
     "iopub.status.idle": "2025-01-17T16:34:53.005204Z",
     "shell.execute_reply": "2025-01-17T16:34:53.004262Z"
    },
    "papermill": {
     "duration": 0.200689,
     "end_time": "2025-01-17T16:34:53.007113",
     "exception": false,
     "start_time": "2025-01-17T16:34:52.806424",
     "status": "completed"
    },
    "tags": []
   },
   "outputs": [],
   "source": [
    "from kaggle_secrets import UserSecretsClient\n",
    "user_secrets = UserSecretsClient()\n",
    "secret_value_1 = user_secrets.get_secret(\"NEW_GITHUB_TOKEN\")"
   ]
  },
  {
   "cell_type": "code",
   "execution_count": 2,
   "id": "44fa56e2",
   "metadata": {
    "execution": {
     "iopub.execute_input": "2025-01-17T16:34:53.037337Z",
     "iopub.status.busy": "2025-01-17T16:34:53.037005Z",
     "iopub.status.idle": "2025-01-17T16:34:54.766833Z",
     "shell.execute_reply": "2025-01-17T16:34:54.765623Z"
    },
    "papermill": {
     "duration": 1.74673,
     "end_time": "2025-01-17T16:34:54.768759",
     "exception": false,
     "start_time": "2025-01-17T16:34:53.022029",
     "status": "completed"
    },
    "tags": []
   },
   "outputs": [
    {
     "name": "stdout",
     "output_type": "stream",
     "text": [
      "Cloning into 'DIQ_Project2024'...\r\n",
      "remote: Enumerating objects: 125, done.\u001b[K\r\n",
      "remote: Counting objects: 100% (125/125), done.\u001b[K\r\n",
      "remote: Compressing objects: 100% (107/107), done.\u001b[K\r\n",
      "remote: Total 125 (delta 53), reused 33 (delta 7), pack-reused 0 (from 0)\u001b[K\r\n",
      "Receiving objects: 100% (125/125), 4.40 MiB | 17.26 MiB/s, done.\r\n",
      "Resolving deltas: 100% (53/53), done.\r\n"
     ]
    }
   ],
   "source": [
    "token = UserSecretsClient().get_secret(\"NEW_GITHUB_TOKEN\")\n",
    "! git clone https://{token}@github.com/madratak/DIQ_Project2024.git"
   ]
  },
  {
   "cell_type": "markdown",
   "id": "e5e4308f",
   "metadata": {
    "papermill": {
     "duration": 0.014359,
     "end_time": "2025-01-17T16:34:54.798492",
     "exception": false,
     "start_time": "2025-01-17T16:34:54.784133",
     "status": "completed"
    },
    "tags": []
   },
   "source": [
    "# Set up the dataset\n",
    "\n",
    "At this point we can proceed by importing the correct libraries and then importing the data itself inside our notebook."
   ]
  },
  {
   "cell_type": "code",
   "execution_count": 3,
   "id": "5425079e",
   "metadata": {
    "execution": {
     "iopub.execute_input": "2025-01-17T16:34:54.829189Z",
     "iopub.status.busy": "2025-01-17T16:34:54.828783Z",
     "iopub.status.idle": "2025-01-17T16:35:02.685267Z",
     "shell.execute_reply": "2025-01-17T16:35:02.684142Z"
    },
    "papermill": {
     "duration": 7.874103,
     "end_time": "2025-01-17T16:35:02.687196",
     "exception": false,
     "start_time": "2025-01-17T16:34:54.813093",
     "status": "completed"
    },
    "tags": []
   },
   "outputs": [
    {
     "name": "stdout",
     "output_type": "stream",
     "text": [
      "Collecting rapidfuzz\r\n",
      "  Downloading rapidfuzz-3.11.0-cp310-cp310-manylinux_2_17_x86_64.manylinux2014_x86_64.whl.metadata (11 kB)\r\n",
      "Downloading rapidfuzz-3.11.0-cp310-cp310-manylinux_2_17_x86_64.manylinux2014_x86_64.whl (3.1 MB)\r\n",
      "\u001b[2K   \u001b[90m━━━━━━━━━━━━━━━━━━━━━━━━━━━━━━━━━━━━━━━━\u001b[0m \u001b[32m3.1/3.1 MB\u001b[0m \u001b[31m35.9 MB/s\u001b[0m eta \u001b[36m0:00:00\u001b[0m\r\n",
      "\u001b[?25hInstalling collected packages: rapidfuzz\r\n",
      "Successfully installed rapidfuzz-3.11.0\r\n"
     ]
    }
   ],
   "source": [
    "# to compute the edit distance\n",
    "!pip install rapidfuzz "
   ]
  },
  {
   "cell_type": "code",
   "execution_count": 4,
   "id": "d94e40cf",
   "metadata": {
    "execution": {
     "iopub.execute_input": "2025-01-17T16:35:02.720375Z",
     "iopub.status.busy": "2025-01-17T16:35:02.720014Z",
     "iopub.status.idle": "2025-01-17T16:35:04.820401Z",
     "shell.execute_reply": "2025-01-17T16:35:04.819277Z"
    },
    "papermill": {
     "duration": 2.118908,
     "end_time": "2025-01-17T16:35:04.822417",
     "exception": false,
     "start_time": "2025-01-17T16:35:02.703509",
     "status": "completed"
    },
    "tags": []
   },
   "outputs": [],
   "source": [
    "import pandas as pd\n",
    "import numpy as np\n",
    "from datetime import datetime\n",
    "import os\n",
    "import re\n",
    "from rapidfuzz import fuzz\n",
    "from tqdm import tqdm\n",
    "from sklearn.feature_extraction.text import CountVectorizer\n",
    "from scipy.spatial.distance import jaccard\n",
    "\n",
    "# Set max column width to None to display full content\n",
    "pd.set_option('display.max_colwidth', None)"
   ]
  },
  {
   "cell_type": "code",
   "execution_count": 5,
   "id": "14e274c2",
   "metadata": {
    "execution": {
     "iopub.execute_input": "2025-01-17T16:35:04.855106Z",
     "iopub.status.busy": "2025-01-17T16:35:04.854503Z",
     "iopub.status.idle": "2025-01-17T16:35:04.901281Z",
     "shell.execute_reply": "2025-01-17T16:35:04.900220Z"
    },
    "papermill": {
     "duration": 0.065173,
     "end_time": "2025-01-17T16:35:04.903008",
     "exception": false,
     "start_time": "2025-01-17T16:35:04.837835",
     "status": "completed"
    },
    "tags": []
   },
   "outputs": [
    {
     "data": {
      "text/html": [
       "<div>\n",
       "<style scoped>\n",
       "    .dataframe tbody tr th:only-of-type {\n",
       "        vertical-align: middle;\n",
       "    }\n",
       "\n",
       "    .dataframe tbody tr th {\n",
       "        vertical-align: top;\n",
       "    }\n",
       "\n",
       "    .dataframe thead th {\n",
       "        text-align: right;\n",
       "    }\n",
       "</style>\n",
       "<table border=\"1\" class=\"dataframe\">\n",
       "  <thead>\n",
       "    <tr style=\"text-align: right;\">\n",
       "      <th></th>\n",
       "      <th>Tipo esercizio pa</th>\n",
       "      <th>Ubicazione</th>\n",
       "      <th>Tipo via</th>\n",
       "      <th>Via</th>\n",
       "      <th>Civico</th>\n",
       "      <th>Codice via</th>\n",
       "      <th>ZD</th>\n",
       "      <th>Prevalente</th>\n",
       "      <th>Superficie altri usi</th>\n",
       "      <th>Superficie lavorativa</th>\n",
       "    </tr>\n",
       "  </thead>\n",
       "  <tbody>\n",
       "    <tr>\n",
       "      <th>0</th>\n",
       "      <td>NaN</td>\n",
       "      <td>LGO DEI GELSOMINI N. 10 (z.d. 6)</td>\n",
       "      <td>LGO</td>\n",
       "      <td>DEI GELSOMINI</td>\n",
       "      <td>10</td>\n",
       "      <td>5394.0</td>\n",
       "      <td>6</td>\n",
       "      <td>NaN</td>\n",
       "      <td>NaN</td>\n",
       "      <td>55.0</td>\n",
       "    </tr>\n",
       "    <tr>\n",
       "      <th>1</th>\n",
       "      <td>NaN</td>\n",
       "      <td>PZA FIDIA N. 3 (z.d. 9)</td>\n",
       "      <td>PZA</td>\n",
       "      <td>FIDIA</td>\n",
       "      <td>3</td>\n",
       "      <td>1144.0</td>\n",
       "      <td>9</td>\n",
       "      <td>CENTRO MASSAGGI RILASSANTI NON ESTETICI</td>\n",
       "      <td>2.0</td>\n",
       "      <td>28.0</td>\n",
       "    </tr>\n",
       "    <tr>\n",
       "      <th>2</th>\n",
       "      <td>NaN</td>\n",
       "      <td>VIA ADIGE N. 10 (z.d. 5)</td>\n",
       "      <td>VIA</td>\n",
       "      <td>ADIGE</td>\n",
       "      <td>10</td>\n",
       "      <td>4216.0</td>\n",
       "      <td>5</td>\n",
       "      <td>CENTRO BENESSERE</td>\n",
       "      <td>2.0</td>\n",
       "      <td>27.0</td>\n",
       "    </tr>\n",
       "    <tr>\n",
       "      <th>3</th>\n",
       "      <td>NaN</td>\n",
       "      <td>VIA BARACCHINI FLAVIO N. 9 (z.d. 1)</td>\n",
       "      <td>VIA</td>\n",
       "      <td>BARACCHINI FLAVIO</td>\n",
       "      <td>9</td>\n",
       "      <td>356.0</td>\n",
       "      <td>1</td>\n",
       "      <td>TRUCCO SEMIPERMANENTE</td>\n",
       "      <td>NaN</td>\n",
       "      <td>NaN</td>\n",
       "    </tr>\n",
       "    <tr>\n",
       "      <th>4</th>\n",
       "      <td>NaN</td>\n",
       "      <td>VIA BERGAMO N. 12 (z.d. 4)</td>\n",
       "      <td>VIA</td>\n",
       "      <td>BERGAMO</td>\n",
       "      <td>12</td>\n",
       "      <td>3189.0</td>\n",
       "      <td>4</td>\n",
       "      <td>NaN</td>\n",
       "      <td>NaN</td>\n",
       "      <td>50.0</td>\n",
       "    </tr>\n",
       "  </tbody>\n",
       "</table>\n",
       "</div>"
      ],
      "text/plain": [
       "  Tipo esercizio pa                           Ubicazione Tipo via  \\\n",
       "0               NaN     LGO DEI GELSOMINI N. 10 (z.d. 6)      LGO   \n",
       "1               NaN              PZA FIDIA N. 3 (z.d. 9)      PZA   \n",
       "2               NaN             VIA ADIGE N. 10 (z.d. 5)      VIA   \n",
       "3               NaN  VIA BARACCHINI FLAVIO N. 9 (z.d. 1)      VIA   \n",
       "4               NaN           VIA BERGAMO N. 12 (z.d. 4)      VIA   \n",
       "\n",
       "                 Via Civico  Codice via ZD  \\\n",
       "0      DEI GELSOMINI     10      5394.0  6   \n",
       "1              FIDIA      3      1144.0  9   \n",
       "2              ADIGE     10      4216.0  5   \n",
       "3  BARACCHINI FLAVIO      9       356.0  1   \n",
       "4            BERGAMO     12      3189.0  4   \n",
       "\n",
       "                                Prevalente  Superficie altri usi  \\\n",
       "0                                      NaN                   NaN   \n",
       "1  CENTRO MASSAGGI RILASSANTI NON ESTETICI                   2.0   \n",
       "2                         CENTRO BENESSERE                   2.0   \n",
       "3                    TRUCCO SEMIPERMANENTE                   NaN   \n",
       "4                                      NaN                   NaN   \n",
       "\n",
       "   Superficie lavorativa  \n",
       "0                   55.0  \n",
       "1                   28.0  \n",
       "2                   27.0  \n",
       "3                    NaN  \n",
       "4                   50.0  "
      ]
     },
     "execution_count": 5,
     "metadata": {},
     "output_type": "execute_result"
    }
   ],
   "source": [
    "SERVICES = pd.read_csv('/kaggle/working/DIQ_Project2024/data/raw/Comune-di-Milano-Servizi-alla-persona-parrucchieri-estetisti.csv',sep=';',encoding='unicode_escape')\n",
    "SERVICES.head()"
   ]
  },
  {
   "cell_type": "markdown",
   "id": "cb149726",
   "metadata": {
    "papermill": {
     "duration": 0.015125,
     "end_time": "2025-01-17T16:35:04.933418",
     "exception": false,
     "start_time": "2025-01-17T16:35:04.918293",
     "status": "completed"
    },
    "tags": []
   },
   "source": [
    "# Import external dataset\n",
    "During the data cleaning stage, external are used to fix irregular values, among these we have"
   ]
  },
  {
   "cell_type": "code",
   "execution_count": 6,
   "id": "4a3e92f6",
   "metadata": {
    "execution": {
     "iopub.execute_input": "2025-01-17T16:35:04.967005Z",
     "iopub.status.busy": "2025-01-17T16:35:04.966594Z",
     "iopub.status.idle": "2025-01-17T16:35:05.523433Z",
     "shell.execute_reply": "2025-01-17T16:35:05.522456Z"
    },
    "papermill": {
     "duration": 0.57616,
     "end_time": "2025-01-17T16:35:05.525380",
     "exception": false,
     "start_time": "2025-01-17T16:35:04.949220",
     "status": "completed"
    },
    "tags": []
   },
   "outputs": [],
   "source": [
    "viario = pd.read_csv('/kaggle/working/DIQ_Project2024/data/external/VIARIO_20241104.csv',sep=';',encoding='unicode_escape')\n",
    "centroidi = pd.read_csv('/kaggle/working/DIQ_Project2024/data/external/CENTROIDI_20241104.csv',sep=';',encoding='unicode_escape')\n",
    "tipovia = pd.read_csv('/kaggle/working/DIQ_Project2024/data/external/TIPOVIA.csv',sep=';',encoding='unicode_escape')\n",
    "viario_centroidi = viario.merge(centroidi, on='CODICE_VIA', how='left')\n",
    "\n",
    "civici = pd.read_csv('/kaggle/working/DIQ_Project2024/data/external/CiviciCdMI.csv',sep=';',encoding='unicode_escape')"
   ]
  },
  {
   "cell_type": "markdown",
   "id": "f0e65aa1",
   "metadata": {
    "papermill": {
     "duration": 0.014921,
     "end_time": "2025-01-17T16:35:05.555744",
     "exception": false,
     "start_time": "2025-01-17T16:35:05.540823",
     "status": "completed"
    },
    "tags": []
   },
   "source": [
    "# Wrangling \n",
    "\n",
    "This script focuses on renaming the columns of the `SERVICES` dataset to shorter, more convenient names.  \n",
    "\n",
    "The original DataFrame is modified in place, and a copy of the updated dataset, named `new_SERVICES`, is created for further analysis or processing.  \n",
    "\n",
    "We pass from:\n",
    "\n",
    "| Tipo esercizio pa     | Ubicazione     | Tipo via | Via      | Civico | Codice via | ZD | Superficie altri usi | Superficie lavorativa |\n",
    "|-------|------|-------|-----|-----|---------|----|---------|---------|\n",
    "\n",
    "to:\n",
    "\n",
    "\n",
    "| t_es  | ubic | t_via | via | civ | cod_via | zd | sup_alt | sup_lav | \n",
    "|-------|------|-------|-----|-----|---------|----|---------|---------|\n"
   ]
  },
  {
   "cell_type": "code",
   "execution_count": 7,
   "id": "8c4c6509",
   "metadata": {
    "execution": {
     "iopub.execute_input": "2025-01-17T16:35:05.588648Z",
     "iopub.status.busy": "2025-01-17T16:35:05.588265Z",
     "iopub.status.idle": "2025-01-17T16:35:05.604458Z",
     "shell.execute_reply": "2025-01-17T16:35:05.603387Z"
    },
    "papermill": {
     "duration": 0.034265,
     "end_time": "2025-01-17T16:35:05.606185",
     "exception": false,
     "start_time": "2025-01-17T16:35:05.571920",
     "status": "completed"
    },
    "tags": []
   },
   "outputs": [
    {
     "data": {
      "text/html": [
       "<div>\n",
       "<style scoped>\n",
       "    .dataframe tbody tr th:only-of-type {\n",
       "        vertical-align: middle;\n",
       "    }\n",
       "\n",
       "    .dataframe tbody tr th {\n",
       "        vertical-align: top;\n",
       "    }\n",
       "\n",
       "    .dataframe thead th {\n",
       "        text-align: right;\n",
       "    }\n",
       "</style>\n",
       "<table border=\"1\" class=\"dataframe\">\n",
       "  <thead>\n",
       "    <tr style=\"text-align: right;\">\n",
       "      <th></th>\n",
       "      <th>t_es</th>\n",
       "      <th>ubic</th>\n",
       "      <th>t_via</th>\n",
       "      <th>via</th>\n",
       "      <th>civ</th>\n",
       "      <th>cod_via</th>\n",
       "      <th>zd</th>\n",
       "      <th>main</th>\n",
       "      <th>sup_alt</th>\n",
       "      <th>sup_lav</th>\n",
       "    </tr>\n",
       "  </thead>\n",
       "  <tbody>\n",
       "    <tr>\n",
       "      <th>0</th>\n",
       "      <td>NaN</td>\n",
       "      <td>LGO DEI GELSOMINI N. 10 (z.d. 6)</td>\n",
       "      <td>LGO</td>\n",
       "      <td>DEI GELSOMINI</td>\n",
       "      <td>10</td>\n",
       "      <td>5394.0</td>\n",
       "      <td>6</td>\n",
       "      <td>NaN</td>\n",
       "      <td>NaN</td>\n",
       "      <td>55.0</td>\n",
       "    </tr>\n",
       "    <tr>\n",
       "      <th>1</th>\n",
       "      <td>NaN</td>\n",
       "      <td>PZA FIDIA N. 3 (z.d. 9)</td>\n",
       "      <td>PZA</td>\n",
       "      <td>FIDIA</td>\n",
       "      <td>3</td>\n",
       "      <td>1144.0</td>\n",
       "      <td>9</td>\n",
       "      <td>CENTRO MASSAGGI RILASSANTI NON ESTETICI</td>\n",
       "      <td>2.0</td>\n",
       "      <td>28.0</td>\n",
       "    </tr>\n",
       "    <tr>\n",
       "      <th>2</th>\n",
       "      <td>NaN</td>\n",
       "      <td>VIA ADIGE N. 10 (z.d. 5)</td>\n",
       "      <td>VIA</td>\n",
       "      <td>ADIGE</td>\n",
       "      <td>10</td>\n",
       "      <td>4216.0</td>\n",
       "      <td>5</td>\n",
       "      <td>CENTRO BENESSERE</td>\n",
       "      <td>2.0</td>\n",
       "      <td>27.0</td>\n",
       "    </tr>\n",
       "    <tr>\n",
       "      <th>3</th>\n",
       "      <td>NaN</td>\n",
       "      <td>VIA BARACCHINI FLAVIO N. 9 (z.d. 1)</td>\n",
       "      <td>VIA</td>\n",
       "      <td>BARACCHINI FLAVIO</td>\n",
       "      <td>9</td>\n",
       "      <td>356.0</td>\n",
       "      <td>1</td>\n",
       "      <td>TRUCCO SEMIPERMANENTE</td>\n",
       "      <td>NaN</td>\n",
       "      <td>NaN</td>\n",
       "    </tr>\n",
       "    <tr>\n",
       "      <th>4</th>\n",
       "      <td>NaN</td>\n",
       "      <td>VIA BERGAMO N. 12 (z.d. 4)</td>\n",
       "      <td>VIA</td>\n",
       "      <td>BERGAMO</td>\n",
       "      <td>12</td>\n",
       "      <td>3189.0</td>\n",
       "      <td>4</td>\n",
       "      <td>NaN</td>\n",
       "      <td>NaN</td>\n",
       "      <td>50.0</td>\n",
       "    </tr>\n",
       "  </tbody>\n",
       "</table>\n",
       "</div>"
      ],
      "text/plain": [
       "  t_es                                 ubic t_via                via civ  \\\n",
       "0  NaN     LGO DEI GELSOMINI N. 10 (z.d. 6)   LGO      DEI GELSOMINI  10   \n",
       "1  NaN              PZA FIDIA N. 3 (z.d. 9)   PZA              FIDIA   3   \n",
       "2  NaN             VIA ADIGE N. 10 (z.d. 5)   VIA              ADIGE  10   \n",
       "3  NaN  VIA BARACCHINI FLAVIO N. 9 (z.d. 1)   VIA  BARACCHINI FLAVIO   9   \n",
       "4  NaN           VIA BERGAMO N. 12 (z.d. 4)   VIA            BERGAMO  12   \n",
       "\n",
       "   cod_via zd                                     main  sup_alt  sup_lav  \n",
       "0   5394.0  6                                      NaN      NaN     55.0  \n",
       "1   1144.0  9  CENTRO MASSAGGI RILASSANTI NON ESTETICI      2.0     28.0  \n",
       "2   4216.0  5                         CENTRO BENESSERE      2.0     27.0  \n",
       "3    356.0  1                    TRUCCO SEMIPERMANENTE      NaN      NaN  \n",
       "4   3189.0  4                                      NaN      NaN     50.0  "
      ]
     },
     "execution_count": 7,
     "metadata": {},
     "output_type": "execute_result"
    }
   ],
   "source": [
    "new_SERVICES = SERVICES.copy()\n",
    "\n",
    "new_SERVICES = new_SERVICES.rename(columns={\n",
    "    'Tipo esercizio pa': 't_es',\n",
    "    'Ubicazione': 'ubic',\n",
    "    'Tipo via': 't_via',\n",
    "    'Via': 'via',\n",
    "    'Civico': 'civ',\n",
    "    'Codice via': 'cod_via',\n",
    "    'ZD': 'zd',\n",
    "    'Prevalente': 'main',\n",
    "    'Superficie altri usi': 'sup_alt',\n",
    "    'Superficie lavorativa': 'sup_lav'\n",
    "})\n",
    "\n",
    "new_SERVICES.head()"
   ]
  },
  {
   "cell_type": "markdown",
   "id": "fe9cc55b",
   "metadata": {
    "papermill": {
     "duration": 0.015661,
     "end_time": "2025-01-17T16:35:05.637759",
     "exception": false,
     "start_time": "2025-01-17T16:35:05.622098",
     "status": "completed"
    },
    "tags": []
   },
   "source": [
    "# Transformation\n",
    "## ZD: Removing data representing different information\n",
    "\n",
    "This script processes the `zd` column in the `SERVICES` dataset. The column initially contains a mix of numeric values, missing values (`nan`), and a single non-numeric label `'ACCONCIATORE'`.  \n",
    "\n",
    "**Goal**: to filter out or modify rows where `zd` contains irrelevant or inconsistent information (e.g., `'ACCONCIATORE'`) to ensure that only meaningful numeric data is retained for analysis."
   ]
  },
  {
   "cell_type": "code",
   "execution_count": 8,
   "id": "8045c9a0",
   "metadata": {
    "execution": {
     "iopub.execute_input": "2025-01-17T16:35:05.671419Z",
     "iopub.status.busy": "2025-01-17T16:35:05.671081Z",
     "iopub.status.idle": "2025-01-17T16:35:05.678033Z",
     "shell.execute_reply": "2025-01-17T16:35:05.676779Z"
    },
    "papermill": {
     "duration": 0.026573,
     "end_time": "2025-01-17T16:35:05.680032",
     "exception": false,
     "start_time": "2025-01-17T16:35:05.653459",
     "status": "completed"
    },
    "tags": []
   },
   "outputs": [
    {
     "data": {
      "text/plain": [
       "array(['6', '9', '5', '1', '4', '2', '8', '3', nan, 'ACCONCIATORE', '7'],\n",
       "      dtype=object)"
      ]
     },
     "execution_count": 8,
     "metadata": {},
     "output_type": "execute_result"
    }
   ],
   "source": [
    "new_SERVICES.zd.unique()"
   ]
  },
  {
   "cell_type": "markdown",
   "id": "99de8847",
   "metadata": {
    "papermill": {
     "duration": 0.015436,
     "end_time": "2025-01-17T16:35:05.711786",
     "exception": false,
     "start_time": "2025-01-17T16:35:05.696350",
     "status": "completed"
    },
    "tags": []
   },
   "source": [
    "During the data cleaning process, we identified two consecutive rows in the `SERVICES` dataset that appear to represent the same entity but contain fragmented or overlapping information. Specifically:\n",
    "\n",
    "1. The first row (index 32) contains descriptive information about the entity, such as `'Acconciatore'` in the `t_es` column, but lacks structured data for most other fields.\n",
    "2. The second row (index 33) provides structured data for fields like `via`, `civ`, `cod_via`, and `zd`, but the `t_es` column contains a reference to `'ACCONCIATORE'`."
   ]
  },
  {
   "cell_type": "code",
   "execution_count": 9,
   "id": "884a0496",
   "metadata": {
    "execution": {
     "iopub.execute_input": "2025-01-17T16:35:05.744812Z",
     "iopub.status.busy": "2025-01-17T16:35:05.744407Z",
     "iopub.status.idle": "2025-01-17T16:35:05.758269Z",
     "shell.execute_reply": "2025-01-17T16:35:05.757045Z"
    },
    "papermill": {
     "duration": 0.032511,
     "end_time": "2025-01-17T16:35:05.760066",
     "exception": false,
     "start_time": "2025-01-17T16:35:05.727555",
     "status": "completed"
    },
    "tags": []
   },
   "outputs": [
    {
     "data": {
      "text/html": [
       "<div>\n",
       "<style scoped>\n",
       "    .dataframe tbody tr th:only-of-type {\n",
       "        vertical-align: middle;\n",
       "    }\n",
       "\n",
       "    .dataframe tbody tr th {\n",
       "        vertical-align: top;\n",
       "    }\n",
       "\n",
       "    .dataframe thead th {\n",
       "        text-align: right;\n",
       "    }\n",
       "</style>\n",
       "<table border=\"1\" class=\"dataframe\">\n",
       "  <thead>\n",
       "    <tr style=\"text-align: right;\">\n",
       "      <th></th>\n",
       "      <th>t_es</th>\n",
       "      <th>ubic</th>\n",
       "      <th>t_via</th>\n",
       "      <th>via</th>\n",
       "      <th>civ</th>\n",
       "      <th>cod_via</th>\n",
       "      <th>zd</th>\n",
       "      <th>main</th>\n",
       "      <th>sup_alt</th>\n",
       "      <th>sup_lav</th>\n",
       "    </tr>\n",
       "  </thead>\n",
       "  <tbody>\n",
       "    <tr>\n",
       "      <th>32</th>\n",
       "      <td>Acconciatore</td>\n",
       "      <td>CSO COMO N. 15 interno club f. conti</td>\n",
       "      <td>NaN</td>\n",
       "      <td>NaN</td>\n",
       "      <td>NaN</td>\n",
       "      <td>NaN</td>\n",
       "      <td>NaN</td>\n",
       "      <td>NaN</td>\n",
       "      <td>NaN</td>\n",
       "      <td>NaN</td>\n",
       "    </tr>\n",
       "    <tr>\n",
       "      <th>33</th>\n",
       "      <td>(z.d. 9)</td>\n",
       "      <td>CSO</td>\n",
       "      <td>COMO</td>\n",
       "      <td>15</td>\n",
       "      <td>1111</td>\n",
       "      <td>9.0</td>\n",
       "      <td>ACCONCIATORE</td>\n",
       "      <td>NaN</td>\n",
       "      <td>195.0</td>\n",
       "      <td>NaN</td>\n",
       "    </tr>\n",
       "  </tbody>\n",
       "</table>\n",
       "</div>"
      ],
      "text/plain": [
       "            t_es                                  ubic t_via  via   civ  \\\n",
       "32  Acconciatore  CSO COMO N. 15 interno club f. conti   NaN  NaN   NaN   \n",
       "33      (z.d. 9)                                   CSO  COMO   15  1111   \n",
       "\n",
       "    cod_via            zd main  sup_alt  sup_lav  \n",
       "32      NaN           NaN  NaN      NaN      NaN  \n",
       "33      9.0  ACCONCIATORE  NaN    195.0      NaN  "
      ]
     },
     "execution_count": 9,
     "metadata": {},
     "output_type": "execute_result"
    }
   ],
   "source": [
    "new_SERVICES.loc[32:33].head()"
   ]
  },
  {
   "attachments": {},
   "cell_type": "markdown",
   "id": "7abb4442",
   "metadata": {
    "papermill": {
     "duration": 0.015816,
     "end_time": "2025-01-17T16:35:05.792075",
     "exception": false,
     "start_time": "2025-01-17T16:35:05.776259",
     "status": "completed"
    },
    "tags": []
   },
   "source": [
    "To standardize and improve the dataset:\n",
    "- The two rows were merged into a single entry, combining the fragmented information into a complete record. \n",
    "- This process ensures no information is lost while achieving the desired structure and format for the full dataset.\n",
    "\n",
    "**Example**:\n",
    "Before merging:\n",
    "- Row 32: `'Acconciatore', 'CSO COMO N. 15 interno club f. conti', NaN, NaN, NaN, NaN, NaN, NaN, NaN, NaN`\n",
    "- Row 33: `'(z.d. 9)', 'CSO', 'COMO', '15', '1111', '9.0', 'ACCONCIATORE', NaN, '195.0', NaN`\n",
    "\n",
    "After merging:\n",
    "- New Row: `'Acconciatore', 'CSO COMO', '15', '1111', '9.0', NaN, NaN, '195.0', Nan`"
   ]
  },
  {
   "cell_type": "code",
   "execution_count": 10,
   "id": "0d82abac",
   "metadata": {
    "execution": {
     "iopub.execute_input": "2025-01-17T16:35:05.824985Z",
     "iopub.status.busy": "2025-01-17T16:35:05.824579Z",
     "iopub.status.idle": "2025-01-17T16:35:05.844655Z",
     "shell.execute_reply": "2025-01-17T16:35:05.843567Z"
    },
    "papermill": {
     "duration": 0.038472,
     "end_time": "2025-01-17T16:35:05.846383",
     "exception": false,
     "start_time": "2025-01-17T16:35:05.807911",
     "status": "completed"
    },
    "tags": []
   },
   "outputs": [
    {
     "data": {
      "text/html": [
       "<div>\n",
       "<style scoped>\n",
       "    .dataframe tbody tr th:only-of-type {\n",
       "        vertical-align: middle;\n",
       "    }\n",
       "\n",
       "    .dataframe tbody tr th {\n",
       "        vertical-align: top;\n",
       "    }\n",
       "\n",
       "    .dataframe thead th {\n",
       "        text-align: right;\n",
       "    }\n",
       "</style>\n",
       "<table border=\"1\" class=\"dataframe\">\n",
       "  <thead>\n",
       "    <tr style=\"text-align: right;\">\n",
       "      <th></th>\n",
       "      <th>t_es</th>\n",
       "      <th>ubic</th>\n",
       "      <th>t_via</th>\n",
       "      <th>via</th>\n",
       "      <th>civ</th>\n",
       "      <th>cod_via</th>\n",
       "      <th>zd</th>\n",
       "      <th>main</th>\n",
       "      <th>sup_alt</th>\n",
       "      <th>sup_lav</th>\n",
       "    </tr>\n",
       "  </thead>\n",
       "  <tbody>\n",
       "    <tr>\n",
       "      <th>32</th>\n",
       "      <td>Acconciatore</td>\n",
       "      <td>CSO COMO N. 15 (z.d. 9)</td>\n",
       "      <td>CSO</td>\n",
       "      <td>CSO COMO</td>\n",
       "      <td>15</td>\n",
       "      <td>1111.0</td>\n",
       "      <td>9</td>\n",
       "      <td>ACCONCIATORE</td>\n",
       "      <td>NaN</td>\n",
       "      <td>195.0</td>\n",
       "    </tr>\n",
       "    <tr>\n",
       "      <th>33</th>\n",
       "      <td>Acconciatore</td>\n",
       "      <td>CSO DI PORTA NUOVA N. 46 ; (z.d. 1)</td>\n",
       "      <td>CSO</td>\n",
       "      <td>DI PORTA NUOVA</td>\n",
       "      <td>46</td>\n",
       "      <td>1044.0</td>\n",
       "      <td>1</td>\n",
       "      <td>NaN</td>\n",
       "      <td>NaN</td>\n",
       "      <td>34.0</td>\n",
       "    </tr>\n",
       "  </tbody>\n",
       "</table>\n",
       "</div>"
      ],
      "text/plain": [
       "            t_es                                 ubic t_via             via  \\\n",
       "32  Acconciatore              CSO COMO N. 15 (z.d. 9)   CSO        CSO COMO   \n",
       "33  Acconciatore  CSO DI PORTA NUOVA N. 46 ; (z.d. 1)   CSO  DI PORTA NUOVA   \n",
       "\n",
       "   civ  cod_via zd          main  sup_alt  sup_lav  \n",
       "32  15   1111.0  9  ACCONCIATORE      NaN    195.0  \n",
       "33  46   1044.0  1           NaN      NaN     34.0  "
      ]
     },
     "execution_count": 10,
     "metadata": {},
     "output_type": "execute_result"
    }
   ],
   "source": [
    "# New merged row\n",
    "merged_row = {\n",
    "    \"t_es\": \"Acconciatore\",\n",
    "    \"ubic\": \"CSO COMO N. 15 (z.d. 9)\",\n",
    "    \"t_via\": \"CSO\",\n",
    "    \"via\": \"CSO COMO\",\n",
    "    \"civ\": \"15\",\n",
    "    \"cod_via\": 1111.0,\n",
    "    \"zd\": \"9\",\n",
    "    \"main\": \"ACCONCIATORE\",\n",
    "    \"sup_alt\": np.nan,\n",
    "    \"sup_lav\": 195.0,\n",
    "}\n",
    "\n",
    "# Remove row at index 33 and replace row at index 32\n",
    "new_SERVICES = new_SERVICES.drop(index=33, errors='ignore')  # Drop row 33\n",
    "new_SERVICES.loc[32] = merged_row  # Add the merged row at index 32\n",
    "\n",
    "# Ensure correct row order and reset index if necessary\n",
    "new_SERVICES = new_SERVICES.sort_index().reset_index(drop=True)\n",
    "\n",
    "new_SERVICES.loc[32:33].head()"
   ]
  },
  {
   "cell_type": "markdown",
   "id": "3b368c89",
   "metadata": {
    "papermill": {
     "duration": 0.015889,
     "end_time": "2025-01-17T16:35:05.879102",
     "exception": false,
     "start_time": "2025-01-17T16:35:05.863213",
     "status": "completed"
    },
    "tags": []
   },
   "source": [
    "Finally, the available values in the column `zd` are:"
   ]
  },
  {
   "cell_type": "code",
   "execution_count": 11,
   "id": "8ffeea43",
   "metadata": {
    "execution": {
     "iopub.execute_input": "2025-01-17T16:35:05.918045Z",
     "iopub.status.busy": "2025-01-17T16:35:05.917447Z",
     "iopub.status.idle": "2025-01-17T16:35:05.925538Z",
     "shell.execute_reply": "2025-01-17T16:35:05.924488Z"
    },
    "papermill": {
     "duration": 0.030089,
     "end_time": "2025-01-17T16:35:05.927031",
     "exception": false,
     "start_time": "2025-01-17T16:35:05.896942",
     "status": "completed"
    },
    "tags": []
   },
   "outputs": [
    {
     "data": {
      "text/plain": [
       "array(['1', '2', '3', '4', '5', '6', '7', '8', '9'], dtype=object)"
      ]
     },
     "execution_count": 11,
     "metadata": {},
     "output_type": "execute_result"
    }
   ],
   "source": [
    "np.sort(new_SERVICES['zd'].unique())"
   ]
  },
  {
   "cell_type": "markdown",
   "id": "6d080b3d",
   "metadata": {
    "papermill": {
     "duration": 0.017776,
     "end_time": "2025-01-17T16:35:05.961983",
     "exception": false,
     "start_time": "2025-01-17T16:35:05.944207",
     "status": "completed"
    },
    "tags": []
   },
   "source": [
    "## T_ES: Label reduction\n",
    "\n",
    "The `t_es` column in the dataset contains a variety of labels that represent different categories of services. Many of these labels have similar meanings or represent variations of the same concept, leading to redundancy and potential inconsistencies in analysis.\n",
    "\n",
    "To address this, we will reduce the number of labels by grouping similar ones under a unified label, making the dataset easier to interpret and analyze while preserving the essential distinctions between categories."
   ]
  },
  {
   "cell_type": "code",
   "execution_count": 12,
   "id": "09a05e1c",
   "metadata": {
    "execution": {
     "iopub.execute_input": "2025-01-17T16:35:05.996380Z",
     "iopub.status.busy": "2025-01-17T16:35:05.995993Z",
     "iopub.status.idle": "2025-01-17T16:35:06.001824Z",
     "shell.execute_reply": "2025-01-17T16:35:06.000671Z"
    },
    "papermill": {
     "duration": 0.024544,
     "end_time": "2025-01-17T16:35:06.003406",
     "exception": false,
     "start_time": "2025-01-17T16:35:05.978862",
     "status": "completed"
    },
    "tags": []
   },
   "outputs": [
    {
     "name": "stdout",
     "output_type": "stream",
     "text": [
      "The number of different label combination for 't_es' column is 103.\n"
     ]
    }
   ],
   "source": [
    "print(\"The number of different label combination for 't_es' column is {}.\".format(new_SERVICES.t_es.unique().shape[0]))"
   ]
  },
  {
   "cell_type": "code",
   "execution_count": 13,
   "id": "6924f879",
   "metadata": {
    "execution": {
     "iopub.execute_input": "2025-01-17T16:35:06.038499Z",
     "iopub.status.busy": "2025-01-17T16:35:06.038117Z",
     "iopub.status.idle": "2025-01-17T16:35:06.067291Z",
     "shell.execute_reply": "2025-01-17T16:35:06.065518Z"
    },
    "papermill": {
     "duration": 0.049803,
     "end_time": "2025-01-17T16:35:06.069810",
     "exception": false,
     "start_time": "2025-01-17T16:35:06.020007",
     "status": "completed"
    },
    "tags": []
   },
   "outputs": [
    {
     "name": "stdout",
     "output_type": "stream",
     "text": [
      "COUNTS of unique labels\n",
      "\n",
      "ACCONCIATORE                      \t 717\n",
      "Acconciatore                      \t 190\n",
      "BARBIERE                          \t   2\n",
      "Centro abbronzatura               \t   2\n",
      "Centro benessere                  \t  29\n",
      "Centro massaggi                   \t 139\n",
      "Esecuzione di tatuaggi e piercing \t   5\n",
      "Estetista                         \t  31\n",
      "Estetista in profumeria           \t   2\n",
      "Manicure                          \t   3\n",
      "Parrucchiere misto                \t 105\n",
      "Parrucchiere per signora          \t1213\n",
      "Parrucchiere per uomo             \t 518\n",
      "Pedicure estetico                 \t  22\n",
      "TIPO A - REG.2003                 \t 865\n",
      "TIPO A ESTETICA MANUALE           \t 263\n",
      "TIPO A-B-C-D                      \t  88\n",
      "TIPO B CENTRO DI ABBRONZATURA     \t 603\n",
      "TIPO C TRATT.ESTETICI DIMAGRIM    \t 138\n",
      "TIPO D ESTET.APPAR.ELETTROMECC    \t  74\n",
      "Truccatore                        \t   1\n",
      "esecuzione di tatuaggi e piercing \t  19\n"
     ]
    }
   ],
   "source": [
    "# Ensure 't_es' column does not have NaN values and is treated as strings\n",
    "new_SERVICES[\"t_es\"] = new_SERVICES[\"t_es\"].fillna(\"\").astype(str)\n",
    "\n",
    "# Split the 't_es' column by ';' and flatten the resulting lists\n",
    "flattened_labels = [label.strip() for item in new_SERVICES[\"t_es\"] for label in item.split(\";\")]\n",
    "\n",
    "# Get the unique labels and sort them\n",
    "unique_labels = sorted(set(flattened_labels))\n",
    "\n",
    "# Initialize a dictionary to store counts\n",
    "label_counts = {label: 0 for label in unique_labels}\n",
    "\n",
    "# Loop through each row in the \"t_es\" column and count the occurrences of each label\n",
    "for entry in new_SERVICES['t_es'].dropna():  # Drop NaN values to avoid errors\n",
    "    for label in unique_labels:\n",
    "        if label in entry:\n",
    "            label_counts[label] += 1\n",
    "\n",
    "print(\"COUNTS of unique labels\\n\")\n",
    "\n",
    "# Find the maximum width for labels and numbers\n",
    "max_label_length = max(len(label) for label in label_counts if label != \"\")\n",
    "max_number_length = max(len(str(count)) for count in label_counts.values())\n",
    "\n",
    "# Print the counts with aligned output\n",
    "for label, count in label_counts.items():\n",
    "    if label != \"\":\n",
    "        print(f\"{label:<{max_label_length}} \\t{count:>{max_number_length}}\")"
   ]
  },
  {
   "cell_type": "markdown",
   "id": "e6e71b5a",
   "metadata": {
    "papermill": {
     "duration": 0.030385,
     "end_time": "2025-01-17T16:35:06.127938",
     "exception": false,
     "start_time": "2025-01-17T16:35:06.097553",
     "status": "completed"
    },
    "tags": []
   },
   "source": [
    "Now we transform and standardize the values in the `t_es` column of the dataset. It consists of two main steps:\n",
    "\n",
    "1. **Composite Labels Handling**: Some rows contain multiple related labels that should be split or expanded into individual categories. For example, labels like `\"TIPO A-B-C-D\"` or `\"Parrucchiere misto\"` are expanded into separate labels to ensure all relevant categories are included.\n",
    "   \n",
    "2. **Label Mapping**: After handling the composite labels, the code replaces each original label (such as `\"Centro abbronzatura\"`) with a standardized, consolidated label (e.g., `\"Tipo B - Centro di Abbronzatura\"`). This step ensures that similar labels are grouped under a single consistent label.\n",
    "\n",
    "**Example**:\n",
    "\n",
    "Before transformation:\n",
    "- `\"TIPO A-B-C-D; Parrucchiere misto\"`\n",
    "\n",
    "After transformation:\n",
    "- `\"Tipo A - Estetica Manuale; Tipo B - Centro di Abbronzatura; Tipo C - Trattamenti Estetici Dimagrimento; Tipo D - Estetica Apparati Elettromeccanici; Parrucchiere per Uomo; Parrucchiere per Donna\"`\n",
    "\n",
    "This process ensures that the dataset contains consistent and meaningful labels, making the data easier to analyze and reducing redundancy."
   ]
  },
  {
   "cell_type": "code",
   "execution_count": 14,
   "id": "6dac1f9e",
   "metadata": {
    "execution": {
     "iopub.execute_input": "2025-01-17T16:35:06.174624Z",
     "iopub.status.busy": "2025-01-17T16:35:06.174232Z",
     "iopub.status.idle": "2025-01-17T16:35:06.189992Z",
     "shell.execute_reply": "2025-01-17T16:35:06.188732Z"
    },
    "papermill": {
     "duration": 0.039723,
     "end_time": "2025-01-17T16:35:06.191965",
     "exception": false,
     "start_time": "2025-01-17T16:35:06.152242",
     "status": "completed"
    },
    "tags": []
   },
   "outputs": [],
   "source": [
    "# Mapping of original values to new values\n",
    "label_mapping = {\n",
    "    \"ACCONCIATORE\": \"Acconciatore\",\n",
    "    \"Acconciatore\": \"Acconciatore\",\n",
    "    \"BARBIERE\": \"Parrucchiere per Uomo\",\n",
    "    \"Centro abbronzatura\": \"Tipo B - Centro di Abbronzatura\",\n",
    "    \"Centro benessere\": \"Centro Benessere\",\n",
    "    \"Centro massaggi\": \"Centro Massaggi\",\n",
    "    \"Esecuzione di tatuaggi e piercing\": \"Esecuzione di Tatuaggi e Piercing\",\n",
    "    \"esecuzione di tatuaggi e piercing\": \"Esecuzione di Tatuaggi e Piercing\",\n",
    "    \"Estetista\": \"Tipo A - Estetica Manuale\",\n",
    "    \"Estetista in profumeria\": \"Tipo A - Estetica Manuale\",\n",
    "    \"Manicure\": \"Tipo A - Estetica Manuale\", # Assuming merge because there are just 4 'Manicure' values\n",
    "    \"Pedicure estetico\": \"Tipo A - Estetica Manuale\",\n",
    "    \"Parrucchiere per signora\": \"Parrucchiere per Donna\",\n",
    "    \"Parrucchiere per uomo\": \"Parrucchiere per Uomo\",\n",
    "    \"Truccatore\": \"Truccatore\",\n",
    "    \"TIPO A ESTETICA MANUALE\": \"Tipo A - Estetica Manuale\",\n",
    "    \"TIPO A - REG.2003\": \"Tipo A - Estetica Manuale\",\n",
    "    \"TIPO B CENTRO DI ABBRONZATURA\": \"Tipo B - Centro di Abbronzatura\",\n",
    "    \"TIPO C TRATT.ESTETICI DIMAGRIM\": \"Tipo C - Trattamenti Estetici Dimagrimento\",\n",
    "    \"TIPO D ESTET.APPAR.ELETTROMECC\": \"Tipo D - Estetica Apparati Elettromeccanici\",\n",
    "}\n",
    "\n",
    "# Define a function for handling composite labels within a cell\n",
    "def handle_composite_labels(value):\n",
    "    # If \"TIPO A-B-C-D\" exists, split and expand into individual components\n",
    "    if \"TIPO A-B-C-D\" in value:\n",
    "        value = value.replace(\"TIPO A-B-C-D\", \"; \".join([\n",
    "            \"Tipo A - Estetica Manuale\", \n",
    "            \"Tipo B - Centro di Abbronzatura\",\n",
    "            \"Tipo C - Trattamenti Estetici Dimagrimento\", \n",
    "            \"Tipo D - Estetica Apparati Elettromeccanici\"\n",
    "        ]))\n",
    "    if \"Parrucchiere misto\" in value:\n",
    "        value = value.replace(\"Parrucchiere misto\", \"; \".join([\n",
    "            \"Parrucchiere per Uomo\",\n",
    "            \"Parrucchiere per Donna\"\n",
    "        ]))\n",
    "    \n",
    "    return value\n",
    "\n",
    "# Apply composite label handling first\n",
    "new_SERVICES[\"t_es\"] = new_SERVICES[\"t_es\"].apply(handle_composite_labels)\n",
    "\n",
    "# Define a function to replace labels using the mapping\n",
    "def replace_multiple_labels(cell_value, label_mapping):\n",
    "    # Split the cell value by a delimiter (semicolon)\n",
    "    labels = cell_value.split(';')  # Adjust delimiter as necessary\n",
    "    # Strip whitespace and replace each label using the mapping\n",
    "    labels = [label_mapping.get(label.strip(), label.strip()) for label in labels]\n",
    "    \n",
    "    # Remove duplicates by converting to a set and then back to a list\n",
    "    labels = list(set(labels))  # Set ensures uniqueness, list keeps order\n",
    "    # Rejoin the labels with the same delimiter\n",
    "    return '; '.join(labels)\n",
    "\n",
    "# Now apply the mapping for individual labels\n",
    "new_SERVICES[\"t_es\"] = new_SERVICES[\"t_es\"].apply(lambda x: replace_multiple_labels(x, label_mapping))"
   ]
  },
  {
   "cell_type": "code",
   "execution_count": 15,
   "id": "8ca7d92c",
   "metadata": {
    "execution": {
     "iopub.execute_input": "2025-01-17T16:35:06.228186Z",
     "iopub.status.busy": "2025-01-17T16:35:06.227821Z",
     "iopub.status.idle": "2025-01-17T16:35:06.247656Z",
     "shell.execute_reply": "2025-01-17T16:35:06.245985Z"
    },
    "papermill": {
     "duration": 0.03935,
     "end_time": "2025-01-17T16:35:06.249319",
     "exception": false,
     "start_time": "2025-01-17T16:35:06.209969",
     "status": "completed"
    },
    "tags": []
   },
   "outputs": [
    {
     "name": "stdout",
     "output_type": "stream",
     "text": [
      "COUNTS of new unique labels\n",
      "\n",
      "Acconciatore                                \t 907\n",
      "Centro Benessere                            \t  29\n",
      "Centro Massaggi                             \t 139\n",
      "Esecuzione di Tatuaggi e Piercing           \t  24\n",
      "Parrucchiere per Donna                      \t1294\n",
      "Parrucchiere per Uomo                       \t 601\n",
      "Tipo A - Estetica Manuale                   \t1266\n",
      "Tipo B - Centro di Abbronzatura             \t 693\n",
      "Tipo C - Trattamenti Estetici Dimagrimento  \t 226\n",
      "Tipo D - Estetica Apparati Elettromeccanici \t 162\n",
      "Truccatore                                  \t   1\n"
     ]
    }
   ],
   "source": [
    "# Ensure 't_es' column does not have NaN values and is treated as strings\n",
    "new_SERVICES[\"t_es\"] = new_SERVICES[\"t_es\"].fillna(\"\").astype(str)\n",
    "\n",
    "# Split the 't_es' column by ';' and flatten the resulting lists\n",
    "flattened_labels = [label.strip() for item in new_SERVICES[\"t_es\"] for label in item.split(\";\")]\n",
    "\n",
    "# Get the unique labels and sort them\n",
    "unique_labels = sorted(set(flattened_labels))\n",
    "\n",
    "# Initialize a dictionary to store counts\n",
    "label_counts = {label: 0 for label in unique_labels}\n",
    "\n",
    "# Loop through each row in the \"t_es\" column and count the occurrences of each label\n",
    "for entry in new_SERVICES['t_es']:  # No need to drop NaN values as we've filled them earlier\n",
    "    for label in unique_labels:\n",
    "        if label in entry:\n",
    "            label_counts[label] += 1\n",
    "\n",
    "# Find the maximum width for labels and numbers\n",
    "max_label_length = max(len(label) for label in label_counts if label.strip() != \"\")\n",
    "max_number_length = max(len(str(count)) for count in label_counts.values())\n",
    "\n",
    "print(\"COUNTS of new unique labels\\n\")\n",
    "# Print the counts with aligned output\n",
    "for label, count in label_counts.items():\n",
    "    if label.strip() != \"\":  # Ensure labels are not empty\n",
    "        print(f\"{label:<{max_label_length}} \\t{count:>{max_number_length}}\")"
   ]
  },
  {
   "cell_type": "markdown",
   "id": "c8dbe9a2",
   "metadata": {
    "papermill": {
     "duration": 0.016893,
     "end_time": "2025-01-17T16:35:06.283179",
     "exception": false,
     "start_time": "2025-01-17T16:35:06.266286",
     "status": "completed"
    },
    "tags": []
   },
   "source": [
    "## MAIN: Label Reduction\n",
    "\n",
    "In this step, we focus on standardizing the labels in the `main` column. Many of the labels in the column are variations of the same service but are written differently. To ensure consistency across the dataset, we map these different variations to a single, standardized label.\n",
    "\n",
    "For example, variations like `\"CENTRO MASSAGGI\"` and `\"CENTRO MASSAGGI RILASSANTI NON ESTETICI\"` are all mapped to the single label `\"Centro Massaggi\"`. Similarly, terms like `\"ESTETICA A E SOLARIUM\"` are transformed into a combination of labels, such as `\"Tipo A - Estetica Manuale; Tipo B - Centro di Abbronzatura\"`, to better reflect the service offerings.\n",
    "\n",
    "This standardization ensures that similar services are grouped together under a consistent set of labels, reducing redundancy and making the dataset more uniform for further analysis.\n",
    "\n",
    "**Example**:\n",
    "\n",
    "- Before: `\"CENTRO MASSAGGI RILASSANTI NON ESTETICI\"` → After: `\"Centro Massaggi\"`\n",
    "- Before: `\"ESTETICA A E SOLARIUM\"` → After: `\"Tipo A - Estetica Manuale; Tipo B - Centro di Abbronzatura\"`"
   ]
  },
  {
   "cell_type": "code",
   "execution_count": 16,
   "id": "d42e4f66",
   "metadata": {
    "execution": {
     "iopub.execute_input": "2025-01-17T16:35:06.318284Z",
     "iopub.status.busy": "2025-01-17T16:35:06.317903Z",
     "iopub.status.idle": "2025-01-17T16:35:06.324594Z",
     "shell.execute_reply": "2025-01-17T16:35:06.323364Z"
    },
    "papermill": {
     "duration": 0.026043,
     "end_time": "2025-01-17T16:35:06.326384",
     "exception": false,
     "start_time": "2025-01-17T16:35:06.300341",
     "status": "completed"
    },
    "tags": []
   },
   "outputs": [
    {
     "name": "stdout",
     "output_type": "stream",
     "text": [
      "The number of different label combination  for column 'main' is 64.\n"
     ]
    }
   ],
   "source": [
    "print(\"The number of different label combination  for column 'main' is {}.\".format(new_SERVICES.main.unique().shape[0]))"
   ]
  },
  {
   "cell_type": "code",
   "execution_count": 17,
   "id": "80e5bf2e",
   "metadata": {
    "execution": {
     "iopub.execute_input": "2025-01-17T16:35:06.361716Z",
     "iopub.status.busy": "2025-01-17T16:35:06.361302Z",
     "iopub.status.idle": "2025-01-17T16:35:06.375476Z",
     "shell.execute_reply": "2025-01-17T16:35:06.374331Z"
    },
    "papermill": {
     "duration": 0.033989,
     "end_time": "2025-01-17T16:35:06.377406",
     "exception": false,
     "start_time": "2025-01-17T16:35:06.343417",
     "status": "completed"
    },
    "tags": []
   },
   "outputs": [],
   "source": [
    "# Ensure 't_es' column does not have NaN values and is treated as strings\n",
    "new_SERVICES[\"main\"] = new_SERVICES[\"main\"].fillna(\"\").astype(str)\n",
    "\n",
    "mapping = {\n",
    "    'CENTRO MASSAGGI RILASSANTI NON ESTETICI': 'Centro Massaggi',\n",
    "    'CENTRO MASSAGGI': 'Centro Massaggi',\n",
    "    'MASSAGGI RILASSANTI': 'Centro Massaggi',\n",
    "    'CENTRO MASSAGGI TUINA': 'Centro Massaggi',\n",
    "    'CENTRO MASSAGGI RILASSANTI': 'Centro Massaggi',\n",
    "    'CENTRO MASSAGI RILASSANTI NON ESTETICI': 'Centro Massaggi', \n",
    "    \"ATTIVITA' DI MASSAGGI RILASSANTI\": 'Centro Massaggi',\n",
    "    'MASSAGGI': 'Centro Massaggi',\n",
    "    'centro massaggi': 'Centro Massaggi',\n",
    "    'CENTRO MASSAGGI THAI RILASSANTI NON CURATIVI': 'Centro Massaggi',\n",
    "    'CENTRO MASSAGGI RILASSANTI ESTETICI': 'Tipo A - Estetica Manuale; Centro Massaggi',\n",
    "    'CENTRO BENESSERE': 'Centro Benessere',\n",
    "    'centro benessere': 'Centro Benessere',\n",
    "    'CENTRO PER IL BENESSERE FISICO': 'Centro Benessere',\n",
    "    'CENTTRO BENESSERE (ESCLUSI GLI STABILIMENTI TERMALI)': 'Centro Benessere',\n",
    "    'CENTRO BENESSERE RILASSANTE NON ESTETICO': 'Centro Benessere',\n",
    "    'SERVIZI DI CENTRI PER IL BENESSERE FISICO': 'Centro Benessere',\n",
    "    'SERVIZI DI CENTRI PER IL BENESSERE': 'Centro Benessere',\n",
    "    'SERVIZI DEI CENTRI E STABIL. PER IL BENESSERE FISICO': 'Centro Benessere',\n",
    "    'STUDIO OLISTICO': 'Centro Massaggi',\n",
    "    'CENTRO OLISTICO': 'Centro Massaggi',\n",
    "    'SERVIZI ORGANIZZATI CON SERVIZI DI SEGRETERIA': 'Tipo A - Estetica Manuale; Centro Massaggi',\n",
    "    'TRUCCO SEMIPERMANENTE': 'Truccatore',\n",
    "    'TRUCCATORE': 'Truccatore',\n",
    "    'TATUAGGI E PIERCING': 'Esecuzione di Tatuaggi e Piercing',\n",
    "    'ESECUZIONE DI TATUAGGI E PIERCING': 'Esecuzione di Tatuaggi e Piercing',\n",
    "    'TATUAGGIO': 'Esecuzione di Tatuaggi e Piercing',\n",
    "    'TATUAGGIO E PIERCING': 'Esecuzione di Tatuaggi e Piercing',\n",
    "    'ESECUZIONE DI TATUAGGI': 'Esecuzione di Tatuaggi e Piercing',\n",
    "    'ESECUZIONE TATUAGGI': 'Esecuzione di Tatuaggi e Piercing',\n",
    "    'tatuaggi e piercing': 'Esecuzione di Tatuaggi e Piercing',\n",
    "    'ACCONCIATORE': 'Acconciatore',\n",
    "    'acconciatore': 'Acconciatore',\n",
    "    'acconciatore.': 'Acconciatore',\n",
    "    'ACONCIATORE': 'Acconciatore',\n",
    "    'ACCONCIATORE UOMO DONNA': 'Acconciatore',\n",
    "    'ACCONCIATORE E ESTETICA': 'Acconciatore; Tipo A - Estetica Manuale',\n",
    "    'SERVIZI DEI SALONI DI BARBIERE E PARRUCCHIERE': 'Acconciatore',\n",
    "    'PARRUCCHIERE UOMO DONNA BARBIERE': 'Acconciatore',\n",
    "    'PARRUCCHIERE': 'Acconciatore',\n",
    "    'ESTETISTA': 'Tipo A - Estetica Manuale',\n",
    "    'ESTETICA': 'Tipo A - Estetica Manuale',\n",
    "    'ESTETICA TIPO A': 'Tipo A - Estetica Manuale',\n",
    "    'estetica tipo A': 'Tipo A - Estetica Manuale',\n",
    "    'ESTETISTA MANICURE PEDICURE': 'Tipo A - Estetica Manuale',\n",
    "    'estetista': 'Tipo A - Estetica Manuale',\n",
    "    'estetica': 'Tipo A - Estetica Manuale',\n",
    "    'APPLICAZIONE E DECORAZIONE UNGHIE ARTIFICIALE': 'Tipo A - Estetica Manuale',\n",
    "    'RICOSTRUZIONE UNGHIE': 'Tipo A - Estetica Manuale',\n",
    "    'ESTETICA - CENTRO BENESSERE': 'Tipo A - Estetica Manuale; Centro Benessere',\n",
    "    'ESTETICA A': 'Tipo A - Estetica Manuale',\n",
    "    'estetica A': 'Tipo A - Estetica Manuale',\n",
    "    'ESTETICA a': 'Tipo A - Estetica Manuale',\n",
    "    'ESTETICA A E SOLARIUM': 'Tipo A - Estetica Manuale; Tipo B - Centro di Abbronzatura',\n",
    "    'solarium': 'Tipo B - Centro di Abbronzatura', \n",
    "    'ESTETICA A CON TATUAGGI': 'Tipo A - Estetica Manuale; Esecuzione di Tatuaggi e Piercing',\n",
    "    'ESTETICA A e B': 'Tipo A - Estetica Manuale; Tipo B - Centro di Abbronzatura',\n",
    "    'ESTETICA A B': 'Tipo A - Estetica Manuale; Tipo B - Centro di Abbronzatura',\n",
    "    'ESTETICA A E B': 'Tipo A - Estetica Manuale; Tipo B - Centro di Abbronzatura',\n",
    "    'estetica A e solarium': 'Tipo A - Estetica Manuale; Tipo B - Centro di Abbronzatura',\n",
    "    'SOLARIUM': 'Tipo B - Centro di Abbronzatura',\n",
    "    'SOLARIUM E ESTETICA DI TIPO A': 'Tipo A - Estetica Manuale; Tipo B - Centro di Abbronzatura',\n",
    "    'ESTETICA TIPO A - B': 'Tipo A - Estetica Manuale; Tipo B - Centro di Abbronzatura',\n",
    "    'CENTRO ESTETICO - SOLARIUN': 'Tipo A - Estetica Manuale; Tipo B - Centro di Abbronzatura'\n",
    "}\n",
    "\n",
    "def replace_multiple_labels(cell_value, label_mapping):\n",
    "    # Split the cell value by a delimiter (semicolon)\n",
    "    labels = cell_value.split(';')  # Adjust delimiter as necessary\n",
    "    # Strip whitespace and replace each label using the mapping\n",
    "    labels = [label_mapping.get(label.strip(), label.strip()) for label in labels]\n",
    "    # Join the labels back with the same delimiter\n",
    "    return ';'.join(labels)\n",
    "\n",
    "# Now apply the mapping for individual labels\n",
    "new_SERVICES[\"main\"] = new_SERVICES[\"main\"].apply(lambda x: replace_multiple_labels(x, mapping))"
   ]
  },
  {
   "cell_type": "code",
   "execution_count": 18,
   "id": "1209f984",
   "metadata": {
    "execution": {
     "iopub.execute_input": "2025-01-17T16:35:06.413096Z",
     "iopub.status.busy": "2025-01-17T16:35:06.412694Z",
     "iopub.status.idle": "2025-01-17T16:35:06.428138Z",
     "shell.execute_reply": "2025-01-17T16:35:06.427009Z"
    },
    "papermill": {
     "duration": 0.035287,
     "end_time": "2025-01-17T16:35:06.429762",
     "exception": false,
     "start_time": "2025-01-17T16:35:06.394475",
     "status": "completed"
    },
    "tags": []
   },
   "outputs": [
    {
     "name": "stdout",
     "output_type": "stream",
     "text": [
      "COUNTS of new unique labels\n",
      "\n",
      "Acconciatore                      \t 100\n",
      "Centro Benessere                  \t  13\n",
      "Centro Massaggi                   \t  98\n",
      "Esecuzione di Tatuaggi e Piercing \t  19\n",
      "Tipo A - Estetica Manuale         \t  66\n",
      "Tipo B - Centro di Abbronzatura   \t  20\n",
      "Truccatore                        \t   1\n"
     ]
    }
   ],
   "source": [
    "# Initialize a dictionary to store counts\n",
    "flattened_labels = [label.strip() for item in new_SERVICES[\"main\"] for label in item.split(\";\")]\n",
    "# Get the unique labels and sort them\n",
    "unique_main_labels = sorted(set(flattened_labels))\n",
    "\n",
    "label_counts = {label: 0 for label in unique_main_labels}\n",
    "\n",
    "# Loop through each row in the \"main\" column and count the occurrences of each label\n",
    "for entry in new_SERVICES['main'].dropna():  # Drop NaN values to avoid errors\n",
    "    for label in unique_main_labels:\n",
    "        if label in entry:\n",
    "            label_counts[label] += 1\n",
    "\n",
    "# Find the maximum width for labels and numbers\n",
    "max_label_length = max(len(label) for label in label_counts if label != \"\")\n",
    "max_number_length = max(len(str(count)) for count in label_counts.values())\n",
    "\n",
    "print(\"COUNTS of new unique labels\\n\")\n",
    "# Print the counts with aligned output\n",
    "for label, count in label_counts.items():\n",
    "    if label != \"\":\n",
    "        print(f\"{label:<{max_label_length}} \\t{count:>{max_number_length}}\")"
   ]
  },
  {
   "cell_type": "markdown",
   "id": "b035b091",
   "metadata": {
    "papermill": {
     "duration": 0.017768,
     "end_time": "2025-01-17T16:35:06.464728",
     "exception": false,
     "start_time": "2025-01-17T16:35:06.446960",
     "status": "completed"
    },
    "tags": []
   },
   "source": [
    "Once standardized the column, we decide to move the values from the `main` column to the `t_es` column. \n",
    "\n",
    "The `main` column contains many null values, and the few non-null values it holds are not significantly different from the information already present in the `t_es` column. Therefore, we use the `main` column values to populate the `t_es` column where `t_es` is null, ensuring that we maintain all relevant information in a single column.\n",
    "\n",
    "After this step, the `main` column will be dropped, as its contribution is minimal and redundant."
   ]
  },
  {
   "cell_type": "code",
   "execution_count": 19,
   "id": "5e7912f8",
   "metadata": {
    "execution": {
     "iopub.execute_input": "2025-01-17T16:35:06.501416Z",
     "iopub.status.busy": "2025-01-17T16:35:06.501068Z",
     "iopub.status.idle": "2025-01-17T16:35:06.508526Z",
     "shell.execute_reply": "2025-01-17T16:35:06.507322Z"
    },
    "papermill": {
     "duration": 0.02763,
     "end_time": "2025-01-17T16:35:06.510314",
     "exception": false,
     "start_time": "2025-01-17T16:35:06.482684",
     "status": "completed"
    },
    "tags": []
   },
   "outputs": [
    {
     "name": "stdout",
     "output_type": "stream",
     "text": [
      "The initial number of Nan in 't_es' column is 31.\n"
     ]
    }
   ],
   "source": [
    "new_SERVICES['t_es'] = new_SERVICES['t_es'].replace(\"\", float(\"nan\"))\n",
    "print(\"The initial number of Nan in 't_es' column is {}.\".format(sum(new_SERVICES[\"t_es\"].isnull())))"
   ]
  },
  {
   "cell_type": "code",
   "execution_count": 20,
   "id": "2ec7d5ea",
   "metadata": {
    "execution": {
     "iopub.execute_input": "2025-01-17T16:35:06.546223Z",
     "iopub.status.busy": "2025-01-17T16:35:06.545885Z",
     "iopub.status.idle": "2025-01-17T16:35:06.602850Z",
     "shell.execute_reply": "2025-01-17T16:35:06.601788Z"
    },
    "papermill": {
     "duration": 0.077159,
     "end_time": "2025-01-17T16:35:06.604842",
     "exception": false,
     "start_time": "2025-01-17T16:35:06.527683",
     "status": "completed"
    },
    "tags": []
   },
   "outputs": [],
   "source": [
    "# Ensure both columns are strings and handle NaN values\n",
    "new_SERVICES['main'] = new_SERVICES['main'].fillna(\"\").astype(str)\n",
    "new_SERVICES['t_es'] = new_SERVICES['t_es'].fillna(\"\").astype(str)\n",
    "\n",
    "def update_t_es(row):\n",
    "    main_values = row['main'].split(\";\") if row['main'] else []\n",
    "    t_es_values = row['t_es'].split(\";\") if row['t_es'] else []\n",
    "    \n",
    "    # Remove extra whitespace around the labels\n",
    "    main_values = [value.strip() for value in main_values]\n",
    "    t_es_values = [value.strip() for value in t_es_values]\n",
    "    \n",
    "    # If t_es is empty, copy main values\n",
    "    if not t_es_values:\n",
    "        return \";\".join(main_values)\n",
    "    \n",
    "    # Add main labels that are not already in t_es\n",
    "    for main_value in main_values:\n",
    "        # Add the condition: If main is \"Acconciatore\" and t_es contains \"Parrucchiere per Uomo\" or \"Parrucchiere per Donna\", don't add\n",
    "        if main_value == \"Acconciatore\" and any(x in t_es_values for x in [\"Parrucchiere per Uomo\", \"Parrucchiere per Donna\"]):\n",
    "            continue\n",
    "        if main_value not in t_es_values:\n",
    "            t_es_values.append(main_value)\n",
    "    \n",
    "    # Return the updated t_es column as a semicolon-separated string\n",
    "    return \";\".join(t_es_values)\n",
    "\n",
    "# Apply the function row-wise\n",
    "new_SERVICES['t_es'] = new_SERVICES.apply(update_t_es, axis=1)"
   ]
  },
  {
   "cell_type": "code",
   "execution_count": 21,
   "id": "3890f474",
   "metadata": {
    "execution": {
     "iopub.execute_input": "2025-01-17T16:35:06.640795Z",
     "iopub.status.busy": "2025-01-17T16:35:06.640386Z",
     "iopub.status.idle": "2025-01-17T16:35:06.647329Z",
     "shell.execute_reply": "2025-01-17T16:35:06.646217Z"
    },
    "papermill": {
     "duration": 0.026985,
     "end_time": "2025-01-17T16:35:06.649098",
     "exception": false,
     "start_time": "2025-01-17T16:35:06.622113",
     "status": "completed"
    },
    "tags": []
   },
   "outputs": [
    {
     "name": "stdout",
     "output_type": "stream",
     "text": [
      "The number of Nan in 't_es' column afterwards is 16.\n"
     ]
    }
   ],
   "source": [
    "new_SERVICES['t_es'] = new_SERVICES['t_es'].replace(\"\", float(\"nan\"))\n",
    "print(\"The number of Nan in 't_es' column afterwards is {}.\".format(sum(new_SERVICES[\"t_es\"].isnull())))"
   ]
  },
  {
   "cell_type": "markdown",
   "id": "2a94c4af",
   "metadata": {
    "papermill": {
     "duration": 0.016812,
     "end_time": "2025-01-17T16:35:06.684153",
     "exception": false,
     "start_time": "2025-01-17T16:35:06.667341",
     "status": "completed"
    },
    "tags": []
   },
   "source": [
    "Since `main` info is incorporated in `t_es` column, we drop it."
   ]
  },
  {
   "cell_type": "code",
   "execution_count": 22,
   "id": "f177ce55",
   "metadata": {
    "execution": {
     "iopub.execute_input": "2025-01-17T16:35:06.719437Z",
     "iopub.status.busy": "2025-01-17T16:35:06.719107Z",
     "iopub.status.idle": "2025-01-17T16:35:06.734440Z",
     "shell.execute_reply": "2025-01-17T16:35:06.733384Z"
    },
    "papermill": {
     "duration": 0.035234,
     "end_time": "2025-01-17T16:35:06.736371",
     "exception": false,
     "start_time": "2025-01-17T16:35:06.701137",
     "status": "completed"
    },
    "tags": []
   },
   "outputs": [
    {
     "data": {
      "text/html": [
       "<div>\n",
       "<style scoped>\n",
       "    .dataframe tbody tr th:only-of-type {\n",
       "        vertical-align: middle;\n",
       "    }\n",
       "\n",
       "    .dataframe tbody tr th {\n",
       "        vertical-align: top;\n",
       "    }\n",
       "\n",
       "    .dataframe thead th {\n",
       "        text-align: right;\n",
       "    }\n",
       "</style>\n",
       "<table border=\"1\" class=\"dataframe\">\n",
       "  <thead>\n",
       "    <tr style=\"text-align: right;\">\n",
       "      <th></th>\n",
       "      <th>t_es</th>\n",
       "      <th>ubic</th>\n",
       "      <th>t_via</th>\n",
       "      <th>via</th>\n",
       "      <th>civ</th>\n",
       "      <th>cod_via</th>\n",
       "      <th>zd</th>\n",
       "      <th>sup_alt</th>\n",
       "      <th>sup_lav</th>\n",
       "    </tr>\n",
       "  </thead>\n",
       "  <tbody>\n",
       "    <tr>\n",
       "      <th>0</th>\n",
       "      <td>NaN</td>\n",
       "      <td>LGO DEI GELSOMINI N. 10 (z.d. 6)</td>\n",
       "      <td>LGO</td>\n",
       "      <td>DEI GELSOMINI</td>\n",
       "      <td>10</td>\n",
       "      <td>5394.0</td>\n",
       "      <td>6</td>\n",
       "      <td>NaN</td>\n",
       "      <td>55.0</td>\n",
       "    </tr>\n",
       "    <tr>\n",
       "      <th>1</th>\n",
       "      <td>Centro Massaggi</td>\n",
       "      <td>PZA FIDIA N. 3 (z.d. 9)</td>\n",
       "      <td>PZA</td>\n",
       "      <td>FIDIA</td>\n",
       "      <td>3</td>\n",
       "      <td>1144.0</td>\n",
       "      <td>9</td>\n",
       "      <td>2.0</td>\n",
       "      <td>28.0</td>\n",
       "    </tr>\n",
       "    <tr>\n",
       "      <th>2</th>\n",
       "      <td>Centro Benessere</td>\n",
       "      <td>VIA ADIGE N. 10 (z.d. 5)</td>\n",
       "      <td>VIA</td>\n",
       "      <td>ADIGE</td>\n",
       "      <td>10</td>\n",
       "      <td>4216.0</td>\n",
       "      <td>5</td>\n",
       "      <td>2.0</td>\n",
       "      <td>27.0</td>\n",
       "    </tr>\n",
       "    <tr>\n",
       "      <th>3</th>\n",
       "      <td>Truccatore</td>\n",
       "      <td>VIA BARACCHINI FLAVIO N. 9 (z.d. 1)</td>\n",
       "      <td>VIA</td>\n",
       "      <td>BARACCHINI FLAVIO</td>\n",
       "      <td>9</td>\n",
       "      <td>356.0</td>\n",
       "      <td>1</td>\n",
       "      <td>NaN</td>\n",
       "      <td>NaN</td>\n",
       "    </tr>\n",
       "    <tr>\n",
       "      <th>4</th>\n",
       "      <td>NaN</td>\n",
       "      <td>VIA BERGAMO N. 12 (z.d. 4)</td>\n",
       "      <td>VIA</td>\n",
       "      <td>BERGAMO</td>\n",
       "      <td>12</td>\n",
       "      <td>3189.0</td>\n",
       "      <td>4</td>\n",
       "      <td>NaN</td>\n",
       "      <td>50.0</td>\n",
       "    </tr>\n",
       "  </tbody>\n",
       "</table>\n",
       "</div>"
      ],
      "text/plain": [
       "               t_es                                 ubic t_via  \\\n",
       "0               NaN     LGO DEI GELSOMINI N. 10 (z.d. 6)   LGO   \n",
       "1   Centro Massaggi              PZA FIDIA N. 3 (z.d. 9)   PZA   \n",
       "2  Centro Benessere             VIA ADIGE N. 10 (z.d. 5)   VIA   \n",
       "3        Truccatore  VIA BARACCHINI FLAVIO N. 9 (z.d. 1)   VIA   \n",
       "4               NaN           VIA BERGAMO N. 12 (z.d. 4)   VIA   \n",
       "\n",
       "                 via civ  cod_via zd  sup_alt  sup_lav  \n",
       "0      DEI GELSOMINI  10   5394.0  6      NaN     55.0  \n",
       "1              FIDIA   3   1144.0  9      2.0     28.0  \n",
       "2              ADIGE  10   4216.0  5      2.0     27.0  \n",
       "3  BARACCHINI FLAVIO   9    356.0  1      NaN      NaN  \n",
       "4            BERGAMO  12   3189.0  4      NaN     50.0  "
      ]
     },
     "execution_count": 22,
     "metadata": {},
     "output_type": "execute_result"
    }
   ],
   "source": [
    "new_SERVICES = new_SERVICES.drop('main', axis=1)\n",
    "\n",
    "new_SERVICES.head()"
   ]
  },
  {
   "cell_type": "markdown",
   "id": "a6e40393",
   "metadata": {
    "papermill": {
     "duration": 0.017179,
     "end_time": "2025-01-17T16:35:06.771211",
     "exception": false,
     "start_time": "2025-01-17T16:35:06.754032",
     "status": "completed"
    },
    "tags": []
   },
   "source": [
    "## T_VIA: Checking format\n",
    "In this phase, we verify that the `t_via` column contains only valid and properly formatted values.\n",
    "\n",
    "The column contains designations for the type of street or location, which are standardized according to the tipovia dataframe. This dataframe defines valid labels and their corresponding extended and abbreviated descriptions."
   ]
  },
  {
   "cell_type": "code",
   "execution_count": 23,
   "id": "b4b2981d",
   "metadata": {
    "execution": {
     "iopub.execute_input": "2025-01-17T16:35:06.807354Z",
     "iopub.status.busy": "2025-01-17T16:35:06.807015Z",
     "iopub.status.idle": "2025-01-17T16:35:06.814802Z",
     "shell.execute_reply": "2025-01-17T16:35:06.813664Z"
    },
    "papermill": {
     "duration": 0.027747,
     "end_time": "2025-01-17T16:35:06.816410",
     "exception": false,
     "start_time": "2025-01-17T16:35:06.788663",
     "status": "completed"
    },
    "tags": []
   },
   "outputs": [
    {
     "name": "stdout",
     "output_type": "stream",
     "text": [
      "Invalid t_via values not in tipovia:\n",
      "\n",
      "['VIE']\n"
     ]
    }
   ],
   "source": [
    "# Ensure comparison is case-insensitive by converting both columns to lowercase\n",
    "t_via_unique = new_SERVICES['t_via'].unique()\n",
    "desc_abbreviata = tipovia['DESC_ABBREVIATA'].str.lower().unique()\n",
    "\n",
    "# Find t_via values not in tipovia.DESC_ABBREVIATA\n",
    "invalid_t_via = [via for via in t_via_unique if via.lower() not in desc_abbreviata]\n",
    "\n",
    "# Print the results\n",
    "print(\"Invalid t_via values not in tipovia:\\n\")\n",
    "print(invalid_t_via)\n"
   ]
  },
  {
   "cell_type": "markdown",
   "id": "0f5c4c27",
   "metadata": {
    "papermill": {
     "duration": 0.018441,
     "end_time": "2025-01-17T16:35:06.853664",
     "exception": false,
     "start_time": "2025-01-17T16:35:06.835223",
     "status": "completed"
    },
    "tags": []
   },
   "source": [
    "Since any potential unformatted or invalid values in the `t_via` column were already addressed during the previous merging and correction phases (e.g., handling rows with `\"Acconciatore\"`), only one inadmissible value remains: `\"VIE\"`. This value is not part of the valid labels defined in the `DESC_ABBREVIATA` column of the **tipovia** dataframe.\n",
    "\n",
    "To resolve this, the `\"VIE\"` value must be corrected or mapped to a valid designation from the **tipovia** dataframe."
   ]
  },
  {
   "cell_type": "code",
   "execution_count": 24,
   "id": "7be25fcc",
   "metadata": {
    "execution": {
     "iopub.execute_input": "2025-01-17T16:35:06.891053Z",
     "iopub.status.busy": "2025-01-17T16:35:06.890662Z",
     "iopub.status.idle": "2025-01-17T16:35:06.903869Z",
     "shell.execute_reply": "2025-01-17T16:35:06.902746Z"
    },
    "papermill": {
     "duration": 0.034189,
     "end_time": "2025-01-17T16:35:06.905541",
     "exception": false,
     "start_time": "2025-01-17T16:35:06.871352",
     "status": "completed"
    },
    "tags": []
   },
   "outputs": [
    {
     "data": {
      "text/html": [
       "<div>\n",
       "<style scoped>\n",
       "    .dataframe tbody tr th:only-of-type {\n",
       "        vertical-align: middle;\n",
       "    }\n",
       "\n",
       "    .dataframe tbody tr th {\n",
       "        vertical-align: top;\n",
       "    }\n",
       "\n",
       "    .dataframe thead th {\n",
       "        text-align: right;\n",
       "    }\n",
       "</style>\n",
       "<table border=\"1\" class=\"dataframe\">\n",
       "  <thead>\n",
       "    <tr style=\"text-align: right;\">\n",
       "      <th></th>\n",
       "      <th>t_es</th>\n",
       "      <th>ubic</th>\n",
       "      <th>t_via</th>\n",
       "      <th>via</th>\n",
       "      <th>civ</th>\n",
       "      <th>cod_via</th>\n",
       "      <th>zd</th>\n",
       "      <th>sup_alt</th>\n",
       "      <th>sup_lav</th>\n",
       "    </tr>\n",
       "  </thead>\n",
       "  <tbody>\n",
       "    <tr>\n",
       "      <th>721</th>\n",
       "      <td>Acconciatore</td>\n",
       "      <td>VIE DELLA ROBBIA LUCA N. 8 ; (z.d. 8)</td>\n",
       "      <td>VIE</td>\n",
       "      <td>DELLA ROBBIA LUCA</td>\n",
       "      <td>8</td>\n",
       "      <td>6349.0</td>\n",
       "      <td>8</td>\n",
       "      <td>NaN</td>\n",
       "      <td>33.0</td>\n",
       "    </tr>\n",
       "    <tr>\n",
       "      <th>2891</th>\n",
       "      <td>Tipo B - Centro di Abbronzatura;Tipo A - Estetica Manuale;Parrucchiere per Uomo</td>\n",
       "      <td>VIE DELLA ROBBIA LUCA N. 8 ; (z.d. 8)</td>\n",
       "      <td>VIE</td>\n",
       "      <td>DELLA ROBBIA LUCA</td>\n",
       "      <td>8</td>\n",
       "      <td>6349.0</td>\n",
       "      <td>8</td>\n",
       "      <td>NaN</td>\n",
       "      <td>NaN</td>\n",
       "    </tr>\n",
       "  </tbody>\n",
       "</table>\n",
       "</div>"
      ],
      "text/plain": [
       "                                                                                 t_es  \\\n",
       "721                                                                      Acconciatore   \n",
       "2891  Tipo B - Centro di Abbronzatura;Tipo A - Estetica Manuale;Parrucchiere per Uomo   \n",
       "\n",
       "                                       ubic t_via                via civ  \\\n",
       "721   VIE DELLA ROBBIA LUCA N. 8 ; (z.d. 8)   VIE  DELLA ROBBIA LUCA   8   \n",
       "2891  VIE DELLA ROBBIA LUCA N. 8 ; (z.d. 8)   VIE  DELLA ROBBIA LUCA   8   \n",
       "\n",
       "      cod_via zd  sup_alt  sup_lav  \n",
       "721    6349.0  8      NaN     33.0  \n",
       "2891   6349.0  8      NaN      NaN  "
      ]
     },
     "execution_count": 24,
     "metadata": {},
     "output_type": "execute_result"
    }
   ],
   "source": [
    "new_SERVICES[new_SERVICES[\"t_via\"] == \"VIE\"]"
   ]
  },
  {
   "cell_type": "code",
   "execution_count": 25,
   "id": "d3ef1b33",
   "metadata": {
    "execution": {
     "iopub.execute_input": "2025-01-17T16:35:06.943889Z",
     "iopub.status.busy": "2025-01-17T16:35:06.943423Z",
     "iopub.status.idle": "2025-01-17T16:35:06.948818Z",
     "shell.execute_reply": "2025-01-17T16:35:06.947858Z"
    },
    "papermill": {
     "duration": 0.025468,
     "end_time": "2025-01-17T16:35:06.950348",
     "exception": false,
     "start_time": "2025-01-17T16:35:06.924880",
     "status": "completed"
    },
    "tags": []
   },
   "outputs": [],
   "source": [
    "new_SERVICES.loc[new_SERVICES[\"t_via\"] == \"VIE\", \"t_via\"] = \"VIA\""
   ]
  },
  {
   "cell_type": "markdown",
   "id": "e91fce1c",
   "metadata": {
    "papermill": {
     "duration": 0.017324,
     "end_time": "2025-01-17T16:35:06.987590",
     "exception": false,
     "start_time": "2025-01-17T16:35:06.970266",
     "status": "completed"
    },
    "tags": []
   },
   "source": [
    "Once this adjustment is made, we ensure that all `t_via` values match the `DESC_ABBREVIATA` column of **tipovia** and can be directly mapped to their corresponding `DESC_ESTESA` values."
   ]
  },
  {
   "cell_type": "code",
   "execution_count": 26,
   "id": "10c6e4b0",
   "metadata": {
    "execution": {
     "iopub.execute_input": "2025-01-17T16:35:07.025331Z",
     "iopub.status.busy": "2025-01-17T16:35:07.024989Z",
     "iopub.status.idle": "2025-01-17T16:35:07.041749Z",
     "shell.execute_reply": "2025-01-17T16:35:07.040719Z"
    },
    "papermill": {
     "duration": 0.037192,
     "end_time": "2025-01-17T16:35:07.043379",
     "exception": false,
     "start_time": "2025-01-17T16:35:07.006187",
     "status": "completed"
    },
    "tags": []
   },
   "outputs": [
    {
     "data": {
      "text/html": [
       "<div>\n",
       "<style scoped>\n",
       "    .dataframe tbody tr th:only-of-type {\n",
       "        vertical-align: middle;\n",
       "    }\n",
       "\n",
       "    .dataframe tbody tr th {\n",
       "        vertical-align: top;\n",
       "    }\n",
       "\n",
       "    .dataframe thead th {\n",
       "        text-align: right;\n",
       "    }\n",
       "</style>\n",
       "<table border=\"1\" class=\"dataframe\">\n",
       "  <thead>\n",
       "    <tr style=\"text-align: right;\">\n",
       "      <th></th>\n",
       "      <th>t_es</th>\n",
       "      <th>ubic</th>\n",
       "      <th>t_via</th>\n",
       "      <th>via</th>\n",
       "      <th>civ</th>\n",
       "      <th>cod_via</th>\n",
       "      <th>zd</th>\n",
       "      <th>sup_alt</th>\n",
       "      <th>sup_lav</th>\n",
       "    </tr>\n",
       "  </thead>\n",
       "  <tbody>\n",
       "    <tr>\n",
       "      <th>0</th>\n",
       "      <td>NaN</td>\n",
       "      <td>LGO DEI GELSOMINI N. 10 (z.d. 6)</td>\n",
       "      <td>Largo</td>\n",
       "      <td>DEI GELSOMINI</td>\n",
       "      <td>10</td>\n",
       "      <td>5394.0</td>\n",
       "      <td>6</td>\n",
       "      <td>NaN</td>\n",
       "      <td>55.0</td>\n",
       "    </tr>\n",
       "    <tr>\n",
       "      <th>1</th>\n",
       "      <td>Centro Massaggi</td>\n",
       "      <td>PZA FIDIA N. 3 (z.d. 9)</td>\n",
       "      <td>Piazza</td>\n",
       "      <td>FIDIA</td>\n",
       "      <td>3</td>\n",
       "      <td>1144.0</td>\n",
       "      <td>9</td>\n",
       "      <td>2.0</td>\n",
       "      <td>28.0</td>\n",
       "    </tr>\n",
       "    <tr>\n",
       "      <th>2</th>\n",
       "      <td>Centro Benessere</td>\n",
       "      <td>VIA ADIGE N. 10 (z.d. 5)</td>\n",
       "      <td>Via</td>\n",
       "      <td>ADIGE</td>\n",
       "      <td>10</td>\n",
       "      <td>4216.0</td>\n",
       "      <td>5</td>\n",
       "      <td>2.0</td>\n",
       "      <td>27.0</td>\n",
       "    </tr>\n",
       "    <tr>\n",
       "      <th>3</th>\n",
       "      <td>Truccatore</td>\n",
       "      <td>VIA BARACCHINI FLAVIO N. 9 (z.d. 1)</td>\n",
       "      <td>Via</td>\n",
       "      <td>BARACCHINI FLAVIO</td>\n",
       "      <td>9</td>\n",
       "      <td>356.0</td>\n",
       "      <td>1</td>\n",
       "      <td>NaN</td>\n",
       "      <td>NaN</td>\n",
       "    </tr>\n",
       "    <tr>\n",
       "      <th>4</th>\n",
       "      <td>NaN</td>\n",
       "      <td>VIA BERGAMO N. 12 (z.d. 4)</td>\n",
       "      <td>Via</td>\n",
       "      <td>BERGAMO</td>\n",
       "      <td>12</td>\n",
       "      <td>3189.0</td>\n",
       "      <td>4</td>\n",
       "      <td>NaN</td>\n",
       "      <td>50.0</td>\n",
       "    </tr>\n",
       "  </tbody>\n",
       "</table>\n",
       "</div>"
      ],
      "text/plain": [
       "               t_es                                 ubic   t_via  \\\n",
       "0               NaN     LGO DEI GELSOMINI N. 10 (z.d. 6)   Largo   \n",
       "1   Centro Massaggi              PZA FIDIA N. 3 (z.d. 9)  Piazza   \n",
       "2  Centro Benessere             VIA ADIGE N. 10 (z.d. 5)     Via   \n",
       "3        Truccatore  VIA BARACCHINI FLAVIO N. 9 (z.d. 1)     Via   \n",
       "4               NaN           VIA BERGAMO N. 12 (z.d. 4)     Via   \n",
       "\n",
       "                 via civ  cod_via zd  sup_alt  sup_lav  \n",
       "0      DEI GELSOMINI  10   5394.0  6      NaN     55.0  \n",
       "1              FIDIA   3   1144.0  9      2.0     28.0  \n",
       "2              ADIGE  10   4216.0  5      2.0     27.0  \n",
       "3  BARACCHINI FLAVIO   9    356.0  1      NaN      NaN  \n",
       "4            BERGAMO  12   3189.0  4      NaN     50.0  "
      ]
     },
     "execution_count": 26,
     "metadata": {},
     "output_type": "execute_result"
    }
   ],
   "source": [
    "# Create a mapping dictionary from tipovia\n",
    "t_via_mapping = dict(zip(tipovia[\"DESC_ABBREVIATA\"].str.lower(), tipovia[\"DESC_ESTESA\"]))\n",
    "\n",
    "# Replace the t_via values in new_SERVICES with the corresponding DESC_ESTESA values\n",
    "new_SERVICES[\"t_via\"] = new_SERVICES[\"t_via\"].str.lower().map(t_via_mapping)\n",
    "\n",
    "# Check the result\n",
    "new_SERVICES.head()"
   ]
  },
  {
   "cell_type": "markdown",
   "id": "ed8f7931",
   "metadata": {
    "papermill": {
     "duration": 0.017653,
     "end_time": "2025-01-17T16:35:07.079187",
     "exception": false,
     "start_time": "2025-01-17T16:35:07.061534",
     "status": "completed"
    },
    "tags": []
   },
   "source": [
    "## COD_VIA: Checking Format\n",
    "This check ensures that the values in the `cod_via` column, which are stored as floats, are whole numbers (i.e., integers), since the identifiers related to street or location codes should always be integers."
   ]
  },
  {
   "cell_type": "code",
   "execution_count": 27,
   "id": "02f2b4a9",
   "metadata": {
    "execution": {
     "iopub.execute_input": "2025-01-17T16:35:07.116391Z",
     "iopub.status.busy": "2025-01-17T16:35:07.115996Z",
     "iopub.status.idle": "2025-01-17T16:35:07.124843Z",
     "shell.execute_reply": "2025-01-17T16:35:07.123933Z"
    },
    "papermill": {
     "duration": 0.029142,
     "end_time": "2025-01-17T16:35:07.126382",
     "exception": false,
     "start_time": "2025-01-17T16:35:07.097240",
     "status": "completed"
    },
    "tags": []
   },
   "outputs": [
    {
     "name": "stdout",
     "output_type": "stream",
     "text": [
      "All values in 'cod_via' are integers (float equivalents of integers).\n"
     ]
    }
   ],
   "source": [
    "# Check if any value in 'cod_via' is not an integer (checking for float values that are whole numbers)\n",
    "non_integer_values = new_SERVICES['cod_via'].apply(lambda x: not x.is_integer() if isinstance(x, float) else False)\n",
    "\n",
    "if non_integer_values.any():\n",
    "    print(\"There are values in 'cod_via' that are not integers.\")\n",
    "else:\n",
    "    print(\"All values in 'cod_via' are integers (float equivalents of integers).\")\n",
    "\n",
    "new_SERVICES.cod_via = new_SERVICES.cod_via.astype(float).astype(int)"
   ]
  },
  {
   "cell_type": "markdown",
   "id": "cc75b364",
   "metadata": {
    "papermill": {
     "duration": 0.018408,
     "end_time": "2025-01-17T16:35:07.164205",
     "exception": false,
     "start_time": "2025-01-17T16:35:07.145797",
     "status": "completed"
    },
    "tags": []
   },
   "source": [
    "## CIV: Checking Format\n",
    "This code checks the `civ` column to ensure that all values follow the expected format: **1-3 digit, optionally followed by an uppercase letter (e.g., 12A), a slash \"/\" with a single digit (e.g., 93/1), or a slash \"/\" and another series of digits and letters (e.g., 15/101)."
   ]
  },
  {
   "cell_type": "code",
   "execution_count": 28,
   "id": "c8b650d0",
   "metadata": {
    "execution": {
     "iopub.execute_input": "2025-01-17T16:35:07.202161Z",
     "iopub.status.busy": "2025-01-17T16:35:07.201801Z",
     "iopub.status.idle": "2025-01-17T16:35:07.220131Z",
     "shell.execute_reply": "2025-01-17T16:35:07.219004Z"
    },
    "papermill": {
     "duration": 0.039177,
     "end_time": "2025-01-17T16:35:07.221800",
     "exception": false,
     "start_time": "2025-01-17T16:35:07.182623",
     "status": "completed"
    },
    "tags": []
   },
   "outputs": [
    {
     "name": "stdout",
     "output_type": "stream",
     "text": [
      "There are invalid values in 'civ' column.\n",
      "\n",
      "The row with index 143 contains an invalid value: 40945.\n"
     ]
    }
   ],
   "source": [
    "# Define a function to check the format\n",
    "def check_civ_format(value):\n",
    "    # Regex pattern to match 1-3 digits, optionally followed by a `/` and a single digit or an uppercase letter\n",
    "    pattern = r'^\\d{1,3}(?:/\\d{1,3}[A-Z]?)?(?:[A-Z]+)?(?:[A-Z]+P\\d{2})?(?:[A-Z]+N\\d{2})?(?:[A-Z]+C\\d{2})?(?:[A-Z]+G\\d{2})?$'\n",
    "    return bool(re.match(pattern, str(value)))\n",
    "\n",
    "# Apply the check to the 'civ' column and filter invalid values\n",
    "invalid_civ_values = new_SERVICES['civ'][new_SERVICES['civ'].apply(lambda x: not check_civ_format(x) if pd.notnull(x) else False)]\n",
    "\n",
    "if not invalid_civ_values.empty:\n",
    "    print(\"There are invalid values in 'civ' column.\\n\")\n",
    "    \n",
    "if not invalid_civ_values.empty:\n",
    "    for idx, value in invalid_civ_values.items():\n",
    "        print(f\"The row with index {idx} contains an invalid value: {value}.\")\n",
    "else:\n",
    "    print(\"All values in 'civ' follow the correct format.\")"
   ]
  },
  {
   "cell_type": "markdown",
   "id": "0c19f0a9",
   "metadata": {
    "papermill": {
     "duration": 0.018039,
     "end_time": "2025-01-17T16:35:07.258256",
     "exception": false,
     "start_time": "2025-01-17T16:35:07.240217",
     "status": "completed"
    },
    "tags": []
   },
   "source": [
    "We handle invalid values in the `civ` column by replacing them with `NaN`, ensuring that only correctly formatted entries remain for further processing."
   ]
  },
  {
   "cell_type": "code",
   "execution_count": 29,
   "id": "77107486",
   "metadata": {
    "execution": {
     "iopub.execute_input": "2025-01-17T16:35:07.296087Z",
     "iopub.status.busy": "2025-01-17T16:35:07.295703Z",
     "iopub.status.idle": "2025-01-17T16:35:07.307161Z",
     "shell.execute_reply": "2025-01-17T16:35:07.306211Z"
    },
    "papermill": {
     "duration": 0.032149,
     "end_time": "2025-01-17T16:35:07.308670",
     "exception": false,
     "start_time": "2025-01-17T16:35:07.276521",
     "status": "completed"
    },
    "tags": []
   },
   "outputs": [
    {
     "data": {
      "text/html": [
       "<div>\n",
       "<style scoped>\n",
       "    .dataframe tbody tr th:only-of-type {\n",
       "        vertical-align: middle;\n",
       "    }\n",
       "\n",
       "    .dataframe tbody tr th {\n",
       "        vertical-align: top;\n",
       "    }\n",
       "\n",
       "    .dataframe thead th {\n",
       "        text-align: right;\n",
       "    }\n",
       "</style>\n",
       "<table border=\"1\" class=\"dataframe\">\n",
       "  <thead>\n",
       "    <tr style=\"text-align: right;\">\n",
       "      <th></th>\n",
       "      <th>t_es</th>\n",
       "      <th>ubic</th>\n",
       "      <th>t_via</th>\n",
       "      <th>via</th>\n",
       "      <th>civ</th>\n",
       "      <th>cod_via</th>\n",
       "      <th>zd</th>\n",
       "      <th>sup_alt</th>\n",
       "      <th>sup_lav</th>\n",
       "    </tr>\n",
       "  </thead>\n",
       "  <tbody>\n",
       "    <tr>\n",
       "      <th>143</th>\n",
       "      <td>Acconciatore</td>\n",
       "      <td>VIA PAVIA N. 6/2 (z.d. 5)</td>\n",
       "      <td>Via</td>\n",
       "      <td>PAVIA</td>\n",
       "      <td>40945</td>\n",
       "      <td>5262</td>\n",
       "      <td>5</td>\n",
       "      <td>NaN</td>\n",
       "      <td>NaN</td>\n",
       "    </tr>\n",
       "  </tbody>\n",
       "</table>\n",
       "</div>"
      ],
      "text/plain": [
       "             t_es                       ubic t_via    via    civ  cod_via zd  \\\n",
       "143  Acconciatore  VIA PAVIA N. 6/2 (z.d. 5)   Via  PAVIA  40945     5262  5   \n",
       "\n",
       "     sup_alt  sup_lav  \n",
       "143      NaN      NaN  "
      ]
     },
     "execution_count": 29,
     "metadata": {},
     "output_type": "execute_result"
    }
   ],
   "source": [
    "new_SERVICES[143:].head(1)"
   ]
  },
  {
   "cell_type": "code",
   "execution_count": 30,
   "id": "75f7ecf6",
   "metadata": {
    "execution": {
     "iopub.execute_input": "2025-01-17T16:35:07.347279Z",
     "iopub.status.busy": "2025-01-17T16:35:07.346908Z",
     "iopub.status.idle": "2025-01-17T16:35:07.366221Z",
     "shell.execute_reply": "2025-01-17T16:35:07.365109Z"
    },
    "papermill": {
     "duration": 0.040464,
     "end_time": "2025-01-17T16:35:07.367934",
     "exception": false,
     "start_time": "2025-01-17T16:35:07.327470",
     "status": "completed"
    },
    "tags": []
   },
   "outputs": [
    {
     "data": {
      "text/html": [
       "<div>\n",
       "<style scoped>\n",
       "    .dataframe tbody tr th:only-of-type {\n",
       "        vertical-align: middle;\n",
       "    }\n",
       "\n",
       "    .dataframe tbody tr th {\n",
       "        vertical-align: top;\n",
       "    }\n",
       "\n",
       "    .dataframe thead th {\n",
       "        text-align: right;\n",
       "    }\n",
       "</style>\n",
       "<table border=\"1\" class=\"dataframe\">\n",
       "  <thead>\n",
       "    <tr style=\"text-align: right;\">\n",
       "      <th></th>\n",
       "      <th>t_es</th>\n",
       "      <th>ubic</th>\n",
       "      <th>t_via</th>\n",
       "      <th>via</th>\n",
       "      <th>civ</th>\n",
       "      <th>cod_via</th>\n",
       "      <th>zd</th>\n",
       "      <th>sup_alt</th>\n",
       "      <th>sup_lav</th>\n",
       "    </tr>\n",
       "  </thead>\n",
       "  <tbody>\n",
       "    <tr>\n",
       "      <th>143</th>\n",
       "      <td>Acconciatore</td>\n",
       "      <td>VIA PAVIA N. 6/2 (z.d. 5)</td>\n",
       "      <td>Via</td>\n",
       "      <td>PAVIA</td>\n",
       "      <td>NaN</td>\n",
       "      <td>5262</td>\n",
       "      <td>5</td>\n",
       "      <td>NaN</td>\n",
       "      <td>NaN</td>\n",
       "    </tr>\n",
       "  </tbody>\n",
       "</table>\n",
       "</div>"
      ],
      "text/plain": [
       "             t_es                       ubic t_via    via  civ  cod_via zd  \\\n",
       "143  Acconciatore  VIA PAVIA N. 6/2 (z.d. 5)   Via  PAVIA  NaN     5262  5   \n",
       "\n",
       "     sup_alt  sup_lav  \n",
       "143      NaN      NaN  "
      ]
     },
     "execution_count": 30,
     "metadata": {},
     "output_type": "execute_result"
    }
   ],
   "source": [
    "# Replace invalid 'civ' values with NaN\n",
    "new_SERVICES['civ'] = new_SERVICES['civ'].apply(lambda x: np.nan if not check_civ_format(x) else x)\n",
    "new_SERVICES[143:].head(1)"
   ]
  },
  {
   "cell_type": "code",
   "execution_count": 31,
   "id": "26d33834",
   "metadata": {
    "execution": {
     "iopub.execute_input": "2025-01-17T16:35:07.407166Z",
     "iopub.status.busy": "2025-01-17T16:35:07.406818Z",
     "iopub.status.idle": "2025-01-17T16:35:07.412397Z",
     "shell.execute_reply": "2025-01-17T16:35:07.411292Z"
    },
    "papermill": {
     "duration": 0.027063,
     "end_time": "2025-01-17T16:35:07.414077",
     "exception": false,
     "start_time": "2025-01-17T16:35:07.387014",
     "status": "completed"
    },
    "tags": []
   },
   "outputs": [
    {
     "name": "stdout",
     "output_type": "stream",
     "text": [
      "The number of different 'civ' values for column 'main' is 234.\n"
     ]
    }
   ],
   "source": [
    "print(\"The number of different 'civ' values for column 'main' is {}.\".format(new_SERVICES.civ.unique().shape[0]))"
   ]
  },
  {
   "cell_type": "markdown",
   "id": "c4f54cd9",
   "metadata": {
    "papermill": {
     "duration": 0.018377,
     "end_time": "2025-01-17T16:35:07.451558",
     "exception": false,
     "start_time": "2025-01-17T16:35:07.433181",
     "status": "completed"
    },
    "tags": []
   },
   "source": [
    "## VIA: Removal of Redundant Information and Validation\n",
    "\n",
    "When processing records, some entries contain redundant information in the `via` column that matches part of the `t_via` column.\n",
    "To ensure consistency and follow a specific order, we remove the redundant portion.\n",
    "\n",
    "**Example**\n",
    "\n",
    "Given the following data:\n",
    "\n",
    "| t_es          | ubic                      | t_via | via      | civ | cod_via | zd | sup_alt | sup_lav |\n",
    "|---------------|---------------------------|-------|----------|-----|---------|----|---------|---------|\n",
    "| Acconciatore  | CSO COMO N. 15 (z.d. 9)  | CSO   | CSO COMO     | 15  | 1111.0  | 9  | NaN     | 195.0   |\n",
    "\n",
    "\n",
    "The updated record becomes:\n",
    "\n",
    "| t_es          | ubic                      | t_via | via      | civ | cod_via | zd | sup_alt | sup_lav |\n",
    "|---------------|---------------------------|-------|----------|-----|---------|----|---------|---------|\n",
    "| Acconciatore  | CSO COMO N. 15 (z.d. 9)  | CSO   | COMO     | 15  | 1111.0  | 9  | NaN     | 195.0   |\n",
    "\n",
    "\n",
    "In this transformation:\n",
    "- The `via` column value `CSO COMO` had the redundant prefix `CSO` matching the value in the `t_via` column.\n",
    "- The prefix was removed, leaving only the unique portion: `COMO`."
   ]
  },
  {
   "cell_type": "code",
   "execution_count": 32,
   "id": "3abc82ff",
   "metadata": {
    "execution": {
     "iopub.execute_input": "2025-01-17T16:35:07.490419Z",
     "iopub.status.busy": "2025-01-17T16:35:07.490039Z",
     "iopub.status.idle": "2025-01-17T16:35:07.550563Z",
     "shell.execute_reply": "2025-01-17T16:35:07.549466Z"
    },
    "papermill": {
     "duration": 0.081902,
     "end_time": "2025-01-17T16:35:07.552256",
     "exception": false,
     "start_time": "2025-01-17T16:35:07.470354",
     "status": "completed"
    },
    "tags": []
   },
   "outputs": [
    {
     "data": {
      "text/html": [
       "<div>\n",
       "<style scoped>\n",
       "    .dataframe tbody tr th:only-of-type {\n",
       "        vertical-align: middle;\n",
       "    }\n",
       "\n",
       "    .dataframe tbody tr th {\n",
       "        vertical-align: top;\n",
       "    }\n",
       "\n",
       "    .dataframe thead th {\n",
       "        text-align: right;\n",
       "    }\n",
       "</style>\n",
       "<table border=\"1\" class=\"dataframe\">\n",
       "  <thead>\n",
       "    <tr style=\"text-align: right;\">\n",
       "      <th></th>\n",
       "      <th>t_es</th>\n",
       "      <th>ubic</th>\n",
       "      <th>t_via</th>\n",
       "      <th>via</th>\n",
       "      <th>civ</th>\n",
       "      <th>cod_via</th>\n",
       "      <th>zd</th>\n",
       "      <th>sup_alt</th>\n",
       "      <th>sup_lav</th>\n",
       "    </tr>\n",
       "  </thead>\n",
       "  <tbody>\n",
       "    <tr>\n",
       "      <th>1140</th>\n",
       "      <td>Parrucchiere per Donna;Parrucchiere per Uomo</td>\n",
       "      <td>CSO COMO N. 11 ; (z.d. 9)</td>\n",
       "      <td>Corso</td>\n",
       "      <td>COMO</td>\n",
       "      <td>11</td>\n",
       "      <td>1111</td>\n",
       "      <td>9</td>\n",
       "      <td>NaN</td>\n",
       "      <td>23.0</td>\n",
       "    </tr>\n",
       "  </tbody>\n",
       "</table>\n",
       "</div>"
      ],
      "text/plain": [
       "                                              t_es                       ubic  \\\n",
       "1140  Parrucchiere per Donna;Parrucchiere per Uomo  CSO COMO N. 11 ; (z.d. 9)   \n",
       "\n",
       "      t_via   via civ  cod_via zd  sup_alt  sup_lav  \n",
       "1140  Corso  COMO  11     1111  9      NaN     23.0  "
      ]
     },
     "execution_count": 32,
     "metadata": {},
     "output_type": "execute_result"
    }
   ],
   "source": [
    "new_SERVICES.via = new_SERVICES.via.fillna(\"\").astype(str)\n",
    "new_SERVICES.t_via = new_SERVICES.t_via.fillna(\"\").astype(str) \n",
    "\n",
    "# Function to remove the redundant prefix\n",
    "def clean_via(row):\n",
    "    if row[\"via\"].startswith(row[\"t_via\"] + \" \") and row[\"t_via\"] != \"\":  # Check if via starts with t_via\n",
    "        return row[\"via\"].replace(row[\"t_via\"] + \" \", \"\")  # Remove t_via + space\n",
    "    return row[\"via\"]  # Return original if no match\n",
    "\n",
    "# Apply the function to the 'via' column\n",
    "new_SERVICES[\"via\"] = new_SERVICES.apply(clean_via, axis=1)\n",
    "\n",
    "new_SERVICES[new_SERVICES.via == \"COMO\"].head(1)"
   ]
  },
  {
   "cell_type": "markdown",
   "id": "c73a1da1",
   "metadata": {
    "papermill": {
     "duration": 0.018817,
     "end_time": "2025-01-17T16:35:07.590479",
     "exception": false,
     "start_time": "2025-01-17T16:35:07.571662",
     "status": "completed"
    },
    "tags": []
   },
   "source": [
    "Now we validate the `via` column in the dataset by comparing it against the descriptive fields (`DESCRITTIVO` and `DENOMINAZIONE`) from the **viario** dataframe.<br> We first normalize the text by converting it to lowercase, removing unnecessary spaces and parentheses, and sorting the words alphabetically. Then, we calculate similarity scores between the `via` column and the two descriptive fields, using the highest score to flag rows for review if they fall below a **75%** similarity threshold. "
   ]
  },
  {
   "cell_type": "code",
   "execution_count": 33,
   "id": "cab28eb3",
   "metadata": {
    "execution": {
     "iopub.execute_input": "2025-01-17T16:35:07.630387Z",
     "iopub.status.busy": "2025-01-17T16:35:07.630044Z",
     "iopub.status.idle": "2025-01-17T16:35:07.750084Z",
     "shell.execute_reply": "2025-01-17T16:35:07.748993Z"
    },
    "papermill": {
     "duration": 0.14224,
     "end_time": "2025-01-17T16:35:07.751574",
     "exception": false,
     "start_time": "2025-01-17T16:35:07.609334",
     "status": "completed"
    },
    "tags": []
   },
   "outputs": [
    {
     "name": "stdout",
     "output_type": "stream",
     "text": [
      "Rows where normalized 'via' and 'DESCRITTIVO'/'DENOMINAZIONE' are not similar enough (below 75% similarity):\n"
     ]
    },
    {
     "data": {
      "text/html": [
       "<div>\n",
       "<style scoped>\n",
       "    .dataframe tbody tr th:only-of-type {\n",
       "        vertical-align: middle;\n",
       "    }\n",
       "\n",
       "    .dataframe tbody tr th {\n",
       "        vertical-align: top;\n",
       "    }\n",
       "\n",
       "    .dataframe thead th {\n",
       "        text-align: right;\n",
       "    }\n",
       "</style>\n",
       "<table border=\"1\" class=\"dataframe\">\n",
       "  <thead>\n",
       "    <tr style=\"text-align: right;\">\n",
       "      <th></th>\n",
       "      <th>cod_via</th>\n",
       "      <th>via</th>\n",
       "      <th>DENOMINAZIONE</th>\n",
       "      <th>DESCRITTIVO</th>\n",
       "      <th>similarity</th>\n",
       "    </tr>\n",
       "  </thead>\n",
       "  <tbody>\n",
       "    <tr>\n",
       "      <th>3087</th>\n",
       "      <td>612</td>\n",
       "      <td>DANTE ALIGHIERI</td>\n",
       "      <td>DANTE</td>\n",
       "      <td>DANTE</td>\n",
       "      <td>50.000000</td>\n",
       "    </tr>\n",
       "    <tr>\n",
       "      <th>2558</th>\n",
       "      <td>1524</td>\n",
       "      <td>GRAZIANO IMPERATORE</td>\n",
       "      <td>GRAZIANO</td>\n",
       "      <td>GRAZIANO</td>\n",
       "      <td>59.259259</td>\n",
       "    </tr>\n",
       "    <tr>\n",
       "      <th>3322</th>\n",
       "      <td>1524</td>\n",
       "      <td>GRAZIANO IMPERATORE</td>\n",
       "      <td>GRAZIANO</td>\n",
       "      <td>GRAZIANO</td>\n",
       "      <td>59.259259</td>\n",
       "    </tr>\n",
       "    <tr>\n",
       "      <th>2308</th>\n",
       "      <td>6380</td>\n",
       "      <td>TIZIANO VECELLIO</td>\n",
       "      <td>TIZIANO</td>\n",
       "      <td>TIZIANO</td>\n",
       "      <td>60.869565</td>\n",
       "    </tr>\n",
       "    <tr>\n",
       "      <th>3453</th>\n",
       "      <td>6380</td>\n",
       "      <td>TIZIANO VECELLIO</td>\n",
       "      <td>TIZIANO</td>\n",
       "      <td>TIZIANO</td>\n",
       "      <td>60.869565</td>\n",
       "    </tr>\n",
       "    <tr>\n",
       "      <th>363</th>\n",
       "      <td>7158</td>\n",
       "      <td>COLONNA MARCO ANTONIO</td>\n",
       "      <td>COLONNA MARCANTONIO</td>\n",
       "      <td>MARCANTONIO COLONNA</td>\n",
       "      <td>65.000000</td>\n",
       "    </tr>\n",
       "    <tr>\n",
       "      <th>2868</th>\n",
       "      <td>7158</td>\n",
       "      <td>COLONNA MARCO ANTONIO</td>\n",
       "      <td>COLONNA MARCANTONIO</td>\n",
       "      <td>MARCANTONIO COLONNA</td>\n",
       "      <td>65.000000</td>\n",
       "    </tr>\n",
       "    <tr>\n",
       "      <th>3612</th>\n",
       "      <td>7158</td>\n",
       "      <td>COLONNA MARCO ANTONIO</td>\n",
       "      <td>COLONNA MARCANTONIO</td>\n",
       "      <td>MARCANTONIO COLONNA</td>\n",
       "      <td>65.000000</td>\n",
       "    </tr>\n",
       "    <tr>\n",
       "      <th>32</th>\n",
       "      <td>1111</td>\n",
       "      <td>CSO COMO</td>\n",
       "      <td>COMO</td>\n",
       "      <td>COMO</td>\n",
       "      <td>66.666667</td>\n",
       "    </tr>\n",
       "    <tr>\n",
       "      <th>1572</th>\n",
       "      <td>4144</td>\n",
       "      <td>DON BOSCO</td>\n",
       "      <td>BOSCO DON GIOVANNI</td>\n",
       "      <td>DON GIOVANNI BOSCO</td>\n",
       "      <td>66.666667</td>\n",
       "    </tr>\n",
       "    <tr>\n",
       "      <th>1573</th>\n",
       "      <td>4144</td>\n",
       "      <td>DON BOSCO</td>\n",
       "      <td>BOSCO DON GIOVANNI</td>\n",
       "      <td>DON GIOVANNI BOSCO</td>\n",
       "      <td>66.666667</td>\n",
       "    </tr>\n",
       "    <tr>\n",
       "      <th>3298</th>\n",
       "      <td>4144</td>\n",
       "      <td>DON BOSCO</td>\n",
       "      <td>BOSCO DON GIOVANNI</td>\n",
       "      <td>DON GIOVANNI BOSCO</td>\n",
       "      <td>66.666667</td>\n",
       "    </tr>\n",
       "    <tr>\n",
       "      <th>3631</th>\n",
       "      <td>4144</td>\n",
       "      <td>DON BOSCO</td>\n",
       "      <td>BOSCO DON GIOVANNI</td>\n",
       "      <td>DON GIOVANNI BOSCO</td>\n",
       "      <td>66.666667</td>\n",
       "    </tr>\n",
       "    <tr>\n",
       "      <th>2223</th>\n",
       "      <td>6551</td>\n",
       "      <td>MURILLO S.B.</td>\n",
       "      <td>MURILLO SEBASTIANO BARTOLOMEO</td>\n",
       "      <td>MURILLO</td>\n",
       "      <td>73.684211</td>\n",
       "    </tr>\n",
       "    <tr>\n",
       "      <th>3490</th>\n",
       "      <td>6551</td>\n",
       "      <td>MURILLO S.B.</td>\n",
       "      <td>MURILLO SEBASTIANO BARTOLOMEO</td>\n",
       "      <td>MURILLO</td>\n",
       "      <td>73.684211</td>\n",
       "    </tr>\n",
       "  </tbody>\n",
       "</table>\n",
       "</div>"
      ],
      "text/plain": [
       "      cod_via                    via                  DENOMINAZIONE  \\\n",
       "3087      612        DANTE ALIGHIERI                          DANTE   \n",
       "2558     1524    GRAZIANO IMPERATORE                       GRAZIANO   \n",
       "3322     1524    GRAZIANO IMPERATORE                       GRAZIANO   \n",
       "2308     6380       TIZIANO VECELLIO                       TIZIANO    \n",
       "3453     6380       TIZIANO VECELLIO                       TIZIANO    \n",
       "363      7158  COLONNA MARCO ANTONIO            COLONNA MARCANTONIO   \n",
       "2868     7158  COLONNA MARCO ANTONIO            COLONNA MARCANTONIO   \n",
       "3612     7158  COLONNA MARCO ANTONIO            COLONNA MARCANTONIO   \n",
       "32       1111               CSO COMO                           COMO   \n",
       "1572     4144              DON BOSCO             BOSCO DON GIOVANNI   \n",
       "1573     4144              DON BOSCO             BOSCO DON GIOVANNI   \n",
       "3298     4144              DON BOSCO             BOSCO DON GIOVANNI   \n",
       "3631     4144              DON BOSCO             BOSCO DON GIOVANNI   \n",
       "2223     6551           MURILLO S.B.  MURILLO SEBASTIANO BARTOLOMEO   \n",
       "3490     6551           MURILLO S.B.  MURILLO SEBASTIANO BARTOLOMEO   \n",
       "\n",
       "              DESCRITTIVO  similarity  \n",
       "3087                DANTE   50.000000  \n",
       "2558             GRAZIANO   59.259259  \n",
       "3322             GRAZIANO   59.259259  \n",
       "2308              TIZIANO   60.869565  \n",
       "3453              TIZIANO   60.869565  \n",
       "363   MARCANTONIO COLONNA   65.000000  \n",
       "2868  MARCANTONIO COLONNA   65.000000  \n",
       "3612  MARCANTONIO COLONNA   65.000000  \n",
       "32                   COMO   66.666667  \n",
       "1572   DON GIOVANNI BOSCO   66.666667  \n",
       "1573   DON GIOVANNI BOSCO   66.666667  \n",
       "3298   DON GIOVANNI BOSCO   66.666667  \n",
       "3631   DON GIOVANNI BOSCO   66.666667  \n",
       "2223              MURILLO   73.684211  \n",
       "3490              MURILLO   73.684211  "
      ]
     },
     "execution_count": 33,
     "metadata": {},
     "output_type": "execute_result"
    }
   ],
   "source": [
    "# Function to normalize the names by removing extra spaces, converting to lowercase, and sorting words\n",
    "def normalize_string(s):\n",
    "\n",
    "    #to remove specific pattern contained in the data\n",
    "    s = re.sub(r\"sant'\\s*\", \"sant'\", s.lower())  # Fix spaces around 'sant'\n",
    "    s = re.sub(r\"dell'\\s*\", \"dell'\", s.lower())  # Fix spaces around 'dell\n",
    "    s = re.sub(r\"[()]\", \"\", s) # Remove the parenthesis\n",
    "    \n",
    "    # Split the string into words\n",
    "    words = s.strip().split()\n",
    "    \n",
    "    # Sort the words alphabetically\n",
    "    words.sort()\n",
    "    \n",
    "    # Join the words back together and convert to lowercase\n",
    "    return \" \".join(words)\n",
    "\n",
    "# Function to compute the edit distance between two strings (after normalization)\n",
    "def calculate_similarity(str1, str2):\n",
    "    return fuzz.ratio(str1, str2)\n",
    "\n",
    "# Merge new_SERVICES with viario on 'cod_via' and 'CODICE_VIA' to bring in 'DESCRITTIVO'\n",
    "merged_df = new_SERVICES.merge(viario[['CODICE_VIA', 'DESCRITTIVO', 'DENOMINAZIONE']], left_on='cod_via', right_on='CODICE_VIA', how='left')\n",
    "\n",
    "# Normalize 'via' and 'DESCRITTIVO' columns\n",
    "merged_df['normalized_via'] = merged_df['via'].apply(normalize_string)\n",
    "merged_df['normalized_descrittivo'] = merged_df['DESCRITTIVO'].apply(normalize_string)\n",
    "merged_df['normalized_denominazione'] = merged_df['DENOMINAZIONE'].apply(normalize_string)\n",
    "\n",
    "# Calculate the similarity between normalized values using edit distance\n",
    "merged_df['similarity'] = merged_df.apply(lambda row: max(calculate_similarity(row['normalized_via'], row['normalized_descrittivo']), calculate_similarity(row['normalized_via'], row['normalized_denominazione'])), axis=1)\n",
    "\n",
    "# Print rows where the similarity is below a certain threshold (e.g., 80)\n",
    "threshold = 75\n",
    "non_matching_rows = merged_df[merged_df['similarity'] < threshold]\n",
    "\n",
    "# Show the rows with low similarity\n",
    "print(f\"Rows where normalized 'via' and 'DESCRITTIVO'/'DENOMINAZIONE' are not similar enough (below {threshold}% similarity):\")\n",
    "non_matching_rows[['cod_via', 'via', 'DENOMINAZIONE', 'DESCRITTIVO', 'similarity']].sort_values(by=\"similarity\", ascending=True)"
   ]
  },
  {
   "cell_type": "markdown",
   "id": "caa276e1",
   "metadata": {
    "papermill": {
     "duration": 0.024628,
     "end_time": "2025-01-17T16:35:07.796149",
     "exception": false,
     "start_time": "2025-01-17T16:35:07.771521",
     "status": "completed"
    },
    "tags": []
   },
   "source": [
    "Since these values with similarity lower than 75% match the respective addresses semantically, the `via` column can now be standardized to match the format of the `viario.DESCRITTIVO` column."
   ]
  },
  {
   "cell_type": "code",
   "execution_count": 34,
   "id": "c3726626",
   "metadata": {
    "execution": {
     "iopub.execute_input": "2025-01-17T16:35:07.837831Z",
     "iopub.status.busy": "2025-01-17T16:35:07.837423Z",
     "iopub.status.idle": "2025-01-17T16:35:07.856932Z",
     "shell.execute_reply": "2025-01-17T16:35:07.855620Z"
    },
    "papermill": {
     "duration": 0.04164,
     "end_time": "2025-01-17T16:35:07.858744",
     "exception": false,
     "start_time": "2025-01-17T16:35:07.817104",
     "status": "completed"
    },
    "tags": []
   },
   "outputs": [
    {
     "data": {
      "text/html": [
       "<div>\n",
       "<style scoped>\n",
       "    .dataframe tbody tr th:only-of-type {\n",
       "        vertical-align: middle;\n",
       "    }\n",
       "\n",
       "    .dataframe tbody tr th {\n",
       "        vertical-align: top;\n",
       "    }\n",
       "\n",
       "    .dataframe thead th {\n",
       "        text-align: right;\n",
       "    }\n",
       "</style>\n",
       "<table border=\"1\" class=\"dataframe\">\n",
       "  <thead>\n",
       "    <tr style=\"text-align: right;\">\n",
       "      <th></th>\n",
       "      <th>t_es</th>\n",
       "      <th>ubic</th>\n",
       "      <th>t_via</th>\n",
       "      <th>via</th>\n",
       "      <th>civ</th>\n",
       "      <th>cod_via</th>\n",
       "      <th>zd</th>\n",
       "      <th>sup_alt</th>\n",
       "      <th>sup_lav</th>\n",
       "    </tr>\n",
       "  </thead>\n",
       "  <tbody>\n",
       "    <tr>\n",
       "      <th>0</th>\n",
       "      <td>NaN</td>\n",
       "      <td>LGO DEI GELSOMINI N. 10 (z.d. 6)</td>\n",
       "      <td>Largo</td>\n",
       "      <td>DEI GELSOMINI</td>\n",
       "      <td>10</td>\n",
       "      <td>5394</td>\n",
       "      <td>6</td>\n",
       "      <td>NaN</td>\n",
       "      <td>55.0</td>\n",
       "    </tr>\n",
       "    <tr>\n",
       "      <th>1</th>\n",
       "      <td>Centro Massaggi</td>\n",
       "      <td>PZA FIDIA N. 3 (z.d. 9)</td>\n",
       "      <td>Piazza</td>\n",
       "      <td>FIDIA</td>\n",
       "      <td>3</td>\n",
       "      <td>1144</td>\n",
       "      <td>9</td>\n",
       "      <td>2.0</td>\n",
       "      <td>28.0</td>\n",
       "    </tr>\n",
       "    <tr>\n",
       "      <th>2</th>\n",
       "      <td>Centro Benessere</td>\n",
       "      <td>VIA ADIGE N. 10 (z.d. 5)</td>\n",
       "      <td>Via</td>\n",
       "      <td>ADIGE</td>\n",
       "      <td>10</td>\n",
       "      <td>4216</td>\n",
       "      <td>5</td>\n",
       "      <td>2.0</td>\n",
       "      <td>27.0</td>\n",
       "    </tr>\n",
       "    <tr>\n",
       "      <th>3</th>\n",
       "      <td>Truccatore</td>\n",
       "      <td>VIA BARACCHINI FLAVIO N. 9 (z.d. 1)</td>\n",
       "      <td>Via</td>\n",
       "      <td>FLAVIO BARACCHINI</td>\n",
       "      <td>9</td>\n",
       "      <td>356</td>\n",
       "      <td>1</td>\n",
       "      <td>NaN</td>\n",
       "      <td>NaN</td>\n",
       "    </tr>\n",
       "    <tr>\n",
       "      <th>4</th>\n",
       "      <td>NaN</td>\n",
       "      <td>VIA BERGAMO N. 12 (z.d. 4)</td>\n",
       "      <td>Via</td>\n",
       "      <td>BERGAMO</td>\n",
       "      <td>12</td>\n",
       "      <td>3189</td>\n",
       "      <td>4</td>\n",
       "      <td>NaN</td>\n",
       "      <td>50.0</td>\n",
       "    </tr>\n",
       "  </tbody>\n",
       "</table>\n",
       "</div>"
      ],
      "text/plain": [
       "               t_es                                 ubic   t_via  \\\n",
       "0               NaN     LGO DEI GELSOMINI N. 10 (z.d. 6)   Largo   \n",
       "1   Centro Massaggi              PZA FIDIA N. 3 (z.d. 9)  Piazza   \n",
       "2  Centro Benessere             VIA ADIGE N. 10 (z.d. 5)     Via   \n",
       "3        Truccatore  VIA BARACCHINI FLAVIO N. 9 (z.d. 1)     Via   \n",
       "4               NaN           VIA BERGAMO N. 12 (z.d. 4)     Via   \n",
       "\n",
       "                 via civ  cod_via zd  sup_alt  sup_lav  \n",
       "0      DEI GELSOMINI  10     5394  6      NaN     55.0  \n",
       "1              FIDIA   3     1144  9      2.0     28.0  \n",
       "2              ADIGE  10     4216  5      2.0     27.0  \n",
       "3  FLAVIO BARACCHINI   9      356  1      NaN      NaN  \n",
       "4            BERGAMO  12     3189  4      NaN     50.0  "
      ]
     },
     "execution_count": 34,
     "metadata": {},
     "output_type": "execute_result"
    }
   ],
   "source": [
    "# Merge new_SERVICES with viario on the matching cod_via and CODICE_VIA\n",
    "new_SERVICES = new_SERVICES.merge(viario[['CODICE_VIA', 'DESCRITTIVO']], \n",
    "                                  left_on='cod_via', right_on='CODICE_VIA', \n",
    "                                  how='left')\n",
    "\n",
    "# Update the via column with the corresponding DESCRITTIVO value\n",
    "new_SERVICES['via'] = new_SERVICES['DESCRITTIVO']\n",
    "\n",
    "# Drop the extra columns (if needed)\n",
    "new_SERVICES.drop(columns=['CODICE_VIA', 'DESCRITTIVO'], inplace=True)\n",
    "new_SERVICES.head()"
   ]
  },
  {
   "cell_type": "markdown",
   "id": "7dd9cfb0",
   "metadata": {
    "papermill": {
     "duration": 0.020232,
     "end_time": "2025-01-17T16:35:07.898853",
     "exception": false,
     "start_time": "2025-01-17T16:35:07.878621",
     "status": "completed"
    },
    "tags": []
   },
   "source": [
    "## UBIC: Structuring and Format Changing\n",
    "We process the `ubic` field to extract and organize its contents into distinct components: `ubic_t_via` (street type), `ubic_via` (street name), `ubic_civ` (street number), `ubic_zd` (zone description), and `note` (additional information). This step allows us to compare these extracted values with the corresponding columns that share similar semantic meanings (`t_via`, `via`, `civ`, and `zd`). \n",
    "\n",
    "Once the comparison is complete, we remove the `ubic` field and its derived columns to eliminate redundancy. \n",
    "\n",
    "This approach ensures a cleaner and more structured dataset for further analysis.\n",
    "\n",
    "**Example**\n",
    "\n",
    "Given the following data:\n",
    "\n",
    "| t_es  | ubic | t_via | via | civ | cod_via | zd | sup_alt | sup_lav | \n",
    "|-------|------|-------|-----|-----|---------|----|---------|---------|\n",
    "| Tipo A - Estetica Manuale;Tipo C - Trattamenti Estetici Dimagrimento | ALZ NAVIGLIO PAVESE N. 8 int.attivita' di parrucchiere; (z.d. 6) | ALZ | NAVIGLIO PAVESE | 8 | 5161.0 | 6 | NaN | NaN |\n",
    "\n",
    "The updated record becomes:\n",
    "\n",
    "| t_es  | t_via | via | civ | cod_via | zd | sup_alt | sup_lav | ubic_t_via | ubic_via | ubic_civ | ubic_zd | note |\n",
    "|-------|-------|-----|-----|---------|----|---------|---------|------------|----------|----------|--------|------|\n",
    "| Tipo A - Estetica Manuale;Tipo C - Trattamenti Estetici Dimagrimento  | ALZ | NAVIGLIO PAVESE | 8 | 5161.0 | 6 | NaN | NaN | ALZ | NAVIGLIO PAVESE | 8 | 6 | int.attivita' di parrucchiere |\n",
    "\n",
    "**Explanation**:\n",
    "\n",
    "In this transformation:\n",
    "- The `via` column value `NAVIGLIO PAVESE` had the redundant prefix `ALZ` matching the value in the `t_via` column.\n",
    "- The prefix `ALZ` is removed from the `via` column, leaving the unique portion: `NAVIGLIO PAVESE`.\n",
    "- The `ubic` field remains the same in structure but is used to extract the relevant information, including the street name, number, and zone description, which are now placed in separate columns (`ubic_via`, `ubic_civ`, `ubic_zd`), while any additional information (e.g., `int.attivita' di parrucchiere`) is placed in the `note` column."
   ]
  },
  {
   "cell_type": "code",
   "execution_count": 35,
   "id": "4cd96fba",
   "metadata": {
    "execution": {
     "iopub.execute_input": "2025-01-17T16:35:07.938519Z",
     "iopub.status.busy": "2025-01-17T16:35:07.938162Z",
     "iopub.status.idle": "2025-01-17T16:35:09.468875Z",
     "shell.execute_reply": "2025-01-17T16:35:09.467821Z"
    },
    "papermill": {
     "duration": 1.552494,
     "end_time": "2025-01-17T16:35:09.470539",
     "exception": false,
     "start_time": "2025-01-17T16:35:07.918045",
     "status": "completed"
    },
    "tags": []
   },
   "outputs": [
    {
     "data": {
      "text/html": [
       "<div>\n",
       "<style scoped>\n",
       "    .dataframe tbody tr th:only-of-type {\n",
       "        vertical-align: middle;\n",
       "    }\n",
       "\n",
       "    .dataframe tbody tr th {\n",
       "        vertical-align: top;\n",
       "    }\n",
       "\n",
       "    .dataframe thead th {\n",
       "        text-align: right;\n",
       "    }\n",
       "</style>\n",
       "<table border=\"1\" class=\"dataframe\">\n",
       "  <thead>\n",
       "    <tr style=\"text-align: right;\">\n",
       "      <th></th>\n",
       "      <th>t_es</th>\n",
       "      <th>ubic</th>\n",
       "      <th>t_via</th>\n",
       "      <th>via</th>\n",
       "      <th>civ</th>\n",
       "      <th>cod_via</th>\n",
       "      <th>zd</th>\n",
       "      <th>sup_alt</th>\n",
       "      <th>sup_lav</th>\n",
       "      <th>ubic_t_via</th>\n",
       "      <th>ubic_via</th>\n",
       "      <th>ubic_civ</th>\n",
       "      <th>ubic_zd</th>\n",
       "      <th>note</th>\n",
       "    </tr>\n",
       "  </thead>\n",
       "  <tbody>\n",
       "    <tr>\n",
       "      <th>0</th>\n",
       "      <td>NaN</td>\n",
       "      <td>LGO DEI GELSOMINI N. 10 (z.d. 6)</td>\n",
       "      <td>Largo</td>\n",
       "      <td>DEI GELSOMINI</td>\n",
       "      <td>10</td>\n",
       "      <td>5394</td>\n",
       "      <td>6</td>\n",
       "      <td>NaN</td>\n",
       "      <td>55.0</td>\n",
       "      <td>LGO</td>\n",
       "      <td>DEI GELSOMINI</td>\n",
       "      <td>10</td>\n",
       "      <td>6</td>\n",
       "      <td>NaN</td>\n",
       "    </tr>\n",
       "    <tr>\n",
       "      <th>1</th>\n",
       "      <td>Centro Massaggi</td>\n",
       "      <td>PZA FIDIA N. 3 (z.d. 9)</td>\n",
       "      <td>Piazza</td>\n",
       "      <td>FIDIA</td>\n",
       "      <td>3</td>\n",
       "      <td>1144</td>\n",
       "      <td>9</td>\n",
       "      <td>2.0</td>\n",
       "      <td>28.0</td>\n",
       "      <td>PZA</td>\n",
       "      <td>FIDIA</td>\n",
       "      <td>3</td>\n",
       "      <td>9</td>\n",
       "      <td>NaN</td>\n",
       "    </tr>\n",
       "    <tr>\n",
       "      <th>2</th>\n",
       "      <td>Centro Benessere</td>\n",
       "      <td>VIA ADIGE N. 10 (z.d. 5)</td>\n",
       "      <td>Via</td>\n",
       "      <td>ADIGE</td>\n",
       "      <td>10</td>\n",
       "      <td>4216</td>\n",
       "      <td>5</td>\n",
       "      <td>2.0</td>\n",
       "      <td>27.0</td>\n",
       "      <td>VIA</td>\n",
       "      <td>ADIGE</td>\n",
       "      <td>10</td>\n",
       "      <td>5</td>\n",
       "      <td>NaN</td>\n",
       "    </tr>\n",
       "    <tr>\n",
       "      <th>3</th>\n",
       "      <td>Truccatore</td>\n",
       "      <td>VIA BARACCHINI FLAVIO N. 9 (z.d. 1)</td>\n",
       "      <td>Via</td>\n",
       "      <td>FLAVIO BARACCHINI</td>\n",
       "      <td>9</td>\n",
       "      <td>356</td>\n",
       "      <td>1</td>\n",
       "      <td>NaN</td>\n",
       "      <td>NaN</td>\n",
       "      <td>VIA</td>\n",
       "      <td>BARACCHINI FLAVIO</td>\n",
       "      <td>9</td>\n",
       "      <td>1</td>\n",
       "      <td>NaN</td>\n",
       "    </tr>\n",
       "    <tr>\n",
       "      <th>4</th>\n",
       "      <td>NaN</td>\n",
       "      <td>VIA BERGAMO N. 12 (z.d. 4)</td>\n",
       "      <td>Via</td>\n",
       "      <td>BERGAMO</td>\n",
       "      <td>12</td>\n",
       "      <td>3189</td>\n",
       "      <td>4</td>\n",
       "      <td>NaN</td>\n",
       "      <td>50.0</td>\n",
       "      <td>VIA</td>\n",
       "      <td>BERGAMO</td>\n",
       "      <td>12</td>\n",
       "      <td>4</td>\n",
       "      <td>NaN</td>\n",
       "    </tr>\n",
       "  </tbody>\n",
       "</table>\n",
       "</div>"
      ],
      "text/plain": [
       "               t_es                                 ubic   t_via  \\\n",
       "0               NaN     LGO DEI GELSOMINI N. 10 (z.d. 6)   Largo   \n",
       "1   Centro Massaggi              PZA FIDIA N. 3 (z.d. 9)  Piazza   \n",
       "2  Centro Benessere             VIA ADIGE N. 10 (z.d. 5)     Via   \n",
       "3        Truccatore  VIA BARACCHINI FLAVIO N. 9 (z.d. 1)     Via   \n",
       "4               NaN           VIA BERGAMO N. 12 (z.d. 4)     Via   \n",
       "\n",
       "                 via civ  cod_via zd  sup_alt  sup_lav ubic_t_via  \\\n",
       "0      DEI GELSOMINI  10     5394  6      NaN     55.0        LGO   \n",
       "1              FIDIA   3     1144  9      2.0     28.0        PZA   \n",
       "2              ADIGE  10     4216  5      2.0     27.0        VIA   \n",
       "3  FLAVIO BARACCHINI   9      356  1      NaN      NaN        VIA   \n",
       "4            BERGAMO  12     3189  4      NaN     50.0        VIA   \n",
       "\n",
       "            ubic_via ubic_civ ubic_zd note  \n",
       "0      DEI GELSOMINI       10       6  NaN  \n",
       "1              FIDIA        3       9  NaN  \n",
       "2              ADIGE       10       5  NaN  \n",
       "3  BARACCHINI FLAVIO        9       1  NaN  \n",
       "4            BERGAMO       12       4  NaN  "
      ]
     },
     "execution_count": 35,
     "metadata": {},
     "output_type": "execute_result"
    }
   ],
   "source": [
    "new_SERVICES['ubic'] = new_SERVICES['ubic'].fillna(\"\").astype(str)\n",
    "\n",
    "def split_ubicazione(ubicazione):\n",
    "    # Initialize variables\n",
    "    tipo_via = np.nan\n",
    "    via = np.nan\n",
    "    civico = np.nan\n",
    "    zd = np.nan\n",
    "    note = np.nan\n",
    "    \n",
    "    ubicazione = ubicazione.replace(\"Ã¸\", \"A\")   # Handle lone 'Ã'\n",
    "    \n",
    "    # Split the string into parts\n",
    "    parts = ubicazione.split(\" \")\n",
    "\n",
    "    if parts[0].lower() == \"vie\":\n",
    "        parts[0] = \"via\"\n",
    "    \n",
    "    # Extract \"Tipo Via\" (first word if valid)\n",
    "    if parts[0].lower() in tipovia.DESC_ABBREVIATA.str.lower().unique():\n",
    "        tipo_via = parts[0]\n",
    "        parts = parts[1:]  # Remove 'Tipo Via' from further processing\n",
    "\n",
    "    # Find \"Civico\" (number after \"N.\" or \"num.\")\n",
    "    match = re.search(r'\\b(?:N\\.|num\\.)\\s*([\\w]+)', ubicazione, re.IGNORECASE)\n",
    "    if match:\n",
    "        civico = match.group(1).strip(\";\")\n",
    "        parts = re.sub(r'\\b(?:N\\.|num\\.)\\s*[\\w]+', '', ubicazione).split()\n",
    "\n",
    "    # Extract \"ZD\" (zone description)\n",
    "    match_zd = re.search(r'\\(z\\.d\\.\\s*(\\d+)\\)', ubicazione, re.IGNORECASE)\n",
    "    if match_zd:\n",
    "        zd = match_zd.group(1)\n",
    "        parts = re.sub(r'\\(z\\.d\\.\\s*\\d+\\)', '', \" \".join(parts)).split()\n",
    "\n",
    "    # To put together strings of the note like '1A' and 'piano' \n",
    "    # Check if there are at least three words to avoid IndexError\n",
    "    if len(parts) > 3:\n",
    "        # Define a regular expression to match \"number + letter\" (e.g., \"1A\")\n",
    "        pattern = r\"^\\d+[A-Za-z]$\"\n",
    "        \n",
    "        # Check if either parts[-2] or parts[-1] matches the pattern\n",
    "        if re.match(pattern, parts[-2]) or re.match(pattern, parts[-1]):\n",
    "            # Concatenate third-to-last and second-to-last parts\n",
    "            parts[-2] = parts[-2] + \" \" + parts[-1]\n",
    "            del parts[-1]  # Remove the last word after merging\n",
    "\n",
    "    # Identify and extract the \"Via\" (remaining uppercase parts)\n",
    "    via_parts = []\n",
    "    note_parts = []\n",
    "    for part in parts:\n",
    "        if part.isupper():  # Uppercase letters are part of \"Via\"\n",
    "            via_parts.append(part)\n",
    "        else:  # Lowercase letters are considered \"Note\"\n",
    "            note_parts.append(part)\n",
    "\n",
    "    # Construct the \"Via\" without the \"Tipo Via\"\n",
    "    via_parts = [part for part in via_parts if part != tipo_via]  # Remove 'tipo_via' from 'via_parts'\n",
    "    via = \" \".join(via_parts).strip()\n",
    "    via =  via.replace(\";\", \"\")\n",
    "    note = \" \".join(note_parts).strip(\";\") if note_parts else np.nan\n",
    "    if note == \"\":\n",
    "        note = np.nan\n",
    "    \n",
    "    # Remove leading zeros unless the value contains alphabetic characters\n",
    "    if civico and civico.isdigit():\n",
    "        civico = str(int(civico))  # Remove leading zeros by converting to an integer\n",
    "    elif civico:  # Preserve alphanumeric strings like '012B'\n",
    "        civico = civico.lstrip(\"0\").upper()  # Strip leading zeros but keep characters intact\n",
    "\n",
    "    return tipo_via, via, civico, zd, note\n",
    "\n",
    "# Apply the function to create new columns\n",
    "new_SERVICES[['ubic_t_via', 'ubic_via', 'ubic_civ', 'ubic_zd', 'note']] = new_SERVICES['ubic'].apply(lambda x: pd.Series(split_ubicazione(x)))\n",
    "new_SERVICES.head()"
   ]
  },
  {
   "cell_type": "code",
   "execution_count": 36,
   "id": "9b886753",
   "metadata": {
    "execution": {
     "iopub.execute_input": "2025-01-17T16:35:09.511657Z",
     "iopub.status.busy": "2025-01-17T16:35:09.511245Z",
     "iopub.status.idle": "2025-01-17T16:35:09.528093Z",
     "shell.execute_reply": "2025-01-17T16:35:09.527094Z"
    },
    "papermill": {
     "duration": 0.03907,
     "end_time": "2025-01-17T16:35:09.529597",
     "exception": false,
     "start_time": "2025-01-17T16:35:09.490527",
     "status": "completed"
    },
    "tags": []
   },
   "outputs": [
    {
     "data": {
      "text/html": [
       "<div>\n",
       "<style scoped>\n",
       "    .dataframe tbody tr th:only-of-type {\n",
       "        vertical-align: middle;\n",
       "    }\n",
       "\n",
       "    .dataframe tbody tr th {\n",
       "        vertical-align: top;\n",
       "    }\n",
       "\n",
       "    .dataframe thead th {\n",
       "        text-align: right;\n",
       "    }\n",
       "</style>\n",
       "<table border=\"1\" class=\"dataframe\">\n",
       "  <thead>\n",
       "    <tr style=\"text-align: right;\">\n",
       "      <th></th>\n",
       "      <th>t_es</th>\n",
       "      <th>t_via</th>\n",
       "      <th>via</th>\n",
       "      <th>civ</th>\n",
       "      <th>cod_via</th>\n",
       "      <th>zd</th>\n",
       "      <th>sup_alt</th>\n",
       "      <th>sup_lav</th>\n",
       "      <th>ubic_t_via</th>\n",
       "      <th>ubic_via</th>\n",
       "      <th>ubic_civ</th>\n",
       "      <th>ubic_zd</th>\n",
       "      <th>note</th>\n",
       "    </tr>\n",
       "  </thead>\n",
       "  <tbody>\n",
       "    <tr>\n",
       "      <th>0</th>\n",
       "      <td>NaN</td>\n",
       "      <td>Largo</td>\n",
       "      <td>DEI GELSOMINI</td>\n",
       "      <td>10</td>\n",
       "      <td>5394</td>\n",
       "      <td>6</td>\n",
       "      <td>NaN</td>\n",
       "      <td>55.0</td>\n",
       "      <td>LGO</td>\n",
       "      <td>DEI GELSOMINI</td>\n",
       "      <td>10</td>\n",
       "      <td>6</td>\n",
       "      <td>NaN</td>\n",
       "    </tr>\n",
       "    <tr>\n",
       "      <th>1</th>\n",
       "      <td>Centro Massaggi</td>\n",
       "      <td>Piazza</td>\n",
       "      <td>FIDIA</td>\n",
       "      <td>3</td>\n",
       "      <td>1144</td>\n",
       "      <td>9</td>\n",
       "      <td>2.0</td>\n",
       "      <td>28.0</td>\n",
       "      <td>PZA</td>\n",
       "      <td>FIDIA</td>\n",
       "      <td>3</td>\n",
       "      <td>9</td>\n",
       "      <td>NaN</td>\n",
       "    </tr>\n",
       "    <tr>\n",
       "      <th>2</th>\n",
       "      <td>Centro Benessere</td>\n",
       "      <td>Via</td>\n",
       "      <td>ADIGE</td>\n",
       "      <td>10</td>\n",
       "      <td>4216</td>\n",
       "      <td>5</td>\n",
       "      <td>2.0</td>\n",
       "      <td>27.0</td>\n",
       "      <td>VIA</td>\n",
       "      <td>ADIGE</td>\n",
       "      <td>10</td>\n",
       "      <td>5</td>\n",
       "      <td>NaN</td>\n",
       "    </tr>\n",
       "    <tr>\n",
       "      <th>3</th>\n",
       "      <td>Truccatore</td>\n",
       "      <td>Via</td>\n",
       "      <td>FLAVIO BARACCHINI</td>\n",
       "      <td>9</td>\n",
       "      <td>356</td>\n",
       "      <td>1</td>\n",
       "      <td>NaN</td>\n",
       "      <td>NaN</td>\n",
       "      <td>VIA</td>\n",
       "      <td>BARACCHINI FLAVIO</td>\n",
       "      <td>9</td>\n",
       "      <td>1</td>\n",
       "      <td>NaN</td>\n",
       "    </tr>\n",
       "    <tr>\n",
       "      <th>4</th>\n",
       "      <td>NaN</td>\n",
       "      <td>Via</td>\n",
       "      <td>BERGAMO</td>\n",
       "      <td>12</td>\n",
       "      <td>3189</td>\n",
       "      <td>4</td>\n",
       "      <td>NaN</td>\n",
       "      <td>50.0</td>\n",
       "      <td>VIA</td>\n",
       "      <td>BERGAMO</td>\n",
       "      <td>12</td>\n",
       "      <td>4</td>\n",
       "      <td>NaN</td>\n",
       "    </tr>\n",
       "  </tbody>\n",
       "</table>\n",
       "</div>"
      ],
      "text/plain": [
       "               t_es   t_via                via civ  cod_via zd  sup_alt  \\\n",
       "0               NaN   Largo      DEI GELSOMINI  10     5394  6      NaN   \n",
       "1   Centro Massaggi  Piazza              FIDIA   3     1144  9      2.0   \n",
       "2  Centro Benessere     Via              ADIGE  10     4216  5      2.0   \n",
       "3        Truccatore     Via  FLAVIO BARACCHINI   9      356  1      NaN   \n",
       "4               NaN     Via            BERGAMO  12     3189  4      NaN   \n",
       "\n",
       "   sup_lav ubic_t_via           ubic_via ubic_civ ubic_zd note  \n",
       "0     55.0        LGO      DEI GELSOMINI       10       6  NaN  \n",
       "1     28.0        PZA              FIDIA        3       9  NaN  \n",
       "2     27.0        VIA              ADIGE       10       5  NaN  \n",
       "3      NaN        VIA  BARACCHINI FLAVIO        9       1  NaN  \n",
       "4     50.0        VIA            BERGAMO       12       4  NaN  "
      ]
     },
     "execution_count": 36,
     "metadata": {},
     "output_type": "execute_result"
    }
   ],
   "source": [
    "new_SERVICES = new_SERVICES.drop(\"ubic\", axis=1)\n",
    "new_SERVICES.head()"
   ]
  },
  {
   "cell_type": "markdown",
   "id": "9d05c67b",
   "metadata": {
    "papermill": {
     "duration": 0.019851,
     "end_time": "2025-01-17T16:35:09.570276",
     "exception": false,
     "start_time": "2025-01-17T16:35:09.550425",
     "status": "completed"
    },
    "tags": []
   },
   "source": [
    "Now we standardize the `ubic_t_via` column with the values from the **tipovia** dataframe. Since we have already ensured that all values in `ubic_t_via` match the corresponding abbreviations from the `DESC_ABBREVIATA` column in **tipovia**, there is no need for additional corrections or formatting. We directly map the `ubic_t_via` values to their corresponding `DESC_ESTESA` values from **tipovia** as `desc_attesa`."
   ]
  },
  {
   "cell_type": "code",
   "execution_count": 37,
   "id": "c8dc8eb9",
   "metadata": {
    "execution": {
     "iopub.execute_input": "2025-01-17T16:35:09.611786Z",
     "iopub.status.busy": "2025-01-17T16:35:09.611341Z",
     "iopub.status.idle": "2025-01-17T16:35:09.630117Z",
     "shell.execute_reply": "2025-01-17T16:35:09.629047Z"
    },
    "papermill": {
     "duration": 0.0415,
     "end_time": "2025-01-17T16:35:09.631801",
     "exception": false,
     "start_time": "2025-01-17T16:35:09.590301",
     "status": "completed"
    },
    "tags": []
   },
   "outputs": [
    {
     "data": {
      "text/html": [
       "<div>\n",
       "<style scoped>\n",
       "    .dataframe tbody tr th:only-of-type {\n",
       "        vertical-align: middle;\n",
       "    }\n",
       "\n",
       "    .dataframe tbody tr th {\n",
       "        vertical-align: top;\n",
       "    }\n",
       "\n",
       "    .dataframe thead th {\n",
       "        text-align: right;\n",
       "    }\n",
       "</style>\n",
       "<table border=\"1\" class=\"dataframe\">\n",
       "  <thead>\n",
       "    <tr style=\"text-align: right;\">\n",
       "      <th></th>\n",
       "      <th>t_es</th>\n",
       "      <th>t_via</th>\n",
       "      <th>via</th>\n",
       "      <th>civ</th>\n",
       "      <th>cod_via</th>\n",
       "      <th>zd</th>\n",
       "      <th>sup_alt</th>\n",
       "      <th>sup_lav</th>\n",
       "      <th>ubic_t_via</th>\n",
       "      <th>ubic_via</th>\n",
       "      <th>ubic_civ</th>\n",
       "      <th>ubic_zd</th>\n",
       "      <th>note</th>\n",
       "    </tr>\n",
       "  </thead>\n",
       "  <tbody>\n",
       "    <tr>\n",
       "      <th>0</th>\n",
       "      <td>NaN</td>\n",
       "      <td>Largo</td>\n",
       "      <td>DEI GELSOMINI</td>\n",
       "      <td>10</td>\n",
       "      <td>5394</td>\n",
       "      <td>6</td>\n",
       "      <td>NaN</td>\n",
       "      <td>55.0</td>\n",
       "      <td>Largo</td>\n",
       "      <td>DEI GELSOMINI</td>\n",
       "      <td>10</td>\n",
       "      <td>6</td>\n",
       "      <td>NaN</td>\n",
       "    </tr>\n",
       "    <tr>\n",
       "      <th>1</th>\n",
       "      <td>Centro Massaggi</td>\n",
       "      <td>Piazza</td>\n",
       "      <td>FIDIA</td>\n",
       "      <td>3</td>\n",
       "      <td>1144</td>\n",
       "      <td>9</td>\n",
       "      <td>2.0</td>\n",
       "      <td>28.0</td>\n",
       "      <td>Piazza</td>\n",
       "      <td>FIDIA</td>\n",
       "      <td>3</td>\n",
       "      <td>9</td>\n",
       "      <td>NaN</td>\n",
       "    </tr>\n",
       "    <tr>\n",
       "      <th>2</th>\n",
       "      <td>Centro Benessere</td>\n",
       "      <td>Via</td>\n",
       "      <td>ADIGE</td>\n",
       "      <td>10</td>\n",
       "      <td>4216</td>\n",
       "      <td>5</td>\n",
       "      <td>2.0</td>\n",
       "      <td>27.0</td>\n",
       "      <td>Via</td>\n",
       "      <td>ADIGE</td>\n",
       "      <td>10</td>\n",
       "      <td>5</td>\n",
       "      <td>NaN</td>\n",
       "    </tr>\n",
       "    <tr>\n",
       "      <th>3</th>\n",
       "      <td>Truccatore</td>\n",
       "      <td>Via</td>\n",
       "      <td>FLAVIO BARACCHINI</td>\n",
       "      <td>9</td>\n",
       "      <td>356</td>\n",
       "      <td>1</td>\n",
       "      <td>NaN</td>\n",
       "      <td>NaN</td>\n",
       "      <td>Via</td>\n",
       "      <td>BARACCHINI FLAVIO</td>\n",
       "      <td>9</td>\n",
       "      <td>1</td>\n",
       "      <td>NaN</td>\n",
       "    </tr>\n",
       "    <tr>\n",
       "      <th>4</th>\n",
       "      <td>NaN</td>\n",
       "      <td>Via</td>\n",
       "      <td>BERGAMO</td>\n",
       "      <td>12</td>\n",
       "      <td>3189</td>\n",
       "      <td>4</td>\n",
       "      <td>NaN</td>\n",
       "      <td>50.0</td>\n",
       "      <td>Via</td>\n",
       "      <td>BERGAMO</td>\n",
       "      <td>12</td>\n",
       "      <td>4</td>\n",
       "      <td>NaN</td>\n",
       "    </tr>\n",
       "  </tbody>\n",
       "</table>\n",
       "</div>"
      ],
      "text/plain": [
       "               t_es   t_via                via civ  cod_via zd  sup_alt  \\\n",
       "0               NaN   Largo      DEI GELSOMINI  10     5394  6      NaN   \n",
       "1   Centro Massaggi  Piazza              FIDIA   3     1144  9      2.0   \n",
       "2  Centro Benessere     Via              ADIGE  10     4216  5      2.0   \n",
       "3        Truccatore     Via  FLAVIO BARACCHINI   9      356  1      NaN   \n",
       "4               NaN     Via            BERGAMO  12     3189  4      NaN   \n",
       "\n",
       "   sup_lav ubic_t_via           ubic_via ubic_civ ubic_zd note  \n",
       "0     55.0      Largo      DEI GELSOMINI       10       6  NaN  \n",
       "1     28.0     Piazza              FIDIA        3       9  NaN  \n",
       "2     27.0        Via              ADIGE       10       5  NaN  \n",
       "3      NaN        Via  BARACCHINI FLAVIO        9       1  NaN  \n",
       "4     50.0        Via            BERGAMO       12       4  NaN  "
      ]
     },
     "execution_count": 37,
     "metadata": {},
     "output_type": "execute_result"
    }
   ],
   "source": [
    "# Create a mapping dictionary from tipovia for ubic_t_via\n",
    "ubic_t_via_mapping = dict(zip(tipovia[\"DESC_ABBREVIATA\"].str.lower(), tipovia[\"DESC_ESTESA\"]))\n",
    "\n",
    "# Replace the ubic_t_via values in new_SERVICES with the corresponding DESC_ESTESA values\n",
    "new_SERVICES[\"ubic_t_via\"] = new_SERVICES[\"ubic_t_via\"].str.lower().map(ubic_t_via_mapping)\n",
    "\n",
    "# Check the result\n",
    "new_SERVICES.head()"
   ]
  },
  {
   "cell_type": "markdown",
   "id": "426f218f",
   "metadata": {
    "papermill": {
     "duration": 0.020217,
     "end_time": "2025-01-17T16:35:09.672937",
     "exception": false,
     "start_time": "2025-01-17T16:35:09.652720",
     "status": "completed"
    },
    "tags": []
   },
   "source": [
    "Next, we validate the `ubic_via` column in the dataset by comparing it to the descriptive fields (`DESCRITTIVO` and `DENOMINAZIONE`) from the `viario` dataframe, following a similar process as for the `via` column. <br> First, we normalize the text by converting it to lowercase, removing extraneous spaces and parentheses (while preserving their contents), and sorting the words alphabetically to address potential inconsistencies. Then, we calculate similarity scores between the `ubic_via` column and both `DESCRITTIVO` and `DENOMINAZIONE`. The highest similarity score is selected for each row, and rows with a similarity score below 75% are flagged for further review."
   ]
  },
  {
   "cell_type": "code",
   "execution_count": 38,
   "id": "33866061",
   "metadata": {
    "execution": {
     "iopub.execute_input": "2025-01-17T16:35:09.715164Z",
     "iopub.status.busy": "2025-01-17T16:35:09.714743Z",
     "iopub.status.idle": "2025-01-17T16:35:19.396975Z",
     "shell.execute_reply": "2025-01-17T16:35:19.395906Z"
    },
    "papermill": {
     "duration": 9.705185,
     "end_time": "2025-01-17T16:35:19.398525",
     "exception": false,
     "start_time": "2025-01-17T16:35:09.693340",
     "status": "completed"
    },
    "tags": []
   },
   "outputs": [
    {
     "name": "stderr",
     "output_type": "stream",
     "text": [
      "100%|██████████| 1381/1381 [00:09<00:00, 143.53it/s]"
     ]
    },
    {
     "name": "stdout",
     "output_type": "stream",
     "text": [
      "Rows where normalized 'ubic_via' and 'DESCRITTIVO'/'DENOMINAZIONE' are not similar enough (below 75% Edit Distance similarity):\n"
     ]
    },
    {
     "name": "stderr",
     "output_type": "stream",
     "text": [
      "\n"
     ]
    },
    {
     "data": {
      "text/html": [
       "<div>\n",
       "<style scoped>\n",
       "    .dataframe tbody tr th:only-of-type {\n",
       "        vertical-align: middle;\n",
       "    }\n",
       "\n",
       "    .dataframe tbody tr th {\n",
       "        vertical-align: top;\n",
       "    }\n",
       "\n",
       "    .dataframe thead th {\n",
       "        text-align: right;\n",
       "    }\n",
       "</style>\n",
       "<table border=\"1\" class=\"dataframe\">\n",
       "  <thead>\n",
       "    <tr style=\"text-align: right;\">\n",
       "      <th></th>\n",
       "      <th>measure</th>\n",
       "      <th>similarity</th>\n",
       "      <th>ubic_via</th>\n",
       "      <th>best_denominazione</th>\n",
       "      <th>best_descrittivo</th>\n",
       "      <th>normalized_ubic_via</th>\n",
       "      <th>best_normalized_denominazione</th>\n",
       "      <th>best_normalized_descrittivo</th>\n",
       "    </tr>\n",
       "  </thead>\n",
       "  <tbody>\n",
       "    <tr>\n",
       "      <th>183</th>\n",
       "      <td>EDIT</td>\n",
       "      <td>0.000000</td>\n",
       "      <td></td>\n",
       "      <td>DUOMO (DEL)</td>\n",
       "      <td>DEL DUOMO</td>\n",
       "      <td></td>\n",
       "      <td>del duomo</td>\n",
       "      <td>del duomo</td>\n",
       "    </tr>\n",
       "    <tr>\n",
       "      <th>1172</th>\n",
       "      <td>EDIT</td>\n",
       "      <td>63.157895</td>\n",
       "      <td>GRAZIANO IMPERATORE</td>\n",
       "      <td>VIMERCATI OTTAVIANO</td>\n",
       "      <td>OTTAVIANO VIMERCATI</td>\n",
       "      <td>graziano imperatore</td>\n",
       "      <td>ottaviano vimercati</td>\n",
       "      <td>ottaviano vimercati</td>\n",
       "    </tr>\n",
       "    <tr>\n",
       "      <th>1103</th>\n",
       "      <td>EDIT</td>\n",
       "      <td>64.705882</td>\n",
       "      <td>TIZIANO VECELLIO</td>\n",
       "      <td>AMMIANO MARCELLINO</td>\n",
       "      <td>MARCELLINO AMMIANO</td>\n",
       "      <td>tiziano vecellio</td>\n",
       "      <td>ammiano marcellino</td>\n",
       "      <td>ammiano marcellino</td>\n",
       "    </tr>\n",
       "    <tr>\n",
       "      <th>1265</th>\n",
       "      <td>EDIT</td>\n",
       "      <td>68.750000</td>\n",
       "      <td>DANTE ALIGHIERI</td>\n",
       "      <td>CHIASSERINI DANTE</td>\n",
       "      <td>DANTE CHIASSERINI</td>\n",
       "      <td>alighieri dante</td>\n",
       "      <td>chiasserini dante</td>\n",
       "      <td>chiasserini dante</td>\n",
       "    </tr>\n",
       "    <tr>\n",
       "      <th>292</th>\n",
       "      <td>EDIT</td>\n",
       "      <td>71.428571</td>\n",
       "      <td>COLONNA MARCO ANTONIO</td>\n",
       "      <td>CARLONE CARLO ANTONIO</td>\n",
       "      <td>CARLO ANTONIO CARLONE</td>\n",
       "      <td>antonio colonna marco</td>\n",
       "      <td>antonio carlo carlone</td>\n",
       "      <td>antonio carlo carlone</td>\n",
       "    </tr>\n",
       "    <tr>\n",
       "      <th>...</th>\n",
       "      <td>...</td>\n",
       "      <td>...</td>\n",
       "      <td>...</td>\n",
       "      <td>...</td>\n",
       "      <td>...</td>\n",
       "      <td>...</td>\n",
       "      <td>...</td>\n",
       "      <td>...</td>\n",
       "    </tr>\n",
       "    <tr>\n",
       "      <th>461</th>\n",
       "      <td>EDIT</td>\n",
       "      <td>100.000000</td>\n",
       "      <td>VENINI GIULIO E CORRADO</td>\n",
       "      <td>VENINI GIULIO E CORRADO</td>\n",
       "      <td>GIULIO E CORRADO VENINI</td>\n",
       "      <td>corrado e giulio venini</td>\n",
       "      <td>corrado e giulio venini</td>\n",
       "      <td>corrado e giulio venini</td>\n",
       "    </tr>\n",
       "    <tr>\n",
       "      <th>460</th>\n",
       "      <td>EDIT</td>\n",
       "      <td>100.000000</td>\n",
       "      <td>VEGLIA</td>\n",
       "      <td>VEGLIA</td>\n",
       "      <td>VEGLIA</td>\n",
       "      <td>veglia</td>\n",
       "      <td>veglia</td>\n",
       "      <td>veglia</td>\n",
       "    </tr>\n",
       "    <tr>\n",
       "      <th>459</th>\n",
       "      <td>EDIT</td>\n",
       "      <td>100.000000</td>\n",
       "      <td>VARESE</td>\n",
       "      <td>VARESE</td>\n",
       "      <td>VARESE</td>\n",
       "      <td>varese</td>\n",
       "      <td>varese</td>\n",
       "      <td>varese</td>\n",
       "    </tr>\n",
       "    <tr>\n",
       "      <th>467</th>\n",
       "      <td>EDIT</td>\n",
       "      <td>100.000000</td>\n",
       "      <td>VIMINALE</td>\n",
       "      <td>VIMINALE</td>\n",
       "      <td>VIMINALE</td>\n",
       "      <td>viminale</td>\n",
       "      <td>viminale</td>\n",
       "      <td>viminale</td>\n",
       "    </tr>\n",
       "    <tr>\n",
       "      <th>1380</th>\n",
       "      <td>EDIT</td>\n",
       "      <td>100.000000</td>\n",
       "      <td>NIRONE</td>\n",
       "      <td>NIRONE</td>\n",
       "      <td>NIRONE</td>\n",
       "      <td>nirone</td>\n",
       "      <td>nirone</td>\n",
       "      <td>nirone</td>\n",
       "    </tr>\n",
       "  </tbody>\n",
       "</table>\n",
       "<p>1381 rows × 8 columns</p>\n",
       "</div>"
      ],
      "text/plain": [
       "     measure  similarity                 ubic_via       best_denominazione  \\\n",
       "183     EDIT    0.000000                                       DUOMO (DEL)   \n",
       "1172    EDIT   63.157895      GRAZIANO IMPERATORE      VIMERCATI OTTAVIANO   \n",
       "1103    EDIT   64.705882         TIZIANO VECELLIO       AMMIANO MARCELLINO   \n",
       "1265    EDIT   68.750000          DANTE ALIGHIERI        CHIASSERINI DANTE   \n",
       "292     EDIT   71.428571    COLONNA MARCO ANTONIO    CARLONE CARLO ANTONIO   \n",
       "...      ...         ...                      ...                      ...   \n",
       "461     EDIT  100.000000  VENINI GIULIO E CORRADO  VENINI GIULIO E CORRADO   \n",
       "460     EDIT  100.000000                   VEGLIA                   VEGLIA   \n",
       "459     EDIT  100.000000                   VARESE                   VARESE   \n",
       "467     EDIT  100.000000                 VIMINALE                 VIMINALE   \n",
       "1380    EDIT  100.000000                   NIRONE                   NIRONE   \n",
       "\n",
       "             best_descrittivo      normalized_ubic_via  \\\n",
       "183                 DEL DUOMO                            \n",
       "1172      OTTAVIANO VIMERCATI      graziano imperatore   \n",
       "1103       MARCELLINO AMMIANO         tiziano vecellio   \n",
       "1265        DANTE CHIASSERINI          alighieri dante   \n",
       "292     CARLO ANTONIO CARLONE    antonio colonna marco   \n",
       "...                       ...                      ...   \n",
       "461   GIULIO E CORRADO VENINI  corrado e giulio venini   \n",
       "460                    VEGLIA                   veglia   \n",
       "459                    VARESE                   varese   \n",
       "467                  VIMINALE                 viminale   \n",
       "1380                   NIRONE                   nirone   \n",
       "\n",
       "     best_normalized_denominazione best_normalized_descrittivo  \n",
       "183                      del duomo                   del duomo  \n",
       "1172           ottaviano vimercati         ottaviano vimercati  \n",
       "1103            ammiano marcellino          ammiano marcellino  \n",
       "1265             chiasserini dante           chiasserini dante  \n",
       "292          antonio carlo carlone       antonio carlo carlone  \n",
       "...                            ...                         ...  \n",
       "461        corrado e giulio venini     corrado e giulio venini  \n",
       "460                         veglia                      veglia  \n",
       "459                         varese                      varese  \n",
       "467                       viminale                    viminale  \n",
       "1380                        nirone                      nirone  \n",
       "\n",
       "[1381 rows x 8 columns]"
      ]
     },
     "execution_count": 38,
     "metadata": {},
     "output_type": "execute_result"
    }
   ],
   "source": [
    "# Function to normalize the names\n",
    "def normalize_string(s):\n",
    "    s = re.sub(r\"sant'\\s*\", \"sant'\", s.lower())  # Fix spaces around 'sant'\n",
    "    s = re.sub(r\"dell'\\s*\", \"dell'\", s.lower())  # Fix spaces around 'dell'\n",
    "    s = re.sub(r\"[()]\", \"\", s)  # Remove the parentheses\n",
    "    \n",
    "    # Split the string into words, sort them, and rejoin\n",
    "    words = s.strip().split()\n",
    "    words.sort()\n",
    "    return \" \".join(words)\n",
    "\n",
    "# Pre-normalize the viario DataFrame\n",
    "viario['normalized_descrittivo'] = viario['DESCRITTIVO'].apply(normalize_string)\n",
    "viario['normalized_denominazione'] = viario['DENOMINAZIONE'].apply(normalize_string)\n",
    "\n",
    "# Function to find the best match using pre-normalized viario\n",
    "def find_best_match(ubic_via):\n",
    "\n",
    "    measure = \"EDIT\"\n",
    "    normalized_ubic_via = normalize_string(ubic_via)\n",
    "    \n",
    "    # Compute similarity scores for all rows in viario\n",
    "    viario['similarity_descrittivo'] = viario['normalized_descrittivo'].apply(\n",
    "        lambda x: fuzz.ratio(normalized_ubic_via, x))\n",
    "    viario['similarity_denominazione'] = viario['normalized_denominazione'].apply(\n",
    "        lambda x: fuzz.ratio(normalized_ubic_via, x))\n",
    "    \n",
    "    # Find the best match\n",
    "    viario['similarity'] = viario[['similarity_descrittivo', 'similarity_denominazione']].max(axis=1)\n",
    "    best_match = viario.loc[viario['similarity'].idxmax()]\n",
    "    \n",
    "    return (measure, best_match['similarity'],\n",
    "            ubic_via, best_match['DENOMINAZIONE'],best_match['DESCRITTIVO'],\n",
    "            normalized_ubic_via, best_match['normalized_denominazione'], best_match['normalized_descrittivo'],\n",
    "            )\n",
    "\n",
    "# Process all rows in new_SERVICES\n",
    "results = []\n",
    "\n",
    "for ubic_via in tqdm(new_SERVICES['ubic_via'].unique()):\n",
    "    ubic_via_data = find_best_match(ubic_via)\n",
    "    results.append(ubic_via_data)\n",
    "\n",
    "# Convert results to DataFrame for analysis\n",
    "columns = ['measure','similarity',\n",
    "            'ubic_via', 'best_denominazione', 'best_descrittivo', 'normalized_ubic_via',\n",
    "            'best_normalized_denominazione', 'best_normalized_descrittivo', \n",
    "            ]\n",
    "check_matching_df = pd.DataFrame(results, columns=columns)\n",
    "\n",
    "# Show the rows with low similarity\n",
    "print(f\"Rows where normalized 'ubic_via' and 'DESCRITTIVO'/'DENOMINAZIONE' are not similar enough (below {threshold}% Edit Distance similarity):\")\n",
    "check_matching_df.sort_values(by=\"similarity\", ascending=True)"
   ]
  },
  {
   "cell_type": "code",
   "execution_count": 39,
   "id": "e8d65ec7",
   "metadata": {
    "execution": {
     "iopub.execute_input": "2025-01-17T16:35:19.507813Z",
     "iopub.status.busy": "2025-01-17T16:35:19.507408Z",
     "iopub.status.idle": "2025-01-17T16:35:48.904213Z",
     "shell.execute_reply": "2025-01-17T16:35:48.902980Z"
    },
    "papermill": {
     "duration": 29.481865,
     "end_time": "2025-01-17T16:35:48.906466",
     "exception": false,
     "start_time": "2025-01-17T16:35:19.424601",
     "status": "completed"
    },
    "tags": []
   },
   "outputs": [
    {
     "name": "stderr",
     "output_type": "stream",
     "text": [
      "100%|██████████| 7/7 [00:29<00:00,  4.20s/it]"
     ]
    },
    {
     "name": "stdout",
     "output_type": "stream",
     "text": [
      "Updated non_matching_df with Jaccard similarity:\n"
     ]
    },
    {
     "name": "stderr",
     "output_type": "stream",
     "text": [
      "\n"
     ]
    },
    {
     "data": {
      "text/html": [
       "<div>\n",
       "<style scoped>\n",
       "    .dataframe tbody tr th:only-of-type {\n",
       "        vertical-align: middle;\n",
       "    }\n",
       "\n",
       "    .dataframe tbody tr th {\n",
       "        vertical-align: top;\n",
       "    }\n",
       "\n",
       "    .dataframe thead th {\n",
       "        text-align: right;\n",
       "    }\n",
       "</style>\n",
       "<table border=\"1\" class=\"dataframe\">\n",
       "  <thead>\n",
       "    <tr style=\"text-align: right;\">\n",
       "      <th></th>\n",
       "      <th>measure</th>\n",
       "      <th>similarity</th>\n",
       "      <th>ubic_via</th>\n",
       "      <th>best_denominazione</th>\n",
       "      <th>best_descrittivo</th>\n",
       "      <th>normalized_ubic_via</th>\n",
       "      <th>best_normalized_denominazione</th>\n",
       "      <th>best_normalized_descrittivo</th>\n",
       "    </tr>\n",
       "  </thead>\n",
       "  <tbody>\n",
       "    <tr>\n",
       "      <th>183</th>\n",
       "      <td>JACCARD</td>\n",
       "      <td>0.0</td>\n",
       "      <td></td>\n",
       "      <td>DUOMO (DEL)</td>\n",
       "      <td>DEL DUOMO</td>\n",
       "      <td></td>\n",
       "      <td>del duomo</td>\n",
       "      <td>del duomo</td>\n",
       "    </tr>\n",
       "    <tr>\n",
       "      <th>292</th>\n",
       "      <td>JACCARD</td>\n",
       "      <td>50.0</td>\n",
       "      <td>COLONNA MARCO ANTONIO</td>\n",
       "      <td>BRAGADINO MARCO ANTONIO</td>\n",
       "      <td>MARCO ANTONIO BRAGADINO</td>\n",
       "      <td>antonio colonna marco</td>\n",
       "      <td>antonio bragadino marco</td>\n",
       "      <td>antonio bragadino marco</td>\n",
       "    </tr>\n",
       "    <tr>\n",
       "      <th>1172</th>\n",
       "      <td>JACCARD</td>\n",
       "      <td>50.0</td>\n",
       "      <td>GRAZIANO IMPERATORE</td>\n",
       "      <td>GRAZIANO</td>\n",
       "      <td>GRAZIANO</td>\n",
       "      <td>graziano imperatore</td>\n",
       "      <td>graziano</td>\n",
       "      <td>graziano</td>\n",
       "    </tr>\n",
       "    <tr>\n",
       "      <th>1265</th>\n",
       "      <td>JACCARD</td>\n",
       "      <td>50.0</td>\n",
       "      <td>DANTE ALIGHIERI</td>\n",
       "      <td>DANTE</td>\n",
       "      <td>DANTE</td>\n",
       "      <td>alighieri dante</td>\n",
       "      <td>dante</td>\n",
       "      <td>dante</td>\n",
       "    </tr>\n",
       "    <tr>\n",
       "      <th>1103</th>\n",
       "      <td>JACCARD</td>\n",
       "      <td>50.0</td>\n",
       "      <td>TIZIANO VECELLIO</td>\n",
       "      <td>TIZIANO</td>\n",
       "      <td>TIZIANO</td>\n",
       "      <td>tiziano vecellio</td>\n",
       "      <td>tiziano</td>\n",
       "      <td>tiziano</td>\n",
       "    </tr>\n",
       "    <tr>\n",
       "      <th>...</th>\n",
       "      <td>...</td>\n",
       "      <td>...</td>\n",
       "      <td>...</td>\n",
       "      <td>...</td>\n",
       "      <td>...</td>\n",
       "      <td>...</td>\n",
       "      <td>...</td>\n",
       "      <td>...</td>\n",
       "    </tr>\n",
       "    <tr>\n",
       "      <th>461</th>\n",
       "      <td>EDIT</td>\n",
       "      <td>100.0</td>\n",
       "      <td>VENINI GIULIO E CORRADO</td>\n",
       "      <td>VENINI GIULIO E CORRADO</td>\n",
       "      <td>GIULIO E CORRADO VENINI</td>\n",
       "      <td>corrado e giulio venini</td>\n",
       "      <td>corrado e giulio venini</td>\n",
       "      <td>corrado e giulio venini</td>\n",
       "    </tr>\n",
       "    <tr>\n",
       "      <th>460</th>\n",
       "      <td>EDIT</td>\n",
       "      <td>100.0</td>\n",
       "      <td>VEGLIA</td>\n",
       "      <td>VEGLIA</td>\n",
       "      <td>VEGLIA</td>\n",
       "      <td>veglia</td>\n",
       "      <td>veglia</td>\n",
       "      <td>veglia</td>\n",
       "    </tr>\n",
       "    <tr>\n",
       "      <th>459</th>\n",
       "      <td>EDIT</td>\n",
       "      <td>100.0</td>\n",
       "      <td>VARESE</td>\n",
       "      <td>VARESE</td>\n",
       "      <td>VARESE</td>\n",
       "      <td>varese</td>\n",
       "      <td>varese</td>\n",
       "      <td>varese</td>\n",
       "    </tr>\n",
       "    <tr>\n",
       "      <th>467</th>\n",
       "      <td>EDIT</td>\n",
       "      <td>100.0</td>\n",
       "      <td>VIMINALE</td>\n",
       "      <td>VIMINALE</td>\n",
       "      <td>VIMINALE</td>\n",
       "      <td>viminale</td>\n",
       "      <td>viminale</td>\n",
       "      <td>viminale</td>\n",
       "    </tr>\n",
       "    <tr>\n",
       "      <th>1380</th>\n",
       "      <td>EDIT</td>\n",
       "      <td>100.0</td>\n",
       "      <td>NIRONE</td>\n",
       "      <td>NIRONE</td>\n",
       "      <td>NIRONE</td>\n",
       "      <td>nirone</td>\n",
       "      <td>nirone</td>\n",
       "      <td>nirone</td>\n",
       "    </tr>\n",
       "  </tbody>\n",
       "</table>\n",
       "<p>1381 rows × 8 columns</p>\n",
       "</div>"
      ],
      "text/plain": [
       "      measure  similarity                 ubic_via       best_denominazione  \\\n",
       "183   JACCARD         0.0                                       DUOMO (DEL)   \n",
       "292   JACCARD        50.0    COLONNA MARCO ANTONIO  BRAGADINO MARCO ANTONIO   \n",
       "1172  JACCARD        50.0      GRAZIANO IMPERATORE                 GRAZIANO   \n",
       "1265  JACCARD        50.0          DANTE ALIGHIERI                    DANTE   \n",
       "1103  JACCARD        50.0         TIZIANO VECELLIO                 TIZIANO    \n",
       "...       ...         ...                      ...                      ...   \n",
       "461      EDIT       100.0  VENINI GIULIO E CORRADO  VENINI GIULIO E CORRADO   \n",
       "460      EDIT       100.0                   VEGLIA                   VEGLIA   \n",
       "459      EDIT       100.0                   VARESE                   VARESE   \n",
       "467      EDIT       100.0                 VIMINALE                 VIMINALE   \n",
       "1380     EDIT       100.0                   NIRONE                   NIRONE   \n",
       "\n",
       "             best_descrittivo      normalized_ubic_via  \\\n",
       "183                 DEL DUOMO                            \n",
       "292   MARCO ANTONIO BRAGADINO    antonio colonna marco   \n",
       "1172                 GRAZIANO      graziano imperatore   \n",
       "1265                    DANTE          alighieri dante   \n",
       "1103                  TIZIANO         tiziano vecellio   \n",
       "...                       ...                      ...   \n",
       "461   GIULIO E CORRADO VENINI  corrado e giulio venini   \n",
       "460                    VEGLIA                   veglia   \n",
       "459                    VARESE                   varese   \n",
       "467                  VIMINALE                 viminale   \n",
       "1380                   NIRONE                   nirone   \n",
       "\n",
       "     best_normalized_denominazione best_normalized_descrittivo  \n",
       "183                      del duomo                   del duomo  \n",
       "292        antonio bragadino marco     antonio bragadino marco  \n",
       "1172                      graziano                    graziano  \n",
       "1265                         dante                       dante  \n",
       "1103                       tiziano                     tiziano  \n",
       "...                            ...                         ...  \n",
       "461        corrado e giulio venini     corrado e giulio venini  \n",
       "460                         veglia                      veglia  \n",
       "459                         varese                      varese  \n",
       "467                       viminale                    viminale  \n",
       "1380                        nirone                      nirone  \n",
       "\n",
       "[1381 rows x 8 columns]"
      ]
     },
     "execution_count": 39,
     "metadata": {},
     "output_type": "execute_result"
    }
   ],
   "source": [
    "# Function to compute Jaccard similarity\n",
    "def compute_jaccard(s1, s2):\n",
    "    vectorizer = CountVectorizer().fit_transform([s1, s2])\n",
    "    vectors = vectorizer.toarray()\n",
    "    return 1 - jaccard(vectors[0], vectors[1])\n",
    "\n",
    "# Function to compute Jaccard similarity for all rows in viario and update non_matching_df\n",
    "def compute_jaccard_for_all_rows():\n",
    "    for index, row in tqdm(check_matching_df[check_matching_df.similarity < 77].iterrows(), total=len(check_matching_df[check_matching_df.similarity < 77])):\n",
    "        normalized_ubic_via = row['normalized_ubic_via']\n",
    "        \n",
    "        # Compute Jaccard similarity for 'descrittivo' and 'denominazione' for all rows in viario\n",
    "        viario['jaccard_descrittivo'] = viario['normalized_descrittivo'].apply(\n",
    "            lambda x: compute_jaccard(normalized_ubic_via, x))\n",
    "        viario['jaccard_denominazione'] = viario['normalized_denominazione'].apply(\n",
    "            lambda x: compute_jaccard(normalized_ubic_via, x))\n",
    "        \n",
    "        # Take the maximum Jaccard similarity (between 'descrittivo' and 'denominazione')\n",
    "        viario['jaccard_similarity'] = viario[['jaccard_descrittivo', 'jaccard_denominazione']].max(axis=1)\n",
    "        \n",
    "        # Find the best match based on the highest Jaccard similarity\n",
    "        best_match = viario.loc[viario['jaccard_similarity'].idxmax()]\n",
    "        \n",
    "        # Update the non_matching_df with the best match and Jaccard similarity\n",
    "        check_matching_df.at[index, 'best_normalized_descrittivo'] = best_match['normalized_descrittivo']\n",
    "        check_matching_df.at[index, 'best_normalized_denominazione'] = best_match['normalized_denominazione']\n",
    "        check_matching_df.at[index, 'best_descrittivo'] = best_match['DESCRITTIVO']\n",
    "        check_matching_df.at[index, 'best_denominazione'] = best_match['DENOMINAZIONE']\n",
    "        check_matching_df.at[index, 'measure'] = \"JACCARD\"\n",
    "        check_matching_df.at[index, 'similarity'] = best_match['jaccard_similarity'] * 100\n",
    "\n",
    "# Run Jaccard computation for all rows in viario and update non_matching_df\n",
    "compute_jaccard_for_all_rows()\n",
    "\n",
    "# Show the updated non_matching_df with Jaccard similarity values\n",
    "print(f\"Updated non_matching_df with Jaccard similarity:\")\n",
    "check_matching_df.sort_values(by=\"similarity\")"
   ]
  },
  {
   "cell_type": "markdown",
   "id": "c2558fc5",
   "metadata": {
    "papermill": {
     "duration": 0.026617,
     "end_time": "2025-01-17T16:35:48.961154",
     "exception": false,
     "start_time": "2025-01-17T16:35:48.934537",
     "status": "completed"
    },
    "tags": []
   },
   "source": [
    "With the exception of two rows, which could not be recognized due to missing values in the `ubic_via` column, most of the rows now exhibit a similarity of 50% or greater, indicating that their addresses match semantically. As a result, the `ubic_via` column can now be standardized to align with the format of the `viario.DESCRITTIVO` column."
   ]
  },
  {
   "cell_type": "code",
   "execution_count": 40,
   "id": "d8d099bf",
   "metadata": {
    "execution": {
     "iopub.execute_input": "2025-01-17T16:35:49.019160Z",
     "iopub.status.busy": "2025-01-17T16:35:49.018805Z",
     "iopub.status.idle": "2025-01-17T16:35:51.612923Z",
     "shell.execute_reply": "2025-01-17T16:35:51.611934Z"
    },
    "papermill": {
     "duration": 2.624553,
     "end_time": "2025-01-17T16:35:51.614885",
     "exception": false,
     "start_time": "2025-01-17T16:35:48.990332",
     "status": "completed"
    },
    "tags": []
   },
   "outputs": [
    {
     "data": {
      "text/html": [
       "<div>\n",
       "<style scoped>\n",
       "    .dataframe tbody tr th:only-of-type {\n",
       "        vertical-align: middle;\n",
       "    }\n",
       "\n",
       "    .dataframe tbody tr th {\n",
       "        vertical-align: top;\n",
       "    }\n",
       "\n",
       "    .dataframe thead th {\n",
       "        text-align: right;\n",
       "    }\n",
       "</style>\n",
       "<table border=\"1\" class=\"dataframe\">\n",
       "  <thead>\n",
       "    <tr style=\"text-align: right;\">\n",
       "      <th></th>\n",
       "      <th>t_es</th>\n",
       "      <th>t_via</th>\n",
       "      <th>via</th>\n",
       "      <th>civ</th>\n",
       "      <th>cod_via</th>\n",
       "      <th>zd</th>\n",
       "      <th>sup_alt</th>\n",
       "      <th>sup_lav</th>\n",
       "      <th>ubic_t_via</th>\n",
       "      <th>ubic_via</th>\n",
       "      <th>ubic_civ</th>\n",
       "      <th>ubic_zd</th>\n",
       "      <th>note</th>\n",
       "    </tr>\n",
       "  </thead>\n",
       "  <tbody>\n",
       "    <tr>\n",
       "      <th>0</th>\n",
       "      <td>NaN</td>\n",
       "      <td>Largo</td>\n",
       "      <td>DEI GELSOMINI</td>\n",
       "      <td>10</td>\n",
       "      <td>5394</td>\n",
       "      <td>6</td>\n",
       "      <td>NaN</td>\n",
       "      <td>55.0</td>\n",
       "      <td>Largo</td>\n",
       "      <td>DEI GELSOMINI</td>\n",
       "      <td>10</td>\n",
       "      <td>6</td>\n",
       "      <td>NaN</td>\n",
       "    </tr>\n",
       "    <tr>\n",
       "      <th>1</th>\n",
       "      <td>Centro Massaggi</td>\n",
       "      <td>Piazza</td>\n",
       "      <td>FIDIA</td>\n",
       "      <td>3</td>\n",
       "      <td>1144</td>\n",
       "      <td>9</td>\n",
       "      <td>2.0</td>\n",
       "      <td>28.0</td>\n",
       "      <td>Piazza</td>\n",
       "      <td>FIDIA</td>\n",
       "      <td>3</td>\n",
       "      <td>9</td>\n",
       "      <td>NaN</td>\n",
       "    </tr>\n",
       "    <tr>\n",
       "      <th>2</th>\n",
       "      <td>Centro Benessere</td>\n",
       "      <td>Via</td>\n",
       "      <td>ADIGE</td>\n",
       "      <td>10</td>\n",
       "      <td>4216</td>\n",
       "      <td>5</td>\n",
       "      <td>2.0</td>\n",
       "      <td>27.0</td>\n",
       "      <td>Via</td>\n",
       "      <td>ADIGE</td>\n",
       "      <td>10</td>\n",
       "      <td>5</td>\n",
       "      <td>NaN</td>\n",
       "    </tr>\n",
       "    <tr>\n",
       "      <th>3</th>\n",
       "      <td>Truccatore</td>\n",
       "      <td>Via</td>\n",
       "      <td>FLAVIO BARACCHINI</td>\n",
       "      <td>9</td>\n",
       "      <td>356</td>\n",
       "      <td>1</td>\n",
       "      <td>NaN</td>\n",
       "      <td>NaN</td>\n",
       "      <td>Via</td>\n",
       "      <td>FLAVIO BARACCHINI</td>\n",
       "      <td>9</td>\n",
       "      <td>1</td>\n",
       "      <td>NaN</td>\n",
       "    </tr>\n",
       "    <tr>\n",
       "      <th>4</th>\n",
       "      <td>NaN</td>\n",
       "      <td>Via</td>\n",
       "      <td>BERGAMO</td>\n",
       "      <td>12</td>\n",
       "      <td>3189</td>\n",
       "      <td>4</td>\n",
       "      <td>NaN</td>\n",
       "      <td>50.0</td>\n",
       "      <td>Via</td>\n",
       "      <td>BERGAMO</td>\n",
       "      <td>12</td>\n",
       "      <td>4</td>\n",
       "      <td>NaN</td>\n",
       "    </tr>\n",
       "  </tbody>\n",
       "</table>\n",
       "</div>"
      ],
      "text/plain": [
       "               t_es   t_via                via civ  cod_via zd  sup_alt  \\\n",
       "0               NaN   Largo      DEI GELSOMINI  10     5394  6      NaN   \n",
       "1   Centro Massaggi  Piazza              FIDIA   3     1144  9      2.0   \n",
       "2  Centro Benessere     Via              ADIGE  10     4216  5      2.0   \n",
       "3        Truccatore     Via  FLAVIO BARACCHINI   9      356  1      NaN   \n",
       "4               NaN     Via            BERGAMO  12     3189  4      NaN   \n",
       "\n",
       "   sup_lav ubic_t_via           ubic_via ubic_civ ubic_zd note  \n",
       "0     55.0      Largo      DEI GELSOMINI       10       6  NaN  \n",
       "1     28.0     Piazza              FIDIA        3       9  NaN  \n",
       "2     27.0        Via              ADIGE       10       5  NaN  \n",
       "3      NaN        Via  FLAVIO BARACCHINI        9       1  NaN  \n",
       "4     50.0        Via            BERGAMO       12       4  NaN  "
      ]
     },
     "execution_count": 40,
     "metadata": {},
     "output_type": "execute_result"
    }
   ],
   "source": [
    "# Step 1: Merge new_SERVICES with check_matching_df on 'ubic_via'\n",
    "merged_df = new_SERVICES.merge(check_matching_df[['ubic_via', 'best_descrittivo', 'similarity']], \n",
    "                               on='ubic_via', how='left')\n",
    "\n",
    "# Step 2: Filter rows where similarity >= 50\n",
    "filtered_df = merged_df[merged_df['similarity'] >= 50]\n",
    "\n",
    "# Step 3: Update the 'ubic_via' column in new_SERVICES with 'DENOMINAZIONE' from check_matching_df where similarity >= 50\n",
    "for index, row in filtered_df.iterrows():\n",
    "    new_SERVICES.loc[new_SERVICES['ubic_via'] == row['ubic_via'], 'ubic_via'] = row['best_descrittivo']\n",
    "\n",
    "new_SERVICES.head()"
   ]
  },
  {
   "cell_type": "markdown",
   "id": "8806f5ff",
   "metadata": {
    "papermill": {
     "duration": 0.026807,
     "end_time": "2025-01-17T16:35:51.668288",
     "exception": false,
     "start_time": "2025-01-17T16:35:51.641481",
     "status": "completed"
    },
    "tags": []
   },
   "source": [
    "# Error Detection and Correction\n",
    "## UBIC-VIA: Solve Mismatches\n",
    "\n",
    "The goal is to resolve mismatches between the `ubic` columns (`ubic_t_via`, `ubic_via`, `ubic_civ`, `ubic_zd`) and the corresponding main columns (`t_via`, `via`, `civ`, `zd`). Mismatches are identified by comparing values in these columns. \n",
    "\n",
    "Once detected, corrections are made by updating the values to ensure consistency, improving the dataset's quality and accuracy for analysis."
   ]
  },
  {
   "cell_type": "code",
   "execution_count": 41,
   "id": "ae47ee4f",
   "metadata": {
    "execution": {
     "iopub.execute_input": "2025-01-17T16:35:51.723240Z",
     "iopub.status.busy": "2025-01-17T16:35:51.722804Z",
     "iopub.status.idle": "2025-01-17T16:35:51.751653Z",
     "shell.execute_reply": "2025-01-17T16:35:51.750507Z"
    },
    "papermill": {
     "duration": 0.058586,
     "end_time": "2025-01-17T16:35:51.753389",
     "exception": false,
     "start_time": "2025-01-17T16:35:51.694803",
     "status": "completed"
    },
    "tags": []
   },
   "outputs": [
    {
     "name": "stdout",
     "output_type": "stream",
     "text": [
      "Summary of mismatches:\n",
      "\n",
      "Mismatch Type        Number of Mismatches\n",
      "========================================\n",
      "note empty           \t\t399                 \n",
      "t_via not match      \t\t20                  \n",
      "civ not match        \t\t151                 \n",
      "via not match        \t\t76                  \n",
      "zd not match         \t\t17                  \n"
     ]
    }
   ],
   "source": [
    "# Initialize dictionary to store mismatches\n",
    "mismatch_rows = {\n",
    "    \"note empty\": [],\n",
    "    \"t_via not match\": [],\n",
    "    \"civ not match\": [],\n",
    "    \"via not match\": [],\n",
    "    \"zd not match\": [],\n",
    "}\n",
    "\n",
    "# Function to check conditions and log mismatched rows\n",
    "def check_and_log_mismatches(new_SERVICES):\n",
    "    # Create masks for each condition (True if mismatch, False if match)\n",
    "    note_not_empty_condition = ~new_SERVICES['note'].isna()\n",
    "    t_via_not_match_condition = new_SERVICES[\"t_via\"] != new_SERVICES[\"ubic_t_via\"]\n",
    "    civ_not_match_condition = new_SERVICES[\"civ\"] != new_SERVICES[\"ubic_civ\"]\n",
    "    via_not_match_condition = new_SERVICES[\"via\"] != new_SERVICES[\"ubic_via\"]\n",
    "    zd_not_match_condition = new_SERVICES[\"zd\"] != new_SERVICES[\"ubic_zd\"]\n",
    "    \n",
    "    # Apply the conditions to filter rows and store them in the corresponding lists\n",
    "    mismatch_rows[\"note empty\"] = new_SERVICES[note_not_empty_condition].to_dict(orient='records')\n",
    "    mismatch_rows[\"t_via not match\"] = new_SERVICES[t_via_not_match_condition].to_dict(orient='records')\n",
    "    mismatch_rows[\"civ not match\"] = new_SERVICES[civ_not_match_condition].to_dict(orient='records')\n",
    "    mismatch_rows[\"via not match\"] = new_SERVICES[via_not_match_condition].to_dict(orient='records')\n",
    "    mismatch_rows[\"zd not match\"] = new_SERVICES[zd_not_match_condition].to_dict(orient='records')\n",
    "    \n",
    "    return new_SERVICES\n",
    "\n",
    "# Apply the function to check and log mismatches\n",
    "new_SERVICES = check_and_log_mismatches(new_SERVICES)\n",
    "\n",
    "# Print summary of mismatches with aligned output\n",
    "print(\"Summary of mismatches:\\n\")\n",
    "# Print a header row with column names\n",
    "print(f\"{'Mismatch Type':<20} {'Number of Mismatches':<20}\")\n",
    "print(\"=\"*40)  # Separator for clarity\n",
    "\n",
    "# Iterate over mismatch_rows and print each mismatch type and its count\n",
    "for key, value in mismatch_rows.items():\n",
    "    print(f\"{key:<20} \\t\\t{len(value):<20}\")"
   ]
  },
  {
   "cell_type": "markdown",
   "id": "bd72a0e3",
   "metadata": {
    "papermill": {
     "duration": 0.026591,
     "end_time": "2025-01-17T16:35:51.809165",
     "exception": false,
     "start_time": "2025-01-17T16:35:51.782574",
     "status": "completed"
    },
    "tags": []
   },
   "source": [
    "Check if the full `ubic` and `via_full` addresses are present in the dataset of **civici**"
   ]
  },
  {
   "cell_type": "code",
   "execution_count": 42,
   "id": "222ca4e5",
   "metadata": {
    "execution": {
     "iopub.execute_input": "2025-01-17T16:35:51.864979Z",
     "iopub.status.busy": "2025-01-17T16:35:51.864532Z",
     "iopub.status.idle": "2025-01-17T16:38:28.940541Z",
     "shell.execute_reply": "2025-01-17T16:38:28.939336Z"
    },
    "papermill": {
     "duration": 157.10627,
     "end_time": "2025-01-17T16:38:28.942277",
     "exception": false,
     "start_time": "2025-01-17T16:35:51.836007",
     "status": "completed"
    },
    "tags": []
   },
   "outputs": [
    {
     "name": "stderr",
     "output_type": "stream",
     "text": [
      "100%|██████████| 3908/3908 [02:37<00:00, 24.88it/s]\n"
     ]
    },
    {
     "data": {
      "text/html": [
       "<div>\n",
       "<style scoped>\n",
       "    .dataframe tbody tr th:only-of-type {\n",
       "        vertical-align: middle;\n",
       "    }\n",
       "\n",
       "    .dataframe tbody tr th {\n",
       "        vertical-align: top;\n",
       "    }\n",
       "\n",
       "    .dataframe thead th {\n",
       "        text-align: right;\n",
       "    }\n",
       "</style>\n",
       "<table border=\"1\" class=\"dataframe\">\n",
       "  <thead>\n",
       "    <tr style=\"text-align: right;\">\n",
       "      <th></th>\n",
       "      <th>t_es</th>\n",
       "      <th>t_via</th>\n",
       "      <th>via</th>\n",
       "      <th>civ</th>\n",
       "      <th>cod_via</th>\n",
       "      <th>zd</th>\n",
       "      <th>sup_alt</th>\n",
       "      <th>sup_lav</th>\n",
       "      <th>ubic_t_via</th>\n",
       "      <th>ubic_via</th>\n",
       "      <th>ubic_civ</th>\n",
       "      <th>ubic_zd</th>\n",
       "      <th>note</th>\n",
       "      <th>ubic_flag</th>\n",
       "      <th>full_via_flag</th>\n",
       "    </tr>\n",
       "  </thead>\n",
       "  <tbody>\n",
       "    <tr>\n",
       "      <th>0</th>\n",
       "      <td>NaN</td>\n",
       "      <td>Largo</td>\n",
       "      <td>DEI GELSOMINI</td>\n",
       "      <td>10</td>\n",
       "      <td>5394</td>\n",
       "      <td>6</td>\n",
       "      <td>NaN</td>\n",
       "      <td>55.0</td>\n",
       "      <td>Largo</td>\n",
       "      <td>DEI GELSOMINI</td>\n",
       "      <td>10</td>\n",
       "      <td>6</td>\n",
       "      <td>NaN</td>\n",
       "      <td>True</td>\n",
       "      <td>True</td>\n",
       "    </tr>\n",
       "    <tr>\n",
       "      <th>1</th>\n",
       "      <td>Centro Massaggi</td>\n",
       "      <td>Piazza</td>\n",
       "      <td>FIDIA</td>\n",
       "      <td>3</td>\n",
       "      <td>1144</td>\n",
       "      <td>9</td>\n",
       "      <td>2.0</td>\n",
       "      <td>28.0</td>\n",
       "      <td>Piazza</td>\n",
       "      <td>FIDIA</td>\n",
       "      <td>3</td>\n",
       "      <td>9</td>\n",
       "      <td>NaN</td>\n",
       "      <td>True</td>\n",
       "      <td>True</td>\n",
       "    </tr>\n",
       "    <tr>\n",
       "      <th>2</th>\n",
       "      <td>Centro Benessere</td>\n",
       "      <td>Via</td>\n",
       "      <td>ADIGE</td>\n",
       "      <td>10</td>\n",
       "      <td>4216</td>\n",
       "      <td>5</td>\n",
       "      <td>2.0</td>\n",
       "      <td>27.0</td>\n",
       "      <td>Via</td>\n",
       "      <td>ADIGE</td>\n",
       "      <td>10</td>\n",
       "      <td>5</td>\n",
       "      <td>NaN</td>\n",
       "      <td>True</td>\n",
       "      <td>True</td>\n",
       "    </tr>\n",
       "    <tr>\n",
       "      <th>3</th>\n",
       "      <td>Truccatore</td>\n",
       "      <td>Via</td>\n",
       "      <td>FLAVIO BARACCHINI</td>\n",
       "      <td>9</td>\n",
       "      <td>356</td>\n",
       "      <td>1</td>\n",
       "      <td>NaN</td>\n",
       "      <td>NaN</td>\n",
       "      <td>Via</td>\n",
       "      <td>FLAVIO BARACCHINI</td>\n",
       "      <td>9</td>\n",
       "      <td>1</td>\n",
       "      <td>NaN</td>\n",
       "      <td>True</td>\n",
       "      <td>True</td>\n",
       "    </tr>\n",
       "    <tr>\n",
       "      <th>4</th>\n",
       "      <td>NaN</td>\n",
       "      <td>Via</td>\n",
       "      <td>BERGAMO</td>\n",
       "      <td>12</td>\n",
       "      <td>3189</td>\n",
       "      <td>4</td>\n",
       "      <td>NaN</td>\n",
       "      <td>50.0</td>\n",
       "      <td>Via</td>\n",
       "      <td>BERGAMO</td>\n",
       "      <td>12</td>\n",
       "      <td>4</td>\n",
       "      <td>NaN</td>\n",
       "      <td>True</td>\n",
       "      <td>True</td>\n",
       "    </tr>\n",
       "  </tbody>\n",
       "</table>\n",
       "</div>"
      ],
      "text/plain": [
       "               t_es   t_via                via civ  cod_via  zd  sup_alt  \\\n",
       "0               NaN   Largo      DEI GELSOMINI  10     5394   6      NaN   \n",
       "1   Centro Massaggi  Piazza              FIDIA   3     1144   9      2.0   \n",
       "2  Centro Benessere     Via              ADIGE  10     4216   5      2.0   \n",
       "3        Truccatore     Via  FLAVIO BARACCHINI   9      356   1      NaN   \n",
       "4               NaN     Via            BERGAMO  12     3189   4      NaN   \n",
       "\n",
       "   sup_lav ubic_t_via           ubic_via ubic_civ ubic_zd note  ubic_flag  \\\n",
       "0     55.0      Largo      DEI GELSOMINI       10       6  NaN       True   \n",
       "1     28.0     Piazza              FIDIA        3       9  NaN       True   \n",
       "2     27.0        Via              ADIGE       10       5  NaN       True   \n",
       "3      NaN        Via  FLAVIO BARACCHINI        9       1  NaN       True   \n",
       "4     50.0        Via            BERGAMO       12       4  NaN       True   \n",
       "\n",
       "   full_via_flag  \n",
       "0           True  \n",
       "1           True  \n",
       "2           True  \n",
       "3           True  \n",
       "4           True  "
      ]
     },
     "execution_count": 42,
     "metadata": {},
     "output_type": "execute_result"
    }
   ],
   "source": [
    "new_SERVICES['zd'] = new_SERVICES['zd'].astype(int)\n",
    "\n",
    "def check_full_via_exists(row, civici_df):\n",
    "    # Check if the necessary columns contain NaN values\n",
    "    if pd.isna(row['ubic_t_via']) or pd.isna(row['ubic_via']) or pd.isna(row['t_via']) or pd.isna(row['via']):\n",
    "        return False  # Return False if any of the critical columns have NaN values\n",
    "    \n",
    "    # Combine the address components if valid\n",
    "    full_via_ubic = row['ubic_t_via'] + \" \" + row['ubic_via']\n",
    "    full_via_via = row['t_via'] + \" \" + row['via']\n",
    "    \n",
    "    # Check if full_via_ubic exists in civici.DESCRITTIVO and match NUMEROCOMPLETO and MUNICIPIO\n",
    "    match_ubic = civici_df[(civici_df['DESCRITTIVO'] == full_via_ubic) &\n",
    "                            (civici_df['NUMEROCOMPLETO'] == row['ubic_civ']) &\n",
    "                            (civici_df['MUNICIPIO'] == row['ubic_zd'])]\n",
    "    \n",
    "    # Check if full_via_via exists in civici.DESCRITTIVO and match NUMEROCOMPLETO and MUNICIPIO\n",
    "    match_via = civici_df[(civici_df['DESCRITTIVO'] == full_via_via) &\n",
    "                           (civici_df['NUMEROCOMPLETO'] == row['civ']) &\n",
    "                           (civici_df['MUNICIPIO'] == row['zd'])]\n",
    "    \n",
    "    # Return True if either match is found, else False\n",
    "    return True if len(match_ubic) > 0 or len(match_via) > 0 else False\n",
    "\n",
    "# Use tqdm to track the progress of the apply function\n",
    "tqdm.pandas()\n",
    "\n",
    "# Apply the check function to each row in your dataset and create two flags\n",
    "new_SERVICES[['ubic_flag', 'full_via_flag']] = new_SERVICES.progress_apply(\n",
    "    lambda row: pd.Series({\n",
    "        'ubic_flag': check_full_via_exists(row, civici),\n",
    "        'full_via_flag': check_full_via_exists(row, civici)\n",
    "    }), axis=1\n",
    ")\n",
    "\n",
    "# Show the result\n",
    "new_SERVICES[['ubic_flag', 'full_via_flag']].head()\n",
    "\n",
    "\n",
    "# Show the result\n",
    "new_SERVICES.head()"
   ]
  },
  {
   "cell_type": "code",
   "execution_count": 43,
   "id": "a6d025fe",
   "metadata": {
    "execution": {
     "iopub.execute_input": "2025-01-17T16:38:29.134533Z",
     "iopub.status.busy": "2025-01-17T16:38:29.134188Z",
     "iopub.status.idle": "2025-01-17T16:38:29.154578Z",
     "shell.execute_reply": "2025-01-17T16:38:29.153489Z"
    },
    "papermill": {
     "duration": 0.119747,
     "end_time": "2025-01-17T16:38:29.156546",
     "exception": false,
     "start_time": "2025-01-17T16:38:29.036799",
     "status": "completed"
    },
    "tags": []
   },
   "outputs": [
    {
     "data": {
      "text/html": [
       "<div>\n",
       "<style scoped>\n",
       "    .dataframe tbody tr th:only-of-type {\n",
       "        vertical-align: middle;\n",
       "    }\n",
       "\n",
       "    .dataframe tbody tr th {\n",
       "        vertical-align: top;\n",
       "    }\n",
       "\n",
       "    .dataframe thead th {\n",
       "        text-align: right;\n",
       "    }\n",
       "</style>\n",
       "<table border=\"1\" class=\"dataframe\">\n",
       "  <thead>\n",
       "    <tr style=\"text-align: right;\">\n",
       "      <th></th>\n",
       "      <th>t_es</th>\n",
       "      <th>t_via</th>\n",
       "      <th>via</th>\n",
       "      <th>civ</th>\n",
       "      <th>cod_via</th>\n",
       "      <th>zd</th>\n",
       "      <th>sup_alt</th>\n",
       "      <th>sup_lav</th>\n",
       "      <th>ubic_t_via</th>\n",
       "      <th>ubic_via</th>\n",
       "      <th>ubic_civ</th>\n",
       "      <th>ubic_zd</th>\n",
       "      <th>note</th>\n",
       "      <th>ubic_flag</th>\n",
       "      <th>full_via_flag</th>\n",
       "    </tr>\n",
       "  </thead>\n",
       "  <tbody>\n",
       "    <tr>\n",
       "      <th>143</th>\n",
       "      <td>Acconciatore</td>\n",
       "      <td>Via</td>\n",
       "      <td>PAVIA</td>\n",
       "      <td>NaN</td>\n",
       "      <td>5262</td>\n",
       "      <td>5</td>\n",
       "      <td>NaN</td>\n",
       "      <td>NaN</td>\n",
       "      <td>Via</td>\n",
       "      <td>PAVIA</td>\n",
       "      <td>6</td>\n",
       "      <td>5</td>\n",
       "      <td>/2</td>\n",
       "      <td>False</td>\n",
       "      <td>False</td>\n",
       "    </tr>\n",
       "    <tr>\n",
       "      <th>163</th>\n",
       "      <td>Acconciatore</td>\n",
       "      <td>Via</td>\n",
       "      <td>SALA DEI LONGOBARDI</td>\n",
       "      <td>2</td>\n",
       "      <td>217</td>\n",
       "      <td>1</td>\n",
       "      <td>NaN</td>\n",
       "      <td>NaN</td>\n",
       "      <td>Via</td>\n",
       "      <td>SALA DEI LONGOBARDI</td>\n",
       "      <td>2</td>\n",
       "      <td>1</td>\n",
       "      <td>NaN</td>\n",
       "      <td>False</td>\n",
       "      <td>False</td>\n",
       "    </tr>\n",
       "    <tr>\n",
       "      <th>209</th>\n",
       "      <td>Acconciatore</td>\n",
       "      <td>Corso</td>\n",
       "      <td>LODI</td>\n",
       "      <td>72</td>\n",
       "      <td>4068</td>\n",
       "      <td>4</td>\n",
       "      <td>NaN</td>\n",
       "      <td>50.0</td>\n",
       "      <td>NaN</td>\n",
       "      <td></td>\n",
       "      <td>8</td>\n",
       "      <td>4</td>\n",
       "      <td>codvia 4386</td>\n",
       "      <td>False</td>\n",
       "      <td>False</td>\n",
       "    </tr>\n",
       "    <tr>\n",
       "      <th>242</th>\n",
       "      <td>Acconciatore</td>\n",
       "      <td>Corso</td>\n",
       "      <td>SEMPIONE</td>\n",
       "      <td>10</td>\n",
       "      <td>7137</td>\n",
       "      <td>1</td>\n",
       "      <td>NaN</td>\n",
       "      <td>NaN</td>\n",
       "      <td>NaN</td>\n",
       "      <td></td>\n",
       "      <td>0</td>\n",
       "      <td>1</td>\n",
       "      <td>mm1 duomo codvia 9112</td>\n",
       "      <td>False</td>\n",
       "      <td>False</td>\n",
       "    </tr>\n",
       "    <tr>\n",
       "      <th>285</th>\n",
       "      <td>Acconciatore</td>\n",
       "      <td>Via</td>\n",
       "      <td>APPENNINI</td>\n",
       "      <td>NaN</td>\n",
       "      <td>7514</td>\n",
       "      <td>8</td>\n",
       "      <td>NaN</td>\n",
       "      <td>NaN</td>\n",
       "      <td>Via</td>\n",
       "      <td>APPENNINI</td>\n",
       "      <td>77H</td>\n",
       "      <td>8</td>\n",
       "      <td>NaN</td>\n",
       "      <td>False</td>\n",
       "      <td>False</td>\n",
       "    </tr>\n",
       "    <tr>\n",
       "      <th>...</th>\n",
       "      <td>...</td>\n",
       "      <td>...</td>\n",
       "      <td>...</td>\n",
       "      <td>...</td>\n",
       "      <td>...</td>\n",
       "      <td>...</td>\n",
       "      <td>...</td>\n",
       "      <td>...</td>\n",
       "      <td>...</td>\n",
       "      <td>...</td>\n",
       "      <td>...</td>\n",
       "      <td>...</td>\n",
       "      <td>...</td>\n",
       "      <td>...</td>\n",
       "      <td>...</td>\n",
       "    </tr>\n",
       "    <tr>\n",
       "      <th>3717</th>\n",
       "      <td>Tipo B - Centro di Abbronzatura;Tipo A - Estetica Manuale</td>\n",
       "      <td>Via</td>\n",
       "      <td>LUIGI PIRANDELLO</td>\n",
       "      <td>NaN</td>\n",
       "      <td>6242</td>\n",
       "      <td>7</td>\n",
       "      <td>NaN</td>\n",
       "      <td>100.0</td>\n",
       "      <td>Via</td>\n",
       "      <td>LUIGI PIRANDELLO</td>\n",
       "      <td>4A</td>\n",
       "      <td>7</td>\n",
       "      <td>piano seminterrato</td>\n",
       "      <td>False</td>\n",
       "      <td>False</td>\n",
       "    </tr>\n",
       "    <tr>\n",
       "      <th>3740</th>\n",
       "      <td>Tipo B - Centro di Abbronzatura;Tipo A - Estetica Manuale</td>\n",
       "      <td>Via</td>\n",
       "      <td>SALA DEI LONGOBARDI</td>\n",
       "      <td>2</td>\n",
       "      <td>217</td>\n",
       "      <td>1</td>\n",
       "      <td>NaN</td>\n",
       "      <td>NaN</td>\n",
       "      <td>Via</td>\n",
       "      <td>SALA DEI LONGOBARDI</td>\n",
       "      <td>2</td>\n",
       "      <td>1</td>\n",
       "      <td>NaN</td>\n",
       "      <td>False</td>\n",
       "      <td>False</td>\n",
       "    </tr>\n",
       "    <tr>\n",
       "      <th>3800</th>\n",
       "      <td>Tipo B - Centro di Abbronzatura;Tipo A - Estetica Manuale</td>\n",
       "      <td>Viale</td>\n",
       "      <td>CERTOSA</td>\n",
       "      <td>NaN</td>\n",
       "      <td>7174</td>\n",
       "      <td>8</td>\n",
       "      <td>NaN</td>\n",
       "      <td>NaN</td>\n",
       "      <td>Viale</td>\n",
       "      <td>CERTOSA</td>\n",
       "      <td>21A</td>\n",
       "      <td>8</td>\n",
       "      <td>interno palestra</td>\n",
       "      <td>False</td>\n",
       "      <td>False</td>\n",
       "    </tr>\n",
       "    <tr>\n",
       "      <th>3838</th>\n",
       "      <td>Tipo B - Centro di Abbronzatura</td>\n",
       "      <td>Via</td>\n",
       "      <td>BARI</td>\n",
       "      <td>NaN</td>\n",
       "      <td>5218</td>\n",
       "      <td>6</td>\n",
       "      <td>NaN</td>\n",
       "      <td>29.0</td>\n",
       "      <td>Via</td>\n",
       "      <td>BARI</td>\n",
       "      <td>11D</td>\n",
       "      <td>6</td>\n",
       "      <td>NaN</td>\n",
       "      <td>False</td>\n",
       "      <td>False</td>\n",
       "    </tr>\n",
       "    <tr>\n",
       "      <th>3906</th>\n",
       "      <td>Tipo D - Estetica Apparati Elettromeccanici;Tipo C - Trattamenti Estetici Dimagrimento;Tipo B - Centro di Abbronzatura</td>\n",
       "      <td>Via</td>\n",
       "      <td>NIRONE</td>\n",
       "      <td>NaN</td>\n",
       "      <td>640</td>\n",
       "      <td>1</td>\n",
       "      <td>NaN</td>\n",
       "      <td>NaN</td>\n",
       "      <td>Via</td>\n",
       "      <td>NIRONE</td>\n",
       "      <td>2A</td>\n",
       "      <td>1</td>\n",
       "      <td>NaN</td>\n",
       "      <td>False</td>\n",
       "      <td>False</td>\n",
       "    </tr>\n",
       "  </tbody>\n",
       "</table>\n",
       "<p>85 rows × 15 columns</p>\n",
       "</div>"
      ],
      "text/plain": [
       "                                                                                                                        t_es  \\\n",
       "143                                                                                                             Acconciatore   \n",
       "163                                                                                                             Acconciatore   \n",
       "209                                                                                                             Acconciatore   \n",
       "242                                                                                                             Acconciatore   \n",
       "285                                                                                                             Acconciatore   \n",
       "...                                                                                                                      ...   \n",
       "3717                                                               Tipo B - Centro di Abbronzatura;Tipo A - Estetica Manuale   \n",
       "3740                                                               Tipo B - Centro di Abbronzatura;Tipo A - Estetica Manuale   \n",
       "3800                                                               Tipo B - Centro di Abbronzatura;Tipo A - Estetica Manuale   \n",
       "3838                                                                                         Tipo B - Centro di Abbronzatura   \n",
       "3906  Tipo D - Estetica Apparati Elettromeccanici;Tipo C - Trattamenti Estetici Dimagrimento;Tipo B - Centro di Abbronzatura   \n",
       "\n",
       "      t_via                  via  civ  cod_via  zd  sup_alt  sup_lav  \\\n",
       "143     Via                PAVIA  NaN     5262   5      NaN      NaN   \n",
       "163     Via  SALA DEI LONGOBARDI    2      217   1      NaN      NaN   \n",
       "209   Corso                 LODI   72     4068   4      NaN     50.0   \n",
       "242   Corso             SEMPIONE   10     7137   1      NaN      NaN   \n",
       "285     Via            APPENNINI  NaN     7514   8      NaN      NaN   \n",
       "...     ...                  ...  ...      ...  ..      ...      ...   \n",
       "3717    Via     LUIGI PIRANDELLO  NaN     6242   7      NaN    100.0   \n",
       "3740    Via  SALA DEI LONGOBARDI    2      217   1      NaN      NaN   \n",
       "3800  Viale              CERTOSA  NaN     7174   8      NaN      NaN   \n",
       "3838    Via                 BARI  NaN     5218   6      NaN     29.0   \n",
       "3906    Via               NIRONE  NaN      640   1      NaN      NaN   \n",
       "\n",
       "     ubic_t_via             ubic_via ubic_civ ubic_zd                    note  \\\n",
       "143         Via                PAVIA        6       5                      /2   \n",
       "163         Via  SALA DEI LONGOBARDI        2       1                     NaN   \n",
       "209         NaN                             8       4            codvia 4386    \n",
       "242         NaN                             0       1  mm1 duomo codvia 9112    \n",
       "285         Via            APPENNINI      77H       8                     NaN   \n",
       "...         ...                  ...      ...     ...                     ...   \n",
       "3717        Via     LUIGI PIRANDELLO       4A       7     piano seminterrato    \n",
       "3740        Via  SALA DEI LONGOBARDI        2       1                     NaN   \n",
       "3800      Viale              CERTOSA      21A       8       interno palestra    \n",
       "3838        Via                 BARI      11D       6                     NaN   \n",
       "3906        Via               NIRONE       2A       1                     NaN   \n",
       "\n",
       "      ubic_flag  full_via_flag  \n",
       "143       False          False  \n",
       "163       False          False  \n",
       "209       False          False  \n",
       "242       False          False  \n",
       "285       False          False  \n",
       "...         ...            ...  \n",
       "3717      False          False  \n",
       "3740      False          False  \n",
       "3800      False          False  \n",
       "3838      False          False  \n",
       "3906      False          False  \n",
       "\n",
       "[85 rows x 15 columns]"
      ]
     },
     "execution_count": 43,
     "metadata": {},
     "output_type": "execute_result"
    }
   ],
   "source": [
    "new_SERVICES[(new_SERVICES.ubic_flag == False) | (new_SERVICES.full_via_flag == False) ]"
   ]
  },
  {
   "cell_type": "code",
   "execution_count": 44,
   "id": "1790c760",
   "metadata": {
    "execution": {
     "iopub.execute_input": "2025-01-17T16:38:29.354025Z",
     "iopub.status.busy": "2025-01-17T16:38:29.353676Z",
     "iopub.status.idle": "2025-01-17T16:38:29.364319Z",
     "shell.execute_reply": "2025-01-17T16:38:29.363141Z"
    },
    "papermill": {
     "duration": 0.110738,
     "end_time": "2025-01-17T16:38:29.366398",
     "exception": false,
     "start_time": "2025-01-17T16:38:29.255660",
     "status": "completed"
    },
    "tags": []
   },
   "outputs": [],
   "source": [
    "new_SERVICES[(new_SERVICES.ubic_flag == False) | (new_SERVICES.full_via_flag == False)].to_csv(\"unmatched.csv\")"
   ]
  },
  {
   "attachments": {},
   "cell_type": "markdown",
   "id": "b4ce0173",
   "metadata": {
    "papermill": {
     "duration": 0.09938,
     "end_time": "2025-01-17T16:38:29.564540",
     "exception": false,
     "start_time": "2025-01-17T16:38:29.465160",
     "status": "completed"
    },
    "tags": []
   },
   "source": [
    "## We start the cleaning (to fix) -> actually we start fixing the values (maybe to put before?)\n",
    "<!-- **Assumption**: `The \"codice via\" value is correct`. <br> -->\n",
    "Now per each column we are going to study the mismatches and clean the data.\n",
    "\n",
    "**ZD mismatches**: we use the dataset VIARIO provided by the municipality of Milan to assess the true values. <br>\n",
    "**CIVIC mismatches** we use the dataset CIVICI provided by the municipality of Milan to assess the true values. In case there is no equal values we assume the \"civ\" value true. <br>\n",
    "**VIA mismatches** we use the information in the column \"Note\" if provided. Otherwise we drop the row.\n",
    "\n",
    "#### ZD mismatches\n",
    "We are going to use as **ground truth** our VIARIO_SECOND dataset using the `cod_via` as key."
   ]
  },
  {
   "cell_type": "code",
   "execution_count": 45,
   "id": "0ad47a97",
   "metadata": {
    "execution": {
     "iopub.execute_input": "2025-01-17T16:38:29.764703Z",
     "iopub.status.busy": "2025-01-17T16:38:29.764285Z",
     "iopub.status.idle": "2025-01-17T16:38:29.768766Z",
     "shell.execute_reply": "2025-01-17T16:38:29.767665Z"
    },
    "papermill": {
     "duration": 0.106431,
     "end_time": "2025-01-17T16:38:29.770392",
     "exception": false,
     "start_time": "2025-01-17T16:38:29.663961",
     "status": "completed"
    },
    "tags": []
   },
   "outputs": [],
   "source": [
    "# # Function to normalize the names by removing extra spaces, converting to lowercase, and sorting words\n",
    "# def normalize_string(s):\n",
    "\n",
    "#     #to remove specific pattern contained in the data\n",
    "#     s = re.sub(r\"sant'\\s*\", \"sant'\", s.lower())  # Fix spaces around 'sant'\n",
    "#     s = re.sub(r\"dell'\\s*\", \"dell'\", s.lower())  # Fix spaces around 'dell\n",
    "#     s = re.sub(r\"[()]\", \"\", s) # Remove the parenthesis\n",
    "    \n",
    "#     # Split the string into words\n",
    "#     words = s.strip().split()\n",
    "    \n",
    "#     # Sort the words alphabetically\n",
    "#     words.sort()\n",
    "    \n",
    "#     # Join the words back together and convert to lowercase\n",
    "#     return \" \".join(words)\n",
    "\n",
    "# # Function to compute the edit distance between two strings (after normalization)\n",
    "# def calculate_similarity(str1, str2):\n",
    "#     return fuzz.ratio(str1, str2)\n",
    "\n",
    "# # Merge new_SERVICES with viario on 'cod_via' and 'CODICE_VIA' to bring in 'DESCRITTIVO'\n",
    "# merged_df = new_SERVICES.merge(viario[['CODICE_VIA', 'DESCRITTIVO', 'DENOMINAZIONE']], left_on='cod_via', right_on='CODICE_VIA', how='left')\n",
    "\n",
    "# # Normalize 'via' and 'DESCRITTIVO' columns\n",
    "# merged_df['normalized_via'] = merged_df['via'].apply(normalize_string)\n",
    "# merged_df['normalized_descrittivo'] = merged_df['DESCRITTIVO'].apply(normalize_string)\n",
    "# merged_df['normalized_denominazione'] = merged_df['DENOMINAZIONE'].apply(normalize_string)\n",
    "\n",
    "# # Calculate the similarity between normalized values using edit distance\n",
    "# merged_df['similarity'] = merged_df.apply(lambda row: max(calculate_similarity(row['normalized_via'], row['normalized_descrittivo']), calculate_similarity(row['normalized_via'], row['normalized_denominazione'])), axis=1)\n",
    "\n",
    "# # Print rows where the similarity is below a certain threshold (e.g., 80)\n",
    "# threshold = 75\n",
    "# non_matching_rows = merged_df[merged_df['similarity'] < threshold]\n",
    "\n",
    "# # Show the rows with low similarity\n",
    "# print(f\"Rows where normalized 'via' and 'DESCRITTIVO' are not similar enough (below {threshold}% similarity):\")\n",
    "# non_matching_rows[['cod_via', 'via', 'DENOMINAZIONE', 'DESCRITTIVO', 'normalized_via', 'normalized_descrittivo', 'normalized_denominazione', 'similarity']].sort_values(by=\"similarity\", ascending=True)"
   ]
  },
  {
   "cell_type": "code",
   "execution_count": 46,
   "id": "157ba089",
   "metadata": {
    "execution": {
     "iopub.execute_input": "2025-01-17T16:38:29.968267Z",
     "iopub.status.busy": "2025-01-17T16:38:29.967911Z",
     "iopub.status.idle": "2025-01-17T16:38:29.971914Z",
     "shell.execute_reply": "2025-01-17T16:38:29.970970Z"
    },
    "papermill": {
     "duration": 0.104364,
     "end_time": "2025-01-17T16:38:29.973380",
     "exception": false,
     "start_time": "2025-01-17T16:38:29.869016",
     "status": "completed"
    },
    "tags": []
   },
   "outputs": [],
   "source": [
    "# # Step 1: Merge the DataFrames on cod_via and CODICE_VIA\n",
    "# merged_df = new_SERVICES.merge(viario_centroidi[['CODICE_VIA', 'MUNICIPIO']], left_on='cod_via', right_on='CODICE_VIA', how='left')\n",
    "\n",
    "# merged_df['zd'] = merged_df['zd'].astype(int)\n",
    "\n",
    "# # Step 2: Compare new_SERVICES.zd with viario.MUNICIPIO\n",
    "# merged_df['zd_match'] = merged_df['zd'] == merged_df['MUNICIPIO']\n",
    "\n",
    "# # Step 3: Extract rows where zd and MUNICIPIO do not match\n",
    "# mismatch_rows = merged_df[~merged_df['zd_match']]\n",
    "\n",
    "# # Step 4: Display the mismatched rows for review\n",
    "# print(\"Mismatched rows between 'zd' and 'MUNICIPIO':\")\n",
    "# print(mismatch_rows[['cod_via', 'via', 'zd', 'MUNICIPIO']])"
   ]
  },
  {
   "cell_type": "code",
   "execution_count": 47,
   "id": "e0f03180",
   "metadata": {
    "execution": {
     "iopub.execute_input": "2025-01-17T16:38:30.172993Z",
     "iopub.status.busy": "2025-01-17T16:38:30.172552Z",
     "iopub.status.idle": "2025-01-17T16:38:30.176316Z",
     "shell.execute_reply": "2025-01-17T16:38:30.175415Z"
    },
    "papermill": {
     "duration": 0.106655,
     "end_time": "2025-01-17T16:38:30.177906",
     "exception": false,
     "start_time": "2025-01-17T16:38:30.071251",
     "status": "completed"
    },
    "tags": []
   },
   "outputs": [],
   "source": [
    "# # Get unique values\n",
    "# unique_values = civici['NUMEROCOMPLETO'].unique()\n",
    "\n",
    "# # Sort the unique values\n",
    "# sorted_values = sorted(unique_values)\n",
    "\n",
    "# # Display the sorted values\n",
    "# print(sorted_values)"
   ]
  },
  {
   "cell_type": "markdown",
   "id": "bb860343",
   "metadata": {
    "papermill": {
     "duration": 0.096251,
     "end_time": "2025-01-17T16:38:30.370839",
     "exception": false,
     "start_time": "2025-01-17T16:38:30.274588",
     "status": "completed"
    },
    "tags": []
   },
   "source": [
    "# To start again from here"
   ]
  },
  {
   "cell_type": "markdown",
   "id": "12f3db0a",
   "metadata": {
    "papermill": {
     "duration": 0.096254,
     "end_time": "2025-01-17T16:38:30.563697",
     "exception": false,
     "start_time": "2025-01-17T16:38:30.467443",
     "status": "completed"
    },
    "tags": []
   },
   "source": []
  },
  {
   "cell_type": "code",
   "execution_count": 48,
   "id": "82557752",
   "metadata": {
    "execution": {
     "iopub.execute_input": "2025-01-17T16:38:30.760881Z",
     "iopub.status.busy": "2025-01-17T16:38:30.760482Z",
     "iopub.status.idle": "2025-01-17T16:38:30.764272Z",
     "shell.execute_reply": "2025-01-17T16:38:30.763390Z"
    },
    "papermill": {
     "duration": 0.104199,
     "end_time": "2025-01-17T16:38:30.765764",
     "exception": false,
     "start_time": "2025-01-17T16:38:30.661565",
     "status": "completed"
    },
    "tags": []
   },
   "outputs": [],
   "source": [
    "# zd_condition = (new_SERVICES[\"zd\"]!=new_SERVICES[\"ubic_zd\"])"
   ]
  },
  {
   "cell_type": "code",
   "execution_count": 49,
   "id": "f5cbdc77",
   "metadata": {
    "execution": {
     "iopub.execute_input": "2025-01-17T16:38:30.959442Z",
     "iopub.status.busy": "2025-01-17T16:38:30.959070Z",
     "iopub.status.idle": "2025-01-17T16:38:30.962993Z",
     "shell.execute_reply": "2025-01-17T16:38:30.961966Z"
    },
    "papermill": {
     "duration": 0.102408,
     "end_time": "2025-01-17T16:38:30.964500",
     "exception": false,
     "start_time": "2025-01-17T16:38:30.862092",
     "status": "completed"
    },
    "tags": []
   },
   "outputs": [],
   "source": [
    "# new_SERVICES[zd_condition].head()"
   ]
  },
  {
   "cell_type": "code",
   "execution_count": 50,
   "id": "1e4be966",
   "metadata": {
    "execution": {
     "iopub.execute_input": "2025-01-17T16:38:31.222192Z",
     "iopub.status.busy": "2025-01-17T16:38:31.221828Z",
     "iopub.status.idle": "2025-01-17T16:38:31.225768Z",
     "shell.execute_reply": "2025-01-17T16:38:31.224726Z"
    },
    "papermill": {
     "duration": 0.165345,
     "end_time": "2025-01-17T16:38:31.227329",
     "exception": false,
     "start_time": "2025-01-17T16:38:31.061984",
     "status": "completed"
    },
    "tags": []
   },
   "outputs": [],
   "source": [
    "# new_SERVICES.head()"
   ]
  },
  {
   "cell_type": "code",
   "execution_count": 51,
   "id": "b9300129",
   "metadata": {
    "execution": {
     "iopub.execute_input": "2025-01-17T16:38:31.424049Z",
     "iopub.status.busy": "2025-01-17T16:38:31.423665Z",
     "iopub.status.idle": "2025-01-17T16:38:31.427494Z",
     "shell.execute_reply": "2025-01-17T16:38:31.426507Z"
    },
    "papermill": {
     "duration": 0.102969,
     "end_time": "2025-01-17T16:38:31.429233",
     "exception": false,
     "start_time": "2025-01-17T16:38:31.326264",
     "status": "completed"
    },
    "tags": []
   },
   "outputs": [],
   "source": [
    "# civici_milan.DESCRITTIVO.unique()"
   ]
  },
  {
   "cell_type": "code",
   "execution_count": 52,
   "id": "aaa23e9f",
   "metadata": {
    "execution": {
     "iopub.execute_input": "2025-01-17T16:38:31.625761Z",
     "iopub.status.busy": "2025-01-17T16:38:31.625361Z",
     "iopub.status.idle": "2025-01-17T16:38:31.629569Z",
     "shell.execute_reply": "2025-01-17T16:38:31.628572Z"
    },
    "papermill": {
     "duration": 0.105783,
     "end_time": "2025-01-17T16:38:31.631248",
     "exception": false,
     "start_time": "2025-01-17T16:38:31.525465",
     "status": "completed"
    },
    "tags": []
   },
   "outputs": [],
   "source": [
    "# def check_zd_in_viario(row, viario_df):\n",
    "#     \"\"\" Function to check and update 'zd' and 'ubic_zd' based on 'viario_df' dataset \"\"\"\n",
    "    \n",
    "#     ubic_zd = row.get('ubic_zd', None) \n",
    "#     zd = row.get('zd', None) \n",
    "#     cod_via = row.get('cod_via', None)  # Extract 'cod_via' from the row\n",
    "    \n",
    "#     # Find the corresponding MUNICIPIO in viario_df using cod_via\n",
    "#     viario_row = viario_df[viario_df['CODICE_VIA'] == cod_via]\n",
    "    \n",
    "#     if not viario_row.empty:\n",
    "#         zd_viario = viario_row['MUNICIPIO'].values[0]  # Get the MUNICIPIO value\n",
    "#     else:\n",
    "#         zd_viario = None  # If no matching cod_via found, set zd_viario to None\n",
    "    \n",
    "#     # Check if MUNICIPIO matches ubic_zd or zd and update accordingly\n",
    "#     if str(zd_viario) == str(ubic_zd):\n",
    "#         row['zd'] = ubic_zd\n",
    "#     elif str(zd_viario) == str(zd):\n",
    "#         row['ubic_zd'] = zd\n",
    "#     else:\n",
    "#         # Default to municipio for both if no match\n",
    "#         row['ubic_zd'] = zd_viario\n",
    "#         row['zd'] = zd_viario\n",
    "    \n",
    "#     return row\n",
    "\n",
    "# def update_rows_with_viario(new_services, viario_second, zd_condition):\n",
    "    \n",
    "#     # Apply the function to each row of new_SERVICES[zd_condition]\n",
    "#     updated_rows = new_services[zd_condition].apply(check_zd_in_viario, axis=1, viario_df=viario_second)\n",
    "    \n",
    "#     # Replace the updated rows in new_SERVICES\n",
    "#     new_services.loc[zd_condition] = updated_rows\n",
    "    \n",
    "#     return new_services\n",
    "\n",
    "# new_SERVICES = update_rows_with_viario(new_SERVICES, viario_second, zd_condition)"
   ]
  },
  {
   "cell_type": "markdown",
   "id": "08c4c128",
   "metadata": {
    "papermill": {
     "duration": 0.096064,
     "end_time": "2025-01-17T16:38:31.823212",
     "exception": false,
     "start_time": "2025-01-17T16:38:31.727148",
     "status": "completed"
    },
    "tags": []
   },
   "source": [
    "### Civico\n",
    "We are going to use the \"CiviciCdMi\" dataset provided by the municipality of Milan on their website: https://geoportale.comune.milano.it/sit/toponomastica/ as ground truth."
   ]
  },
  {
   "cell_type": "code",
   "execution_count": 53,
   "id": "2f8ba19f",
   "metadata": {
    "execution": {
     "iopub.execute_input": "2025-01-17T16:38:32.018504Z",
     "iopub.status.busy": "2025-01-17T16:38:32.018140Z",
     "iopub.status.idle": "2025-01-17T16:38:32.022017Z",
     "shell.execute_reply": "2025-01-17T16:38:32.020987Z"
    },
    "papermill": {
     "duration": 0.102932,
     "end_time": "2025-01-17T16:38:32.023712",
     "exception": false,
     "start_time": "2025-01-17T16:38:31.920780",
     "status": "completed"
    },
    "tags": []
   },
   "outputs": [],
   "source": [
    "# def normalize_column(column):\n",
    "#     return (\n",
    "#         column.fillna(\"\")  # Replace NaN with empty strings\n",
    "#         .astype(str)       # Ensure the column is of string type\n",
    "#         .str.strip()       # Remove leading and trailing whitespaces\n",
    "#         .str.lower()       # Normalize to lowercase for comparison\n",
    "#     )\n",
    "\n",
    "# new_SERVICES[\"civ\"] = normalize_column(new_SERVICES[\"civ\"])\n",
    "# new_SERVICES[\"ubic_civ\"] = normalize_column(new_SERVICES[\"ubic_civ\"])\n",
    "\n",
    "# # Recompute the condition\n",
    "# civ_condition = (new_SERVICES[\"civ\"] != new_SERVICES[\"ubic_civ\"])"
   ]
  },
  {
   "cell_type": "code",
   "execution_count": 54,
   "id": "08fa8dfc",
   "metadata": {
    "execution": {
     "iopub.execute_input": "2025-01-17T16:38:32.221383Z",
     "iopub.status.busy": "2025-01-17T16:38:32.221049Z",
     "iopub.status.idle": "2025-01-17T16:38:32.225048Z",
     "shell.execute_reply": "2025-01-17T16:38:32.223941Z"
    },
    "papermill": {
     "duration": 0.104203,
     "end_time": "2025-01-17T16:38:32.226620",
     "exception": false,
     "start_time": "2025-01-17T16:38:32.122417",
     "status": "completed"
    },
    "tags": []
   },
   "outputs": [],
   "source": [
    "# civ_condition_to_drop = pd.isna(new_SERVICES[\"civ\"]) & pd.isna(new_SERVICES[\"ubic_civ\"])"
   ]
  },
  {
   "cell_type": "code",
   "execution_count": 55,
   "id": "1e8ba0a2",
   "metadata": {
    "execution": {
     "iopub.execute_input": "2025-01-17T16:38:32.423968Z",
     "iopub.status.busy": "2025-01-17T16:38:32.423543Z",
     "iopub.status.idle": "2025-01-17T16:38:32.427987Z",
     "shell.execute_reply": "2025-01-17T16:38:32.426882Z"
    },
    "papermill": {
     "duration": 0.105129,
     "end_time": "2025-01-17T16:38:32.429753",
     "exception": false,
     "start_time": "2025-01-17T16:38:32.324624",
     "status": "completed"
    },
    "tags": []
   },
   "outputs": [],
   "source": [
    "# new_SERVICES = new_SERVICES[~civ_condition_to_drop]"
   ]
  },
  {
   "cell_type": "code",
   "execution_count": 56,
   "id": "4c05fc64",
   "metadata": {
    "execution": {
     "iopub.execute_input": "2025-01-17T16:38:32.626517Z",
     "iopub.status.busy": "2025-01-17T16:38:32.626129Z",
     "iopub.status.idle": "2025-01-17T16:38:32.629862Z",
     "shell.execute_reply": "2025-01-17T16:38:32.628921Z"
    },
    "papermill": {
     "duration": 0.104034,
     "end_time": "2025-01-17T16:38:32.631442",
     "exception": false,
     "start_time": "2025-01-17T16:38:32.527408",
     "status": "completed"
    },
    "tags": []
   },
   "outputs": [],
   "source": [
    "# new_SERVICES[civ_condition].shape"
   ]
  },
  {
   "cell_type": "code",
   "execution_count": 57,
   "id": "4b1b4276",
   "metadata": {
    "execution": {
     "iopub.execute_input": "2025-01-17T16:38:32.826446Z",
     "iopub.status.busy": "2025-01-17T16:38:32.826082Z",
     "iopub.status.idle": "2025-01-17T16:38:32.830217Z",
     "shell.execute_reply": "2025-01-17T16:38:32.829195Z"
    },
    "papermill": {
     "duration": 0.103579,
     "end_time": "2025-01-17T16:38:32.831994",
     "exception": false,
     "start_time": "2025-01-17T16:38:32.728415",
     "status": "completed"
    },
    "tags": []
   },
   "outputs": [],
   "source": [
    "# def check_civ_in_civici(row, civici_df):\n",
    "#     \"\"\" Function to check and update 'civ' and 'ubic_civ' based on 'viario_df' dataset \"\"\"\n",
    "    \n",
    "#     # Get values from the row\n",
    "#     ubic_civ = row.get('ubic_civ', None) \n",
    "#     civ = row.get('civ', None) \n",
    "#     cod_via = row.get('cod_via', None)  \n",
    "    \n",
    "#     # Handle NaN values explicitly, treat them as empty strings\n",
    "#     if pd.isna(ubic_civ):\n",
    "#         ubic_civ = ''\n",
    "#     if pd.isna(civ):\n",
    "#         civ = ''\n",
    "    \n",
    "#     # Get the rows from civici_df that match the 'cod_via'\n",
    "#     civici_rows = civici_df[civici_df['CODICE_VIA'] == cod_via]\n",
    "\n",
    "#     row['valid'] = True\n",
    "\n",
    "#     if not civici_rows.empty:\n",
    "#         arr_civici = civici_rows['NUMEROCOMPLETO'].tolist()  # Collect all 'NUMEROCOMPLETO' values\n",
    "                \n",
    "#         if civ in arr_civici and ubic_civ not in arr_civici:\n",
    "#             # Only 'civ' is valid, update 'ubic_civ' with 'civ'\n",
    "#             row['ubic_civ'] = civ\n",
    "#         elif ubic_civ in arr_civici and civ not in arr_civici:\n",
    "#             # Only 'ubic_civ' is valid, update 'civ' with 'ubic_civ'\n",
    "#             row['civ'] = ubic_civ\n",
    "#         else:\n",
    "#             # Neither 'ubic_civ' nor 'civ' are valid\n",
    "#             row[:] = pd.NA\n",
    "#     else:\n",
    "#         # No matching rows in civici_df, mark as invalid\n",
    "#         row[:] = pd.NA\n",
    "        \n",
    "#     return row"
   ]
  },
  {
   "cell_type": "code",
   "execution_count": 58,
   "id": "710f8f3c",
   "metadata": {
    "execution": {
     "iopub.execute_input": "2025-01-17T16:38:33.029077Z",
     "iopub.status.busy": "2025-01-17T16:38:33.028628Z",
     "iopub.status.idle": "2025-01-17T16:38:33.032741Z",
     "shell.execute_reply": "2025-01-17T16:38:33.031734Z"
    },
    "papermill": {
     "duration": 0.105285,
     "end_time": "2025-01-17T16:38:33.034320",
     "exception": false,
     "start_time": "2025-01-17T16:38:32.929035",
     "status": "completed"
    },
    "tags": []
   },
   "outputs": [],
   "source": [
    "# def update_rows_with_civici(new_services, civici_milan, civ_condition):\n",
    "    \n",
    "#     # Apply the function to each row of new_SERVICES[zd_condition]\n",
    "#     updated_rows = new_services[civ_condition].apply(check_civ_in_civici, axis=1, civici_df=civici_milan)\n",
    "    \n",
    "#     # Replace the updated rows in new_SERVICES\n",
    "#     new_services.loc[civ_condition] = updated_rows\n",
    "\n",
    "#     new_services = new_services.dropna(how='all')\n",
    "    \n",
    "#     return new_services\n",
    "\n",
    "# new_SERVICES = update_rows_with_civici(new_SERVICES, civici_milan, civ_condition)"
   ]
  },
  {
   "cell_type": "markdown",
   "id": "9d54d95a",
   "metadata": {
    "papermill": {
     "duration": 0.096195,
     "end_time": "2025-01-17T16:38:33.228446",
     "exception": false,
     "start_time": "2025-01-17T16:38:33.132251",
     "status": "completed"
    },
    "tags": []
   },
   "source": [
    "### Via\n",
    "We are going to study the data in the \"Note\" column. The idea is to retrieve the via names stored in this column. In case this value is equal to either one between \"via\" and \"ubic_via\" that one will be considered as corrected. "
   ]
  },
  {
   "cell_type": "code",
   "execution_count": 59,
   "id": "88f2fe80",
   "metadata": {
    "execution": {
     "iopub.execute_input": "2025-01-17T16:38:33.422043Z",
     "iopub.status.busy": "2025-01-17T16:38:33.421691Z",
     "iopub.status.idle": "2025-01-17T16:38:33.425206Z",
     "shell.execute_reply": "2025-01-17T16:38:33.424282Z"
    },
    "papermill": {
     "duration": 0.102082,
     "end_time": "2025-01-17T16:38:33.426670",
     "exception": false,
     "start_time": "2025-01-17T16:38:33.324588",
     "status": "completed"
    },
    "tags": []
   },
   "outputs": [],
   "source": [
    "# via_condition = (new_SERVICES[\"via\"]!=new_SERVICES[\"ubic_via\"])\n",
    "# note_condition = (new_SERVICES[\"note\"]!=\"\")"
   ]
  },
  {
   "cell_type": "code",
   "execution_count": 60,
   "id": "40326789",
   "metadata": {
    "execution": {
     "iopub.execute_input": "2025-01-17T16:38:33.624622Z",
     "iopub.status.busy": "2025-01-17T16:38:33.624255Z",
     "iopub.status.idle": "2025-01-17T16:38:33.628142Z",
     "shell.execute_reply": "2025-01-17T16:38:33.626946Z"
    },
    "papermill": {
     "duration": 0.105601,
     "end_time": "2025-01-17T16:38:33.630005",
     "exception": false,
     "start_time": "2025-01-17T16:38:33.524404",
     "status": "completed"
    },
    "tags": []
   },
   "outputs": [],
   "source": [
    "# new_SERVICES[via_condition].shape"
   ]
  },
  {
   "cell_type": "code",
   "execution_count": 61,
   "id": "287888c0",
   "metadata": {
    "execution": {
     "iopub.execute_input": "2025-01-17T16:38:33.826978Z",
     "iopub.status.busy": "2025-01-17T16:38:33.826556Z",
     "iopub.status.idle": "2025-01-17T16:38:33.831003Z",
     "shell.execute_reply": "2025-01-17T16:38:33.829868Z"
    },
    "papermill": {
     "duration": 0.103749,
     "end_time": "2025-01-17T16:38:33.832695",
     "exception": false,
     "start_time": "2025-01-17T16:38:33.728946",
     "status": "completed"
    },
    "tags": []
   },
   "outputs": [],
   "source": [
    "# def preprocess_note(note):\n",
    "#     # Convert to lower case for case-insensitive matching\n",
    "#     note = str(note).lower()\n",
    "    \n",
    "#     # Check if the note contains 'via' or 'v.le'\n",
    "#     if \"via\" in note:\n",
    "#         # Keep only the part after 'via'\n",
    "#         note = note.split(\"via\", 1)[1].strip()  # Keep everything after 'via'\n",
    "#     elif \"v.le\" in note:\n",
    "#         # Keep only the part after 'v.le'\n",
    "#         note = note.split(\"v.le\", 1)[1].strip()  # Keep everything after 'v.le'\n",
    "#     else:\n",
    "#         # Return an empty string if it doesn't contain 'via' or 'v.le'\n",
    "#         note = \"\"\n",
    "    \n",
    "#     return note\n",
    "\n",
    "# # Apply the preprocess function to the 'note' column\n",
    "# new_SERVICES.loc[via_condition, 'note'] = new_SERVICES.loc[via_condition, 'note'].apply(preprocess_note)"
   ]
  },
  {
   "cell_type": "code",
   "execution_count": 62,
   "id": "3fc5957a",
   "metadata": {
    "execution": {
     "iopub.execute_input": "2025-01-17T16:38:34.030840Z",
     "iopub.status.busy": "2025-01-17T16:38:34.030404Z",
     "iopub.status.idle": "2025-01-17T16:38:34.034460Z",
     "shell.execute_reply": "2025-01-17T16:38:34.033409Z"
    },
    "papermill": {
     "duration": 0.106061,
     "end_time": "2025-01-17T16:38:34.036241",
     "exception": false,
     "start_time": "2025-01-17T16:38:33.930180",
     "status": "completed"
    },
    "tags": []
   },
   "outputs": [],
   "source": [
    "# new_SERVICES.loc[via_condition & note_condition].head()"
   ]
  },
  {
   "cell_type": "markdown",
   "id": "c9c50519",
   "metadata": {
    "papermill": {
     "duration": 0.098977,
     "end_time": "2025-01-17T16:38:34.291042",
     "exception": false,
     "start_time": "2025-01-17T16:38:34.192065",
     "status": "completed"
    },
    "tags": []
   },
   "source": [
    "There are only 3 rows where the via and ubic_via are different and the processed note value is not null. Despite that the note doesn't add any type of information. <br>\n",
    "We proceed in removing all the rows with a mismatch between \"via\" and \"ubic_via\""
   ]
  },
  {
   "cell_type": "code",
   "execution_count": 63,
   "id": "7116f266",
   "metadata": {
    "execution": {
     "iopub.execute_input": "2025-01-17T16:38:34.487072Z",
     "iopub.status.busy": "2025-01-17T16:38:34.486628Z",
     "iopub.status.idle": "2025-01-17T16:38:34.490703Z",
     "shell.execute_reply": "2025-01-17T16:38:34.489585Z"
    },
    "papermill": {
     "duration": 0.104452,
     "end_time": "2025-01-17T16:38:34.492291",
     "exception": false,
     "start_time": "2025-01-17T16:38:34.387839",
     "status": "completed"
    },
    "tags": []
   },
   "outputs": [],
   "source": [
    "# new_SERVICES = new_SERVICES.loc[~via_condition]"
   ]
  },
  {
   "cell_type": "code",
   "execution_count": 64,
   "id": "6f7bb7a6",
   "metadata": {
    "execution": {
     "iopub.execute_input": "2025-01-17T16:38:34.689697Z",
     "iopub.status.busy": "2025-01-17T16:38:34.689334Z",
     "iopub.status.idle": "2025-01-17T16:38:34.693309Z",
     "shell.execute_reply": "2025-01-17T16:38:34.692295Z"
    },
    "papermill": {
     "duration": 0.104971,
     "end_time": "2025-01-17T16:38:34.695042",
     "exception": false,
     "start_time": "2025-01-17T16:38:34.590071",
     "status": "completed"
    },
    "tags": []
   },
   "outputs": [],
   "source": [
    "# # Initialize dictionary to store mismatches\n",
    "# mismatch_rows = {\n",
    "#     \"note not empty\": [],\n",
    "#     \"civ not match\": [],\n",
    "#     \"via not match\": [],\n",
    "#     \"zd not match\": [],\n",
    "# }\n",
    "\n",
    "# # Apply the function to check and log mismatches\n",
    "# new_SERVICES = check_and_log_mismatches(new_SERVICES)\n",
    "\n",
    "# # Print summary of mismatches\n",
    "# print(\"\\nSummary of mismatches:\")\n",
    "# for key, value in mismatch_rows.items():\n",
    "#     print(f\"{key}: {len(value)} mismatches\")"
   ]
  },
  {
   "cell_type": "markdown",
   "id": "70cb399f",
   "metadata": {
    "papermill": {
     "duration": 0.097215,
     "end_time": "2025-01-17T16:38:34.889813",
     "exception": false,
     "start_time": "2025-01-17T16:38:34.792598",
     "status": "completed"
    },
    "tags": []
   },
   "source": [
    "We can also drop the column \"Note\" since it doesn't add any meaningful information"
   ]
  },
  {
   "cell_type": "code",
   "execution_count": 65,
   "id": "107412db",
   "metadata": {
    "execution": {
     "iopub.execute_input": "2025-01-17T16:38:35.086515Z",
     "iopub.status.busy": "2025-01-17T16:38:35.086189Z",
     "iopub.status.idle": "2025-01-17T16:38:35.089907Z",
     "shell.execute_reply": "2025-01-17T16:38:35.088912Z"
    },
    "papermill": {
     "duration": 0.103717,
     "end_time": "2025-01-17T16:38:35.091451",
     "exception": false,
     "start_time": "2025-01-17T16:38:34.987734",
     "status": "completed"
    },
    "tags": []
   },
   "outputs": [],
   "source": [
    "# new_SERVICES = new_SERVICES.drop(columns=[\"note\"])"
   ]
  },
  {
   "cell_type": "code",
   "execution_count": 66,
   "id": "67a7edb7",
   "metadata": {
    "execution": {
     "iopub.execute_input": "2025-01-17T16:38:35.294201Z",
     "iopub.status.busy": "2025-01-17T16:38:35.293828Z",
     "iopub.status.idle": "2025-01-17T16:38:35.298065Z",
     "shell.execute_reply": "2025-01-17T16:38:35.296953Z"
    },
    "papermill": {
     "duration": 0.109238,
     "end_time": "2025-01-17T16:38:35.299942",
     "exception": false,
     "start_time": "2025-01-17T16:38:35.190704",
     "status": "completed"
    },
    "tags": []
   },
   "outputs": [],
   "source": [
    "#Qui dentro si potranno visualizzare meglio le colonne.\n",
    "# new_SERVICES.to_csv(\"new_final.csv\")"
   ]
  },
  {
   "cell_type": "markdown",
   "id": "63a0bd59",
   "metadata": {
    "papermill": {
     "duration": 0.102405,
     "end_time": "2025-01-17T16:38:35.499939",
     "exception": false,
     "start_time": "2025-01-17T16:38:35.397534",
     "status": "completed"
    },
    "tags": []
   },
   "source": [
    "# Removal (to decide what to do)\n",
    "We drop rows labeled as \"Truccatore\" in \"t_es\", since the class is under-represented."
   ]
  },
  {
   "cell_type": "code",
   "execution_count": 67,
   "id": "72e51b58",
   "metadata": {
    "execution": {
     "iopub.execute_input": "2025-01-17T16:38:35.705057Z",
     "iopub.status.busy": "2025-01-17T16:38:35.704596Z",
     "iopub.status.idle": "2025-01-17T16:38:35.708805Z",
     "shell.execute_reply": "2025-01-17T16:38:35.707788Z"
    },
    "papermill": {
     "duration": 0.107472,
     "end_time": "2025-01-17T16:38:35.710365",
     "exception": false,
     "start_time": "2025-01-17T16:38:35.602893",
     "status": "completed"
    },
    "tags": []
   },
   "outputs": [],
   "source": [
    "# new_SERVICES = new_SERVICES[new_SERVICES[\"t_es\"] != \"Truccatore\"]"
   ]
  }
 ],
 "metadata": {
  "kaggle": {
   "accelerator": "none",
   "dataSources": [],
   "dockerImageVersionId": 30822,
   "isGpuEnabled": false,
   "isInternetEnabled": true,
   "language": "python",
   "sourceType": "notebook"
  },
  "kernelspec": {
   "display_name": "Python 3",
   "language": "python",
   "name": "python3"
  },
  "language_info": {
   "codemirror_mode": {
    "name": "ipython",
    "version": 3
   },
   "file_extension": ".py",
   "mimetype": "text/x-python",
   "name": "python",
   "nbconvert_exporter": "python",
   "pygments_lexer": "ipython3",
   "version": "3.10.12"
  },
  "papermill": {
   "default_parameters": {},
   "duration": 226.650183,
   "end_time": "2025-01-17T16:38:36.529070",
   "environment_variables": {},
   "exception": null,
   "input_path": "__notebook__.ipynb",
   "output_path": "__notebook__.ipynb",
   "parameters": {},
   "start_time": "2025-01-17T16:34:49.878887",
   "version": "2.6.0"
  }
 },
 "nbformat": 4,
 "nbformat_minor": 5
}

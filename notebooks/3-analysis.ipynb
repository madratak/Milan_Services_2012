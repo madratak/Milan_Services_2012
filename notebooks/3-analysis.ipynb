{
 "cells": [
  {
   "cell_type": "markdown",
   "id": "69c2a110",
   "metadata": {
    "papermill": {
     "duration": 0.008457,
     "end_time": "2025-01-18T15:48:40.781436",
     "exception": false,
     "start_time": "2025-01-18T15:48:40.772979",
     "status": "completed"
    },
    "tags": []
   },
   "source": [
    "# 3. Data Analysis\n",
    "**Group Project for DATA INFORMATION AND QUALITY (2024-2025)** <br>\n",
    "Analysis of Milan Personal Services - Database 12 <br>\n",
    "Mauro Orazio Drago, Dennis Pierantozzi, Davide Morelli\n",
    "\n",
    "The project requests to choose a type of analysis to perform on both the dirty and clean datasets to assess the quality of the data preparation pipeline developed in the previous steps. <br>\n",
    "\n",
    "We have decided to focus on a **classification task for the \"Tipo esercizio pa\" column**, aiming to predict its value based on the other available data."
   ]
  },
  {
   "cell_type": "markdown",
   "id": "2c8492fe",
   "metadata": {
    "papermill": {
     "duration": 0.006109,
     "end_time": "2025-01-18T15:48:40.794307",
     "exception": false,
     "start_time": "2025-01-18T15:48:40.788198",
     "status": "completed"
    },
    "tags": []
   },
   "source": [
    "### Import the repository from GitHub\n",
    "\n",
    "First of all we start by importing the repository that we stored in the github project."
   ]
  },
  {
   "cell_type": "code",
   "execution_count": 1,
   "id": "1ce8d3d7",
   "metadata": {
    "execution": {
     "iopub.execute_input": "2025-01-18T15:48:40.808794Z",
     "iopub.status.busy": "2025-01-18T15:48:40.808299Z",
     "iopub.status.idle": "2025-01-18T15:48:41.104420Z",
     "shell.execute_reply": "2025-01-18T15:48:41.103495Z"
    },
    "papermill": {
     "duration": 0.305431,
     "end_time": "2025-01-18T15:48:41.106261",
     "exception": false,
     "start_time": "2025-01-18T15:48:40.800830",
     "status": "completed"
    },
    "tags": []
   },
   "outputs": [],
   "source": [
    "from kaggle_secrets import UserSecretsClient\n",
    "user_secrets = UserSecretsClient()\n",
    "secret_value_1 = user_secrets.get_secret(\"NEW_GITHUB_TOKEN\")"
   ]
  },
  {
   "cell_type": "code",
   "execution_count": 2,
   "id": "5ff80bea",
   "metadata": {
    "execution": {
     "iopub.execute_input": "2025-01-18T15:48:41.120299Z",
     "iopub.status.busy": "2025-01-18T15:48:41.119980Z",
     "iopub.status.idle": "2025-01-18T15:48:43.760572Z",
     "shell.execute_reply": "2025-01-18T15:48:43.759548Z"
    },
    "papermill": {
     "duration": 2.649657,
     "end_time": "2025-01-18T15:48:43.762428",
     "exception": false,
     "start_time": "2025-01-18T15:48:41.112771",
     "status": "completed"
    },
    "tags": []
   },
   "outputs": [
    {
     "name": "stdout",
     "output_type": "stream",
     "text": [
      "Cloning into 'Milan_Services_2012'...\r\n",
      "remote: Enumerating objects: 172, done.\u001b[K\r\n",
      "remote: Counting objects: 100% (172/172), done.\u001b[K\r\n",
      "remote: Compressing objects: 100% (139/139), done.\u001b[K\r\n",
      "remote: Total 172 (delta 76), reused 69 (delta 19), pack-reused 0 (from 0)\u001b[K\r\n",
      "Receiving objects: 100% (172/172), 4.95 MiB | 10.11 MiB/s, done.\r\n",
      "Resolving deltas: 100% (76/76), done.\r\n"
     ]
    }
   ],
   "source": [
    "token = UserSecretsClient().get_secret(\"NEW_GITHUB_TOKEN\")\n",
    "! git clone https://{token}@github.com/madratak/Milan_Services_2012.git"
   ]
  },
  {
   "cell_type": "markdown",
   "id": "cf339506",
   "metadata": {
    "papermill": {
     "duration": 0.006938,
     "end_time": "2025-01-18T15:48:43.777122",
     "exception": false,
     "start_time": "2025-01-18T15:48:43.770184",
     "status": "completed"
    },
    "tags": []
   },
   "source": [
    "## Set up\n",
    "Below some libraries, dataset dirty and cleaned one have been imported."
   ]
  },
  {
   "cell_type": "code",
   "execution_count": 3,
   "id": "1782a401",
   "metadata": {
    "execution": {
     "iopub.execute_input": "2025-01-18T15:48:43.792675Z",
     "iopub.status.busy": "2025-01-18T15:48:43.792241Z",
     "iopub.status.idle": "2025-01-18T15:48:47.515370Z",
     "shell.execute_reply": "2025-01-18T15:48:47.514282Z"
    },
    "papermill": {
     "duration": 3.733242,
     "end_time": "2025-01-18T15:48:47.517303",
     "exception": false,
     "start_time": "2025-01-18T15:48:43.784061",
     "status": "completed"
    },
    "tags": []
   },
   "outputs": [],
   "source": [
    "import pandas as pd\n",
    "from sklearn.preprocessing import LabelEncoder\n",
    "from sklearn.model_selection import train_test_split\n",
    "from sklearn.ensemble import RandomForestClassifier\n",
    "from xgboost import XGBClassifier\n",
    "from sklearn.metrics import classification_report, accuracy_score\n",
    "\n",
    "# Set max column width to None to display full content\n",
    "pd.set_option('display.max_colwidth', None)\n",
    "\n",
    "import warnings\n",
    "# Suppress specific warnings\n",
    "warnings.filterwarnings(\"ignore\", category=RuntimeWarning)  # Replace 'UserWarning' with the type of warning you want to ignore."
   ]
  },
  {
   "cell_type": "code",
   "execution_count": 4,
   "id": "81099e52",
   "metadata": {
    "execution": {
     "iopub.execute_input": "2025-01-18T15:48:47.533604Z",
     "iopub.status.busy": "2025-01-18T15:48:47.533102Z",
     "iopub.status.idle": "2025-01-18T15:48:47.539922Z",
     "shell.execute_reply": "2025-01-18T15:48:47.538794Z"
    },
    "papermill": {
     "duration": 0.016654,
     "end_time": "2025-01-18T15:48:47.541536",
     "exception": false,
     "start_time": "2025-01-18T15:48:47.524882",
     "status": "completed"
    },
    "tags": []
   },
   "outputs": [
    {
     "name": "stdout",
     "output_type": "stream",
     "text": [
      "/kaggle/working/Milan_Services_2012\n"
     ]
    }
   ],
   "source": [
    "%cd Milan_Services_2012"
   ]
  },
  {
   "cell_type": "code",
   "execution_count": 5,
   "id": "35f36e5f",
   "metadata": {
    "execution": {
     "iopub.execute_input": "2025-01-18T15:48:47.558078Z",
     "iopub.status.busy": "2025-01-18T15:48:47.557699Z",
     "iopub.status.idle": "2025-01-18T15:48:47.612853Z",
     "shell.execute_reply": "2025-01-18T15:48:47.611760Z"
    },
    "papermill": {
     "duration": 0.065331,
     "end_time": "2025-01-18T15:48:47.614583",
     "exception": false,
     "start_time": "2025-01-18T15:48:47.549252",
     "status": "completed"
    },
    "tags": []
   },
   "outputs": [
    {
     "data": {
      "text/html": [
       "<div>\n",
       "<style scoped>\n",
       "    .dataframe tbody tr th:only-of-type {\n",
       "        vertical-align: middle;\n",
       "    }\n",
       "\n",
       "    .dataframe tbody tr th {\n",
       "        vertical-align: top;\n",
       "    }\n",
       "\n",
       "    .dataframe thead th {\n",
       "        text-align: right;\n",
       "    }\n",
       "</style>\n",
       "<table border=\"1\" class=\"dataframe\">\n",
       "  <thead>\n",
       "    <tr style=\"text-align: right;\">\n",
       "      <th></th>\n",
       "      <th>Tipo esercizio pa</th>\n",
       "      <th>Ubicazione</th>\n",
       "      <th>Tipo via</th>\n",
       "      <th>Via</th>\n",
       "      <th>Civico</th>\n",
       "      <th>Codice via</th>\n",
       "      <th>ZD</th>\n",
       "      <th>Prevalente</th>\n",
       "      <th>Superficie altri usi</th>\n",
       "      <th>Superficie lavorativa</th>\n",
       "    </tr>\n",
       "  </thead>\n",
       "  <tbody>\n",
       "    <tr>\n",
       "      <th>0</th>\n",
       "      <td>NaN</td>\n",
       "      <td>LGO DEI GELSOMINI N. 10 (z.d. 6)</td>\n",
       "      <td>LGO</td>\n",
       "      <td>DEI GELSOMINI</td>\n",
       "      <td>10</td>\n",
       "      <td>5394.0</td>\n",
       "      <td>6</td>\n",
       "      <td>NaN</td>\n",
       "      <td>NaN</td>\n",
       "      <td>55.0</td>\n",
       "    </tr>\n",
       "    <tr>\n",
       "      <th>1</th>\n",
       "      <td>NaN</td>\n",
       "      <td>PZA FIDIA N. 3 (z.d. 9)</td>\n",
       "      <td>PZA</td>\n",
       "      <td>FIDIA</td>\n",
       "      <td>3</td>\n",
       "      <td>1144.0</td>\n",
       "      <td>9</td>\n",
       "      <td>CENTRO MASSAGGI RILASSANTI NON ESTETICI</td>\n",
       "      <td>2.0</td>\n",
       "      <td>28.0</td>\n",
       "    </tr>\n",
       "    <tr>\n",
       "      <th>2</th>\n",
       "      <td>NaN</td>\n",
       "      <td>VIA ADIGE N. 10 (z.d. 5)</td>\n",
       "      <td>VIA</td>\n",
       "      <td>ADIGE</td>\n",
       "      <td>10</td>\n",
       "      <td>4216.0</td>\n",
       "      <td>5</td>\n",
       "      <td>CENTRO BENESSERE</td>\n",
       "      <td>2.0</td>\n",
       "      <td>27.0</td>\n",
       "    </tr>\n",
       "    <tr>\n",
       "      <th>3</th>\n",
       "      <td>NaN</td>\n",
       "      <td>VIA BARACCHINI FLAVIO N. 9 (z.d. 1)</td>\n",
       "      <td>VIA</td>\n",
       "      <td>BARACCHINI FLAVIO</td>\n",
       "      <td>9</td>\n",
       "      <td>356.0</td>\n",
       "      <td>1</td>\n",
       "      <td>TRUCCO SEMIPERMANENTE</td>\n",
       "      <td>NaN</td>\n",
       "      <td>NaN</td>\n",
       "    </tr>\n",
       "    <tr>\n",
       "      <th>4</th>\n",
       "      <td>NaN</td>\n",
       "      <td>VIA BERGAMO N. 12 (z.d. 4)</td>\n",
       "      <td>VIA</td>\n",
       "      <td>BERGAMO</td>\n",
       "      <td>12</td>\n",
       "      <td>3189.0</td>\n",
       "      <td>4</td>\n",
       "      <td>NaN</td>\n",
       "      <td>NaN</td>\n",
       "      <td>50.0</td>\n",
       "    </tr>\n",
       "  </tbody>\n",
       "</table>\n",
       "</div>"
      ],
      "text/plain": [
       "  Tipo esercizio pa                           Ubicazione Tipo via  \\\n",
       "0               NaN     LGO DEI GELSOMINI N. 10 (z.d. 6)      LGO   \n",
       "1               NaN              PZA FIDIA N. 3 (z.d. 9)      PZA   \n",
       "2               NaN             VIA ADIGE N. 10 (z.d. 5)      VIA   \n",
       "3               NaN  VIA BARACCHINI FLAVIO N. 9 (z.d. 1)      VIA   \n",
       "4               NaN           VIA BERGAMO N. 12 (z.d. 4)      VIA   \n",
       "\n",
       "                 Via Civico  Codice via ZD  \\\n",
       "0      DEI GELSOMINI     10      5394.0  6   \n",
       "1              FIDIA      3      1144.0  9   \n",
       "2              ADIGE     10      4216.0  5   \n",
       "3  BARACCHINI FLAVIO      9       356.0  1   \n",
       "4            BERGAMO     12      3189.0  4   \n",
       "\n",
       "                                Prevalente  Superficie altri usi  \\\n",
       "0                                      NaN                   NaN   \n",
       "1  CENTRO MASSAGGI RILASSANTI NON ESTETICI                   2.0   \n",
       "2                         CENTRO BENESSERE                   2.0   \n",
       "3                    TRUCCO SEMIPERMANENTE                   NaN   \n",
       "4                                      NaN                   NaN   \n",
       "\n",
       "   Superficie lavorativa  \n",
       "0                   55.0  \n",
       "1                   28.0  \n",
       "2                   27.0  \n",
       "3                    NaN  \n",
       "4                   50.0  "
      ]
     },
     "execution_count": 5,
     "metadata": {},
     "output_type": "execute_result"
    }
   ],
   "source": [
    "SERVICES = pd.read_csv('data/raw/Comune-di-Milano-Servizi-alla-persona-parrucchieri-estetisti.csv',sep=';',encoding='unicode_escape')\n",
    "SERVICES.head()"
   ]
  },
  {
   "cell_type": "code",
   "execution_count": 6,
   "id": "513e5235",
   "metadata": {
    "execution": {
     "iopub.execute_input": "2025-01-18T15:48:47.631101Z",
     "iopub.status.busy": "2025-01-18T15:48:47.630772Z",
     "iopub.status.idle": "2025-01-18T15:48:47.651319Z",
     "shell.execute_reply": "2025-01-18T15:48:47.650290Z"
    },
    "papermill": {
     "duration": 0.030637,
     "end_time": "2025-01-18T15:48:47.653065",
     "exception": false,
     "start_time": "2025-01-18T15:48:47.622428",
     "status": "completed"
    },
    "tags": []
   },
   "outputs": [
    {
     "data": {
      "text/html": [
       "<div>\n",
       "<style scoped>\n",
       "    .dataframe tbody tr th:only-of-type {\n",
       "        vertical-align: middle;\n",
       "    }\n",
       "\n",
       "    .dataframe tbody tr th {\n",
       "        vertical-align: top;\n",
       "    }\n",
       "\n",
       "    .dataframe thead th {\n",
       "        text-align: right;\n",
       "    }\n",
       "</style>\n",
       "<table border=\"1\" class=\"dataframe\">\n",
       "  <thead>\n",
       "    <tr style=\"text-align: right;\">\n",
       "      <th></th>\n",
       "      <th>t_es</th>\n",
       "      <th>t_via</th>\n",
       "      <th>via</th>\n",
       "      <th>civ</th>\n",
       "      <th>cod_via</th>\n",
       "      <th>zd</th>\n",
       "      <th>sup_alt</th>\n",
       "      <th>sup_lav</th>\n",
       "    </tr>\n",
       "  </thead>\n",
       "  <tbody>\n",
       "    <tr>\n",
       "      <th>0</th>\n",
       "      <td>Tipo A - Estetica Manuale</td>\n",
       "      <td>Piazza</td>\n",
       "      <td>DEL DUOMO</td>\n",
       "      <td>17</td>\n",
       "      <td>1</td>\n",
       "      <td>1</td>\n",
       "      <td>8.0</td>\n",
       "      <td>74.0</td>\n",
       "    </tr>\n",
       "    <tr>\n",
       "      <th>1</th>\n",
       "      <td>Tipo A - Estetica Manuale;Tipo B - Centro di Abbronzatura</td>\n",
       "      <td>Corso</td>\n",
       "      <td>GIUSEPPE GARIBALDI</td>\n",
       "      <td>104</td>\n",
       "      <td>1010</td>\n",
       "      <td>1</td>\n",
       "      <td>26.5</td>\n",
       "      <td>48.5</td>\n",
       "    </tr>\n",
       "    <tr>\n",
       "      <th>2</th>\n",
       "      <td>Tipo A - Estetica Manuale;Parrucchiere per Donna</td>\n",
       "      <td>Corso</td>\n",
       "      <td>GIUSEPPE GARIBALDI</td>\n",
       "      <td>110</td>\n",
       "      <td>1010</td>\n",
       "      <td>1</td>\n",
       "      <td>37.0</td>\n",
       "      <td>88.0</td>\n",
       "    </tr>\n",
       "    <tr>\n",
       "      <th>3</th>\n",
       "      <td>Acconciatore</td>\n",
       "      <td>Corso</td>\n",
       "      <td>GIUSEPPE GARIBALDI</td>\n",
       "      <td>39</td>\n",
       "      <td>1010</td>\n",
       "      <td>1</td>\n",
       "      <td>6.0</td>\n",
       "      <td>54.0</td>\n",
       "    </tr>\n",
       "    <tr>\n",
       "      <th>4</th>\n",
       "      <td>Parrucchiere per Donna</td>\n",
       "      <td>Corso</td>\n",
       "      <td>GIUSEPPE GARIBALDI</td>\n",
       "      <td>46</td>\n",
       "      <td>1010</td>\n",
       "      <td>1</td>\n",
       "      <td>4.0</td>\n",
       "      <td>31.0</td>\n",
       "    </tr>\n",
       "  </tbody>\n",
       "</table>\n",
       "</div>"
      ],
      "text/plain": [
       "                                                        t_es   t_via  \\\n",
       "0                                  Tipo A - Estetica Manuale  Piazza   \n",
       "1  Tipo A - Estetica Manuale;Tipo B - Centro di Abbronzatura   Corso   \n",
       "2           Tipo A - Estetica Manuale;Parrucchiere per Donna   Corso   \n",
       "3                                               Acconciatore   Corso   \n",
       "4                                     Parrucchiere per Donna   Corso   \n",
       "\n",
       "                  via  civ  cod_via  zd  sup_alt  sup_lav  \n",
       "0           DEL DUOMO   17        1   1      8.0     74.0  \n",
       "1  GIUSEPPE GARIBALDI  104     1010   1     26.5     48.5  \n",
       "2  GIUSEPPE GARIBALDI  110     1010   1     37.0     88.0  \n",
       "3  GIUSEPPE GARIBALDI   39     1010   1      6.0     54.0  \n",
       "4  GIUSEPPE GARIBALDI   46     1010   1      4.0     31.0  "
      ]
     },
     "execution_count": 6,
     "metadata": {},
     "output_type": "execute_result"
    }
   ],
   "source": [
    "SERVICES_CLEANED = pd.read_csv('data/cleaned/cleaned-SERVICES.csv')\n",
    "SERVICES_CLEANED.head()"
   ]
  },
  {
   "cell_type": "markdown",
   "id": "d6de026d",
   "metadata": {
    "papermill": {
     "duration": 0.007196,
     "end_time": "2025-01-18T15:48:47.668180",
     "exception": false,
     "start_time": "2025-01-18T15:48:47.660984",
     "status": "completed"
    },
    "tags": []
   },
   "source": [
    "## Dirty Dataset Pipeline\n",
    "\n",
    "First of all we have identified the features we wanted to use for our task. <br>\n",
    "Features we are going to use:\n",
    "* `Tipo esercizio pa`\n",
    "* `Tipo via`\n",
    "* `Via`\n",
    "* `ZD`\n",
    "* `Superficie altri usi`\n",
    "* `Superficie lavorativa`"
   ]
  },
  {
   "cell_type": "code",
   "execution_count": 7,
   "id": "dacb5741",
   "metadata": {
    "execution": {
     "iopub.execute_input": "2025-01-18T15:48:47.684880Z",
     "iopub.status.busy": "2025-01-18T15:48:47.684474Z",
     "iopub.status.idle": "2025-01-18T15:48:47.700527Z",
     "shell.execute_reply": "2025-01-18T15:48:47.699581Z"
    },
    "papermill": {
     "duration": 0.0263,
     "end_time": "2025-01-18T15:48:47.702082",
     "exception": false,
     "start_time": "2025-01-18T15:48:47.675782",
     "status": "completed"
    },
    "tags": []
   },
   "outputs": [],
   "source": [
    "SERVICES = SERVICES.drop(columns=[\"Civico\", \"Via\", \"Prevalente\", \"Ubicazione\", \"Codice via\"])"
   ]
  },
  {
   "cell_type": "markdown",
   "id": "18be0c10",
   "metadata": {
    "papermill": {
     "duration": 0.007616,
     "end_time": "2025-01-18T15:48:47.717713",
     "exception": false,
     "start_time": "2025-01-18T15:48:47.710097",
     "status": "completed"
    },
    "tags": []
   },
   "source": [
    "From the first assessment we have made we know that the the dirty dataset contains a lot of null values and categorical values. <br>\n",
    "We need to handle the missing values and encode the categorical features to make them suitable for the training phase."
   ]
  },
  {
   "cell_type": "code",
   "execution_count": 8,
   "id": "1bcf8b54",
   "metadata": {
    "execution": {
     "iopub.execute_input": "2025-01-18T15:48:47.734876Z",
     "iopub.status.busy": "2025-01-18T15:48:47.734455Z",
     "iopub.status.idle": "2025-01-18T15:48:47.741355Z",
     "shell.execute_reply": "2025-01-18T15:48:47.740550Z"
    },
    "papermill": {
     "duration": 0.017305,
     "end_time": "2025-01-18T15:48:47.742849",
     "exception": false,
     "start_time": "2025-01-18T15:48:47.725544",
     "status": "completed"
    },
    "tags": []
   },
   "outputs": [
    {
     "data": {
      "text/plain": [
       "Tipo esercizio pa         object\n",
       "Tipo via                  object\n",
       "ZD                        object\n",
       "Superficie altri usi     float64\n",
       "Superficie lavorativa    float64\n",
       "dtype: object"
      ]
     },
     "execution_count": 8,
     "metadata": {},
     "output_type": "execute_result"
    }
   ],
   "source": [
    "SERVICES.dtypes"
   ]
  },
  {
   "cell_type": "code",
   "execution_count": 9,
   "id": "615dcd5f",
   "metadata": {
    "execution": {
     "iopub.execute_input": "2025-01-18T15:48:47.759753Z",
     "iopub.status.busy": "2025-01-18T15:48:47.759380Z",
     "iopub.status.idle": "2025-01-18T15:48:47.769033Z",
     "shell.execute_reply": "2025-01-18T15:48:47.768071Z"
    },
    "papermill": {
     "duration": 0.019547,
     "end_time": "2025-01-18T15:48:47.770428",
     "exception": false,
     "start_time": "2025-01-18T15:48:47.750881",
     "status": "completed"
    },
    "tags": []
   },
   "outputs": [
    {
     "name": "stdout",
     "output_type": "stream",
     "text": [
      "Number of null values:\n",
      " Tipo esercizio pa          31\n",
      "Tipo via                    1\n",
      "ZD                          1\n",
      "Superficie altri usi     3164\n",
      "Superficie lavorativa    1308\n",
      "dtype: int64\n"
     ]
    }
   ],
   "source": [
    "null_count = SERVICES.isnull().sum()\n",
    "print('Number of null values:\\n', null_count)"
   ]
  },
  {
   "cell_type": "markdown",
   "id": "203256ee",
   "metadata": {
    "papermill": {
     "duration": 0.00762,
     "end_time": "2025-01-18T15:48:47.786068",
     "exception": false,
     "start_time": "2025-01-18T15:48:47.778448",
     "status": "completed"
    },
    "tags": []
   },
   "source": [
    "### Handling null values\n",
    "For the values in `Superficie lavorativa` and `Superficie altri usi` we have filled the null values with the median of the values to keep the same idea used in our data cleaning phase.\n",
    "\n",
    "* `Tipo esercizio pa` null values are dropped\n",
    "* `Superficie lavorativa` filled with the median of the values\n",
    "* `Superficie altri usi` filled with the median of the values"
   ]
  },
  {
   "cell_type": "code",
   "execution_count": 10,
   "id": "9e2ac903",
   "metadata": {
    "execution": {
     "iopub.execute_input": "2025-01-18T15:48:47.804045Z",
     "iopub.status.busy": "2025-01-18T15:48:47.803630Z",
     "iopub.status.idle": "2025-01-18T15:48:47.814197Z",
     "shell.execute_reply": "2025-01-18T15:48:47.813146Z"
    },
    "papermill": {
     "duration": 0.020796,
     "end_time": "2025-01-18T15:48:47.815814",
     "exception": false,
     "start_time": "2025-01-18T15:48:47.795018",
     "status": "completed"
    },
    "tags": []
   },
   "outputs": [],
   "source": [
    "# Step 2: Replace missing values in \"superficie lavorativa\" with the median\n",
    "median_superficie = SERVICES[\"Superficie lavorativa\"].median(skipna=True)\n",
    "median_superficie_altri_usi = SERVICES[\"Superficie altri usi\"].median(skipna=True)\n",
    "\n",
    "SERVICES[\"Superficie lavorativa\"] = SERVICES[\"Superficie lavorativa\"].fillna(median_superficie)\n",
    "SERVICES[\"Superficie altri usi\"] = SERVICES[\"Superficie altri usi\"].fillna(median_superficie)\n",
    "\n",
    "SERVICES = SERVICES.dropna(subset=[\"Tipo esercizio pa\"])"
   ]
  },
  {
   "cell_type": "markdown",
   "id": "fc00768b",
   "metadata": {
    "papermill": {
     "duration": 0.007456,
     "end_time": "2025-01-18T15:48:47.831126",
     "exception": false,
     "start_time": "2025-01-18T15:48:47.823670",
     "status": "completed"
    },
    "tags": []
   },
   "source": [
    "### Encoding\n",
    "Since the `Tipo esercizio pa` has **103** unique values we have decided to perform a Label Encoding instead of a One-Hot Encoding technique.<br>\n",
    "\n",
    "* `Tipo esercizio pa`: encoding used LabelEncoder of sklearn\n",
    "* `Tipo via`: one hot encoding\n",
    "* `ZD`: one hot encoding"
   ]
  },
  {
   "cell_type": "code",
   "execution_count": 11,
   "id": "282836b2",
   "metadata": {
    "execution": {
     "iopub.execute_input": "2025-01-18T15:48:47.847896Z",
     "iopub.status.busy": "2025-01-18T15:48:47.847499Z",
     "iopub.status.idle": "2025-01-18T15:48:47.863351Z",
     "shell.execute_reply": "2025-01-18T15:48:47.862528Z"
    },
    "papermill": {
     "duration": 0.026371,
     "end_time": "2025-01-18T15:48:47.865213",
     "exception": false,
     "start_time": "2025-01-18T15:48:47.838842",
     "status": "completed"
    },
    "tags": []
   },
   "outputs": [],
   "source": [
    "# Count occurrences of each class\n",
    "class_counts = SERVICES[\"Tipo esercizio pa\"].value_counts()\n",
    "\n",
    "# Filter out classes with only one instance\n",
    "SERVICES = SERVICES[SERVICES[\"Tipo esercizio pa\"].isin(class_counts[class_counts > 1].index)]\n",
    "\n",
    "# Re-encode the labels after filtering\n",
    "label_encoder = LabelEncoder()\n",
    "SERVICES[\"tipo_esercizio_encoded\"] = label_encoder.fit_transform(SERVICES[\"Tipo esercizio pa\"])"
   ]
  },
  {
   "cell_type": "code",
   "execution_count": 12,
   "id": "74069311",
   "metadata": {
    "execution": {
     "iopub.execute_input": "2025-01-18T15:48:47.890191Z",
     "iopub.status.busy": "2025-01-18T15:48:47.889797Z",
     "iopub.status.idle": "2025-01-18T15:48:47.897986Z",
     "shell.execute_reply": "2025-01-18T15:48:47.896577Z"
    },
    "papermill": {
     "duration": 0.021359,
     "end_time": "2025-01-18T15:48:47.900195",
     "exception": false,
     "start_time": "2025-01-18T15:48:47.878836",
     "status": "completed"
    },
    "tags": []
   },
   "outputs": [
    {
     "name": "stdout",
     "output_type": "stream",
     "text": [
      "Tipo esercizio pa\n",
      "Parrucchiere per signora                           1048\n",
      "ACCONCIATORE                                        586\n",
      "Parrucchiere per uomo                               439\n",
      "TIPO A - REG.2003                                   335\n",
      "TIPO A - REG.2003;TIPO B CENTRO DI ABBRONZATURA     313\n",
      "                                                   ... \n",
      "TIPO A-B-C-D;Acconciatore                             1\n",
      "TIPO A-B-C-D;ACCONCIATORE                             1\n",
      "TIPO A-B-C-D;Estetista in profumeria                  1\n",
      "TIPO A ESTETICA MANUALE;Acconciatore                  1\n",
      "Truccatore                                            1\n",
      "Name: count, Length: 103, dtype: int64\n"
     ]
    }
   ],
   "source": [
    "print(class_counts)"
   ]
  },
  {
   "cell_type": "code",
   "execution_count": 13,
   "id": "39e8779d",
   "metadata": {
    "execution": {
     "iopub.execute_input": "2025-01-18T15:48:47.923214Z",
     "iopub.status.busy": "2025-01-18T15:48:47.922840Z",
     "iopub.status.idle": "2025-01-18T15:48:47.936569Z",
     "shell.execute_reply": "2025-01-18T15:48:47.935516Z"
    },
    "papermill": {
     "duration": 0.02496,
     "end_time": "2025-01-18T15:48:47.938463",
     "exception": false,
     "start_time": "2025-01-18T15:48:47.913503",
     "status": "completed"
    },
    "tags": []
   },
   "outputs": [],
   "source": [
    "SERVICES = pd.get_dummies(SERVICES, columns=[\"Tipo via\"], prefix=\"tipo_via\", drop_first=True)\n",
    "SERVICES = pd.get_dummies(SERVICES, columns=[\"ZD\"], prefix=\"zd\", drop_first=True)"
   ]
  },
  {
   "cell_type": "code",
   "execution_count": 14,
   "id": "0135e735",
   "metadata": {
    "execution": {
     "iopub.execute_input": "2025-01-18T15:48:47.956268Z",
     "iopub.status.busy": "2025-01-18T15:48:47.955892Z",
     "iopub.status.idle": "2025-01-18T15:48:47.979598Z",
     "shell.execute_reply": "2025-01-18T15:48:47.978389Z"
    },
    "papermill": {
     "duration": 0.034288,
     "end_time": "2025-01-18T15:48:47.981305",
     "exception": false,
     "start_time": "2025-01-18T15:48:47.947017",
     "status": "completed"
    },
    "tags": []
   },
   "outputs": [
    {
     "data": {
      "text/html": [
       "<div>\n",
       "<style scoped>\n",
       "    .dataframe tbody tr th:only-of-type {\n",
       "        vertical-align: middle;\n",
       "    }\n",
       "\n",
       "    .dataframe tbody tr th {\n",
       "        vertical-align: top;\n",
       "    }\n",
       "\n",
       "    .dataframe thead th {\n",
       "        text-align: right;\n",
       "    }\n",
       "</style>\n",
       "<table border=\"1\" class=\"dataframe\">\n",
       "  <thead>\n",
       "    <tr style=\"text-align: right;\">\n",
       "      <th></th>\n",
       "      <th>Tipo esercizio pa</th>\n",
       "      <th>Superficie altri usi</th>\n",
       "      <th>Superficie lavorativa</th>\n",
       "      <th>tipo_esercizio_encoded</th>\n",
       "      <th>tipo_via_BST</th>\n",
       "      <th>tipo_via_CSO</th>\n",
       "      <th>tipo_via_FOR</th>\n",
       "      <th>tipo_via_GLL</th>\n",
       "      <th>tipo_via_LGO</th>\n",
       "      <th>tipo_via_PAS</th>\n",
       "      <th>...</th>\n",
       "      <th>tipo_via_VLE</th>\n",
       "      <th>tipo_via_VLO</th>\n",
       "      <th>zd_2</th>\n",
       "      <th>zd_3</th>\n",
       "      <th>zd_4</th>\n",
       "      <th>zd_5</th>\n",
       "      <th>zd_6</th>\n",
       "      <th>zd_7</th>\n",
       "      <th>zd_8</th>\n",
       "      <th>zd_9</th>\n",
       "    </tr>\n",
       "  </thead>\n",
       "  <tbody>\n",
       "    <tr>\n",
       "      <th>31</th>\n",
       "      <td>Acconciatore</td>\n",
       "      <td>34.0</td>\n",
       "      <td>68.0</td>\n",
       "      <td>5</td>\n",
       "      <td>False</td>\n",
       "      <td>True</td>\n",
       "      <td>False</td>\n",
       "      <td>False</td>\n",
       "      <td>False</td>\n",
       "      <td>False</td>\n",
       "      <td>...</td>\n",
       "      <td>False</td>\n",
       "      <td>False</td>\n",
       "      <td>False</td>\n",
       "      <td>True</td>\n",
       "      <td>False</td>\n",
       "      <td>False</td>\n",
       "      <td>False</td>\n",
       "      <td>False</td>\n",
       "      <td>False</td>\n",
       "      <td>False</td>\n",
       "    </tr>\n",
       "    <tr>\n",
       "      <th>32</th>\n",
       "      <td>Acconciatore</td>\n",
       "      <td>34.0</td>\n",
       "      <td>34.0</td>\n",
       "      <td>5</td>\n",
       "      <td>False</td>\n",
       "      <td>False</td>\n",
       "      <td>False</td>\n",
       "      <td>False</td>\n",
       "      <td>False</td>\n",
       "      <td>False</td>\n",
       "      <td>...</td>\n",
       "      <td>False</td>\n",
       "      <td>False</td>\n",
       "      <td>False</td>\n",
       "      <td>False</td>\n",
       "      <td>False</td>\n",
       "      <td>False</td>\n",
       "      <td>False</td>\n",
       "      <td>False</td>\n",
       "      <td>False</td>\n",
       "      <td>False</td>\n",
       "    </tr>\n",
       "    <tr>\n",
       "      <th>34</th>\n",
       "      <td>Acconciatore</td>\n",
       "      <td>34.0</td>\n",
       "      <td>34.0</td>\n",
       "      <td>5</td>\n",
       "      <td>False</td>\n",
       "      <td>True</td>\n",
       "      <td>False</td>\n",
       "      <td>False</td>\n",
       "      <td>False</td>\n",
       "      <td>False</td>\n",
       "      <td>...</td>\n",
       "      <td>False</td>\n",
       "      <td>False</td>\n",
       "      <td>False</td>\n",
       "      <td>False</td>\n",
       "      <td>False</td>\n",
       "      <td>False</td>\n",
       "      <td>False</td>\n",
       "      <td>False</td>\n",
       "      <td>False</td>\n",
       "      <td>False</td>\n",
       "    </tr>\n",
       "    <tr>\n",
       "      <th>35</th>\n",
       "      <td>Acconciatore</td>\n",
       "      <td>34.0</td>\n",
       "      <td>25.0</td>\n",
       "      <td>5</td>\n",
       "      <td>False</td>\n",
       "      <td>True</td>\n",
       "      <td>False</td>\n",
       "      <td>False</td>\n",
       "      <td>False</td>\n",
       "      <td>False</td>\n",
       "      <td>...</td>\n",
       "      <td>False</td>\n",
       "      <td>False</td>\n",
       "      <td>False</td>\n",
       "      <td>False</td>\n",
       "      <td>False</td>\n",
       "      <td>False</td>\n",
       "      <td>False</td>\n",
       "      <td>False</td>\n",
       "      <td>False</td>\n",
       "      <td>False</td>\n",
       "    </tr>\n",
       "    <tr>\n",
       "      <th>36</th>\n",
       "      <td>Acconciatore</td>\n",
       "      <td>34.0</td>\n",
       "      <td>28.0</td>\n",
       "      <td>5</td>\n",
       "      <td>False</td>\n",
       "      <td>True</td>\n",
       "      <td>False</td>\n",
       "      <td>False</td>\n",
       "      <td>False</td>\n",
       "      <td>False</td>\n",
       "      <td>...</td>\n",
       "      <td>False</td>\n",
       "      <td>False</td>\n",
       "      <td>False</td>\n",
       "      <td>False</td>\n",
       "      <td>False</td>\n",
       "      <td>False</td>\n",
       "      <td>False</td>\n",
       "      <td>False</td>\n",
       "      <td>False</td>\n",
       "      <td>False</td>\n",
       "    </tr>\n",
       "  </tbody>\n",
       "</table>\n",
       "<p>5 rows × 27 columns</p>\n",
       "</div>"
      ],
      "text/plain": [
       "   Tipo esercizio pa  Superficie altri usi  Superficie lavorativa  \\\n",
       "31      Acconciatore                  34.0                   68.0   \n",
       "32      Acconciatore                  34.0                   34.0   \n",
       "34      Acconciatore                  34.0                   34.0   \n",
       "35      Acconciatore                  34.0                   25.0   \n",
       "36      Acconciatore                  34.0                   28.0   \n",
       "\n",
       "    tipo_esercizio_encoded  tipo_via_BST  tipo_via_CSO  tipo_via_FOR  \\\n",
       "31                       5         False          True         False   \n",
       "32                       5         False         False         False   \n",
       "34                       5         False          True         False   \n",
       "35                       5         False          True         False   \n",
       "36                       5         False          True         False   \n",
       "\n",
       "    tipo_via_GLL  tipo_via_LGO  tipo_via_PAS  ...  tipo_via_VLE  tipo_via_VLO  \\\n",
       "31         False         False         False  ...         False         False   \n",
       "32         False         False         False  ...         False         False   \n",
       "34         False         False         False  ...         False         False   \n",
       "35         False         False         False  ...         False         False   \n",
       "36         False         False         False  ...         False         False   \n",
       "\n",
       "     zd_2   zd_3   zd_4   zd_5   zd_6   zd_7   zd_8   zd_9  \n",
       "31  False   True  False  False  False  False  False  False  \n",
       "32  False  False  False  False  False  False  False  False  \n",
       "34  False  False  False  False  False  False  False  False  \n",
       "35  False  False  False  False  False  False  False  False  \n",
       "36  False  False  False  False  False  False  False  False  \n",
       "\n",
       "[5 rows x 27 columns]"
      ]
     },
     "execution_count": 14,
     "metadata": {},
     "output_type": "execute_result"
    }
   ],
   "source": [
    "SERVICES.head()"
   ]
  },
  {
   "cell_type": "markdown",
   "id": "a5cfdb58",
   "metadata": {
    "papermill": {
     "duration": 0.00794,
     "end_time": "2025-01-18T15:48:47.997876",
     "exception": false,
     "start_time": "2025-01-18T15:48:47.989936",
     "status": "completed"
    },
    "tags": []
   },
   "source": [
    "### Model Selection\n",
    "The dataset has been splitted in train (80%) and test (20%). <br>\n",
    "We have used a **Random Forest Classification** from the sklearn library."
   ]
  },
  {
   "cell_type": "code",
   "execution_count": 15,
   "id": "6086cc8a",
   "metadata": {
    "execution": {
     "iopub.execute_input": "2025-01-18T15:48:48.015215Z",
     "iopub.status.busy": "2025-01-18T15:48:48.014870Z",
     "iopub.status.idle": "2025-01-18T15:48:48.671250Z",
     "shell.execute_reply": "2025-01-18T15:48:48.670056Z"
    },
    "papermill": {
     "duration": 0.667493,
     "end_time": "2025-01-18T15:48:48.673562",
     "exception": false,
     "start_time": "2025-01-18T15:48:48.006069",
     "status": "completed"
    },
    "tags": []
   },
   "outputs": [
    {
     "name": "stdout",
     "output_type": "stream",
     "text": [
      "Measure results\n",
      "\n",
      "Accuracy:   0.1966\n",
      "Precision:   0.1637\n",
      "Recall:   0.1966\n",
      "F1 Score:   0.1769\n"
     ]
    },
    {
     "name": "stderr",
     "output_type": "stream",
     "text": [
      "/usr/local/lib/python3.10/dist-packages/sklearn/metrics/_classification.py:1344: UndefinedMetricWarning: Precision and F-score are ill-defined and being set to 0.0 in labels with no predicted samples. Use `zero_division` parameter to control this behavior.\n",
      "  _warn_prf(average, modifier, msg_start, len(result))\n",
      "/usr/local/lib/python3.10/dist-packages/sklearn/metrics/_classification.py:1344: UndefinedMetricWarning: Recall and F-score are ill-defined and being set to 0.0 in labels with no true samples. Use `zero_division` parameter to control this behavior.\n",
      "  _warn_prf(average, modifier, msg_start, len(result))\n",
      "/usr/local/lib/python3.10/dist-packages/sklearn/metrics/_classification.py:1344: UndefinedMetricWarning: Precision and F-score are ill-defined and being set to 0.0 in labels with no predicted samples. Use `zero_division` parameter to control this behavior.\n",
      "  _warn_prf(average, modifier, msg_start, len(result))\n",
      "/usr/local/lib/python3.10/dist-packages/sklearn/metrics/_classification.py:1344: UndefinedMetricWarning: Recall and F-score are ill-defined and being set to 0.0 in labels with no true samples. Use `zero_division` parameter to control this behavior.\n",
      "  _warn_prf(average, modifier, msg_start, len(result))\n",
      "/usr/local/lib/python3.10/dist-packages/sklearn/metrics/_classification.py:1344: UndefinedMetricWarning: Precision and F-score are ill-defined and being set to 0.0 in labels with no predicted samples. Use `zero_division` parameter to control this behavior.\n",
      "  _warn_prf(average, modifier, msg_start, len(result))\n",
      "/usr/local/lib/python3.10/dist-packages/sklearn/metrics/_classification.py:1344: UndefinedMetricWarning: Recall and F-score are ill-defined and being set to 0.0 in labels with no true samples. Use `zero_division` parameter to control this behavior.\n",
      "  _warn_prf(average, modifier, msg_start, len(result))\n"
     ]
    }
   ],
   "source": [
    "from sklearn.model_selection import train_test_split\n",
    "from sklearn.ensemble import RandomForestClassifier\n",
    "from sklearn.metrics import classification_report, accuracy_score\n",
    "\n",
    "X = SERVICES.drop(columns=['tipo_esercizio_encoded', 'Tipo esercizio pa'])  # Drop the target column\n",
    "y = SERVICES['tipo_esercizio_encoded']  # Target is the encoded 'tipo esercizio'\n",
    "\n",
    "# Split data into train and test sets\n",
    "X_train, X_test, y_train, y_test = train_test_split(X, y, test_size=0.2, random_state=42, stratify=y)\n",
    "\n",
    "# Initialize the classifier (RandomForest in this case)\n",
    "classifier = RandomForestClassifier(n_estimators=100, random_state=42)\n",
    "\n",
    "# Train the model\n",
    "classifier.fit(X_train, y_train)\n",
    "\n",
    "# Make predictions\n",
    "y_pred = classifier.predict(X_test)\n",
    "\n",
    "accuracy_rf_dirty = accuracy_score(y_test, y_pred)\n",
    "report = classification_report(y_test, y_pred, output_dict=True)\n",
    "\n",
    "# Extract overall precision, recall, and F1-score from the 'weighted avg' section\n",
    "precision_rf_dirty = report['weighted avg']['precision']\n",
    "recall_rf_dirty = report['weighted avg']['recall']\n",
    "f1_score_rf_dirty = report['weighted avg']['f1-score']\n",
    "\n",
    "# Print the results\n",
    "print(\"Measure results\\n\")\n",
    "print(f\"Accuracy: {accuracy_rf_dirty:8.4f}\")\n",
    "print(f\"Precision: {precision_rf_dirty:8.4f}\")\n",
    "print(f\"Recall: {recall_rf_dirty:8.4f}\")\n",
    "print(f\"F1 Score: {f1_score_rf_dirty:8.4f}\")"
   ]
  },
  {
   "cell_type": "code",
   "execution_count": 16,
   "id": "b6dbf3ac",
   "metadata": {
    "execution": {
     "iopub.execute_input": "2025-01-18T15:48:48.700940Z",
     "iopub.status.busy": "2025-01-18T15:48:48.700550Z",
     "iopub.status.idle": "2025-01-18T15:48:51.884159Z",
     "shell.execute_reply": "2025-01-18T15:48:51.882994Z"
    },
    "papermill": {
     "duration": 3.196058,
     "end_time": "2025-01-18T15:48:51.885781",
     "exception": false,
     "start_time": "2025-01-18T15:48:48.689723",
     "status": "completed"
    },
    "tags": []
   },
   "outputs": [
    {
     "name": "stdout",
     "output_type": "stream",
     "text": [
      "Measure results\n",
      "\n",
      "Accuracy:   0.2474\n",
      "Precision:   0.2087\n",
      "Recall:   0.2474\n",
      "F1 Score:   0.2111\n"
     ]
    },
    {
     "name": "stderr",
     "output_type": "stream",
     "text": [
      "/usr/local/lib/python3.10/dist-packages/sklearn/metrics/_classification.py:1344: UndefinedMetricWarning: Precision and F-score are ill-defined and being set to 0.0 in labels with no predicted samples. Use `zero_division` parameter to control this behavior.\n",
      "  _warn_prf(average, modifier, msg_start, len(result))\n",
      "/usr/local/lib/python3.10/dist-packages/sklearn/metrics/_classification.py:1344: UndefinedMetricWarning: Precision and F-score are ill-defined and being set to 0.0 in labels with no predicted samples. Use `zero_division` parameter to control this behavior.\n",
      "  _warn_prf(average, modifier, msg_start, len(result))\n",
      "/usr/local/lib/python3.10/dist-packages/sklearn/metrics/_classification.py:1344: UndefinedMetricWarning: Precision and F-score are ill-defined and being set to 0.0 in labels with no predicted samples. Use `zero_division` parameter to control this behavior.\n",
      "  _warn_prf(average, modifier, msg_start, len(result))\n"
     ]
    }
   ],
   "source": [
    "# Initialize the classifier (RandomForest in this case)\n",
    "xgb_classifier = XGBClassifier(n_estimators=100, random_state=42, use_label_encoder=False, eval_metric='logloss')\n",
    "\n",
    "# Train the model\n",
    "xgb_classifier.fit(X_train, y_train)\n",
    "\n",
    "# Make predictions\n",
    "y_pred = xgb_classifier.predict(X_test)\n",
    "\n",
    "accuracy_xgb_dirty = accuracy_score(y_test, y_pred)\n",
    "report = classification_report(y_test, y_pred, output_dict=True)\n",
    "\n",
    "# Extract overall precision, recall, and F1-score from the 'weighted avg' section\n",
    "precision_xgb_dirty = report['weighted avg']['precision']\n",
    "recall_xgb_dirty = report['weighted avg']['recall']\n",
    "f1_score_xgb_dirty = report['weighted avg']['f1-score']\n",
    "\n",
    "# Print the results\n",
    "print(\"Measure results\\n\")\n",
    "print(f\"Accuracy: {accuracy_xgb_dirty:8.4f}\")\n",
    "print(f\"Precision: {precision_xgb_dirty:8.4f}\")\n",
    "print(f\"Recall: {recall_xgb_dirty:8.4f}\")\n",
    "print(f\"F1 Score: {f1_score_xgb_dirty:8.4f}\")"
   ]
  },
  {
   "cell_type": "markdown",
   "id": "be81fecf",
   "metadata": {
    "papermill": {
     "duration": 0.00808,
     "end_time": "2025-01-18T15:48:51.902765",
     "exception": false,
     "start_time": "2025-01-18T15:48:51.894685",
     "status": "completed"
    },
    "tags": []
   },
   "source": [
    "## Clean Dataset Pipeline\n",
    "For the cleaned dataset we have performed the same steps as did for the dirty dataset but in this case there is no need to handle null values. <br>\n",
    "Features we have selected:\n",
    "* `t_es`\n",
    "* `t_via`\n",
    "* `zd`\n",
    "* `sup_alt`\n",
    "* `sup_lav`"
   ]
  },
  {
   "cell_type": "code",
   "execution_count": 17,
   "id": "86fcd21d",
   "metadata": {
    "execution": {
     "iopub.execute_input": "2025-01-18T15:48:51.920689Z",
     "iopub.status.busy": "2025-01-18T15:48:51.920296Z",
     "iopub.status.idle": "2025-01-18T15:48:51.928209Z",
     "shell.execute_reply": "2025-01-18T15:48:51.927025Z"
    },
    "papermill": {
     "duration": 0.018497,
     "end_time": "2025-01-18T15:48:51.929688",
     "exception": false,
     "start_time": "2025-01-18T15:48:51.911191",
     "status": "completed"
    },
    "tags": []
   },
   "outputs": [
    {
     "name": "stdout",
     "output_type": "stream",
     "text": [
      "Number of null values:\n",
      " t_es       0\n",
      "t_via      0\n",
      "via        0\n",
      "civ        0\n",
      "cod_via    0\n",
      "zd         0\n",
      "sup_alt    0\n",
      "sup_lav    0\n",
      "dtype: int64\n"
     ]
    }
   ],
   "source": [
    "# The cleaned dataset doesn't have null values\n",
    "null_count = SERVICES_CLEANED.isnull().sum()\n",
    "print('Number of null values:\\n', null_count)"
   ]
  },
  {
   "cell_type": "code",
   "execution_count": 18,
   "id": "4b11b30e",
   "metadata": {
    "execution": {
     "iopub.execute_input": "2025-01-18T15:48:51.947735Z",
     "iopub.status.busy": "2025-01-18T15:48:51.947385Z",
     "iopub.status.idle": "2025-01-18T15:48:51.952401Z",
     "shell.execute_reply": "2025-01-18T15:48:51.951374Z"
    },
    "papermill": {
     "duration": 0.015343,
     "end_time": "2025-01-18T15:48:51.953826",
     "exception": false,
     "start_time": "2025-01-18T15:48:51.938483",
     "status": "completed"
    },
    "tags": []
   },
   "outputs": [],
   "source": [
    "# Drop the unselected features\n",
    "SERVICES_CLEANED = SERVICES_CLEANED.drop(columns=[\"civ\", \"via\", \"cod_via\"])"
   ]
  },
  {
   "cell_type": "markdown",
   "id": "beecd7e1",
   "metadata": {
    "papermill": {
     "duration": 0.007899,
     "end_time": "2025-01-18T15:48:51.970232",
     "exception": false,
     "start_time": "2025-01-18T15:48:51.962333",
     "status": "completed"
    },
    "tags": []
   },
   "source": [
    "### Encoding\n",
    "We have encoded the `t_es`, `t_via`, `zd` as did for the columns `Tipo esercizio pa`, `Tipo via`, `ZD` of the dirty dataset respectively."
   ]
  },
  {
   "cell_type": "code",
   "execution_count": 19,
   "id": "2c940830",
   "metadata": {
    "execution": {
     "iopub.execute_input": "2025-01-18T15:48:51.987688Z",
     "iopub.status.busy": "2025-01-18T15:48:51.987283Z",
     "iopub.status.idle": "2025-01-18T15:48:51.994516Z",
     "shell.execute_reply": "2025-01-18T15:48:51.993465Z"
    },
    "papermill": {
     "duration": 0.017733,
     "end_time": "2025-01-18T15:48:51.996139",
     "exception": false,
     "start_time": "2025-01-18T15:48:51.978406",
     "status": "completed"
    },
    "tags": []
   },
   "outputs": [],
   "source": [
    "class_counts = SERVICES_CLEANED[\"t_es\"].value_counts()\n",
    "SERVICES_CLEANED = SERVICES_CLEANED[SERVICES_CLEANED[\"t_es\"].isin(class_counts[class_counts > 1].index)]"
   ]
  },
  {
   "cell_type": "code",
   "execution_count": 20,
   "id": "91ef63b7",
   "metadata": {
    "execution": {
     "iopub.execute_input": "2025-01-18T15:48:52.014541Z",
     "iopub.status.busy": "2025-01-18T15:48:52.014218Z",
     "iopub.status.idle": "2025-01-18T15:48:52.024028Z",
     "shell.execute_reply": "2025-01-18T15:48:52.023199Z"
    },
    "papermill": {
     "duration": 0.020569,
     "end_time": "2025-01-18T15:48:52.025453",
     "exception": false,
     "start_time": "2025-01-18T15:48:52.004884",
     "status": "completed"
    },
    "tags": []
   },
   "outputs": [
    {
     "data": {
      "text/plain": [
       "array([21, 26, 25,  0,  8,  1, 14,  2, 19, 11,  5, 29, 17, 31, 12, 15,  7,\n",
       "       28, 23,  3,  9, 18, 16, 32,  4, 10, 24, 27,  6, 20, 13, 30, 22, 33])"
      ]
     },
     "execution_count": 20,
     "metadata": {},
     "output_type": "execute_result"
    }
   ],
   "source": [
    "label_encoder = LabelEncoder()\n",
    "SERVICES_CLEANED[\"t_es_encoded\"] = label_encoder.fit_transform(SERVICES_CLEANED[\"t_es\"])\n",
    "\n",
    "# Display the first few rows to confirm changes\n",
    "SERVICES_CLEANED.t_es_encoded.unique()"
   ]
  },
  {
   "cell_type": "code",
   "execution_count": 21,
   "id": "f32f33ff",
   "metadata": {
    "execution": {
     "iopub.execute_input": "2025-01-18T15:48:52.043515Z",
     "iopub.status.busy": "2025-01-18T15:48:52.043182Z",
     "iopub.status.idle": "2025-01-18T15:48:52.054428Z",
     "shell.execute_reply": "2025-01-18T15:48:52.053372Z"
    },
    "papermill": {
     "duration": 0.022117,
     "end_time": "2025-01-18T15:48:52.056156",
     "exception": false,
     "start_time": "2025-01-18T15:48:52.034039",
     "status": "completed"
    },
    "tags": []
   },
   "outputs": [],
   "source": [
    "SERVICES_CLEANED = pd.get_dummies(SERVICES_CLEANED, columns=[\"t_via\"], prefix=\"t_via\", drop_first=True)\n",
    "SERVICES_CLEANED = pd.get_dummies(SERVICES_CLEANED, columns=[\"zd\"], prefix=\"zd\", drop_first=True)"
   ]
  },
  {
   "cell_type": "markdown",
   "id": "b6b4104d",
   "metadata": {
    "papermill": {
     "duration": 0.008325,
     "end_time": "2025-01-18T15:48:52.073372",
     "exception": false,
     "start_time": "2025-01-18T15:48:52.065047",
     "status": "completed"
    },
    "tags": []
   },
   "source": [
    "### Model Selection\n",
    "The dataset has been splitted with the same ratio used for the dirty dataset: 80% training, 20% test. <br>\n",
    "We have tried **Random Forest** as did for the dirty dataset. <br>\n",
    "\n",
    "Then we have also tried **XGBoost Classifier** to improve the accuracy further."
   ]
  },
  {
   "cell_type": "code",
   "execution_count": 22,
   "id": "9e8226b9",
   "metadata": {
    "execution": {
     "iopub.execute_input": "2025-01-18T15:48:52.091485Z",
     "iopub.status.busy": "2025-01-18T15:48:52.091117Z",
     "iopub.status.idle": "2025-01-18T15:48:52.100479Z",
     "shell.execute_reply": "2025-01-18T15:48:52.099667Z"
    },
    "papermill": {
     "duration": 0.020138,
     "end_time": "2025-01-18T15:48:52.101967",
     "exception": false,
     "start_time": "2025-01-18T15:48:52.081829",
     "status": "completed"
    },
    "tags": []
   },
   "outputs": [],
   "source": [
    "X = SERVICES_CLEANED.drop(columns=['t_es_encoded', 't_es'])  # Drop the target column\n",
    "y = SERVICES_CLEANED['t_es_encoded']  # Target is the encoded 'tipo esercizio'\n",
    "\n",
    "\n",
    "# Split data into train and test sets\n",
    "X_train, X_test, y_train, y_test = train_test_split(X, y, test_size=0.2, random_state=42, stratify=y)"
   ]
  },
  {
   "cell_type": "code",
   "execution_count": 23,
   "id": "50d61722",
   "metadata": {
    "execution": {
     "iopub.execute_input": "2025-01-18T15:48:52.120387Z",
     "iopub.status.busy": "2025-01-18T15:48:52.120055Z",
     "iopub.status.idle": "2025-01-18T15:48:52.518832Z",
     "shell.execute_reply": "2025-01-18T15:48:52.517698Z"
    },
    "papermill": {
     "duration": 0.409775,
     "end_time": "2025-01-18T15:48:52.520530",
     "exception": false,
     "start_time": "2025-01-18T15:48:52.110755",
     "status": "completed"
    },
    "tags": []
   },
   "outputs": [
    {
     "name": "stdout",
     "output_type": "stream",
     "text": [
      "Measure results\n",
      "\n",
      "Accuracy:   0.7579\n",
      "Precision:   0.7274\n",
      "Recall:   0.7579\n",
      "F1 Score:   0.7400\n"
     ]
    },
    {
     "name": "stderr",
     "output_type": "stream",
     "text": [
      "/usr/local/lib/python3.10/dist-packages/sklearn/metrics/_classification.py:1344: UndefinedMetricWarning: Precision and F-score are ill-defined and being set to 0.0 in labels with no predicted samples. Use `zero_division` parameter to control this behavior.\n",
      "  _warn_prf(average, modifier, msg_start, len(result))\n",
      "/usr/local/lib/python3.10/dist-packages/sklearn/metrics/_classification.py:1344: UndefinedMetricWarning: Recall and F-score are ill-defined and being set to 0.0 in labels with no true samples. Use `zero_division` parameter to control this behavior.\n",
      "  _warn_prf(average, modifier, msg_start, len(result))\n",
      "/usr/local/lib/python3.10/dist-packages/sklearn/metrics/_classification.py:1344: UndefinedMetricWarning: Precision and F-score are ill-defined and being set to 0.0 in labels with no predicted samples. Use `zero_division` parameter to control this behavior.\n",
      "  _warn_prf(average, modifier, msg_start, len(result))\n",
      "/usr/local/lib/python3.10/dist-packages/sklearn/metrics/_classification.py:1344: UndefinedMetricWarning: Recall and F-score are ill-defined and being set to 0.0 in labels with no true samples. Use `zero_division` parameter to control this behavior.\n",
      "  _warn_prf(average, modifier, msg_start, len(result))\n",
      "/usr/local/lib/python3.10/dist-packages/sklearn/metrics/_classification.py:1344: UndefinedMetricWarning: Precision and F-score are ill-defined and being set to 0.0 in labels with no predicted samples. Use `zero_division` parameter to control this behavior.\n",
      "  _warn_prf(average, modifier, msg_start, len(result))\n",
      "/usr/local/lib/python3.10/dist-packages/sklearn/metrics/_classification.py:1344: UndefinedMetricWarning: Recall and F-score are ill-defined and being set to 0.0 in labels with no true samples. Use `zero_division` parameter to control this behavior.\n",
      "  _warn_prf(average, modifier, msg_start, len(result))\n"
     ]
    }
   ],
   "source": [
    "# Random Forest Classifier\n",
    "\n",
    "rf_classifier = RandomForestClassifier(n_estimators=100, random_state=42)\n",
    "\n",
    "# Train the model\n",
    "rf_classifier.fit(X_train, y_train)\n",
    "\n",
    "# Make predictions\n",
    "y_pred = rf_classifier.predict(X_test)\n",
    "\n",
    "accuracy_rf_clean = accuracy_score(y_test, y_pred)\n",
    "report = classification_report(y_test, y_pred, output_dict=True)\n",
    "\n",
    "# Extract overall precision, recall, and F1-score from the 'weighted avg' section\n",
    "precision_rf_clean = report['weighted avg']['precision']\n",
    "recall_rf_clean = report['weighted avg']['recall']\n",
    "f1_score_rf_clean = report['weighted avg']['f1-score']\n",
    "\n",
    "# Print the results\n",
    "print(\"Measure results\\n\")\n",
    "print(f\"Accuracy: {accuracy_rf_clean:8.4f}\")\n",
    "print(f\"Precision: {precision_rf_clean:8.4f}\")\n",
    "print(f\"Recall: {recall_rf_clean:8.4f}\")\n",
    "print(f\"F1 Score: {f1_score_rf_clean:8.4f}\")"
   ]
  },
  {
   "cell_type": "code",
   "execution_count": 24,
   "id": "eaf74ba7",
   "metadata": {
    "execution": {
     "iopub.execute_input": "2025-01-18T15:48:52.541113Z",
     "iopub.status.busy": "2025-01-18T15:48:52.540777Z",
     "iopub.status.idle": "2025-01-18T15:48:53.857160Z",
     "shell.execute_reply": "2025-01-18T15:48:53.855400Z"
    },
    "papermill": {
     "duration": 1.328389,
     "end_time": "2025-01-18T15:48:53.859367",
     "exception": false,
     "start_time": "2025-01-18T15:48:52.530978",
     "status": "completed"
    },
    "tags": []
   },
   "outputs": [
    {
     "name": "stdout",
     "output_type": "stream",
     "text": [
      "Measure results\n",
      "\n",
      "Accuracy:    0.8154\n",
      "Precision:   0.8072\n",
      "Recall:      0.8154\n",
      "F1 Score:    0.8096\n"
     ]
    },
    {
     "name": "stderr",
     "output_type": "stream",
     "text": [
      "/usr/local/lib/python3.10/dist-packages/sklearn/metrics/_classification.py:1344: UndefinedMetricWarning: Precision and F-score are ill-defined and being set to 0.0 in labels with no predicted samples. Use `zero_division` parameter to control this behavior.\n",
      "  _warn_prf(average, modifier, msg_start, len(result))\n",
      "/usr/local/lib/python3.10/dist-packages/sklearn/metrics/_classification.py:1344: UndefinedMetricWarning: Recall and F-score are ill-defined and being set to 0.0 in labels with no true samples. Use `zero_division` parameter to control this behavior.\n",
      "  _warn_prf(average, modifier, msg_start, len(result))\n",
      "/usr/local/lib/python3.10/dist-packages/sklearn/metrics/_classification.py:1344: UndefinedMetricWarning: Precision and F-score are ill-defined and being set to 0.0 in labels with no predicted samples. Use `zero_division` parameter to control this behavior.\n",
      "  _warn_prf(average, modifier, msg_start, len(result))\n",
      "/usr/local/lib/python3.10/dist-packages/sklearn/metrics/_classification.py:1344: UndefinedMetricWarning: Recall and F-score are ill-defined and being set to 0.0 in labels with no true samples. Use `zero_division` parameter to control this behavior.\n",
      "  _warn_prf(average, modifier, msg_start, len(result))\n",
      "/usr/local/lib/python3.10/dist-packages/sklearn/metrics/_classification.py:1344: UndefinedMetricWarning: Precision and F-score are ill-defined and being set to 0.0 in labels with no predicted samples. Use `zero_division` parameter to control this behavior.\n",
      "  _warn_prf(average, modifier, msg_start, len(result))\n",
      "/usr/local/lib/python3.10/dist-packages/sklearn/metrics/_classification.py:1344: UndefinedMetricWarning: Recall and F-score are ill-defined and being set to 0.0 in labels with no true samples. Use `zero_division` parameter to control this behavior.\n",
      "  _warn_prf(average, modifier, msg_start, len(result))\n"
     ]
    }
   ],
   "source": [
    "# XGB Classifier\n",
    "\n",
    "xgb_classifier = XGBClassifier(n_estimators=100, random_state=42, use_label_encoder=False, eval_metric='logloss')\n",
    "\n",
    "xgb_classifier.fit(X_train, y_train)\n",
    "\n",
    "# Make predictions\n",
    "y_pred = xgb_classifier.predict(X_test)\n",
    "\n",
    "accuracy_xgb_clean = accuracy_score(y_test, y_pred)\n",
    "report = classification_report(y_test, y_pred, output_dict=True)\n",
    "\n",
    "# Extract overall precision, recall, and F1-score from the 'weighted avg' section\n",
    "precision_xgb_clean = report['weighted avg']['precision']\n",
    "recall_xgb_clean = report['weighted avg']['recall']\n",
    "f1_score_xgb_clean = report['weighted avg']['f1-score']\n",
    "\n",
    "# Print the results with aligned numbers\n",
    "print(\"Measure results\\n\")\n",
    "print(f\"Accuracy:  {accuracy_xgb_clean:8.4f}\")\n",
    "print(f\"Precision: {precision_xgb_clean:8.4f}\")\n",
    "print(f\"Recall:    {recall_xgb_clean:8.4f}\")\n",
    "print(f\"F1 Score:  {f1_score_xgb_clean:8.4f}\")"
   ]
  },
  {
   "cell_type": "markdown",
   "id": "154602bc",
   "metadata": {
    "papermill": {
     "duration": 0.009792,
     "end_time": "2025-01-18T15:48:53.879409",
     "exception": false,
     "start_time": "2025-01-18T15:48:53.869617",
     "status": "completed"
    },
    "tags": []
   },
   "source": [
    "## Conclusions\n",
    "Form our analysis for the classification task we have obtained the following results:\n"
   ]
  },
  {
   "cell_type": "code",
   "execution_count": 25,
   "id": "018ece97",
   "metadata": {
    "execution": {
     "iopub.execute_input": "2025-01-18T15:48:53.898248Z",
     "iopub.status.busy": "2025-01-18T15:48:53.897930Z",
     "iopub.status.idle": "2025-01-18T15:48:53.908941Z",
     "shell.execute_reply": "2025-01-18T15:48:53.908009Z"
    },
    "papermill": {
     "duration": 0.022093,
     "end_time": "2025-01-18T15:48:53.910438",
     "exception": false,
     "start_time": "2025-01-18T15:48:53.888345",
     "status": "completed"
    },
    "tags": []
   },
   "outputs": [
    {
     "data": {
      "text/html": [
       "<div>\n",
       "<style scoped>\n",
       "    .dataframe tbody tr th:only-of-type {\n",
       "        vertical-align: middle;\n",
       "    }\n",
       "\n",
       "    .dataframe tbody tr th {\n",
       "        vertical-align: top;\n",
       "    }\n",
       "\n",
       "    .dataframe thead th {\n",
       "        text-align: right;\n",
       "    }\n",
       "</style>\n",
       "<table border=\"1\" class=\"dataframe\">\n",
       "  <thead>\n",
       "    <tr style=\"text-align: right;\">\n",
       "      <th></th>\n",
       "      <th>Model-Dataset</th>\n",
       "      <th>Accuracy</th>\n",
       "      <th>Precision</th>\n",
       "      <th>Recall</th>\n",
       "      <th>F1 Score</th>\n",
       "    </tr>\n",
       "  </thead>\n",
       "  <tbody>\n",
       "    <tr>\n",
       "      <th>0</th>\n",
       "      <td>RandomForest-DatasetDirty</td>\n",
       "      <td>0.196615</td>\n",
       "      <td>0.163688</td>\n",
       "      <td>0.196615</td>\n",
       "      <td>0.176864</td>\n",
       "    </tr>\n",
       "    <tr>\n",
       "      <th>1</th>\n",
       "      <td>RandomForest-DatasetCleaned</td>\n",
       "      <td>0.757943</td>\n",
       "      <td>0.727417</td>\n",
       "      <td>0.757943</td>\n",
       "      <td>0.739996</td>\n",
       "    </tr>\n",
       "    <tr>\n",
       "      <th>2</th>\n",
       "      <td>XGB-DatasetDirty</td>\n",
       "      <td>0.247396</td>\n",
       "      <td>0.208719</td>\n",
       "      <td>0.247396</td>\n",
       "      <td>0.211121</td>\n",
       "    </tr>\n",
       "    <tr>\n",
       "      <th>3</th>\n",
       "      <td>XGB-DatasetCleaned</td>\n",
       "      <td>0.815431</td>\n",
       "      <td>0.807155</td>\n",
       "      <td>0.815431</td>\n",
       "      <td>0.809613</td>\n",
       "    </tr>\n",
       "  </tbody>\n",
       "</table>\n",
       "</div>"
      ],
      "text/plain": [
       "                 Model-Dataset  Accuracy  Precision    Recall  F1 Score\n",
       "0    RandomForest-DatasetDirty  0.196615   0.163688  0.196615  0.176864\n",
       "1  RandomForest-DatasetCleaned  0.757943   0.727417  0.757943  0.739996\n",
       "2             XGB-DatasetDirty  0.247396   0.208719  0.247396  0.211121\n",
       "3           XGB-DatasetCleaned  0.815431   0.807155  0.815431  0.809613"
      ]
     },
     "execution_count": 25,
     "metadata": {},
     "output_type": "execute_result"
    }
   ],
   "source": [
    "results = {\n",
    "    \"Model-Dataset\": [\n",
    "        \"RandomForest-DatasetDirty\",\n",
    "        \"RandomForest-DatasetCleaned\",\n",
    "        \"XGB-DatasetDirty\",\n",
    "        \"XGB-DatasetCleaned\"\n",
    "    ],\n",
    "    \"Accuracy\": [accuracy_rf_dirty, accuracy_rf_clean, accuracy_xgb_dirty, accuracy_xgb_clean],\n",
    "    \"Precision\": [precision_rf_dirty, precision_rf_clean, precision_xgb_dirty, precision_xgb_clean],\n",
    "    \"Recall\": [recall_rf_dirty, recall_rf_clean, recall_xgb_dirty, recall_xgb_clean],\n",
    "    \"F1 Score\": [f1_score_rf_dirty, f1_score_rf_clean, f1_score_xgb_dirty, f1_score_xgb_clean]\n",
    "}\n",
    "\n",
    "# Create the DataFrame\n",
    "results_df = pd.DataFrame(results)\n",
    "\n",
    "# Print the reordered table\n",
    "results_df"
   ]
  },
  {
   "cell_type": "markdown",
   "id": "ff6f9607",
   "metadata": {
    "papermill": {
     "duration": 0.008591,
     "end_time": "2025-01-18T15:48:53.928294",
     "exception": false,
     "start_time": "2025-01-18T15:48:53.919703",
     "status": "completed"
    },
    "tags": []
   },
   "source": [
    "**Our conclusions:**\n",
    "\n",
    "* The cleaned dataset significantly improves the performance of both models, particularly for XGBoost, which performs best when the data is well-prepared. The dirty dataset severely hampers model performance, especially for RandomForest.\n",
    "* On both cleaned and dirty datasets, XGBoost outperforms RandomForest in terms of all metrics. This suggests that XGBoost is a more robust algorithm, especially when dealing with noisy or unclean data."
   ]
  }
 ],
 "metadata": {
  "kaggle": {
   "accelerator": "none",
   "dataSources": [],
   "dockerImageVersionId": 30839,
   "isGpuEnabled": false,
   "isInternetEnabled": true,
   "language": "python",
   "sourceType": "notebook"
  },
  "kernelspec": {
   "display_name": "Python 3",
   "language": "python",
   "name": "python3"
  },
  "language_info": {
   "codemirror_mode": {
    "name": "ipython",
    "version": 3
   },
   "file_extension": ".py",
   "mimetype": "text/x-python",
   "name": "python",
   "nbconvert_exporter": "python",
   "pygments_lexer": "ipython3",
   "version": "3.10.12"
  },
  "papermill": {
   "default_parameters": {},
   "duration": 17.302596,
   "end_time": "2025-01-18T15:48:54.658140",
   "environment_variables": {},
   "exception": null,
   "input_path": "__notebook__.ipynb",
   "output_path": "__notebook__.ipynb",
   "parameters": {},
   "start_time": "2025-01-18T15:48:37.355544",
   "version": "2.6.0"
  }
 },
 "nbformat": 4,
 "nbformat_minor": 5
}

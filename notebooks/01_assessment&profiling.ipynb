{
 "cells": [
  {
   "cell_type": "markdown",
   "id": "9da47eb9",
   "metadata": {
    "papermill": {
     "duration": 0.011355,
     "end_time": "2024-12-22T15:21:49.840394",
     "exception": false,
     "start_time": "2024-12-22T15:21:49.829039",
     "status": "completed"
    },
    "tags": []
   },
   "source": [
    "Import the repository from GitHub."
   ]
  },
  {
   "cell_type": "code",
   "execution_count": 1,
   "id": "ca03a79c",
   "metadata": {
    "_cell_guid": "b1076dfc-b9ad-4769-8c92-a6c4dae69d19",
    "_uuid": "8f2839f25d086af736a60e9eeb907d3b93b6e0e5",
    "execution": {
     "iopub.execute_input": "2024-12-22T15:21:49.864350Z",
     "iopub.status.busy": "2024-12-22T15:21:49.863693Z",
     "iopub.status.idle": "2024-12-22T15:21:52.152885Z",
     "shell.execute_reply": "2024-12-22T15:21:52.151752Z"
    },
    "papermill": {
     "duration": 2.303283,
     "end_time": "2024-12-22T15:21:52.155509",
     "exception": false,
     "start_time": "2024-12-22T15:21:49.852226",
     "status": "completed"
    },
    "tags": []
   },
   "outputs": [
    {
     "name": "stdout",
     "output_type": "stream",
     "text": [
      "Cloning into 'DIQ_Project2024'...\r\n",
      "remote: Enumerating objects: 32, done.\u001b[K\r\n",
      "remote: Counting objects: 100% (32/32), done.\u001b[K\r\n",
      "remote: Compressing objects: 100% (26/26), done.\u001b[K\r\n",
      "remote: Total 32 (delta 12), reused 10 (delta 1), pack-reused 0 (from 0)\u001b[K\r\n",
      "Unpacking objects: 100% (32/32), 90.79 KiB | 2.75 MiB/s, done.\r\n"
     ]
    }
   ],
   "source": [
    "from kaggle_secrets import UserSecretsClient\n",
    "\n",
    "token = UserSecretsClient().get_secret(\"Token\")\n",
    "\n",
    "! git clone https://{token}@github.com/madratak/DIQ_Project2024.git"
   ]
  },
  {
   "cell_type": "code",
   "execution_count": 2,
   "id": "ef66cdd5",
   "metadata": {
    "execution": {
     "iopub.execute_input": "2024-12-22T15:21:52.179583Z",
     "iopub.status.busy": "2024-12-22T15:21:52.179160Z",
     "iopub.status.idle": "2024-12-22T15:21:52.187866Z",
     "shell.execute_reply": "2024-12-22T15:21:52.186558Z"
    },
    "papermill": {
     "duration": 0.023689,
     "end_time": "2024-12-22T15:21:52.190077",
     "exception": false,
     "start_time": "2024-12-22T15:21:52.166388",
     "status": "completed"
    },
    "tags": []
   },
   "outputs": [
    {
     "name": "stdout",
     "output_type": "stream",
     "text": [
      "/kaggle/working/DIQ_Project2024\n"
     ]
    }
   ],
   "source": [
    "%cd /kaggle/working/DIQ_Project2024"
   ]
  },
  {
   "cell_type": "markdown",
   "id": "8a6ea527",
   "metadata": {
    "papermill": {
     "duration": 0.010248,
     "end_time": "2024-12-22T15:21:52.210977",
     "exception": false,
     "start_time": "2024-12-22T15:21:52.200729",
     "status": "completed"
    },
    "tags": []
   },
   "source": [
    "Import the libraries:"
   ]
  },
  {
   "cell_type": "code",
   "execution_count": 3,
   "id": "93e804cb",
   "metadata": {
    "execution": {
     "iopub.execute_input": "2024-12-22T15:21:52.234320Z",
     "iopub.status.busy": "2024-12-22T15:21:52.233931Z",
     "iopub.status.idle": "2024-12-22T15:21:53.318063Z",
     "shell.execute_reply": "2024-12-22T15:21:53.316861Z"
    },
    "papermill": {
     "duration": 1.099138,
     "end_time": "2024-12-22T15:21:53.320898",
     "exception": false,
     "start_time": "2024-12-22T15:21:52.221760",
     "status": "completed"
    },
    "tags": []
   },
   "outputs": [],
   "source": [
    "import pandas as pd\n",
    "import numpy as np\n",
    "from datetime import datetime\n",
    "import os"
   ]
  },
  {
   "cell_type": "markdown",
   "id": "820ba98d",
   "metadata": {
    "papermill": {
     "duration": 0.010503,
     "end_time": "2024-12-22T15:21:53.342573",
     "exception": false,
     "start_time": "2024-12-22T15:21:53.332070",
     "status": "completed"
    },
    "tags": []
   },
   "source": [
    "Import the data:"
   ]
  },
  {
   "cell_type": "code",
   "execution_count": 4,
   "id": "a35c73f5",
   "metadata": {
    "execution": {
     "iopub.execute_input": "2024-12-22T15:21:53.366888Z",
     "iopub.status.busy": "2024-12-22T15:21:53.366193Z",
     "iopub.status.idle": "2024-12-22T15:21:53.422386Z",
     "shell.execute_reply": "2024-12-22T15:21:53.421156Z"
    },
    "papermill": {
     "duration": 0.071434,
     "end_time": "2024-12-22T15:21:53.424896",
     "exception": false,
     "start_time": "2024-12-22T15:21:53.353462",
     "status": "completed"
    },
    "tags": []
   },
   "outputs": [
    {
     "data": {
      "text/html": [
       "<div>\n",
       "<style scoped>\n",
       "    .dataframe tbody tr th:only-of-type {\n",
       "        vertical-align: middle;\n",
       "    }\n",
       "\n",
       "    .dataframe tbody tr th {\n",
       "        vertical-align: top;\n",
       "    }\n",
       "\n",
       "    .dataframe thead th {\n",
       "        text-align: right;\n",
       "    }\n",
       "</style>\n",
       "<table border=\"1\" class=\"dataframe\">\n",
       "  <thead>\n",
       "    <tr style=\"text-align: right;\">\n",
       "      <th></th>\n",
       "      <th>Tipo esercizio pa</th>\n",
       "      <th>Ubicazione</th>\n",
       "      <th>Tipo via</th>\n",
       "      <th>Via</th>\n",
       "      <th>Civico</th>\n",
       "      <th>Codice via</th>\n",
       "      <th>ZD</th>\n",
       "      <th>Prevalente</th>\n",
       "      <th>Superficie altri usi</th>\n",
       "      <th>Superficie lavorativa</th>\n",
       "    </tr>\n",
       "  </thead>\n",
       "  <tbody>\n",
       "    <tr>\n",
       "      <th>0</th>\n",
       "      <td>NaN</td>\n",
       "      <td>LGO DEI GELSOMINI N. 10 (z.d. 6)</td>\n",
       "      <td>LGO</td>\n",
       "      <td>DEI GELSOMINI</td>\n",
       "      <td>10</td>\n",
       "      <td>5394.0</td>\n",
       "      <td>6</td>\n",
       "      <td>NaN</td>\n",
       "      <td>NaN</td>\n",
       "      <td>55.0</td>\n",
       "    </tr>\n",
       "    <tr>\n",
       "      <th>1</th>\n",
       "      <td>NaN</td>\n",
       "      <td>PZA FIDIA N. 3 (z.d. 9)</td>\n",
       "      <td>PZA</td>\n",
       "      <td>FIDIA</td>\n",
       "      <td>3</td>\n",
       "      <td>1144.0</td>\n",
       "      <td>9</td>\n",
       "      <td>CENTRO MASSAGGI RILASSANTI NON ESTETICI</td>\n",
       "      <td>2.0</td>\n",
       "      <td>28.0</td>\n",
       "    </tr>\n",
       "    <tr>\n",
       "      <th>2</th>\n",
       "      <td>NaN</td>\n",
       "      <td>VIA ADIGE N. 10 (z.d. 5)</td>\n",
       "      <td>VIA</td>\n",
       "      <td>ADIGE</td>\n",
       "      <td>10</td>\n",
       "      <td>4216.0</td>\n",
       "      <td>5</td>\n",
       "      <td>CENTRO BENESSERE</td>\n",
       "      <td>2.0</td>\n",
       "      <td>27.0</td>\n",
       "    </tr>\n",
       "    <tr>\n",
       "      <th>3</th>\n",
       "      <td>NaN</td>\n",
       "      <td>VIA BARACCHINI FLAVIO N. 9 (z.d. 1)</td>\n",
       "      <td>VIA</td>\n",
       "      <td>BARACCHINI FLAVIO</td>\n",
       "      <td>9</td>\n",
       "      <td>356.0</td>\n",
       "      <td>1</td>\n",
       "      <td>TRUCCO SEMIPERMANENTE</td>\n",
       "      <td>NaN</td>\n",
       "      <td>NaN</td>\n",
       "    </tr>\n",
       "    <tr>\n",
       "      <th>4</th>\n",
       "      <td>NaN</td>\n",
       "      <td>VIA BERGAMO N. 12 (z.d. 4)</td>\n",
       "      <td>VIA</td>\n",
       "      <td>BERGAMO</td>\n",
       "      <td>12</td>\n",
       "      <td>3189.0</td>\n",
       "      <td>4</td>\n",
       "      <td>NaN</td>\n",
       "      <td>NaN</td>\n",
       "      <td>50.0</td>\n",
       "    </tr>\n",
       "  </tbody>\n",
       "</table>\n",
       "</div>"
      ],
      "text/plain": [
       "  Tipo esercizio pa                           Ubicazione Tipo via  \\\n",
       "0               NaN     LGO DEI GELSOMINI N. 10 (z.d. 6)      LGO   \n",
       "1               NaN              PZA FIDIA N. 3 (z.d. 9)      PZA   \n",
       "2               NaN             VIA ADIGE N. 10 (z.d. 5)      VIA   \n",
       "3               NaN  VIA BARACCHINI FLAVIO N. 9 (z.d. 1)      VIA   \n",
       "4               NaN           VIA BERGAMO N. 12 (z.d. 4)      VIA   \n",
       "\n",
       "                 Via Civico  Codice via ZD  \\\n",
       "0      DEI GELSOMINI     10      5394.0  6   \n",
       "1              FIDIA      3      1144.0  9   \n",
       "2              ADIGE     10      4216.0  5   \n",
       "3  BARACCHINI FLAVIO      9       356.0  1   \n",
       "4            BERGAMO     12      3189.0  4   \n",
       "\n",
       "                                Prevalente  Superficie altri usi  \\\n",
       "0                                      NaN                   NaN   \n",
       "1  CENTRO MASSAGGI RILASSANTI NON ESTETICI                   2.0   \n",
       "2                         CENTRO BENESSERE                   2.0   \n",
       "3                    TRUCCO SEMIPERMANENTE                   NaN   \n",
       "4                                      NaN                   NaN   \n",
       "\n",
       "   Superficie lavorativa  \n",
       "0                   55.0  \n",
       "1                   28.0  \n",
       "2                   27.0  \n",
       "3                    NaN  \n",
       "4                   50.0  "
      ]
     },
     "execution_count": 4,
     "metadata": {},
     "output_type": "execute_result"
    }
   ],
   "source": [
    "SERVICES = pd.read_csv('/kaggle/working/DIQ_Project2024/data/raw/Comune-di-Milano-Servizi-alla-persona-parrucchieri-estetisti.csv',sep=';',encoding='unicode_escape')\n",
    "SERVICES.head()"
   ]
  },
  {
   "cell_type": "markdown",
   "id": "c3e9f37b",
   "metadata": {
    "papermill": {
     "duration": 0.010701,
     "end_time": "2024-12-22T15:21:53.447756",
     "exception": false,
     "start_time": "2024-12-22T15:21:53.437055",
     "status": "completed"
    },
    "tags": []
   },
   "source": [
    "Basic operations to inspect data:"
   ]
  },
  {
   "cell_type": "code",
   "execution_count": 5,
   "id": "a7d1b09d",
   "metadata": {
    "execution": {
     "iopub.execute_input": "2024-12-22T15:21:53.471922Z",
     "iopub.status.busy": "2024-12-22T15:21:53.470620Z",
     "iopub.status.idle": "2024-12-22T15:21:53.478119Z",
     "shell.execute_reply": "2024-12-22T15:21:53.477065Z"
    },
    "papermill": {
     "duration": 0.021683,
     "end_time": "2024-12-22T15:21:53.480095",
     "exception": false,
     "start_time": "2024-12-22T15:21:53.458412",
     "status": "completed"
    },
    "tags": []
   },
   "outputs": [
    {
     "data": {
      "text/plain": [
       "(3909, 10)"
      ]
     },
     "execution_count": 5,
     "metadata": {},
     "output_type": "execute_result"
    }
   ],
   "source": [
    "SERVICES.shape"
   ]
  },
  {
   "cell_type": "code",
   "execution_count": 6,
   "id": "2e4a12c3",
   "metadata": {
    "execution": {
     "iopub.execute_input": "2024-12-22T15:21:53.503713Z",
     "iopub.status.busy": "2024-12-22T15:21:53.503318Z",
     "iopub.status.idle": "2024-12-22T15:21:53.511417Z",
     "shell.execute_reply": "2024-12-22T15:21:53.510325Z"
    },
    "papermill": {
     "duration": 0.022517,
     "end_time": "2024-12-22T15:21:53.513494",
     "exception": false,
     "start_time": "2024-12-22T15:21:53.490977",
     "status": "completed"
    },
    "tags": []
   },
   "outputs": [
    {
     "data": {
      "text/plain": [
       "Tipo esercizio pa         object\n",
       "Ubicazione                object\n",
       "Tipo via                  object\n",
       "Via                       object\n",
       "Civico                    object\n",
       "Codice via               float64\n",
       "ZD                        object\n",
       "Prevalente                object\n",
       "Superficie altri usi     float64\n",
       "Superficie lavorativa    float64\n",
       "dtype: object"
      ]
     },
     "execution_count": 6,
     "metadata": {},
     "output_type": "execute_result"
    }
   ],
   "source": [
    "SERVICES.dtypes"
   ]
  },
  {
   "cell_type": "markdown",
   "id": "1f3deb87",
   "metadata": {
    "papermill": {
     "duration": 0.010576,
     "end_time": "2024-12-22T15:21:53.535133",
     "exception": false,
     "start_time": "2024-12-22T15:21:53.524557",
     "status": "completed"
    },
    "tags": []
   },
   "source": [
    "# 1. Duplication"
   ]
  },
  {
   "cell_type": "code",
   "execution_count": 7,
   "id": "06d09b83",
   "metadata": {
    "execution": {
     "iopub.execute_input": "2024-12-22T15:21:53.559930Z",
     "iopub.status.busy": "2024-12-22T15:21:53.559512Z",
     "iopub.status.idle": "2024-12-22T15:21:53.579263Z",
     "shell.execute_reply": "2024-12-22T15:21:53.578229Z"
    },
    "papermill": {
     "duration": 0.03523,
     "end_time": "2024-12-22T15:21:53.581589",
     "exception": false,
     "start_time": "2024-12-22T15:21:53.546359",
     "status": "completed"
    },
    "tags": []
   },
   "outputs": [
    {
     "data": {
      "text/plain": [
       "0       False\n",
       "1       False\n",
       "2       False\n",
       "3       False\n",
       "4       False\n",
       "        ...  \n",
       "3904    False\n",
       "3905    False\n",
       "3906    False\n",
       "3907    False\n",
       "3908    False\n",
       "Length: 3909, dtype: bool"
      ]
     },
     "execution_count": 7,
     "metadata": {},
     "output_type": "execute_result"
    }
   ],
   "source": [
    "SERVICES.duplicated()"
   ]
  },
  {
   "cell_type": "code",
   "execution_count": 8,
   "id": "fa65a910",
   "metadata": {
    "execution": {
     "iopub.execute_input": "2024-12-22T15:21:53.605979Z",
     "iopub.status.busy": "2024-12-22T15:21:53.605539Z",
     "iopub.status.idle": "2024-12-22T15:21:53.616970Z",
     "shell.execute_reply": "2024-12-22T15:21:53.615715Z"
    },
    "papermill": {
     "duration": 0.026329,
     "end_time": "2024-12-22T15:21:53.619306",
     "exception": false,
     "start_time": "2024-12-22T15:21:53.592977",
     "status": "completed"
    },
    "tags": []
   },
   "outputs": [
    {
     "data": {
      "text/plain": [
       "True"
      ]
     },
     "execution_count": 8,
     "metadata": {},
     "output_type": "execute_result"
    }
   ],
   "source": [
    "SERVICES.duplicated().any()"
   ]
  },
  {
   "cell_type": "markdown",
   "id": "1b4b958e",
   "metadata": {
    "papermill": {
     "duration": 0.010847,
     "end_time": "2024-12-22T15:21:53.641483",
     "exception": false,
     "start_time": "2024-12-22T15:21:53.630636",
     "status": "completed"
    },
    "tags": []
   },
   "source": [
    "# 2. Completeness"
   ]
  },
  {
   "cell_type": "code",
   "execution_count": 9,
   "id": "226bfc5d",
   "metadata": {
    "execution": {
     "iopub.execute_input": "2024-12-22T15:21:53.665927Z",
     "iopub.status.busy": "2024-12-22T15:21:53.665497Z",
     "iopub.status.idle": "2024-12-22T15:21:53.688011Z",
     "shell.execute_reply": "2024-12-22T15:21:53.686890Z"
    },
    "papermill": {
     "duration": 0.037377,
     "end_time": "2024-12-22T15:21:53.690345",
     "exception": false,
     "start_time": "2024-12-22T15:21:53.652968",
     "status": "completed"
    },
    "tags": []
   },
   "outputs": [
    {
     "data": {
      "text/html": [
       "<div>\n",
       "<style scoped>\n",
       "    .dataframe tbody tr th:only-of-type {\n",
       "        vertical-align: middle;\n",
       "    }\n",
       "\n",
       "    .dataframe tbody tr th {\n",
       "        vertical-align: top;\n",
       "    }\n",
       "\n",
       "    .dataframe thead th {\n",
       "        text-align: right;\n",
       "    }\n",
       "</style>\n",
       "<table border=\"1\" class=\"dataframe\">\n",
       "  <thead>\n",
       "    <tr style=\"text-align: right;\">\n",
       "      <th></th>\n",
       "      <th>Tipo esercizio pa</th>\n",
       "      <th>Ubicazione</th>\n",
       "      <th>Tipo via</th>\n",
       "      <th>Via</th>\n",
       "      <th>Civico</th>\n",
       "      <th>Codice via</th>\n",
       "      <th>ZD</th>\n",
       "      <th>Prevalente</th>\n",
       "      <th>Superficie altri usi</th>\n",
       "      <th>Superficie lavorativa</th>\n",
       "    </tr>\n",
       "  </thead>\n",
       "  <tbody>\n",
       "    <tr>\n",
       "      <th>0</th>\n",
       "      <td>True</td>\n",
       "      <td>False</td>\n",
       "      <td>False</td>\n",
       "      <td>False</td>\n",
       "      <td>False</td>\n",
       "      <td>False</td>\n",
       "      <td>False</td>\n",
       "      <td>True</td>\n",
       "      <td>True</td>\n",
       "      <td>False</td>\n",
       "    </tr>\n",
       "    <tr>\n",
       "      <th>1</th>\n",
       "      <td>True</td>\n",
       "      <td>False</td>\n",
       "      <td>False</td>\n",
       "      <td>False</td>\n",
       "      <td>False</td>\n",
       "      <td>False</td>\n",
       "      <td>False</td>\n",
       "      <td>False</td>\n",
       "      <td>False</td>\n",
       "      <td>False</td>\n",
       "    </tr>\n",
       "    <tr>\n",
       "      <th>2</th>\n",
       "      <td>True</td>\n",
       "      <td>False</td>\n",
       "      <td>False</td>\n",
       "      <td>False</td>\n",
       "      <td>False</td>\n",
       "      <td>False</td>\n",
       "      <td>False</td>\n",
       "      <td>False</td>\n",
       "      <td>False</td>\n",
       "      <td>False</td>\n",
       "    </tr>\n",
       "    <tr>\n",
       "      <th>3</th>\n",
       "      <td>True</td>\n",
       "      <td>False</td>\n",
       "      <td>False</td>\n",
       "      <td>False</td>\n",
       "      <td>False</td>\n",
       "      <td>False</td>\n",
       "      <td>False</td>\n",
       "      <td>False</td>\n",
       "      <td>True</td>\n",
       "      <td>True</td>\n",
       "    </tr>\n",
       "    <tr>\n",
       "      <th>4</th>\n",
       "      <td>True</td>\n",
       "      <td>False</td>\n",
       "      <td>False</td>\n",
       "      <td>False</td>\n",
       "      <td>False</td>\n",
       "      <td>False</td>\n",
       "      <td>False</td>\n",
       "      <td>True</td>\n",
       "      <td>True</td>\n",
       "      <td>False</td>\n",
       "    </tr>\n",
       "    <tr>\n",
       "      <th>...</th>\n",
       "      <td>...</td>\n",
       "      <td>...</td>\n",
       "      <td>...</td>\n",
       "      <td>...</td>\n",
       "      <td>...</td>\n",
       "      <td>...</td>\n",
       "      <td>...</td>\n",
       "      <td>...</td>\n",
       "      <td>...</td>\n",
       "      <td>...</td>\n",
       "    </tr>\n",
       "    <tr>\n",
       "      <th>3904</th>\n",
       "      <td>False</td>\n",
       "      <td>False</td>\n",
       "      <td>False</td>\n",
       "      <td>False</td>\n",
       "      <td>False</td>\n",
       "      <td>False</td>\n",
       "      <td>False</td>\n",
       "      <td>True</td>\n",
       "      <td>True</td>\n",
       "      <td>True</td>\n",
       "    </tr>\n",
       "    <tr>\n",
       "      <th>3905</th>\n",
       "      <td>False</td>\n",
       "      <td>False</td>\n",
       "      <td>False</td>\n",
       "      <td>False</td>\n",
       "      <td>False</td>\n",
       "      <td>False</td>\n",
       "      <td>False</td>\n",
       "      <td>True</td>\n",
       "      <td>True</td>\n",
       "      <td>False</td>\n",
       "    </tr>\n",
       "    <tr>\n",
       "      <th>3906</th>\n",
       "      <td>False</td>\n",
       "      <td>False</td>\n",
       "      <td>False</td>\n",
       "      <td>False</td>\n",
       "      <td>False</td>\n",
       "      <td>False</td>\n",
       "      <td>False</td>\n",
       "      <td>True</td>\n",
       "      <td>True</td>\n",
       "      <td>True</td>\n",
       "    </tr>\n",
       "    <tr>\n",
       "      <th>3907</th>\n",
       "      <td>False</td>\n",
       "      <td>False</td>\n",
       "      <td>False</td>\n",
       "      <td>False</td>\n",
       "      <td>True</td>\n",
       "      <td>False</td>\n",
       "      <td>False</td>\n",
       "      <td>True</td>\n",
       "      <td>True</td>\n",
       "      <td>True</td>\n",
       "    </tr>\n",
       "    <tr>\n",
       "      <th>3908</th>\n",
       "      <td>False</td>\n",
       "      <td>False</td>\n",
       "      <td>False</td>\n",
       "      <td>False</td>\n",
       "      <td>False</td>\n",
       "      <td>False</td>\n",
       "      <td>False</td>\n",
       "      <td>True</td>\n",
       "      <td>True</td>\n",
       "      <td>False</td>\n",
       "    </tr>\n",
       "  </tbody>\n",
       "</table>\n",
       "<p>3909 rows × 10 columns</p>\n",
       "</div>"
      ],
      "text/plain": [
       "      Tipo esercizio pa  Ubicazione  Tipo via    Via  Civico  Codice via  \\\n",
       "0                  True       False     False  False   False       False   \n",
       "1                  True       False     False  False   False       False   \n",
       "2                  True       False     False  False   False       False   \n",
       "3                  True       False     False  False   False       False   \n",
       "4                  True       False     False  False   False       False   \n",
       "...                 ...         ...       ...    ...     ...         ...   \n",
       "3904              False       False     False  False   False       False   \n",
       "3905              False       False     False  False   False       False   \n",
       "3906              False       False     False  False   False       False   \n",
       "3907              False       False     False  False    True       False   \n",
       "3908              False       False     False  False   False       False   \n",
       "\n",
       "         ZD  Prevalente  Superficie altri usi  Superficie lavorativa  \n",
       "0     False        True                  True                  False  \n",
       "1     False       False                 False                  False  \n",
       "2     False       False                 False                  False  \n",
       "3     False       False                  True                   True  \n",
       "4     False        True                  True                  False  \n",
       "...     ...         ...                   ...                    ...  \n",
       "3904  False        True                  True                   True  \n",
       "3905  False        True                  True                  False  \n",
       "3906  False        True                  True                   True  \n",
       "3907  False        True                  True                   True  \n",
       "3908  False        True                  True                  False  \n",
       "\n",
       "[3909 rows x 10 columns]"
      ]
     },
     "execution_count": 9,
     "metadata": {},
     "output_type": "execute_result"
    }
   ],
   "source": [
    "SERVICES.isnull()"
   ]
  },
  {
   "cell_type": "code",
   "execution_count": 10,
   "id": "b63d5b82",
   "metadata": {
    "execution": {
     "iopub.execute_input": "2024-12-22T15:21:53.715420Z",
     "iopub.status.busy": "2024-12-22T15:21:53.715035Z",
     "iopub.status.idle": "2024-12-22T15:21:53.725885Z",
     "shell.execute_reply": "2024-12-22T15:21:53.724706Z"
    },
    "papermill": {
     "duration": 0.025932,
     "end_time": "2024-12-22T15:21:53.728170",
     "exception": false,
     "start_time": "2024-12-22T15:21:53.702238",
     "status": "completed"
    },
    "tags": []
   },
   "outputs": [
    {
     "data": {
      "text/plain": [
       "Tipo esercizio pa        3878\n",
       "Ubicazione               3909\n",
       "Tipo via                 3908\n",
       "Via                      3908\n",
       "Civico                   3832\n",
       "Codice via               3908\n",
       "ZD                       3908\n",
       "Prevalente                294\n",
       "Superficie altri usi      745\n",
       "Superficie lavorativa    2601\n",
       "dtype: int64"
      ]
     },
     "execution_count": 10,
     "metadata": {},
     "output_type": "execute_result"
    }
   ],
   "source": [
    "#display the number of not null values for each column\n",
    "SERVICES.count()"
   ]
  },
  {
   "cell_type": "code",
   "execution_count": 11,
   "id": "3953f371",
   "metadata": {
    "execution": {
     "iopub.execute_input": "2024-12-22T15:21:53.753491Z",
     "iopub.status.busy": "2024-12-22T15:21:53.753118Z",
     "iopub.status.idle": "2024-12-22T15:21:53.762998Z",
     "shell.execute_reply": "2024-12-22T15:21:53.761718Z"
    },
    "papermill": {
     "duration": 0.024821,
     "end_time": "2024-12-22T15:21:53.765172",
     "exception": false,
     "start_time": "2024-12-22T15:21:53.740351",
     "status": "completed"
    },
    "tags": []
   },
   "outputs": [
    {
     "data": {
      "text/plain": [
       "30891"
      ]
     },
     "execution_count": 11,
     "metadata": {},
     "output_type": "execute_result"
    }
   ],
   "source": [
    "#total number of not null values\n",
    "not_null_values = SERVICES.count().sum()\n",
    "not_null_values"
   ]
  },
  {
   "cell_type": "code",
   "execution_count": 12,
   "id": "7ee231c2",
   "metadata": {
    "execution": {
     "iopub.execute_input": "2024-12-22T15:21:53.790194Z",
     "iopub.status.busy": "2024-12-22T15:21:53.789808Z",
     "iopub.status.idle": "2024-12-22T15:21:53.799406Z",
     "shell.execute_reply": "2024-12-22T15:21:53.798278Z"
    },
    "papermill": {
     "duration": 0.02451,
     "end_time": "2024-12-22T15:21:53.801363",
     "exception": false,
     "start_time": "2024-12-22T15:21:53.776853",
     "status": "completed"
    },
    "tags": []
   },
   "outputs": [
    {
     "data": {
      "text/plain": [
       "Tipo esercizio pa          31\n",
       "Ubicazione                  0\n",
       "Tipo via                    1\n",
       "Via                         1\n",
       "Civico                     77\n",
       "Codice via                  1\n",
       "ZD                          1\n",
       "Prevalente               3615\n",
       "Superficie altri usi     3164\n",
       "Superficie lavorativa    1308\n",
       "dtype: int64"
      ]
     },
     "execution_count": 12,
     "metadata": {},
     "output_type": "execute_result"
    }
   ],
   "source": [
    "#display the number of null values for each column\n",
    "null_values = SERVICES.isnull().sum()\n",
    "null_values"
   ]
  },
  {
   "cell_type": "code",
   "execution_count": 13,
   "id": "32ec5097",
   "metadata": {
    "execution": {
     "iopub.execute_input": "2024-12-22T15:21:53.828201Z",
     "iopub.status.busy": "2024-12-22T15:21:53.827807Z",
     "iopub.status.idle": "2024-12-22T15:21:53.834878Z",
     "shell.execute_reply": "2024-12-22T15:21:53.833819Z"
    },
    "papermill": {
     "duration": 0.022488,
     "end_time": "2024-12-22T15:21:53.837117",
     "exception": false,
     "start_time": "2024-12-22T15:21:53.814629",
     "status": "completed"
    },
    "tags": []
   },
   "outputs": [
    {
     "data": {
      "text/plain": [
       "8199"
      ]
     },
     "execution_count": 13,
     "metadata": {},
     "output_type": "execute_result"
    }
   ],
   "source": [
    "#total number of null values\n",
    "total_number_of_null = null_values.sum()\n",
    "total_number_of_null"
   ]
  },
  {
   "cell_type": "code",
   "execution_count": 14,
   "id": "3c2029b9",
   "metadata": {
    "execution": {
     "iopub.execute_input": "2024-12-22T15:21:53.867554Z",
     "iopub.status.busy": "2024-12-22T15:21:53.866870Z",
     "iopub.status.idle": "2024-12-22T15:21:53.875797Z",
     "shell.execute_reply": "2024-12-22T15:21:53.874552Z"
    },
    "papermill": {
     "duration": 0.026921,
     "end_time": "2024-12-22T15:21:53.878070",
     "exception": false,
     "start_time": "2024-12-22T15:21:53.851149",
     "status": "completed"
    },
    "tags": []
   },
   "outputs": [
    {
     "data": {
      "text/plain": [
       "39090"
      ]
     },
     "execution_count": 14,
     "metadata": {},
     "output_type": "execute_result"
    }
   ],
   "source": [
    "#total number of cells\n",
    "n_cells = SERVICES.shape[0] * SERVICES.shape[1]\n",
    "n_cells"
   ]
  },
  {
   "cell_type": "markdown",
   "id": "384d1a6a",
   "metadata": {
    "papermill": {
     "duration": 0.012002,
     "end_time": "2024-12-22T15:21:53.903289",
     "exception": false,
     "start_time": "2024-12-22T15:21:53.891287",
     "status": "completed"
    },
    "tags": []
   },
   "source": [
    "COMPLETENESS EVALUATION:"
   ]
  },
  {
   "cell_type": "code",
   "execution_count": 15,
   "id": "3a1e8419",
   "metadata": {
    "execution": {
     "iopub.execute_input": "2024-12-22T15:21:53.929263Z",
     "iopub.status.busy": "2024-12-22T15:21:53.928870Z",
     "iopub.status.idle": "2024-12-22T15:21:53.935573Z",
     "shell.execute_reply": "2024-12-22T15:21:53.934465Z"
    },
    "papermill": {
     "duration": 0.022436,
     "end_time": "2024-12-22T15:21:53.937692",
     "exception": false,
     "start_time": "2024-12-22T15:21:53.915256",
     "status": "completed"
    },
    "tags": []
   },
   "outputs": [
    {
     "data": {
      "text/plain": [
       "0.7902532617037605"
      ]
     },
     "execution_count": 15,
     "metadata": {},
     "output_type": "execute_result"
    }
   ],
   "source": [
    "completeness = (n_cells - total_number_of_null) / n_cells\n",
    "# completeness = not_null_values / n_cells\n",
    "completeness"
   ]
  },
  {
   "cell_type": "markdown",
   "id": "506e57e7",
   "metadata": {
    "papermill": {
     "duration": 0.011457,
     "end_time": "2024-12-22T15:21:53.961137",
     "exception": false,
     "start_time": "2024-12-22T15:21:53.949680",
     "status": "completed"
    },
    "tags": []
   },
   "source": [
    "# 3. Accuracy\n",
    "(To complete with external dataset maybe)"
   ]
  },
  {
   "cell_type": "markdown",
   "id": "a8f366dc",
   "metadata": {
    "papermill": {
     "duration": 0.011857,
     "end_time": "2024-12-22T15:21:53.985024",
     "exception": false,
     "start_time": "2024-12-22T15:21:53.973167",
     "status": "completed"
    },
    "tags": []
   },
   "source": [
    "# Column Analysis\n",
    "\n",
    "## a. Tipo esercizio pa"
   ]
  },
  {
   "cell_type": "code",
   "execution_count": 16,
   "id": "b56a637b",
   "metadata": {
    "execution": {
     "iopub.execute_input": "2024-12-22T15:21:54.010577Z",
     "iopub.status.busy": "2024-12-22T15:21:54.010197Z",
     "iopub.status.idle": "2024-12-22T15:21:54.018228Z",
     "shell.execute_reply": "2024-12-22T15:21:54.017097Z"
    },
    "papermill": {
     "duration": 0.02349,
     "end_time": "2024-12-22T15:21:54.020437",
     "exception": false,
     "start_time": "2024-12-22T15:21:53.996947",
     "status": "completed"
    },
    "tags": []
   },
   "outputs": [
    {
     "data": {
      "text/plain": [
       "array([nan, 'Acconciatore', ' (z.d. 9)', 'ACCONCIATORE',\n",
       "       'ACCONCIATORE;TIPO A ESTETICA MANUALE',\n",
       "       'ACCONCIATORE;TIPO A ESTETICA MANUALE;TIPO B CENTRO DI ABBRONZATURA',\n",
       "       'Acconciatore;TIPO A - REG.2003', 'ACCONCIATORE;TIPO A - REG.2003',\n",
       "       'Acconciatore;TIPO A - REG.2003;TIPO B CENTRO DI ABBRONZATURA',\n",
       "       'ACCONCIATORE;TIPO A - REG.2003;TIPO B CENTRO DI ABBRONZATURA',\n",
       "       'BARBIERE', 'Centro abbronzatura', 'Centro benessere',\n",
       "       'Centro benessere;TIPO A - REG.2003', 'Centro massaggi',\n",
       "       'Centro massaggi;Centro benessere',\n",
       "       'esecuzione di tatuaggi e piercing',\n",
       "       'Esecuzione di tatuaggi e piercing', 'Estetista',\n",
       "       'Estetista in profumeria;TIPO A ESTETICA MANUALE;TIPO D ESTET.APPAR.ELETTROMECC;TIPO C TRATT.ESTETICI DIMAGRIM',\n",
       "       'Estetista;Manicure;Pedicure estetico',\n",
       "       'Estetista;Parrucchiere per signora',\n",
       "       'Estetista;Pedicure estetico', 'Manicure;Parrucchiere per signora',\n",
       "       'Parrucchiere misto', 'Parrucchiere misto;TIPO A ESTETICA MANUALE',\n",
       "       'Parrucchiere misto;TIPO A - REG.2003',\n",
       "       'Parrucchiere misto;TIPO A - REG.2003;TIPO B CENTRO DI ABBRONZATURA',\n",
       "       'Parrucchiere per signora',\n",
       "       'Parrucchiere per signora;Acconciatore',\n",
       "       'Parrucchiere per signora;ACCONCIATORE',\n",
       "       'Parrucchiere per signora;ACCONCIATORE;TIPO A - REG.2003;TIPO B CENTRO DI ABBRONZATURA',\n",
       "       'Parrucchiere per signora;Parrucchiere per signora',\n",
       "       'Parrucchiere per signora;TIPO A-B-C-D',\n",
       "       'Parrucchiere per signora;TIPO A ESTETICA MANUALE',\n",
       "       'Parrucchiere per signora;TIPO A ESTETICA MANUALE;TIPO B CENTRO DI ABBRONZATURA',\n",
       "       'Parrucchiere per signora;TIPO A ESTETICA MANUALE;TIPO C TRATT.ESTETICI DIMAGRIM',\n",
       "       'Parrucchiere per signora;TIPO A ESTETICA MANUALE;TIPO C TRATT.ESTETICI DIMAGRIM;TIPO B CENTRO DI ABBRONZATURA',\n",
       "       'Parrucchiere per signora;TIPO A ESTETICA MANUALE;TIPO D ESTET.APPAR.ELETTROMECC;TIPO B CENTRO DI ABBRONZATURA',\n",
       "       'Parrucchiere per signora;TIPO A ESTETICA MANUALE;TIPO D ESTET.APPAR.ELETTROMECC;TIPO C TRATT.ESTETICI DIMAGRIM',\n",
       "       'Parrucchiere per signora;TIPO A ESTETICA MANUALE;TIPO D ESTET.APPAR.ELETTROMECC;TIPO C TRATT.ESTETICI DIMAGRIM;TIPO B CENTRO DI ABBRONZATURA',\n",
       "       'Parrucchiere per signora;TIPO A - REG.2003',\n",
       "       'Parrucchiere per signora;TIPO A - REG.2003;TIPO B CENTRO DI ABBRONZATURA',\n",
       "       'Parrucchiere per signora;TIPO C TRATT.ESTETICI DIMAGRIM',\n",
       "       'Parrucchiere per signora;TIPO D ESTET.APPAR.ELETTROMECC;TIPO C TRATT.ESTETICI DIMAGRIM',\n",
       "       'Parrucchiere per uomo', 'Parrucchiere per uomo;Acconciatore',\n",
       "       'Parrucchiere per uomo;Estetista',\n",
       "       'Parrucchiere per uomo;Manicure;Pedicure estetico',\n",
       "       'Parrucchiere per uomo;Parrucchiere per signora',\n",
       "       'Parrucchiere per uomo;Parrucchiere per signora;Parrucchiere misto',\n",
       "       'Parrucchiere per uomo;Parrucchiere per signora;Parrucchiere misto;TIPO A ESTETICA MANUALE;TIPO C TRATT.ESTETICI DIMAGRIM;TIPO B CENTRO DI ABBRONZATURA',\n",
       "       'Parrucchiere per uomo;Parrucchiere per signora;TIPO A-B-C-D',\n",
       "       'Parrucchiere per uomo;Parrucchiere per signora;TIPO A-B-C-D;Parrucchiere misto',\n",
       "       'Parrucchiere per uomo;Parrucchiere per signora;TIPO A ESTETICA MANUALE',\n",
       "       'Parrucchiere per uomo;Parrucchiere per signora;TIPO A ESTETICA MANUALE;TIPO B CENTRO DI ABBRONZATURA',\n",
       "       'Parrucchiere per uomo;Parrucchiere per signora;TIPO A ESTETICA MANUALE;TIPO C TRATT.ESTETICI DIMAGRIM',\n",
       "       'Parrucchiere per uomo;Parrucchiere per signora;TIPO A ESTETICA MANUALE;TIPO C TRATT.ESTETICI DIMAGRIM;TIPO B CENTRO DI ABBRONZATURA',\n",
       "       'Parrucchiere per uomo;Parrucchiere per signora;TIPO A ESTETICA MANUALE;TIPO D ESTET.APPAR.ELETTROMECC;TIPO C TRATT.ESTETICI DIMAGRIM',\n",
       "       'Parrucchiere per uomo;Parrucchiere per signora;TIPO A - REG.2003',\n",
       "       'Parrucchiere per uomo;Parrucchiere per signora;TIPO A - REG.2003;TIPO B CENTRO DI ABBRONZATURA',\n",
       "       'Parrucchiere per uomo;Pedicure estetico',\n",
       "       'Parrucchiere per uomo;TIPO A-B-C-D',\n",
       "       'Parrucchiere per uomo;TIPO A ESTETICA MANUALE',\n",
       "       'Parrucchiere per uomo;TIPO A ESTETICA MANUALE;TIPO B CENTRO DI ABBRONZATURA',\n",
       "       'Parrucchiere per uomo;TIPO A ESTETICA MANUALE;TIPO C TRATT.ESTETICI DIMAGRIM;TIPO B CENTRO DI ABBRONZATURA',\n",
       "       'Parrucchiere per uomo;TIPO A ESTETICA MANUALE;TIPO D ESTET.APPAR.ELETTROMECC;TIPO C TRATT.ESTETICI DIMAGRIM;TIPO B CENTRO DI ABBRONZATURA',\n",
       "       'Parrucchiere per uomo;TIPO A - REG.2003',\n",
       "       'Parrucchiere per uomo;TIPO A - REG.2003;TIPO B CENTRO DI ABBRONZATURA',\n",
       "       'Pedicure estetico',\n",
       "       'Pedicure estetico;TIPO C TRATT.ESTETICI DIMAGRIM', 'TIPO A-B-C-D',\n",
       "       'TIPO A-B-C-D;Acconciatore', 'TIPO A-B-C-D;ACCONCIATORE',\n",
       "       'TIPO A-B-C-D;Estetista in profumeria',\n",
       "       'TIPO A-B-C-D;Parrucchiere misto', 'TIPO A ESTETICA MANUALE',\n",
       "       'TIPO A ESTETICA MANUALE;Acconciatore',\n",
       "       'TIPO A ESTETICA MANUALE;Parrucchiere per signora',\n",
       "       'TIPO A ESTETICA MANUALE;TIPO B CENTRO DI ABBRONZATURA',\n",
       "       'TIPO A ESTETICA MANUALE;TIPO C TRATT.ESTETICI DIMAGRIM',\n",
       "       'TIPO A ESTETICA MANUALE;TIPO C TRATT.ESTETICI DIMAGRIM;TIPO B CENTRO DI ABBRONZATURA',\n",
       "       'TIPO A ESTETICA MANUALE;TIPO D ESTET.APPAR.ELETTROMECC',\n",
       "       'TIPO A ESTETICA MANUALE;TIPO D ESTET.APPAR.ELETTROMECC;TIPO B CENTRO DI ABBRONZATURA',\n",
       "       'TIPO A ESTETICA MANUALE;TIPO D ESTET.APPAR.ELETTROMECC;TIPO C TRATT.ESTETICI DIMAGRIM',\n",
       "       'TIPO A ESTETICA MANUALE;TIPO D ESTET.APPAR.ELETTROMECC;TIPO C TRATT.ESTETICI DIMAGRIM;TIPO B CENTRO DI ABBRONZATURA',\n",
       "       'TIPO A - REG.2003', 'TIPO A - REG.2003;Acconciatore',\n",
       "       'TIPO A - REG.2003;ACCONCIATORE',\n",
       "       'TIPO A - REG.2003;Centro benessere',\n",
       "       'TIPO A - REG.2003;Centro massaggi',\n",
       "       'TIPO A - REG.2003;esecuzione di tatuaggi e piercing',\n",
       "       'TIPO A - REG.2003;Parrucchiere per uomo',\n",
       "       'TIPO A - REG.2003;TIPO B CENTRO DI ABBRONZATURA',\n",
       "       'TIPO A - REG.2003;TIPO B CENTRO DI ABBRONZATURA;Acconciatore',\n",
       "       'TIPO A - REG.2003;TIPO B CENTRO DI ABBRONZATURA;ACCONCIATORE',\n",
       "       'TIPO B CENTRO DI ABBRONZATURA',\n",
       "       'TIPO B CENTRO DI ABBRONZATURA;TIPO A - REG.2003',\n",
       "       'TIPO C TRATT.ESTETICI DIMAGRIM',\n",
       "       'TIPO C TRATT.ESTETICI DIMAGRIM;TIPO B CENTRO DI ABBRONZATURA',\n",
       "       'TIPO D ESTET.APPAR.ELETTROMECC',\n",
       "       'TIPO D ESTET.APPAR.ELETTROMECC;TIPO C TRATT.ESTETICI DIMAGRIM',\n",
       "       'TIPO D ESTET.APPAR.ELETTROMECC;TIPO C TRATT.ESTETICI DIMAGRIM;TIPO B CENTRO DI ABBRONZATURA',\n",
       "       'Truccatore'], dtype=object)"
      ]
     },
     "execution_count": 16,
     "metadata": {},
     "output_type": "execute_result"
    }
   ],
   "source": [
    "SERVICES[\"Tipo esercizio pa\"].unique()"
   ]
  },
  {
   "cell_type": "code",
   "execution_count": 17,
   "id": "60f5e9de",
   "metadata": {
    "execution": {
     "iopub.execute_input": "2024-12-22T15:21:54.047258Z",
     "iopub.status.busy": "2024-12-22T15:21:54.046852Z",
     "iopub.status.idle": "2024-12-22T15:21:54.053880Z",
     "shell.execute_reply": "2024-12-22T15:21:54.052850Z"
    },
    "papermill": {
     "duration": 0.022936,
     "end_time": "2024-12-22T15:21:54.055960",
     "exception": false,
     "start_time": "2024-12-22T15:21:54.033024",
     "status": "completed"
    },
    "tags": []
   },
   "outputs": [
    {
     "data": {
      "text/plain": [
       "103"
      ]
     },
     "execution_count": 17,
     "metadata": {},
     "output_type": "execute_result"
    }
   ],
   "source": [
    "SERVICES[\"Tipo esercizio pa\"].nunique()"
   ]
  },
  {
   "cell_type": "code",
   "execution_count": 18,
   "id": "dad56f95",
   "metadata": {
    "execution": {
     "iopub.execute_input": "2024-12-22T15:21:54.083132Z",
     "iopub.status.busy": "2024-12-22T15:21:54.082708Z",
     "iopub.status.idle": "2024-12-22T15:21:54.094747Z",
     "shell.execute_reply": "2024-12-22T15:21:54.093669Z"
    },
    "papermill": {
     "duration": 0.028439,
     "end_time": "2024-12-22T15:21:54.096907",
     "exception": false,
     "start_time": "2024-12-22T15:21:54.068468",
     "status": "completed"
    },
    "tags": []
   },
   "outputs": [
    {
     "data": {
      "text/plain": [
       "Tipo esercizio pa\n",
       "Parrucchiere per signora                           1048\n",
       "ACCONCIATORE                                        586\n",
       "Parrucchiere per uomo                               439\n",
       "TIPO A - REG.2003                                   335\n",
       "TIPO A - REG.2003;TIPO B CENTRO DI ABBRONZATURA     313\n",
       "                                                   ... \n",
       "TIPO A-B-C-D;Acconciatore                             1\n",
       "TIPO A-B-C-D;ACCONCIATORE                             1\n",
       "TIPO A-B-C-D;Estetista in profumeria                  1\n",
       "TIPO A ESTETICA MANUALE;Acconciatore                  1\n",
       "Truccatore                                            1\n",
       "Name: count, Length: 103, dtype: int64"
      ]
     },
     "execution_count": 18,
     "metadata": {},
     "output_type": "execute_result"
    }
   ],
   "source": [
    "SERVICES[\"Tipo esercizio pa\"].value_counts()"
   ]
  },
  {
   "cell_type": "markdown",
   "id": "0cc939e5",
   "metadata": {
    "papermill": {
     "duration": 0.012111,
     "end_time": "2024-12-22T15:21:54.121857",
     "exception": false,
     "start_time": "2024-12-22T15:21:54.109746",
     "status": "completed"
    },
    "tags": []
   },
   "source": [
    "## b. Ubicazione"
   ]
  },
  {
   "cell_type": "code",
   "execution_count": 19,
   "id": "60172492",
   "metadata": {
    "execution": {
     "iopub.execute_input": "2024-12-22T15:21:54.148833Z",
     "iopub.status.busy": "2024-12-22T15:21:54.148406Z",
     "iopub.status.idle": "2024-12-22T15:21:54.156512Z",
     "shell.execute_reply": "2024-12-22T15:21:54.155457Z"
    },
    "papermill": {
     "duration": 0.02419,
     "end_time": "2024-12-22T15:21:54.158736",
     "exception": false,
     "start_time": "2024-12-22T15:21:54.134546",
     "status": "completed"
    },
    "tags": []
   },
   "outputs": [
    {
     "data": {
      "text/plain": [
       "array(['LGO DEI GELSOMINI N. 10 (z.d. 6)', 'PZA FIDIA N. 3 (z.d. 9)',\n",
       "       'VIA ADIGE N. 10 (z.d. 5)', ..., 'VIA CANDOGLIA N. 2 ; (z.d. 9)',\n",
       "       'VIA NIRONE num.002a; (z.d. 1)', 'VIA MADONNINA N. 15 ; (z.d. 1)'],\n",
       "      dtype=object)"
      ]
     },
     "execution_count": 19,
     "metadata": {},
     "output_type": "execute_result"
    }
   ],
   "source": [
    "SERVICES[\"Ubicazione\"].unique()"
   ]
  },
  {
   "cell_type": "code",
   "execution_count": 20,
   "id": "62626b97",
   "metadata": {
    "execution": {
     "iopub.execute_input": "2024-12-22T15:21:54.186744Z",
     "iopub.status.busy": "2024-12-22T15:21:54.186347Z",
     "iopub.status.idle": "2024-12-22T15:21:54.194184Z",
     "shell.execute_reply": "2024-12-22T15:21:54.193169Z"
    },
    "papermill": {
     "duration": 0.024655,
     "end_time": "2024-12-22T15:21:54.196352",
     "exception": false,
     "start_time": "2024-12-22T15:21:54.171697",
     "status": "completed"
    },
    "tags": []
   },
   "outputs": [
    {
     "data": {
      "text/plain": [
       "3554"
      ]
     },
     "execution_count": 20,
     "metadata": {},
     "output_type": "execute_result"
    }
   ],
   "source": [
    "SERVICES[\"Ubicazione\"].nunique()"
   ]
  },
  {
   "cell_type": "code",
   "execution_count": 21,
   "id": "f5853d6d",
   "metadata": {
    "execution": {
     "iopub.execute_input": "2024-12-22T15:21:54.223916Z",
     "iopub.status.busy": "2024-12-22T15:21:54.223474Z",
     "iopub.status.idle": "2024-12-22T15:21:54.234987Z",
     "shell.execute_reply": "2024-12-22T15:21:54.233821Z"
    },
    "papermill": {
     "duration": 0.027638,
     "end_time": "2024-12-22T15:21:54.237191",
     "exception": false,
     "start_time": "2024-12-22T15:21:54.209553",
     "status": "completed"
    },
    "tags": []
   },
   "outputs": [
    {
     "data": {
      "text/plain": [
       "Ubicazione\n",
       "PZA DE ANGELI ERNESTO N. 1 ; (z.d. 7)    4\n",
       "VIA VAL DI SOLE N. 22 ; (z.d. 5)         4\n",
       "VIA DEI CINQUECENTO N. 27 ; (z.d. 4)     3\n",
       "VIA DELLA CAPINERA N. 5 ; (z.d. 6)       3\n",
       "VIA CASTALDI PANFILO N. 42 ; (z.d. 3)    3\n",
       "                                        ..\n",
       "PZA IMPERATORE TITO N. 6 ; (z.d. 4)      1\n",
       "PZA LIMA N. 3 ; (z.d. 3)                 1\n",
       "PZA MONTI GIOSIA N. 1 ; (z.d. 7)         1\n",
       "PZA RISORGIMENTO N. 4 ; (z.d. 4)         1\n",
       "VIA MADONNINA N. 15 ; (z.d. 1)           1\n",
       "Name: count, Length: 3554, dtype: int64"
      ]
     },
     "execution_count": 21,
     "metadata": {},
     "output_type": "execute_result"
    }
   ],
   "source": [
    "SERVICES[\"Ubicazione\"].value_counts()"
   ]
  },
  {
   "cell_type": "markdown",
   "id": "7134a78c",
   "metadata": {
    "papermill": {
     "duration": 0.012464,
     "end_time": "2024-12-22T15:21:54.262531",
     "exception": false,
     "start_time": "2024-12-22T15:21:54.250067",
     "status": "completed"
    },
    "tags": []
   },
   "source": [
    "## c. Tipo via "
   ]
  },
  {
   "cell_type": "code",
   "execution_count": 22,
   "id": "b8161e80",
   "metadata": {
    "execution": {
     "iopub.execute_input": "2024-12-22T15:21:54.289721Z",
     "iopub.status.busy": "2024-12-22T15:21:54.289350Z",
     "iopub.status.idle": "2024-12-22T15:21:54.296376Z",
     "shell.execute_reply": "2024-12-22T15:21:54.295321Z"
    },
    "papermill": {
     "duration": 0.023308,
     "end_time": "2024-12-22T15:21:54.298486",
     "exception": false,
     "start_time": "2024-12-22T15:21:54.275178",
     "status": "completed"
    },
    "tags": []
   },
   "outputs": [
    {
     "data": {
      "text/plain": [
       "array(['LGO', 'PZA', 'VIA', 'VLE', 'CSO', nan, 'COMO', 'PAS', 'PLE',\n",
       "       'ALZ', 'BST', 'FOR', 'VIE', 'VLO', 'GLL', 'RIP', 'PTA', 'SIT'],\n",
       "      dtype=object)"
      ]
     },
     "execution_count": 22,
     "metadata": {},
     "output_type": "execute_result"
    }
   ],
   "source": [
    "SERVICES[\"Tipo via\"].unique()"
   ]
  },
  {
   "cell_type": "code",
   "execution_count": 23,
   "id": "10c81fdd",
   "metadata": {
    "execution": {
     "iopub.execute_input": "2024-12-22T15:21:54.325792Z",
     "iopub.status.busy": "2024-12-22T15:21:54.325133Z",
     "iopub.status.idle": "2024-12-22T15:21:54.332431Z",
     "shell.execute_reply": "2024-12-22T15:21:54.331352Z"
    },
    "papermill": {
     "duration": 0.023142,
     "end_time": "2024-12-22T15:21:54.334471",
     "exception": false,
     "start_time": "2024-12-22T15:21:54.311329",
     "status": "completed"
    },
    "tags": []
   },
   "outputs": [
    {
     "data": {
      "text/plain": [
       "17"
      ]
     },
     "execution_count": 23,
     "metadata": {},
     "output_type": "execute_result"
    }
   ],
   "source": [
    "SERVICES[\"Tipo via\"].nunique()"
   ]
  },
  {
   "cell_type": "code",
   "execution_count": 24,
   "id": "c979a8b6",
   "metadata": {
    "execution": {
     "iopub.execute_input": "2024-12-22T15:21:54.362104Z",
     "iopub.status.busy": "2024-12-22T15:21:54.361706Z",
     "iopub.status.idle": "2024-12-22T15:21:54.370606Z",
     "shell.execute_reply": "2024-12-22T15:21:54.369627Z"
    },
    "papermill": {
     "duration": 0.025492,
     "end_time": "2024-12-22T15:21:54.372717",
     "exception": false,
     "start_time": "2024-12-22T15:21:54.347225",
     "status": "completed"
    },
    "tags": []
   },
   "outputs": [
    {
     "data": {
      "text/plain": [
       "Tipo via\n",
       "VIA     2978\n",
       "VLE      455\n",
       "CSO      186\n",
       "PZA      157\n",
       "PLE       61\n",
       "LGO       30\n",
       "GLL       10\n",
       "RIP        6\n",
       "ALZ        6\n",
       "FOR        5\n",
       "BST        4\n",
       "PTA        3\n",
       "VIE        2\n",
       "VLO        2\n",
       "PAS        1\n",
       "COMO       1\n",
       "SIT        1\n",
       "Name: count, dtype: int64"
      ]
     },
     "execution_count": 24,
     "metadata": {},
     "output_type": "execute_result"
    }
   ],
   "source": [
    "SERVICES[\"Tipo via\"].value_counts()"
   ]
  },
  {
   "cell_type": "markdown",
   "id": "13b726de",
   "metadata": {
    "papermill": {
     "duration": 0.012592,
     "end_time": "2024-12-22T15:21:54.398323",
     "exception": false,
     "start_time": "2024-12-22T15:21:54.385731",
     "status": "completed"
    },
    "tags": []
   },
   "source": [
    "## d. Via"
   ]
  },
  {
   "cell_type": "code",
   "execution_count": 25,
   "id": "cdbe63d9",
   "metadata": {
    "execution": {
     "iopub.execute_input": "2024-12-22T15:21:54.425862Z",
     "iopub.status.busy": "2024-12-22T15:21:54.425487Z",
     "iopub.status.idle": "2024-12-22T15:21:54.433156Z",
     "shell.execute_reply": "2024-12-22T15:21:54.431895Z"
    },
    "papermill": {
     "duration": 0.024499,
     "end_time": "2024-12-22T15:21:54.435627",
     "exception": false,
     "start_time": "2024-12-22T15:21:54.411128",
     "status": "completed"
    },
    "tags": []
   },
   "outputs": [
    {
     "data": {
      "text/plain": [
       "array(['DEI GELSOMINI', 'FIDIA', 'ADIGE', ..., 'DURER ALBERTO',\n",
       "       'CANDOGLIA', 'NIRONE'], dtype=object)"
      ]
     },
     "execution_count": 25,
     "metadata": {},
     "output_type": "execute_result"
    }
   ],
   "source": [
    "SERVICES[\"Via\"].unique()"
   ]
  },
  {
   "cell_type": "code",
   "execution_count": 26,
   "id": "7be6550e",
   "metadata": {
    "execution": {
     "iopub.execute_input": "2024-12-22T15:21:54.464936Z",
     "iopub.status.busy": "2024-12-22T15:21:54.464543Z",
     "iopub.status.idle": "2024-12-22T15:21:54.472023Z",
     "shell.execute_reply": "2024-12-22T15:21:54.470756Z"
    },
    "papermill": {
     "duration": 0.023667,
     "end_time": "2024-12-22T15:21:54.474270",
     "exception": false,
     "start_time": "2024-12-22T15:21:54.450603",
     "status": "completed"
    },
    "tags": []
   },
   "outputs": [
    {
     "data": {
      "text/plain": [
       "1370"
      ]
     },
     "execution_count": 26,
     "metadata": {},
     "output_type": "execute_result"
    }
   ],
   "source": [
    "SERVICES[\"Via\"].nunique()"
   ]
  },
  {
   "cell_type": "code",
   "execution_count": 27,
   "id": "b0af79f0",
   "metadata": {
    "execution": {
     "iopub.execute_input": "2024-12-22T15:21:54.501889Z",
     "iopub.status.busy": "2024-12-22T15:21:54.501472Z",
     "iopub.status.idle": "2024-12-22T15:21:54.511290Z",
     "shell.execute_reply": "2024-12-22T15:21:54.510172Z"
    },
    "papermill": {
     "duration": 0.026123,
     "end_time": "2024-12-22T15:21:54.513462",
     "exception": false,
     "start_time": "2024-12-22T15:21:54.487339",
     "status": "completed"
    },
    "tags": []
   },
   "outputs": [
    {
     "data": {
      "text/plain": [
       "Via\n",
       "PADOVA                42\n",
       "MONZA                 40\n",
       "DELLE FORZE ARMATE    26\n",
       "LODI                  26\n",
       "RIPAMONTI GIUSEPPE    25\n",
       "                      ..\n",
       "DELLA SILA             1\n",
       "DELLE ERBE             1\n",
       "DELLE PRIMULE          1\n",
       "DELLE STELLINE         1\n",
       "NIRONE                 1\n",
       "Name: count, Length: 1370, dtype: int64"
      ]
     },
     "execution_count": 27,
     "metadata": {},
     "output_type": "execute_result"
    }
   ],
   "source": [
    "SERVICES[\"Via\"].value_counts()"
   ]
  },
  {
   "cell_type": "markdown",
   "id": "97eca436",
   "metadata": {
    "papermill": {
     "duration": 0.012701,
     "end_time": "2024-12-22T15:21:54.539296",
     "exception": false,
     "start_time": "2024-12-22T15:21:54.526595",
     "status": "completed"
    },
    "tags": []
   },
   "source": [
    "## e. Civico "
   ]
  },
  {
   "cell_type": "code",
   "execution_count": 28,
   "id": "bdb3734a",
   "metadata": {
    "execution": {
     "iopub.execute_input": "2024-12-22T15:21:54.567434Z",
     "iopub.status.busy": "2024-12-22T15:21:54.567084Z",
     "iopub.status.idle": "2024-12-22T15:21:54.574526Z",
     "shell.execute_reply": "2024-12-22T15:21:54.573474Z"
    },
    "papermill": {
     "duration": 0.023587,
     "end_time": "2024-12-22T15:21:54.576528",
     "exception": false,
     "start_time": "2024-12-22T15:21:54.552941",
     "status": "completed"
    },
    "tags": []
   },
   "outputs": [
    {
     "data": {
      "text/plain": [
       "array(['10', '3', '9', '12', '13', '39', '25', '6', '20', '30', '2', '67',\n",
       "       '16', '111', '36', '83', '5', '22', '23', '1', '4', '91', '8',\n",
       "       '19', '38', nan, '1111', '46', '54', '65', '103', '40', '29', '32',\n",
       "       '7', '17', '27', '12A', '48', '61', '47', '15', '232', '234', '57',\n",
       "       '75', '34', '150', '71', '55', '21', '6A', '163', '90', '14', '53',\n",
       "       '70', '119F', '26', '24', '40945', '128', '3B', '41', '64', '68',\n",
       "       '35', '49', '42', '99', '52', '72', '117', '79', '96', '58', '81',\n",
       "       '112', '93/1', '87', '63', '18', '123', '31', '33', '11', '242',\n",
       "       '46D', '28', '80', '98', '59', '37', '43', '60', '50', '44', '246',\n",
       "       '326', '407', '410', '51', '110', '130', '131', '157', '174', '62',\n",
       "       '107', '73', '139', '147', '168', '213', '255', '279', '45', '77',\n",
       "       '4A', '187', '89', '207', '227', '244', '56', '100', '104', '74',\n",
       "       '66', '92', '108', '121', '76', '233', '249', '256', '267', '270',\n",
       "       '82', '116', '236', '69', '178', '143', '113', '129', '120', '154',\n",
       "       '235', '3A', '195', '5A', '243', '105', '179', '22A', '127', '333',\n",
       "       '124', '84', '102', '94', '8A', '85', '172', '158', '376', '220',\n",
       "       '101', '149', '169', '93', '141', '181', '201', '142', '182',\n",
       "       '186', '217', '288', '310', '126', '167', '184', '190', '193',\n",
       "       '218', '219', '86', '115', '273', '277', '309', '325', '78', '140',\n",
       "       '155', '283', '196', '175', '106', '109', '165', '328', '95',\n",
       "       '151', '191', '212', '114', '173', '177', '118', '145', '290',\n",
       "       '208', '324', '146', '2A', '1A', '197', '395', '135', '55B', '40A',\n",
       "       '133', '276', '180', '185', '261', '97', '11A', '260', '214',\n",
       "       '198', '265', '336'], dtype=object)"
      ]
     },
     "execution_count": 28,
     "metadata": {},
     "output_type": "execute_result"
    }
   ],
   "source": [
    "SERVICES[\"Civico\"].unique()"
   ]
  },
  {
   "cell_type": "code",
   "execution_count": 29,
   "id": "4475a032",
   "metadata": {
    "execution": {
     "iopub.execute_input": "2024-12-22T15:21:54.604568Z",
     "iopub.status.busy": "2024-12-22T15:21:54.604207Z",
     "iopub.status.idle": "2024-12-22T15:21:54.611369Z",
     "shell.execute_reply": "2024-12-22T15:21:54.610354Z"
    },
    "papermill": {
     "duration": 0.023832,
     "end_time": "2024-12-22T15:21:54.613586",
     "exception": false,
     "start_time": "2024-12-22T15:21:54.589754",
     "status": "completed"
    },
    "tags": []
   },
   "outputs": [
    {
     "data": {
      "text/plain": [
       "235"
      ]
     },
     "execution_count": 29,
     "metadata": {},
     "output_type": "execute_result"
    }
   ],
   "source": [
    "SERVICES[\"Civico\"].nunique()"
   ]
  },
  {
   "cell_type": "code",
   "execution_count": 30,
   "id": "993db6f0",
   "metadata": {
    "execution": {
     "iopub.execute_input": "2024-12-22T15:21:54.642112Z",
     "iopub.status.busy": "2024-12-22T15:21:54.641696Z",
     "iopub.status.idle": "2024-12-22T15:21:54.651592Z",
     "shell.execute_reply": "2024-12-22T15:21:54.650535Z"
    },
    "papermill": {
     "duration": 0.026488,
     "end_time": "2024-12-22T15:21:54.653748",
     "exception": false,
     "start_time": "2024-12-22T15:21:54.627260",
     "status": "completed"
    },
    "tags": []
   },
   "outputs": [
    {
     "data": {
      "text/plain": [
       "Civico\n",
       "2      249\n",
       "1      247\n",
       "4      165\n",
       "3      158\n",
       "5      147\n",
       "      ... \n",
       "127      1\n",
       "22A      1\n",
       "179      1\n",
       "243      1\n",
       "336      1\n",
       "Name: count, Length: 235, dtype: int64"
      ]
     },
     "execution_count": 30,
     "metadata": {},
     "output_type": "execute_result"
    }
   ],
   "source": [
    "SERVICES[\"Civico\"].value_counts()"
   ]
  },
  {
   "cell_type": "markdown",
   "id": "41f7a5f6",
   "metadata": {
    "papermill": {
     "duration": 0.013012,
     "end_time": "2024-12-22T15:21:54.680519",
     "exception": false,
     "start_time": "2024-12-22T15:21:54.667507",
     "status": "completed"
    },
    "tags": []
   },
   "source": [
    "## f. Codice via"
   ]
  },
  {
   "cell_type": "code",
   "execution_count": 31,
   "id": "5a473335",
   "metadata": {
    "execution": {
     "iopub.execute_input": "2024-12-22T15:21:54.708696Z",
     "iopub.status.busy": "2024-12-22T15:21:54.708353Z",
     "iopub.status.idle": "2024-12-22T15:21:54.715909Z",
     "shell.execute_reply": "2024-12-22T15:21:54.714870Z"
    },
    "papermill": {
     "duration": 0.024087,
     "end_time": "2024-12-22T15:21:54.717957",
     "exception": false,
     "start_time": "2024-12-22T15:21:54.693870",
     "status": "completed"
    },
    "tags": []
   },
   "outputs": [
    {
     "data": {
      "text/plain": [
       "array([5394., 1144., 4216., ..., 6602., 1518.,  640.])"
      ]
     },
     "execution_count": 31,
     "metadata": {},
     "output_type": "execute_result"
    }
   ],
   "source": [
    "SERVICES[\"Codice via\"].unique()"
   ]
  },
  {
   "cell_type": "code",
   "execution_count": 32,
   "id": "f7621703",
   "metadata": {
    "execution": {
     "iopub.execute_input": "2024-12-22T15:21:54.746550Z",
     "iopub.status.busy": "2024-12-22T15:21:54.746199Z",
     "iopub.status.idle": "2024-12-22T15:21:54.753566Z",
     "shell.execute_reply": "2024-12-22T15:21:54.752468Z"
    },
    "papermill": {
     "duration": 0.02408,
     "end_time": "2024-12-22T15:21:54.755581",
     "exception": false,
     "start_time": "2024-12-22T15:21:54.731501",
     "status": "completed"
    },
    "tags": []
   },
   "outputs": [
    {
     "data": {
      "text/plain": [
       "1376"
      ]
     },
     "execution_count": 32,
     "metadata": {},
     "output_type": "execute_result"
    }
   ],
   "source": [
    "SERVICES[\"Codice via\"].nunique()"
   ]
  },
  {
   "cell_type": "code",
   "execution_count": 33,
   "id": "a9966eb9",
   "metadata": {
    "execution": {
     "iopub.execute_input": "2024-12-22T15:21:54.784634Z",
     "iopub.status.busy": "2024-12-22T15:21:54.784015Z",
     "iopub.status.idle": "2024-12-22T15:21:54.795226Z",
     "shell.execute_reply": "2024-12-22T15:21:54.794055Z"
    },
    "papermill": {
     "duration": 0.027937,
     "end_time": "2024-12-22T15:21:54.797246",
     "exception": false,
     "start_time": "2024-12-22T15:21:54.769309",
     "status": "completed"
    },
    "tags": []
   },
   "outputs": [
    {
     "data": {
      "text/plain": [
       "Codice via\n",
       "2275.0    42\n",
       "2274.0    40\n",
       "4068.0    26\n",
       "6643.0    26\n",
       "4066.0    25\n",
       "          ..\n",
       "586.0      1\n",
       "2433.0     1\n",
       "713.0      1\n",
       "6716.0     1\n",
       "640.0      1\n",
       "Name: count, Length: 1376, dtype: int64"
      ]
     },
     "execution_count": 33,
     "metadata": {},
     "output_type": "execute_result"
    }
   ],
   "source": [
    "SERVICES[\"Codice via\"].value_counts()"
   ]
  },
  {
   "cell_type": "markdown",
   "id": "807d44e4",
   "metadata": {
    "papermill": {
     "duration": 0.015318,
     "end_time": "2024-12-22T15:21:54.826516",
     "exception": false,
     "start_time": "2024-12-22T15:21:54.811198",
     "status": "completed"
    },
    "tags": []
   },
   "source": [
    "## g. ZD"
   ]
  },
  {
   "cell_type": "code",
   "execution_count": 34,
   "id": "9857c157",
   "metadata": {
    "execution": {
     "iopub.execute_input": "2024-12-22T15:21:54.855743Z",
     "iopub.status.busy": "2024-12-22T15:21:54.855383Z",
     "iopub.status.idle": "2024-12-22T15:21:54.862374Z",
     "shell.execute_reply": "2024-12-22T15:21:54.861339Z"
    },
    "papermill": {
     "duration": 0.023904,
     "end_time": "2024-12-22T15:21:54.864239",
     "exception": false,
     "start_time": "2024-12-22T15:21:54.840335",
     "status": "completed"
    },
    "tags": []
   },
   "outputs": [
    {
     "data": {
      "text/plain": [
       "array(['6', '9', '5', '1', '4', '2', '8', '3', nan, 'ACCONCIATORE', '7'],\n",
       "      dtype=object)"
      ]
     },
     "execution_count": 34,
     "metadata": {},
     "output_type": "execute_result"
    }
   ],
   "source": [
    "SERVICES[\"ZD\"].unique()"
   ]
  },
  {
   "cell_type": "code",
   "execution_count": 35,
   "id": "897012ff",
   "metadata": {
    "execution": {
     "iopub.execute_input": "2024-12-22T15:21:54.893526Z",
     "iopub.status.busy": "2024-12-22T15:21:54.893168Z",
     "iopub.status.idle": "2024-12-22T15:21:54.899855Z",
     "shell.execute_reply": "2024-12-22T15:21:54.898835Z"
    },
    "papermill": {
     "duration": 0.023388,
     "end_time": "2024-12-22T15:21:54.901789",
     "exception": false,
     "start_time": "2024-12-22T15:21:54.878401",
     "status": "completed"
    },
    "tags": []
   },
   "outputs": [
    {
     "data": {
      "text/plain": [
       "10"
      ]
     },
     "execution_count": 35,
     "metadata": {},
     "output_type": "execute_result"
    }
   ],
   "source": [
    "SERVICES[\"ZD\"].nunique()"
   ]
  },
  {
   "cell_type": "code",
   "execution_count": 36,
   "id": "b0f2cdd2",
   "metadata": {
    "execution": {
     "iopub.execute_input": "2024-12-22T15:21:54.931001Z",
     "iopub.status.busy": "2024-12-22T15:21:54.930636Z",
     "iopub.status.idle": "2024-12-22T15:21:54.939229Z",
     "shell.execute_reply": "2024-12-22T15:21:54.938200Z"
    },
    "papermill": {
     "duration": 0.025813,
     "end_time": "2024-12-22T15:21:54.941354",
     "exception": false,
     "start_time": "2024-12-22T15:21:54.915541",
     "status": "completed"
    },
    "tags": []
   },
   "outputs": [
    {
     "data": {
      "text/plain": [
       "ZD\n",
       "1               603\n",
       "3               531\n",
       "4               463\n",
       "7               437\n",
       "2               429\n",
       "8               391\n",
       "9               387\n",
       "6               353\n",
       "5               313\n",
       "ACCONCIATORE      1\n",
       "Name: count, dtype: int64"
      ]
     },
     "execution_count": 36,
     "metadata": {},
     "output_type": "execute_result"
    }
   ],
   "source": [
    "SERVICES[\"ZD\"].value_counts()"
   ]
  },
  {
   "cell_type": "markdown",
   "id": "ed4a2014",
   "metadata": {
    "papermill": {
     "duration": 0.013739,
     "end_time": "2024-12-22T15:21:54.969114",
     "exception": false,
     "start_time": "2024-12-22T15:21:54.955375",
     "status": "completed"
    },
    "tags": []
   },
   "source": [
    "## h. Prevalente "
   ]
  },
  {
   "cell_type": "code",
   "execution_count": 37,
   "id": "ab64cfa2",
   "metadata": {
    "execution": {
     "iopub.execute_input": "2024-12-22T15:21:54.998230Z",
     "iopub.status.busy": "2024-12-22T15:21:54.997819Z",
     "iopub.status.idle": "2024-12-22T15:21:55.005389Z",
     "shell.execute_reply": "2024-12-22T15:21:55.004321Z"
    },
    "papermill": {
     "duration": 0.024302,
     "end_time": "2024-12-22T15:21:55.007316",
     "exception": false,
     "start_time": "2024-12-22T15:21:54.983014",
     "status": "completed"
    },
    "tags": []
   },
   "outputs": [
    {
     "data": {
      "text/plain": [
       "array([nan, 'CENTRO MASSAGGI RILASSANTI NON ESTETICI', 'CENTRO BENESSERE',\n",
       "       'TRUCCO SEMIPERMANENTE', 'ESTETICA TIPO A', 'CENTRO MASSAGGI',\n",
       "       'TATUAGGI E PIERCING', 'SERVIZI DI CENTRI PER IL BENESSERE FISICO',\n",
       "       'ESTETICA A', 'acconciatore', 'ACCONCIATORE',\n",
       "       'SERVIZI DEI SALONI DI BARBIERE E PARRUCCHIERE', 'Acconciatore',\n",
       "       'PARRUCCHIERE UOMO DONNA BARBIERE', 'PARRUCCHIERE', 'ACONCIATORE',\n",
       "       'ACCONCIATORE UOMO DONNA', 'acconciatore.',\n",
       "       'ACCONCIATORE E ESTETICA',\n",
       "       'CENTRO BENESSERE RILASSANTE NON ESTETICO',\n",
       "       'CENTRO PER IL BENESSERE FISICO',\n",
       "       'CENTTRO BENESSERE (ESCLUSI GLI STABILIMENTI TERMALI)',\n",
       "       'SERVIZI DEI CENTRI E STABIL. PER IL BENESSERE FISICO',\n",
       "       'STUDIO OLISTICO', 'CENTRO OLISTICO', 'centro massaggi',\n",
       "       'MASSAGGI RILASSANTI', 'CENTRO MASSAGI RILASSANTI NON ESTETICI',\n",
       "       'CENTRO MASSAGGI TUINA', 'CENTRO MASSAGGI RILASSANTI',\n",
       "       'SERVIZI DI CENTRI PER IL BENESSERE',\n",
       "       \"ATTIVITA' DI MASSAGGI RILASSANTI\", 'MASSAGGI',\n",
       "       'CENTRO MASSAGGI THAI RILASSANTI NON CURATIVI', 'centro benessere',\n",
       "       'ESECUZIONE DI TATUAGGI E PIERCING', 'TATUAGGIO',\n",
       "       'tatuaggi e piercing', 'TATUAGGIO E PIERCING',\n",
       "       'ESECUZIONE DI TATUAGGI', 'ESECUZIONE TATUAGGI', 'estetica A',\n",
       "       'ESTETISTA', 'ESTETICA', 'estetica tipo A',\n",
       "       'ESTETISTA MANICURE PEDICURE', 'estetista', 'estetica',\n",
       "       'APPLICAZIONE E DECORAZIONE UNGHIE ARTIFICIALE', 'ESTETICA a',\n",
       "       'RICOSTRUZIONE UNGHIE', 'ESTETICA - CENTRO BENESSERE',\n",
       "       'SERVIZI ORGANIZZATI CON SERVIZI DI SEGRETERIA',\n",
       "       'CENTRO MASSAGGI RILASSANTI ESTETICI', 'ESTETICA A CON TATUAGGI',\n",
       "       'estetica A e solarium', 'ESTETICA A e B', 'ESTETICA A E SOLARIUM',\n",
       "       'CENTRO ESTETICO - SOLARIUN', 'ESTETICA A E B', 'solarium',\n",
       "       'ESTETICA A B', 'SOLARIUM E ESTETICA DI TIPO A',\n",
       "       'ESTETICA TIPO A - B'], dtype=object)"
      ]
     },
     "execution_count": 37,
     "metadata": {},
     "output_type": "execute_result"
    }
   ],
   "source": [
    "SERVICES[\"Prevalente\"].unique()"
   ]
  },
  {
   "cell_type": "code",
   "execution_count": 38,
   "id": "4116fea8",
   "metadata": {
    "execution": {
     "iopub.execute_input": "2024-12-22T15:21:55.037226Z",
     "iopub.status.busy": "2024-12-22T15:21:55.036880Z",
     "iopub.status.idle": "2024-12-22T15:21:55.043713Z",
     "shell.execute_reply": "2024-12-22T15:21:55.042648Z"
    },
    "papermill": {
     "duration": 0.024277,
     "end_time": "2024-12-22T15:21:55.045682",
     "exception": false,
     "start_time": "2024-12-22T15:21:55.021405",
     "status": "completed"
    },
    "tags": []
   },
   "outputs": [
    {
     "data": {
      "text/plain": [
       "63"
      ]
     },
     "execution_count": 38,
     "metadata": {},
     "output_type": "execute_result"
    }
   ],
   "source": [
    "SERVICES[\"Prevalente\"].nunique()"
   ]
  },
  {
   "cell_type": "code",
   "execution_count": 39,
   "id": "9d0690e2",
   "metadata": {
    "execution": {
     "iopub.execute_input": "2024-12-22T15:21:55.076732Z",
     "iopub.status.busy": "2024-12-22T15:21:55.075873Z",
     "iopub.status.idle": "2024-12-22T15:21:55.084743Z",
     "shell.execute_reply": "2024-12-22T15:21:55.083566Z"
    },
    "papermill": {
     "duration": 0.026109,
     "end_time": "2024-12-22T15:21:55.086683",
     "exception": false,
     "start_time": "2024-12-22T15:21:55.060574",
     "status": "completed"
    },
    "tags": []
   },
   "outputs": [
    {
     "data": {
      "text/plain": [
       "Prevalente\n",
       "ACCONCIATORE                                    78\n",
       "CENTRO MASSAGGI                                 52\n",
       "CENTRO MASSAGGI RILASSANTI NON ESTETICI         30\n",
       "ESTETICA A                                      13\n",
       "acconciatore                                    13\n",
       "                                                ..\n",
       "SERVIZI DI CENTRI PER IL BENESSERE               1\n",
       "ATTIVITA' DI MASSAGGI RILASSANTI                 1\n",
       "CENTRO MASSAGGI THAI RILASSANTI NON CURATIVI     1\n",
       "centro benessere                                 1\n",
       "ESTETICA TIPO A - B                              1\n",
       "Name: count, Length: 63, dtype: int64"
      ]
     },
     "execution_count": 39,
     "metadata": {},
     "output_type": "execute_result"
    }
   ],
   "source": [
    "SERVICES[\"Prevalente\"].value_counts()"
   ]
  },
  {
   "cell_type": "markdown",
   "id": "eca7c61b",
   "metadata": {
    "papermill": {
     "duration": 0.01425,
     "end_time": "2024-12-22T15:21:55.115980",
     "exception": false,
     "start_time": "2024-12-22T15:21:55.101730",
     "status": "completed"
    },
    "tags": []
   },
   "source": [
    "## i. Superficie altri usi"
   ]
  },
  {
   "cell_type": "code",
   "execution_count": 40,
   "id": "b3079516",
   "metadata": {
    "execution": {
     "iopub.execute_input": "2024-12-22T15:21:55.145947Z",
     "iopub.status.busy": "2024-12-22T15:21:55.145555Z",
     "iopub.status.idle": "2024-12-22T15:21:55.153125Z",
     "shell.execute_reply": "2024-12-22T15:21:55.152180Z"
    },
    "papermill": {
     "duration": 0.025019,
     "end_time": "2024-12-22T15:21:55.155220",
     "exception": false,
     "start_time": "2024-12-22T15:21:55.130201",
     "status": "completed"
    },
    "tags": []
   },
   "outputs": [
    {
     "data": {
      "text/plain": [
       "array([ nan,   2.,   5.,  50.,  26.,  29.,  11.,  14.,  52.,   3., 195.,\n",
       "         1.,  40.,  10.,  15.,  20.,   9.,  24.,   6., 150.,   4.,  13.,\n",
       "        19.,   8.,  16.,  46.,   7.,  12.,  49.,  56.,  28.,  23.,  17.,\n",
       "        25.,  77.,  41.,  32.,  70.,  22.,  34.,  18.,  42.,  31.,  21.,\n",
       "        35.,  30.,  38.,  33.,  74.,  57.,  95.,  80.,  27.])"
      ]
     },
     "execution_count": 40,
     "metadata": {},
     "output_type": "execute_result"
    }
   ],
   "source": [
    "SERVICES[\"Superficie altri usi\"].unique()"
   ]
  },
  {
   "cell_type": "code",
   "execution_count": 41,
   "id": "4f65e650",
   "metadata": {
    "execution": {
     "iopub.execute_input": "2024-12-22T15:21:55.185757Z",
     "iopub.status.busy": "2024-12-22T15:21:55.185425Z",
     "iopub.status.idle": "2024-12-22T15:21:55.192478Z",
     "shell.execute_reply": "2024-12-22T15:21:55.191511Z"
    },
    "papermill": {
     "duration": 0.024683,
     "end_time": "2024-12-22T15:21:55.194506",
     "exception": false,
     "start_time": "2024-12-22T15:21:55.169823",
     "status": "completed"
    },
    "tags": []
   },
   "outputs": [
    {
     "data": {
      "text/plain": [
       "52"
      ]
     },
     "execution_count": 41,
     "metadata": {},
     "output_type": "execute_result"
    }
   ],
   "source": [
    "SERVICES[\"Superficie altri usi\"].nunique()"
   ]
  },
  {
   "cell_type": "code",
   "execution_count": 42,
   "id": "cb1bc714",
   "metadata": {
    "execution": {
     "iopub.execute_input": "2024-12-22T15:21:55.225573Z",
     "iopub.status.busy": "2024-12-22T15:21:55.225217Z",
     "iopub.status.idle": "2024-12-22T15:21:55.235873Z",
     "shell.execute_reply": "2024-12-22T15:21:55.234695Z"
    },
    "papermill": {
     "duration": 0.02879,
     "end_time": "2024-12-22T15:21:55.238097",
     "exception": false,
     "start_time": "2024-12-22T15:21:55.209307",
     "status": "completed"
    },
    "tags": []
   },
   "outputs": [
    {
     "data": {
      "text/plain": [
       "Superficie altri usi\n",
       "2.0      103\n",
       "3.0       93\n",
       "4.0       85\n",
       "6.0       53\n",
       "1.0       51\n",
       "5.0       42\n",
       "8.0       39\n",
       "10.0      35\n",
       "12.0      24\n",
       "11.0      21\n",
       "9.0       20\n",
       "15.0      19\n",
       "13.0      17\n",
       "14.0      16\n",
       "7.0       14\n",
       "16.0      12\n",
       "18.0       9\n",
       "17.0       8\n",
       "20.0       7\n",
       "25.0       7\n",
       "19.0       7\n",
       "26.0       6\n",
       "24.0       5\n",
       "21.0       4\n",
       "23.0       4\n",
       "32.0       3\n",
       "40.0       3\n",
       "28.0       3\n",
       "33.0       3\n",
       "46.0       2\n",
       "35.0       2\n",
       "34.0       2\n",
       "22.0       2\n",
       "70.0       2\n",
       "38.0       2\n",
       "30.0       2\n",
       "56.0       2\n",
       "31.0       2\n",
       "57.0       1\n",
       "80.0       1\n",
       "95.0       1\n",
       "74.0       1\n",
       "195.0      1\n",
       "42.0       1\n",
       "41.0       1\n",
       "77.0       1\n",
       "52.0       1\n",
       "49.0       1\n",
       "50.0       1\n",
       "29.0       1\n",
       "150.0      1\n",
       "27.0       1\n",
       "Name: count, dtype: int64"
      ]
     },
     "execution_count": 42,
     "metadata": {},
     "output_type": "execute_result"
    }
   ],
   "source": [
    "SERVICES[\"Superficie altri usi\"].value_counts()"
   ]
  },
  {
   "cell_type": "markdown",
   "id": "061fcb6a",
   "metadata": {
    "papermill": {
     "duration": 0.014489,
     "end_time": "2024-12-22T15:21:55.267735",
     "exception": false,
     "start_time": "2024-12-22T15:21:55.253246",
     "status": "completed"
    },
    "tags": []
   },
   "source": [
    "## l. Superficie lavorativa"
   ]
  },
  {
   "cell_type": "code",
   "execution_count": 43,
   "id": "10c64e33",
   "metadata": {
    "execution": {
     "iopub.execute_input": "2024-12-22T15:21:55.299209Z",
     "iopub.status.busy": "2024-12-22T15:21:55.298855Z",
     "iopub.status.idle": "2024-12-22T15:21:55.307589Z",
     "shell.execute_reply": "2024-12-22T15:21:55.306644Z"
    },
    "papermill": {
     "duration": 0.027177,
     "end_time": "2024-12-22T15:21:55.309592",
     "exception": false,
     "start_time": "2024-12-22T15:21:55.282415",
     "status": "completed"
    },
    "tags": []
   },
   "outputs": [
    {
     "data": {
      "text/plain": [
       "array([ 55.,  28.,  27.,  nan,  50.,  90., 123., 176.,  35.,  45.,  20.,\n",
       "        33., 100.,  19.,  85.,  56.,  40.,  36.,  47., 149.,  51.,  46.,\n",
       "        66.,  32.,  68.,  34.,  25.,  54.,  70.,  57.,  18.,  30., 172.,\n",
       "        81.,  53.,  37.,  59.,  26.,  39.,  16.,  69.,  38.,  42.,  23.,\n",
       "        31.,  43.,  44.,  49.,  65.,  41.,  58.,  86.,  48.,  63.,  62.,\n",
       "        77.,  80.,  21.,  15.,  79.,  17.,  12.,  78.,  64.,  24.,  52.,\n",
       "        84.,  98.,  22.,  13.,  29.,  14., 193.,  60.,  74.,  95., 110.,\n",
       "        83.,  61., 114.,  96.,  73., 220., 115., 160., 111.,  88.,  67.,\n",
       "       120., 108., 105.,  99.,  75.,  76.,  87., 156.,   7., 136., 180.,\n",
       "       104., 102., 118.,  89.,  97.,  93.,  94.,  71.,  11., 130.,  92.,\n",
       "       124.,   8.,  72., 131.,  10., 122., 247., 113., 116.,   5.,  91.,\n",
       "       522.,   4.,   9., 174., 109., 182., 157., 103., 324., 112., 158.,\n",
       "       128.,   6.,   1., 150., 140., 267., 195., 230.,  82., 101., 154.,\n",
       "       268., 117., 126.])"
      ]
     },
     "execution_count": 43,
     "metadata": {},
     "output_type": "execute_result"
    }
   ],
   "source": [
    "SERVICES[\"Superficie lavorativa\"].unique()"
   ]
  },
  {
   "cell_type": "code",
   "execution_count": 44,
   "id": "3fac1212",
   "metadata": {
    "execution": {
     "iopub.execute_input": "2024-12-22T15:21:55.340354Z",
     "iopub.status.busy": "2024-12-22T15:21:55.340001Z",
     "iopub.status.idle": "2024-12-22T15:21:55.346693Z",
     "shell.execute_reply": "2024-12-22T15:21:55.345789Z"
    },
    "papermill": {
     "duration": 0.024569,
     "end_time": "2024-12-22T15:21:55.348890",
     "exception": false,
     "start_time": "2024-12-22T15:21:55.324321",
     "status": "completed"
    },
    "tags": []
   },
   "outputs": [
    {
     "data": {
      "text/plain": [
       "145"
      ]
     },
     "execution_count": 44,
     "metadata": {},
     "output_type": "execute_result"
    }
   ],
   "source": [
    "SERVICES[\"Superficie lavorativa\"].nunique()"
   ]
  },
  {
   "cell_type": "code",
   "execution_count": 45,
   "id": "a4fcc796",
   "metadata": {
    "execution": {
     "iopub.execute_input": "2024-12-22T15:21:55.380096Z",
     "iopub.status.busy": "2024-12-22T15:21:55.379698Z",
     "iopub.status.idle": "2024-12-22T15:21:55.389571Z",
     "shell.execute_reply": "2024-12-22T15:21:55.388485Z"
    },
    "papermill": {
     "duration": 0.027787,
     "end_time": "2024-12-22T15:21:55.391595",
     "exception": false,
     "start_time": "2024-12-22T15:21:55.363808",
     "status": "completed"
    },
    "tags": []
   },
   "outputs": [
    {
     "data": {
      "text/plain": [
       "Superficie lavorativa\n",
       "30.0     120\n",
       "40.0     100\n",
       "45.0      89\n",
       "25.0      88\n",
       "20.0      87\n",
       "        ... \n",
       "193.0      1\n",
       "522.0      1\n",
       "4.0        1\n",
       "176.0      1\n",
       "126.0      1\n",
       "Name: count, Length: 145, dtype: int64"
      ]
     },
     "execution_count": 45,
     "metadata": {},
     "output_type": "execute_result"
    }
   ],
   "source": [
    "SERVICES[\"Superficie lavorativa\"].value_counts()"
   ]
  },
  {
   "cell_type": "markdown",
   "id": "151c305a",
   "metadata": {
    "papermill": {
     "duration": 0.014771,
     "end_time": "2024-12-22T15:21:55.421238",
     "exception": false,
     "start_time": "2024-12-22T15:21:55.406467",
     "status": "completed"
    },
    "tags": []
   },
   "source": [
    "# Profiling "
   ]
  },
  {
   "cell_type": "code",
   "execution_count": null,
   "id": "58683eca",
   "metadata": {
    "papermill": {
     "duration": 0.01488,
     "end_time": "2024-12-22T15:21:55.451012",
     "exception": false,
     "start_time": "2024-12-22T15:21:55.436132",
     "status": "completed"
    },
    "tags": []
   },
   "outputs": [],
   "source": []
  }
 ],
 "metadata": {
  "kaggle": {
   "accelerator": "none",
   "dataSources": [],
   "dockerImageVersionId": 30804,
   "isGpuEnabled": false,
   "isInternetEnabled": true,
   "language": "python",
   "sourceType": "notebook"
  },
  "kernelspec": {
   "display_name": "Python 3",
   "language": "python",
   "name": "python3"
  },
  "language_info": {
   "codemirror_mode": {
    "name": "ipython",
    "version": 3
   },
   "file_extension": ".py",
   "mimetype": "text/x-python",
   "name": "python",
   "nbconvert_exporter": "python",
   "pygments_lexer": "ipython3",
   "version": "3.10.14"
  },
  "papermill": {
   "default_parameters": {},
   "duration": 9.362357,
   "end_time": "2024-12-22T15:21:55.988493",
   "environment_variables": {},
   "exception": null,
   "input_path": "__notebook__.ipynb",
   "output_path": "__notebook__.ipynb",
   "parameters": {},
   "start_time": "2024-12-22T15:21:46.626136",
   "version": "2.6.0"
  }
 },
 "nbformat": 4,
 "nbformat_minor": 5
}

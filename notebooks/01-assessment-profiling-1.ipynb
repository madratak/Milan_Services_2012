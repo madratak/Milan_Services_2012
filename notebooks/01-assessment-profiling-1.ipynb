{
 "cells": [
  {
   "cell_type": "markdown",
   "id": "2a8dd550",
   "metadata": {
    "papermill": {
     "duration": 0.007369,
     "end_time": "2025-01-09T00:01:06.822834",
     "exception": false,
     "start_time": "2025-01-09T00:01:06.815465",
     "status": "completed"
    },
    "tags": []
   },
   "source": [
    "# Import the repository from GitHub\n",
    "\n",
    "First of all we start by importing the repository that we stored in the github project.\n"
   ]
  },
  {
   "cell_type": "code",
   "execution_count": 1,
   "id": "0f2a81ec",
   "metadata": {
    "execution": {
     "iopub.execute_input": "2025-01-09T00:01:06.838100Z",
     "iopub.status.busy": "2025-01-09T00:01:06.837718Z",
     "iopub.status.idle": "2025-01-09T00:01:07.033213Z",
     "shell.execute_reply": "2025-01-09T00:01:07.032244Z"
    },
    "papermill": {
     "duration": 0.205842,
     "end_time": "2025-01-09T00:01:07.035618",
     "exception": false,
     "start_time": "2025-01-09T00:01:06.829776",
     "status": "completed"
    },
    "tags": []
   },
   "outputs": [],
   "source": [
    "from kaggle_secrets import UserSecretsClient\n",
    "user_secrets = UserSecretsClient()\n",
    "secret_value_1 = user_secrets.get_secret(\"NEW_GITHUB_TOKEN\")"
   ]
  },
  {
   "cell_type": "code",
   "execution_count": 2,
   "id": "9080c30c",
   "metadata": {
    "_cell_guid": "b1076dfc-b9ad-4769-8c92-a6c4dae69d19",
    "_uuid": "8f2839f25d086af736a60e9eeb907d3b93b6e0e5",
    "execution": {
     "iopub.execute_input": "2025-01-09T00:01:07.052239Z",
     "iopub.status.busy": "2025-01-09T00:01:07.051210Z",
     "iopub.status.idle": "2025-01-09T00:01:09.157799Z",
     "shell.execute_reply": "2025-01-09T00:01:09.156587Z"
    },
    "papermill": {
     "duration": 2.11688,
     "end_time": "2025-01-09T00:01:09.160391",
     "exception": false,
     "start_time": "2025-01-09T00:01:07.043511",
     "status": "completed"
    },
    "tags": []
   },
   "outputs": [
    {
     "name": "stdout",
     "output_type": "stream",
     "text": [
      "Cloning into 'DIQ_Project2024'...\r\n",
      "remote: Enumerating objects: 88, done.\u001b[K\r\n",
      "remote: Counting objects: 100% (88/88), done.\u001b[K\r\n",
      "remote: Compressing objects: 100% (75/75), done.\u001b[K\r\n",
      "remote: Total 88 (delta 28), reused 14 (delta 2), pack-reused 0 (from 0)\u001b[K\r\n",
      "Unpacking objects: 100% (88/88), 705.16 KiB | 5.07 MiB/s, done.\r\n"
     ]
    }
   ],
   "source": [
    "token = UserSecretsClient().get_secret(\"NEW_GITHUB_TOKEN\")\n",
    "! git clone https://{token}@github.com/madratak/DIQ_Project2024.git"
   ]
  },
  {
   "cell_type": "code",
   "execution_count": 3,
   "id": "79683230",
   "metadata": {
    "execution": {
     "iopub.execute_input": "2025-01-09T00:01:09.177404Z",
     "iopub.status.busy": "2025-01-09T00:01:09.176958Z",
     "iopub.status.idle": "2025-01-09T00:01:09.184611Z",
     "shell.execute_reply": "2025-01-09T00:01:09.183559Z"
    },
    "papermill": {
     "duration": 0.018952,
     "end_time": "2025-01-09T00:01:09.186903",
     "exception": false,
     "start_time": "2025-01-09T00:01:09.167951",
     "status": "completed"
    },
    "tags": []
   },
   "outputs": [
    {
     "name": "stdout",
     "output_type": "stream",
     "text": [
      "/kaggle/working/DIQ_Project2024\n"
     ]
    }
   ],
   "source": [
    "%cd /kaggle/working/DIQ_Project2024"
   ]
  },
  {
   "cell_type": "markdown",
   "id": "d8ff8eab",
   "metadata": {
    "papermill": {
     "duration": 0.007571,
     "end_time": "2025-01-09T00:01:09.202024",
     "exception": false,
     "start_time": "2025-01-09T00:01:09.194453",
     "status": "completed"
    },
    "tags": []
   },
   "source": [
    "# Set up the dataset\n",
    "\n",
    "At this point we can proceed by importing the correct libraries and then importing the data itself inside our notebook."
   ]
  },
  {
   "cell_type": "code",
   "execution_count": 4,
   "id": "4c196cb7",
   "metadata": {
    "execution": {
     "iopub.execute_input": "2025-01-09T00:01:09.218212Z",
     "iopub.status.busy": "2025-01-09T00:01:09.217858Z",
     "iopub.status.idle": "2025-01-09T00:01:10.142508Z",
     "shell.execute_reply": "2025-01-09T00:01:10.141134Z"
    },
    "papermill": {
     "duration": 0.936049,
     "end_time": "2025-01-09T00:01:10.145526",
     "exception": false,
     "start_time": "2025-01-09T00:01:09.209477",
     "status": "completed"
    },
    "tags": []
   },
   "outputs": [],
   "source": [
    "import pandas as pd\n",
    "import numpy as np\n",
    "from datetime import datetime\n",
    "import os"
   ]
  },
  {
   "cell_type": "code",
   "execution_count": 5,
   "id": "ce9ec633",
   "metadata": {
    "execution": {
     "iopub.execute_input": "2025-01-09T00:01:10.179161Z",
     "iopub.status.busy": "2025-01-09T00:01:10.178543Z",
     "iopub.status.idle": "2025-01-09T00:01:10.226882Z",
     "shell.execute_reply": "2025-01-09T00:01:10.225776Z"
    },
    "papermill": {
     "duration": 0.065453,
     "end_time": "2025-01-09T00:01:10.228987",
     "exception": false,
     "start_time": "2025-01-09T00:01:10.163534",
     "status": "completed"
    },
    "tags": []
   },
   "outputs": [
    {
     "data": {
      "text/html": [
       "<div>\n",
       "<style scoped>\n",
       "    .dataframe tbody tr th:only-of-type {\n",
       "        vertical-align: middle;\n",
       "    }\n",
       "\n",
       "    .dataframe tbody tr th {\n",
       "        vertical-align: top;\n",
       "    }\n",
       "\n",
       "    .dataframe thead th {\n",
       "        text-align: right;\n",
       "    }\n",
       "</style>\n",
       "<table border=\"1\" class=\"dataframe\">\n",
       "  <thead>\n",
       "    <tr style=\"text-align: right;\">\n",
       "      <th></th>\n",
       "      <th>Tipo esercizio pa</th>\n",
       "      <th>Ubicazione</th>\n",
       "      <th>Tipo via</th>\n",
       "      <th>Via</th>\n",
       "      <th>Civico</th>\n",
       "      <th>Codice via</th>\n",
       "      <th>ZD</th>\n",
       "      <th>Prevalente</th>\n",
       "      <th>Superficie altri usi</th>\n",
       "      <th>Superficie lavorativa</th>\n",
       "    </tr>\n",
       "  </thead>\n",
       "  <tbody>\n",
       "    <tr>\n",
       "      <th>0</th>\n",
       "      <td>NaN</td>\n",
       "      <td>LGO DEI GELSOMINI N. 10 (z.d. 6)</td>\n",
       "      <td>LGO</td>\n",
       "      <td>DEI GELSOMINI</td>\n",
       "      <td>10</td>\n",
       "      <td>5394.0</td>\n",
       "      <td>6</td>\n",
       "      <td>NaN</td>\n",
       "      <td>NaN</td>\n",
       "      <td>55.0</td>\n",
       "    </tr>\n",
       "    <tr>\n",
       "      <th>1</th>\n",
       "      <td>NaN</td>\n",
       "      <td>PZA FIDIA N. 3 (z.d. 9)</td>\n",
       "      <td>PZA</td>\n",
       "      <td>FIDIA</td>\n",
       "      <td>3</td>\n",
       "      <td>1144.0</td>\n",
       "      <td>9</td>\n",
       "      <td>CENTRO MASSAGGI RILASSANTI NON ESTETICI</td>\n",
       "      <td>2.0</td>\n",
       "      <td>28.0</td>\n",
       "    </tr>\n",
       "    <tr>\n",
       "      <th>2</th>\n",
       "      <td>NaN</td>\n",
       "      <td>VIA ADIGE N. 10 (z.d. 5)</td>\n",
       "      <td>VIA</td>\n",
       "      <td>ADIGE</td>\n",
       "      <td>10</td>\n",
       "      <td>4216.0</td>\n",
       "      <td>5</td>\n",
       "      <td>CENTRO BENESSERE</td>\n",
       "      <td>2.0</td>\n",
       "      <td>27.0</td>\n",
       "    </tr>\n",
       "    <tr>\n",
       "      <th>3</th>\n",
       "      <td>NaN</td>\n",
       "      <td>VIA BARACCHINI FLAVIO N. 9 (z.d. 1)</td>\n",
       "      <td>VIA</td>\n",
       "      <td>BARACCHINI FLAVIO</td>\n",
       "      <td>9</td>\n",
       "      <td>356.0</td>\n",
       "      <td>1</td>\n",
       "      <td>TRUCCO SEMIPERMANENTE</td>\n",
       "      <td>NaN</td>\n",
       "      <td>NaN</td>\n",
       "    </tr>\n",
       "    <tr>\n",
       "      <th>4</th>\n",
       "      <td>NaN</td>\n",
       "      <td>VIA BERGAMO N. 12 (z.d. 4)</td>\n",
       "      <td>VIA</td>\n",
       "      <td>BERGAMO</td>\n",
       "      <td>12</td>\n",
       "      <td>3189.0</td>\n",
       "      <td>4</td>\n",
       "      <td>NaN</td>\n",
       "      <td>NaN</td>\n",
       "      <td>50.0</td>\n",
       "    </tr>\n",
       "  </tbody>\n",
       "</table>\n",
       "</div>"
      ],
      "text/plain": [
       "  Tipo esercizio pa                           Ubicazione Tipo via  \\\n",
       "0               NaN     LGO DEI GELSOMINI N. 10 (z.d. 6)      LGO   \n",
       "1               NaN              PZA FIDIA N. 3 (z.d. 9)      PZA   \n",
       "2               NaN             VIA ADIGE N. 10 (z.d. 5)      VIA   \n",
       "3               NaN  VIA BARACCHINI FLAVIO N. 9 (z.d. 1)      VIA   \n",
       "4               NaN           VIA BERGAMO N. 12 (z.d. 4)      VIA   \n",
       "\n",
       "                 Via Civico  Codice via ZD  \\\n",
       "0      DEI GELSOMINI     10      5394.0  6   \n",
       "1              FIDIA      3      1144.0  9   \n",
       "2              ADIGE     10      4216.0  5   \n",
       "3  BARACCHINI FLAVIO      9       356.0  1   \n",
       "4            BERGAMO     12      3189.0  4   \n",
       "\n",
       "                                Prevalente  Superficie altri usi  \\\n",
       "0                                      NaN                   NaN   \n",
       "1  CENTRO MASSAGGI RILASSANTI NON ESTETICI                   2.0   \n",
       "2                         CENTRO BENESSERE                   2.0   \n",
       "3                    TRUCCO SEMIPERMANENTE                   NaN   \n",
       "4                                      NaN                   NaN   \n",
       "\n",
       "   Superficie lavorativa  \n",
       "0                   55.0  \n",
       "1                   28.0  \n",
       "2                   27.0  \n",
       "3                    NaN  \n",
       "4                   50.0  "
      ]
     },
     "execution_count": 5,
     "metadata": {},
     "output_type": "execute_result"
    }
   ],
   "source": [
    "SERVICES = pd.read_csv('/kaggle/working/DIQ_Project2024/data/raw/Comune-di-Milano-Servizi-alla-persona-parrucchieri-estetisti.csv',sep=';',encoding='unicode_escape')\n",
    "SERVICES.head()"
   ]
  },
  {
   "cell_type": "markdown",
   "id": "c2631228",
   "metadata": {
    "papermill": {
     "duration": 0.00717,
     "end_time": "2025-01-09T00:01:10.243857",
     "exception": false,
     "start_time": "2025-01-09T00:01:10.236687",
     "status": "completed"
    },
    "tags": []
   },
   "source": [
    "# Data inspection\n",
    "\n",
    "In this section we inserted all those operations that aim at unerstanding the content of our dataset:\n",
    "Total number of records in the dataset, datatype of each column, number of unique values for each attribute, ecc. "
   ]
  },
  {
   "cell_type": "code",
   "execution_count": 6,
   "id": "dcbfc0a4",
   "metadata": {
    "execution": {
     "iopub.execute_input": "2025-01-09T00:01:10.260451Z",
     "iopub.status.busy": "2025-01-09T00:01:10.260019Z",
     "iopub.status.idle": "2025-01-09T00:01:10.269004Z",
     "shell.execute_reply": "2025-01-09T00:01:10.266341Z"
    },
    "papermill": {
     "duration": 0.020723,
     "end_time": "2025-01-09T00:01:10.271912",
     "exception": false,
     "start_time": "2025-01-09T00:01:10.251189",
     "status": "completed"
    },
    "tags": []
   },
   "outputs": [
    {
     "name": "stdout",
     "output_type": "stream",
     "text": [
      "\n",
      "The shape of our dataset (rows, columns) is the following:  (3909, 10)\n",
      "\n",
      "The data types of the different columns are the following:\n",
      " Tipo esercizio pa         object\n",
      "Ubicazione                object\n",
      "Tipo via                  object\n",
      "Via                       object\n",
      "Civico                    object\n",
      "Codice via               float64\n",
      "ZD                        object\n",
      "Prevalente                object\n",
      "Superficie altri usi     float64\n",
      "Superficie lavorativa    float64\n",
      "dtype: object\n"
     ]
    }
   ],
   "source": [
    "print(\"\\nThe shape of our dataset (rows, columns) is the following: \", SERVICES.shape)\n",
    "\n",
    "print(\"\\nThe data types of the different columns are the following:\\n\", SERVICES.dtypes)"
   ]
  },
  {
   "cell_type": "markdown",
   "id": "504aff97",
   "metadata": {
    "papermill": {
     "duration": 0.008863,
     "end_time": "2025-01-09T00:01:10.295178",
     "exception": false,
     "start_time": "2025-01-09T00:01:10.286315",
     "status": "completed"
    },
    "tags": []
   },
   "source": [
    "Now the next thing to do is to check if our dataset contains rows that are complete copies of previous ones. If any duplicates are detected we count and list them"
   ]
  },
  {
   "cell_type": "markdown",
   "id": "f7308911",
   "metadata": {
    "papermill": {
     "duration": 0.011627,
     "end_time": "2025-01-09T00:01:10.318547",
     "exception": false,
     "start_time": "2025-01-09T00:01:10.306920",
     "status": "completed"
    },
    "tags": []
   },
   "source": [
    "## Duplicates"
   ]
  },
  {
   "cell_type": "code",
   "execution_count": 7,
   "id": "829628c8",
   "metadata": {
    "execution": {
     "iopub.execute_input": "2025-01-09T00:01:10.353385Z",
     "iopub.status.busy": "2025-01-09T00:01:10.351789Z",
     "iopub.status.idle": "2025-01-09T00:01:10.402484Z",
     "shell.execute_reply": "2025-01-09T00:01:10.401428Z"
    },
    "papermill": {
     "duration": 0.069227,
     "end_time": "2025-01-09T00:01:10.404678",
     "exception": false,
     "start_time": "2025-01-09T00:01:10.335451",
     "status": "completed"
    },
    "tags": []
   },
   "outputs": [
    {
     "name": "stdout",
     "output_type": "stream",
     "text": [
      "The number of duplicated rows in the dataset is: 1\n",
      "\n"
     ]
    },
    {
     "data": {
      "text/html": [
       "<div>\n",
       "<style scoped>\n",
       "    .dataframe tbody tr th:only-of-type {\n",
       "        vertical-align: middle;\n",
       "    }\n",
       "\n",
       "    .dataframe tbody tr th {\n",
       "        vertical-align: top;\n",
       "    }\n",
       "\n",
       "    .dataframe thead th {\n",
       "        text-align: right;\n",
       "    }\n",
       "</style>\n",
       "<table border=\"1\" class=\"dataframe\">\n",
       "  <thead>\n",
       "    <tr style=\"text-align: right;\">\n",
       "      <th></th>\n",
       "      <th>Tipo esercizio pa</th>\n",
       "      <th>Ubicazione</th>\n",
       "      <th>Tipo via</th>\n",
       "      <th>Via</th>\n",
       "      <th>Civico</th>\n",
       "      <th>Codice via</th>\n",
       "      <th>ZD</th>\n",
       "      <th>Prevalente</th>\n",
       "      <th>Superficie altri usi</th>\n",
       "      <th>Superficie lavorativa</th>\n",
       "    </tr>\n",
       "  </thead>\n",
       "  <tbody>\n",
       "    <tr>\n",
       "      <th>88</th>\n",
       "      <td>Acconciatore</td>\n",
       "      <td>VIA CORREGGIO N. 8 (z.d. 7)</td>\n",
       "      <td>VIA</td>\n",
       "      <td>CORREGGIO</td>\n",
       "      <td>8</td>\n",
       "      <td>6287.0</td>\n",
       "      <td>7</td>\n",
       "      <td>ACCONCIATORE</td>\n",
       "      <td>NaN</td>\n",
       "      <td>NaN</td>\n",
       "    </tr>\n",
       "  </tbody>\n",
       "</table>\n",
       "</div>"
      ],
      "text/plain": [
       "   Tipo esercizio pa                   Ubicazione Tipo via        Via Civico  \\\n",
       "88      Acconciatore  VIA CORREGGIO N. 8 (z.d. 7)      VIA  CORREGGIO      8   \n",
       "\n",
       "    Codice via ZD    Prevalente  Superficie altri usi  Superficie lavorativa  \n",
       "88      6287.0  7  ACCONCIATORE                   NaN                    NaN  "
      ]
     },
     "execution_count": 7,
     "metadata": {},
     "output_type": "execute_result"
    }
   ],
   "source": [
    "if SERVICES.duplicated().any():\n",
    "    print(\"The number of duplicated rows in the dataset is: {}\".format(len(SERVICES[SERVICES.duplicated()]))) \n",
    "\n",
    "print()\n",
    "SERVICES[SERVICES.duplicated()].head()"
   ]
  },
  {
   "cell_type": "markdown",
   "id": "63a3040f",
   "metadata": {
    "papermill": {
     "duration": 0.007622,
     "end_time": "2025-01-09T00:01:10.420363",
     "exception": false,
     "start_time": "2025-01-09T00:01:10.412741",
     "status": "completed"
    },
    "tags": []
   },
   "source": [
    "## Completeness\n",
    "\n",
    "Completeness is defined as the total number of not null cells devided by the total number of cells."
   ]
  },
  {
   "cell_type": "code",
   "execution_count": 8,
   "id": "146f2067",
   "metadata": {
    "execution": {
     "iopub.execute_input": "2025-01-09T00:01:10.437523Z",
     "iopub.status.busy": "2025-01-09T00:01:10.437167Z",
     "iopub.status.idle": "2025-01-09T00:01:10.456848Z",
     "shell.execute_reply": "2025-01-09T00:01:10.455681Z"
    },
    "papermill": {
     "duration": 0.030665,
     "end_time": "2025-01-09T00:01:10.458898",
     "exception": false,
     "start_time": "2025-01-09T00:01:10.428233",
     "status": "completed"
    },
    "tags": []
   },
   "outputs": [
    {
     "data": {
      "text/html": [
       "<div>\n",
       "<style scoped>\n",
       "    .dataframe tbody tr th:only-of-type {\n",
       "        vertical-align: middle;\n",
       "    }\n",
       "\n",
       "    .dataframe tbody tr th {\n",
       "        vertical-align: top;\n",
       "    }\n",
       "\n",
       "    .dataframe thead th {\n",
       "        text-align: right;\n",
       "    }\n",
       "</style>\n",
       "<table border=\"1\" class=\"dataframe\">\n",
       "  <thead>\n",
       "    <tr style=\"text-align: right;\">\n",
       "      <th></th>\n",
       "      <th>Tipo esercizio pa</th>\n",
       "      <th>Ubicazione</th>\n",
       "      <th>Tipo via</th>\n",
       "      <th>Via</th>\n",
       "      <th>Civico</th>\n",
       "      <th>Codice via</th>\n",
       "      <th>ZD</th>\n",
       "      <th>Prevalente</th>\n",
       "      <th>Superficie altri usi</th>\n",
       "      <th>Superficie lavorativa</th>\n",
       "    </tr>\n",
       "  </thead>\n",
       "  <tbody>\n",
       "    <tr>\n",
       "      <th>0</th>\n",
       "      <td>True</td>\n",
       "      <td>False</td>\n",
       "      <td>False</td>\n",
       "      <td>False</td>\n",
       "      <td>False</td>\n",
       "      <td>False</td>\n",
       "      <td>False</td>\n",
       "      <td>True</td>\n",
       "      <td>True</td>\n",
       "      <td>False</td>\n",
       "    </tr>\n",
       "    <tr>\n",
       "      <th>1</th>\n",
       "      <td>True</td>\n",
       "      <td>False</td>\n",
       "      <td>False</td>\n",
       "      <td>False</td>\n",
       "      <td>False</td>\n",
       "      <td>False</td>\n",
       "      <td>False</td>\n",
       "      <td>False</td>\n",
       "      <td>False</td>\n",
       "      <td>False</td>\n",
       "    </tr>\n",
       "    <tr>\n",
       "      <th>2</th>\n",
       "      <td>True</td>\n",
       "      <td>False</td>\n",
       "      <td>False</td>\n",
       "      <td>False</td>\n",
       "      <td>False</td>\n",
       "      <td>False</td>\n",
       "      <td>False</td>\n",
       "      <td>False</td>\n",
       "      <td>False</td>\n",
       "      <td>False</td>\n",
       "    </tr>\n",
       "    <tr>\n",
       "      <th>3</th>\n",
       "      <td>True</td>\n",
       "      <td>False</td>\n",
       "      <td>False</td>\n",
       "      <td>False</td>\n",
       "      <td>False</td>\n",
       "      <td>False</td>\n",
       "      <td>False</td>\n",
       "      <td>False</td>\n",
       "      <td>True</td>\n",
       "      <td>True</td>\n",
       "    </tr>\n",
       "    <tr>\n",
       "      <th>4</th>\n",
       "      <td>True</td>\n",
       "      <td>False</td>\n",
       "      <td>False</td>\n",
       "      <td>False</td>\n",
       "      <td>False</td>\n",
       "      <td>False</td>\n",
       "      <td>False</td>\n",
       "      <td>True</td>\n",
       "      <td>True</td>\n",
       "      <td>False</td>\n",
       "    </tr>\n",
       "    <tr>\n",
       "      <th>...</th>\n",
       "      <td>...</td>\n",
       "      <td>...</td>\n",
       "      <td>...</td>\n",
       "      <td>...</td>\n",
       "      <td>...</td>\n",
       "      <td>...</td>\n",
       "      <td>...</td>\n",
       "      <td>...</td>\n",
       "      <td>...</td>\n",
       "      <td>...</td>\n",
       "    </tr>\n",
       "    <tr>\n",
       "      <th>3904</th>\n",
       "      <td>False</td>\n",
       "      <td>False</td>\n",
       "      <td>False</td>\n",
       "      <td>False</td>\n",
       "      <td>False</td>\n",
       "      <td>False</td>\n",
       "      <td>False</td>\n",
       "      <td>True</td>\n",
       "      <td>True</td>\n",
       "      <td>True</td>\n",
       "    </tr>\n",
       "    <tr>\n",
       "      <th>3905</th>\n",
       "      <td>False</td>\n",
       "      <td>False</td>\n",
       "      <td>False</td>\n",
       "      <td>False</td>\n",
       "      <td>False</td>\n",
       "      <td>False</td>\n",
       "      <td>False</td>\n",
       "      <td>True</td>\n",
       "      <td>True</td>\n",
       "      <td>False</td>\n",
       "    </tr>\n",
       "    <tr>\n",
       "      <th>3906</th>\n",
       "      <td>False</td>\n",
       "      <td>False</td>\n",
       "      <td>False</td>\n",
       "      <td>False</td>\n",
       "      <td>False</td>\n",
       "      <td>False</td>\n",
       "      <td>False</td>\n",
       "      <td>True</td>\n",
       "      <td>True</td>\n",
       "      <td>True</td>\n",
       "    </tr>\n",
       "    <tr>\n",
       "      <th>3907</th>\n",
       "      <td>False</td>\n",
       "      <td>False</td>\n",
       "      <td>False</td>\n",
       "      <td>False</td>\n",
       "      <td>True</td>\n",
       "      <td>False</td>\n",
       "      <td>False</td>\n",
       "      <td>True</td>\n",
       "      <td>True</td>\n",
       "      <td>True</td>\n",
       "    </tr>\n",
       "    <tr>\n",
       "      <th>3908</th>\n",
       "      <td>False</td>\n",
       "      <td>False</td>\n",
       "      <td>False</td>\n",
       "      <td>False</td>\n",
       "      <td>False</td>\n",
       "      <td>False</td>\n",
       "      <td>False</td>\n",
       "      <td>True</td>\n",
       "      <td>True</td>\n",
       "      <td>False</td>\n",
       "    </tr>\n",
       "  </tbody>\n",
       "</table>\n",
       "<p>3909 rows × 10 columns</p>\n",
       "</div>"
      ],
      "text/plain": [
       "      Tipo esercizio pa  Ubicazione  Tipo via    Via  Civico  Codice via  \\\n",
       "0                  True       False     False  False   False       False   \n",
       "1                  True       False     False  False   False       False   \n",
       "2                  True       False     False  False   False       False   \n",
       "3                  True       False     False  False   False       False   \n",
       "4                  True       False     False  False   False       False   \n",
       "...                 ...         ...       ...    ...     ...         ...   \n",
       "3904              False       False     False  False   False       False   \n",
       "3905              False       False     False  False   False       False   \n",
       "3906              False       False     False  False   False       False   \n",
       "3907              False       False     False  False    True       False   \n",
       "3908              False       False     False  False   False       False   \n",
       "\n",
       "         ZD  Prevalente  Superficie altri usi  Superficie lavorativa  \n",
       "0     False        True                  True                  False  \n",
       "1     False       False                 False                  False  \n",
       "2     False       False                 False                  False  \n",
       "3     False       False                  True                   True  \n",
       "4     False        True                  True                  False  \n",
       "...     ...         ...                   ...                    ...  \n",
       "3904  False        True                  True                   True  \n",
       "3905  False        True                  True                  False  \n",
       "3906  False        True                  True                   True  \n",
       "3907  False        True                  True                   True  \n",
       "3908  False        True                  True                  False  \n",
       "\n",
       "[3909 rows x 10 columns]"
      ]
     },
     "execution_count": 8,
     "metadata": {},
     "output_type": "execute_result"
    }
   ],
   "source": [
    "#Here we visualize the table with all the null-value cells\n",
    "SERVICES.isnull()"
   ]
  },
  {
   "cell_type": "code",
   "execution_count": 9,
   "id": "ff812fbc",
   "metadata": {
    "execution": {
     "iopub.execute_input": "2025-01-09T00:01:10.481903Z",
     "iopub.status.busy": "2025-01-09T00:01:10.481321Z",
     "iopub.status.idle": "2025-01-09T00:01:10.502267Z",
     "shell.execute_reply": "2025-01-09T00:01:10.500843Z"
    },
    "papermill": {
     "duration": 0.037392,
     "end_time": "2025-01-09T00:01:10.505030",
     "exception": false,
     "start_time": "2025-01-09T00:01:10.467638",
     "status": "completed"
    },
    "tags": []
   },
   "outputs": [
    {
     "name": "stdout",
     "output_type": "stream",
     "text": [
      "The total number of not null values for each column is:\n",
      "\n",
      "Tipo esercizio pa        3878\n",
      "Ubicazione               3909\n",
      "Tipo via                 3908\n",
      "Via                      3908\n",
      "Civico                   3832\n",
      "Codice via               3908\n",
      "ZD                       3908\n",
      "Prevalente                294\n",
      "Superficie altri usi      745\n",
      "Superficie lavorativa    2601\n",
      "dtype: int64\n",
      "\n",
      "THE COMPLETENESS OF OUR DATASET IS:  79.025%\n"
     ]
    }
   ],
   "source": [
    "#display the number of not null values for each column\n",
    "print(\"The total number of not null values for each column is:\\n\")\n",
    "print(SERVICES.count())\n",
    "\n",
    "#total number of not null values\n",
    "not_null_values = SERVICES.count().sum()\n",
    "#number of null values for each column\n",
    "null_values = SERVICES.isnull().sum()\n",
    "#total number of null values\n",
    "total_number_of_null = null_values.sum()\n",
    "#total number of cells\n",
    "n_cells = SERVICES.shape[0] * SERVICES.shape[1]\n",
    "\n",
    "completeness = (n_cells - total_number_of_null) / n_cells\n",
    "completeness_3f = '{0:.3f}%'.format(completeness*100)\n",
    "\n",
    "\n",
    "print(\"\\nTHE COMPLETENESS OF OUR DATASET IS: \", completeness_3f)"
   ]
  },
  {
   "cell_type": "markdown",
   "id": "e8c2e8ec",
   "metadata": {
    "papermill": {
     "duration": 0.008211,
     "end_time": "2025-01-09T00:01:10.524340",
     "exception": false,
     "start_time": "2025-01-09T00:01:10.516129",
     "status": "completed"
    },
    "tags": []
   },
   "source": [
    "## Timeliness\n",
    "Our dataset **does not need** the analysis of the ***TIMELINESS*** however we can still evaluate the *CONSISTENCY* and the *ACCURACY* of our data."
   ]
  },
  {
   "cell_type": "markdown",
   "id": "53f50a86",
   "metadata": {
    "papermill": {
     "duration": 0.007996,
     "end_time": "2025-01-09T00:01:10.540619",
     "exception": false,
     "start_time": "2025-01-09T00:01:10.532623",
     "status": "completed"
    },
    "tags": []
   },
   "source": [
    "## Consistency\n",
    "\n",
    "Consistency checks that data follows a set of user-defined rules. Considering che context of our dataset some rules that we can try to enforce on it are: \n",
    "\n",
    "- The column \"Ubicazione\" should be the combination of \"Tipo via + Via + Civico + ZD\";\n",
    "- Values in both \"superficie lavorativa\" and \"superficie altri usi\" must have positive values;\n",
    " "
   ]
  },
  {
   "cell_type": "code",
   "execution_count": 10,
   "id": "fe010ccd",
   "metadata": {
    "execution": {
     "iopub.execute_input": "2025-01-09T00:01:10.560752Z",
     "iopub.status.busy": "2025-01-09T00:01:10.560369Z",
     "iopub.status.idle": "2025-01-09T00:01:10.891720Z",
     "shell.execute_reply": "2025-01-09T00:01:10.890367Z"
    },
    "papermill": {
     "duration": 0.343501,
     "end_time": "2025-01-09T00:01:10.894118",
     "exception": false,
     "start_time": "2025-01-09T00:01:10.550617",
     "status": "completed"
    },
    "tags": []
   },
   "outputs": [
    {
     "name": "stdout",
     "output_type": "stream",
     "text": [
      "Error counts:\n",
      "\n",
      "Invalid Tipo via                 1\n",
      "Invalid Via                      1\n",
      "Civico mismatch                  152\n",
      "Invalid ZD                       1\n",
      "N./num. missing                  2\n",
      "Tipo via mismatch                21\n",
      "Via mismatch                     88\n",
      "ZD mismatch                      18\n",
      "Missing 'n.' in the parts list   1\n",
      "\n",
      "Total number of errors: 285\n"
     ]
    }
   ],
   "source": [
    "def is_consistent(row):\n",
    "    errors = []  # List to store all errors\n",
    "    result = True\n",
    "    \n",
    "    # Convert the \"Ubicazione\" column to lowercase and split it into parts\n",
    "    parts = row[\"Ubicazione\"].lower().split(\" \")\n",
    "\n",
    "    # Extract \"Tipo Via\" (first word)\n",
    "    tipo_via = parts[0]\n",
    "\n",
    "    if not any(part.startswith(\"n.\") or part.startswith(\"num.\") for part in parts):\n",
    "        errors.append(\"N./num. missing\")\n",
    "        result = False\n",
    "\n",
    "    # Determine which keyword is present (checking both \"n.\" and \"num.\" as prefix)\n",
    "    keyword = None\n",
    "    for part in parts:\n",
    "        if part.startswith(\"n.\"):\n",
    "            keyword = \"n.\"\n",
    "            break\n",
    "        elif part.startswith(\"num.\"):\n",
    "            keyword = \"num.\"\n",
    "            break\n",
    "\n",
    "    if keyword is None:\n",
    "        errors.append(\"N./num. missing\")\n",
    "        result = False\n",
    "\n",
    "    # Extract everything between \"Tipo Via\" and \"N.\" or \"num.\" for the \"Via\" (street name)\n",
    "    via_parts = []\n",
    "    for part in parts[1:]:\n",
    "        if part.startswith(keyword):\n",
    "            break\n",
    "        via_parts.append(part)\n",
    "    via = \" \".join(via_parts)\n",
    "\n",
    "    # Extract \"Civico\" (the number after \"N.\" or \"num.\")\n",
    "    civico = None\n",
    "    if keyword == \"num.\":\n",
    "        for part in parts:\n",
    "            if part.startswith(keyword):\n",
    "                civico = part[len(keyword):]  # remove 'n.' or 'num.' part to get the civico\n",
    "                break\n",
    "    \n",
    "        if not civico:\n",
    "            errors.append(\"Missing Civico\")\n",
    "            result = False\n",
    "\n",
    "    elif keyword == \"n.\":\n",
    "        # Handle the case when 'n.' is found in the parts list\n",
    "        if keyword in parts:\n",
    "            civico_index = parts.index(keyword) + 1\n",
    "            if civico_index < len(parts):\n",
    "                civico = parts[civico_index]\n",
    "            else:\n",
    "                errors.append(\"Missing Civico after 'n.'\")\n",
    "                result = False\n",
    "        else:\n",
    "            errors.append(\"Missing 'n.' in the parts list\")\n",
    "            result = False\n",
    "            \n",
    "\n",
    "    # Extract \"ZD\" (the last number in the string)\n",
    "    try:\n",
    "        zd = parts[-1].strip(\"(z.d. )\")\n",
    "    except Exception as e:\n",
    "        errors.append(f\"Error extracting ZD\")\n",
    "        result = False\n",
    "\n",
    "    # Check if \"Tipo via\" is consistent\n",
    "    if isinstance(row[\"Tipo via\"], str) and row[\"Tipo via\"].lower() != tipo_via:\n",
    "        errors.append(\"Tipo via mismatch\")\n",
    "        result = False\n",
    "    elif not isinstance(row[\"Tipo via\"], str):\n",
    "        errors.append(f\"Invalid Tipo via\")\n",
    "        result = False\n",
    "\n",
    "    # Check if \"Via\" is consistent (handle case where it's not a string)\n",
    "    if isinstance(row[\"Via\"], str) and row[\"Via\"].lower() != via:\n",
    "        errors.append(\"Via mismatch\")\n",
    "        result = False\n",
    "    elif not isinstance(row[\"Via\"], str):\n",
    "        errors.append(f\"Invalid Via\")\n",
    "        result = False\n",
    "\n",
    "    # Check if \"Civico\" is consistent\n",
    "    if str(row[\"Civico\"]).lower() != civico:\n",
    "        errors.append(\"Civico mismatch\")\n",
    "        result = False\n",
    "\n",
    "    # Check if \"ZD\" is consistent\n",
    "    if isinstance(row[\"ZD\"], str) and row[\"ZD\"].lower() != zd:\n",
    "        errors.append(\"ZD mismatch\")\n",
    "        result = False\n",
    "    elif not isinstance(row[\"ZD\"], str):\n",
    "        errors.append(f\"Invalid ZD\")\n",
    "        result = False\n",
    "\n",
    "    # Return the result with all errors if any\n",
    "    if result:\n",
    "        return [True, \"\"]\n",
    "    else:\n",
    "        return [False, errors]\n",
    "\n",
    "\n",
    "# Print inconsistent rows\n",
    "\n",
    "reasons_errors = {}\n",
    "total_errors = 0\n",
    "for index, row in SERVICES.iterrows():\n",
    "    r = is_consistent(row)\n",
    "    if not r[0]:\n",
    "\n",
    "        for error in r[1]:\n",
    "            if error not in reasons_errors:\n",
    "                reasons_errors[error] = 0\n",
    "            reasons_errors[error] += 1\n",
    "        \n",
    "        total_errors += len(r[1])\n",
    "\n",
    "# Calculate the width of the \"Error\" column (based on the longest error name)\n",
    "max_error_length = max(len(error) for error in reasons_errors.keys())\n",
    "\n",
    "# Print the header\n",
    "print(\"Error counts:\\n\")\n",
    "\n",
    "# Print each row with aligned columns\n",
    "for error, count in reasons_errors.items():\n",
    "    print(f\"{error.ljust(max_error_length)}   {count}\")\n",
    "\n",
    "\n",
    "# Print the total number of errors\n",
    "print(f\"\\nTotal number of errors: {total_errors}\")"
   ]
  },
  {
   "cell_type": "code",
   "execution_count": 11,
   "id": "9a3d0510",
   "metadata": {
    "execution": {
     "iopub.execute_input": "2025-01-09T00:01:10.913101Z",
     "iopub.status.busy": "2025-01-09T00:01:10.912085Z",
     "iopub.status.idle": "2025-01-09T00:01:10.925197Z",
     "shell.execute_reply": "2025-01-09T00:01:10.924041Z"
    },
    "papermill": {
     "duration": 0.024963,
     "end_time": "2025-01-09T00:01:10.927545",
     "exception": false,
     "start_time": "2025-01-09T00:01:10.902582",
     "status": "completed"
    },
    "tags": []
   },
   "outputs": [
    {
     "name": "stdout",
     "output_type": "stream",
     "text": [
      "All values in the specified columns are non-negative.\n",
      "No rows with negative values found.\n"
     ]
    }
   ],
   "source": [
    "# Ensure the columns contain only numeric data\n",
    "columns_to_check = ['Superficie altri usi', 'Superficie lavorativa']\n",
    "\n",
    "# Check for non-negative values in the specified columns\n",
    "try:\n",
    "    numeric_columns = SERVICES[columns_to_check].select_dtypes(include=[float, int])\n",
    "\n",
    "    # Mask for non-negative values\n",
    "    all_positive = (numeric_columns >= 0).all().all()  # Collapse Series into a single boolean\n",
    "    \n",
    "    # Print the result\n",
    "    if not all_positive:\n",
    "        print(\"All values in the specified columns are non-negative.\")\n",
    "    else:\n",
    "        print(\"There are negative values in the specified columns.\")\n",
    "\n",
    "    # Display rows with negative values\n",
    "    negative_rows = SERVICES.loc[(numeric_columns < 0).any(axis=1)]\n",
    "    if not negative_rows.empty:\n",
    "        print(\"Rows with negative values:\\n\", negative_rows)\n",
    "    else:\n",
    "        print(\"No rows with negative values found.\")\n",
    "except KeyError as e:\n",
    "    print(f\"Error: One or more specified columns are missing in the DataFrame: {e}\")"
   ]
  },
  {
   "cell_type": "markdown",
   "id": "ccfe1e3e",
   "metadata": {
    "papermill": {
     "duration": 0.008659,
     "end_time": "2025-01-09T00:01:10.944814",
     "exception": false,
     "start_time": "2025-01-09T00:01:10.936155",
     "status": "completed"
    },
    "tags": []
   },
   "source": [
    "## Accuracy\n",
    "\n",
    "Accuracy comes in two forms: Semantic, that checks whether or not a value has a real meaning in the real world; Syntactic, that checks whether or not a value is correct syntactically, that has no errors.\n",
    "\n",
    "- Values in the \"Tipo Via\" and \"Via\"columns must match entries in the Stradario dataset, which contains the correct road types and names. \n",
    "- Values of the \"ZD\" column must be in the range ascii1-9 since those are the \"municipi\" of the city of Milan;"
   ]
  },
  {
   "cell_type": "code",
   "execution_count": 12,
   "id": "2d79e1e1",
   "metadata": {
    "execution": {
     "iopub.execute_input": "2025-01-09T00:01:10.963784Z",
     "iopub.status.busy": "2025-01-09T00:01:10.963397Z",
     "iopub.status.idle": "2025-01-09T00:01:10.971240Z",
     "shell.execute_reply": "2025-01-09T00:01:10.970157Z"
    },
    "papermill": {
     "duration": 0.020052,
     "end_time": "2025-01-09T00:01:10.973513",
     "exception": false,
     "start_time": "2025-01-09T00:01:10.953461",
     "status": "completed"
    },
    "tags": []
   },
   "outputs": [],
   "source": [
    "#Now we check that the street types are correct types of streets that exist in Milano\n",
    "#in oder to do this we downloaded a dataset from Comune Di Milano page that contains the whole list updated to the year 2024\n",
    "\n",
    "TIPOVIA = pd.read_csv('/kaggle/working/DIQ_Project2024/data/external/TIPOVIA.csv',sep=';',encoding='unicode_escape')"
   ]
  },
  {
   "cell_type": "code",
   "execution_count": 13,
   "id": "d27e8316",
   "metadata": {
    "execution": {
     "iopub.execute_input": "2025-01-09T00:01:10.992397Z",
     "iopub.status.busy": "2025-01-09T00:01:10.991980Z",
     "iopub.status.idle": "2025-01-09T00:01:11.016321Z",
     "shell.execute_reply": "2025-01-09T00:01:11.015273Z"
    },
    "papermill": {
     "duration": 0.036055,
     "end_time": "2025-01-09T00:01:11.018355",
     "exception": false,
     "start_time": "2025-01-09T00:01:10.982300",
     "status": "completed"
    },
    "tags": []
   },
   "outputs": [
    {
     "name": "stdout",
     "output_type": "stream",
     "text": [
      "['alz', 'bst', 'cav', 'cso', 'for', 'gll', 'grd', 'lgo', 'mnt', 'par', 'pas', 'ple', 'psg', 'psr', 'pta', 'pte', 'pza', 'pzt', 'rca', 'rip', 'rot', 'sda', 'sit', 'snt', 'spr', 'stt', 'stv', 'sup', 'tgz', 'via', 'vle', 'vlo', 'vpr']\n",
      "\n",
      "The accuracy of the column 'Tipo via' is: 99.923%\n",
      "3905 correct values on 3908 not-null values.\n",
      "\n",
      "The invalid values are:\n"
     ]
    },
    {
     "data": {
      "text/html": [
       "<div>\n",
       "<style scoped>\n",
       "    .dataframe tbody tr th:only-of-type {\n",
       "        vertical-align: middle;\n",
       "    }\n",
       "\n",
       "    .dataframe tbody tr th {\n",
       "        vertical-align: top;\n",
       "    }\n",
       "\n",
       "    .dataframe thead th {\n",
       "        text-align: right;\n",
       "    }\n",
       "</style>\n",
       "<table border=\"1\" class=\"dataframe\">\n",
       "  <thead>\n",
       "    <tr style=\"text-align: right;\">\n",
       "      <th></th>\n",
       "      <th>Tipo esercizio pa</th>\n",
       "      <th>Ubicazione</th>\n",
       "      <th>Tipo via</th>\n",
       "      <th>Via</th>\n",
       "      <th>Civico</th>\n",
       "      <th>Codice via</th>\n",
       "      <th>ZD</th>\n",
       "      <th>Prevalente</th>\n",
       "      <th>Superficie altri usi</th>\n",
       "      <th>Superficie lavorativa</th>\n",
       "    </tr>\n",
       "  </thead>\n",
       "  <tbody>\n",
       "    <tr>\n",
       "      <th>32</th>\n",
       "      <td>Acconciatore</td>\n",
       "      <td>CSO COMO N. 15 interno club f. conti</td>\n",
       "      <td>NaN</td>\n",
       "      <td>NaN</td>\n",
       "      <td>NaN</td>\n",
       "      <td>NaN</td>\n",
       "      <td>NaN</td>\n",
       "      <td>NaN</td>\n",
       "      <td>NaN</td>\n",
       "      <td>NaN</td>\n",
       "    </tr>\n",
       "    <tr>\n",
       "      <th>33</th>\n",
       "      <td>(z.d. 9)</td>\n",
       "      <td>CSO</td>\n",
       "      <td>COMO</td>\n",
       "      <td>15</td>\n",
       "      <td>1111</td>\n",
       "      <td>9.0</td>\n",
       "      <td>ACCONCIATORE</td>\n",
       "      <td>NaN</td>\n",
       "      <td>195.0</td>\n",
       "      <td>NaN</td>\n",
       "    </tr>\n",
       "    <tr>\n",
       "      <th>722</th>\n",
       "      <td>ACCONCIATORE</td>\n",
       "      <td>VIE DELLA ROBBIA LUCA N. 8 ; (z.d. 8)</td>\n",
       "      <td>VIE</td>\n",
       "      <td>DELLA ROBBIA LUCA</td>\n",
       "      <td>8</td>\n",
       "      <td>6349.0</td>\n",
       "      <td>8</td>\n",
       "      <td>NaN</td>\n",
       "      <td>NaN</td>\n",
       "      <td>33.0</td>\n",
       "    </tr>\n",
       "    <tr>\n",
       "      <th>2892</th>\n",
       "      <td>Parrucchiere per uomo;TIPO A - REG.2003;TIPO B...</td>\n",
       "      <td>VIE DELLA ROBBIA LUCA N. 8 ; (z.d. 8)</td>\n",
       "      <td>VIE</td>\n",
       "      <td>DELLA ROBBIA LUCA</td>\n",
       "      <td>8</td>\n",
       "      <td>6349.0</td>\n",
       "      <td>8</td>\n",
       "      <td>NaN</td>\n",
       "      <td>NaN</td>\n",
       "      <td>NaN</td>\n",
       "    </tr>\n",
       "  </tbody>\n",
       "</table>\n",
       "</div>"
      ],
      "text/plain": [
       "                                      Tipo esercizio pa  \\\n",
       "32                                         Acconciatore   \n",
       "33                                             (z.d. 9)   \n",
       "722                                        ACCONCIATORE   \n",
       "2892  Parrucchiere per uomo;TIPO A - REG.2003;TIPO B...   \n",
       "\n",
       "                                 Ubicazione Tipo via                Via  \\\n",
       "32     CSO COMO N. 15 interno club f. conti      NaN                NaN   \n",
       "33                                      CSO     COMO                 15   \n",
       "722   VIE DELLA ROBBIA LUCA N. 8 ; (z.d. 8)      VIE  DELLA ROBBIA LUCA   \n",
       "2892  VIE DELLA ROBBIA LUCA N. 8 ; (z.d. 8)      VIE  DELLA ROBBIA LUCA   \n",
       "\n",
       "     Civico  Codice via            ZD Prevalente  Superficie altri usi  \\\n",
       "32      NaN         NaN           NaN        NaN                   NaN   \n",
       "33     1111         9.0  ACCONCIATORE        NaN                 195.0   \n",
       "722       8      6349.0             8        NaN                   NaN   \n",
       "2892      8      6349.0             8        NaN                   NaN   \n",
       "\n",
       "      Superficie lavorativa  \n",
       "32                      NaN  \n",
       "33                      NaN  \n",
       "722                    33.0  \n",
       "2892                    NaN  "
      ]
     },
     "execution_count": 13,
     "metadata": {},
     "output_type": "execute_result"
    }
   ],
   "source": [
    "allowed_tipo_via = TIPOVIA[\"DESC_ABBREVIATA\"].str.lower().unique()\n",
    "print(sorted(allowed_tipo_via))\n",
    "\n",
    "# correct values in \"Tipo via\" are the ones contained in allowes_tipo_via\n",
    "CORRECT = SERVICES['Tipo via'].str.lower().isin(allowed_tipo_via)\n",
    "\n",
    "# we sum the true values in correct\n",
    "CORRECT_TIPO_VIA = CORRECT.sum()\n",
    "\n",
    "# we count the not null values of the column ZD in allowed_zd\n",
    "NOT_NULL_TIPO_VIA = SERVICES['Tipo via'].count()\n",
    "\n",
    "accuracy = CORRECT_TIPO_VIA / NOT_NULL_TIPO_VIA\n",
    "accuracy_3f = '{0:.3f}%'.format(accuracy*100)\n",
    "\n",
    "print(\"\\nThe accuracy of the column 'Tipo via' is: {}\".format(accuracy_3f))\n",
    "print(f\"{CORRECT_TIPO_VIA} correct values on {NOT_NULL_TIPO_VIA} not-null values.\\n\")\n",
    "print(\"The invalid values are:\")\n",
    "\n",
    "invalid_values = SERVICES[~SERVICES['Tipo via'].str.lower().isin(allowed_tipo_via)]\n",
    "invalid_values.head()"
   ]
  },
  {
   "cell_type": "code",
   "execution_count": 14,
   "id": "fb8f3c7f",
   "metadata": {
    "execution": {
     "iopub.execute_input": "2025-01-09T00:01:11.037174Z",
     "iopub.status.busy": "2025-01-09T00:01:11.036818Z",
     "iopub.status.idle": "2025-01-09T00:01:11.057951Z",
     "shell.execute_reply": "2025-01-09T00:01:11.057067Z"
    },
    "papermill": {
     "duration": 0.03325,
     "end_time": "2025-01-09T00:01:11.060338",
     "exception": false,
     "start_time": "2025-01-09T00:01:11.027088",
     "status": "completed"
    },
    "tags": []
   },
   "outputs": [],
   "source": [
    "#Now we check that the street names are correct names of streets that exist in Milano\n",
    "#in oder to do this we downloaded a dataset from Comune Di Milano page that contains the whole list updated to the year 2024\n",
    "\n",
    "STRADARIO = pd.read_csv('/kaggle/working/DIQ_Project2024/data/external/VIARIO_20241104.csv',sep=';',encoding='unicode_escape')"
   ]
  },
  {
   "cell_type": "code",
   "execution_count": 15,
   "id": "ab6357ae",
   "metadata": {
    "execution": {
     "iopub.execute_input": "2025-01-09T00:01:11.079543Z",
     "iopub.status.busy": "2025-01-09T00:01:11.079183Z",
     "iopub.status.idle": "2025-01-09T00:01:11.084188Z",
     "shell.execute_reply": "2025-01-09T00:01:11.083178Z"
    },
    "papermill": {
     "duration": 0.016865,
     "end_time": "2025-01-09T00:01:11.086143",
     "exception": false,
     "start_time": "2025-01-09T00:01:11.069278",
     "status": "completed"
    },
    "tags": []
   },
   "outputs": [],
   "source": [
    "# # allowed_via = STRADARIO[\"DENOMINAZIONE\"].str.lower().unique()\n",
    "# # # print(sorted(allowed_via))\n",
    "\n",
    "# # # correct values in \"Via\" are the ones contained in allowed_via\n",
    "# # CORRECT = SERVICES['Via'].str.lower().isin(allowed_via)\n",
    "\n",
    "# denominazione_lower = STRADARIO[\"DENOMINAZIONE\"].str.lower()\n",
    "# descrittivo_lower = STRADARIO[\"DESCRITTIVO\"].str.lower()\n",
    "\n",
    "# # Check if 'Via' matches either 'DENOMINAZIONE' or 'DESCRITTIVO'\n",
    "# CORRECT = SERVICES['Via'].str.lower().isin(denominazione_lower) | SERVICES['Via'].str.lower().isin(descrittivo_lower)\n",
    "\n",
    "# # we sum the true values in correct\n",
    "# CORRECT_VIA = CORRECT.sum()\n",
    "\n",
    "# # we count the not null values of the column ZD in allowed_zd\n",
    "# NOT_NULL_VIA = SERVICES['Via'].count()\n",
    "\n",
    "# accuracy = CORRECT_VIA / NOT_NULL_VIA\n",
    "# accuracy_3f = '{0:.3f}%'.format(accuracy*100)\n",
    "\n",
    "# print(\"\\nThe accuracy of the column 'Via' is: {}\".format(accuracy_3f))\n",
    "# print(f\"{CORRECT_VIA} correct values on {NOT_NULL_VIA} not-null values.\\n\")\n",
    "# print(\"The invalid values are:\")\n",
    "\n",
    "# invalid_values = SERVICES[~SERVICES['Via'].str.lower().isin(allowed_via)]\n",
    "# invalid_values.head()"
   ]
  },
  {
   "cell_type": "code",
   "execution_count": 16,
   "id": "f8326475",
   "metadata": {
    "execution": {
     "iopub.execute_input": "2025-01-09T00:01:11.105911Z",
     "iopub.status.busy": "2025-01-09T00:01:11.104938Z",
     "iopub.status.idle": "2025-01-09T00:01:11.123054Z",
     "shell.execute_reply": "2025-01-09T00:01:11.121686Z"
    },
    "papermill": {
     "duration": 0.029978,
     "end_time": "2025-01-09T00:01:11.125031",
     "exception": false,
     "start_time": "2025-01-09T00:01:11.095053",
     "status": "completed"
    },
    "tags": []
   },
   "outputs": [
    {
     "name": "stdout",
     "output_type": "stream",
     "text": [
      "The accuracy of the column 'ZD' is: 99.974%\n",
      "3907 correct values on 3908 not-null values.\n",
      "\n",
      "The invalid values are:\n"
     ]
    },
    {
     "data": {
      "text/html": [
       "<div>\n",
       "<style scoped>\n",
       "    .dataframe tbody tr th:only-of-type {\n",
       "        vertical-align: middle;\n",
       "    }\n",
       "\n",
       "    .dataframe tbody tr th {\n",
       "        vertical-align: top;\n",
       "    }\n",
       "\n",
       "    .dataframe thead th {\n",
       "        text-align: right;\n",
       "    }\n",
       "</style>\n",
       "<table border=\"1\" class=\"dataframe\">\n",
       "  <thead>\n",
       "    <tr style=\"text-align: right;\">\n",
       "      <th></th>\n",
       "      <th>Tipo esercizio pa</th>\n",
       "      <th>Ubicazione</th>\n",
       "      <th>Tipo via</th>\n",
       "      <th>Via</th>\n",
       "      <th>Civico</th>\n",
       "      <th>Codice via</th>\n",
       "      <th>ZD</th>\n",
       "      <th>Prevalente</th>\n",
       "      <th>Superficie altri usi</th>\n",
       "      <th>Superficie lavorativa</th>\n",
       "    </tr>\n",
       "  </thead>\n",
       "  <tbody>\n",
       "    <tr>\n",
       "      <th>32</th>\n",
       "      <td>Acconciatore</td>\n",
       "      <td>CSO COMO N. 15 interno club f. conti</td>\n",
       "      <td>NaN</td>\n",
       "      <td>NaN</td>\n",
       "      <td>NaN</td>\n",
       "      <td>NaN</td>\n",
       "      <td>NaN</td>\n",
       "      <td>NaN</td>\n",
       "      <td>NaN</td>\n",
       "      <td>NaN</td>\n",
       "    </tr>\n",
       "    <tr>\n",
       "      <th>33</th>\n",
       "      <td>(z.d. 9)</td>\n",
       "      <td>CSO</td>\n",
       "      <td>COMO</td>\n",
       "      <td>15</td>\n",
       "      <td>1111</td>\n",
       "      <td>9.0</td>\n",
       "      <td>ACCONCIATORE</td>\n",
       "      <td>NaN</td>\n",
       "      <td>195.0</td>\n",
       "      <td>NaN</td>\n",
       "    </tr>\n",
       "  </tbody>\n",
       "</table>\n",
       "</div>"
      ],
      "text/plain": [
       "   Tipo esercizio pa                            Ubicazione Tipo via  Via  \\\n",
       "32      Acconciatore  CSO COMO N. 15 interno club f. conti      NaN  NaN   \n",
       "33          (z.d. 9)                                   CSO     COMO   15   \n",
       "\n",
       "   Civico  Codice via            ZD Prevalente  Superficie altri usi  \\\n",
       "32    NaN         NaN           NaN        NaN                   NaN   \n",
       "33   1111         9.0  ACCONCIATORE        NaN                 195.0   \n",
       "\n",
       "    Superficie lavorativa  \n",
       "32                    NaN  \n",
       "33                    NaN  "
      ]
     },
     "execution_count": 16,
     "metadata": {},
     "output_type": "execute_result"
    }
   ],
   "source": [
    "allowed_zd = {'1', '2', '3', '4', '5', '6', '7', '8', '9'}\n",
    "\n",
    "# correct values in \"ZD\" are the ones contained in allowed_zd\n",
    "CORRECT = SERVICES['ZD'].isin(allowed_zd)\n",
    "\n",
    "# we sum the true values in correct\n",
    "CORRECT_ZD = CORRECT.sum()\n",
    "\n",
    "# we count the not null values of the column ZD in allowed_zd\n",
    "NOT_NULL_ZD = SERVICES['ZD'].count()\n",
    "\n",
    "accuracy = CORRECT_ZD / NOT_NULL_ZD\n",
    "accuracy_3f = '{0:.3f}%'.format(accuracy*100)\n",
    "\n",
    "print(\"The accuracy of the column 'ZD' is: {}\".format(accuracy_3f))\n",
    "print(f\"{CORRECT_ZD} correct values on {NOT_NULL_ZD} not-null values.\\n\")\n",
    "print(\"The invalid values are:\")\n",
    "\n",
    "invalid_values = SERVICES[~SERVICES['ZD'].isin(allowed_zd)]\n",
    "invalid_values.head()\n"
   ]
  },
  {
   "cell_type": "code",
   "execution_count": 17,
   "id": "2cb192f2",
   "metadata": {
    "execution": {
     "iopub.execute_input": "2025-01-09T00:01:11.144994Z",
     "iopub.status.busy": "2025-01-09T00:01:11.144560Z",
     "iopub.status.idle": "2025-01-09T00:01:11.149498Z",
     "shell.execute_reply": "2025-01-09T00:01:11.148372Z"
    },
    "papermill": {
     "duration": 0.017315,
     "end_time": "2025-01-09T00:01:11.151661",
     "exception": false,
     "start_time": "2025-01-09T00:01:11.134346",
     "status": "completed"
    },
    "tags": []
   },
   "outputs": [],
   "source": [
    "# #We need to convert everything to uppercase since the .isin() function is case-sensitive\n",
    "# MERGED_STRADARIO['DESC_ABBREVIATA'] = MERGED_STRADARIO['DESC_ABBREVIATA'].str.upper()\n",
    "# MERGED_STRADARIO.head()"
   ]
  },
  {
   "cell_type": "code",
   "execution_count": 18,
   "id": "2e0b1bd7",
   "metadata": {
    "execution": {
     "iopub.execute_input": "2025-01-09T00:01:11.173008Z",
     "iopub.status.busy": "2025-01-09T00:01:11.172614Z",
     "iopub.status.idle": "2025-01-09T00:01:11.177918Z",
     "shell.execute_reply": "2025-01-09T00:01:11.176888Z"
    },
    "papermill": {
     "duration": 0.017859,
     "end_time": "2025-01-09T00:01:11.180214",
     "exception": false,
     "start_time": "2025-01-09T00:01:11.162355",
     "status": "completed"
    },
    "tags": []
   },
   "outputs": [],
   "source": [
    "# #Now that we have our list of streets we can use it as reference to check whether or not our analyzed dataset contains errors\n",
    "\n",
    "# #We specify for both fields the column to check and the reference one\n",
    "# street_column_to_check = 'Via'\n",
    "# street_name_reference = 'DESCRITTIVO'\n",
    "\n",
    "# type_column_to_check = 'Tipo via'\n",
    "# type_reference = 'DESC_ABBREVIATA'\n",
    "\n",
    "# #Check if the values in each column belong to the respective reference column\n",
    "# is_street_valid = SERVICES[street_column_to_check].isin(MERGED_STRADARIO[street_name_reference])\n",
    "# is_type_valid = SERVICES[type_column_to_check].isin(MERGED_STRADARIO[type_reference])\n",
    "\n",
    "# #We combine the results\n",
    "# all_valid = is_street_valid & is_type_valid\n",
    "\n",
    "# #Check overall validity\n",
    "# if all_valid.all():\n",
    "#     print(\"All values in both columns are valid.\")\n",
    "# else:\n",
    "#     print(\"Some values in one or both columns are not valid.\")\n",
    "    \n",
    "#     #In the case that we encountered errors we specify in wich rows the errors have been detected\n",
    "#     invalid_rows = SERVICES[~all_valid]\n",
    "#     print(\"Invalid rows:\\n\", invalid_rows)\n",
    "\n",
    "#     # Optional: Save invalid rows to a file\n",
    "#     invalid_rows.to_csv('invalid_rows.csv', index=False)\n",
    "\n",
    "# #Optional: Check invalid rows per column\n",
    "# invalid_streets = SERVICES[~is_street_valid]\n",
    "# invalid_types = SERVICES[~is_type_valid]\n",
    "\n",
    "# print(\"Invalid STREETS:\\n\", invalid_streets[['Via']])\n",
    "# print(\"Invalid TYPE:\\n\", invalid_types[['Tipo via']])"
   ]
  },
  {
   "cell_type": "markdown",
   "id": "b336ccb8",
   "metadata": {
    "papermill": {
     "duration": 0.008812,
     "end_time": "2025-01-09T00:01:11.198898",
     "exception": false,
     "start_time": "2025-01-09T00:01:11.190086",
     "status": "completed"
    },
    "tags": []
   },
   "source": [
    "# Data profiling\n",
    "\n",
    "*COLUMN ANALYSIS*\n",
    "\n",
    "Continuing our inspection of the data we can analize column-by-column the dataset, inspecting the number of unique values for each of them and couting the most and least common ones. This kind of analysis will be useful later in our work. "
   ]
  },
  {
   "cell_type": "code",
   "execution_count": 19,
   "id": "11f00795",
   "metadata": {
    "execution": {
     "iopub.execute_input": "2025-01-09T00:01:11.219110Z",
     "iopub.status.busy": "2025-01-09T00:01:11.218758Z",
     "iopub.status.idle": "2025-01-09T00:01:11.223967Z",
     "shell.execute_reply": "2025-01-09T00:01:11.222659Z"
    },
    "papermill": {
     "duration": 0.017607,
     "end_time": "2025-01-09T00:01:11.226056",
     "exception": false,
     "start_time": "2025-01-09T00:01:11.208449",
     "status": "completed"
    },
    "tags": []
   },
   "outputs": [],
   "source": [
    "# #Using a loop we display for each column in the dataset the number of different values and the list in order of frequency\n",
    "# for column in SERVICES.columns:\n",
    "#     print(column, \"\\n\")\n",
    "#     print(f\"The column '{column}' has the following number of different values: \", SERVICES[column].nunique())\n",
    "#     print(f\"And these are the values listed from the most frequent to the least for '{column}':\")\n",
    "#     print(SERVICES[column].value_counts())\n",
    "#     print(\"\\n\" + \"-\"*50 + \"\\n\")  # Adds a separator between the columns"
   ]
  },
  {
   "cell_type": "markdown",
   "id": "6eb06ba6",
   "metadata": {
    "papermill": {
     "duration": 0.008554,
     "end_time": "2025-01-09T00:01:11.244202",
     "exception": false,
     "start_time": "2025-01-09T00:01:11.235648",
     "status": "completed"
    },
    "tags": []
   },
   "source": [
    "## Value distribution"
   ]
  },
  {
   "cell_type": "code",
   "execution_count": 20,
   "id": "938d90bd",
   "metadata": {
    "execution": {
     "iopub.execute_input": "2025-01-09T00:01:11.263633Z",
     "iopub.status.busy": "2025-01-09T00:01:11.263235Z",
     "iopub.status.idle": "2025-01-09T00:01:11.267973Z",
     "shell.execute_reply": "2025-01-09T00:01:11.266931Z"
    },
    "papermill": {
     "duration": 0.017108,
     "end_time": "2025-01-09T00:01:11.270124",
     "exception": false,
     "start_time": "2025-01-09T00:01:11.253016",
     "status": "completed"
    },
    "tags": []
   },
   "outputs": [],
   "source": [
    "NUM = [\"Superficie altri usi\", \"Superficie lavorativa\"]"
   ]
  },
  {
   "cell_type": "code",
   "execution_count": 21,
   "id": "65cf0545",
   "metadata": {
    "execution": {
     "iopub.execute_input": "2025-01-09T00:01:11.290127Z",
     "iopub.status.busy": "2025-01-09T00:01:11.289734Z",
     "iopub.status.idle": "2025-01-09T00:01:11.309753Z",
     "shell.execute_reply": "2025-01-09T00:01:11.308696Z"
    },
    "papermill": {
     "duration": 0.032524,
     "end_time": "2025-01-09T00:01:11.311957",
     "exception": false,
     "start_time": "2025-01-09T00:01:11.279433",
     "status": "completed"
    },
    "tags": []
   },
   "outputs": [
    {
     "data": {
      "text/html": [
       "<div>\n",
       "<style scoped>\n",
       "    .dataframe tbody tr th:only-of-type {\n",
       "        vertical-align: middle;\n",
       "    }\n",
       "\n",
       "    .dataframe tbody tr th {\n",
       "        vertical-align: top;\n",
       "    }\n",
       "\n",
       "    .dataframe thead th {\n",
       "        text-align: right;\n",
       "    }\n",
       "</style>\n",
       "<table border=\"1\" class=\"dataframe\">\n",
       "  <thead>\n",
       "    <tr style=\"text-align: right;\">\n",
       "      <th></th>\n",
       "      <th>Superficie altri usi</th>\n",
       "      <th>Superficie lavorativa</th>\n",
       "    </tr>\n",
       "  </thead>\n",
       "  <tbody>\n",
       "    <tr>\n",
       "      <th>count</th>\n",
       "      <td>745.000000</td>\n",
       "      <td>2601.000000</td>\n",
       "    </tr>\n",
       "    <tr>\n",
       "      <th>mean</th>\n",
       "      <td>9.562416</td>\n",
       "      <td>40.158401</td>\n",
       "    </tr>\n",
       "    <tr>\n",
       "      <th>std</th>\n",
       "      <td>13.730086</td>\n",
       "      <td>27.736887</td>\n",
       "    </tr>\n",
       "    <tr>\n",
       "      <th>min</th>\n",
       "      <td>1.000000</td>\n",
       "      <td>1.000000</td>\n",
       "    </tr>\n",
       "    <tr>\n",
       "      <th>25%</th>\n",
       "      <td>3.000000</td>\n",
       "      <td>24.000000</td>\n",
       "    </tr>\n",
       "    <tr>\n",
       "      <th>50%</th>\n",
       "      <td>5.000000</td>\n",
       "      <td>34.000000</td>\n",
       "    </tr>\n",
       "    <tr>\n",
       "      <th>75%</th>\n",
       "      <td>12.000000</td>\n",
       "      <td>49.000000</td>\n",
       "    </tr>\n",
       "    <tr>\n",
       "      <th>max</th>\n",
       "      <td>195.000000</td>\n",
       "      <td>522.000000</td>\n",
       "    </tr>\n",
       "  </tbody>\n",
       "</table>\n",
       "</div>"
      ],
      "text/plain": [
       "       Superficie altri usi  Superficie lavorativa\n",
       "count            745.000000            2601.000000\n",
       "mean               9.562416              40.158401\n",
       "std               13.730086              27.736887\n",
       "min                1.000000               1.000000\n",
       "25%                3.000000              24.000000\n",
       "50%                5.000000              34.000000\n",
       "75%               12.000000              49.000000\n",
       "max              195.000000             522.000000"
      ]
     },
     "execution_count": 21,
     "metadata": {},
     "output_type": "execute_result"
    }
   ],
   "source": [
    "SERVICES[NUM].describe()"
   ]
  },
  {
   "cell_type": "code",
   "execution_count": 22,
   "id": "b2153535",
   "metadata": {
    "execution": {
     "iopub.execute_input": "2025-01-09T00:01:11.332033Z",
     "iopub.status.busy": "2025-01-09T00:01:11.331665Z",
     "iopub.status.idle": "2025-01-09T00:01:11.339638Z",
     "shell.execute_reply": "2025-01-09T00:01:11.338525Z"
    },
    "papermill": {
     "duration": 0.020506,
     "end_time": "2025-01-09T00:01:11.341882",
     "exception": false,
     "start_time": "2025-01-09T00:01:11.321376",
     "status": "completed"
    },
    "tags": []
   },
   "outputs": [
    {
     "data": {
      "text/plain": [
       "0.01330263494499872"
      ]
     },
     "execution_count": 22,
     "metadata": {},
     "output_type": "execute_result"
    }
   ],
   "source": [
    "DISTINCT = SERVICES[NUM[0]].nunique()\n",
    "UNIQUENESS = DISTINCT / len(SERVICES[NUM[0]])\n",
    "UNIQUENESS"
   ]
  },
  {
   "cell_type": "code",
   "execution_count": 23,
   "id": "1b621835",
   "metadata": {
    "execution": {
     "iopub.execute_input": "2025-01-09T00:01:11.362580Z",
     "iopub.status.busy": "2025-01-09T00:01:11.362157Z",
     "iopub.status.idle": "2025-01-09T00:01:11.369034Z",
     "shell.execute_reply": "2025-01-09T00:01:11.368028Z"
    },
    "papermill": {
     "duration": 0.019733,
     "end_time": "2025-01-09T00:01:11.371114",
     "exception": false,
     "start_time": "2025-01-09T00:01:11.351381",
     "status": "completed"
    },
    "tags": []
   },
   "outputs": [
    {
     "data": {
      "text/plain": [
       "0.0697986577181208"
      ]
     },
     "execution_count": 23,
     "metadata": {},
     "output_type": "execute_result"
    }
   ],
   "source": [
    "DISTINCTNESS = DISTINCT / SERVICES[NUM[0]].count()\n",
    "DISTINCTNESS"
   ]
  },
  {
   "cell_type": "code",
   "execution_count": 24,
   "id": "71abb482",
   "metadata": {
    "execution": {
     "iopub.execute_input": "2025-01-09T00:01:11.391858Z",
     "iopub.status.busy": "2025-01-09T00:01:11.391480Z",
     "iopub.status.idle": "2025-01-09T00:01:11.402726Z",
     "shell.execute_reply": "2025-01-09T00:01:11.401695Z"
    },
    "papermill": {
     "duration": 0.023947,
     "end_time": "2025-01-09T00:01:11.404810",
     "exception": false,
     "start_time": "2025-01-09T00:01:11.380863",
     "status": "completed"
    },
    "tags": []
   },
   "outputs": [
    {
     "data": {
      "text/plain": [
       "0.138255033557047"
      ]
     },
     "execution_count": 24,
     "metadata": {},
     "output_type": "execute_result"
    }
   ],
   "source": [
    "MAX_COUNTS = SERVICES[NUM[0]].value_counts().max()\n",
    "CONSTANCY = MAX_COUNTS / SERVICES[NUM[0]].count()\n",
    "CONSTANCY"
   ]
  },
  {
   "cell_type": "code",
   "execution_count": 25,
   "id": "f1f2ff87",
   "metadata": {
    "execution": {
     "iopub.execute_input": "2025-01-09T00:01:11.425578Z",
     "iopub.status.busy": "2025-01-09T00:01:11.425176Z",
     "iopub.status.idle": "2025-01-09T00:01:11.954792Z",
     "shell.execute_reply": "2025-01-09T00:01:11.953733Z"
    },
    "papermill": {
     "duration": 0.542617,
     "end_time": "2025-01-09T00:01:11.956855",
     "exception": false,
     "start_time": "2025-01-09T00:01:11.414238",
     "status": "completed"
    },
    "tags": []
   },
   "outputs": [
    {
     "data": {
      "text/plain": [
       "array([[<Axes: title={'center': 'Superficie altri usi'}>,\n",
       "        <Axes: title={'center': 'Superficie lavorativa'}>]], dtype=object)"
      ]
     },
     "execution_count": 25,
     "metadata": {},
     "output_type": "execute_result"
    },
    {
     "data": {
      "image/png": "[encoded data removed]",
      "text/plain": [
       "<Figure size 640x480 with 2 Axes>"
      ]
     },
     "metadata": {},
     "output_type": "display_data"
    }
   ],
   "source": [
    "SERVICES[NUM].hist()"
   ]
  },
  {
   "cell_type": "code",
   "execution_count": 26,
   "id": "56e08e4b",
   "metadata": {
    "execution": {
     "iopub.execute_input": "2025-01-09T00:01:11.978854Z",
     "iopub.status.busy": "2025-01-09T00:01:11.978472Z",
     "iopub.status.idle": "2025-01-09T00:01:12.304577Z",
     "shell.execute_reply": "2025-01-09T00:01:12.303371Z"
    },
    "papermill": {
     "duration": 0.33971,
     "end_time": "2025-01-09T00:01:12.306881",
     "exception": false,
     "start_time": "2025-01-09T00:01:11.967171",
     "status": "completed"
    },
    "tags": []
   },
   "outputs": [
    {
     "data": {
      "image/png": "[encoded data removed]",
      "text/plain": [
       "<Figure size 800x600 with 1 Axes>"
      ]
     },
     "metadata": {},
     "output_type": "display_data"
    }
   ],
   "source": [
    "import matplotlib.pyplot as plt\n",
    "%matplotlib inline\n",
    "\n",
    "plt.figure(figsize=(8, 6))\n",
    "plt.scatter(SERVICES[NUM[0]], SERVICES[NUM[1]], marker='o', color='r', label='Data')\n",
    "plt.xlabel('Superficie altri usi')\n",
    "plt.ylabel('Superficie lavorativa')\n",
    "plt.title('SCATTER PLOT')\n",
    "plt.legend()\n",
    "plt.grid(False)\n",
    "plt.show()"
   ]
  },
  {
   "cell_type": "code",
   "execution_count": 27,
   "id": "a82ac61a",
   "metadata": {
    "execution": {
     "iopub.execute_input": "2025-01-09T00:01:12.329987Z",
     "iopub.status.busy": "2025-01-09T00:01:12.329605Z",
     "iopub.status.idle": "2025-01-09T00:01:14.370995Z",
     "shell.execute_reply": "2025-01-09T00:01:14.369865Z"
    },
    "papermill": {
     "duration": 2.055657,
     "end_time": "2025-01-09T00:01:14.373424",
     "exception": false,
     "start_time": "2025-01-09T00:01:12.317767",
     "status": "completed"
    },
    "tags": []
   },
   "outputs": [
    {
     "data": {
      "image/png": "[encoded data removed]",
      "text/plain": [
       "<Figure size 1200x600 with 2 Axes>"
      ]
     },
     "metadata": {},
     "output_type": "display_data"
    }
   ],
   "source": [
    "import seaborn as sns\n",
    "\n",
    "# Create subplots\n",
    "fig, axes = plt.subplots(1, 2, figsize=(12, 6))  # 1 row, 2 columns\n",
    "\n",
    "# First boxplot\n",
    "sns.boxplot(x=SERVICES[NUM[0]], ax=axes[0])\n",
    "axes[0].set_title(f\"Boxplot for {NUM[0]}\")\n",
    "\n",
    "# Second boxplot\n",
    "sns.boxplot(x=SERVICES[NUM[1]], ax=axes[1])\n",
    "axes[1].set_title(f\"Boxplot for {NUM[1]}\")\n",
    "\n",
    "# Adjust layout\n",
    "plt.tight_layout()\n",
    "plt.show()\n"
   ]
  }
 ],
 "metadata": {
  "kaggle": {
   "accelerator": "none",
   "dataSources": [],
   "dockerImageVersionId": 30804,
   "isGpuEnabled": false,
   "isInternetEnabled": true,
   "language": "python",
   "sourceType": "notebook"
  },
  "kernelspec": {
   "display_name": "Python 3",
   "language": "python",
   "name": "python3"
  },
  "language_info": {
   "codemirror_mode": {
    "name": "ipython",
    "version": 3
   },
   "file_extension": ".py",
   "mimetype": "text/x-python",
   "name": "python",
   "nbconvert_exporter": "python",
   "pygments_lexer": "ipython3",
   "version": "3.10.14"
  },
  "papermill": {
   "default_parameters": {},
   "duration": 11.331301,
   "end_time": "2025-01-09T00:01:15.006233",
   "environment_variables": {},
   "exception": null,
   "input_path": "__notebook__.ipynb",
   "output_path": "__notebook__.ipynb",
   "parameters": {},
   "start_time": "2025-01-09T00:01:03.674932",
   "version": "2.6.0"
  }
 },
 "nbformat": 4,
 "nbformat_minor": 5
}

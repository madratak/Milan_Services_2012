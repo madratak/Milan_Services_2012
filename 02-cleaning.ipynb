{
 "cells": [
  {
   "cell_type": "markdown",
   "id": "dfbfe590",
   "metadata": {
    "papermill": {
     "duration": 0.010056,
     "end_time": "2025-01-14T15:22:20.630212",
     "exception": false,
     "start_time": "2025-01-14T15:22:20.620156",
     "status": "completed"
    },
    "tags": []
   },
   "source": [
    "# Import the repository from GitHub\n",
    "\n",
    "First of all we start by importing the repository that we stored in the github project."
   ]
  },
  {
   "cell_type": "code",
   "execution_count": 1,
   "id": "0c13f299",
   "metadata": {
    "_cell_guid": "b1076dfc-b9ad-4769-8c92-a6c4dae69d19",
    "_uuid": "8f2839f25d086af736a60e9eeb907d3b93b6e0e5",
    "execution": {
     "iopub.execute_input": "2025-01-14T15:22:20.650005Z",
     "iopub.status.busy": "2025-01-14T15:22:20.649639Z",
     "iopub.status.idle": "2025-01-14T15:22:20.810422Z",
     "shell.execute_reply": "2025-01-14T15:22:20.809322Z"
    },
    "papermill": {
     "duration": 0.172693,
     "end_time": "2025-01-14T15:22:20.812469",
     "exception": false,
     "start_time": "2025-01-14T15:22:20.639776",
     "status": "completed"
    },
    "tags": []
   },
   "outputs": [],
   "source": [
    "from kaggle_secrets import UserSecretsClient\n",
    "user_secrets = UserSecretsClient()\n",
    "secret_value_1 = user_secrets.get_secret(\"NEW_GITHUB_TOKEN\")"
   ]
  },
  {
   "cell_type": "code",
   "execution_count": 2,
   "id": "587709c8",
   "metadata": {
    "execution": {
     "iopub.execute_input": "2025-01-14T15:22:20.831445Z",
     "iopub.status.busy": "2025-01-14T15:22:20.831082Z",
     "iopub.status.idle": "2025-01-14T15:22:22.236578Z",
     "shell.execute_reply": "2025-01-14T15:22:22.235322Z"
    },
    "papermill": {
     "duration": 1.417293,
     "end_time": "2025-01-14T15:22:22.238687",
     "exception": false,
     "start_time": "2025-01-14T15:22:20.821394",
     "status": "completed"
    },
    "tags": []
   },
   "outputs": [
    {
     "name": "stdout",
     "output_type": "stream",
     "text": [
      "Cloning into 'DIQ_Project2024'...\r\n",
      "remote: Enumerating objects: 117, done.\u001b[K\r\n",
      "remote: Counting objects: 100% (117/117), done.\u001b[K\r\n",
      "remote: Compressing objects: 100% (101/101), done.\u001b[K\r\n",
      "remote: Total 117 (delta 48), reused 27 (delta 5), pack-reused 0 (from 0)\u001b[K\r\n",
      "Receiving objects: 100% (117/117), 802.40 KiB | 8.36 MiB/s, done.\r\n",
      "Resolving deltas: 100% (48/48), done.\r\n"
     ]
    }
   ],
   "source": [
    "token = UserSecretsClient().get_secret(\"NEW_GITHUB_TOKEN\")\n",
    "! git clone https://{token}@github.com/madratak/DIQ_Project2024.git"
   ]
  },
  {
   "cell_type": "code",
   "execution_count": 3,
   "id": "4dadc6fd",
   "metadata": {
    "execution": {
     "iopub.execute_input": "2025-01-14T15:22:22.259902Z",
     "iopub.status.busy": "2025-01-14T15:22:22.259535Z",
     "iopub.status.idle": "2025-01-14T15:22:22.267522Z",
     "shell.execute_reply": "2025-01-14T15:22:22.266335Z"
    },
    "papermill": {
     "duration": 0.020382,
     "end_time": "2025-01-14T15:22:22.269251",
     "exception": false,
     "start_time": "2025-01-14T15:22:22.248869",
     "status": "completed"
    },
    "tags": []
   },
   "outputs": [
    {
     "name": "stdout",
     "output_type": "stream",
     "text": [
      "/kaggle/working/DIQ_Project2024\n"
     ]
    }
   ],
   "source": [
    "%cd /kaggle/working/DIQ_Project2024"
   ]
  },
  {
   "cell_type": "markdown",
   "id": "a66852e8",
   "metadata": {
    "papermill": {
     "duration": 0.009167,
     "end_time": "2025-01-14T15:22:22.288338",
     "exception": false,
     "start_time": "2025-01-14T15:22:22.279171",
     "status": "completed"
    },
    "tags": []
   },
   "source": [
    "# Set up the dataset\n",
    "\n",
    "At this point we can proceed by importing the correct libraries and then importing the data itself inside our notebook."
   ]
  },
  {
   "cell_type": "code",
   "execution_count": 4,
   "id": "40d975aa",
   "metadata": {
    "execution": {
     "iopub.execute_input": "2025-01-14T15:22:22.308877Z",
     "iopub.status.busy": "2025-01-14T15:22:22.308525Z",
     "iopub.status.idle": "2025-01-14T15:22:22.707393Z",
     "shell.execute_reply": "2025-01-14T15:22:22.706135Z"
    },
    "papermill": {
     "duration": 0.41147,
     "end_time": "2025-01-14T15:22:22.709608",
     "exception": false,
     "start_time": "2025-01-14T15:22:22.298138",
     "status": "completed"
    },
    "tags": []
   },
   "outputs": [],
   "source": [
    "import pandas as pd\n",
    "import numpy as np\n",
    "from datetime import datetime\n",
    "import os\n",
    "import re\n",
    "\n",
    "# Set max column width to None to display full content\n",
    "pd.set_option('display.max_colwidth', None)"
   ]
  },
  {
   "cell_type": "code",
   "execution_count": 5,
   "id": "75c60360",
   "metadata": {
    "execution": {
     "iopub.execute_input": "2025-01-14T15:22:22.730680Z",
     "iopub.status.busy": "2025-01-14T15:22:22.729972Z",
     "iopub.status.idle": "2025-01-14T15:22:22.777194Z",
     "shell.execute_reply": "2025-01-14T15:22:22.776203Z"
    },
    "papermill": {
     "duration": 0.059811,
     "end_time": "2025-01-14T15:22:22.779073",
     "exception": false,
     "start_time": "2025-01-14T15:22:22.719262",
     "status": "completed"
    },
    "tags": []
   },
   "outputs": [
    {
     "data": {
      "text/html": [
       "<div>\n",
       "<style scoped>\n",
       "    .dataframe tbody tr th:only-of-type {\n",
       "        vertical-align: middle;\n",
       "    }\n",
       "\n",
       "    .dataframe tbody tr th {\n",
       "        vertical-align: top;\n",
       "    }\n",
       "\n",
       "    .dataframe thead th {\n",
       "        text-align: right;\n",
       "    }\n",
       "</style>\n",
       "<table border=\"1\" class=\"dataframe\">\n",
       "  <thead>\n",
       "    <tr style=\"text-align: right;\">\n",
       "      <th></th>\n",
       "      <th>Tipo esercizio pa</th>\n",
       "      <th>Ubicazione</th>\n",
       "      <th>Tipo via</th>\n",
       "      <th>Via</th>\n",
       "      <th>Civico</th>\n",
       "      <th>Codice via</th>\n",
       "      <th>ZD</th>\n",
       "      <th>Prevalente</th>\n",
       "      <th>Superficie altri usi</th>\n",
       "      <th>Superficie lavorativa</th>\n",
       "    </tr>\n",
       "  </thead>\n",
       "  <tbody>\n",
       "    <tr>\n",
       "      <th>0</th>\n",
       "      <td>NaN</td>\n",
       "      <td>LGO DEI GELSOMINI N. 10 (z.d. 6)</td>\n",
       "      <td>LGO</td>\n",
       "      <td>DEI GELSOMINI</td>\n",
       "      <td>10</td>\n",
       "      <td>5394.0</td>\n",
       "      <td>6</td>\n",
       "      <td>NaN</td>\n",
       "      <td>NaN</td>\n",
       "      <td>55.0</td>\n",
       "    </tr>\n",
       "    <tr>\n",
       "      <th>1</th>\n",
       "      <td>NaN</td>\n",
       "      <td>PZA FIDIA N. 3 (z.d. 9)</td>\n",
       "      <td>PZA</td>\n",
       "      <td>FIDIA</td>\n",
       "      <td>3</td>\n",
       "      <td>1144.0</td>\n",
       "      <td>9</td>\n",
       "      <td>CENTRO MASSAGGI RILASSANTI NON ESTETICI</td>\n",
       "      <td>2.0</td>\n",
       "      <td>28.0</td>\n",
       "    </tr>\n",
       "    <tr>\n",
       "      <th>2</th>\n",
       "      <td>NaN</td>\n",
       "      <td>VIA ADIGE N. 10 (z.d. 5)</td>\n",
       "      <td>VIA</td>\n",
       "      <td>ADIGE</td>\n",
       "      <td>10</td>\n",
       "      <td>4216.0</td>\n",
       "      <td>5</td>\n",
       "      <td>CENTRO BENESSERE</td>\n",
       "      <td>2.0</td>\n",
       "      <td>27.0</td>\n",
       "    </tr>\n",
       "    <tr>\n",
       "      <th>3</th>\n",
       "      <td>NaN</td>\n",
       "      <td>VIA BARACCHINI FLAVIO N. 9 (z.d. 1)</td>\n",
       "      <td>VIA</td>\n",
       "      <td>BARACCHINI FLAVIO</td>\n",
       "      <td>9</td>\n",
       "      <td>356.0</td>\n",
       "      <td>1</td>\n",
       "      <td>TRUCCO SEMIPERMANENTE</td>\n",
       "      <td>NaN</td>\n",
       "      <td>NaN</td>\n",
       "    </tr>\n",
       "    <tr>\n",
       "      <th>4</th>\n",
       "      <td>NaN</td>\n",
       "      <td>VIA BERGAMO N. 12 (z.d. 4)</td>\n",
       "      <td>VIA</td>\n",
       "      <td>BERGAMO</td>\n",
       "      <td>12</td>\n",
       "      <td>3189.0</td>\n",
       "      <td>4</td>\n",
       "      <td>NaN</td>\n",
       "      <td>NaN</td>\n",
       "      <td>50.0</td>\n",
       "    </tr>\n",
       "  </tbody>\n",
       "</table>\n",
       "</div>"
      ],
      "text/plain": [
       "  Tipo esercizio pa                           Ubicazione Tipo via  \\\n",
       "0               NaN     LGO DEI GELSOMINI N. 10 (z.d. 6)      LGO   \n",
       "1               NaN              PZA FIDIA N. 3 (z.d. 9)      PZA   \n",
       "2               NaN             VIA ADIGE N. 10 (z.d. 5)      VIA   \n",
       "3               NaN  VIA BARACCHINI FLAVIO N. 9 (z.d. 1)      VIA   \n",
       "4               NaN           VIA BERGAMO N. 12 (z.d. 4)      VIA   \n",
       "\n",
       "                 Via Civico  Codice via ZD  \\\n",
       "0      DEI GELSOMINI     10      5394.0  6   \n",
       "1              FIDIA      3      1144.0  9   \n",
       "2              ADIGE     10      4216.0  5   \n",
       "3  BARACCHINI FLAVIO      9       356.0  1   \n",
       "4            BERGAMO     12      3189.0  4   \n",
       "\n",
       "                                Prevalente  Superficie altri usi  \\\n",
       "0                                      NaN                   NaN   \n",
       "1  CENTRO MASSAGGI RILASSANTI NON ESTETICI                   2.0   \n",
       "2                         CENTRO BENESSERE                   2.0   \n",
       "3                    TRUCCO SEMIPERMANENTE                   NaN   \n",
       "4                                      NaN                   NaN   \n",
       "\n",
       "   Superficie lavorativa  \n",
       "0                   55.0  \n",
       "1                   28.0  \n",
       "2                   27.0  \n",
       "3                    NaN  \n",
       "4                   50.0  "
      ]
     },
     "execution_count": 5,
     "metadata": {},
     "output_type": "execute_result"
    }
   ],
   "source": [
    "SERVICES = pd.read_csv('/kaggle/working/DIQ_Project2024/data/raw/Comune-di-Milano-Servizi-alla-persona-parrucchieri-estetisti.csv',sep=';',encoding='unicode_escape')\n",
    "SERVICES.head()"
   ]
  },
  {
   "cell_type": "markdown",
   "id": "182475f5",
   "metadata": {
    "papermill": {
     "duration": 0.009303,
     "end_time": "2025-01-14T15:22:22.798167",
     "exception": false,
     "start_time": "2025-01-14T15:22:22.788864",
     "status": "completed"
    },
    "tags": []
   },
   "source": [
    "# Wrangling"
   ]
  },
  {
   "cell_type": "code",
   "execution_count": 6,
   "id": "4f2ad41f",
   "metadata": {
    "execution": {
     "iopub.execute_input": "2025-01-14T15:22:22.818573Z",
     "iopub.status.busy": "2025-01-14T15:22:22.818128Z",
     "iopub.status.idle": "2025-01-14T15:22:22.835563Z",
     "shell.execute_reply": "2025-01-14T15:22:22.834369Z"
    },
    "papermill": {
     "duration": 0.029826,
     "end_time": "2025-01-14T15:22:22.837477",
     "exception": false,
     "start_time": "2025-01-14T15:22:22.807651",
     "status": "completed"
    },
    "tags": []
   },
   "outputs": [
    {
     "data": {
      "text/html": [
       "<div>\n",
       "<style scoped>\n",
       "    .dataframe tbody tr th:only-of-type {\n",
       "        vertical-align: middle;\n",
       "    }\n",
       "\n",
       "    .dataframe tbody tr th {\n",
       "        vertical-align: top;\n",
       "    }\n",
       "\n",
       "    .dataframe thead th {\n",
       "        text-align: right;\n",
       "    }\n",
       "</style>\n",
       "<table border=\"1\" class=\"dataframe\">\n",
       "  <thead>\n",
       "    <tr style=\"text-align: right;\">\n",
       "      <th></th>\n",
       "      <th>t_es</th>\n",
       "      <th>ubic</th>\n",
       "      <th>t_via</th>\n",
       "      <th>via</th>\n",
       "      <th>civ</th>\n",
       "      <th>cod_via</th>\n",
       "      <th>zd</th>\n",
       "      <th>main</th>\n",
       "      <th>sup_alt</th>\n",
       "      <th>sup_lav</th>\n",
       "    </tr>\n",
       "  </thead>\n",
       "  <tbody>\n",
       "    <tr>\n",
       "      <th>0</th>\n",
       "      <td>NaN</td>\n",
       "      <td>LGO DEI GELSOMINI N. 10 (z.d. 6)</td>\n",
       "      <td>LGO</td>\n",
       "      <td>DEI GELSOMINI</td>\n",
       "      <td>10</td>\n",
       "      <td>5394.0</td>\n",
       "      <td>6</td>\n",
       "      <td>NaN</td>\n",
       "      <td>NaN</td>\n",
       "      <td>55.0</td>\n",
       "    </tr>\n",
       "    <tr>\n",
       "      <th>1</th>\n",
       "      <td>NaN</td>\n",
       "      <td>PZA FIDIA N. 3 (z.d. 9)</td>\n",
       "      <td>PZA</td>\n",
       "      <td>FIDIA</td>\n",
       "      <td>3</td>\n",
       "      <td>1144.0</td>\n",
       "      <td>9</td>\n",
       "      <td>CENTRO MASSAGGI RILASSANTI NON ESTETICI</td>\n",
       "      <td>2.0</td>\n",
       "      <td>28.0</td>\n",
       "    </tr>\n",
       "    <tr>\n",
       "      <th>2</th>\n",
       "      <td>NaN</td>\n",
       "      <td>VIA ADIGE N. 10 (z.d. 5)</td>\n",
       "      <td>VIA</td>\n",
       "      <td>ADIGE</td>\n",
       "      <td>10</td>\n",
       "      <td>4216.0</td>\n",
       "      <td>5</td>\n",
       "      <td>CENTRO BENESSERE</td>\n",
       "      <td>2.0</td>\n",
       "      <td>27.0</td>\n",
       "    </tr>\n",
       "    <tr>\n",
       "      <th>3</th>\n",
       "      <td>NaN</td>\n",
       "      <td>VIA BARACCHINI FLAVIO N. 9 (z.d. 1)</td>\n",
       "      <td>VIA</td>\n",
       "      <td>BARACCHINI FLAVIO</td>\n",
       "      <td>9</td>\n",
       "      <td>356.0</td>\n",
       "      <td>1</td>\n",
       "      <td>TRUCCO SEMIPERMANENTE</td>\n",
       "      <td>NaN</td>\n",
       "      <td>NaN</td>\n",
       "    </tr>\n",
       "    <tr>\n",
       "      <th>4</th>\n",
       "      <td>NaN</td>\n",
       "      <td>VIA BERGAMO N. 12 (z.d. 4)</td>\n",
       "      <td>VIA</td>\n",
       "      <td>BERGAMO</td>\n",
       "      <td>12</td>\n",
       "      <td>3189.0</td>\n",
       "      <td>4</td>\n",
       "      <td>NaN</td>\n",
       "      <td>NaN</td>\n",
       "      <td>50.0</td>\n",
       "    </tr>\n",
       "  </tbody>\n",
       "</table>\n",
       "</div>"
      ],
      "text/plain": [
       "  t_es                                 ubic t_via                via civ  \\\n",
       "0  NaN     LGO DEI GELSOMINI N. 10 (z.d. 6)   LGO      DEI GELSOMINI  10   \n",
       "1  NaN              PZA FIDIA N. 3 (z.d. 9)   PZA              FIDIA   3   \n",
       "2  NaN             VIA ADIGE N. 10 (z.d. 5)   VIA              ADIGE  10   \n",
       "3  NaN  VIA BARACCHINI FLAVIO N. 9 (z.d. 1)   VIA  BARACCHINI FLAVIO   9   \n",
       "4  NaN           VIA BERGAMO N. 12 (z.d. 4)   VIA            BERGAMO  12   \n",
       "\n",
       "   cod_via zd                                     main  sup_alt  sup_lav  \n",
       "0   5394.0  6                                      NaN      NaN     55.0  \n",
       "1   1144.0  9  CENTRO MASSAGGI RILASSANTI NON ESTETICI      2.0     28.0  \n",
       "2   4216.0  5                         CENTRO BENESSERE      2.0     27.0  \n",
       "3    356.0  1                    TRUCCO SEMIPERMANENTE      NaN      NaN  \n",
       "4   3189.0  4                                      NaN      NaN     50.0  "
      ]
     },
     "execution_count": 6,
     "metadata": {},
     "output_type": "execute_result"
    }
   ],
   "source": [
    "SERVICES = SERVICES.rename(columns={\n",
    "    'Tipo esercizio pa': 't_es',\n",
    "    'Ubicazione': 'ubic',\n",
    "    'Tipo via': 't_via',\n",
    "    'Via': 'via',\n",
    "    'Civico': 'civ',\n",
    "    'Codice via': 'cod_via',\n",
    "    'ZD': 'zd',\n",
    "    'Prevalente': 'main',\n",
    "    'Superficie altri usi': 'sup_alt',\n",
    "    'Superficie lavorativa': 'sup_lav'\n",
    "})\n",
    "\n",
    "new_SERVICES = SERVICES.copy()\n",
    "\n",
    "new_SERVICES.head()"
   ]
  },
  {
   "cell_type": "markdown",
   "id": "36330ac7",
   "metadata": {
    "papermill": {
     "duration": 0.009354,
     "end_time": "2025-01-14T15:22:22.856720",
     "exception": false,
     "start_time": "2025-01-14T15:22:22.847366",
     "status": "completed"
    },
    "tags": []
   },
   "source": [
    "## ZD"
   ]
  },
  {
   "cell_type": "code",
   "execution_count": 7,
   "id": "2ae69350",
   "metadata": {
    "execution": {
     "iopub.execute_input": "2025-01-14T15:22:22.877449Z",
     "iopub.status.busy": "2025-01-14T15:22:22.877016Z",
     "iopub.status.idle": "2025-01-14T15:22:22.885402Z",
     "shell.execute_reply": "2025-01-14T15:22:22.884497Z"
    },
    "papermill": {
     "duration": 0.020799,
     "end_time": "2025-01-14T15:22:22.887154",
     "exception": false,
     "start_time": "2025-01-14T15:22:22.866355",
     "status": "completed"
    },
    "tags": []
   },
   "outputs": [
    {
     "data": {
      "text/plain": [
       "array(['6', '9', '5', '1', '4', '2', '8', '3', nan, 'ACCONCIATORE', '7'],\n",
       "      dtype=object)"
      ]
     },
     "execution_count": 7,
     "metadata": {},
     "output_type": "execute_result"
    }
   ],
   "source": [
    "new_SERVICES.zd.unique()"
   ]
  },
  {
   "cell_type": "code",
   "execution_count": 8,
   "id": "81c28410",
   "metadata": {
    "execution": {
     "iopub.execute_input": "2025-01-14T15:22:22.908416Z",
     "iopub.status.busy": "2025-01-14T15:22:22.907988Z",
     "iopub.status.idle": "2025-01-14T15:22:22.921290Z",
     "shell.execute_reply": "2025-01-14T15:22:22.920199Z"
    },
    "papermill": {
     "duration": 0.025564,
     "end_time": "2025-01-14T15:22:22.922842",
     "exception": false,
     "start_time": "2025-01-14T15:22:22.897278",
     "status": "completed"
    },
    "tags": []
   },
   "outputs": [
    {
     "data": {
      "text/html": [
       "<div>\n",
       "<style scoped>\n",
       "    .dataframe tbody tr th:only-of-type {\n",
       "        vertical-align: middle;\n",
       "    }\n",
       "\n",
       "    .dataframe tbody tr th {\n",
       "        vertical-align: top;\n",
       "    }\n",
       "\n",
       "    .dataframe thead th {\n",
       "        text-align: right;\n",
       "    }\n",
       "</style>\n",
       "<table border=\"1\" class=\"dataframe\">\n",
       "  <thead>\n",
       "    <tr style=\"text-align: right;\">\n",
       "      <th></th>\n",
       "      <th>t_es</th>\n",
       "      <th>ubic</th>\n",
       "      <th>t_via</th>\n",
       "      <th>via</th>\n",
       "      <th>civ</th>\n",
       "      <th>cod_via</th>\n",
       "      <th>zd</th>\n",
       "      <th>main</th>\n",
       "      <th>sup_alt</th>\n",
       "      <th>sup_lav</th>\n",
       "    </tr>\n",
       "  </thead>\n",
       "  <tbody>\n",
       "    <tr>\n",
       "      <th>32</th>\n",
       "      <td>Acconciatore</td>\n",
       "      <td>CSO COMO N. 15 interno club f. conti</td>\n",
       "      <td>NaN</td>\n",
       "      <td>NaN</td>\n",
       "      <td>NaN</td>\n",
       "      <td>NaN</td>\n",
       "      <td>NaN</td>\n",
       "      <td>NaN</td>\n",
       "      <td>NaN</td>\n",
       "      <td>NaN</td>\n",
       "    </tr>\n",
       "    <tr>\n",
       "      <th>33</th>\n",
       "      <td>(z.d. 9)</td>\n",
       "      <td>CSO</td>\n",
       "      <td>COMO</td>\n",
       "      <td>15</td>\n",
       "      <td>1111</td>\n",
       "      <td>9.0</td>\n",
       "      <td>ACCONCIATORE</td>\n",
       "      <td>NaN</td>\n",
       "      <td>195.0</td>\n",
       "      <td>NaN</td>\n",
       "    </tr>\n",
       "  </tbody>\n",
       "</table>\n",
       "</div>"
      ],
      "text/plain": [
       "            t_es                                  ubic t_via  via   civ  \\\n",
       "32  Acconciatore  CSO COMO N. 15 interno club f. conti   NaN  NaN   NaN   \n",
       "33      (z.d. 9)                                   CSO  COMO   15  1111   \n",
       "\n",
       "    cod_via            zd main  sup_alt  sup_lav  \n",
       "32      NaN           NaN  NaN      NaN      NaN  \n",
       "33      9.0  ACCONCIATORE  NaN    195.0      NaN  "
      ]
     },
     "execution_count": 8,
     "metadata": {},
     "output_type": "execute_result"
    }
   ],
   "source": [
    "new_SERVICES.loc[32:33].head()"
   ]
  },
  {
   "cell_type": "markdown",
   "id": "9b4e3395",
   "metadata": {
    "papermill": {
     "duration": 0.009778,
     "end_time": "2025-01-14T15:22:22.943342",
     "exception": false,
     "start_time": "2025-01-14T15:22:22.933564",
     "status": "completed"
    },
    "tags": []
   },
   "source": [
    "Dropped the rows and added a new one."
   ]
  },
  {
   "cell_type": "code",
   "execution_count": 9,
   "id": "ea13d9fc",
   "metadata": {
    "execution": {
     "iopub.execute_input": "2025-01-14T15:22:22.964377Z",
     "iopub.status.busy": "2025-01-14T15:22:22.963975Z",
     "iopub.status.idle": "2025-01-14T15:22:22.992459Z",
     "shell.execute_reply": "2025-01-14T15:22:22.991520Z"
    },
    "papermill": {
     "duration": 0.041111,
     "end_time": "2025-01-14T15:22:22.994294",
     "exception": false,
     "start_time": "2025-01-14T15:22:22.953183",
     "status": "completed"
    },
    "tags": []
   },
   "outputs": [
    {
     "data": {
      "text/html": [
       "<div>\n",
       "<style scoped>\n",
       "    .dataframe tbody tr th:only-of-type {\n",
       "        vertical-align: middle;\n",
       "    }\n",
       "\n",
       "    .dataframe tbody tr th {\n",
       "        vertical-align: top;\n",
       "    }\n",
       "\n",
       "    .dataframe thead th {\n",
       "        text-align: right;\n",
       "    }\n",
       "</style>\n",
       "<table border=\"1\" class=\"dataframe\">\n",
       "  <thead>\n",
       "    <tr style=\"text-align: right;\">\n",
       "      <th></th>\n",
       "      <th>t_es</th>\n",
       "      <th>ubic</th>\n",
       "      <th>t_via</th>\n",
       "      <th>via</th>\n",
       "      <th>civ</th>\n",
       "      <th>cod_via</th>\n",
       "      <th>zd</th>\n",
       "      <th>main</th>\n",
       "      <th>sup_alt</th>\n",
       "      <th>sup_lav</th>\n",
       "    </tr>\n",
       "  </thead>\n",
       "  <tbody>\n",
       "    <tr>\n",
       "      <th>32</th>\n",
       "      <td>Acconciatore</td>\n",
       "      <td>CSO COMO N. 15 (z.d. 9)</td>\n",
       "      <td>CSO</td>\n",
       "      <td>CSO COMO</td>\n",
       "      <td>15</td>\n",
       "      <td>1111.0</td>\n",
       "      <td>9</td>\n",
       "      <td>ACCONCIATORE</td>\n",
       "      <td>NaN</td>\n",
       "      <td>195.0</td>\n",
       "    </tr>\n",
       "    <tr>\n",
       "      <th>33</th>\n",
       "      <td>Acconciatore</td>\n",
       "      <td>CSO DI PORTA NUOVA N. 46 ; (z.d. 1)</td>\n",
       "      <td>CSO</td>\n",
       "      <td>DI PORTA NUOVA</td>\n",
       "      <td>46</td>\n",
       "      <td>1044.0</td>\n",
       "      <td>1</td>\n",
       "      <td>NaN</td>\n",
       "      <td>NaN</td>\n",
       "      <td>34.0</td>\n",
       "    </tr>\n",
       "  </tbody>\n",
       "</table>\n",
       "</div>"
      ],
      "text/plain": [
       "            t_es                                 ubic t_via             via  \\\n",
       "32  Acconciatore              CSO COMO N. 15 (z.d. 9)   CSO        CSO COMO   \n",
       "33  Acconciatore  CSO DI PORTA NUOVA N. 46 ; (z.d. 1)   CSO  DI PORTA NUOVA   \n",
       "\n",
       "   civ  cod_via zd          main  sup_alt  sup_lav  \n",
       "32  15   1111.0  9  ACCONCIATORE      NaN    195.0  \n",
       "33  46   1044.0  1           NaN      NaN     34.0  "
      ]
     },
     "execution_count": 9,
     "metadata": {},
     "output_type": "execute_result"
    }
   ],
   "source": [
    "# New merged row\n",
    "merged_row = {\n",
    "    \"t_es\": \"Acconciatore\",\n",
    "    \"ubic\": \"CSO COMO N. 15 (z.d. 9)\",\n",
    "    \"t_via\": \"CSO\",\n",
    "    \"via\": \"CSO COMO\",\n",
    "    \"civ\": \"15\",\n",
    "    \"cod_via\": 1111.0,\n",
    "    \"zd\": \"9\",\n",
    "    \"main\": \"ACCONCIATORE\",\n",
    "    \"sup_alt\": np.nan,\n",
    "    \"sup_lav\": 195.0,\n",
    "}\n",
    "\n",
    "# Remove row at index 33 and replace row at index 32\n",
    "new_SERVICES = new_SERVICES.drop(index=33, errors='ignore')  # Drop row 33\n",
    "new_SERVICES.loc[32] = merged_row  # Add the merged row at index 32\n",
    "\n",
    "# Ensure correct row order and reset index if necessary\n",
    "new_SERVICES = new_SERVICES.sort_index().reset_index(drop=True)\n",
    "\n",
    "new_SERVICES.loc[32:33].head()"
   ]
  },
  {
   "cell_type": "code",
   "execution_count": 10,
   "id": "722ac97a",
   "metadata": {
    "execution": {
     "iopub.execute_input": "2025-01-14T15:22:23.016512Z",
     "iopub.status.busy": "2025-01-14T15:22:23.016087Z",
     "iopub.status.idle": "2025-01-14T15:22:23.025452Z",
     "shell.execute_reply": "2025-01-14T15:22:23.024306Z"
    },
    "papermill": {
     "duration": 0.022699,
     "end_time": "2025-01-14T15:22:23.027372",
     "exception": false,
     "start_time": "2025-01-14T15:22:23.004673",
     "status": "completed"
    },
    "tags": []
   },
   "outputs": [
    {
     "data": {
      "text/plain": [
       "array(['1', '2', '3', '4', '5', '6', '7', '8', '9'], dtype=object)"
      ]
     },
     "execution_count": 10,
     "metadata": {},
     "output_type": "execute_result"
    }
   ],
   "source": [
    "new_SERVICES.zd = new_SERVICES.zd.astype(str)\n",
    "np.sort(new_SERVICES['zd'].unique())"
   ]
  },
  {
   "cell_type": "markdown",
   "id": "78a0df47",
   "metadata": {
    "papermill": {
     "duration": 0.009771,
     "end_time": "2025-01-14T15:22:23.047517",
     "exception": false,
     "start_time": "2025-01-14T15:22:23.037746",
     "status": "completed"
    },
    "tags": []
   },
   "source": [
    "## T_ES"
   ]
  },
  {
   "cell_type": "code",
   "execution_count": 11,
   "id": "bbe72fba",
   "metadata": {
    "execution": {
     "iopub.execute_input": "2025-01-14T15:22:23.069154Z",
     "iopub.status.busy": "2025-01-14T15:22:23.068800Z",
     "iopub.status.idle": "2025-01-14T15:22:23.075945Z",
     "shell.execute_reply": "2025-01-14T15:22:23.074845Z"
    },
    "papermill": {
     "duration": 0.02013,
     "end_time": "2025-01-14T15:22:23.077801",
     "exception": false,
     "start_time": "2025-01-14T15:22:23.057671",
     "status": "completed"
    },
    "tags": []
   },
   "outputs": [
    {
     "data": {
      "text/plain": [
       "array([nan, 'Acconciatore', 'ACCONCIATORE',\n",
       "       'ACCONCIATORE;TIPO A ESTETICA MANUALE',\n",
       "       'ACCONCIATORE;TIPO A ESTETICA MANUALE;TIPO B CENTRO DI ABBRONZATURA',\n",
       "       'Acconciatore;TIPO A - REG.2003', 'ACCONCIATORE;TIPO A - REG.2003',\n",
       "       'Acconciatore;TIPO A - REG.2003;TIPO B CENTRO DI ABBRONZATURA',\n",
       "       'ACCONCIATORE;TIPO A - REG.2003;TIPO B CENTRO DI ABBRONZATURA',\n",
       "       'BARBIERE', 'Centro abbronzatura', 'Centro benessere',\n",
       "       'Centro benessere;TIPO A - REG.2003', 'Centro massaggi',\n",
       "       'Centro massaggi;Centro benessere',\n",
       "       'esecuzione di tatuaggi e piercing',\n",
       "       'Esecuzione di tatuaggi e piercing', 'Estetista',\n",
       "       'Estetista in profumeria;TIPO A ESTETICA MANUALE;TIPO D ESTET.APPAR.ELETTROMECC;TIPO C TRATT.ESTETICI DIMAGRIM',\n",
       "       'Estetista;Manicure;Pedicure estetico',\n",
       "       'Estetista;Parrucchiere per signora',\n",
       "       'Estetista;Pedicure estetico', 'Manicure;Parrucchiere per signora',\n",
       "       'Parrucchiere misto', 'Parrucchiere misto;TIPO A ESTETICA MANUALE',\n",
       "       'Parrucchiere misto;TIPO A - REG.2003',\n",
       "       'Parrucchiere misto;TIPO A - REG.2003;TIPO B CENTRO DI ABBRONZATURA',\n",
       "       'Parrucchiere per signora',\n",
       "       'Parrucchiere per signora;Acconciatore',\n",
       "       'Parrucchiere per signora;ACCONCIATORE',\n",
       "       'Parrucchiere per signora;ACCONCIATORE;TIPO A - REG.2003;TIPO B CENTRO DI ABBRONZATURA',\n",
       "       'Parrucchiere per signora;Parrucchiere per signora',\n",
       "       'Parrucchiere per signora;TIPO A-B-C-D',\n",
       "       'Parrucchiere per signora;TIPO A ESTETICA MANUALE',\n",
       "       'Parrucchiere per signora;TIPO A ESTETICA MANUALE;TIPO B CENTRO DI ABBRONZATURA',\n",
       "       'Parrucchiere per signora;TIPO A ESTETICA MANUALE;TIPO C TRATT.ESTETICI DIMAGRIM',\n",
       "       'Parrucchiere per signora;TIPO A ESTETICA MANUALE;TIPO C TRATT.ESTETICI DIMAGRIM;TIPO B CENTRO DI ABBRONZATURA',\n",
       "       'Parrucchiere per signora;TIPO A ESTETICA MANUALE;TIPO D ESTET.APPAR.ELETTROMECC;TIPO B CENTRO DI ABBRONZATURA',\n",
       "       'Parrucchiere per signora;TIPO A ESTETICA MANUALE;TIPO D ESTET.APPAR.ELETTROMECC;TIPO C TRATT.ESTETICI DIMAGRIM',\n",
       "       'Parrucchiere per signora;TIPO A ESTETICA MANUALE;TIPO D ESTET.APPAR.ELETTROMECC;TIPO C TRATT.ESTETICI DIMAGRIM;TIPO B CENTRO DI ABBRONZATURA',\n",
       "       'Parrucchiere per signora;TIPO A - REG.2003',\n",
       "       'Parrucchiere per signora;TIPO A - REG.2003;TIPO B CENTRO DI ABBRONZATURA',\n",
       "       'Parrucchiere per signora;TIPO C TRATT.ESTETICI DIMAGRIM',\n",
       "       'Parrucchiere per signora;TIPO D ESTET.APPAR.ELETTROMECC;TIPO C TRATT.ESTETICI DIMAGRIM',\n",
       "       'Parrucchiere per uomo', 'Parrucchiere per uomo;Acconciatore',\n",
       "       'Parrucchiere per uomo;Estetista',\n",
       "       'Parrucchiere per uomo;Manicure;Pedicure estetico',\n",
       "       'Parrucchiere per uomo;Parrucchiere per signora',\n",
       "       'Parrucchiere per uomo;Parrucchiere per signora;Parrucchiere misto',\n",
       "       'Parrucchiere per uomo;Parrucchiere per signora;Parrucchiere misto;TIPO A ESTETICA MANUALE;TIPO C TRATT.ESTETICI DIMAGRIM;TIPO B CENTRO DI ABBRONZATURA',\n",
       "       'Parrucchiere per uomo;Parrucchiere per signora;TIPO A-B-C-D',\n",
       "       'Parrucchiere per uomo;Parrucchiere per signora;TIPO A-B-C-D;Parrucchiere misto',\n",
       "       'Parrucchiere per uomo;Parrucchiere per signora;TIPO A ESTETICA MANUALE',\n",
       "       'Parrucchiere per uomo;Parrucchiere per signora;TIPO A ESTETICA MANUALE;TIPO B CENTRO DI ABBRONZATURA',\n",
       "       'Parrucchiere per uomo;Parrucchiere per signora;TIPO A ESTETICA MANUALE;TIPO C TRATT.ESTETICI DIMAGRIM',\n",
       "       'Parrucchiere per uomo;Parrucchiere per signora;TIPO A ESTETICA MANUALE;TIPO C TRATT.ESTETICI DIMAGRIM;TIPO B CENTRO DI ABBRONZATURA',\n",
       "       'Parrucchiere per uomo;Parrucchiere per signora;TIPO A ESTETICA MANUALE;TIPO D ESTET.APPAR.ELETTROMECC;TIPO C TRATT.ESTETICI DIMAGRIM',\n",
       "       'Parrucchiere per uomo;Parrucchiere per signora;TIPO A - REG.2003',\n",
       "       'Parrucchiere per uomo;Parrucchiere per signora;TIPO A - REG.2003;TIPO B CENTRO DI ABBRONZATURA',\n",
       "       'Parrucchiere per uomo;Pedicure estetico',\n",
       "       'Parrucchiere per uomo;TIPO A-B-C-D',\n",
       "       'Parrucchiere per uomo;TIPO A ESTETICA MANUALE',\n",
       "       'Parrucchiere per uomo;TIPO A ESTETICA MANUALE;TIPO B CENTRO DI ABBRONZATURA',\n",
       "       'Parrucchiere per uomo;TIPO A ESTETICA MANUALE;TIPO C TRATT.ESTETICI DIMAGRIM;TIPO B CENTRO DI ABBRONZATURA',\n",
       "       'Parrucchiere per uomo;TIPO A ESTETICA MANUALE;TIPO D ESTET.APPAR.ELETTROMECC;TIPO C TRATT.ESTETICI DIMAGRIM;TIPO B CENTRO DI ABBRONZATURA',\n",
       "       'Parrucchiere per uomo;TIPO A - REG.2003',\n",
       "       'Parrucchiere per uomo;TIPO A - REG.2003;TIPO B CENTRO DI ABBRONZATURA',\n",
       "       'Pedicure estetico',\n",
       "       'Pedicure estetico;TIPO C TRATT.ESTETICI DIMAGRIM', 'TIPO A-B-C-D',\n",
       "       'TIPO A-B-C-D;Acconciatore', 'TIPO A-B-C-D;ACCONCIATORE',\n",
       "       'TIPO A-B-C-D;Estetista in profumeria',\n",
       "       'TIPO A-B-C-D;Parrucchiere misto', 'TIPO A ESTETICA MANUALE',\n",
       "       'TIPO A ESTETICA MANUALE;Acconciatore',\n",
       "       'TIPO A ESTETICA MANUALE;Parrucchiere per signora',\n",
       "       'TIPO A ESTETICA MANUALE;TIPO B CENTRO DI ABBRONZATURA',\n",
       "       'TIPO A ESTETICA MANUALE;TIPO C TRATT.ESTETICI DIMAGRIM',\n",
       "       'TIPO A ESTETICA MANUALE;TIPO C TRATT.ESTETICI DIMAGRIM;TIPO B CENTRO DI ABBRONZATURA',\n",
       "       'TIPO A ESTETICA MANUALE;TIPO D ESTET.APPAR.ELETTROMECC',\n",
       "       'TIPO A ESTETICA MANUALE;TIPO D ESTET.APPAR.ELETTROMECC;TIPO B CENTRO DI ABBRONZATURA',\n",
       "       'TIPO A ESTETICA MANUALE;TIPO D ESTET.APPAR.ELETTROMECC;TIPO C TRATT.ESTETICI DIMAGRIM',\n",
       "       'TIPO A ESTETICA MANUALE;TIPO D ESTET.APPAR.ELETTROMECC;TIPO C TRATT.ESTETICI DIMAGRIM;TIPO B CENTRO DI ABBRONZATURA',\n",
       "       'TIPO A - REG.2003', 'TIPO A - REG.2003;Acconciatore',\n",
       "       'TIPO A - REG.2003;ACCONCIATORE',\n",
       "       'TIPO A - REG.2003;Centro benessere',\n",
       "       'TIPO A - REG.2003;Centro massaggi',\n",
       "       'TIPO A - REG.2003;esecuzione di tatuaggi e piercing',\n",
       "       'TIPO A - REG.2003;Parrucchiere per uomo',\n",
       "       'TIPO A - REG.2003;TIPO B CENTRO DI ABBRONZATURA',\n",
       "       'TIPO A - REG.2003;TIPO B CENTRO DI ABBRONZATURA;Acconciatore',\n",
       "       'TIPO A - REG.2003;TIPO B CENTRO DI ABBRONZATURA;ACCONCIATORE',\n",
       "       'TIPO B CENTRO DI ABBRONZATURA',\n",
       "       'TIPO B CENTRO DI ABBRONZATURA;TIPO A - REG.2003',\n",
       "       'TIPO C TRATT.ESTETICI DIMAGRIM',\n",
       "       'TIPO C TRATT.ESTETICI DIMAGRIM;TIPO B CENTRO DI ABBRONZATURA',\n",
       "       'TIPO D ESTET.APPAR.ELETTROMECC',\n",
       "       'TIPO D ESTET.APPAR.ELETTROMECC;TIPO C TRATT.ESTETICI DIMAGRIM',\n",
       "       'TIPO D ESTET.APPAR.ELETTROMECC;TIPO C TRATT.ESTETICI DIMAGRIM;TIPO B CENTRO DI ABBRONZATURA',\n",
       "       'Truccatore'], dtype=object)"
      ]
     },
     "execution_count": 11,
     "metadata": {},
     "output_type": "execute_result"
    }
   ],
   "source": [
    "new_SERVICES.t_es.unique()"
   ]
  },
  {
   "cell_type": "code",
   "execution_count": 12,
   "id": "a9e1b1e0",
   "metadata": {
    "execution": {
     "iopub.execute_input": "2025-01-14T15:22:23.101103Z",
     "iopub.status.busy": "2025-01-14T15:22:23.100711Z",
     "iopub.status.idle": "2025-01-14T15:22:23.125122Z",
     "shell.execute_reply": "2025-01-14T15:22:23.123975Z"
    },
    "papermill": {
     "duration": 0.03761,
     "end_time": "2025-01-14T15:22:23.127015",
     "exception": false,
     "start_time": "2025-01-14T15:22:23.089405",
     "status": "completed"
    },
    "tags": []
   },
   "outputs": [
    {
     "name": "stdout",
     "output_type": "stream",
     "text": [
      "ACCONCIATORE: 717\n",
      "Acconciatore: 190\n",
      "BARBIERE: 2\n",
      "Centro abbronzatura: 2\n",
      "Centro benessere: 29\n",
      "Centro massaggi: 139\n",
      "Esecuzione di tatuaggi e piercing: 5\n",
      "Estetista: 31\n",
      "Estetista in profumeria: 2\n",
      "Manicure: 3\n",
      "Parrucchiere misto: 105\n",
      "Parrucchiere per signora: 1213\n",
      "Parrucchiere per uomo: 518\n",
      "Pedicure estetico: 22\n",
      "TIPO A - REG.2003: 865\n",
      "TIPO A ESTETICA MANUALE: 263\n",
      "TIPO A-B-C-D: 88\n",
      "TIPO B CENTRO DI ABBRONZATURA: 603\n",
      "TIPO C TRATT.ESTETICI DIMAGRIM: 138\n",
      "TIPO D ESTET.APPAR.ELETTROMECC: 74\n",
      "Truccatore: 1\n",
      "esecuzione di tatuaggi e piercing: 19\n"
     ]
    }
   ],
   "source": [
    "# Ensure 't_es' column does not have NaN values and is treated as strings\n",
    "new_SERVICES[\"t_es\"] = new_SERVICES[\"t_es\"].fillna(\"\").astype(str)\n",
    "\n",
    "# Split the 't_es' column by ';' and flatten the resulting lists\n",
    "flattened_labels = [label.strip() for item in new_SERVICES[\"t_es\"] for label in item.split(\";\")]\n",
    "\n",
    "# Get the unique labels and sort them\n",
    "unique_labels = sorted(set(flattened_labels))\n",
    "\n",
    "# Initialize a dictionary to store counts\n",
    "label_counts = {label: 0 for label in unique_labels}\n",
    "\n",
    "# Loop through each row in the \"t_es\" column and count the occurrences of each label\n",
    "for entry in new_SERVICES['t_es'].dropna():  # Drop NaN values to avoid errors\n",
    "    for label in unique_labels:\n",
    "        if label in entry:\n",
    "            label_counts[label] += 1\n",
    "\n",
    "# Print the counts\n",
    "for label, count in label_counts.items():\n",
    "    if label != \"\":\n",
    "        print(f\"{label}: {count}\")"
   ]
  },
  {
   "cell_type": "code",
   "execution_count": 13,
   "id": "afc93367",
   "metadata": {
    "execution": {
     "iopub.execute_input": "2025-01-14T15:22:23.149671Z",
     "iopub.status.busy": "2025-01-14T15:22:23.149288Z",
     "iopub.status.idle": "2025-01-14T15:22:23.163965Z",
     "shell.execute_reply": "2025-01-14T15:22:23.163030Z"
    },
    "papermill": {
     "duration": 0.027859,
     "end_time": "2025-01-14T15:22:23.165658",
     "exception": false,
     "start_time": "2025-01-14T15:22:23.137799",
     "status": "completed"
    },
    "tags": []
   },
   "outputs": [],
   "source": [
    "# Mapping of original values to new values\n",
    "label_mapping = {\n",
    "    \"ACCONCIATORE\": \"Acconciatore\",\n",
    "    \"Acconciatore\": \"Acconciatore\",\n",
    "    \"BARBIERE\": \"Parrucchiere per Uomo\",\n",
    "    \"Centro abbronzatura\": \"Tipo B - Centro di Abbronzatura\",\n",
    "    \"Centro benessere\": \"Centro Benessere\",\n",
    "    \"Centro massaggi\": \"Centro Massaggi\",\n",
    "    \"Esecuzione di tatuaggi e piercing\": \"Esecuzione di Tatuaggi e Piercing\",\n",
    "    \"esecuzione di tatuaggi e piercing\": \"Esecuzione di Tatuaggi e Piercing\",\n",
    "    \"Estetista\": \"Tipo A - Estetica Manuale\",\n",
    "    \"Estetista in profumeria\": \"Tipo A - Estetica Manuale\",\n",
    "    \"Manicure\": \"Tipo A - Estetica Manuale\", # Assuming merge because there are just 4 'Manicure' values\n",
    "    \"Pedicure estetico\": \"Tipo A - Estetica Manuale\",\n",
    "    \"Parrucchiere per signora\": \"Parrucchiere per Donna\",\n",
    "    \"Parrucchiere per uomo\": \"Parrucchiere per Uomo\",\n",
    "    \"Truccatore\": \"Truccatore\",\n",
    "    \"TIPO A ESTETICA MANUALE\": \"Tipo A - Estetica Manuale\",\n",
    "    \"TIPO A - REG.2003\": \"Tipo A - Estetica Manuale\",\n",
    "    \"TIPO B CENTRO DI ABBRONZATURA\": \"Tipo B - Centro di Abbronzatura\",\n",
    "    \"TIPO C TRATT.ESTETICI DIMAGRIM\": \"Tipo C - Trattamenti Estetici Dimagrimento\",\n",
    "    \"TIPO D ESTET.APPAR.ELETTROMECC\": \"Tipo D - Estetica Apparati Elettromeccanici\",\n",
    "}\n",
    "\n",
    "# Define a function for handling composite labels within a cell\n",
    "def handle_composite_labels(value):\n",
    "    # If \"TIPO A-B-C-D\" exists, split and expand into individual components\n",
    "    if \"TIPO A-B-C-D\" in value:\n",
    "        value = value.replace(\"TIPO A-B-C-D\", \"; \".join([\n",
    "            \"Tipo A - Estetica Manuale\", \n",
    "            \"Tipo B - Centro di Abbronzatura\",\n",
    "            \"Tipo C - Trattamenti Estetici Dimagrimento\", \n",
    "            \"Tipo D - Estetica Apparati Elettromeccanici\"\n",
    "        ]))\n",
    "    if \"Parrucchiere misto\" in value:\n",
    "        value = value.replace(\"Parrucchiere misto\", \"; \".join([\n",
    "            \"Parrucchiere per Uomo\",\n",
    "            \"Parrucchiere per Donna\"\n",
    "        ]))\n",
    "    \n",
    "    return value\n",
    "\n",
    "# Apply composite label handling first\n",
    "new_SERVICES[\"t_es\"] = new_SERVICES[\"t_es\"].apply(handle_composite_labels)\n",
    "\n",
    "# Define a function to replace labels using the mapping\n",
    "def replace_multiple_labels(cell_value, label_mapping):\n",
    "    # Split the cell value by a delimiter (semicolon)\n",
    "    labels = cell_value.split(';')  # Adjust delimiter as necessary\n",
    "    # Strip whitespace and replace each label using the mapping\n",
    "    labels = [label_mapping.get(label.strip(), label.strip()) for label in labels]\n",
    "    \n",
    "    # Remove duplicates by converting to a set and then back to a list\n",
    "    labels = list(set(labels))  # Set ensures uniqueness, list keeps order\n",
    "    # Rejoin the labels with the same delimiter\n",
    "    return '; '.join(labels)\n",
    "\n",
    "# Now apply the mapping for individual labels\n",
    "new_SERVICES[\"t_es\"] = new_SERVICES[\"t_es\"].apply(lambda x: replace_multiple_labels(x, label_mapping))\n",
    "\n",
    "# Check the updated column\n",
    "# prova[\"t_es\"].unique()"
   ]
  },
  {
   "cell_type": "code",
   "execution_count": 14,
   "id": "00cf781a",
   "metadata": {
    "execution": {
     "iopub.execute_input": "2025-01-14T15:22:23.188088Z",
     "iopub.status.busy": "2025-01-14T15:22:23.187728Z",
     "iopub.status.idle": "2025-01-14T15:22:23.198839Z",
     "shell.execute_reply": "2025-01-14T15:22:23.197809Z"
    },
    "papermill": {
     "duration": 0.024208,
     "end_time": "2025-01-14T15:22:23.200428",
     "exception": false,
     "start_time": "2025-01-14T15:22:23.176220",
     "status": "completed"
    },
    "tags": []
   },
   "outputs": [
    {
     "name": "stdout",
     "output_type": "stream",
     "text": [
      "Unique Labels:\n",
      "\n",
      "Acconciatore\n",
      "Centro Benessere\n",
      "Centro Massaggi\n",
      "Esecuzione di Tatuaggi e Piercing\n",
      "Parrucchiere per Donna\n",
      "Parrucchiere per Uomo\n",
      "Tipo A - Estetica Manuale\n",
      "Tipo B - Centro di Abbronzatura\n",
      "Tipo C - Trattamenti Estetici Dimagrimento\n",
      "Tipo D - Estetica Apparati Elettromeccanici\n",
      "Truccatore\n"
     ]
    }
   ],
   "source": [
    "# Ensure 't_es' column does not have NaN values and is treated as strings\n",
    "new_SERVICES[\"t_es\"] = new_SERVICES[\"t_es\"].fillna(\"\").astype(str)\n",
    "\n",
    "# Split the 't_es' column by ';' and flatten the resulting lists\n",
    "flattened_labels = [label.strip() for item in new_SERVICES[\"t_es\"] for label in item.split(\";\")]\n",
    "\n",
    "# Get the unique labels and sort them\n",
    "unique_labels = sorted(set(flattened_labels))\n",
    "\n",
    "# Print the unique labels\n",
    "print(\"Unique Labels:\")\n",
    "for label in unique_labels:\n",
    "    print(label)"
   ]
  },
  {
   "cell_type": "code",
   "execution_count": 15,
   "id": "86d05f5b",
   "metadata": {
    "execution": {
     "iopub.execute_input": "2025-01-14T15:22:23.223370Z",
     "iopub.status.busy": "2025-01-14T15:22:23.222975Z",
     "iopub.status.idle": "2025-01-14T15:22:23.239193Z",
     "shell.execute_reply": "2025-01-14T15:22:23.237868Z"
    },
    "papermill": {
     "duration": 0.029528,
     "end_time": "2025-01-14T15:22:23.241020",
     "exception": false,
     "start_time": "2025-01-14T15:22:23.211492",
     "status": "completed"
    },
    "tags": []
   },
   "outputs": [
    {
     "name": "stdout",
     "output_type": "stream",
     "text": [
      "Acconciatore: 907\n",
      "Centro Benessere: 29\n",
      "Centro Massaggi: 139\n",
      "Esecuzione di Tatuaggi e Piercing: 24\n",
      "Parrucchiere per Donna: 1294\n",
      "Parrucchiere per Uomo: 601\n",
      "Tipo A - Estetica Manuale: 1266\n",
      "Tipo B - Centro di Abbronzatura: 693\n",
      "Tipo C - Trattamenti Estetici Dimagrimento: 226\n",
      "Tipo D - Estetica Apparati Elettromeccanici: 162\n",
      "Truccatore: 1\n"
     ]
    }
   ],
   "source": [
    "# Initialize a dictionary to store counts\n",
    "label_counts = {label: 0 for label in unique_labels}\n",
    "\n",
    "# Loop through each row in the \"t_es\" column and count the occurrences of each label\n",
    "for entry in new_SERVICES['t_es'].dropna():  # Drop NaN values to avoid errors\n",
    "    for label in unique_labels:\n",
    "        if label in entry:\n",
    "            label_counts[label] += 1\n",
    "\n",
    "# Print the counts\n",
    "for label, count in label_counts.items():\n",
    "    if label != \"\":\n",
    "        print(f\"{label}: {count}\")"
   ]
  },
  {
   "cell_type": "markdown",
   "id": "11321833",
   "metadata": {
    "papermill": {
     "duration": 0.010133,
     "end_time": "2025-01-14T15:22:23.262153",
     "exception": false,
     "start_time": "2025-01-14T15:22:23.252020",
     "status": "completed"
    },
    "tags": []
   },
   "source": [
    "Fix values of \"main\" column."
   ]
  },
  {
   "cell_type": "code",
   "execution_count": 16,
   "id": "60c67a64",
   "metadata": {
    "execution": {
     "iopub.execute_input": "2025-01-14T15:22:23.284580Z",
     "iopub.status.busy": "2025-01-14T15:22:23.284163Z",
     "iopub.status.idle": "2025-01-14T15:22:23.290746Z",
     "shell.execute_reply": "2025-01-14T15:22:23.289647Z"
    },
    "papermill": {
     "duration": 0.019762,
     "end_time": "2025-01-14T15:22:23.292551",
     "exception": false,
     "start_time": "2025-01-14T15:22:23.272789",
     "status": "completed"
    },
    "tags": []
   },
   "outputs": [
    {
     "data": {
      "text/plain": [
       "array([nan, 'CENTRO MASSAGGI RILASSANTI NON ESTETICI', 'CENTRO BENESSERE',\n",
       "       'TRUCCO SEMIPERMANENTE', 'ESTETICA TIPO A', 'CENTRO MASSAGGI',\n",
       "       'TATUAGGI E PIERCING', 'SERVIZI DI CENTRI PER IL BENESSERE FISICO',\n",
       "       'ESTETICA A', 'acconciatore', 'ACCONCIATORE',\n",
       "       'SERVIZI DEI SALONI DI BARBIERE E PARRUCCHIERE', 'Acconciatore',\n",
       "       'PARRUCCHIERE UOMO DONNA BARBIERE', 'PARRUCCHIERE', 'ACONCIATORE',\n",
       "       'ACCONCIATORE UOMO DONNA', 'acconciatore.',\n",
       "       'ACCONCIATORE E ESTETICA',\n",
       "       'CENTRO BENESSERE RILASSANTE NON ESTETICO',\n",
       "       'CENTRO PER IL BENESSERE FISICO',\n",
       "       'CENTTRO BENESSERE (ESCLUSI GLI STABILIMENTI TERMALI)',\n",
       "       'SERVIZI DEI CENTRI E STABIL. PER IL BENESSERE FISICO',\n",
       "       'STUDIO OLISTICO', 'CENTRO OLISTICO', 'centro massaggi',\n",
       "       'MASSAGGI RILASSANTI', 'CENTRO MASSAGI RILASSANTI NON ESTETICI',\n",
       "       'CENTRO MASSAGGI TUINA', 'CENTRO MASSAGGI RILASSANTI',\n",
       "       'SERVIZI DI CENTRI PER IL BENESSERE',\n",
       "       \"ATTIVITA' DI MASSAGGI RILASSANTI\", 'MASSAGGI',\n",
       "       'CENTRO MASSAGGI THAI RILASSANTI NON CURATIVI', 'centro benessere',\n",
       "       'ESECUZIONE DI TATUAGGI E PIERCING', 'TATUAGGIO',\n",
       "       'tatuaggi e piercing', 'TATUAGGIO E PIERCING',\n",
       "       'ESECUZIONE DI TATUAGGI', 'ESECUZIONE TATUAGGI', 'estetica A',\n",
       "       'ESTETISTA', 'ESTETICA', 'estetica tipo A',\n",
       "       'ESTETISTA MANICURE PEDICURE', 'estetista', 'estetica',\n",
       "       'APPLICAZIONE E DECORAZIONE UNGHIE ARTIFICIALE', 'ESTETICA a',\n",
       "       'RICOSTRUZIONE UNGHIE', 'ESTETICA - CENTRO BENESSERE',\n",
       "       'SERVIZI ORGANIZZATI CON SERVIZI DI SEGRETERIA',\n",
       "       'CENTRO MASSAGGI RILASSANTI ESTETICI', 'ESTETICA A CON TATUAGGI',\n",
       "       'estetica A e solarium', 'ESTETICA A e B', 'ESTETICA A E SOLARIUM',\n",
       "       'CENTRO ESTETICO - SOLARIUN', 'ESTETICA A E B', 'solarium',\n",
       "       'ESTETICA A B', 'SOLARIUM E ESTETICA DI TIPO A',\n",
       "       'ESTETICA TIPO A - B'], dtype=object)"
      ]
     },
     "execution_count": 16,
     "metadata": {},
     "output_type": "execute_result"
    }
   ],
   "source": [
    "new_SERVICES[\"main\"].unique()"
   ]
  },
  {
   "cell_type": "code",
   "execution_count": 17,
   "id": "ee77c864",
   "metadata": {
    "execution": {
     "iopub.execute_input": "2025-01-14T15:22:23.315990Z",
     "iopub.status.busy": "2025-01-14T15:22:23.315634Z",
     "iopub.status.idle": "2025-01-14T15:22:23.329044Z",
     "shell.execute_reply": "2025-01-14T15:22:23.328108Z"
    },
    "papermill": {
     "duration": 0.027134,
     "end_time": "2025-01-14T15:22:23.330767",
     "exception": false,
     "start_time": "2025-01-14T15:22:23.303633",
     "status": "completed"
    },
    "tags": []
   },
   "outputs": [],
   "source": [
    "# Ensure 't_es' column does not have NaN values and is treated as strings\n",
    "new_SERVICES[\"main\"] = new_SERVICES[\"main\"].fillna(\"\").astype(str)\n",
    "\n",
    "mapping = {\n",
    "    'CENTRO MASSAGGI RILASSANTI NON ESTETICI': 'Centro Massaggi',\n",
    "    'CENTRO MASSAGGI': 'Centro Massaggi',\n",
    "    'MASSAGGI RILASSANTI': 'Centro Massaggi',\n",
    "    'CENTRO MASSAGGI TUINA': 'Centro Massaggi',\n",
    "    'CENTRO MASSAGGI RILASSANTI': 'Centro Massaggi',\n",
    "    'CENTRO MASSAGI RILASSANTI NON ESTETICI': 'Centro Massaggi', \n",
    "    \"ATTIVITA' DI MASSAGGI RILASSANTI\": 'Centro Massaggi',\n",
    "    'MASSAGGI': 'Centro Massaggi',\n",
    "    'centro massaggi': 'Centro Massaggi',\n",
    "    'CENTRO MASSAGGI THAI RILASSANTI NON CURATIVI': 'Centro Massaggi',\n",
    "    'CENTRO MASSAGGI RILASSANTI ESTETICI': 'Tipo A - Estetica Manuale; Centro Massaggi',\n",
    "    'CENTRO BENESSERE': 'Centro Benessere',\n",
    "    'centro benessere': 'Centro Benessere',\n",
    "    'CENTRO PER IL BENESSERE FISICO': 'Centro Benessere',\n",
    "    'CENTTRO BENESSERE (ESCLUSI GLI STABILIMENTI TERMALI)': 'Centro Benessere',\n",
    "    'CENTRO BENESSERE RILASSANTE NON ESTETICO': 'Centro Benessere',\n",
    "    'SERVIZI DI CENTRI PER IL BENESSERE FISICO': 'Centro Benessere',\n",
    "    'SERVIZI DI CENTRI PER IL BENESSERE': 'Centro Benessere',\n",
    "    'SERVIZI DEI CENTRI E STABIL. PER IL BENESSERE FISICO': 'Centro Benessere',\n",
    "    'STUDIO OLISTICO': 'Centro Massaggi',\n",
    "    'CENTRO OLISTICO': 'Centro Massaggi',\n",
    "    'SERVIZI ORGANIZZATI CON SERVIZI DI SEGRETERIA': 'Tipo A - Estetica Manuale; Centro Massaggi',\n",
    "    'TRUCCO SEMIPERMANENTE': 'Truccatore',\n",
    "    'TRUCCATORE': 'Truccatore',\n",
    "    'TATUAGGI E PIERCING': 'Esecuzione di Tatuaggi e Piercing',\n",
    "    'ESECUZIONE DI TATUAGGI E PIERCING': 'Esecuzione di Tatuaggi e Piercing',\n",
    "    'TATUAGGIO': 'Esecuzione di Tatuaggi e Piercing',\n",
    "    'TATUAGGIO E PIERCING': 'Esecuzione di Tatuaggi e Piercing',\n",
    "    'ESECUZIONE DI TATUAGGI': 'Esecuzione di Tatuaggi e Piercing',\n",
    "    'ESECUZIONE TATUAGGI': 'Esecuzione di Tatuaggi e Piercing',\n",
    "    'tatuaggi e piercing': 'Esecuzione di Tatuaggi e Piercing',\n",
    "    'ACCONCIATORE': 'Acconciatore',\n",
    "    'acconciatore': 'Acconciatore',\n",
    "    'acconciatore.': 'Acconciatore',\n",
    "    'ACONCIATORE': 'Acconciatore',\n",
    "    'ACCONCIATORE UOMO DONNA': 'Acconciatore',\n",
    "    'ACCONCIATORE E ESTETICA': 'Acconciatore; Tipo A - Estetica Manuale',\n",
    "    'SERVIZI DEI SALONI DI BARBIERE E PARRUCCHIERE': 'Acconciatore',\n",
    "    'PARRUCCHIERE UOMO DONNA BARBIERE': 'Acconciatore',\n",
    "    'PARRUCCHIERE': 'Acconciatore',\n",
    "    'ESTETISTA': 'Tipo A - Estetica Manuale',\n",
    "    'ESTETICA': 'Tipo A - Estetica Manuale',\n",
    "    'ESTETICA TIPO A': 'Tipo A - Estetica Manuale',\n",
    "    'estetica tipo A': 'Tipo A - Estetica Manuale',\n",
    "    'ESTETISTA MANICURE PEDICURE': 'Tipo A - Estetica Manuale',\n",
    "    'estetista': 'Tipo A - Estetica Manuale',\n",
    "    'estetica': 'Tipo A - Estetica Manuale',\n",
    "    'APPLICAZIONE E DECORAZIONE UNGHIE ARTIFICIALE': 'Tipo A - Estetica Manuale',\n",
    "    'RICOSTRUZIONE UNGHIE': 'Tipo A - Estetica Manuale',\n",
    "    'ESTETICA - CENTRO BENESSERE': 'Tipo A - Estetica Manuale; Centro Benessere',\n",
    "    'ESTETICA A': 'Tipo A - Estetica Manuale',\n",
    "    'estetica A': 'Tipo A - Estetica Manuale',\n",
    "    'ESTETICA a': 'Tipo A - Estetica Manuale',\n",
    "    'ESTETICA A E SOLARIUM': 'Tipo A - Estetica Manuale; Tipo B - Centro di Abbronzatura',\n",
    "    'solarium': 'Tipo B - Centro di Abbronzatura', \n",
    "    'ESTETICA A CON TATUAGGI': 'Tipo A - Estetica Manuale; Esecuzione di Tatuaggi e Piercing',\n",
    "    'ESTETICA A e B': 'Tipo A - Estetica Manuale; Tipo B - Centro di Abbronzatura',\n",
    "    'ESTETICA A B': 'Tipo A - Estetica Manuale; Tipo B - Centro di Abbronzatura',\n",
    "    'ESTETICA A E B': 'Tipo A - Estetica Manuale; Tipo B - Centro di Abbronzatura',\n",
    "    'estetica A e solarium': 'Tipo A - Estetica Manuale; Tipo B - Centro di Abbronzatura',\n",
    "    'SOLARIUM': 'Tipo B - Centro di Abbronzatura',\n",
    "    'SOLARIUM E ESTETICA DI TIPO A': 'Tipo A - Estetica Manuale; Tipo B - Centro di Abbronzatura',\n",
    "    'ESTETICA TIPO A - B': 'Tipo A - Estetica Manuale; Tipo B - Centro di Abbronzatura',\n",
    "    'CENTRO ESTETICO - SOLARIUN': 'Tipo A - Estetica Manuale; Tipo B - Centro di Abbronzatura'\n",
    "}\n",
    "\n",
    "def replace_multiple_labels(cell_value, label_mapping):\n",
    "    # Split the cell value by a delimiter (semicolon)\n",
    "    labels = cell_value.split(';')  # Adjust delimiter as necessary\n",
    "    # Strip whitespace and replace each label using the mapping\n",
    "    labels = [label_mapping.get(label.strip(), label.strip()) for label in labels]\n",
    "    # Join the labels back with the same delimiter\n",
    "    return ';'.join(labels)\n",
    "\n",
    "# Now apply the mapping for individual labels\n",
    "new_SERVICES[\"main\"] = new_SERVICES[\"main\"].apply(lambda x: replace_multiple_labels(x, mapping))"
   ]
  },
  {
   "cell_type": "code",
   "execution_count": 18,
   "id": "97e48d7c",
   "metadata": {
    "execution": {
     "iopub.execute_input": "2025-01-14T15:22:23.354157Z",
     "iopub.status.busy": "2025-01-14T15:22:23.353800Z",
     "iopub.status.idle": "2025-01-14T15:22:23.360855Z",
     "shell.execute_reply": "2025-01-14T15:22:23.359490Z"
    },
    "papermill": {
     "duration": 0.020966,
     "end_time": "2025-01-14T15:22:23.362709",
     "exception": false,
     "start_time": "2025-01-14T15:22:23.341743",
     "status": "completed"
    },
    "tags": []
   },
   "outputs": [
    {
     "data": {
      "text/plain": [
       "array(['', 'Centro Massaggi', 'Centro Benessere', 'Truccatore',\n",
       "       'Tipo A - Estetica Manuale', 'Esecuzione di Tatuaggi e Piercing',\n",
       "       'Acconciatore', 'Acconciatore; Tipo A - Estetica Manuale',\n",
       "       'Tipo A - Estetica Manuale; Centro Benessere',\n",
       "       'Tipo A - Estetica Manuale; Centro Massaggi',\n",
       "       'Tipo A - Estetica Manuale; Esecuzione di Tatuaggi e Piercing',\n",
       "       'Tipo A - Estetica Manuale; Tipo B - Centro di Abbronzatura',\n",
       "       'Tipo B - Centro di Abbronzatura'], dtype=object)"
      ]
     },
     "execution_count": 18,
     "metadata": {},
     "output_type": "execute_result"
    }
   ],
   "source": [
    "new_SERVICES[\"main\"].unique()"
   ]
  },
  {
   "cell_type": "code",
   "execution_count": 19,
   "id": "8bacf259",
   "metadata": {
    "execution": {
     "iopub.execute_input": "2025-01-14T15:22:23.386407Z",
     "iopub.status.busy": "2025-01-14T15:22:23.385984Z",
     "iopub.status.idle": "2025-01-14T15:22:23.399757Z",
     "shell.execute_reply": "2025-01-14T15:22:23.398378Z"
    },
    "papermill": {
     "duration": 0.027487,
     "end_time": "2025-01-14T15:22:23.401485",
     "exception": false,
     "start_time": "2025-01-14T15:22:23.373998",
     "status": "completed"
    },
    "tags": []
   },
   "outputs": [
    {
     "name": "stdout",
     "output_type": "stream",
     "text": [
      "Acconciatore: 100\n",
      "Centro Benessere: 13\n",
      "Centro Massaggi: 98\n",
      "Esecuzione di Tatuaggi e Piercing: 19\n",
      "Tipo A - Estetica Manuale: 66\n",
      "Tipo B - Centro di Abbronzatura: 20\n",
      "Truccatore: 1\n"
     ]
    }
   ],
   "source": [
    "# Initialize a dictionary to store counts\n",
    "flattened_labels = [label.strip() for item in new_SERVICES[\"main\"] for label in item.split(\";\")]\n",
    "# Get the unique labels and sort them\n",
    "unique_main_labels = sorted(set(flattened_labels))\n",
    "\n",
    "label_counts = {label: 0 for label in unique_main_labels}\n",
    "\n",
    "# Loop through each row in the \"t_es\" column and count the occurrences of each label\n",
    "for entry in new_SERVICES['main'].dropna():  # Drop NaN values to avoid errors\n",
    "    for label in unique_main_labels:\n",
    "        if label in entry:\n",
    "            label_counts[label] += 1\n",
    "\n",
    "# Print the counts\n",
    "for label, count in label_counts.items():\n",
    "    if label != \"\":\n",
    "        print(f\"{label}: {count}\")"
   ]
  },
  {
   "cell_type": "markdown",
   "id": "a7d8d7fe",
   "metadata": {
    "papermill": {
     "duration": 0.011054,
     "end_time": "2025-01-14T15:22:23.423958",
     "exception": false,
     "start_time": "2025-01-14T15:22:23.412904",
     "status": "completed"
    },
    "tags": []
   },
   "source": [
    "## MAIN\n",
    "Move \"main\" values to \"t_es\" column in order to reduce the number of null values in \"t_es\" column. **(To add that we don't consider it very informative and it has too many values)**"
   ]
  },
  {
   "cell_type": "code",
   "execution_count": 20,
   "id": "c322c247",
   "metadata": {
    "execution": {
     "iopub.execute_input": "2025-01-14T15:22:23.447814Z",
     "iopub.status.busy": "2025-01-14T15:22:23.447428Z",
     "iopub.status.idle": "2025-01-14T15:22:23.503960Z",
     "shell.execute_reply": "2025-01-14T15:22:23.502795Z"
    },
    "papermill": {
     "duration": 0.07057,
     "end_time": "2025-01-14T15:22:23.505895",
     "exception": false,
     "start_time": "2025-01-14T15:22:23.435325",
     "status": "completed"
    },
    "tags": []
   },
   "outputs": [],
   "source": [
    "# Ensure both columns are strings and handle NaN values\n",
    "new_SERVICES['main'] = new_SERVICES['main'].fillna(\"\").astype(str)\n",
    "new_SERVICES['t_es'] = new_SERVICES['t_es'].fillna(\"\").astype(str)\n",
    "\n",
    "def update_t_es(row):\n",
    "    main_values = row['main'].split(\";\") if row['main'] else []\n",
    "    t_es_values = row['t_es'].split(\";\") if row['t_es'] else []\n",
    "    \n",
    "    # Remove extra whitespace around the labels\n",
    "    main_values = [value.strip() for value in main_values]\n",
    "    t_es_values = [value.strip() for value in t_es_values]\n",
    "    \n",
    "    # If t_es is empty, copy main values\n",
    "    if not t_es_values:\n",
    "        return \";\".join(main_values)\n",
    "    \n",
    "    # Add main labels that are not already in t_es\n",
    "    for main_value in main_values:\n",
    "        # Add the condition: If main is \"Acconciatore\" and t_es contains \"Parrucchiere per Uomo\" or \"Parrucchiere per Donna\", don't add\n",
    "        if main_value == \"Acconciatore\" and any(x in t_es_values for x in [\"Parrucchiere per Uomo\", \"Parrucchiere per Donna\"]):\n",
    "            continue\n",
    "        if main_value not in t_es_values:\n",
    "            t_es_values.append(main_value)\n",
    "    \n",
    "    # Return the updated t_es column as a semicolon-separated string\n",
    "    return \";\".join(t_es_values)\n",
    "\n",
    "# Apply the function row-wise\n",
    "new_SERVICES['t_es'] = new_SERVICES.apply(update_t_es, axis=1)"
   ]
  },
  {
   "cell_type": "code",
   "execution_count": 21,
   "id": "59627fb2",
   "metadata": {
    "execution": {
     "iopub.execute_input": "2025-01-14T15:22:23.529699Z",
     "iopub.status.busy": "2025-01-14T15:22:23.529352Z",
     "iopub.status.idle": "2025-01-14T15:22:23.536954Z",
     "shell.execute_reply": "2025-01-14T15:22:23.535882Z"
    },
    "papermill": {
     "duration": 0.021621,
     "end_time": "2025-01-14T15:22:23.538808",
     "exception": false,
     "start_time": "2025-01-14T15:22:23.517187",
     "status": "completed"
    },
    "tags": []
   },
   "outputs": [
    {
     "name": "stdout",
     "output_type": "stream",
     "text": [
      "The number of Nan in 't_es' column is 16.\n"
     ]
    }
   ],
   "source": [
    "new_SERVICES['t_es'] = new_SERVICES['t_es'].replace(\"\", float(\"nan\"))\n",
    "print(\"The number of Nan in 't_es' column is {}.\".format(sum(new_SERVICES[\"t_es\"].isnull())))"
   ]
  },
  {
   "cell_type": "markdown",
   "id": "6bd6ab8f",
   "metadata": {
    "papermill": {
     "duration": 0.010762,
     "end_time": "2025-01-14T15:22:23.561147",
     "exception": false,
     "start_time": "2025-01-14T15:22:23.550385",
     "status": "completed"
    },
    "tags": []
   },
   "source": [
    "Since \"Main\" info is incorporated in \"t_es\" column, we drop it."
   ]
  },
  {
   "cell_type": "code",
   "execution_count": 22,
   "id": "89740c9f",
   "metadata": {
    "execution": {
     "iopub.execute_input": "2025-01-14T15:22:23.584800Z",
     "iopub.status.busy": "2025-01-14T15:22:23.584414Z",
     "iopub.status.idle": "2025-01-14T15:22:23.592953Z",
     "shell.execute_reply": "2025-01-14T15:22:23.592014Z"
    },
    "papermill": {
     "duration": 0.022345,
     "end_time": "2025-01-14T15:22:23.594534",
     "exception": false,
     "start_time": "2025-01-14T15:22:23.572189",
     "status": "completed"
    },
    "tags": []
   },
   "outputs": [],
   "source": [
    "new_SERVICES = new_SERVICES.drop('main', axis=1)"
   ]
  },
  {
   "cell_type": "code",
   "execution_count": 23,
   "id": "ffd2fca5",
   "metadata": {
    "execution": {
     "iopub.execute_input": "2025-01-14T15:22:23.619246Z",
     "iopub.status.busy": "2025-01-14T15:22:23.618873Z",
     "iopub.status.idle": "2025-01-14T15:22:23.632448Z",
     "shell.execute_reply": "2025-01-14T15:22:23.631402Z"
    },
    "papermill": {
     "duration": 0.028198,
     "end_time": "2025-01-14T15:22:23.634197",
     "exception": false,
     "start_time": "2025-01-14T15:22:23.605999",
     "status": "completed"
    },
    "tags": []
   },
   "outputs": [
    {
     "data": {
      "text/html": [
       "<div>\n",
       "<style scoped>\n",
       "    .dataframe tbody tr th:only-of-type {\n",
       "        vertical-align: middle;\n",
       "    }\n",
       "\n",
       "    .dataframe tbody tr th {\n",
       "        vertical-align: top;\n",
       "    }\n",
       "\n",
       "    .dataframe thead th {\n",
       "        text-align: right;\n",
       "    }\n",
       "</style>\n",
       "<table border=\"1\" class=\"dataframe\">\n",
       "  <thead>\n",
       "    <tr style=\"text-align: right;\">\n",
       "      <th></th>\n",
       "      <th>t_es</th>\n",
       "      <th>ubic</th>\n",
       "      <th>t_via</th>\n",
       "      <th>via</th>\n",
       "      <th>civ</th>\n",
       "      <th>cod_via</th>\n",
       "      <th>zd</th>\n",
       "      <th>sup_alt</th>\n",
       "      <th>sup_lav</th>\n",
       "    </tr>\n",
       "  </thead>\n",
       "  <tbody>\n",
       "    <tr>\n",
       "      <th>0</th>\n",
       "      <td>NaN</td>\n",
       "      <td>LGO DEI GELSOMINI N. 10 (z.d. 6)</td>\n",
       "      <td>LGO</td>\n",
       "      <td>DEI GELSOMINI</td>\n",
       "      <td>10</td>\n",
       "      <td>5394.0</td>\n",
       "      <td>6</td>\n",
       "      <td>NaN</td>\n",
       "      <td>55.0</td>\n",
       "    </tr>\n",
       "    <tr>\n",
       "      <th>1</th>\n",
       "      <td>Centro Massaggi</td>\n",
       "      <td>PZA FIDIA N. 3 (z.d. 9)</td>\n",
       "      <td>PZA</td>\n",
       "      <td>FIDIA</td>\n",
       "      <td>3</td>\n",
       "      <td>1144.0</td>\n",
       "      <td>9</td>\n",
       "      <td>2.0</td>\n",
       "      <td>28.0</td>\n",
       "    </tr>\n",
       "    <tr>\n",
       "      <th>2</th>\n",
       "      <td>Centro Benessere</td>\n",
       "      <td>VIA ADIGE N. 10 (z.d. 5)</td>\n",
       "      <td>VIA</td>\n",
       "      <td>ADIGE</td>\n",
       "      <td>10</td>\n",
       "      <td>4216.0</td>\n",
       "      <td>5</td>\n",
       "      <td>2.0</td>\n",
       "      <td>27.0</td>\n",
       "    </tr>\n",
       "    <tr>\n",
       "      <th>3</th>\n",
       "      <td>Truccatore</td>\n",
       "      <td>VIA BARACCHINI FLAVIO N. 9 (z.d. 1)</td>\n",
       "      <td>VIA</td>\n",
       "      <td>BARACCHINI FLAVIO</td>\n",
       "      <td>9</td>\n",
       "      <td>356.0</td>\n",
       "      <td>1</td>\n",
       "      <td>NaN</td>\n",
       "      <td>NaN</td>\n",
       "    </tr>\n",
       "    <tr>\n",
       "      <th>4</th>\n",
       "      <td>NaN</td>\n",
       "      <td>VIA BERGAMO N. 12 (z.d. 4)</td>\n",
       "      <td>VIA</td>\n",
       "      <td>BERGAMO</td>\n",
       "      <td>12</td>\n",
       "      <td>3189.0</td>\n",
       "      <td>4</td>\n",
       "      <td>NaN</td>\n",
       "      <td>50.0</td>\n",
       "    </tr>\n",
       "  </tbody>\n",
       "</table>\n",
       "</div>"
      ],
      "text/plain": [
       "               t_es                                 ubic t_via  \\\n",
       "0               NaN     LGO DEI GELSOMINI N. 10 (z.d. 6)   LGO   \n",
       "1   Centro Massaggi              PZA FIDIA N. 3 (z.d. 9)   PZA   \n",
       "2  Centro Benessere             VIA ADIGE N. 10 (z.d. 5)   VIA   \n",
       "3        Truccatore  VIA BARACCHINI FLAVIO N. 9 (z.d. 1)   VIA   \n",
       "4               NaN           VIA BERGAMO N. 12 (z.d. 4)   VIA   \n",
       "\n",
       "                 via civ  cod_via zd  sup_alt  sup_lav  \n",
       "0      DEI GELSOMINI  10   5394.0  6      NaN     55.0  \n",
       "1              FIDIA   3   1144.0  9      2.0     28.0  \n",
       "2              ADIGE  10   4216.0  5      2.0     27.0  \n",
       "3  BARACCHINI FLAVIO   9    356.0  1      NaN      NaN  \n",
       "4            BERGAMO  12   3189.0  4      NaN     50.0  "
      ]
     },
     "execution_count": 23,
     "metadata": {},
     "output_type": "execute_result"
    }
   ],
   "source": [
    "new_SERVICES.head()"
   ]
  },
  {
   "cell_type": "markdown",
   "id": "6a2cc22d",
   "metadata": {
    "papermill": {
     "duration": 0.010961,
     "end_time": "2025-01-14T15:22:23.656766",
     "exception": false,
     "start_time": "2025-01-14T15:22:23.645805",
     "status": "completed"
    },
    "tags": []
   },
   "source": [
    "Drop rows labeled as \"Truccatore\" in \"t_es\", since the class is under-represented."
   ]
  },
  {
   "cell_type": "code",
   "execution_count": 24,
   "id": "37fad4d7",
   "metadata": {
    "execution": {
     "iopub.execute_input": "2025-01-14T15:22:23.680311Z",
     "iopub.status.busy": "2025-01-14T15:22:23.679938Z",
     "iopub.status.idle": "2025-01-14T15:22:23.685745Z",
     "shell.execute_reply": "2025-01-14T15:22:23.684928Z"
    },
    "papermill": {
     "duration": 0.019233,
     "end_time": "2025-01-14T15:22:23.687177",
     "exception": false,
     "start_time": "2025-01-14T15:22:23.667944",
     "status": "completed"
    },
    "tags": []
   },
   "outputs": [],
   "source": [
    "new_SERVICES = new_SERVICES[new_SERVICES[\"t_es\"] != \"Truccatore\"]"
   ]
  },
  {
   "cell_type": "markdown",
   "id": "98f20486",
   "metadata": {
    "papermill": {
     "duration": 0.010803,
     "end_time": "2025-01-14T15:22:23.709453",
     "exception": false,
     "start_time": "2025-01-14T15:22:23.698650",
     "status": "completed"
    },
    "tags": []
   },
   "source": [
    "## T_VIA"
   ]
  },
  {
   "cell_type": "code",
   "execution_count": 25,
   "id": "605bfb18",
   "metadata": {
    "execution": {
     "iopub.execute_input": "2025-01-14T15:22:23.734044Z",
     "iopub.status.busy": "2025-01-14T15:22:23.733525Z",
     "iopub.status.idle": "2025-01-14T15:22:23.740243Z",
     "shell.execute_reply": "2025-01-14T15:22:23.739188Z"
    },
    "papermill": {
     "duration": 0.021392,
     "end_time": "2025-01-14T15:22:23.742175",
     "exception": false,
     "start_time": "2025-01-14T15:22:23.720783",
     "status": "completed"
    },
    "tags": []
   },
   "outputs": [
    {
     "data": {
      "text/plain": [
       "array(['LGO', 'PZA', 'VIA', 'VLE', 'CSO', nan, 'COMO', 'PAS', 'PLE',\n",
       "       'ALZ', 'BST', 'FOR', 'VIE', 'VLO', 'GLL', 'RIP', 'PTA', 'SIT'],\n",
       "      dtype=object)"
      ]
     },
     "execution_count": 25,
     "metadata": {},
     "output_type": "execute_result"
    }
   ],
   "source": [
    "SERVICES.t_via.unique()"
   ]
  },
  {
   "cell_type": "code",
   "execution_count": 26,
   "id": "d27e5a62",
   "metadata": {
    "execution": {
     "iopub.execute_input": "2025-01-14T15:22:23.766568Z",
     "iopub.status.busy": "2025-01-14T15:22:23.766150Z",
     "iopub.status.idle": "2025-01-14T15:22:23.773003Z",
     "shell.execute_reply": "2025-01-14T15:22:23.771943Z"
    },
    "papermill": {
     "duration": 0.021014,
     "end_time": "2025-01-14T15:22:23.774888",
     "exception": false,
     "start_time": "2025-01-14T15:22:23.753874",
     "status": "completed"
    },
    "tags": []
   },
   "outputs": [
    {
     "data": {
      "text/plain": [
       "array(['LGO', 'PZA', 'VIA', 'VLE', 'CSO', 'PAS', 'PLE', 'ALZ', 'BST',\n",
       "       'FOR', 'VIE', 'VLO', 'GLL', 'RIP', 'PTA', 'SIT'], dtype=object)"
      ]
     },
     "execution_count": 26,
     "metadata": {},
     "output_type": "execute_result"
    }
   ],
   "source": [
    "new_SERVICES.t_via.unique()"
   ]
  },
  {
   "cell_type": "markdown",
   "id": "b5a82281",
   "metadata": {
    "papermill": {
     "duration": 0.011223,
     "end_time": "2025-01-14T15:22:23.797814",
     "exception": false,
     "start_time": "2025-01-14T15:22:23.786591",
     "status": "completed"
    },
    "tags": []
   },
   "source": [
    "## COD_VIA"
   ]
  },
  {
   "cell_type": "code",
   "execution_count": 27,
   "id": "03376cdd",
   "metadata": {
    "execution": {
     "iopub.execute_input": "2025-01-14T15:22:23.822399Z",
     "iopub.status.busy": "2025-01-14T15:22:23.822006Z",
     "iopub.status.idle": "2025-01-14T15:22:23.832110Z",
     "shell.execute_reply": "2025-01-14T15:22:23.830882Z"
    },
    "papermill": {
     "duration": 0.024077,
     "end_time": "2025-01-14T15:22:23.833774",
     "exception": false,
     "start_time": "2025-01-14T15:22:23.809697",
     "status": "completed"
    },
    "tags": []
   },
   "outputs": [
    {
     "name": "stdout",
     "output_type": "stream",
     "text": [
      "All values in 'cod_via' are floats.\n"
     ]
    }
   ],
   "source": [
    "# Check if any value in 'cod_via' is not a float\n",
    "non_float_values = SERVICES['cod_via'].apply(lambda x: not isinstance(x, float))\n",
    "if non_float_values.any():\n",
    "    print(\"There are non-float values in 'cod_via'.\")\n",
    "else:\n",
    "    print(\"All values in 'cod_via' are floats.\")\n",
    "\n",
    "new_SERVICES.cod_via = new_SERVICES.cod_via.astype(str) "
   ]
  },
  {
   "cell_type": "markdown",
   "id": "f8e5c58f",
   "metadata": {
    "papermill": {
     "duration": 0.01124,
     "end_time": "2025-01-14T15:22:23.856653",
     "exception": false,
     "start_time": "2025-01-14T15:22:23.845413",
     "status": "completed"
    },
    "tags": []
   },
   "source": [
    "## CIV"
   ]
  },
  {
   "cell_type": "code",
   "execution_count": 28,
   "id": "3ae1daab",
   "metadata": {
    "execution": {
     "iopub.execute_input": "2025-01-14T15:22:23.881825Z",
     "iopub.status.busy": "2025-01-14T15:22:23.881377Z",
     "iopub.status.idle": "2025-01-14T15:22:23.888677Z",
     "shell.execute_reply": "2025-01-14T15:22:23.887672Z"
    },
    "papermill": {
     "duration": 0.022332,
     "end_time": "2025-01-14T15:22:23.890503",
     "exception": false,
     "start_time": "2025-01-14T15:22:23.868171",
     "status": "completed"
    },
    "tags": []
   },
   "outputs": [
    {
     "data": {
      "text/plain": [
       "array(['10', '3', '12', '13', '39', '25', '6', '20', '30', '2', '67',\n",
       "       '16', '111', '36', '83', '5', '22', '23', '1', '4', '91', '8',\n",
       "       '19', '38', '15', '46', '54', '65', '103', '40', '29', '9', '32',\n",
       "       '7', '17', '27', '12A', '48', '61', '47', '232', '234', '57', '75',\n",
       "       '34', '150', '71', '55', '21', '6A', '163', '90', '14', '53', '70',\n",
       "       '119F', '26', '24', '40945', '128', '3B', '41', '64', '68', '35',\n",
       "       '49', '42', '99', '52', '72', '117', '79', '96', '58', '81', '112',\n",
       "       '93/1', '87', '63', '18', '123', '31', nan, '33', '11', '242',\n",
       "       '46D', '28', '80', '98', '59', '37', '43', '60', '50', '44', '246',\n",
       "       '326', '407', '410', '51', '110', '130', '131', '157', '174', '62',\n",
       "       '107', '73', '139', '147', '168', '213', '255', '279', '45', '77',\n",
       "       '4A', '187', '89', '207', '227', '244', '56', '100', '104', '74',\n",
       "       '66', '92', '108', '121', '76', '233', '249', '256', '267', '270',\n",
       "       '82', '116', '236', '69', '178', '143', '113', '129', '120', '154',\n",
       "       '235', '3A', '195', '5A', '243', '105', '179', '22A', '127', '333',\n",
       "       '124', '84', '102', '94', '8A', '85', '172', '158', '376', '220',\n",
       "       '101', '149', '169', '93', '141', '181', '201', '142', '182',\n",
       "       '186', '217', '288', '310', '126', '167', '184', '190', '193',\n",
       "       '218', '219', '86', '115', '273', '277', '309', '325', '78', '140',\n",
       "       '155', '283', '196', '175', '106', '109', '165', '328', '95',\n",
       "       '151', '191', '212', '114', '173', '177', '118', '145', '290',\n",
       "       '208', '324', '146', '2A', '1A', '197', '395', '135', '55B', '40A',\n",
       "       '133', '276', '180', '185', '261', '97', '11A', '260', '214',\n",
       "       '198', '265', '336'], dtype=object)"
      ]
     },
     "execution_count": 28,
     "metadata": {},
     "output_type": "execute_result"
    }
   ],
   "source": [
    "new_SERVICES.civ.unique()"
   ]
  },
  {
   "cell_type": "code",
   "execution_count": 29,
   "id": "ef1608f5",
   "metadata": {
    "execution": {
     "iopub.execute_input": "2025-01-14T15:22:23.916142Z",
     "iopub.status.busy": "2025-01-14T15:22:23.915790Z",
     "iopub.status.idle": "2025-01-14T15:22:23.928771Z",
     "shell.execute_reply": "2025-01-14T15:22:23.927711Z"
    },
    "papermill": {
     "duration": 0.027438,
     "end_time": "2025-01-14T15:22:23.930361",
     "exception": false,
     "start_time": "2025-01-14T15:22:23.902923",
     "status": "completed"
    },
    "tags": []
   },
   "outputs": [
    {
     "data": {
      "text/html": [
       "<div>\n",
       "<style scoped>\n",
       "    .dataframe tbody tr th:only-of-type {\n",
       "        vertical-align: middle;\n",
       "    }\n",
       "\n",
       "    .dataframe tbody tr th {\n",
       "        vertical-align: top;\n",
       "    }\n",
       "\n",
       "    .dataframe thead th {\n",
       "        text-align: right;\n",
       "    }\n",
       "</style>\n",
       "<table border=\"1\" class=\"dataframe\">\n",
       "  <thead>\n",
       "    <tr style=\"text-align: right;\">\n",
       "      <th></th>\n",
       "      <th>t_es</th>\n",
       "      <th>ubic</th>\n",
       "      <th>t_via</th>\n",
       "      <th>via</th>\n",
       "      <th>civ</th>\n",
       "      <th>cod_via</th>\n",
       "      <th>zd</th>\n",
       "      <th>sup_alt</th>\n",
       "      <th>sup_lav</th>\n",
       "    </tr>\n",
       "  </thead>\n",
       "  <tbody>\n",
       "    <tr>\n",
       "      <th>32</th>\n",
       "      <td>Acconciatore</td>\n",
       "      <td>CSO COMO N. 15 (z.d. 9)</td>\n",
       "      <td>CSO</td>\n",
       "      <td>CSO COMO</td>\n",
       "      <td>15</td>\n",
       "      <td>1111.0</td>\n",
       "      <td>9</td>\n",
       "      <td>NaN</td>\n",
       "      <td>195.0</td>\n",
       "    </tr>\n",
       "  </tbody>\n",
       "</table>\n",
       "</div>"
      ],
      "text/plain": [
       "            t_es                     ubic t_via       via civ cod_via zd  \\\n",
       "32  Acconciatore  CSO COMO N. 15 (z.d. 9)   CSO  CSO COMO  15  1111.0  9   \n",
       "\n",
       "    sup_alt  sup_lav  \n",
       "32      NaN    195.0  "
      ]
     },
     "execution_count": 29,
     "metadata": {},
     "output_type": "execute_result"
    }
   ],
   "source": [
    "new_SERVICES[new_SERVICES[\"via\"] == \"CSO COMO\"].head()"
   ]
  },
  {
   "cell_type": "markdown",
   "id": "2af74540",
   "metadata": {
    "papermill": {
     "duration": 0.011452,
     "end_time": "2025-01-14T15:22:23.954575",
     "exception": false,
     "start_time": "2025-01-14T15:22:23.943123",
     "status": "completed"
    },
    "tags": []
   },
   "source": [
    "## VIA: Removing Redundant Information from Records\n",
    "\n",
    "When processing records, some entries contain redundant information in the `via` column that matches part of the `t_via` column.\n",
    "To ensure consistency and follow a specific order, we remove the redundant portion.\n",
    "\n",
    "**Example**\n",
    "\n",
    "Given the following data:\n",
    "\n",
    "| t_es          | ubic                      | t_via | via      | civ | cod_via | zd | sup_alt | sup_lav |\n",
    "|---------------|---------------------------|-------|----------|-----|---------|----|---------|---------|\n",
    "| Acconciatore  | CSO COMO N. 15 (z.d. 9)  | CSO   | CSO COMO     | 15  | 1111.0  | 9  | NaN     | 195.0   |\n",
    "\n",
    "\n",
    "The updated record becomes:\n",
    "\n",
    "| t_es          | ubic                      | t_via | via      | civ | cod_via | zd | sup_alt | sup_lav |\n",
    "|---------------|---------------------------|-------|----------|-----|---------|----|---------|---------|\n",
    "| Acconciatore  | CSO COMO N. 15 (z.d. 9)  | CSO   | COMO     | 15  | 1111.0  | 9  | NaN     | 195.0   |\n",
    "\n",
    "\n",
    "In this transformation:\n",
    "- The `via` column value `CSO COMO` had the redundant prefix `CSO` matching the value in the `t_via` column.\n",
    "- The prefix was removed, leaving only the unique portion: `COMO`."
   ]
  },
  {
   "cell_type": "code",
   "execution_count": 30,
   "id": "b1e2c3d5",
   "metadata": {
    "execution": {
     "iopub.execute_input": "2025-01-14T15:22:23.980332Z",
     "iopub.status.busy": "2025-01-14T15:22:23.979953Z",
     "iopub.status.idle": "2025-01-14T15:22:24.044567Z",
     "shell.execute_reply": "2025-01-14T15:22:24.043351Z"
    },
    "papermill": {
     "duration": 0.079932,
     "end_time": "2025-01-14T15:22:24.046458",
     "exception": false,
     "start_time": "2025-01-14T15:22:23.966526",
     "status": "completed"
    },
    "tags": []
   },
   "outputs": [
    {
     "data": {
      "text/html": [
       "<div>\n",
       "<style scoped>\n",
       "    .dataframe tbody tr th:only-of-type {\n",
       "        vertical-align: middle;\n",
       "    }\n",
       "\n",
       "    .dataframe tbody tr th {\n",
       "        vertical-align: top;\n",
       "    }\n",
       "\n",
       "    .dataframe thead th {\n",
       "        text-align: right;\n",
       "    }\n",
       "</style>\n",
       "<table border=\"1\" class=\"dataframe\">\n",
       "  <thead>\n",
       "    <tr style=\"text-align: right;\">\n",
       "      <th></th>\n",
       "      <th>t_es</th>\n",
       "      <th>ubic</th>\n",
       "      <th>t_via</th>\n",
       "      <th>via</th>\n",
       "      <th>civ</th>\n",
       "      <th>cod_via</th>\n",
       "      <th>zd</th>\n",
       "      <th>sup_alt</th>\n",
       "      <th>sup_lav</th>\n",
       "    </tr>\n",
       "  </thead>\n",
       "  <tbody>\n",
       "    <tr>\n",
       "      <th>32</th>\n",
       "      <td>Acconciatore</td>\n",
       "      <td>CSO COMO N. 15 (z.d. 9)</td>\n",
       "      <td>CSO</td>\n",
       "      <td>COMO</td>\n",
       "      <td>15</td>\n",
       "      <td>1111.0</td>\n",
       "      <td>9</td>\n",
       "      <td>NaN</td>\n",
       "      <td>195.0</td>\n",
       "    </tr>\n",
       "  </tbody>\n",
       "</table>\n",
       "</div>"
      ],
      "text/plain": [
       "            t_es                     ubic t_via   via civ cod_via zd  sup_alt  \\\n",
       "32  Acconciatore  CSO COMO N. 15 (z.d. 9)   CSO  COMO  15  1111.0  9      NaN   \n",
       "\n",
       "    sup_lav  \n",
       "32    195.0  "
      ]
     },
     "execution_count": 30,
     "metadata": {},
     "output_type": "execute_result"
    }
   ],
   "source": [
    "new_SERVICES.via = new_SERVICES.via.fillna(\"\").astype(str)\n",
    "new_SERVICES.t_via = new_SERVICES.t_via.fillna(\"\").astype(str) \n",
    "\n",
    "# Function to remove the redundant prefix\n",
    "def clean_via(row):\n",
    "    if row[\"via\"].startswith(row[\"t_via\"] + \" \") and row[\"t_via\"] != \"\":  # Check if via starts with t_via\n",
    "        return row[\"via\"].replace(row[\"t_via\"] + \" \", \"\")  # Remove t_via + space\n",
    "    return row[\"via\"]  # Return original if no match\n",
    "\n",
    "# Apply the function to the 'via' column\n",
    "new_SERVICES[\"via\"] = new_SERVICES.apply(clean_via, axis=1)\n",
    "\n",
    "new_SERVICES[new_SERVICES.via == \"COMO\"].head(1)"
   ]
  },
  {
   "cell_type": "markdown",
   "id": "a772bf78",
   "metadata": {
    "papermill": {
     "duration": 0.011629,
     "end_time": "2025-01-14T15:22:24.070143",
     "exception": false,
     "start_time": "2025-01-14T15:22:24.058514",
     "status": "completed"
    },
    "tags": []
   },
   "source": [
    "## UBIC: Extraction and Structuring of Location Data\n",
    "We process the `ubic` field to extract and organize its contents into distinct components: `ubic_t_via` (street type), `ubic_via` (street name), `ubic_civ` (street number), `ubic_zd` (zone description), and `note` (additional information). This step allows us to compare these extracted values with the corresponding columns that share similar semantic meanings (`t_via`, `via`, `civ`, and `zd`). \n",
    "\n",
    "Once the comparison is complete, we remove the `ubic` field and its derived columns to eliminate redundancy. \n",
    "\n",
    "This approach ensures a cleaner and more structured dataset for further analysis.\n",
    "\n",
    "**Example**\n",
    "\n",
    "Given the following data:\n",
    "\n",
    "| t_es  | ubic | t_via | via | civ | cod_via | zd | sup_alt | sup_lav | \n",
    "|-------|------|-------|-----|-----|---------|----|---------|---------|\n",
    "| Tipo A - Estetica Manuale;Tipo C - Trattamenti Estetici Dimagrimento | ALZ NAVIGLIO PAVESE N. 8 int.attivita' di parrucchiere; (z.d. 6) | ALZ | NAVIGLIO PAVESE | 8 | 5161.0 | 6 | NaN | NaN |\n",
    "\n",
    "The updated record becomes:\n",
    "\n",
    "| t_es  | ubic | t_via | via | civ | cod_via | zd | sup_alt | sup_lav | ubic_t_via | ubic_via | ubic_civ | ubic_zd | note |\n",
    "|-------|------|-------|-----|-----|---------|----|---------|---------|------------|----------|----------|--------|------|\n",
    "| Tipo A - Estetica Manuale;Tipo C - Trattamenti Estetici Dimagrimento | ALZ NAVIGLIO PAVESE N. 8 int.attivita' di parrucchiere; (z.d. 6) | ALZ | NAVIGLIO PAVESE | 8 | 5161.0 | 6 | NaN | NaN | ALZ | NAVIGLIO PAVESE | 8 | 6 | int.attivita' di parrucchiere |\n",
    "\n",
    "**Explanation**:\n",
    "\n",
    "In this transformation:\n",
    "- The `via` column value `NAVIGLIO PAVESE` had the redundant prefix `ALZ` matching the value in the `t_via` column.\n",
    "- The prefix `ALZ` is removed from the `via` column, leaving the unique portion: `NAVIGLIO PAVESE`.\n",
    "- The `ubic` field remains the same in structure but is used to extract the relevant information, including the street name, number, and zone description, which are now placed in separate columns (`ubic_via`, `ubic_civ`, `ubic_zd`), while any additional information (e.g., `int.attivita' di parrucchiere`) is placed in the `note` column."
   ]
  },
  {
   "cell_type": "code",
   "execution_count": 31,
   "id": "f3e1b02e",
   "metadata": {
    "execution": {
     "iopub.execute_input": "2025-01-14T15:22:24.095538Z",
     "iopub.status.busy": "2025-01-14T15:22:24.095059Z",
     "iopub.status.idle": "2025-01-14T15:22:25.635295Z",
     "shell.execute_reply": "2025-01-14T15:22:25.634115Z"
    },
    "papermill": {
     "duration": 1.555368,
     "end_time": "2025-01-14T15:22:25.637340",
     "exception": false,
     "start_time": "2025-01-14T15:22:24.081972",
     "status": "completed"
    },
    "tags": []
   },
   "outputs": [],
   "source": [
    "new_SERVICES['ubic'] = new_SERVICES['ubic'].fillna(\"\").astype(str)\n",
    "\n",
    "def split_ubicazione(ubicazione):\n",
    "    # Initialize variables\n",
    "    tipo_via = np.nan\n",
    "    via = np.nan\n",
    "    civico = np.nan\n",
    "    zd = np.nan\n",
    "    note = np.nan\n",
    "\n",
    "    # Split the string into parts\n",
    "    parts = ubicazione.split(\" \")\n",
    "\n",
    "    # Extract \"Tipo Via\" (first word if valid)\n",
    "    if parts[0] in new_SERVICES.t_via.unique():\n",
    "        tipo_via = parts[0]\n",
    "        parts = parts[1:]  # Remove 'Tipo Via' from further processing\n",
    "\n",
    "    # Find \"Civico\" (number after \"N.\" or \"num.\")\n",
    "    match = re.search(r'\\b(?:N\\.|num\\.)\\s*([\\w]+)', ubicazione, re.IGNORECASE)\n",
    "    if match:\n",
    "        civico = match.group(1).strip(\";\")\n",
    "        parts = re.sub(r'\\b(?:N\\.|num\\.)\\s*[\\w]+', '', ubicazione).split()\n",
    "\n",
    "    # Extract \"ZD\" (zone description)\n",
    "    match_zd = re.search(r'\\(z\\.d\\.\\s*(\\d+)\\)', ubicazione, re.IGNORECASE)\n",
    "    if match_zd:\n",
    "        zd = match_zd.group(1)\n",
    "        parts = re.sub(r'\\(z\\.d\\.\\s*\\d+\\)', '', \" \".join(parts)).split()\n",
    "\n",
    "    # Identify and extract the \"Via\" (remaining uppercase parts)\n",
    "    via_parts = []\n",
    "    note_parts = []\n",
    "    for part in parts:\n",
    "        if part.isupper():  # Uppercase letters are part of \"Via\"\n",
    "            via_parts.append(part)\n",
    "        else:  # Lowercase letters are considered \"Note\"\n",
    "            note_parts.append(part)\n",
    "\n",
    "    # Construct the \"Via\" without the \"Tipo Via\"\n",
    "    via_parts = [part for part in via_parts if part != tipo_via]  # Remove 'tipo_via' from 'via_parts'\n",
    "    via = \" \".join(via_parts).strip()\n",
    "    note = \" \".join(note_parts).strip(\";\") if note_parts else np.nan\n",
    "    if note == \"\":\n",
    "        note = np.nan\n",
    "    \n",
    "    # Remove leading zeros unless the value contains alphabetic characters\n",
    "    if civico and civico.isdigit():\n",
    "        civico = str(int(civico))  # Remove leading zeros by converting to an integer\n",
    "    elif civico:  # Preserve alphanumeric strings like '012B'\n",
    "        civico = civico.lstrip(\"0\")  # Strip leading zeros but keep characters intact\n",
    "\n",
    "    return tipo_via, via, civico, zd, note\n",
    "\n",
    "# Apply the function to create new columns\n",
    "new_SERVICES[['ubic_t_via', 'ubic_via', 'ubic_civ', 'ubic_zd', 'note']] = new_SERVICES['ubic'].apply(lambda x: pd.Series(split_ubicazione(x)))"
   ]
  },
  {
   "cell_type": "markdown",
   "id": "7d5b3d81",
   "metadata": {
    "papermill": {
     "duration": 0.011599,
     "end_time": "2025-01-14T15:22:25.661380",
     "exception": false,
     "start_time": "2025-01-14T15:22:25.649781",
     "status": "completed"
    },
    "tags": []
   },
   "source": [
    "***To remove (we will do it directly at the end)***\n",
    "Starting to remove some values. Just to see in the csv how the rows with valid note appear."
   ]
  },
  {
   "cell_type": "code",
   "execution_count": 32,
   "id": "4e9ff156",
   "metadata": {
    "execution": {
     "iopub.execute_input": "2025-01-14T15:22:25.686979Z",
     "iopub.status.busy": "2025-01-14T15:22:25.686615Z",
     "iopub.status.idle": "2025-01-14T15:22:26.065209Z",
     "shell.execute_reply": "2025-01-14T15:22:26.064169Z"
    },
    "papermill": {
     "duration": 0.39372,
     "end_time": "2025-01-14T15:22:26.067203",
     "exception": false,
     "start_time": "2025-01-14T15:22:25.673483",
     "status": "completed"
    },
    "tags": []
   },
   "outputs": [
    {
     "data": {
      "text/html": [
       "<div>\n",
       "<style scoped>\n",
       "    .dataframe tbody tr th:only-of-type {\n",
       "        vertical-align: middle;\n",
       "    }\n",
       "\n",
       "    .dataframe tbody tr th {\n",
       "        vertical-align: top;\n",
       "    }\n",
       "\n",
       "    .dataframe thead th {\n",
       "        text-align: right;\n",
       "    }\n",
       "</style>\n",
       "<table border=\"1\" class=\"dataframe\">\n",
       "  <thead>\n",
       "    <tr style=\"text-align: right;\">\n",
       "      <th></th>\n",
       "      <th>t_es</th>\n",
       "      <th>ubic</th>\n",
       "      <th>t_via</th>\n",
       "      <th>via</th>\n",
       "      <th>civ</th>\n",
       "      <th>cod_via</th>\n",
       "      <th>zd</th>\n",
       "      <th>sup_alt</th>\n",
       "      <th>sup_lav</th>\n",
       "      <th>ubic_t_via</th>\n",
       "      <th>ubic_via</th>\n",
       "      <th>ubic_civ</th>\n",
       "      <th>ubic_zd</th>\n",
       "      <th>note</th>\n",
       "    </tr>\n",
       "  </thead>\n",
       "  <tbody>\n",
       "    <tr>\n",
       "      <th>0</th>\n",
       "      <td>NaN</td>\n",
       "      <td>LGO DEI GELSOMINI N. 10 (z.d. 6)</td>\n",
       "      <td>LGO</td>\n",
       "      <td>DEI GELSOMINI</td>\n",
       "      <td>10</td>\n",
       "      <td>5394.0</td>\n",
       "      <td>6</td>\n",
       "      <td>NaN</td>\n",
       "      <td>55.0</td>\n",
       "      <td>NaN</td>\n",
       "      <td>NaN</td>\n",
       "      <td>NaN</td>\n",
       "      <td>NaN</td>\n",
       "      <td>NaN</td>\n",
       "    </tr>\n",
       "    <tr>\n",
       "      <th>1</th>\n",
       "      <td>Centro Massaggi</td>\n",
       "      <td>PZA FIDIA N. 3 (z.d. 9)</td>\n",
       "      <td>PZA</td>\n",
       "      <td>FIDIA</td>\n",
       "      <td>3</td>\n",
       "      <td>1144.0</td>\n",
       "      <td>9</td>\n",
       "      <td>2.0</td>\n",
       "      <td>28.0</td>\n",
       "      <td>NaN</td>\n",
       "      <td>NaN</td>\n",
       "      <td>NaN</td>\n",
       "      <td>NaN</td>\n",
       "      <td>NaN</td>\n",
       "    </tr>\n",
       "    <tr>\n",
       "      <th>2</th>\n",
       "      <td>Centro Benessere</td>\n",
       "      <td>VIA ADIGE N. 10 (z.d. 5)</td>\n",
       "      <td>VIA</td>\n",
       "      <td>ADIGE</td>\n",
       "      <td>10</td>\n",
       "      <td>4216.0</td>\n",
       "      <td>5</td>\n",
       "      <td>2.0</td>\n",
       "      <td>27.0</td>\n",
       "      <td>NaN</td>\n",
       "      <td>NaN</td>\n",
       "      <td>NaN</td>\n",
       "      <td>NaN</td>\n",
       "      <td>NaN</td>\n",
       "    </tr>\n",
       "    <tr>\n",
       "      <th>4</th>\n",
       "      <td>NaN</td>\n",
       "      <td>VIA BERGAMO N. 12 (z.d. 4)</td>\n",
       "      <td>VIA</td>\n",
       "      <td>BERGAMO</td>\n",
       "      <td>12</td>\n",
       "      <td>3189.0</td>\n",
       "      <td>4</td>\n",
       "      <td>NaN</td>\n",
       "      <td>50.0</td>\n",
       "      <td>NaN</td>\n",
       "      <td>NaN</td>\n",
       "      <td>NaN</td>\n",
       "      <td>NaN</td>\n",
       "      <td>NaN</td>\n",
       "    </tr>\n",
       "    <tr>\n",
       "      <th>5</th>\n",
       "      <td>Centro Benessere</td>\n",
       "      <td>VIA BOTTEGO VITTORIO N. 13 (z.d. 2)</td>\n",
       "      <td>VIA</td>\n",
       "      <td>BOTTEGO VITTORIO</td>\n",
       "      <td>13</td>\n",
       "      <td>2521.0</td>\n",
       "      <td>2</td>\n",
       "      <td>5.0</td>\n",
       "      <td>90.0</td>\n",
       "      <td>NaN</td>\n",
       "      <td>NaN</td>\n",
       "      <td>NaN</td>\n",
       "      <td>NaN</td>\n",
       "      <td>NaN</td>\n",
       "    </tr>\n",
       "  </tbody>\n",
       "</table>\n",
       "</div>"
      ],
      "text/plain": [
       "               t_es                                 ubic t_via  \\\n",
       "0               NaN     LGO DEI GELSOMINI N. 10 (z.d. 6)   LGO   \n",
       "1   Centro Massaggi              PZA FIDIA N. 3 (z.d. 9)   PZA   \n",
       "2  Centro Benessere             VIA ADIGE N. 10 (z.d. 5)   VIA   \n",
       "4               NaN           VIA BERGAMO N. 12 (z.d. 4)   VIA   \n",
       "5  Centro Benessere  VIA BOTTEGO VITTORIO N. 13 (z.d. 2)   VIA   \n",
       "\n",
       "                via civ cod_via zd  sup_alt  sup_lav ubic_t_via ubic_via  \\\n",
       "0     DEI GELSOMINI  10  5394.0  6      NaN     55.0        NaN      NaN   \n",
       "1             FIDIA   3  1144.0  9      2.0     28.0        NaN      NaN   \n",
       "2             ADIGE  10  4216.0  5      2.0     27.0        NaN      NaN   \n",
       "4           BERGAMO  12  3189.0  4      NaN     50.0        NaN      NaN   \n",
       "5  BOTTEGO VITTORIO  13  2521.0  2      5.0     90.0        NaN      NaN   \n",
       "\n",
       "  ubic_civ ubic_zd note  \n",
       "0      NaN     NaN  NaN  \n",
       "1      NaN     NaN  NaN  \n",
       "2      NaN     NaN  NaN  \n",
       "4      NaN     NaN  NaN  \n",
       "5      NaN     NaN  NaN  "
      ]
     },
     "execution_count": 32,
     "metadata": {},
     "output_type": "execute_result"
    }
   ],
   "source": [
    "# Function to check conditions and set the values to empty if conditions are met\n",
    "def update_columns(row):\n",
    "    # Check if note is empty and the other columns match\n",
    "    if pd.isna(row['note']) and row['civ'] == row['ubic_civ'] and row['via'] == row['ubic_via'] and row['zd'] == row['ubic_zd']:\n",
    "        row['ubic_t_via'] = np.nan\n",
    "        row['ubic_via'] = np.nan\n",
    "        row['ubic_civ'] = np.nan\n",
    "        row['ubic_zd'] = np.nan\n",
    "    return row\n",
    "\n",
    "# Apply the function to update the columns\n",
    "new_SERVICES = new_SERVICES.apply(update_columns, axis=1)\n",
    "\n",
    "# Check the result\n",
    "new_SERVICES.head()"
   ]
  },
  {
   "cell_type": "code",
   "execution_count": 33,
   "id": "eb160b50",
   "metadata": {
    "execution": {
     "iopub.execute_input": "2025-01-14T15:22:26.093508Z",
     "iopub.status.busy": "2025-01-14T15:22:26.093107Z",
     "iopub.status.idle": "2025-01-14T15:22:26.121335Z",
     "shell.execute_reply": "2025-01-14T15:22:26.120300Z"
    },
    "papermill": {
     "duration": 0.043422,
     "end_time": "2025-01-14T15:22:26.123307",
     "exception": false,
     "start_time": "2025-01-14T15:22:26.079885",
     "status": "completed"
    },
    "tags": []
   },
   "outputs": [],
   "source": [
    "#Qui dentro si potranno visualizzare meglio le colonne.\n",
    "new_SERVICES.to_csv(\"new_final.csv\")"
   ]
  },
  {
   "cell_type": "code",
   "execution_count": 34,
   "id": "f0662ea3",
   "metadata": {
    "execution": {
     "iopub.execute_input": "2025-01-14T15:22:26.148821Z",
     "iopub.status.busy": "2025-01-14T15:22:26.148456Z",
     "iopub.status.idle": "2025-01-14T15:22:26.155137Z",
     "shell.execute_reply": "2025-01-14T15:22:26.154247Z"
    },
    "papermill": {
     "duration": 0.021081,
     "end_time": "2025-01-14T15:22:26.156701",
     "exception": false,
     "start_time": "2025-01-14T15:22:26.135620",
     "status": "completed"
    },
    "tags": []
   },
   "outputs": [
    {
     "data": {
      "text/plain": [
       "array(['10', '3', '9', '12', '13', '39', '25', '6', '20', '30', '2', '67',\n",
       "       '16', '111', '36', '83', '5', '22', '23', '1', '4', '91', '8',\n",
       "       '19', '38', nan, '1111', '46', '54', '65', '103', '40', '29', '32',\n",
       "       '7', '17', '27', '12A', '48', '61', '47', '15', '232', '234', '57',\n",
       "       '75', '34', '150', '71', '55', '21', '6A', '163', '90', '14', '53',\n",
       "       '70', '119F', '26', '24', '40945', '128', '3B', '41', '64', '68',\n",
       "       '35', '49', '42', '99', '52', '72', '117', '79', '96', '58', '81',\n",
       "       '112', '93/1', '87', '63', '18', '123', '31', '33', '11', '242',\n",
       "       '46D', '28', '80', '98', '59', '37', '43', '60', '50', '44', '246',\n",
       "       '326', '407', '410', '51', '110', '130', '131', '157', '174', '62',\n",
       "       '107', '73', '139', '147', '168', '213', '255', '279', '45', '77',\n",
       "       '4A', '187', '89', '207', '227', '244', '56', '100', '104', '74',\n",
       "       '66', '92', '108', '121', '76', '233', '249', '256', '267', '270',\n",
       "       '82', '116', '236', '69', '178', '143', '113', '129', '120', '154',\n",
       "       '235', '3A', '195', '5A', '243', '105', '179', '22A', '127', '333',\n",
       "       '124', '84', '102', '94', '8A', '85', '172', '158', '376', '220',\n",
       "       '101', '149', '169', '93', '141', '181', '201', '142', '182',\n",
       "       '186', '217', '288', '310', '126', '167', '184', '190', '193',\n",
       "       '218', '219', '86', '115', '273', '277', '309', '325', '78', '140',\n",
       "       '155', '283', '196', '175', '106', '109', '165', '328', '95',\n",
       "       '151', '191', '212', '114', '173', '177', '118', '145', '290',\n",
       "       '208', '324', '146', '2A', '1A', '197', '395', '135', '55B', '40A',\n",
       "       '133', '276', '180', '185', '261', '97', '11A', '260', '214',\n",
       "       '198', '265', '336'], dtype=object)"
      ]
     },
     "execution_count": 34,
     "metadata": {},
     "output_type": "execute_result"
    }
   ],
   "source": [
    "SERVICES.civ.unique()"
   ]
  }
 ],
 "metadata": {
  "kaggle": {
   "accelerator": "none",
   "dataSources": [],
   "dockerImageVersionId": 30822,
   "isGpuEnabled": false,
   "isInternetEnabled": true,
   "language": "python",
   "sourceType": "notebook"
  },
  "kernelspec": {
   "display_name": "Python 3",
   "language": "python",
   "name": "python3"
  },
  "language_info": {
   "codemirror_mode": {
    "name": "ipython",
    "version": 3
   },
   "file_extension": ".py",
   "mimetype": "text/x-python",
   "name": "python",
   "nbconvert_exporter": "python",
   "pygments_lexer": "ipython3",
   "version": "3.10.12"
  },
  "papermill": {
   "default_parameters": {},
   "duration": 8.434942,
   "end_time": "2025-01-14T15:22:26.790011",
   "environment_variables": {},
   "exception": null,
   "input_path": "__notebook__.ipynb",
   "output_path": "__notebook__.ipynb",
   "parameters": {},
   "start_time": "2025-01-14T15:22:18.355069",
   "version": "2.6.0"
  }
 },
 "nbformat": 4,
 "nbformat_minor": 5
}

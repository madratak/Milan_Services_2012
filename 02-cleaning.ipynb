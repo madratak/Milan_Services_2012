{
 "cells": [
  {
   "cell_type": "markdown",
   "id": "464ad38d",
   "metadata": {
    "papermill": {
     "duration": 0.01468,
     "end_time": "2025-01-14T01:11:15.503865",
     "exception": false,
     "start_time": "2025-01-14T01:11:15.489185",
     "status": "completed"
    },
    "tags": []
   },
   "source": [
    "# Import the repository from GitHub\n",
    "\n",
    "First of all we start by importing the repository that we stored in the github project."
   ]
  },
  {
   "cell_type": "code",
   "execution_count": 1,
   "id": "3c03bb45",
   "metadata": {
    "_cell_guid": "b1076dfc-b9ad-4769-8c92-a6c4dae69d19",
    "_uuid": "8f2839f25d086af736a60e9eeb907d3b93b6e0e5",
    "execution": {
     "iopub.execute_input": "2025-01-14T01:11:15.522758Z",
     "iopub.status.busy": "2025-01-14T01:11:15.522233Z",
     "iopub.status.idle": "2025-01-14T01:11:15.740367Z",
     "shell.execute_reply": "2025-01-14T01:11:15.739338Z"
    },
    "papermill": {
     "duration": 0.229677,
     "end_time": "2025-01-14T01:11:15.742312",
     "exception": false,
     "start_time": "2025-01-14T01:11:15.512635",
     "status": "completed"
    },
    "tags": []
   },
   "outputs": [],
   "source": [
    "from kaggle_secrets import UserSecretsClient\n",
    "user_secrets = UserSecretsClient()\n",
    "secret_value_1 = user_secrets.get_secret(\"NEW_GITHUB_TOKEN\")"
   ]
  },
  {
   "cell_type": "code",
   "execution_count": 2,
   "id": "576c9054",
   "metadata": {
    "execution": {
     "iopub.execute_input": "2025-01-14T01:11:15.764624Z",
     "iopub.status.busy": "2025-01-14T01:11:15.764234Z",
     "iopub.status.idle": "2025-01-14T01:11:17.315589Z",
     "shell.execute_reply": "2025-01-14T01:11:17.314141Z"
    },
    "papermill": {
     "duration": 1.565414,
     "end_time": "2025-01-14T01:11:17.317522",
     "exception": false,
     "start_time": "2025-01-14T01:11:15.752108",
     "status": "completed"
    },
    "tags": []
   },
   "outputs": [
    {
     "name": "stdout",
     "output_type": "stream",
     "text": [
      "Cloning into 'DIQ_Project2024'...\r\n",
      "remote: Enumerating objects: 114, done.\u001b[K\r\n",
      "remote: Counting objects: 100% (114/114), done.\u001b[K\r\n",
      "remote: Compressing objects: 100% (98/98), done.\u001b[K\r\n",
      "Receiving objects: 100% (114/114), 789.20 KiB | 8.97 MiB/s, done.\r\n",
      "remote: Total 114 (delta 46), reused 28 (delta 5), pack-reused 0 (from 0)\u001b[K\r\n",
      "Resolving deltas: 100% (46/46), done.\r\n"
     ]
    }
   ],
   "source": [
    "token = UserSecretsClient().get_secret(\"NEW_GITHUB_TOKEN\")\n",
    "! git clone https://{token}@github.com/madratak/DIQ_Project2024.git"
   ]
  },
  {
   "cell_type": "code",
   "execution_count": 3,
   "id": "889ef6ed",
   "metadata": {
    "execution": {
     "iopub.execute_input": "2025-01-14T01:11:17.337366Z",
     "iopub.status.busy": "2025-01-14T01:11:17.337005Z",
     "iopub.status.idle": "2025-01-14T01:11:17.345151Z",
     "shell.execute_reply": "2025-01-14T01:11:17.343871Z"
    },
    "papermill": {
     "duration": 0.020003,
     "end_time": "2025-01-14T01:11:17.346980",
     "exception": false,
     "start_time": "2025-01-14T01:11:17.326977",
     "status": "completed"
    },
    "tags": []
   },
   "outputs": [
    {
     "name": "stdout",
     "output_type": "stream",
     "text": [
      "/kaggle/working/DIQ_Project2024\n"
     ]
    }
   ],
   "source": [
    "%cd /kaggle/working/DIQ_Project2024"
   ]
  },
  {
   "cell_type": "markdown",
   "id": "e9d8c023",
   "metadata": {
    "papermill": {
     "duration": 0.008762,
     "end_time": "2025-01-14T01:11:17.365025",
     "exception": false,
     "start_time": "2025-01-14T01:11:17.356263",
     "status": "completed"
    },
    "tags": []
   },
   "source": [
    "# Set up the dataset\n",
    "\n",
    "At this point we can proceed by importing the correct libraries and then importing the data itself inside our notebook."
   ]
  },
  {
   "cell_type": "code",
   "execution_count": 4,
   "id": "5014ccc8",
   "metadata": {
    "execution": {
     "iopub.execute_input": "2025-01-14T01:11:17.385354Z",
     "iopub.status.busy": "2025-01-14T01:11:17.384971Z",
     "iopub.status.idle": "2025-01-14T01:11:17.788520Z",
     "shell.execute_reply": "2025-01-14T01:11:17.787483Z"
    },
    "papermill": {
     "duration": 0.415675,
     "end_time": "2025-01-14T01:11:17.790581",
     "exception": false,
     "start_time": "2025-01-14T01:11:17.374906",
     "status": "completed"
    },
    "tags": []
   },
   "outputs": [],
   "source": [
    "import pandas as pd\n",
    "import numpy as np\n",
    "from datetime import datetime\n",
    "import os\n",
    "\n",
    "# Set max column width to None to display full content\n",
    "pd.set_option('display.max_colwidth', None)"
   ]
  },
  {
   "cell_type": "code",
   "execution_count": 5,
   "id": "f6f71d88",
   "metadata": {
    "execution": {
     "iopub.execute_input": "2025-01-14T01:11:17.810619Z",
     "iopub.status.busy": "2025-01-14T01:11:17.810098Z",
     "iopub.status.idle": "2025-01-14T01:11:17.871097Z",
     "shell.execute_reply": "2025-01-14T01:11:17.870069Z"
    },
    "papermill": {
     "duration": 0.072916,
     "end_time": "2025-01-14T01:11:17.872982",
     "exception": false,
     "start_time": "2025-01-14T01:11:17.800066",
     "status": "completed"
    },
    "tags": []
   },
   "outputs": [
    {
     "data": {
      "text/html": [
       "<div>\n",
       "<style scoped>\n",
       "    .dataframe tbody tr th:only-of-type {\n",
       "        vertical-align: middle;\n",
       "    }\n",
       "\n",
       "    .dataframe tbody tr th {\n",
       "        vertical-align: top;\n",
       "    }\n",
       "\n",
       "    .dataframe thead th {\n",
       "        text-align: right;\n",
       "    }\n",
       "</style>\n",
       "<table border=\"1\" class=\"dataframe\">\n",
       "  <thead>\n",
       "    <tr style=\"text-align: right;\">\n",
       "      <th></th>\n",
       "      <th>Tipo esercizio pa</th>\n",
       "      <th>Ubicazione</th>\n",
       "      <th>Tipo via</th>\n",
       "      <th>Via</th>\n",
       "      <th>Civico</th>\n",
       "      <th>Codice via</th>\n",
       "      <th>ZD</th>\n",
       "      <th>Prevalente</th>\n",
       "      <th>Superficie altri usi</th>\n",
       "      <th>Superficie lavorativa</th>\n",
       "    </tr>\n",
       "  </thead>\n",
       "  <tbody>\n",
       "    <tr>\n",
       "      <th>0</th>\n",
       "      <td>NaN</td>\n",
       "      <td>LGO DEI GELSOMINI N. 10 (z.d. 6)</td>\n",
       "      <td>LGO</td>\n",
       "      <td>DEI GELSOMINI</td>\n",
       "      <td>10</td>\n",
       "      <td>5394.0</td>\n",
       "      <td>6</td>\n",
       "      <td>NaN</td>\n",
       "      <td>NaN</td>\n",
       "      <td>55.0</td>\n",
       "    </tr>\n",
       "    <tr>\n",
       "      <th>1</th>\n",
       "      <td>NaN</td>\n",
       "      <td>PZA FIDIA N. 3 (z.d. 9)</td>\n",
       "      <td>PZA</td>\n",
       "      <td>FIDIA</td>\n",
       "      <td>3</td>\n",
       "      <td>1144.0</td>\n",
       "      <td>9</td>\n",
       "      <td>CENTRO MASSAGGI RILASSANTI NON ESTETICI</td>\n",
       "      <td>2.0</td>\n",
       "      <td>28.0</td>\n",
       "    </tr>\n",
       "    <tr>\n",
       "      <th>2</th>\n",
       "      <td>NaN</td>\n",
       "      <td>VIA ADIGE N. 10 (z.d. 5)</td>\n",
       "      <td>VIA</td>\n",
       "      <td>ADIGE</td>\n",
       "      <td>10</td>\n",
       "      <td>4216.0</td>\n",
       "      <td>5</td>\n",
       "      <td>CENTRO BENESSERE</td>\n",
       "      <td>2.0</td>\n",
       "      <td>27.0</td>\n",
       "    </tr>\n",
       "    <tr>\n",
       "      <th>3</th>\n",
       "      <td>NaN</td>\n",
       "      <td>VIA BARACCHINI FLAVIO N. 9 (z.d. 1)</td>\n",
       "      <td>VIA</td>\n",
       "      <td>BARACCHINI FLAVIO</td>\n",
       "      <td>9</td>\n",
       "      <td>356.0</td>\n",
       "      <td>1</td>\n",
       "      <td>TRUCCO SEMIPERMANENTE</td>\n",
       "      <td>NaN</td>\n",
       "      <td>NaN</td>\n",
       "    </tr>\n",
       "    <tr>\n",
       "      <th>4</th>\n",
       "      <td>NaN</td>\n",
       "      <td>VIA BERGAMO N. 12 (z.d. 4)</td>\n",
       "      <td>VIA</td>\n",
       "      <td>BERGAMO</td>\n",
       "      <td>12</td>\n",
       "      <td>3189.0</td>\n",
       "      <td>4</td>\n",
       "      <td>NaN</td>\n",
       "      <td>NaN</td>\n",
       "      <td>50.0</td>\n",
       "    </tr>\n",
       "  </tbody>\n",
       "</table>\n",
       "</div>"
      ],
      "text/plain": [
       "  Tipo esercizio pa                           Ubicazione Tipo via  \\\n",
       "0               NaN     LGO DEI GELSOMINI N. 10 (z.d. 6)      LGO   \n",
       "1               NaN              PZA FIDIA N. 3 (z.d. 9)      PZA   \n",
       "2               NaN             VIA ADIGE N. 10 (z.d. 5)      VIA   \n",
       "3               NaN  VIA BARACCHINI FLAVIO N. 9 (z.d. 1)      VIA   \n",
       "4               NaN           VIA BERGAMO N. 12 (z.d. 4)      VIA   \n",
       "\n",
       "                 Via Civico  Codice via ZD  \\\n",
       "0      DEI GELSOMINI     10      5394.0  6   \n",
       "1              FIDIA      3      1144.0  9   \n",
       "2              ADIGE     10      4216.0  5   \n",
       "3  BARACCHINI FLAVIO      9       356.0  1   \n",
       "4            BERGAMO     12      3189.0  4   \n",
       "\n",
       "                                Prevalente  Superficie altri usi  \\\n",
       "0                                      NaN                   NaN   \n",
       "1  CENTRO MASSAGGI RILASSANTI NON ESTETICI                   2.0   \n",
       "2                         CENTRO BENESSERE                   2.0   \n",
       "3                    TRUCCO SEMIPERMANENTE                   NaN   \n",
       "4                                      NaN                   NaN   \n",
       "\n",
       "   Superficie lavorativa  \n",
       "0                   55.0  \n",
       "1                   28.0  \n",
       "2                   27.0  \n",
       "3                    NaN  \n",
       "4                   50.0  "
      ]
     },
     "execution_count": 5,
     "metadata": {},
     "output_type": "execute_result"
    }
   ],
   "source": [
    "SERVICES = pd.read_csv('/kaggle/working/DIQ_Project2024/data/raw/Comune-di-Milano-Servizi-alla-persona-parrucchieri-estetisti.csv',sep=';',encoding='unicode_escape')\n",
    "SERVICES.head()"
   ]
  },
  {
   "cell_type": "markdown",
   "id": "78acabd4",
   "metadata": {
    "papermill": {
     "duration": 0.008999,
     "end_time": "2025-01-14T01:11:17.891593",
     "exception": false,
     "start_time": "2025-01-14T01:11:17.882594",
     "status": "completed"
    },
    "tags": []
   },
   "source": [
    "# Wrangling"
   ]
  },
  {
   "cell_type": "code",
   "execution_count": 6,
   "id": "b51fd795",
   "metadata": {
    "execution": {
     "iopub.execute_input": "2025-01-14T01:11:17.912095Z",
     "iopub.status.busy": "2025-01-14T01:11:17.911677Z",
     "iopub.status.idle": "2025-01-14T01:11:17.929369Z",
     "shell.execute_reply": "2025-01-14T01:11:17.928249Z"
    },
    "papermill": {
     "duration": 0.029937,
     "end_time": "2025-01-14T01:11:17.931139",
     "exception": false,
     "start_time": "2025-01-14T01:11:17.901202",
     "status": "completed"
    },
    "tags": []
   },
   "outputs": [
    {
     "data": {
      "text/html": [
       "<div>\n",
       "<style scoped>\n",
       "    .dataframe tbody tr th:only-of-type {\n",
       "        vertical-align: middle;\n",
       "    }\n",
       "\n",
       "    .dataframe tbody tr th {\n",
       "        vertical-align: top;\n",
       "    }\n",
       "\n",
       "    .dataframe thead th {\n",
       "        text-align: right;\n",
       "    }\n",
       "</style>\n",
       "<table border=\"1\" class=\"dataframe\">\n",
       "  <thead>\n",
       "    <tr style=\"text-align: right;\">\n",
       "      <th></th>\n",
       "      <th>t_es</th>\n",
       "      <th>ubic</th>\n",
       "      <th>t_via</th>\n",
       "      <th>via</th>\n",
       "      <th>civ</th>\n",
       "      <th>cod_via</th>\n",
       "      <th>zd</th>\n",
       "      <th>main</th>\n",
       "      <th>sup_alt</th>\n",
       "      <th>sup_lav</th>\n",
       "    </tr>\n",
       "  </thead>\n",
       "  <tbody>\n",
       "    <tr>\n",
       "      <th>0</th>\n",
       "      <td>NaN</td>\n",
       "      <td>LGO DEI GELSOMINI N. 10 (z.d. 6)</td>\n",
       "      <td>LGO</td>\n",
       "      <td>DEI GELSOMINI</td>\n",
       "      <td>10</td>\n",
       "      <td>5394.0</td>\n",
       "      <td>6</td>\n",
       "      <td>NaN</td>\n",
       "      <td>NaN</td>\n",
       "      <td>55.0</td>\n",
       "    </tr>\n",
       "    <tr>\n",
       "      <th>1</th>\n",
       "      <td>NaN</td>\n",
       "      <td>PZA FIDIA N. 3 (z.d. 9)</td>\n",
       "      <td>PZA</td>\n",
       "      <td>FIDIA</td>\n",
       "      <td>3</td>\n",
       "      <td>1144.0</td>\n",
       "      <td>9</td>\n",
       "      <td>CENTRO MASSAGGI RILASSANTI NON ESTETICI</td>\n",
       "      <td>2.0</td>\n",
       "      <td>28.0</td>\n",
       "    </tr>\n",
       "    <tr>\n",
       "      <th>2</th>\n",
       "      <td>NaN</td>\n",
       "      <td>VIA ADIGE N. 10 (z.d. 5)</td>\n",
       "      <td>VIA</td>\n",
       "      <td>ADIGE</td>\n",
       "      <td>10</td>\n",
       "      <td>4216.0</td>\n",
       "      <td>5</td>\n",
       "      <td>CENTRO BENESSERE</td>\n",
       "      <td>2.0</td>\n",
       "      <td>27.0</td>\n",
       "    </tr>\n",
       "    <tr>\n",
       "      <th>3</th>\n",
       "      <td>NaN</td>\n",
       "      <td>VIA BARACCHINI FLAVIO N. 9 (z.d. 1)</td>\n",
       "      <td>VIA</td>\n",
       "      <td>BARACCHINI FLAVIO</td>\n",
       "      <td>9</td>\n",
       "      <td>356.0</td>\n",
       "      <td>1</td>\n",
       "      <td>TRUCCO SEMIPERMANENTE</td>\n",
       "      <td>NaN</td>\n",
       "      <td>NaN</td>\n",
       "    </tr>\n",
       "    <tr>\n",
       "      <th>4</th>\n",
       "      <td>NaN</td>\n",
       "      <td>VIA BERGAMO N. 12 (z.d. 4)</td>\n",
       "      <td>VIA</td>\n",
       "      <td>BERGAMO</td>\n",
       "      <td>12</td>\n",
       "      <td>3189.0</td>\n",
       "      <td>4</td>\n",
       "      <td>NaN</td>\n",
       "      <td>NaN</td>\n",
       "      <td>50.0</td>\n",
       "    </tr>\n",
       "  </tbody>\n",
       "</table>\n",
       "</div>"
      ],
      "text/plain": [
       "  t_es                                 ubic t_via                via civ  \\\n",
       "0  NaN     LGO DEI GELSOMINI N. 10 (z.d. 6)   LGO      DEI GELSOMINI  10   \n",
       "1  NaN              PZA FIDIA N. 3 (z.d. 9)   PZA              FIDIA   3   \n",
       "2  NaN             VIA ADIGE N. 10 (z.d. 5)   VIA              ADIGE  10   \n",
       "3  NaN  VIA BARACCHINI FLAVIO N. 9 (z.d. 1)   VIA  BARACCHINI FLAVIO   9   \n",
       "4  NaN           VIA BERGAMO N. 12 (z.d. 4)   VIA            BERGAMO  12   \n",
       "\n",
       "   cod_via zd                                     main  sup_alt  sup_lav  \n",
       "0   5394.0  6                                      NaN      NaN     55.0  \n",
       "1   1144.0  9  CENTRO MASSAGGI RILASSANTI NON ESTETICI      2.0     28.0  \n",
       "2   4216.0  5                         CENTRO BENESSERE      2.0     27.0  \n",
       "3    356.0  1                    TRUCCO SEMIPERMANENTE      NaN      NaN  \n",
       "4   3189.0  4                                      NaN      NaN     50.0  "
      ]
     },
     "execution_count": 6,
     "metadata": {},
     "output_type": "execute_result"
    }
   ],
   "source": [
    "SERVICES = SERVICES.rename(columns={\n",
    "    'Tipo esercizio pa': 't_es',\n",
    "    'Ubicazione': 'ubic',\n",
    "    'Tipo via': 't_via',\n",
    "    'Via': 'via',\n",
    "    'Civico': 'civ',\n",
    "    'Codice via': 'cod_via',\n",
    "    'ZD': 'zd',\n",
    "    'Prevalente': 'main',\n",
    "    'Superficie altri usi': 'sup_alt',\n",
    "    'Superficie lavorativa': 'sup_lav'\n",
    "})\n",
    "\n",
    "new_SERVICES = SERVICES.copy()\n",
    "\n",
    "new_SERVICES.head()"
   ]
  },
  {
   "cell_type": "markdown",
   "id": "15999dc0",
   "metadata": {
    "papermill": {
     "duration": 0.009064,
     "end_time": "2025-01-14T01:11:17.949726",
     "exception": false,
     "start_time": "2025-01-14T01:11:17.940662",
     "status": "completed"
    },
    "tags": []
   },
   "source": [
    "## ZD"
   ]
  },
  {
   "cell_type": "code",
   "execution_count": 7,
   "id": "4806fec6",
   "metadata": {
    "execution": {
     "iopub.execute_input": "2025-01-14T01:11:17.969809Z",
     "iopub.status.busy": "2025-01-14T01:11:17.969375Z",
     "iopub.status.idle": "2025-01-14T01:11:17.977716Z",
     "shell.execute_reply": "2025-01-14T01:11:17.976762Z"
    },
    "papermill": {
     "duration": 0.020299,
     "end_time": "2025-01-14T01:11:17.979381",
     "exception": false,
     "start_time": "2025-01-14T01:11:17.959082",
     "status": "completed"
    },
    "tags": []
   },
   "outputs": [
    {
     "data": {
      "text/plain": [
       "array(['6', '9', '5', '1', '4', '2', '8', '3', nan, 'ACCONCIATORE', '7'],\n",
       "      dtype=object)"
      ]
     },
     "execution_count": 7,
     "metadata": {},
     "output_type": "execute_result"
    }
   ],
   "source": [
    "new_SERVICES.zd.unique()"
   ]
  },
  {
   "cell_type": "code",
   "execution_count": 8,
   "id": "ce1d87c2",
   "metadata": {
    "execution": {
     "iopub.execute_input": "2025-01-14T01:11:18.000027Z",
     "iopub.status.busy": "2025-01-14T01:11:17.999627Z",
     "iopub.status.idle": "2025-01-14T01:11:18.012752Z",
     "shell.execute_reply": "2025-01-14T01:11:18.011900Z"
    },
    "papermill": {
     "duration": 0.025113,
     "end_time": "2025-01-14T01:11:18.014279",
     "exception": false,
     "start_time": "2025-01-14T01:11:17.989166",
     "status": "completed"
    },
    "tags": []
   },
   "outputs": [
    {
     "data": {
      "text/html": [
       "<div>\n",
       "<style scoped>\n",
       "    .dataframe tbody tr th:only-of-type {\n",
       "        vertical-align: middle;\n",
       "    }\n",
       "\n",
       "    .dataframe tbody tr th {\n",
       "        vertical-align: top;\n",
       "    }\n",
       "\n",
       "    .dataframe thead th {\n",
       "        text-align: right;\n",
       "    }\n",
       "</style>\n",
       "<table border=\"1\" class=\"dataframe\">\n",
       "  <thead>\n",
       "    <tr style=\"text-align: right;\">\n",
       "      <th></th>\n",
       "      <th>t_es</th>\n",
       "      <th>ubic</th>\n",
       "      <th>t_via</th>\n",
       "      <th>via</th>\n",
       "      <th>civ</th>\n",
       "      <th>cod_via</th>\n",
       "      <th>zd</th>\n",
       "      <th>main</th>\n",
       "      <th>sup_alt</th>\n",
       "      <th>sup_lav</th>\n",
       "    </tr>\n",
       "  </thead>\n",
       "  <tbody>\n",
       "    <tr>\n",
       "      <th>32</th>\n",
       "      <td>Acconciatore</td>\n",
       "      <td>CSO COMO N. 15 interno club f. conti</td>\n",
       "      <td>NaN</td>\n",
       "      <td>NaN</td>\n",
       "      <td>NaN</td>\n",
       "      <td>NaN</td>\n",
       "      <td>NaN</td>\n",
       "      <td>NaN</td>\n",
       "      <td>NaN</td>\n",
       "      <td>NaN</td>\n",
       "    </tr>\n",
       "    <tr>\n",
       "      <th>33</th>\n",
       "      <td>(z.d. 9)</td>\n",
       "      <td>CSO</td>\n",
       "      <td>COMO</td>\n",
       "      <td>15</td>\n",
       "      <td>1111</td>\n",
       "      <td>9.0</td>\n",
       "      <td>ACCONCIATORE</td>\n",
       "      <td>NaN</td>\n",
       "      <td>195.0</td>\n",
       "      <td>NaN</td>\n",
       "    </tr>\n",
       "  </tbody>\n",
       "</table>\n",
       "</div>"
      ],
      "text/plain": [
       "            t_es                                  ubic t_via  via   civ  \\\n",
       "32  Acconciatore  CSO COMO N. 15 interno club f. conti   NaN  NaN   NaN   \n",
       "33      (z.d. 9)                                   CSO  COMO   15  1111   \n",
       "\n",
       "    cod_via            zd main  sup_alt  sup_lav  \n",
       "32      NaN           NaN  NaN      NaN      NaN  \n",
       "33      9.0  ACCONCIATORE  NaN    195.0      NaN  "
      ]
     },
     "execution_count": 8,
     "metadata": {},
     "output_type": "execute_result"
    }
   ],
   "source": [
    "new_SERVICES.loc[32:33].head()"
   ]
  },
  {
   "cell_type": "markdown",
   "id": "f0dcea9b",
   "metadata": {
    "papermill": {
     "duration": 0.009326,
     "end_time": "2025-01-14T01:11:18.033290",
     "exception": false,
     "start_time": "2025-01-14T01:11:18.023964",
     "status": "completed"
    },
    "tags": []
   },
   "source": [
    "Dropped the rows and added a new one."
   ]
  },
  {
   "cell_type": "code",
   "execution_count": 9,
   "id": "b79b4365",
   "metadata": {
    "execution": {
     "iopub.execute_input": "2025-01-14T01:11:18.053627Z",
     "iopub.status.busy": "2025-01-14T01:11:18.053278Z",
     "iopub.status.idle": "2025-01-14T01:11:18.088003Z",
     "shell.execute_reply": "2025-01-14T01:11:18.086890Z"
    },
    "papermill": {
     "duration": 0.046989,
     "end_time": "2025-01-14T01:11:18.089803",
     "exception": false,
     "start_time": "2025-01-14T01:11:18.042814",
     "status": "completed"
    },
    "tags": []
   },
   "outputs": [
    {
     "data": {
      "text/html": [
       "<div>\n",
       "<style scoped>\n",
       "    .dataframe tbody tr th:only-of-type {\n",
       "        vertical-align: middle;\n",
       "    }\n",
       "\n",
       "    .dataframe tbody tr th {\n",
       "        vertical-align: top;\n",
       "    }\n",
       "\n",
       "    .dataframe thead th {\n",
       "        text-align: right;\n",
       "    }\n",
       "</style>\n",
       "<table border=\"1\" class=\"dataframe\">\n",
       "  <thead>\n",
       "    <tr style=\"text-align: right;\">\n",
       "      <th></th>\n",
       "      <th>t_es</th>\n",
       "      <th>ubic</th>\n",
       "      <th>t_via</th>\n",
       "      <th>via</th>\n",
       "      <th>civ</th>\n",
       "      <th>cod_via</th>\n",
       "      <th>zd</th>\n",
       "      <th>main</th>\n",
       "      <th>sup_alt</th>\n",
       "      <th>sup_lav</th>\n",
       "    </tr>\n",
       "  </thead>\n",
       "  <tbody>\n",
       "    <tr>\n",
       "      <th>32</th>\n",
       "      <td>Acconciatore</td>\n",
       "      <td>CSO COMO N. 15 (z.d. 9)</td>\n",
       "      <td>CSO</td>\n",
       "      <td>CSO COMO</td>\n",
       "      <td>15</td>\n",
       "      <td>1111.0</td>\n",
       "      <td>9</td>\n",
       "      <td>ACCONCIATORE</td>\n",
       "      <td>NaN</td>\n",
       "      <td>195.0</td>\n",
       "    </tr>\n",
       "    <tr>\n",
       "      <th>33</th>\n",
       "      <td>Acconciatore</td>\n",
       "      <td>CSO DI PORTA NUOVA N. 46 ; (z.d. 1)</td>\n",
       "      <td>CSO</td>\n",
       "      <td>DI PORTA NUOVA</td>\n",
       "      <td>46</td>\n",
       "      <td>1044.0</td>\n",
       "      <td>1</td>\n",
       "      <td>NaN</td>\n",
       "      <td>NaN</td>\n",
       "      <td>34.0</td>\n",
       "    </tr>\n",
       "  </tbody>\n",
       "</table>\n",
       "</div>"
      ],
      "text/plain": [
       "            t_es                                 ubic t_via             via  \\\n",
       "32  Acconciatore              CSO COMO N. 15 (z.d. 9)   CSO        CSO COMO   \n",
       "33  Acconciatore  CSO DI PORTA NUOVA N. 46 ; (z.d. 1)   CSO  DI PORTA NUOVA   \n",
       "\n",
       "   civ  cod_via zd          main  sup_alt  sup_lav  \n",
       "32  15   1111.0  9  ACCONCIATORE      NaN    195.0  \n",
       "33  46   1044.0  1           NaN      NaN     34.0  "
      ]
     },
     "execution_count": 9,
     "metadata": {},
     "output_type": "execute_result"
    }
   ],
   "source": [
    "# New merged row\n",
    "merged_row = {\n",
    "    \"t_es\": \"Acconciatore\",\n",
    "    \"ubic\": \"CSO COMO N. 15 (z.d. 9)\",\n",
    "    \"t_via\": \"CSO\",\n",
    "    \"via\": \"CSO COMO\",\n",
    "    \"civ\": \"15\",\n",
    "    \"cod_via\": 1111.0,\n",
    "    \"zd\": \"9\",\n",
    "    \"main\": \"ACCONCIATORE\",\n",
    "    \"sup_alt\": np.nan,\n",
    "    \"sup_lav\": 195.0,\n",
    "}\n",
    "\n",
    "# Remove row at index 33 and replace row at index 32\n",
    "new_SERVICES = new_SERVICES.drop(index=33, errors='ignore')  # Drop row 33\n",
    "new_SERVICES.loc[32] = merged_row  # Add the merged row at index 32\n",
    "\n",
    "# Ensure correct row order and reset index if necessary\n",
    "new_SERVICES = new_SERVICES.sort_index().reset_index(drop=True)\n",
    "\n",
    "new_SERVICES.loc[32:33].head()"
   ]
  },
  {
   "cell_type": "code",
   "execution_count": 10,
   "id": "22f72f6e",
   "metadata": {
    "execution": {
     "iopub.execute_input": "2025-01-14T01:11:18.110844Z",
     "iopub.status.busy": "2025-01-14T01:11:18.110409Z",
     "iopub.status.idle": "2025-01-14T01:11:18.120326Z",
     "shell.execute_reply": "2025-01-14T01:11:18.119220Z"
    },
    "papermill": {
     "duration": 0.022481,
     "end_time": "2025-01-14T01:11:18.122202",
     "exception": false,
     "start_time": "2025-01-14T01:11:18.099721",
     "status": "completed"
    },
    "tags": []
   },
   "outputs": [
    {
     "data": {
      "text/plain": [
       "array([1, 2, 3, 4, 5, 6, 7, 8, 9])"
      ]
     },
     "execution_count": 10,
     "metadata": {},
     "output_type": "execute_result"
    }
   ],
   "source": [
    "new_SERVICES.zd = new_SERVICES.zd.astype(int)\n",
    "np.sort(new_SERVICES['zd'].unique())"
   ]
  },
  {
   "cell_type": "markdown",
   "id": "de911aef",
   "metadata": {
    "papermill": {
     "duration": 0.009678,
     "end_time": "2025-01-14T01:11:18.142692",
     "exception": false,
     "start_time": "2025-01-14T01:11:18.133014",
     "status": "completed"
    },
    "tags": []
   },
   "source": [
    "## T_ES"
   ]
  },
  {
   "cell_type": "code",
   "execution_count": 11,
   "id": "7af50870",
   "metadata": {
    "execution": {
     "iopub.execute_input": "2025-01-14T01:11:18.163934Z",
     "iopub.status.busy": "2025-01-14T01:11:18.163526Z",
     "iopub.status.idle": "2025-01-14T01:11:18.170444Z",
     "shell.execute_reply": "2025-01-14T01:11:18.169448Z"
    },
    "papermill": {
     "duration": 0.019151,
     "end_time": "2025-01-14T01:11:18.172021",
     "exception": false,
     "start_time": "2025-01-14T01:11:18.152870",
     "status": "completed"
    },
    "tags": []
   },
   "outputs": [
    {
     "data": {
      "text/plain": [
       "array([nan, 'Acconciatore', 'ACCONCIATORE',\n",
       "       'ACCONCIATORE;TIPO A ESTETICA MANUALE',\n",
       "       'ACCONCIATORE;TIPO A ESTETICA MANUALE;TIPO B CENTRO DI ABBRONZATURA',\n",
       "       'Acconciatore;TIPO A - REG.2003', 'ACCONCIATORE;TIPO A - REG.2003',\n",
       "       'Acconciatore;TIPO A - REG.2003;TIPO B CENTRO DI ABBRONZATURA',\n",
       "       'ACCONCIATORE;TIPO A - REG.2003;TIPO B CENTRO DI ABBRONZATURA',\n",
       "       'BARBIERE', 'Centro abbronzatura', 'Centro benessere',\n",
       "       'Centro benessere;TIPO A - REG.2003', 'Centro massaggi',\n",
       "       'Centro massaggi;Centro benessere',\n",
       "       'esecuzione di tatuaggi e piercing',\n",
       "       'Esecuzione di tatuaggi e piercing', 'Estetista',\n",
       "       'Estetista in profumeria;TIPO A ESTETICA MANUALE;TIPO D ESTET.APPAR.ELETTROMECC;TIPO C TRATT.ESTETICI DIMAGRIM',\n",
       "       'Estetista;Manicure;Pedicure estetico',\n",
       "       'Estetista;Parrucchiere per signora',\n",
       "       'Estetista;Pedicure estetico', 'Manicure;Parrucchiere per signora',\n",
       "       'Parrucchiere misto', 'Parrucchiere misto;TIPO A ESTETICA MANUALE',\n",
       "       'Parrucchiere misto;TIPO A - REG.2003',\n",
       "       'Parrucchiere misto;TIPO A - REG.2003;TIPO B CENTRO DI ABBRONZATURA',\n",
       "       'Parrucchiere per signora',\n",
       "       'Parrucchiere per signora;Acconciatore',\n",
       "       'Parrucchiere per signora;ACCONCIATORE',\n",
       "       'Parrucchiere per signora;ACCONCIATORE;TIPO A - REG.2003;TIPO B CENTRO DI ABBRONZATURA',\n",
       "       'Parrucchiere per signora;Parrucchiere per signora',\n",
       "       'Parrucchiere per signora;TIPO A-B-C-D',\n",
       "       'Parrucchiere per signora;TIPO A ESTETICA MANUALE',\n",
       "       'Parrucchiere per signora;TIPO A ESTETICA MANUALE;TIPO B CENTRO DI ABBRONZATURA',\n",
       "       'Parrucchiere per signora;TIPO A ESTETICA MANUALE;TIPO C TRATT.ESTETICI DIMAGRIM',\n",
       "       'Parrucchiere per signora;TIPO A ESTETICA MANUALE;TIPO C TRATT.ESTETICI DIMAGRIM;TIPO B CENTRO DI ABBRONZATURA',\n",
       "       'Parrucchiere per signora;TIPO A ESTETICA MANUALE;TIPO D ESTET.APPAR.ELETTROMECC;TIPO B CENTRO DI ABBRONZATURA',\n",
       "       'Parrucchiere per signora;TIPO A ESTETICA MANUALE;TIPO D ESTET.APPAR.ELETTROMECC;TIPO C TRATT.ESTETICI DIMAGRIM',\n",
       "       'Parrucchiere per signora;TIPO A ESTETICA MANUALE;TIPO D ESTET.APPAR.ELETTROMECC;TIPO C TRATT.ESTETICI DIMAGRIM;TIPO B CENTRO DI ABBRONZATURA',\n",
       "       'Parrucchiere per signora;TIPO A - REG.2003',\n",
       "       'Parrucchiere per signora;TIPO A - REG.2003;TIPO B CENTRO DI ABBRONZATURA',\n",
       "       'Parrucchiere per signora;TIPO C TRATT.ESTETICI DIMAGRIM',\n",
       "       'Parrucchiere per signora;TIPO D ESTET.APPAR.ELETTROMECC;TIPO C TRATT.ESTETICI DIMAGRIM',\n",
       "       'Parrucchiere per uomo', 'Parrucchiere per uomo;Acconciatore',\n",
       "       'Parrucchiere per uomo;Estetista',\n",
       "       'Parrucchiere per uomo;Manicure;Pedicure estetico',\n",
       "       'Parrucchiere per uomo;Parrucchiere per signora',\n",
       "       'Parrucchiere per uomo;Parrucchiere per signora;Parrucchiere misto',\n",
       "       'Parrucchiere per uomo;Parrucchiere per signora;Parrucchiere misto;TIPO A ESTETICA MANUALE;TIPO C TRATT.ESTETICI DIMAGRIM;TIPO B CENTRO DI ABBRONZATURA',\n",
       "       'Parrucchiere per uomo;Parrucchiere per signora;TIPO A-B-C-D',\n",
       "       'Parrucchiere per uomo;Parrucchiere per signora;TIPO A-B-C-D;Parrucchiere misto',\n",
       "       'Parrucchiere per uomo;Parrucchiere per signora;TIPO A ESTETICA MANUALE',\n",
       "       'Parrucchiere per uomo;Parrucchiere per signora;TIPO A ESTETICA MANUALE;TIPO B CENTRO DI ABBRONZATURA',\n",
       "       'Parrucchiere per uomo;Parrucchiere per signora;TIPO A ESTETICA MANUALE;TIPO C TRATT.ESTETICI DIMAGRIM',\n",
       "       'Parrucchiere per uomo;Parrucchiere per signora;TIPO A ESTETICA MANUALE;TIPO C TRATT.ESTETICI DIMAGRIM;TIPO B CENTRO DI ABBRONZATURA',\n",
       "       'Parrucchiere per uomo;Parrucchiere per signora;TIPO A ESTETICA MANUALE;TIPO D ESTET.APPAR.ELETTROMECC;TIPO C TRATT.ESTETICI DIMAGRIM',\n",
       "       'Parrucchiere per uomo;Parrucchiere per signora;TIPO A - REG.2003',\n",
       "       'Parrucchiere per uomo;Parrucchiere per signora;TIPO A - REG.2003;TIPO B CENTRO DI ABBRONZATURA',\n",
       "       'Parrucchiere per uomo;Pedicure estetico',\n",
       "       'Parrucchiere per uomo;TIPO A-B-C-D',\n",
       "       'Parrucchiere per uomo;TIPO A ESTETICA MANUALE',\n",
       "       'Parrucchiere per uomo;TIPO A ESTETICA MANUALE;TIPO B CENTRO DI ABBRONZATURA',\n",
       "       'Parrucchiere per uomo;TIPO A ESTETICA MANUALE;TIPO C TRATT.ESTETICI DIMAGRIM;TIPO B CENTRO DI ABBRONZATURA',\n",
       "       'Parrucchiere per uomo;TIPO A ESTETICA MANUALE;TIPO D ESTET.APPAR.ELETTROMECC;TIPO C TRATT.ESTETICI DIMAGRIM;TIPO B CENTRO DI ABBRONZATURA',\n",
       "       'Parrucchiere per uomo;TIPO A - REG.2003',\n",
       "       'Parrucchiere per uomo;TIPO A - REG.2003;TIPO B CENTRO DI ABBRONZATURA',\n",
       "       'Pedicure estetico',\n",
       "       'Pedicure estetico;TIPO C TRATT.ESTETICI DIMAGRIM', 'TIPO A-B-C-D',\n",
       "       'TIPO A-B-C-D;Acconciatore', 'TIPO A-B-C-D;ACCONCIATORE',\n",
       "       'TIPO A-B-C-D;Estetista in profumeria',\n",
       "       'TIPO A-B-C-D;Parrucchiere misto', 'TIPO A ESTETICA MANUALE',\n",
       "       'TIPO A ESTETICA MANUALE;Acconciatore',\n",
       "       'TIPO A ESTETICA MANUALE;Parrucchiere per signora',\n",
       "       'TIPO A ESTETICA MANUALE;TIPO B CENTRO DI ABBRONZATURA',\n",
       "       'TIPO A ESTETICA MANUALE;TIPO C TRATT.ESTETICI DIMAGRIM',\n",
       "       'TIPO A ESTETICA MANUALE;TIPO C TRATT.ESTETICI DIMAGRIM;TIPO B CENTRO DI ABBRONZATURA',\n",
       "       'TIPO A ESTETICA MANUALE;TIPO D ESTET.APPAR.ELETTROMECC',\n",
       "       'TIPO A ESTETICA MANUALE;TIPO D ESTET.APPAR.ELETTROMECC;TIPO B CENTRO DI ABBRONZATURA',\n",
       "       'TIPO A ESTETICA MANUALE;TIPO D ESTET.APPAR.ELETTROMECC;TIPO C TRATT.ESTETICI DIMAGRIM',\n",
       "       'TIPO A ESTETICA MANUALE;TIPO D ESTET.APPAR.ELETTROMECC;TIPO C TRATT.ESTETICI DIMAGRIM;TIPO B CENTRO DI ABBRONZATURA',\n",
       "       'TIPO A - REG.2003', 'TIPO A - REG.2003;Acconciatore',\n",
       "       'TIPO A - REG.2003;ACCONCIATORE',\n",
       "       'TIPO A - REG.2003;Centro benessere',\n",
       "       'TIPO A - REG.2003;Centro massaggi',\n",
       "       'TIPO A - REG.2003;esecuzione di tatuaggi e piercing',\n",
       "       'TIPO A - REG.2003;Parrucchiere per uomo',\n",
       "       'TIPO A - REG.2003;TIPO B CENTRO DI ABBRONZATURA',\n",
       "       'TIPO A - REG.2003;TIPO B CENTRO DI ABBRONZATURA;Acconciatore',\n",
       "       'TIPO A - REG.2003;TIPO B CENTRO DI ABBRONZATURA;ACCONCIATORE',\n",
       "       'TIPO B CENTRO DI ABBRONZATURA',\n",
       "       'TIPO B CENTRO DI ABBRONZATURA;TIPO A - REG.2003',\n",
       "       'TIPO C TRATT.ESTETICI DIMAGRIM',\n",
       "       'TIPO C TRATT.ESTETICI DIMAGRIM;TIPO B CENTRO DI ABBRONZATURA',\n",
       "       'TIPO D ESTET.APPAR.ELETTROMECC',\n",
       "       'TIPO D ESTET.APPAR.ELETTROMECC;TIPO C TRATT.ESTETICI DIMAGRIM',\n",
       "       'TIPO D ESTET.APPAR.ELETTROMECC;TIPO C TRATT.ESTETICI DIMAGRIM;TIPO B CENTRO DI ABBRONZATURA',\n",
       "       'Truccatore'], dtype=object)"
      ]
     },
     "execution_count": 11,
     "metadata": {},
     "output_type": "execute_result"
    }
   ],
   "source": [
    "new_SERVICES.t_es.unique()"
   ]
  },
  {
   "cell_type": "code",
   "execution_count": 12,
   "id": "68fcc453",
   "metadata": {
    "execution": {
     "iopub.execute_input": "2025-01-14T01:11:18.193755Z",
     "iopub.status.busy": "2025-01-14T01:11:18.193361Z",
     "iopub.status.idle": "2025-01-14T01:11:18.219623Z",
     "shell.execute_reply": "2025-01-14T01:11:18.218566Z"
    },
    "papermill": {
     "duration": 0.039173,
     "end_time": "2025-01-14T01:11:18.221382",
     "exception": false,
     "start_time": "2025-01-14T01:11:18.182209",
     "status": "completed"
    },
    "tags": []
   },
   "outputs": [
    {
     "name": "stdout",
     "output_type": "stream",
     "text": [
      "ACCONCIATORE: 717\n",
      "Acconciatore: 190\n",
      "BARBIERE: 2\n",
      "Centro abbronzatura: 2\n",
      "Centro benessere: 29\n",
      "Centro massaggi: 139\n",
      "Esecuzione di tatuaggi e piercing: 5\n",
      "Estetista: 31\n",
      "Estetista in profumeria: 2\n",
      "Manicure: 3\n",
      "Parrucchiere misto: 105\n",
      "Parrucchiere per signora: 1213\n",
      "Parrucchiere per uomo: 518\n",
      "Pedicure estetico: 22\n",
      "TIPO A - REG.2003: 865\n",
      "TIPO A ESTETICA MANUALE: 263\n",
      "TIPO A-B-C-D: 88\n",
      "TIPO B CENTRO DI ABBRONZATURA: 603\n",
      "TIPO C TRATT.ESTETICI DIMAGRIM: 138\n",
      "TIPO D ESTET.APPAR.ELETTROMECC: 74\n",
      "Truccatore: 1\n",
      "esecuzione di tatuaggi e piercing: 19\n"
     ]
    }
   ],
   "source": [
    "# Ensure 't_es' column does not have NaN values and is treated as strings\n",
    "new_SERVICES[\"t_es\"] = new_SERVICES[\"t_es\"].fillna(\"\").astype(str)\n",
    "\n",
    "# Split the 't_es' column by ';' and flatten the resulting lists\n",
    "flattened_labels = [label.strip() for item in new_SERVICES[\"t_es\"] for label in item.split(\";\")]\n",
    "\n",
    "# Get the unique labels and sort them\n",
    "unique_labels = sorted(set(flattened_labels))\n",
    "\n",
    "# Initialize a dictionary to store counts\n",
    "label_counts = {label: 0 for label in unique_labels}\n",
    "\n",
    "# Loop through each row in the \"t_es\" column and count the occurrences of each label\n",
    "for entry in new_SERVICES['t_es'].dropna():  # Drop NaN values to avoid errors\n",
    "    for label in unique_labels:\n",
    "        if label in entry:\n",
    "            label_counts[label] += 1\n",
    "\n",
    "# Print the counts\n",
    "for label, count in label_counts.items():\n",
    "    if label != \"\":\n",
    "        print(f\"{label}: {count}\")"
   ]
  },
  {
   "cell_type": "code",
   "execution_count": 13,
   "id": "d5396c07",
   "metadata": {
    "execution": {
     "iopub.execute_input": "2025-01-14T01:11:18.243346Z",
     "iopub.status.busy": "2025-01-14T01:11:18.242990Z",
     "iopub.status.idle": "2025-01-14T01:11:18.257802Z",
     "shell.execute_reply": "2025-01-14T01:11:18.256752Z"
    },
    "papermill": {
     "duration": 0.027672,
     "end_time": "2025-01-14T01:11:18.259585",
     "exception": false,
     "start_time": "2025-01-14T01:11:18.231913",
     "status": "completed"
    },
    "tags": []
   },
   "outputs": [],
   "source": [
    "# Mapping of original values to new values\n",
    "label_mapping = {\n",
    "    \"ACCONCIATORE\": \"Acconciatore\",\n",
    "    \"Acconciatore\": \"Acconciatore\",\n",
    "    \"BARBIERE\": \"Parrucchiere per Uomo\",\n",
    "    \"Centro abbronzatura\": \"Tipo B - Centro di Abbronzatura\",\n",
    "    \"Centro benessere\": \"Centro Benessere\",\n",
    "    \"Centro massaggi\": \"Centro Massaggi\",\n",
    "    \"Esecuzione di tatuaggi e piercing\": \"Esecuzione di Tatuaggi e Piercing\",\n",
    "    \"esecuzione di tatuaggi e piercing\": \"Esecuzione di Tatuaggi e Piercing\",\n",
    "    \"Estetista\": \"Tipo A - Estetica Manuale\",\n",
    "    \"Estetista in profumeria\": \"Tipo A - Estetica Manuale\",\n",
    "    \"Manicure\": \"Tipo A - Estetica Manuale\", # Assuming merge because there are just 4 'Manicure' values\n",
    "    \"Pedicure estetico\": \"Tipo A - Estetica Manuale\",\n",
    "    \"Parrucchiere per signora\": \"Parrucchiere per Donna\",\n",
    "    \"Parrucchiere per uomo\": \"Parrucchiere per Uomo\",\n",
    "    \"Truccatore\": \"Truccatore\",\n",
    "    \"TIPO A ESTETICA MANUALE\": \"Tipo A - Estetica Manuale\",\n",
    "    \"TIPO A - REG.2003\": \"Tipo A - Estetica Manuale\",\n",
    "    \"TIPO B CENTRO DI ABBRONZATURA\": \"Tipo B - Centro di Abbronzatura\",\n",
    "    \"TIPO C TRATT.ESTETICI DIMAGRIM\": \"Tipo C - Trattamenti Estetici Dimagrimento\",\n",
    "    \"TIPO D ESTET.APPAR.ELETTROMECC\": \"Tipo D - Estetica Apparati Elettromeccanici\",\n",
    "}\n",
    "\n",
    "# Define a function for handling composite labels within a cell\n",
    "def handle_composite_labels(value):\n",
    "    # If \"TIPO A-B-C-D\" exists, split and expand into individual components\n",
    "    if \"TIPO A-B-C-D\" in value:\n",
    "        value = value.replace(\"TIPO A-B-C-D\", \"; \".join([\n",
    "            \"Tipo A - Estetica Manuale\", \n",
    "            \"Tipo B - Centro di Abbronzatura\",\n",
    "            \"Tipo C - Trattamenti Estetici Dimagrimento\", \n",
    "            \"Tipo D - Estetica Apparati Elettromeccanici\"\n",
    "        ]))\n",
    "    if \"Parrucchiere misto\" in value:\n",
    "        value = value.replace(\"Parrucchiere misto\", \"; \".join([\n",
    "            \"Parrucchiere per Uomo\",\n",
    "            \"Parrucchiere per Donna\"\n",
    "        ]))\n",
    "    \n",
    "    return value\n",
    "\n",
    "# Apply composite label handling first\n",
    "new_SERVICES[\"t_es\"] = new_SERVICES[\"t_es\"].apply(handle_composite_labels)\n",
    "\n",
    "# Define a function to replace labels using the mapping\n",
    "def replace_multiple_labels(cell_value, label_mapping):\n",
    "    # Split the cell value by a delimiter (semicolon)\n",
    "    labels = cell_value.split(';')  # Adjust delimiter as necessary\n",
    "    # Strip whitespace and replace each label using the mapping\n",
    "    labels = [label_mapping.get(label.strip(), label.strip()) for label in labels]\n",
    "    \n",
    "    # Remove duplicates by converting to a set and then back to a list\n",
    "    labels = list(set(labels))  # Set ensures uniqueness, list keeps order\n",
    "    # Rejoin the labels with the same delimiter\n",
    "    return '; '.join(labels)\n",
    "\n",
    "# Now apply the mapping for individual labels\n",
    "new_SERVICES[\"t_es\"] = new_SERVICES[\"t_es\"].apply(lambda x: replace_multiple_labels(x, label_mapping))\n",
    "\n",
    "# Check the updated column\n",
    "# prova[\"t_es\"].unique()"
   ]
  },
  {
   "cell_type": "code",
   "execution_count": 14,
   "id": "7ccee70d",
   "metadata": {
    "execution": {
     "iopub.execute_input": "2025-01-14T01:11:18.281703Z",
     "iopub.status.busy": "2025-01-14T01:11:18.281335Z",
     "iopub.status.idle": "2025-01-14T01:11:18.293028Z",
     "shell.execute_reply": "2025-01-14T01:11:18.291985Z"
    },
    "papermill": {
     "duration": 0.024828,
     "end_time": "2025-01-14T01:11:18.294979",
     "exception": false,
     "start_time": "2025-01-14T01:11:18.270151",
     "status": "completed"
    },
    "tags": []
   },
   "outputs": [
    {
     "name": "stdout",
     "output_type": "stream",
     "text": [
      "Unique Labels:\n",
      "\n",
      "Acconciatore\n",
      "Centro Benessere\n",
      "Centro Massaggi\n",
      "Esecuzione di Tatuaggi e Piercing\n",
      "Parrucchiere per Donna\n",
      "Parrucchiere per Uomo\n",
      "Tipo A - Estetica Manuale\n",
      "Tipo B - Centro di Abbronzatura\n",
      "Tipo C - Trattamenti Estetici Dimagrimento\n",
      "Tipo D - Estetica Apparati Elettromeccanici\n",
      "Truccatore\n"
     ]
    }
   ],
   "source": [
    "# Ensure 't_es' column does not have NaN values and is treated as strings\n",
    "new_SERVICES[\"t_es\"] = new_SERVICES[\"t_es\"].fillna(\"\").astype(str)\n",
    "\n",
    "# Split the 't_es' column by ';' and flatten the resulting lists\n",
    "flattened_labels = [label.strip() for item in new_SERVICES[\"t_es\"] for label in item.split(\";\")]\n",
    "\n",
    "# Get the unique labels and sort them\n",
    "unique_labels = sorted(set(flattened_labels))\n",
    "\n",
    "# Print the unique labels\n",
    "print(\"Unique Labels:\")\n",
    "for label in unique_labels:\n",
    "    print(label)"
   ]
  },
  {
   "cell_type": "code",
   "execution_count": 15,
   "id": "c423ffa4",
   "metadata": {
    "execution": {
     "iopub.execute_input": "2025-01-14T01:11:18.317334Z",
     "iopub.status.busy": "2025-01-14T01:11:18.316977Z",
     "iopub.status.idle": "2025-01-14T01:11:18.332452Z",
     "shell.execute_reply": "2025-01-14T01:11:18.331481Z"
    },
    "papermill": {
     "duration": 0.02853,
     "end_time": "2025-01-14T01:11:18.334041",
     "exception": false,
     "start_time": "2025-01-14T01:11:18.305511",
     "status": "completed"
    },
    "tags": []
   },
   "outputs": [
    {
     "name": "stdout",
     "output_type": "stream",
     "text": [
      "Acconciatore: 907\n",
      "Centro Benessere: 29\n",
      "Centro Massaggi: 139\n",
      "Esecuzione di Tatuaggi e Piercing: 24\n",
      "Parrucchiere per Donna: 1294\n",
      "Parrucchiere per Uomo: 601\n",
      "Tipo A - Estetica Manuale: 1266\n",
      "Tipo B - Centro di Abbronzatura: 693\n",
      "Tipo C - Trattamenti Estetici Dimagrimento: 226\n",
      "Tipo D - Estetica Apparati Elettromeccanici: 162\n",
      "Truccatore: 1\n"
     ]
    }
   ],
   "source": [
    "# Initialize a dictionary to store counts\n",
    "label_counts = {label: 0 for label in unique_labels}\n",
    "\n",
    "# Loop through each row in the \"t_es\" column and count the occurrences of each label\n",
    "for entry in new_SERVICES['t_es'].dropna():  # Drop NaN values to avoid errors\n",
    "    for label in unique_labels:\n",
    "        if label in entry:\n",
    "            label_counts[label] += 1\n",
    "\n",
    "# Print the counts\n",
    "for label, count in label_counts.items():\n",
    "    if label != \"\":\n",
    "        print(f\"{label}: {count}\")"
   ]
  },
  {
   "cell_type": "markdown",
   "id": "727aacf6",
   "metadata": {
    "papermill": {
     "duration": 0.009866,
     "end_time": "2025-01-14T01:11:18.354523",
     "exception": false,
     "start_time": "2025-01-14T01:11:18.344657",
     "status": "completed"
    },
    "tags": []
   },
   "source": [
    "Fix values of \"main\" column."
   ]
  },
  {
   "cell_type": "code",
   "execution_count": 16,
   "id": "c0b9987f",
   "metadata": {
    "execution": {
     "iopub.execute_input": "2025-01-14T01:11:18.376296Z",
     "iopub.status.busy": "2025-01-14T01:11:18.375937Z",
     "iopub.status.idle": "2025-01-14T01:11:18.382155Z",
     "shell.execute_reply": "2025-01-14T01:11:18.381169Z"
    },
    "papermill": {
     "duration": 0.018957,
     "end_time": "2025-01-14T01:11:18.383624",
     "exception": false,
     "start_time": "2025-01-14T01:11:18.364667",
     "status": "completed"
    },
    "tags": []
   },
   "outputs": [
    {
     "data": {
      "text/plain": [
       "array([nan, 'CENTRO MASSAGGI RILASSANTI NON ESTETICI', 'CENTRO BENESSERE',\n",
       "       'TRUCCO SEMIPERMANENTE', 'ESTETICA TIPO A', 'CENTRO MASSAGGI',\n",
       "       'TATUAGGI E PIERCING', 'SERVIZI DI CENTRI PER IL BENESSERE FISICO',\n",
       "       'ESTETICA A', 'acconciatore', 'ACCONCIATORE',\n",
       "       'SERVIZI DEI SALONI DI BARBIERE E PARRUCCHIERE', 'Acconciatore',\n",
       "       'PARRUCCHIERE UOMO DONNA BARBIERE', 'PARRUCCHIERE', 'ACONCIATORE',\n",
       "       'ACCONCIATORE UOMO DONNA', 'acconciatore.',\n",
       "       'ACCONCIATORE E ESTETICA',\n",
       "       'CENTRO BENESSERE RILASSANTE NON ESTETICO',\n",
       "       'CENTRO PER IL BENESSERE FISICO',\n",
       "       'CENTTRO BENESSERE (ESCLUSI GLI STABILIMENTI TERMALI)',\n",
       "       'SERVIZI DEI CENTRI E STABIL. PER IL BENESSERE FISICO',\n",
       "       'STUDIO OLISTICO', 'CENTRO OLISTICO', 'centro massaggi',\n",
       "       'MASSAGGI RILASSANTI', 'CENTRO MASSAGI RILASSANTI NON ESTETICI',\n",
       "       'CENTRO MASSAGGI TUINA', 'CENTRO MASSAGGI RILASSANTI',\n",
       "       'SERVIZI DI CENTRI PER IL BENESSERE',\n",
       "       \"ATTIVITA' DI MASSAGGI RILASSANTI\", 'MASSAGGI',\n",
       "       'CENTRO MASSAGGI THAI RILASSANTI NON CURATIVI', 'centro benessere',\n",
       "       'ESECUZIONE DI TATUAGGI E PIERCING', 'TATUAGGIO',\n",
       "       'tatuaggi e piercing', 'TATUAGGIO E PIERCING',\n",
       "       'ESECUZIONE DI TATUAGGI', 'ESECUZIONE TATUAGGI', 'estetica A',\n",
       "       'ESTETISTA', 'ESTETICA', 'estetica tipo A',\n",
       "       'ESTETISTA MANICURE PEDICURE', 'estetista', 'estetica',\n",
       "       'APPLICAZIONE E DECORAZIONE UNGHIE ARTIFICIALE', 'ESTETICA a',\n",
       "       'RICOSTRUZIONE UNGHIE', 'ESTETICA - CENTRO BENESSERE',\n",
       "       'SERVIZI ORGANIZZATI CON SERVIZI DI SEGRETERIA',\n",
       "       'CENTRO MASSAGGI RILASSANTI ESTETICI', 'ESTETICA A CON TATUAGGI',\n",
       "       'estetica A e solarium', 'ESTETICA A e B', 'ESTETICA A E SOLARIUM',\n",
       "       'CENTRO ESTETICO - SOLARIUN', 'ESTETICA A E B', 'solarium',\n",
       "       'ESTETICA A B', 'SOLARIUM E ESTETICA DI TIPO A',\n",
       "       'ESTETICA TIPO A - B'], dtype=object)"
      ]
     },
     "execution_count": 16,
     "metadata": {},
     "output_type": "execute_result"
    }
   ],
   "source": [
    "new_SERVICES[\"main\"].unique()"
   ]
  },
  {
   "cell_type": "code",
   "execution_count": 17,
   "id": "5a5acbd4",
   "metadata": {
    "execution": {
     "iopub.execute_input": "2025-01-14T01:11:18.406498Z",
     "iopub.status.busy": "2025-01-14T01:11:18.406091Z",
     "iopub.status.idle": "2025-01-14T01:11:18.419876Z",
     "shell.execute_reply": "2025-01-14T01:11:18.418839Z"
    },
    "papermill": {
     "duration": 0.027035,
     "end_time": "2025-01-14T01:11:18.421422",
     "exception": false,
     "start_time": "2025-01-14T01:11:18.394387",
     "status": "completed"
    },
    "tags": []
   },
   "outputs": [],
   "source": [
    "# Ensure 't_es' column does not have NaN values and is treated as strings\n",
    "new_SERVICES[\"main\"] = new_SERVICES[\"main\"].fillna(\"\").astype(str)\n",
    "\n",
    "mapping = {\n",
    "    'CENTRO MASSAGGI RILASSANTI NON ESTETICI': 'Centro Massaggi',\n",
    "    'CENTRO MASSAGGI': 'Centro Massaggi',\n",
    "    'MASSAGGI RILASSANTI': 'Centro Massaggi',\n",
    "    'CENTRO MASSAGGI TUINA': 'Centro Massaggi',\n",
    "    'CENTRO MASSAGGI RILASSANTI': 'Centro Massaggi',\n",
    "    'CENTRO MASSAGI RILASSANTI NON ESTETICI': 'Centro Massaggi', \n",
    "    \"ATTIVITA' DI MASSAGGI RILASSANTI\": 'Centro Massaggi',\n",
    "    'MASSAGGI': 'Centro Massaggi',\n",
    "    'centro massaggi': 'Centro Massaggi',\n",
    "    'CENTRO MASSAGGI THAI RILASSANTI NON CURATIVI': 'Centro Massaggi',\n",
    "    'CENTRO MASSAGGI RILASSANTI ESTETICI': 'Tipo A - Estetica Manuale; Centro Massaggi',\n",
    "    'CENTRO BENESSERE': 'Centro Benessere',\n",
    "    'centro benessere': 'Centro Benessere',\n",
    "    'CENTRO PER IL BENESSERE FISICO': 'Centro Benessere',\n",
    "    'CENTTRO BENESSERE (ESCLUSI GLI STABILIMENTI TERMALI)': 'Centro Benessere',\n",
    "    'CENTRO BENESSERE RILASSANTE NON ESTETICO': 'Centro Benessere',\n",
    "    'SERVIZI DI CENTRI PER IL BENESSERE FISICO': 'Centro Benessere',\n",
    "    'SERVIZI DI CENTRI PER IL BENESSERE': 'Centro Benessere',\n",
    "    'SERVIZI DEI CENTRI E STABIL. PER IL BENESSERE FISICO': 'Centro Benessere',\n",
    "    'STUDIO OLISTICO': 'Centro Massaggi',\n",
    "    'CENTRO OLISTICO': 'Centro Massaggi',\n",
    "    'SERVIZI ORGANIZZATI CON SERVIZI DI SEGRETERIA': 'Tipo A - Estetica Manuale; Centro Massaggi',\n",
    "    'TRUCCO SEMIPERMANENTE': 'Truccatore',\n",
    "    'TRUCCATORE': 'Truccatore',\n",
    "    'TATUAGGI E PIERCING': 'Esecuzione di Tatuaggi e Piercing',\n",
    "    'ESECUZIONE DI TATUAGGI E PIERCING': 'Esecuzione di Tatuaggi e Piercing',\n",
    "    'TATUAGGIO': 'Esecuzione di Tatuaggi e Piercing',\n",
    "    'TATUAGGIO E PIERCING': 'Esecuzione di Tatuaggi e Piercing',\n",
    "    'ESECUZIONE DI TATUAGGI': 'Esecuzione di Tatuaggi e Piercing',\n",
    "    'ESECUZIONE TATUAGGI': 'Esecuzione di Tatuaggi e Piercing',\n",
    "    'tatuaggi e piercing': 'Esecuzione di Tatuaggi e Piercing',\n",
    "    'ACCONCIATORE': 'Acconciatore',\n",
    "    'acconciatore': 'Acconciatore',\n",
    "    'acconciatore.': 'Acconciatore',\n",
    "    'ACONCIATORE': 'Acconciatore',\n",
    "    'ACCONCIATORE UOMO DONNA': 'Acconciatore',\n",
    "    'ACCONCIATORE E ESTETICA': 'Acconciatore; Tipo A - Estetica Manuale',\n",
    "    'SERVIZI DEI SALONI DI BARBIERE E PARRUCCHIERE': 'Acconciatore',\n",
    "    'PARRUCCHIERE UOMO DONNA BARBIERE': 'Acconciatore',\n",
    "    'PARRUCCHIERE': 'Acconciatore',\n",
    "    'ESTETISTA': 'Tipo A - Estetica Manuale',\n",
    "    'ESTETICA': 'Tipo A - Estetica Manuale',\n",
    "    'ESTETICA TIPO A': 'Tipo A - Estetica Manuale',\n",
    "    'estetica tipo A': 'Tipo A - Estetica Manuale',\n",
    "    'ESTETISTA MANICURE PEDICURE': 'Tipo A - Estetica Manuale',\n",
    "    'estetista': 'Tipo A - Estetica Manuale',\n",
    "    'estetica': 'Tipo A - Estetica Manuale',\n",
    "    'APPLICAZIONE E DECORAZIONE UNGHIE ARTIFICIALE': 'Tipo A - Estetica Manuale',\n",
    "    'RICOSTRUZIONE UNGHIE': 'Tipo A - Estetica Manuale',\n",
    "    'ESTETICA - CENTRO BENESSERE': 'Tipo A - Estetica Manuale; Centro Benessere',\n",
    "    'ESTETICA A': 'Tipo A - Estetica Manuale',\n",
    "    'estetica A': 'Tipo A - Estetica Manuale',\n",
    "    'ESTETICA a': 'Tipo A - Estetica Manuale',\n",
    "    'ESTETICA A E SOLARIUM': 'Tipo A - Estetica Manuale; Tipo B - Centro di Abbronzatura',\n",
    "    'solarium': 'Tipo B - Centro di Abbronzatura', \n",
    "    'ESTETICA A CON TATUAGGI': 'Tipo A - Estetica Manuale; Esecuzione di Tatuaggi e Piercing',\n",
    "    'ESTETICA A e B': 'Tipo A - Estetica Manuale; Tipo B - Centro di Abbronzatura',\n",
    "    'ESTETICA A B': 'Tipo A - Estetica Manuale; Tipo B - Centro di Abbronzatura',\n",
    "    'ESTETICA A E B': 'Tipo A - Estetica Manuale; Tipo B - Centro di Abbronzatura',\n",
    "    'estetica A e solarium': 'Tipo A - Estetica Manuale; Tipo B - Centro di Abbronzatura',\n",
    "    'SOLARIUM': 'Tipo B - Centro di Abbronzatura',\n",
    "    'SOLARIUM E ESTETICA DI TIPO A': 'Tipo A - Estetica Manuale; Tipo B - Centro di Abbronzatura',\n",
    "    'ESTETICA TIPO A - B': 'Tipo A - Estetica Manuale; Tipo B - Centro di Abbronzatura',\n",
    "    'CENTRO ESTETICO - SOLARIUN': 'Tipo A - Estetica Manuale; Tipo B - Centro di Abbronzatura'\n",
    "}\n",
    "\n",
    "def replace_multiple_labels(cell_value, label_mapping):\n",
    "    # Split the cell value by a delimiter (semicolon)\n",
    "    labels = cell_value.split(';')  # Adjust delimiter as necessary\n",
    "    # Strip whitespace and replace each label using the mapping\n",
    "    labels = [label_mapping.get(label.strip(), label.strip()) for label in labels]\n",
    "    # Join the labels back with the same delimiter\n",
    "    return ';'.join(labels)\n",
    "\n",
    "# Now apply the mapping for individual labels\n",
    "new_SERVICES[\"main\"] = new_SERVICES[\"main\"].apply(lambda x: replace_multiple_labels(x, mapping))"
   ]
  },
  {
   "cell_type": "code",
   "execution_count": 18,
   "id": "c7a33831",
   "metadata": {
    "execution": {
     "iopub.execute_input": "2025-01-14T01:11:18.444196Z",
     "iopub.status.busy": "2025-01-14T01:11:18.443815Z",
     "iopub.status.idle": "2025-01-14T01:11:18.452087Z",
     "shell.execute_reply": "2025-01-14T01:11:18.451134Z"
    },
    "papermill": {
     "duration": 0.021443,
     "end_time": "2025-01-14T01:11:18.453708",
     "exception": false,
     "start_time": "2025-01-14T01:11:18.432265",
     "status": "completed"
    },
    "tags": []
   },
   "outputs": [
    {
     "data": {
      "text/plain": [
       "array(['', 'Centro Massaggi', 'Centro Benessere', 'Truccatore',\n",
       "       'Tipo A - Estetica Manuale', 'Esecuzione di Tatuaggi e Piercing',\n",
       "       'Acconciatore', 'Acconciatore; Tipo A - Estetica Manuale',\n",
       "       'Tipo A - Estetica Manuale; Centro Benessere',\n",
       "       'Tipo A - Estetica Manuale; Centro Massaggi',\n",
       "       'Tipo A - Estetica Manuale; Esecuzione di Tatuaggi e Piercing',\n",
       "       'Tipo A - Estetica Manuale; Tipo B - Centro di Abbronzatura',\n",
       "       'Tipo B - Centro di Abbronzatura'], dtype=object)"
      ]
     },
     "execution_count": 18,
     "metadata": {},
     "output_type": "execute_result"
    }
   ],
   "source": [
    "new_SERVICES[\"main\"].unique()"
   ]
  },
  {
   "cell_type": "code",
   "execution_count": 19,
   "id": "bf1de3a4",
   "metadata": {
    "execution": {
     "iopub.execute_input": "2025-01-14T01:11:18.476401Z",
     "iopub.status.busy": "2025-01-14T01:11:18.475970Z",
     "iopub.status.idle": "2025-01-14T01:11:18.489884Z",
     "shell.execute_reply": "2025-01-14T01:11:18.488577Z"
    },
    "papermill": {
     "duration": 0.027303,
     "end_time": "2025-01-14T01:11:18.491684",
     "exception": false,
     "start_time": "2025-01-14T01:11:18.464381",
     "status": "completed"
    },
    "tags": []
   },
   "outputs": [
    {
     "name": "stdout",
     "output_type": "stream",
     "text": [
      "Acconciatore: 100\n",
      "Centro Benessere: 13\n",
      "Centro Massaggi: 98\n",
      "Esecuzione di Tatuaggi e Piercing: 19\n",
      "Tipo A - Estetica Manuale: 66\n",
      "Tipo B - Centro di Abbronzatura: 20\n",
      "Truccatore: 1\n"
     ]
    }
   ],
   "source": [
    "# Initialize a dictionary to store counts\n",
    "flattened_labels = [label.strip() for item in new_SERVICES[\"main\"] for label in item.split(\";\")]\n",
    "# Get the unique labels and sort them\n",
    "unique_main_labels = sorted(set(flattened_labels))\n",
    "\n",
    "label_counts = {label: 0 for label in unique_main_labels}\n",
    "\n",
    "# Loop through each row in the \"t_es\" column and count the occurrences of each label\n",
    "for entry in new_SERVICES['main'].dropna():  # Drop NaN values to avoid errors\n",
    "    for label in unique_main_labels:\n",
    "        if label in entry:\n",
    "            label_counts[label] += 1\n",
    "\n",
    "# Print the counts\n",
    "for label, count in label_counts.items():\n",
    "    if label != \"\":\n",
    "        print(f\"{label}: {count}\")"
   ]
  },
  {
   "cell_type": "markdown",
   "id": "61c00b18",
   "metadata": {
    "papermill": {
     "duration": 0.010763,
     "end_time": "2025-01-14T01:11:18.513446",
     "exception": false,
     "start_time": "2025-01-14T01:11:18.502683",
     "status": "completed"
    },
    "tags": []
   },
   "source": [
    "## MAIN\n",
    "Move \"main\" values to \"t_es\" column in order to reduce the number of null values in \"t_es\" column. **(To add that we don't consider it very informative and it has too many values)**"
   ]
  },
  {
   "cell_type": "code",
   "execution_count": 20,
   "id": "8763aa64",
   "metadata": {
    "execution": {
     "iopub.execute_input": "2025-01-14T01:11:18.536356Z",
     "iopub.status.busy": "2025-01-14T01:11:18.536019Z",
     "iopub.status.idle": "2025-01-14T01:11:18.593364Z",
     "shell.execute_reply": "2025-01-14T01:11:18.592379Z"
    },
    "papermill": {
     "duration": 0.070829,
     "end_time": "2025-01-14T01:11:18.595244",
     "exception": false,
     "start_time": "2025-01-14T01:11:18.524415",
     "status": "completed"
    },
    "tags": []
   },
   "outputs": [],
   "source": [
    "# Ensure both columns are strings and handle NaN values\n",
    "new_SERVICES['main'] = new_SERVICES['main'].fillna(\"\").astype(str)\n",
    "new_SERVICES['t_es'] = new_SERVICES['t_es'].fillna(\"\").astype(str)\n",
    "\n",
    "def update_t_es(row):\n",
    "    main_values = row['main'].split(\";\") if row['main'] else []\n",
    "    t_es_values = row['t_es'].split(\";\") if row['t_es'] else []\n",
    "    \n",
    "    # Remove extra whitespace around the labels\n",
    "    main_values = [value.strip() for value in main_values]\n",
    "    t_es_values = [value.strip() for value in t_es_values]\n",
    "    \n",
    "    # If t_es is empty, copy main values\n",
    "    if not t_es_values:\n",
    "        return \";\".join(main_values)\n",
    "    \n",
    "    # Add main labels that are not already in t_es\n",
    "    for main_value in main_values:\n",
    "        # Add the condition: If main is \"Acconciatore\" and t_es contains \"Parrucchiere per Uomo\" or \"Parrucchiere per Donna\", don't add\n",
    "        if main_value == \"Acconciatore\" and any(x in t_es_values for x in [\"Parrucchiere per Uomo\", \"Parrucchiere per Donna\"]):\n",
    "            continue\n",
    "        if main_value not in t_es_values:\n",
    "            t_es_values.append(main_value)\n",
    "    \n",
    "    # Return the updated t_es column as a semicolon-separated string\n",
    "    return \";\".join(t_es_values)\n",
    "\n",
    "# Apply the function row-wise\n",
    "new_SERVICES['t_es'] = new_SERVICES.apply(update_t_es, axis=1)"
   ]
  },
  {
   "cell_type": "code",
   "execution_count": 21,
   "id": "f9318ea2",
   "metadata": {
    "execution": {
     "iopub.execute_input": "2025-01-14T01:11:18.617882Z",
     "iopub.status.busy": "2025-01-14T01:11:18.617475Z",
     "iopub.status.idle": "2025-01-14T01:11:18.625124Z",
     "shell.execute_reply": "2025-01-14T01:11:18.624012Z"
    },
    "papermill": {
     "duration": 0.020681,
     "end_time": "2025-01-14T01:11:18.626704",
     "exception": false,
     "start_time": "2025-01-14T01:11:18.606023",
     "status": "completed"
    },
    "tags": []
   },
   "outputs": [
    {
     "name": "stdout",
     "output_type": "stream",
     "text": [
      "The number of Nan in 't_es' column is 16.\n"
     ]
    }
   ],
   "source": [
    "new_SERVICES['t_es'] = new_SERVICES['t_es'].replace(\"\", float(\"nan\"))\n",
    "print(\"The number of Nan in 't_es' column is {}.\".format(sum(new_SERVICES[\"t_es\"].isnull())))"
   ]
  },
  {
   "cell_type": "markdown",
   "id": "8a1082b1",
   "metadata": {
    "papermill": {
     "duration": 0.010669,
     "end_time": "2025-01-14T01:11:18.648231",
     "exception": false,
     "start_time": "2025-01-14T01:11:18.637562",
     "status": "completed"
    },
    "tags": []
   },
   "source": [
    "Since \"Main\" info is incorporated in \"t_es\" column, we drop it."
   ]
  },
  {
   "cell_type": "code",
   "execution_count": 22,
   "id": "59c49785",
   "metadata": {
    "execution": {
     "iopub.execute_input": "2025-01-14T01:11:18.671077Z",
     "iopub.status.busy": "2025-01-14T01:11:18.670700Z",
     "iopub.status.idle": "2025-01-14T01:11:18.678022Z",
     "shell.execute_reply": "2025-01-14T01:11:18.677133Z"
    },
    "papermill": {
     "duration": 0.020558,
     "end_time": "2025-01-14T01:11:18.679619",
     "exception": false,
     "start_time": "2025-01-14T01:11:18.659061",
     "status": "completed"
    },
    "tags": []
   },
   "outputs": [],
   "source": [
    "new_SERVICES = new_SERVICES.drop('main', axis=1)"
   ]
  },
  {
   "cell_type": "code",
   "execution_count": 23,
   "id": "de08b26f",
   "metadata": {
    "execution": {
     "iopub.execute_input": "2025-01-14T01:11:18.702820Z",
     "iopub.status.busy": "2025-01-14T01:11:18.702336Z",
     "iopub.status.idle": "2025-01-14T01:11:18.715985Z",
     "shell.execute_reply": "2025-01-14T01:11:18.714868Z"
    },
    "papermill": {
     "duration": 0.027203,
     "end_time": "2025-01-14T01:11:18.717783",
     "exception": false,
     "start_time": "2025-01-14T01:11:18.690580",
     "status": "completed"
    },
    "tags": []
   },
   "outputs": [
    {
     "data": {
      "text/html": [
       "<div>\n",
       "<style scoped>\n",
       "    .dataframe tbody tr th:only-of-type {\n",
       "        vertical-align: middle;\n",
       "    }\n",
       "\n",
       "    .dataframe tbody tr th {\n",
       "        vertical-align: top;\n",
       "    }\n",
       "\n",
       "    .dataframe thead th {\n",
       "        text-align: right;\n",
       "    }\n",
       "</style>\n",
       "<table border=\"1\" class=\"dataframe\">\n",
       "  <thead>\n",
       "    <tr style=\"text-align: right;\">\n",
       "      <th></th>\n",
       "      <th>t_es</th>\n",
       "      <th>ubic</th>\n",
       "      <th>t_via</th>\n",
       "      <th>via</th>\n",
       "      <th>civ</th>\n",
       "      <th>cod_via</th>\n",
       "      <th>zd</th>\n",
       "      <th>sup_alt</th>\n",
       "      <th>sup_lav</th>\n",
       "    </tr>\n",
       "  </thead>\n",
       "  <tbody>\n",
       "    <tr>\n",
       "      <th>0</th>\n",
       "      <td>NaN</td>\n",
       "      <td>LGO DEI GELSOMINI N. 10 (z.d. 6)</td>\n",
       "      <td>LGO</td>\n",
       "      <td>DEI GELSOMINI</td>\n",
       "      <td>10</td>\n",
       "      <td>5394.0</td>\n",
       "      <td>6</td>\n",
       "      <td>NaN</td>\n",
       "      <td>55.0</td>\n",
       "    </tr>\n",
       "    <tr>\n",
       "      <th>1</th>\n",
       "      <td>Centro Massaggi</td>\n",
       "      <td>PZA FIDIA N. 3 (z.d. 9)</td>\n",
       "      <td>PZA</td>\n",
       "      <td>FIDIA</td>\n",
       "      <td>3</td>\n",
       "      <td>1144.0</td>\n",
       "      <td>9</td>\n",
       "      <td>2.0</td>\n",
       "      <td>28.0</td>\n",
       "    </tr>\n",
       "    <tr>\n",
       "      <th>2</th>\n",
       "      <td>Centro Benessere</td>\n",
       "      <td>VIA ADIGE N. 10 (z.d. 5)</td>\n",
       "      <td>VIA</td>\n",
       "      <td>ADIGE</td>\n",
       "      <td>10</td>\n",
       "      <td>4216.0</td>\n",
       "      <td>5</td>\n",
       "      <td>2.0</td>\n",
       "      <td>27.0</td>\n",
       "    </tr>\n",
       "    <tr>\n",
       "      <th>3</th>\n",
       "      <td>Truccatore</td>\n",
       "      <td>VIA BARACCHINI FLAVIO N. 9 (z.d. 1)</td>\n",
       "      <td>VIA</td>\n",
       "      <td>BARACCHINI FLAVIO</td>\n",
       "      <td>9</td>\n",
       "      <td>356.0</td>\n",
       "      <td>1</td>\n",
       "      <td>NaN</td>\n",
       "      <td>NaN</td>\n",
       "    </tr>\n",
       "    <tr>\n",
       "      <th>4</th>\n",
       "      <td>NaN</td>\n",
       "      <td>VIA BERGAMO N. 12 (z.d. 4)</td>\n",
       "      <td>VIA</td>\n",
       "      <td>BERGAMO</td>\n",
       "      <td>12</td>\n",
       "      <td>3189.0</td>\n",
       "      <td>4</td>\n",
       "      <td>NaN</td>\n",
       "      <td>50.0</td>\n",
       "    </tr>\n",
       "  </tbody>\n",
       "</table>\n",
       "</div>"
      ],
      "text/plain": [
       "               t_es                                 ubic t_via  \\\n",
       "0               NaN     LGO DEI GELSOMINI N. 10 (z.d. 6)   LGO   \n",
       "1   Centro Massaggi              PZA FIDIA N. 3 (z.d. 9)   PZA   \n",
       "2  Centro Benessere             VIA ADIGE N. 10 (z.d. 5)   VIA   \n",
       "3        Truccatore  VIA BARACCHINI FLAVIO N. 9 (z.d. 1)   VIA   \n",
       "4               NaN           VIA BERGAMO N. 12 (z.d. 4)   VIA   \n",
       "\n",
       "                 via civ  cod_via  zd  sup_alt  sup_lav  \n",
       "0      DEI GELSOMINI  10   5394.0   6      NaN     55.0  \n",
       "1              FIDIA   3   1144.0   9      2.0     28.0  \n",
       "2              ADIGE  10   4216.0   5      2.0     27.0  \n",
       "3  BARACCHINI FLAVIO   9    356.0   1      NaN      NaN  \n",
       "4            BERGAMO  12   3189.0   4      NaN     50.0  "
      ]
     },
     "execution_count": 23,
     "metadata": {},
     "output_type": "execute_result"
    }
   ],
   "source": [
    "new_SERVICES.head()"
   ]
  },
  {
   "cell_type": "markdown",
   "id": "73ad82d9",
   "metadata": {
    "papermill": {
     "duration": 0.010507,
     "end_time": "2025-01-14T01:11:18.740150",
     "exception": false,
     "start_time": "2025-01-14T01:11:18.729643",
     "status": "completed"
    },
    "tags": []
   },
   "source": [
    "Drop rows labeled as \"Truccatore\" in \"t_es\", since the class is under-represented."
   ]
  },
  {
   "cell_type": "code",
   "execution_count": 24,
   "id": "ce1a06d3",
   "metadata": {
    "execution": {
     "iopub.execute_input": "2025-01-14T01:11:18.763469Z",
     "iopub.status.busy": "2025-01-14T01:11:18.763060Z",
     "iopub.status.idle": "2025-01-14T01:11:18.770066Z",
     "shell.execute_reply": "2025-01-14T01:11:18.768928Z"
    },
    "papermill": {
     "duration": 0.021475,
     "end_time": "2025-01-14T01:11:18.772515",
     "exception": false,
     "start_time": "2025-01-14T01:11:18.751040",
     "status": "completed"
    },
    "tags": []
   },
   "outputs": [],
   "source": [
    "new_SERVICES = new_SERVICES[new_SERVICES[\"t_es\"] != \"Truccatore\"]"
   ]
  },
  {
   "cell_type": "markdown",
   "id": "04a88246",
   "metadata": {
    "papermill": {
     "duration": 0.01054,
     "end_time": "2025-01-14T01:11:18.795241",
     "exception": false,
     "start_time": "2025-01-14T01:11:18.784701",
     "status": "completed"
    },
    "tags": []
   },
   "source": [
    "## T_VIA"
   ]
  },
  {
   "cell_type": "code",
   "execution_count": 25,
   "id": "535e2d4a",
   "metadata": {
    "execution": {
     "iopub.execute_input": "2025-01-14T01:11:18.819589Z",
     "iopub.status.busy": "2025-01-14T01:11:18.819196Z",
     "iopub.status.idle": "2025-01-14T01:11:18.825876Z",
     "shell.execute_reply": "2025-01-14T01:11:18.824702Z"
    },
    "papermill": {
     "duration": 0.021558,
     "end_time": "2025-01-14T01:11:18.827787",
     "exception": false,
     "start_time": "2025-01-14T01:11:18.806229",
     "status": "completed"
    },
    "tags": []
   },
   "outputs": [
    {
     "data": {
      "text/plain": [
       "array(['LGO', 'PZA', 'VIA', 'VLE', 'CSO', nan, 'COMO', 'PAS', 'PLE',\n",
       "       'ALZ', 'BST', 'FOR', 'VIE', 'VLO', 'GLL', 'RIP', 'PTA', 'SIT'],\n",
       "      dtype=object)"
      ]
     },
     "execution_count": 25,
     "metadata": {},
     "output_type": "execute_result"
    }
   ],
   "source": [
    "SERVICES.t_via.unique()"
   ]
  },
  {
   "cell_type": "code",
   "execution_count": 26,
   "id": "1548ad31",
   "metadata": {
    "execution": {
     "iopub.execute_input": "2025-01-14T01:11:18.853426Z",
     "iopub.status.busy": "2025-01-14T01:11:18.853061Z",
     "iopub.status.idle": "2025-01-14T01:11:18.859678Z",
     "shell.execute_reply": "2025-01-14T01:11:18.858352Z"
    },
    "papermill": {
     "duration": 0.020665,
     "end_time": "2025-01-14T01:11:18.861392",
     "exception": false,
     "start_time": "2025-01-14T01:11:18.840727",
     "status": "completed"
    },
    "tags": []
   },
   "outputs": [
    {
     "data": {
      "text/plain": [
       "array(['LGO', 'PZA', 'VIA', 'VLE', 'CSO', 'PAS', 'PLE', 'ALZ', 'BST',\n",
       "       'FOR', 'VIE', 'VLO', 'GLL', 'RIP', 'PTA', 'SIT'], dtype=object)"
      ]
     },
     "execution_count": 26,
     "metadata": {},
     "output_type": "execute_result"
    }
   ],
   "source": [
    "new_SERVICES.t_via.unique()"
   ]
  },
  {
   "cell_type": "markdown",
   "id": "2914d824",
   "metadata": {
    "papermill": {
     "duration": 0.010725,
     "end_time": "2025-01-14T01:11:18.883373",
     "exception": false,
     "start_time": "2025-01-14T01:11:18.872648",
     "status": "completed"
    },
    "tags": []
   },
   "source": [
    "## COD_VIA"
   ]
  },
  {
   "cell_type": "code",
   "execution_count": 27,
   "id": "8f4394bb",
   "metadata": {
    "execution": {
     "iopub.execute_input": "2025-01-14T01:11:18.908630Z",
     "iopub.status.busy": "2025-01-14T01:11:18.908290Z",
     "iopub.status.idle": "2025-01-14T01:11:18.918024Z",
     "shell.execute_reply": "2025-01-14T01:11:18.916803Z"
    },
    "papermill": {
     "duration": 0.023481,
     "end_time": "2025-01-14T01:11:18.919599",
     "exception": false,
     "start_time": "2025-01-14T01:11:18.896118",
     "status": "completed"
    },
    "tags": []
   },
   "outputs": [
    {
     "name": "stdout",
     "output_type": "stream",
     "text": [
      "All values in 'cod_via' are floats.\n"
     ]
    }
   ],
   "source": [
    "# Check if any value in 'cod_via' is not a float\n",
    "non_float_values = SERVICES['cod_via'].apply(lambda x: not isinstance(x, float))\n",
    "if non_float_values.any():\n",
    "    print(\"There are non-float values in 'cod_via'.\")\n",
    "else:\n",
    "    print(\"All values in 'cod_via' are floats.\")\n",
    "\n",
    "new_SERVICES.cod_via = new_SERVICES.cod_via.astype(str) "
   ]
  },
  {
   "cell_type": "markdown",
   "id": "1f518131",
   "metadata": {
    "papermill": {
     "duration": 0.010883,
     "end_time": "2025-01-14T01:11:18.941930",
     "exception": false,
     "start_time": "2025-01-14T01:11:18.931047",
     "status": "completed"
    },
    "tags": []
   },
   "source": [
    "## CIV"
   ]
  },
  {
   "cell_type": "code",
   "execution_count": 28,
   "id": "53cb8f01",
   "metadata": {
    "execution": {
     "iopub.execute_input": "2025-01-14T01:11:18.965958Z",
     "iopub.status.busy": "2025-01-14T01:11:18.965563Z",
     "iopub.status.idle": "2025-01-14T01:11:18.972123Z",
     "shell.execute_reply": "2025-01-14T01:11:18.971178Z"
    },
    "papermill": {
     "duration": 0.020643,
     "end_time": "2025-01-14T01:11:18.973760",
     "exception": false,
     "start_time": "2025-01-14T01:11:18.953117",
     "status": "completed"
    },
    "tags": []
   },
   "outputs": [
    {
     "data": {
      "text/plain": [
       "array(['10', '3', '12', '13', '39', '25', '6', '20', '30', '2', '67',\n",
       "       '16', '111', '36', '83', '5', '22', '23', '1', '4', '91', '8',\n",
       "       '19', '38', '15', '46', '54', '65', '103', '40', '29', '9', '32',\n",
       "       '7', '17', '27', '12A', '48', '61', '47', '232', '234', '57', '75',\n",
       "       '34', '150', '71', '55', '21', '6A', '163', '90', '14', '53', '70',\n",
       "       '119F', '26', '24', '40945', '128', '3B', '41', '64', '68', '35',\n",
       "       '49', '42', '99', '52', '72', '117', '79', '96', '58', '81', '112',\n",
       "       '93/1', '87', '63', '18', '123', '31', nan, '33', '11', '242',\n",
       "       '46D', '28', '80', '98', '59', '37', '43', '60', '50', '44', '246',\n",
       "       '326', '407', '410', '51', '110', '130', '131', '157', '174', '62',\n",
       "       '107', '73', '139', '147', '168', '213', '255', '279', '45', '77',\n",
       "       '4A', '187', '89', '207', '227', '244', '56', '100', '104', '74',\n",
       "       '66', '92', '108', '121', '76', '233', '249', '256', '267', '270',\n",
       "       '82', '116', '236', '69', '178', '143', '113', '129', '120', '154',\n",
       "       '235', '3A', '195', '5A', '243', '105', '179', '22A', '127', '333',\n",
       "       '124', '84', '102', '94', '8A', '85', '172', '158', '376', '220',\n",
       "       '101', '149', '169', '93', '141', '181', '201', '142', '182',\n",
       "       '186', '217', '288', '310', '126', '167', '184', '190', '193',\n",
       "       '218', '219', '86', '115', '273', '277', '309', '325', '78', '140',\n",
       "       '155', '283', '196', '175', '106', '109', '165', '328', '95',\n",
       "       '151', '191', '212', '114', '173', '177', '118', '145', '290',\n",
       "       '208', '324', '146', '2A', '1A', '197', '395', '135', '55B', '40A',\n",
       "       '133', '276', '180', '185', '261', '97', '11A', '260', '214',\n",
       "       '198', '265', '336'], dtype=object)"
      ]
     },
     "execution_count": 28,
     "metadata": {},
     "output_type": "execute_result"
    }
   ],
   "source": [
    "new_SERVICES.civ.unique()"
   ]
  },
  {
   "cell_type": "markdown",
   "id": "6222a4a9",
   "metadata": {
    "papermill": {
     "duration": 0.010947,
     "end_time": "2025-01-14T01:11:18.996036",
     "exception": false,
     "start_time": "2025-01-14T01:11:18.985089",
     "status": "completed"
    },
    "tags": []
   },
   "source": [
    "## UBIC"
   ]
  },
  {
   "cell_type": "code",
   "execution_count": 29,
   "id": "7b22f276",
   "metadata": {
    "execution": {
     "iopub.execute_input": "2025-01-14T01:11:19.020034Z",
     "iopub.status.busy": "2025-01-14T01:11:19.019639Z",
     "iopub.status.idle": "2025-01-14T01:11:19.504125Z",
     "shell.execute_reply": "2025-01-14T01:11:19.503088Z"
    },
    "papermill": {
     "duration": 0.498546,
     "end_time": "2025-01-14T01:11:19.505829",
     "exception": false,
     "start_time": "2025-01-14T01:11:19.007283",
     "status": "completed"
    },
    "tags": []
   },
   "outputs": [
    {
     "data": {
      "text/html": [
       "<div>\n",
       "<style scoped>\n",
       "    .dataframe tbody tr th:only-of-type {\n",
       "        vertical-align: middle;\n",
       "    }\n",
       "\n",
       "    .dataframe tbody tr th {\n",
       "        vertical-align: top;\n",
       "    }\n",
       "\n",
       "    .dataframe thead th {\n",
       "        text-align: right;\n",
       "    }\n",
       "</style>\n",
       "<table border=\"1\" class=\"dataframe\">\n",
       "  <thead>\n",
       "    <tr style=\"text-align: right;\">\n",
       "      <th></th>\n",
       "      <th>t_es</th>\n",
       "      <th>ubic</th>\n",
       "      <th>t_via</th>\n",
       "      <th>via</th>\n",
       "      <th>civ</th>\n",
       "      <th>cod_via</th>\n",
       "      <th>zd</th>\n",
       "      <th>sup_alt</th>\n",
       "      <th>sup_lav</th>\n",
       "      <th>ubic_t_via</th>\n",
       "      <th>ubic_via</th>\n",
       "      <th>ubic_civ</th>\n",
       "      <th>ubic_zd</th>\n",
       "    </tr>\n",
       "  </thead>\n",
       "  <tbody>\n",
       "    <tr>\n",
       "      <th>0</th>\n",
       "      <td>NaN</td>\n",
       "      <td>LGO DEI GELSOMINI N. 10 (z.d. 6)</td>\n",
       "      <td>LGO</td>\n",
       "      <td>DEI GELSOMINI</td>\n",
       "      <td>10</td>\n",
       "      <td>5394.0</td>\n",
       "      <td>6</td>\n",
       "      <td>NaN</td>\n",
       "      <td>55.0</td>\n",
       "      <td>LGO</td>\n",
       "      <td>DEI GELSOMINI</td>\n",
       "      <td>10</td>\n",
       "      <td>6</td>\n",
       "    </tr>\n",
       "    <tr>\n",
       "      <th>1</th>\n",
       "      <td>Centro Massaggi</td>\n",
       "      <td>PZA FIDIA N. 3 (z.d. 9)</td>\n",
       "      <td>PZA</td>\n",
       "      <td>FIDIA</td>\n",
       "      <td>3</td>\n",
       "      <td>1144.0</td>\n",
       "      <td>9</td>\n",
       "      <td>2.0</td>\n",
       "      <td>28.0</td>\n",
       "      <td>PZA</td>\n",
       "      <td>FIDIA</td>\n",
       "      <td>3</td>\n",
       "      <td>9</td>\n",
       "    </tr>\n",
       "    <tr>\n",
       "      <th>2</th>\n",
       "      <td>Centro Benessere</td>\n",
       "      <td>VIA ADIGE N. 10 (z.d. 5)</td>\n",
       "      <td>VIA</td>\n",
       "      <td>ADIGE</td>\n",
       "      <td>10</td>\n",
       "      <td>4216.0</td>\n",
       "      <td>5</td>\n",
       "      <td>2.0</td>\n",
       "      <td>27.0</td>\n",
       "      <td>VIA</td>\n",
       "      <td>ADIGE</td>\n",
       "      <td>10</td>\n",
       "      <td>5</td>\n",
       "    </tr>\n",
       "    <tr>\n",
       "      <th>4</th>\n",
       "      <td>NaN</td>\n",
       "      <td>VIA BERGAMO N. 12 (z.d. 4)</td>\n",
       "      <td>VIA</td>\n",
       "      <td>BERGAMO</td>\n",
       "      <td>12</td>\n",
       "      <td>3189.0</td>\n",
       "      <td>4</td>\n",
       "      <td>NaN</td>\n",
       "      <td>50.0</td>\n",
       "      <td>VIA</td>\n",
       "      <td>BERGAMO</td>\n",
       "      <td>12</td>\n",
       "      <td>4</td>\n",
       "    </tr>\n",
       "    <tr>\n",
       "      <th>5</th>\n",
       "      <td>Centro Benessere</td>\n",
       "      <td>VIA BOTTEGO VITTORIO N. 13 (z.d. 2)</td>\n",
       "      <td>VIA</td>\n",
       "      <td>BOTTEGO VITTORIO</td>\n",
       "      <td>13</td>\n",
       "      <td>2521.0</td>\n",
       "      <td>2</td>\n",
       "      <td>5.0</td>\n",
       "      <td>90.0</td>\n",
       "      <td>VIA</td>\n",
       "      <td>BOTTEGO VITTORIO</td>\n",
       "      <td>13</td>\n",
       "      <td>2</td>\n",
       "    </tr>\n",
       "  </tbody>\n",
       "</table>\n",
       "</div>"
      ],
      "text/plain": [
       "               t_es                                 ubic t_via  \\\n",
       "0               NaN     LGO DEI GELSOMINI N. 10 (z.d. 6)   LGO   \n",
       "1   Centro Massaggi              PZA FIDIA N. 3 (z.d. 9)   PZA   \n",
       "2  Centro Benessere             VIA ADIGE N. 10 (z.d. 5)   VIA   \n",
       "4               NaN           VIA BERGAMO N. 12 (z.d. 4)   VIA   \n",
       "5  Centro Benessere  VIA BOTTEGO VITTORIO N. 13 (z.d. 2)   VIA   \n",
       "\n",
       "                via civ cod_via  zd  sup_alt  sup_lav ubic_t_via  \\\n",
       "0     DEI GELSOMINI  10  5394.0   6      NaN     55.0        LGO   \n",
       "1             FIDIA   3  1144.0   9      2.0     28.0        PZA   \n",
       "2             ADIGE  10  4216.0   5      2.0     27.0        VIA   \n",
       "4           BERGAMO  12  3189.0   4      NaN     50.0        VIA   \n",
       "5  BOTTEGO VITTORIO  13  2521.0   2      5.0     90.0        VIA   \n",
       "\n",
       "           ubic_via ubic_civ ubic_zd  \n",
       "0     DEI GELSOMINI       10       6  \n",
       "1             FIDIA        3       9  \n",
       "2             ADIGE       10       5  \n",
       "4           BERGAMO       12       4  \n",
       "5  BOTTEGO VITTORIO       13       2  "
      ]
     },
     "execution_count": 29,
     "metadata": {},
     "output_type": "execute_result"
    }
   ],
   "source": [
    "new_SERVICES['ubic'] = new_SERVICES['ubic'].fillna(\"\").astype(str)\n",
    "\n",
    "def split_ubicazione(ubicazione):\n",
    "    parts = ubicazione.split(\" \")\n",
    "    \n",
    "    # Extract \"Tipo Via\" (first word)\n",
    "    tipo_via = parts[0]\n",
    "\n",
    "    # Determine which keyword is present (checking both \"n.\" and \"num.\" as prefix)\n",
    "    keyword = None\n",
    "    for part in parts:\n",
    "        if part.startswith(\"N.\") or part.startswith(\"n.\"):\n",
    "            keyword = \"N.\"\n",
    "            break\n",
    "        elif part.startswith(\"num.\"):\n",
    "            keyword = \"num.\"\n",
    "            break\n",
    "\n",
    "    # Extract everything between \"Tipo Via\" and \"N.\" or \"num.\" for the \"Via\" (street name)\n",
    "    via_parts = []\n",
    "    for part in parts[1:]:\n",
    "        if part.startswith(keyword):\n",
    "            break\n",
    "        via_parts.append(part)\n",
    "    via = \" \".join(via_parts)\n",
    "\n",
    "    # Extract \"Civico\" (the number after \"N.\" or \"num.\") with semicolon handling\n",
    "    civico = None\n",
    "    if keyword == \"num.\":\n",
    "        # Look for the pattern after \"num.\" or \"n.\" until semicolon or end of string\n",
    "        for part in parts:\n",
    "            if part.startswith(keyword):\n",
    "                civico = part[len(keyword):]  # remove 'n.' or 'num.' part to get the civico\n",
    "                break\n",
    "        \n",
    "        # If civico found but there is a semicolon after, remove everything after the semicolon\n",
    "        if civico:\n",
    "            civico = civico.split(\";\")[0]  # Take everything before the semicolon\n",
    "        else:\n",
    "            civico = np.nan\n",
    "    \n",
    "    elif keyword == \"N.\":\n",
    "        # Handle the case when 'n.' is found in the parts list\n",
    "        if keyword in parts:\n",
    "            civico_index = parts.index(keyword) + 1\n",
    "            if civico_index < len(parts):\n",
    "                civico = parts[civico_index]\n",
    "                # If there's a semicolon after the civico, handle it\n",
    "                civico = civico.split(\";\")[0]\n",
    "            else:\n",
    "                civico = np.nan\n",
    "        else:\n",
    "            civico = np.nan\n",
    "    \n",
    "    # Extract \"ZD\" (the last number in the string)\n",
    "    try:\n",
    "        zd = parts[-1].strip(\"(z.d. )\")\n",
    "    except Exception as e:\n",
    "        zd = np.nan\n",
    "\n",
    "    civico = str(civico).upper() if civico != np.nan else civico\n",
    "\n",
    "    return tipo_via, via, civico, zd\n",
    "\n",
    "# Apply to each row of SERVICES, using apply() correctly on the column (Series)\n",
    "new_SERVICES[['ubic_t_via', 'ubic_via', 'ubic_civ', 'ubic_zd']] = new_SERVICES['ubic'].apply(lambda x: pd.Series(split_ubicazione(x)))\n",
    "\n",
    "# Now you have new columns for 'Tipo via', 'Via', 'Civico', and 'ZD'\n",
    "new_SERVICES.head()"
   ]
  },
  {
   "cell_type": "code",
   "execution_count": 30,
   "id": "c3a93108",
   "metadata": {
    "execution": {
     "iopub.execute_input": "2025-01-14T01:11:19.530334Z",
     "iopub.status.busy": "2025-01-14T01:11:19.530008Z",
     "iopub.status.idle": "2025-01-14T01:11:19.535576Z",
     "shell.execute_reply": "2025-01-14T01:11:19.534820Z"
    },
    "papermill": {
     "duration": 0.019622,
     "end_time": "2025-01-14T01:11:19.537043",
     "exception": false,
     "start_time": "2025-01-14T01:11:19.517421",
     "status": "completed"
    },
    "tags": []
   },
   "outputs": [],
   "source": [
    "prova = new_SERVICES.copy()"
   ]
  },
  {
   "cell_type": "code",
   "execution_count": 31,
   "id": "7d0e57cf",
   "metadata": {
    "execution": {
     "iopub.execute_input": "2025-01-14T01:11:19.561293Z",
     "iopub.status.busy": "2025-01-14T01:11:19.560901Z",
     "iopub.status.idle": "2025-01-14T01:11:19.582249Z",
     "shell.execute_reply": "2025-01-14T01:11:19.581192Z"
    },
    "papermill": {
     "duration": 0.035483,
     "end_time": "2025-01-14T01:11:19.584077",
     "exception": false,
     "start_time": "2025-01-14T01:11:19.548594",
     "status": "completed"
    },
    "tags": []
   },
   "outputs": [
    {
     "data": {
      "text/html": [
       "<div>\n",
       "<style scoped>\n",
       "    .dataframe tbody tr th:only-of-type {\n",
       "        vertical-align: middle;\n",
       "    }\n",
       "\n",
       "    .dataframe tbody tr th {\n",
       "        vertical-align: top;\n",
       "    }\n",
       "\n",
       "    .dataframe thead th {\n",
       "        text-align: right;\n",
       "    }\n",
       "</style>\n",
       "<table border=\"1\" class=\"dataframe\">\n",
       "  <thead>\n",
       "    <tr style=\"text-align: right;\">\n",
       "      <th></th>\n",
       "      <th>t_es</th>\n",
       "      <th>ubic</th>\n",
       "      <th>t_via</th>\n",
       "      <th>via</th>\n",
       "      <th>civ</th>\n",
       "      <th>cod_via</th>\n",
       "      <th>zd</th>\n",
       "      <th>sup_alt</th>\n",
       "      <th>sup_lav</th>\n",
       "      <th>ubic_t_via</th>\n",
       "      <th>ubic_via</th>\n",
       "      <th>ubic_civ</th>\n",
       "      <th>ubic_zd</th>\n",
       "    </tr>\n",
       "  </thead>\n",
       "  <tbody>\n",
       "    <tr>\n",
       "      <th>209</th>\n",
       "      <td>Acconciatore</td>\n",
       "      <td>codvia 4386 num.008; (z.d. 4)</td>\n",
       "      <td>CSO</td>\n",
       "      <td>LODI</td>\n",
       "      <td>72</td>\n",
       "      <td>4068.0</td>\n",
       "      <td>4</td>\n",
       "      <td>NaN</td>\n",
       "      <td>50.0</td>\n",
       "      <td>codvia</td>\n",
       "      <td>4386</td>\n",
       "      <td>008</td>\n",
       "      <td>4</td>\n",
       "    </tr>\n",
       "    <tr>\n",
       "      <th>242</th>\n",
       "      <td>Acconciatore</td>\n",
       "      <td>mm1 duomo codvia 9112 num.000; (z.d. 1)</td>\n",
       "      <td>CSO</td>\n",
       "      <td>SEMPIONE</td>\n",
       "      <td>10</td>\n",
       "      <td>7137.0</td>\n",
       "      <td>1</td>\n",
       "      <td>NaN</td>\n",
       "      <td>NaN</td>\n",
       "      <td>mm1</td>\n",
       "      <td>duomo codvia 9112</td>\n",
       "      <td>000</td>\n",
       "      <td>1</td>\n",
       "    </tr>\n",
       "    <tr>\n",
       "      <th>650</th>\n",
       "      <td>Acconciatore</td>\n",
       "      <td>VIA SOLARI ANDREA num.002a; (z.d. 6)</td>\n",
       "      <td>PZA</td>\n",
       "      <td>FRATTINI PIETRO</td>\n",
       "      <td>19</td>\n",
       "      <td>5389.0</td>\n",
       "      <td>6</td>\n",
       "      <td>NaN</td>\n",
       "      <td>NaN</td>\n",
       "      <td>VIA</td>\n",
       "      <td>SOLARI ANDREA</td>\n",
       "      <td>002A</td>\n",
       "      <td>6</td>\n",
       "    </tr>\n",
       "    <tr>\n",
       "      <th>743</th>\n",
       "      <td>Acconciatore</td>\n",
       "      <td>VLE FORLANINI ENRICO con ingr. da p.zza artigianato num.0509; (z.d. 4)</td>\n",
       "      <td>VIA</td>\n",
       "      <td>MINCIO</td>\n",
       "      <td>3</td>\n",
       "      <td>4157.0</td>\n",
       "      <td>4</td>\n",
       "      <td>NaN</td>\n",
       "      <td>NaN</td>\n",
       "      <td>VLE</td>\n",
       "      <td>FORLANINI ENRICO con ingr. da p.zza artigianato</td>\n",
       "      <td>0509</td>\n",
       "      <td>4</td>\n",
       "    </tr>\n",
       "    <tr>\n",
       "      <th>744</th>\n",
       "      <td>Acconciatore</td>\n",
       "      <td>VLE FORLANINI ENRICO num.0505; (z.d. 4)</td>\n",
       "      <td>VIA</td>\n",
       "      <td>TAGLIAMENTO</td>\n",
       "      <td>19</td>\n",
       "      <td>4147.0</td>\n",
       "      <td>4</td>\n",
       "      <td>NaN</td>\n",
       "      <td>48.0</td>\n",
       "      <td>VLE</td>\n",
       "      <td>FORLANINI ENRICO</td>\n",
       "      <td>0505</td>\n",
       "      <td>4</td>\n",
       "    </tr>\n",
       "    <tr>\n",
       "      <th>807</th>\n",
       "      <td>Tipo A - Estetica Manuale;Acconciatore</td>\n",
       "      <td>CSO GARIBALDI GIUSEPPE num.051a; (z.d. 1)</td>\n",
       "      <td>VLE</td>\n",
       "      <td>CRISPI FRANCESCO</td>\n",
       "      <td>9</td>\n",
       "      <td>1063.0</td>\n",
       "      <td>1</td>\n",
       "      <td>1.0</td>\n",
       "      <td>21.0</td>\n",
       "      <td>CSO</td>\n",
       "      <td>GARIBALDI GIUSEPPE</td>\n",
       "      <td>051A</td>\n",
       "      <td>1</td>\n",
       "    </tr>\n",
       "    <tr>\n",
       "      <th>1202</th>\n",
       "      <td>Parrucchiere per Donna;Parrucchiere per Uomo</td>\n",
       "      <td>VLE TEODORICO num.0192; (z.d. 8)</td>\n",
       "      <td>VIA</td>\n",
       "      <td>RUGGERO DI LAURIA</td>\n",
       "      <td>20</td>\n",
       "      <td>7163.0</td>\n",
       "      <td>8</td>\n",
       "      <td>NaN</td>\n",
       "      <td>54.0</td>\n",
       "      <td>VLE</td>\n",
       "      <td>TEODORICO</td>\n",
       "      <td>0192</td>\n",
       "      <td>8</td>\n",
       "    </tr>\n",
       "    <tr>\n",
       "      <th>1632</th>\n",
       "      <td>Parrucchiere per Donna</td>\n",
       "      <td>VIA GIOIA MELCHIORRE num.055a; (z.d. 2)</td>\n",
       "      <td>PZA</td>\n",
       "      <td>QUATTRO NOVEMBRE</td>\n",
       "      <td>6</td>\n",
       "      <td>1199.0</td>\n",
       "      <td>2</td>\n",
       "      <td>2.0</td>\n",
       "      <td>16.0</td>\n",
       "      <td>VIA</td>\n",
       "      <td>GIOIA MELCHIORRE</td>\n",
       "      <td>055A</td>\n",
       "      <td>2</td>\n",
       "    </tr>\n",
       "    <tr>\n",
       "      <th>1774</th>\n",
       "      <td>Parrucchiere per Donna</td>\n",
       "      <td>VIA MONTE ROSA num.019e; (z.d. 6)</td>\n",
       "      <td>PZA</td>\n",
       "      <td>BAZZI GIOVANNI ANTONIO</td>\n",
       "      <td>2</td>\n",
       "      <td>6102.0</td>\n",
       "      <td>6</td>\n",
       "      <td>NaN</td>\n",
       "      <td>NaN</td>\n",
       "      <td>VIA</td>\n",
       "      <td>MONTE ROSA</td>\n",
       "      <td>019E</td>\n",
       "      <td>6</td>\n",
       "    </tr>\n",
       "    <tr>\n",
       "      <th>2220</th>\n",
       "      <td>Parrucchiere per Donna</td>\n",
       "      <td>VLE MONZA num.1773; (z.d. 2)</td>\n",
       "      <td>VIA</td>\n",
       "      <td>OXILIA NINO</td>\n",
       "      <td>11</td>\n",
       "      <td>2287.0</td>\n",
       "      <td>2</td>\n",
       "      <td>NaN</td>\n",
       "      <td>25.0</td>\n",
       "      <td>VLE</td>\n",
       "      <td>MONZA</td>\n",
       "      <td>1773</td>\n",
       "      <td>2</td>\n",
       "    </tr>\n",
       "    <tr>\n",
       "      <th>2222</th>\n",
       "      <td>Parrucchiere per Donna</td>\n",
       "      <td>VLE MONZA num.353; (z.d. 2)</td>\n",
       "      <td>VIA</td>\n",
       "      <td>PADOVA</td>\n",
       "      <td>140</td>\n",
       "      <td>2275.0</td>\n",
       "      <td>2</td>\n",
       "      <td>4.0</td>\n",
       "      <td>10.0</td>\n",
       "      <td>VLE</td>\n",
       "      <td>MONZA</td>\n",
       "      <td>353</td>\n",
       "      <td>2</td>\n",
       "    </tr>\n",
       "    <tr>\n",
       "      <th>2412</th>\n",
       "      <td>Parrucchiere per Uomo</td>\n",
       "      <td>PZA OBERDAN GUGLIELMO num.000; (z.d. 3)</td>\n",
       "      <td>VIA</td>\n",
       "      <td>MALPIGHI MARCELLO</td>\n",
       "      <td>3</td>\n",
       "      <td>2182.0</td>\n",
       "      <td>3</td>\n",
       "      <td>NaN</td>\n",
       "      <td>20.0</td>\n",
       "      <td>PZA</td>\n",
       "      <td>OBERDAN GUGLIELMO</td>\n",
       "      <td>000</td>\n",
       "      <td>3</td>\n",
       "    </tr>\n",
       "    <tr>\n",
       "      <th>2843</th>\n",
       "      <td>Parrucchiere per Donna;Parrucchiere per Uomo</td>\n",
       "      <td>VIA LITTA MODIGNANI ALESSANDRO per rettifica toponomastica num.099c; (z.d. 9)</td>\n",
       "      <td>PZA</td>\n",
       "      <td>SAN GIUSEPPE</td>\n",
       "      <td>8</td>\n",
       "      <td>1442.0</td>\n",
       "      <td>9</td>\n",
       "      <td>NaN</td>\n",
       "      <td>29.0</td>\n",
       "      <td>VIA</td>\n",
       "      <td>LITTA MODIGNANI ALESSANDRO per rettifica toponomastica</td>\n",
       "      <td>099C</td>\n",
       "      <td>9</td>\n",
       "    </tr>\n",
       "    <tr>\n",
       "      <th>3041</th>\n",
       "      <td>Tipo A - Estetica Manuale;Tipo B - Centro di Abbronzatura</td>\n",
       "      <td>VIA GNOCCHI DON CARLO num.033; (z.d. 7)</td>\n",
       "      <td>VLE</td>\n",
       "      <td>SAN MICHELE DEL CARSO</td>\n",
       "      <td>2</td>\n",
       "      <td>6212.0</td>\n",
       "      <td>7</td>\n",
       "      <td>NaN</td>\n",
       "      <td>30.0</td>\n",
       "      <td>VIA</td>\n",
       "      <td>GNOCCHI DON CARLO</td>\n",
       "      <td>033</td>\n",
       "      <td>7</td>\n",
       "    </tr>\n",
       "    <tr>\n",
       "      <th>3113</th>\n",
       "      <td>Tipo C - Trattamenti Estetici Dimagrimento;Tipo A - Estetica Manuale;Tipo B - Centro di Abbronzatura</td>\n",
       "      <td>VLE ROMAGNA num.0562; (z.d. 3)</td>\n",
       "      <td>VIA</td>\n",
       "      <td>PACINI GIOVANNI</td>\n",
       "      <td>22</td>\n",
       "      <td>2571.0</td>\n",
       "      <td>3</td>\n",
       "      <td>2.0</td>\n",
       "      <td>72.0</td>\n",
       "      <td>VLE</td>\n",
       "      <td>ROMAGNA</td>\n",
       "      <td>0562</td>\n",
       "      <td>3</td>\n",
       "    </tr>\n",
       "    <tr>\n",
       "      <th>3274</th>\n",
       "      <td>Tipo A - Estetica Manuale</td>\n",
       "      <td>VIA CHIANCIANO num.0102; (z.d. 9)</td>\n",
       "      <td>VLE</td>\n",
       "      <td>SUZZANI GIOVANNI</td>\n",
       "      <td>12</td>\n",
       "      <td>1446.0</td>\n",
       "      <td>9</td>\n",
       "      <td>NaN</td>\n",
       "      <td>NaN</td>\n",
       "      <td>VIA</td>\n",
       "      <td>CHIANCIANO</td>\n",
       "      <td>0102</td>\n",
       "      <td>9</td>\n",
       "    </tr>\n",
       "    <tr>\n",
       "      <th>3528</th>\n",
       "      <td>Tipo A - Estetica Manuale;Tipo B - Centro di Abbronzatura</td>\n",
       "      <td>CSO GARIBALDI GIUSEPPE p.t. + seminterrato num.03032; (z.d. 1)</td>\n",
       "      <td>VIA</td>\n",
       "      <td>CANONICA LUIGI</td>\n",
       "      <td>13</td>\n",
       "      <td>7121.0</td>\n",
       "      <td>1</td>\n",
       "      <td>NaN</td>\n",
       "      <td>230.0</td>\n",
       "      <td>CSO</td>\n",
       "      <td>GARIBALDI GIUSEPPE p.t. + seminterrato</td>\n",
       "      <td>03032</td>\n",
       "      <td>1</td>\n",
       "    </tr>\n",
       "    <tr>\n",
       "      <th>3533</th>\n",
       "      <td>Tipo A - Estetica Manuale;Tipo B - Centro di Abbronzatura</td>\n",
       "      <td>CSO MAGENTA interno piano rialzato num.083; (z.d. 1)</td>\n",
       "      <td>VIA</td>\n",
       "      <td>S. GIOV. SUL MURO</td>\n",
       "      <td>14</td>\n",
       "      <td>609.0</td>\n",
       "      <td>1</td>\n",
       "      <td>NaN</td>\n",
       "      <td>NaN</td>\n",
       "      <td>CSO</td>\n",
       "      <td>MAGENTA interno piano rialzato</td>\n",
       "      <td>083</td>\n",
       "      <td>1</td>\n",
       "    </tr>\n",
       "    <tr>\n",
       "      <th>3698</th>\n",
       "      <td>Tipo A - Estetica Manuale;Tipo B - Centro di Abbronzatura</td>\n",
       "      <td>VIA PAGANO MARIO piano rialzato num.03739; (z.d. 1)</td>\n",
       "      <td>CSO</td>\n",
       "      <td>VENEZIA</td>\n",
       "      <td>14</td>\n",
       "      <td>238.0</td>\n",
       "      <td>1</td>\n",
       "      <td>NaN</td>\n",
       "      <td>NaN</td>\n",
       "      <td>VIA</td>\n",
       "      <td>PAGANO MARIO piano rialzato</td>\n",
       "      <td>03739</td>\n",
       "      <td>1</td>\n",
       "    </tr>\n",
       "    <tr>\n",
       "      <th>3817</th>\n",
       "      <td>Tipo A - Estetica Manuale;Tipo B - Centro di Abbronzatura</td>\n",
       "      <td>VLE SABOTINO num.021a; (z.d. 5)</td>\n",
       "      <td>VIA</td>\n",
       "      <td>LAGRANGE GIUSEPPE</td>\n",
       "      <td>13</td>\n",
       "      <td>5205.0</td>\n",
       "      <td>5</td>\n",
       "      <td>NaN</td>\n",
       "      <td>42.0</td>\n",
       "      <td>VLE</td>\n",
       "      <td>SABOTINO</td>\n",
       "      <td>021A</td>\n",
       "      <td>5</td>\n",
       "    </tr>\n",
       "  </tbody>\n",
       "</table>\n",
       "</div>"
      ],
      "text/plain": [
       "                                                                                                      t_es  \\\n",
       "209                                                                                           Acconciatore   \n",
       "242                                                                                           Acconciatore   \n",
       "650                                                                                           Acconciatore   \n",
       "743                                                                                           Acconciatore   \n",
       "744                                                                                           Acconciatore   \n",
       "807                                                                 Tipo A - Estetica Manuale;Acconciatore   \n",
       "1202                                                          Parrucchiere per Donna;Parrucchiere per Uomo   \n",
       "1632                                                                                Parrucchiere per Donna   \n",
       "1774                                                                                Parrucchiere per Donna   \n",
       "2220                                                                                Parrucchiere per Donna   \n",
       "2222                                                                                Parrucchiere per Donna   \n",
       "2412                                                                                 Parrucchiere per Uomo   \n",
       "2843                                                          Parrucchiere per Donna;Parrucchiere per Uomo   \n",
       "3041                                             Tipo A - Estetica Manuale;Tipo B - Centro di Abbronzatura   \n",
       "3113  Tipo C - Trattamenti Estetici Dimagrimento;Tipo A - Estetica Manuale;Tipo B - Centro di Abbronzatura   \n",
       "3274                                                                             Tipo A - Estetica Manuale   \n",
       "3528                                             Tipo A - Estetica Manuale;Tipo B - Centro di Abbronzatura   \n",
       "3533                                             Tipo A - Estetica Manuale;Tipo B - Centro di Abbronzatura   \n",
       "3698                                             Tipo A - Estetica Manuale;Tipo B - Centro di Abbronzatura   \n",
       "3817                                             Tipo A - Estetica Manuale;Tipo B - Centro di Abbronzatura   \n",
       "\n",
       "                                                                               ubic  \\\n",
       "209                                                   codvia 4386 num.008; (z.d. 4)   \n",
       "242                                         mm1 duomo codvia 9112 num.000; (z.d. 1)   \n",
       "650                                            VIA SOLARI ANDREA num.002a; (z.d. 6)   \n",
       "743          VLE FORLANINI ENRICO con ingr. da p.zza artigianato num.0509; (z.d. 4)   \n",
       "744                                         VLE FORLANINI ENRICO num.0505; (z.d. 4)   \n",
       "807                                       CSO GARIBALDI GIUSEPPE num.051a; (z.d. 1)   \n",
       "1202                                               VLE TEODORICO num.0192; (z.d. 8)   \n",
       "1632                                        VIA GIOIA MELCHIORRE num.055a; (z.d. 2)   \n",
       "1774                                              VIA MONTE ROSA num.019e; (z.d. 6)   \n",
       "2220                                                   VLE MONZA num.1773; (z.d. 2)   \n",
       "2222                                                    VLE MONZA num.353; (z.d. 2)   \n",
       "2412                                        PZA OBERDAN GUGLIELMO num.000; (z.d. 3)   \n",
       "2843  VIA LITTA MODIGNANI ALESSANDRO per rettifica toponomastica num.099c; (z.d. 9)   \n",
       "3041                                        VIA GNOCCHI DON CARLO num.033; (z.d. 7)   \n",
       "3113                                                 VLE ROMAGNA num.0562; (z.d. 3)   \n",
       "3274                                              VIA CHIANCIANO num.0102; (z.d. 9)   \n",
       "3528                 CSO GARIBALDI GIUSEPPE p.t. + seminterrato num.03032; (z.d. 1)   \n",
       "3533                           CSO MAGENTA interno piano rialzato num.083; (z.d. 1)   \n",
       "3698                            VIA PAGANO MARIO piano rialzato num.03739; (z.d. 1)   \n",
       "3817                                                VLE SABOTINO num.021a; (z.d. 5)   \n",
       "\n",
       "     t_via                     via  civ cod_via  zd  sup_alt  sup_lav  \\\n",
       "209    CSO                    LODI   72  4068.0   4      NaN     50.0   \n",
       "242    CSO                SEMPIONE   10  7137.0   1      NaN      NaN   \n",
       "650    PZA         FRATTINI PIETRO   19  5389.0   6      NaN      NaN   \n",
       "743    VIA                  MINCIO    3  4157.0   4      NaN      NaN   \n",
       "744    VIA             TAGLIAMENTO   19  4147.0   4      NaN     48.0   \n",
       "807    VLE        CRISPI FRANCESCO    9  1063.0   1      1.0     21.0   \n",
       "1202   VIA       RUGGERO DI LAURIA   20  7163.0   8      NaN     54.0   \n",
       "1632   PZA        QUATTRO NOVEMBRE    6  1199.0   2      2.0     16.0   \n",
       "1774   PZA  BAZZI GIOVANNI ANTONIO    2  6102.0   6      NaN      NaN   \n",
       "2220   VIA             OXILIA NINO   11  2287.0   2      NaN     25.0   \n",
       "2222   VIA                  PADOVA  140  2275.0   2      4.0     10.0   \n",
       "2412   VIA       MALPIGHI MARCELLO    3  2182.0   3      NaN     20.0   \n",
       "2843   PZA            SAN GIUSEPPE    8  1442.0   9      NaN     29.0   \n",
       "3041   VLE   SAN MICHELE DEL CARSO    2  6212.0   7      NaN     30.0   \n",
       "3113   VIA         PACINI GIOVANNI   22  2571.0   3      2.0     72.0   \n",
       "3274   VLE        SUZZANI GIOVANNI   12  1446.0   9      NaN      NaN   \n",
       "3528   VIA          CANONICA LUIGI   13  7121.0   1      NaN    230.0   \n",
       "3533   VIA       S. GIOV. SUL MURO   14   609.0   1      NaN      NaN   \n",
       "3698   CSO                 VENEZIA   14   238.0   1      NaN      NaN   \n",
       "3817   VIA       LAGRANGE GIUSEPPE   13  5205.0   5      NaN     42.0   \n",
       "\n",
       "     ubic_t_via                                                ubic_via  \\\n",
       "209      codvia                                                    4386   \n",
       "242         mm1                                       duomo codvia 9112   \n",
       "650         VIA                                           SOLARI ANDREA   \n",
       "743         VLE         FORLANINI ENRICO con ingr. da p.zza artigianato   \n",
       "744         VLE                                        FORLANINI ENRICO   \n",
       "807         CSO                                      GARIBALDI GIUSEPPE   \n",
       "1202        VLE                                               TEODORICO   \n",
       "1632        VIA                                        GIOIA MELCHIORRE   \n",
       "1774        VIA                                              MONTE ROSA   \n",
       "2220        VLE                                                   MONZA   \n",
       "2222        VLE                                                   MONZA   \n",
       "2412        PZA                                       OBERDAN GUGLIELMO   \n",
       "2843        VIA  LITTA MODIGNANI ALESSANDRO per rettifica toponomastica   \n",
       "3041        VIA                                       GNOCCHI DON CARLO   \n",
       "3113        VLE                                                 ROMAGNA   \n",
       "3274        VIA                                              CHIANCIANO   \n",
       "3528        CSO                  GARIBALDI GIUSEPPE p.t. + seminterrato   \n",
       "3533        CSO                          MAGENTA interno piano rialzato   \n",
       "3698        VIA                             PAGANO MARIO piano rialzato   \n",
       "3817        VLE                                                SABOTINO   \n",
       "\n",
       "     ubic_civ ubic_zd  \n",
       "209       008       4  \n",
       "242       000       1  \n",
       "650      002A       6  \n",
       "743      0509       4  \n",
       "744      0505       4  \n",
       "807      051A       1  \n",
       "1202     0192       8  \n",
       "1632     055A       2  \n",
       "1774     019E       6  \n",
       "2220     1773       2  \n",
       "2222      353       2  \n",
       "2412      000       3  \n",
       "2843     099C       9  \n",
       "3041      033       7  \n",
       "3113     0562       3  \n",
       "3274     0102       9  \n",
       "3528    03032       1  \n",
       "3533      083       1  \n",
       "3698    03739       1  \n",
       "3817     021A       5  "
      ]
     },
     "execution_count": 31,
     "metadata": {},
     "output_type": "execute_result"
    }
   ],
   "source": [
    "prova[prova[\"t_via\"] != prova[\"ubic_t_via\"]]"
   ]
  },
  {
   "cell_type": "code",
   "execution_count": 32,
   "id": "21c7ed56",
   "metadata": {
    "execution": {
     "iopub.execute_input": "2025-01-14T01:11:19.609783Z",
     "iopub.status.busy": "2025-01-14T01:11:19.609397Z",
     "iopub.status.idle": "2025-01-14T01:11:19.627773Z",
     "shell.execute_reply": "2025-01-14T01:11:19.626713Z"
    },
    "papermill": {
     "duration": 0.032984,
     "end_time": "2025-01-14T01:11:19.629475",
     "exception": false,
     "start_time": "2025-01-14T01:11:19.596491",
     "status": "completed"
    },
    "tags": []
   },
   "outputs": [
    {
     "name": "stdout",
     "output_type": "stream",
     "text": [
      "Number of rows where any of the specified columns are different: 167\n"
     ]
    }
   ],
   "source": [
    "# Ensure the relevant columns are strings and handle any missing values (if necessary)\n",
    "prova[['t_via', 'ubic_t_via', 'via', 'ubic_via', 'civ', 'ubic_civ', 'zd', 'ubic_zd']] = prova[['t_via', 'ubic_t_via', 'via', 'ubic_via', 'civ', 'ubic_civ', 'zd', 'ubic_zd']].fillna('').astype(str)\n",
    "\n",
    "# Create conditions to check if the columns are different\n",
    "conditions = (\n",
    "    (prova['t_via'] != prova['ubic_t_via']) |\n",
    "    (prova['via'] != prova['ubic_via']) |\n",
    "    (prova['civ'] != prova['ubic_civ']) |\n",
    "    (prova['zd'] != prova['ubic_zd'])\n",
    ")\n",
    "\n",
    "# Count how many rows satisfy any of the conditions\n",
    "count_differences = conditions.sum()\n",
    "\n",
    "print(f\"Number of rows where any of the specified columns are different: {count_differences}\")"
   ]
  },
  {
   "cell_type": "code",
   "execution_count": 33,
   "id": "334da574",
   "metadata": {
    "execution": {
     "iopub.execute_input": "2025-01-14T01:11:19.656051Z",
     "iopub.status.busy": "2025-01-14T01:11:19.655665Z",
     "iopub.status.idle": "2025-01-14T01:11:19.669014Z",
     "shell.execute_reply": "2025-01-14T01:11:19.667997Z"
    },
    "papermill": {
     "duration": 0.02871,
     "end_time": "2025-01-14T01:11:19.670904",
     "exception": false,
     "start_time": "2025-01-14T01:11:19.642194",
     "status": "completed"
    },
    "tags": []
   },
   "outputs": [],
   "source": [
    "prova[(prova['t_via'] != prova['ubic_t_via']) |\n",
    "    (prova['via'] != prova['ubic_via']) |\n",
    "    (prova['civ'] != prova['ubic_civ']) |\n",
    "    (prova['zd'] != prova['ubic_zd'])].to_csv(\"prova_1.csv\")"
   ]
  },
  {
   "cell_type": "code",
   "execution_count": 34,
   "id": "b8054dff",
   "metadata": {
    "execution": {
     "iopub.execute_input": "2025-01-14T01:11:19.696417Z",
     "iopub.status.busy": "2025-01-14T01:11:19.696082Z",
     "iopub.status.idle": "2025-01-14T01:11:19.701714Z",
     "shell.execute_reply": "2025-01-14T01:11:19.700711Z"
    },
    "papermill": {
     "duration": 0.020416,
     "end_time": "2025-01-14T01:11:19.703562",
     "exception": false,
     "start_time": "2025-01-14T01:11:19.683146",
     "status": "completed"
    },
    "tags": []
   },
   "outputs": [
    {
     "data": {
      "text/plain": [
       "Index(['t_es', 'ubic', 't_via', 'via', 'civ', 'cod_via', 'zd', 'sup_alt',\n",
       "       'sup_lav', 'ubic_t_via', 'ubic_via', 'ubic_civ', 'ubic_zd'],\n",
       "      dtype='object')"
      ]
     },
     "execution_count": 34,
     "metadata": {},
     "output_type": "execute_result"
    }
   ],
   "source": [
    "new_SERVICES.columns"
   ]
  },
  {
   "cell_type": "code",
   "execution_count": 35,
   "id": "15713de6",
   "metadata": {
    "execution": {
     "iopub.execute_input": "2025-01-14T01:11:19.729522Z",
     "iopub.status.busy": "2025-01-14T01:11:19.729171Z",
     "iopub.status.idle": "2025-01-14T01:11:19.736161Z",
     "shell.execute_reply": "2025-01-14T01:11:19.734949Z"
    },
    "papermill": {
     "duration": 0.021724,
     "end_time": "2025-01-14T01:11:19.737832",
     "exception": false,
     "start_time": "2025-01-14T01:11:19.716108",
     "status": "completed"
    },
    "tags": []
   },
   "outputs": [
    {
     "data": {
      "text/plain": [
       "array(['10', '3', '9', '12', '13', '39', '25', '6', '20', '30', '2', '67',\n",
       "       '16', '111', '36', '83', '5', '22', '23', '1', '4', '91', '8',\n",
       "       '19', '38', nan, '1111', '46', '54', '65', '103', '40', '29', '32',\n",
       "       '7', '17', '27', '12A', '48', '61', '47', '15', '232', '234', '57',\n",
       "       '75', '34', '150', '71', '55', '21', '6A', '163', '90', '14', '53',\n",
       "       '70', '119F', '26', '24', '40945', '128', '3B', '41', '64', '68',\n",
       "       '35', '49', '42', '99', '52', '72', '117', '79', '96', '58', '81',\n",
       "       '112', '93/1', '87', '63', '18', '123', '31', '33', '11', '242',\n",
       "       '46D', '28', '80', '98', '59', '37', '43', '60', '50', '44', '246',\n",
       "       '326', '407', '410', '51', '110', '130', '131', '157', '174', '62',\n",
       "       '107', '73', '139', '147', '168', '213', '255', '279', '45', '77',\n",
       "       '4A', '187', '89', '207', '227', '244', '56', '100', '104', '74',\n",
       "       '66', '92', '108', '121', '76', '233', '249', '256', '267', '270',\n",
       "       '82', '116', '236', '69', '178', '143', '113', '129', '120', '154',\n",
       "       '235', '3A', '195', '5A', '243', '105', '179', '22A', '127', '333',\n",
       "       '124', '84', '102', '94', '8A', '85', '172', '158', '376', '220',\n",
       "       '101', '149', '169', '93', '141', '181', '201', '142', '182',\n",
       "       '186', '217', '288', '310', '126', '167', '184', '190', '193',\n",
       "       '218', '219', '86', '115', '273', '277', '309', '325', '78', '140',\n",
       "       '155', '283', '196', '175', '106', '109', '165', '328', '95',\n",
       "       '151', '191', '212', '114', '173', '177', '118', '145', '290',\n",
       "       '208', '324', '146', '2A', '1A', '197', '395', '135', '55B', '40A',\n",
       "       '133', '276', '180', '185', '261', '97', '11A', '260', '214',\n",
       "       '198', '265', '336'], dtype=object)"
      ]
     },
     "execution_count": 35,
     "metadata": {},
     "output_type": "execute_result"
    }
   ],
   "source": [
    "SERVICES.civ.unique()"
   ]
  }
 ],
 "metadata": {
  "kaggle": {
   "accelerator": "none",
   "dataSources": [],
   "dockerImageVersionId": 30822,
   "isGpuEnabled": false,
   "isInternetEnabled": true,
   "language": "python",
   "sourceType": "notebook"
  },
  "kernelspec": {
   "display_name": "Python 3",
   "language": "python",
   "name": "python3"
  },
  "language_info": {
   "codemirror_mode": {
    "name": "ipython",
    "version": 3
   },
   "file_extension": ".py",
   "mimetype": "text/x-python",
   "name": "python",
   "nbconvert_exporter": "python",
   "pygments_lexer": "ipython3",
   "version": "3.10.12"
  },
  "papermill": {
   "default_parameters": {},
   "duration": 7.200414,
   "end_time": "2025-01-14T01:11:20.270016",
   "environment_variables": {},
   "exception": null,
   "input_path": "__notebook__.ipynb",
   "output_path": "__notebook__.ipynb",
   "parameters": {},
   "start_time": "2025-01-14T01:11:13.069602",
   "version": "2.6.0"
  }
 },
 "nbformat": 4,
 "nbformat_minor": 5
}
